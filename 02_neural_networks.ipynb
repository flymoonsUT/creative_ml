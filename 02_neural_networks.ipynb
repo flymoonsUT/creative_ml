{
 "cells": [
  {
   "cell_type": "markdown",
   "metadata": {},
   "source": [
    "# Creative machine learning - Neural networks\n",
    "\n",
    "### Author: Philippe Esling (esling@ircam.fr)\n",
    "\n",
    "In this course we will cover\n",
    "1. A [quick introduction](#intro) on the principles of neural networks\n",
    "2. An implementation for a [single neuron](#neuron) in Numpy and JAX.\n",
    "3. An exercise on [multi-layer perceptron (MLP)](#mlp) through manual derivation.\n",
    "4. An introduction on [using Pytorch](#pytorch) for defining networks\n",
    "5. An exercise on [audio classification](#audio) using an MLP with Pytorch."
   ]
  },
  {
   "cell_type": "markdown",
   "metadata": {},
   "source": [
    "<a id=\"intro\"></a>\n",
    "# Introducing neural networks"
   ]
  },
  {
   "cell_type": "markdown",
   "metadata": {},
   "source": [
    "In this tutorial, we will cover more advanced models known as *neural networks*. The tutorial starts by performing a simple **single neuron** discrimination of two random distributions. We will exhibit the manual implementation using Numpy, and then simplify it with JAX. Then, we will study the typical **XOR problem** by using a more advanced 2-layer **perceptron**. Finally, we generalize the use of neural networks in order to perform classification on a given set of audio files, using the PyTorch library, which will provide simplified implementation."
   ]
  },
  {
   "cell_type": "markdown",
   "metadata": {},
   "source": [
    "We are going to use relatively _low-level_ libraries to perform the first exercises (implementing your own neurons). To observe this idea in simple setups, we are going to use the `numpy` library and also initialize the homemade course library `cml` and style for future plotting and exercise. We also set the random generator to a fixed point with `rng = np.random.RandomState(1)`, to ensure reproducibility"
   ]
  },
  {
   "cell_type": "code",
   "execution_count": 1,
   "metadata": {
    "tags": []
   },
   "outputs": [
    {
     "name": "stderr",
     "output_type": "stream",
     "text": [
      "2023-04-20 15:26:50.373778: I tensorflow/core/platform/cpu_feature_guard.cc:182] This TensorFlow binary is optimized to use available CPU instructions in performance-critical operations.\n",
      "To enable the following instructions: AVX2 FMA, in other operations, rebuild TensorFlow with the appropriate compiler flags.\n"
     ]
    },
    {
     "data": {
      "text/html": [
       "<div class=\"bk-root\">\n",
       "        <a href=\"https://bokeh.org\" target=\"_blank\" class=\"bk-logo bk-logo-small bk-logo-notebook\"></a>\n",
       "        <span id=\"1002\">Loading BokehJS ...</span>\n",
       "    </div>\n"
      ]
     },
     "metadata": {},
     "output_type": "display_data"
    },
    {
     "data": {
      "application/javascript": [
       "(function(root) {\n",
       "  function now() {\n",
       "    return new Date();\n",
       "  }\n",
       "\n",
       "  const force = true;\n",
       "\n",
       "  if (typeof root._bokeh_onload_callbacks === \"undefined\" || force === true) {\n",
       "    root._bokeh_onload_callbacks = [];\n",
       "    root._bokeh_is_loading = undefined;\n",
       "  }\n",
       "\n",
       "const JS_MIME_TYPE = 'application/javascript';\n",
       "  const HTML_MIME_TYPE = 'text/html';\n",
       "  const EXEC_MIME_TYPE = 'application/vnd.bokehjs_exec.v0+json';\n",
       "  const CLASS_NAME = 'output_bokeh rendered_html';\n",
       "\n",
       "  /**\n",
       "   * Render data to the DOM node\n",
       "   */\n",
       "  function render(props, node) {\n",
       "    const script = document.createElement(\"script\");\n",
       "    node.appendChild(script);\n",
       "  }\n",
       "\n",
       "  /**\n",
       "   * Handle when an output is cleared or removed\n",
       "   */\n",
       "  function handleClearOutput(event, handle) {\n",
       "    const cell = handle.cell;\n",
       "\n",
       "    const id = cell.output_area._bokeh_element_id;\n",
       "    const server_id = cell.output_area._bokeh_server_id;\n",
       "    // Clean up Bokeh references\n",
       "    if (id != null && id in Bokeh.index) {\n",
       "      Bokeh.index[id].model.document.clear();\n",
       "      delete Bokeh.index[id];\n",
       "    }\n",
       "\n",
       "    if (server_id !== undefined) {\n",
       "      // Clean up Bokeh references\n",
       "      const cmd_clean = \"from bokeh.io.state import curstate; print(curstate().uuid_to_server['\" + server_id + \"'].get_sessions()[0].document.roots[0]._id)\";\n",
       "      cell.notebook.kernel.execute(cmd_clean, {\n",
       "        iopub: {\n",
       "          output: function(msg) {\n",
       "            const id = msg.content.text.trim();\n",
       "            if (id in Bokeh.index) {\n",
       "              Bokeh.index[id].model.document.clear();\n",
       "              delete Bokeh.index[id];\n",
       "            }\n",
       "          }\n",
       "        }\n",
       "      });\n",
       "      // Destroy server and session\n",
       "      const cmd_destroy = \"import bokeh.io.notebook as ion; ion.destroy_server('\" + server_id + \"')\";\n",
       "      cell.notebook.kernel.execute(cmd_destroy);\n",
       "    }\n",
       "  }\n",
       "\n",
       "  /**\n",
       "   * Handle when a new output is added\n",
       "   */\n",
       "  function handleAddOutput(event, handle) {\n",
       "    const output_area = handle.output_area;\n",
       "    const output = handle.output;\n",
       "\n",
       "    // limit handleAddOutput to display_data with EXEC_MIME_TYPE content only\n",
       "    if ((output.output_type != \"display_data\") || (!Object.prototype.hasOwnProperty.call(output.data, EXEC_MIME_TYPE))) {\n",
       "      return\n",
       "    }\n",
       "\n",
       "    const toinsert = output_area.element.find(\".\" + CLASS_NAME.split(' ')[0]);\n",
       "\n",
       "    if (output.metadata[EXEC_MIME_TYPE][\"id\"] !== undefined) {\n",
       "      toinsert[toinsert.length - 1].firstChild.textContent = output.data[JS_MIME_TYPE];\n",
       "      // store reference to embed id on output_area\n",
       "      output_area._bokeh_element_id = output.metadata[EXEC_MIME_TYPE][\"id\"];\n",
       "    }\n",
       "    if (output.metadata[EXEC_MIME_TYPE][\"server_id\"] !== undefined) {\n",
       "      const bk_div = document.createElement(\"div\");\n",
       "      bk_div.innerHTML = output.data[HTML_MIME_TYPE];\n",
       "      const script_attrs = bk_div.children[0].attributes;\n",
       "      for (let i = 0; i < script_attrs.length; i++) {\n",
       "        toinsert[toinsert.length - 1].firstChild.setAttribute(script_attrs[i].name, script_attrs[i].value);\n",
       "        toinsert[toinsert.length - 1].firstChild.textContent = bk_div.children[0].textContent\n",
       "      }\n",
       "      // store reference to server id on output_area\n",
       "      output_area._bokeh_server_id = output.metadata[EXEC_MIME_TYPE][\"server_id\"];\n",
       "    }\n",
       "  }\n",
       "\n",
       "  function register_renderer(events, OutputArea) {\n",
       "\n",
       "    function append_mime(data, metadata, element) {\n",
       "      // create a DOM node to render to\n",
       "      const toinsert = this.create_output_subarea(\n",
       "        metadata,\n",
       "        CLASS_NAME,\n",
       "        EXEC_MIME_TYPE\n",
       "      );\n",
       "      this.keyboard_manager.register_events(toinsert);\n",
       "      // Render to node\n",
       "      const props = {data: data, metadata: metadata[EXEC_MIME_TYPE]};\n",
       "      render(props, toinsert[toinsert.length - 1]);\n",
       "      element.append(toinsert);\n",
       "      return toinsert\n",
       "    }\n",
       "\n",
       "    /* Handle when an output is cleared or removed */\n",
       "    events.on('clear_output.CodeCell', handleClearOutput);\n",
       "    events.on('delete.Cell', handleClearOutput);\n",
       "\n",
       "    /* Handle when a new output is added */\n",
       "    events.on('output_added.OutputArea', handleAddOutput);\n",
       "\n",
       "    /**\n",
       "     * Register the mime type and append_mime function with output_area\n",
       "     */\n",
       "    OutputArea.prototype.register_mime_type(EXEC_MIME_TYPE, append_mime, {\n",
       "      /* Is output safe? */\n",
       "      safe: true,\n",
       "      /* Index of renderer in `output_area.display_order` */\n",
       "      index: 0\n",
       "    });\n",
       "  }\n",
       "\n",
       "  // register the mime type if in Jupyter Notebook environment and previously unregistered\n",
       "  if (root.Jupyter !== undefined) {\n",
       "    const events = require('base/js/events');\n",
       "    const OutputArea = require('notebook/js/outputarea').OutputArea;\n",
       "\n",
       "    if (OutputArea.prototype.mime_types().indexOf(EXEC_MIME_TYPE) == -1) {\n",
       "      register_renderer(events, OutputArea);\n",
       "    }\n",
       "  }\n",
       "  if (typeof (root._bokeh_timeout) === \"undefined\" || force === true) {\n",
       "    root._bokeh_timeout = Date.now() + 5000;\n",
       "    root._bokeh_failed_load = false;\n",
       "  }\n",
       "\n",
       "  const NB_LOAD_WARNING = {'data': {'text/html':\n",
       "     \"<div style='background-color: #fdd'>\\n\"+\n",
       "     \"<p>\\n\"+\n",
       "     \"BokehJS does not appear to have successfully loaded. If loading BokehJS from CDN, this \\n\"+\n",
       "     \"may be due to a slow or bad network connection. Possible fixes:\\n\"+\n",
       "     \"</p>\\n\"+\n",
       "     \"<ul>\\n\"+\n",
       "     \"<li>re-rerun `output_notebook()` to attempt to load from CDN again, or</li>\\n\"+\n",
       "     \"<li>use INLINE resources instead, as so:</li>\\n\"+\n",
       "     \"</ul>\\n\"+\n",
       "     \"<code>\\n\"+\n",
       "     \"from bokeh.resources import INLINE\\n\"+\n",
       "     \"output_notebook(resources=INLINE)\\n\"+\n",
       "     \"</code>\\n\"+\n",
       "     \"</div>\"}};\n",
       "\n",
       "  function display_loaded() {\n",
       "    const el = document.getElementById(\"1002\");\n",
       "    if (el != null) {\n",
       "      el.textContent = \"BokehJS is loading...\";\n",
       "    }\n",
       "    if (root.Bokeh !== undefined) {\n",
       "      if (el != null) {\n",
       "        el.textContent = \"BokehJS \" + root.Bokeh.version + \" successfully loaded.\";\n",
       "      }\n",
       "    } else if (Date.now() < root._bokeh_timeout) {\n",
       "      setTimeout(display_loaded, 100)\n",
       "    }\n",
       "  }\n",
       "\n",
       "  function run_callbacks() {\n",
       "    try {\n",
       "      root._bokeh_onload_callbacks.forEach(function(callback) {\n",
       "        if (callback != null)\n",
       "          callback();\n",
       "      });\n",
       "    } finally {\n",
       "      delete root._bokeh_onload_callbacks\n",
       "    }\n",
       "    console.debug(\"Bokeh: all callbacks have finished\");\n",
       "  }\n",
       "\n",
       "  function load_libs(css_urls, js_urls, callback) {\n",
       "    if (css_urls == null) css_urls = [];\n",
       "    if (js_urls == null) js_urls = [];\n",
       "\n",
       "    root._bokeh_onload_callbacks.push(callback);\n",
       "    if (root._bokeh_is_loading > 0) {\n",
       "      console.debug(\"Bokeh: BokehJS is being loaded, scheduling callback at\", now());\n",
       "      return null;\n",
       "    }\n",
       "    if (js_urls == null || js_urls.length === 0) {\n",
       "      run_callbacks();\n",
       "      return null;\n",
       "    }\n",
       "    console.debug(\"Bokeh: BokehJS not loaded, scheduling load and callback at\", now());\n",
       "    root._bokeh_is_loading = css_urls.length + js_urls.length;\n",
       "\n",
       "    function on_load() {\n",
       "      root._bokeh_is_loading--;\n",
       "      if (root._bokeh_is_loading === 0) {\n",
       "        console.debug(\"Bokeh: all BokehJS libraries/stylesheets loaded\");\n",
       "        run_callbacks()\n",
       "      }\n",
       "    }\n",
       "\n",
       "    function on_error(url) {\n",
       "      console.error(\"failed to load \" + url);\n",
       "    }\n",
       "\n",
       "    for (let i = 0; i < css_urls.length; i++) {\n",
       "      const url = css_urls[i];\n",
       "      const element = document.createElement(\"link\");\n",
       "      element.onload = on_load;\n",
       "      element.onerror = on_error.bind(null, url);\n",
       "      element.rel = \"stylesheet\";\n",
       "      element.type = \"text/css\";\n",
       "      element.href = url;\n",
       "      console.debug(\"Bokeh: injecting link tag for BokehJS stylesheet: \", url);\n",
       "      document.body.appendChild(element);\n",
       "    }\n",
       "\n",
       "    for (let i = 0; i < js_urls.length; i++) {\n",
       "      const url = js_urls[i];\n",
       "      const element = document.createElement('script');\n",
       "      element.onload = on_load;\n",
       "      element.onerror = on_error.bind(null, url);\n",
       "      element.async = false;\n",
       "      element.src = url;\n",
       "      console.debug(\"Bokeh: injecting script tag for BokehJS library: \", url);\n",
       "      document.head.appendChild(element);\n",
       "    }\n",
       "  };\n",
       "\n",
       "  function inject_raw_css(css) {\n",
       "    const element = document.createElement(\"style\");\n",
       "    element.appendChild(document.createTextNode(css));\n",
       "    document.body.appendChild(element);\n",
       "  }\n",
       "\n",
       "  const js_urls = [\"https://cdn.bokeh.org/bokeh/release/bokeh-2.4.3.min.js\", \"https://cdn.bokeh.org/bokeh/release/bokeh-gl-2.4.3.min.js\", \"https://cdn.bokeh.org/bokeh/release/bokeh-widgets-2.4.3.min.js\", \"https://cdn.bokeh.org/bokeh/release/bokeh-tables-2.4.3.min.js\", \"https://cdn.bokeh.org/bokeh/release/bokeh-mathjax-2.4.3.min.js\", \"https://unpkg.com/@holoviz/panel@0.14.4/dist/panel.min.js\"];\n",
       "  const css_urls = [];\n",
       "\n",
       "  const inline_js = [    function(Bokeh) {\n",
       "      Bokeh.set_log_level(\"info\");\n",
       "    },\n",
       "function(Bokeh) {\n",
       "    }\n",
       "  ];\n",
       "\n",
       "  function run_inline_js() {\n",
       "    if (root.Bokeh !== undefined || force === true) {\n",
       "          for (let i = 0; i < inline_js.length; i++) {\n",
       "      inline_js[i].call(root, root.Bokeh);\n",
       "    }\n",
       "if (force === true) {\n",
       "        display_loaded();\n",
       "      }} else if (Date.now() < root._bokeh_timeout) {\n",
       "      setTimeout(run_inline_js, 100);\n",
       "    } else if (!root._bokeh_failed_load) {\n",
       "      console.log(\"Bokeh: BokehJS failed to load within specified timeout.\");\n",
       "      root._bokeh_failed_load = true;\n",
       "    } else if (force !== true) {\n",
       "      const cell = $(document.getElementById(\"1002\")).parents('.cell').data().cell;\n",
       "      cell.output_area.append_execute_result(NB_LOAD_WARNING)\n",
       "    }\n",
       "  }\n",
       "\n",
       "  if (root._bokeh_is_loading === 0) {\n",
       "    console.debug(\"Bokeh: BokehJS loaded, going straight to plotting\");\n",
       "    run_inline_js();\n",
       "  } else {\n",
       "    load_libs(css_urls, js_urls, function() {\n",
       "      console.debug(\"Bokeh: BokehJS plotting callback run at\", now());\n",
       "      run_inline_js();\n",
       "    });\n",
       "  }\n",
       "}(window));"
      ],
      "application/vnd.bokehjs_load.v0+json": "(function(root) {\n  function now() {\n    return new Date();\n  }\n\n  const force = true;\n\n  if (typeof root._bokeh_onload_callbacks === \"undefined\" || force === true) {\n    root._bokeh_onload_callbacks = [];\n    root._bokeh_is_loading = undefined;\n  }\n\n\n  if (typeof (root._bokeh_timeout) === \"undefined\" || force === true) {\n    root._bokeh_timeout = Date.now() + 5000;\n    root._bokeh_failed_load = false;\n  }\n\n  const NB_LOAD_WARNING = {'data': {'text/html':\n     \"<div style='background-color: #fdd'>\\n\"+\n     \"<p>\\n\"+\n     \"BokehJS does not appear to have successfully loaded. If loading BokehJS from CDN, this \\n\"+\n     \"may be due to a slow or bad network connection. Possible fixes:\\n\"+\n     \"</p>\\n\"+\n     \"<ul>\\n\"+\n     \"<li>re-rerun `output_notebook()` to attempt to load from CDN again, or</li>\\n\"+\n     \"<li>use INLINE resources instead, as so:</li>\\n\"+\n     \"</ul>\\n\"+\n     \"<code>\\n\"+\n     \"from bokeh.resources import INLINE\\n\"+\n     \"output_notebook(resources=INLINE)\\n\"+\n     \"</code>\\n\"+\n     \"</div>\"}};\n\n  function display_loaded() {\n    const el = document.getElementById(\"1002\");\n    if (el != null) {\n      el.textContent = \"BokehJS is loading...\";\n    }\n    if (root.Bokeh !== undefined) {\n      if (el != null) {\n        el.textContent = \"BokehJS \" + root.Bokeh.version + \" successfully loaded.\";\n      }\n    } else if (Date.now() < root._bokeh_timeout) {\n      setTimeout(display_loaded, 100)\n    }\n  }\n\n  function run_callbacks() {\n    try {\n      root._bokeh_onload_callbacks.forEach(function(callback) {\n        if (callback != null)\n          callback();\n      });\n    } finally {\n      delete root._bokeh_onload_callbacks\n    }\n    console.debug(\"Bokeh: all callbacks have finished\");\n  }\n\n  function load_libs(css_urls, js_urls, callback) {\n    if (css_urls == null) css_urls = [];\n    if (js_urls == null) js_urls = [];\n\n    root._bokeh_onload_callbacks.push(callback);\n    if (root._bokeh_is_loading > 0) {\n      console.debug(\"Bokeh: BokehJS is being loaded, scheduling callback at\", now());\n      return null;\n    }\n    if (js_urls == null || js_urls.length === 0) {\n      run_callbacks();\n      return null;\n    }\n    console.debug(\"Bokeh: BokehJS not loaded, scheduling load and callback at\", now());\n    root._bokeh_is_loading = css_urls.length + js_urls.length;\n\n    function on_load() {\n      root._bokeh_is_loading--;\n      if (root._bokeh_is_loading === 0) {\n        console.debug(\"Bokeh: all BokehJS libraries/stylesheets loaded\");\n        run_callbacks()\n      }\n    }\n\n    function on_error(url) {\n      console.error(\"failed to load \" + url);\n    }\n\n    for (let i = 0; i < css_urls.length; i++) {\n      const url = css_urls[i];\n      const element = document.createElement(\"link\");\n      element.onload = on_load;\n      element.onerror = on_error.bind(null, url);\n      element.rel = \"stylesheet\";\n      element.type = \"text/css\";\n      element.href = url;\n      console.debug(\"Bokeh: injecting link tag for BokehJS stylesheet: \", url);\n      document.body.appendChild(element);\n    }\n\n    for (let i = 0; i < js_urls.length; i++) {\n      const url = js_urls[i];\n      const element = document.createElement('script');\n      element.onload = on_load;\n      element.onerror = on_error.bind(null, url);\n      element.async = false;\n      element.src = url;\n      console.debug(\"Bokeh: injecting script tag for BokehJS library: \", url);\n      document.head.appendChild(element);\n    }\n  };\n\n  function inject_raw_css(css) {\n    const element = document.createElement(\"style\");\n    element.appendChild(document.createTextNode(css));\n    document.body.appendChild(element);\n  }\n\n  const js_urls = [\"https://cdn.bokeh.org/bokeh/release/bokeh-2.4.3.min.js\", \"https://cdn.bokeh.org/bokeh/release/bokeh-gl-2.4.3.min.js\", \"https://cdn.bokeh.org/bokeh/release/bokeh-widgets-2.4.3.min.js\", \"https://cdn.bokeh.org/bokeh/release/bokeh-tables-2.4.3.min.js\", \"https://cdn.bokeh.org/bokeh/release/bokeh-mathjax-2.4.3.min.js\", \"https://unpkg.com/@holoviz/panel@0.14.4/dist/panel.min.js\"];\n  const css_urls = [];\n\n  const inline_js = [    function(Bokeh) {\n      Bokeh.set_log_level(\"info\");\n    },\nfunction(Bokeh) {\n    }\n  ];\n\n  function run_inline_js() {\n    if (root.Bokeh !== undefined || force === true) {\n          for (let i = 0; i < inline_js.length; i++) {\n      inline_js[i].call(root, root.Bokeh);\n    }\nif (force === true) {\n        display_loaded();\n      }} else if (Date.now() < root._bokeh_timeout) {\n      setTimeout(run_inline_js, 100);\n    } else if (!root._bokeh_failed_load) {\n      console.log(\"Bokeh: BokehJS failed to load within specified timeout.\");\n      root._bokeh_failed_load = true;\n    } else if (force !== true) {\n      const cell = $(document.getElementById(\"1002\")).parents('.cell').data().cell;\n      cell.output_area.append_execute_result(NB_LOAD_WARNING)\n    }\n  }\n\n  if (root._bokeh_is_loading === 0) {\n    console.debug(\"Bokeh: BokehJS loaded, going straight to plotting\");\n    run_inline_js();\n  } else {\n    load_libs(css_urls, js_urls, function() {\n      console.debug(\"Bokeh: BokehJS plotting callback run at\", now());\n      run_inline_js();\n    });\n  }\n}(window));"
     },
     "metadata": {},
     "output_type": "display_data"
    },
    {
     "data": {
      "application/javascript": [
       "(function(root) {\n",
       "  function now() {\n",
       "    return new Date();\n",
       "  }\n",
       "\n",
       "  var force = true;\n",
       "\n",
       "  if (typeof root._bokeh_onload_callbacks === \"undefined\" || force === true) {\n",
       "    root._bokeh_onload_callbacks = [];\n",
       "    root._bokeh_is_loading = undefined;\n",
       "  }\n",
       "\n",
       "  if (typeof (root._bokeh_timeout) === \"undefined\" || force === true) {\n",
       "    root._bokeh_timeout = Date.now() + 5000;\n",
       "    root._bokeh_failed_load = false;\n",
       "  }\n",
       "\n",
       "  function run_callbacks() {\n",
       "    try {\n",
       "      root._bokeh_onload_callbacks.forEach(function(callback) {\n",
       "        if (callback != null)\n",
       "          callback();\n",
       "      });\n",
       "    } finally {\n",
       "      delete root._bokeh_onload_callbacks\n",
       "    }\n",
       "    console.debug(\"Bokeh: all callbacks have finished\");\n",
       "  }\n",
       "\n",
       "  function load_libs(css_urls, js_urls, js_modules, callback) {\n",
       "    if (css_urls == null) css_urls = [];\n",
       "    if (js_urls == null) js_urls = [];\n",
       "    if (js_modules == null) js_modules = [];\n",
       "\n",
       "    root._bokeh_onload_callbacks.push(callback);\n",
       "    if (root._bokeh_is_loading > 0) {\n",
       "      console.debug(\"Bokeh: BokehJS is being loaded, scheduling callback at\", now());\n",
       "      return null;\n",
       "    }\n",
       "    if (js_urls.length === 0 && js_modules.length === 0) {\n",
       "      run_callbacks();\n",
       "      return null;\n",
       "    }\n",
       "    console.debug(\"Bokeh: BokehJS not loaded, scheduling load and callback at\", now());\n",
       "\n",
       "    function on_load() {\n",
       "      root._bokeh_is_loading--;\n",
       "      if (root._bokeh_is_loading === 0) {\n",
       "        console.debug(\"Bokeh: all BokehJS libraries/stylesheets loaded\");\n",
       "        run_callbacks()\n",
       "      }\n",
       "    }\n",
       "\n",
       "    function on_error() {\n",
       "      console.error(\"failed to load \" + url);\n",
       "    }\n",
       "\n",
       "    for (var i = 0; i < css_urls.length; i++) {\n",
       "      var url = css_urls[i];\n",
       "      const element = document.createElement(\"link\");\n",
       "      element.onload = on_load;\n",
       "      element.onerror = on_error;\n",
       "      element.rel = \"stylesheet\";\n",
       "      element.type = \"text/css\";\n",
       "      element.href = url;\n",
       "      console.debug(\"Bokeh: injecting link tag for BokehJS stylesheet: \", url);\n",
       "      document.body.appendChild(element);\n",
       "    }\n",
       "\n",
       "    var skip = [];\n",
       "    if (window.requirejs) {\n",
       "      window.requirejs.config({'packages': {}, 'paths': {'ace': '//cdnjs.cloudflare.com/ajax/libs/ace/1.4.7', 'gridstack': 'https://cdn.jsdelivr.net/npm/gridstack@4.2.5/dist/gridstack-h5', 'notyf': 'https://cdn.jsdelivr.net/npm/notyf@3/notyf.min'}, 'shim': {'ace/ext-language_tools': {'deps': ['ace/ace']}, 'ace/ext-modelist': {'deps': ['ace/ace']}, 'gridstack': {'exports': 'GridStack'}}});\n",
       "      require([\"ace/ace\"], function(ace) {\n",
       "\twindow.ace = ace\n",
       "\ton_load()\n",
       "      })\n",
       "      require([\"ace/ext-language_tools\"], function() {\n",
       "\ton_load()\n",
       "      })\n",
       "      require([\"ace/ext-modelist\"], function() {\n",
       "\ton_load()\n",
       "      })\n",
       "      require([\"gridstack\"], function(GridStack) {\n",
       "\twindow.GridStack = GridStack\n",
       "\ton_load()\n",
       "      })\n",
       "      require([\"notyf\"], function() {\n",
       "\ton_load()\n",
       "      })\n",
       "      root._bokeh_is_loading = css_urls.length + 5;\n",
       "    } else {\n",
       "      root._bokeh_is_loading = css_urls.length + js_urls.length + js_modules.length;\n",
       "    }    if (((window['ace'] !== undefined) && (!(window['ace'] instanceof HTMLElement))) || window.requirejs) {\n",
       "      var urls = ['https://cdnjs.cloudflare.com/ajax/libs/ace/1.4.11/ace.js', 'https://cdnjs.cloudflare.com/ajax/libs/ace/1.4.11/ext-language_tools.js', 'https://cdnjs.cloudflare.com/ajax/libs/ace/1.4.11/ext-modelist.js'];\n",
       "      for (var i = 0; i < urls.length; i++) {\n",
       "        skip.push(urls[i])\n",
       "      }\n",
       "    }    if (((window['GridStack'] !== undefined) && (!(window['GridStack'] instanceof HTMLElement))) || window.requirejs) {\n",
       "      var urls = ['https://cdn.holoviz.org/panel/0.14.4/dist/bundled/gridstack/gridstack@4.2.5/dist/gridstack-h5.js'];\n",
       "      for (var i = 0; i < urls.length; i++) {\n",
       "        skip.push(urls[i])\n",
       "      }\n",
       "    }    if (((window['Notyf'] !== undefined) && (!(window['Notyf'] instanceof HTMLElement))) || window.requirejs) {\n",
       "      var urls = ['https://cdn.holoviz.org/panel/0.14.4/dist/bundled/notificationarea/notyf@3/notyf.min.js'];\n",
       "      for (var i = 0; i < urls.length; i++) {\n",
       "        skip.push(urls[i])\n",
       "      }\n",
       "    }    for (var i = 0; i < js_urls.length; i++) {\n",
       "      var url = js_urls[i];\n",
       "      if (skip.indexOf(url) >= 0) {\n",
       "\tif (!window.requirejs) {\n",
       "\t  on_load();\n",
       "\t}\n",
       "\tcontinue;\n",
       "      }\n",
       "      var element = document.createElement('script');\n",
       "      element.onload = on_load;\n",
       "      element.onerror = on_error;\n",
       "      element.async = false;\n",
       "      element.src = url;\n",
       "      console.debug(\"Bokeh: injecting script tag for BokehJS library: \", url);\n",
       "      document.head.appendChild(element);\n",
       "    }\n",
       "    for (var i = 0; i < js_modules.length; i++) {\n",
       "      var url = js_modules[i];\n",
       "      if (skip.indexOf(url) >= 0) {\n",
       "\tif (!window.requirejs) {\n",
       "\t  on_load();\n",
       "\t}\n",
       "\tcontinue;\n",
       "      }\n",
       "      var element = document.createElement('script');\n",
       "      element.onload = on_load;\n",
       "      element.onerror = on_error;\n",
       "      element.async = false;\n",
       "      element.src = url;\n",
       "      element.type = \"module\";\n",
       "      console.debug(\"Bokeh: injecting script tag for BokehJS library: \", url);\n",
       "      document.head.appendChild(element);\n",
       "    }\n",
       "    if (!js_urls.length && !js_modules.length) {\n",
       "      on_load()\n",
       "    }\n",
       "  };\n",
       "\n",
       "  function inject_raw_css(css) {\n",
       "    const element = document.createElement(\"style\");\n",
       "    element.appendChild(document.createTextNode(css));\n",
       "    document.body.appendChild(element);\n",
       "  }\n",
       "\n",
       "  var js_urls = [\"https://cdnjs.cloudflare.com/ajax/libs/ace/1.4.11/ace.js\", \"https://cdnjs.cloudflare.com/ajax/libs/ace/1.4.11/ext-language_tools.js\", \"https://cdnjs.cloudflare.com/ajax/libs/ace/1.4.11/ext-modelist.js\", \"https://cdn.bokeh.org/bokeh/release/bokeh-2.4.3.min.js\", \"https://cdn.bokeh.org/bokeh/release/bokeh-gl-2.4.3.min.js\", \"https://cdn.bokeh.org/bokeh/release/bokeh-widgets-2.4.3.min.js\", \"https://cdn.bokeh.org/bokeh/release/bokeh-tables-2.4.3.min.js\", \"https://cdn.bokeh.org/bokeh/release/bokeh-mathjax-2.4.3.min.js\", \"https://unpkg.com/@holoviz/panel@0.14.4/dist/panel.min.js\"];\n",
       "  var js_modules = [];\n",
       "  var css_urls = [\"https://cdn.holoviz.org/panel/0.14.4/dist/css/debugger.css\", \"https://cdn.holoviz.org/panel/0.14.4/dist/css/alerts.css\", \"https://cdn.holoviz.org/panel/0.14.4/dist/css/card.css\", \"https://cdn.holoviz.org/panel/0.14.4/dist/css/widgets.css\", \"https://cdn.holoviz.org/panel/0.14.4/dist/css/markdown.css\", \"https://cdn.holoviz.org/panel/0.14.4/dist/css/json.css\", \"https://cdn.holoviz.org/panel/0.14.4/dist/css/loading.css\", \"https://cdn.holoviz.org/panel/0.14.4/dist/css/dataframe.css\"];\n",
       "  var inline_js = [    function(Bokeh) {\n",
       "      inject_raw_css(\"/*\\n ~ CML // Creative Machine Learning ~\\n mml.css : CSS styling information for Panel and Bokeh\\n \\n This file defines the main CSS styling information for the CML course\\n \\n Author               :  Philippe Esling\\n                        <esling@ircam.fr>\\n*/\\n\\nbody {\\n  display: flex;\\n  height: 100vh;\\n  margin: 0px;\\n  overflow-x: hidden;\\n  overflow-y: hidden;\\n}\\n\\n.bk-root .bk, .bk-root .bk:before, .bk-root .bk:after {\\n  font-family: \\\"Josefin Sans\\\";\\n}\\n\\nimg {\\n  max-width: 100%;\\n}\\n\\n#container {\\n  padding:0px;\\n  height:100vh;\\n  width: 100vw;\\n  max-width: 100vw;\\n}\\n\\n#sidebar .mdc-list {\\n  padding-left: 5px;\\n  padding-right: 5px;\\n}\\n\\n.mdc-drawer-app-content {\\n  flex: auto;\\n  position: relative;\\n  overflow: hidden;\\n}\\n\\n.mdc-drawer {\\n  background: #FAFAFA; /* GRAY 50 */\\n}\\n\\n.mdc-drawer-app-content {\\n  margin-left: 0 !important;\\n}\\n\\n.title-bar {\\n  display: contents;\\n  justify-content: center;\\n  align-content: center;\\n  width: 100%;\\n}\\n\\n.mdc-top-app-bar .bk-menu {\\n  color: black\\n}\\n\\n.app-header {\\n  display: contents;\\n  padding-left: 10px;\\n  font-size: 1.25em;\\n}\\n\\nimg.app-logo {\\n  padding-right: 10px;\\n  font-size: 28px;\\n  height: 30px;\\n  max-width: inherit;\\n  padding-top: 12px;\\n  padding-bottom: 6px;\\n}\\n\\n#app-title {\\n  padding-right: 12px;\\n  padding-left: 12px;\\n}\\n\\n.title {\\n  font-family: \\\"Josefin Sans\\\";\\n  color: #fff;\\n  text-decoration: none;\\n  text-decoration-line: none;\\n  text-decoration-style: initial;\\n  text-decoration-color: initial;\\n  font-weight: 400;\\n  font-size: 2em;\\n  line-height: 2em;\\n  white-space: nowrap;\\n}\\n\\n.main-content {\\n  overflow-y: scroll;\\n  overflow-x: auto;\\n}\\n\\n#header {\\n  position: absolute;\\n  z-index: 7;\\n}\\n\\n#header-items {\\n  width: 100%;\\n  margin-left:15px;\\n}\\n\\n.pn-busy-container {\\n  align-items: center;\\n  justify-content: center;\\n  display: flex;\\n}\\n\\n.mdc-drawer__content {\\n  overflow-x: hidden;\\n}\\n.mdc-drawer__content, .main-content {\\n  padding: 12px;\\n}\\n\\n.main-content {\\n  height: calc(100vh - 88px);\\n  max-height: calc(100vh - 88px);\\n  padding-right: 32px;\\n}\\n\\nbutton.mdc-button.mdc-card-button {\\n  color: transparent;\\n  height: 50px;\\n}\\n\\np.bk.mdc-button {\\n  display: none;\\n}\\n\\ndiv.bk.mdc-card {\\n  border-radius: 0px\\n}\\n\\n.mdc-card .bk.card-header {\\n  display: flex;\\n}\\n\\n.bk.mdc-card-title {\\n  font-family: \\\"Josefin Sans\\\";\\n  font-weight: bold;\\n  align-items: center;\\n  display: flex !important;\\n  position: relative !important;\\n}\\n\\n.bk.mdc-card-title:nth-child(2) {\\n  margin-left: -1.4em;\\n}\\n\\n.pn-modal {\\n  overflow-y: scroll;\\n  width: 100%;\\n  display: none;\\n  position: absolute;\\n  top: 0;\\n  left: 0;\\n}\\n\\n.pn-modal-content {\\n  font-family: \\\"Josefin Sans\\\";\\n  background-color: #0e0e0e;\\n  margin: auto;\\n  margin-top: 25px;\\n  margin-bottom: 25px;\\n  padding: 15px 20px 20px 20px;\\n  border: 1px solid #888;\\n  width: 80% !important;\\n}\\n\\n.pn-modal-close {\\n  position: absolute;\\n  right: 25px;\\n  z-index: 100;\\n}\\n\\n.pn-modal-close:hover,\\n.pn-modal-close:focus {\\n  color: #000;\\n  text-decoration: none;\\n  cursor: pointer;\\n}\\n\\n.custom_button_bokeh button.bk.bk-btn.bk-btn-default {\\n    font-size:48pt;\\n    background-color: #05b7ff;\\n    border-color: #05b7ff;\\n}\");\n",
       "    },    function(Bokeh) {\n",
       "      inject_raw_css(\"\\n    .bk.pn-loading.arc:before {\\n      background-image: url(\\\"data:image/svg+xml;base64,PHN2ZyB4bWxucz0iaHR0cDovL3d3dy53My5vcmcvMjAwMC9zdmciIHN0eWxlPSJtYXJnaW46IGF1dG87IGJhY2tncm91bmQ6IG5vbmU7IGRpc3BsYXk6IGJsb2NrOyBzaGFwZS1yZW5kZXJpbmc6IGF1dG87IiB2aWV3Qm94PSIwIDAgMTAwIDEwMCIgcHJlc2VydmVBc3BlY3RSYXRpbz0ieE1pZFlNaWQiPiAgPGNpcmNsZSBjeD0iNTAiIGN5PSI1MCIgZmlsbD0ibm9uZSIgc3Ryb2tlPSIjYzNjM2MzIiBzdHJva2Utd2lkdGg9IjEwIiByPSIzNSIgc3Ryb2tlLWRhc2hhcnJheT0iMTY0LjkzMzYxNDMxMzQ2NDE1IDU2Ljk3Nzg3MTQzNzgyMTM4Ij4gICAgPGFuaW1hdGVUcmFuc2Zvcm0gYXR0cmlidXRlTmFtZT0idHJhbnNmb3JtIiB0eXBlPSJyb3RhdGUiIHJlcGVhdENvdW50PSJpbmRlZmluaXRlIiBkdXI9IjFzIiB2YWx1ZXM9IjAgNTAgNTA7MzYwIDUwIDUwIiBrZXlUaW1lcz0iMDsxIj48L2FuaW1hdGVUcmFuc2Zvcm0+ICA8L2NpcmNsZT48L3N2Zz4=\\\");\\n      background-size: auto calc(min(50%, 400px));\\n    }\\n    \");\n",
       "    },    function(Bokeh) {\n",
       "      Bokeh.set_log_level(\"info\");\n",
       "    },\n",
       "function(Bokeh) {} // ensure no trailing comma for IE\n",
       "  ];\n",
       "\n",
       "  function run_inline_js() {\n",
       "    if ((root.Bokeh !== undefined) || (force === true)) {\n",
       "      for (var i = 0; i < inline_js.length; i++) {\n",
       "        inline_js[i].call(root, root.Bokeh);\n",
       "      }} else if (Date.now() < root._bokeh_timeout) {\n",
       "      setTimeout(run_inline_js, 100);\n",
       "    } else if (!root._bokeh_failed_load) {\n",
       "      console.log(\"Bokeh: BokehJS failed to load within specified timeout.\");\n",
       "      root._bokeh_failed_load = true;\n",
       "    }\n",
       "  }\n",
       "\n",
       "  if (root._bokeh_is_loading === 0) {\n",
       "    console.debug(\"Bokeh: BokehJS loaded, going straight to plotting\");\n",
       "    run_inline_js();\n",
       "  } else {\n",
       "    load_libs(css_urls, js_urls, js_modules, function() {\n",
       "      console.debug(\"Bokeh: BokehJS plotting callback run at\", now());\n",
       "      run_inline_js();\n",
       "    });\n",
       "  }\n",
       "}(window));"
      ],
      "application/vnd.holoviews_load.v0+json": "(function(root) {\n  function now() {\n    return new Date();\n  }\n\n  var force = true;\n\n  if (typeof root._bokeh_onload_callbacks === \"undefined\" || force === true) {\n    root._bokeh_onload_callbacks = [];\n    root._bokeh_is_loading = undefined;\n  }\n\n  if (typeof (root._bokeh_timeout) === \"undefined\" || force === true) {\n    root._bokeh_timeout = Date.now() + 5000;\n    root._bokeh_failed_load = false;\n  }\n\n  function run_callbacks() {\n    try {\n      root._bokeh_onload_callbacks.forEach(function(callback) {\n        if (callback != null)\n          callback();\n      });\n    } finally {\n      delete root._bokeh_onload_callbacks\n    }\n    console.debug(\"Bokeh: all callbacks have finished\");\n  }\n\n  function load_libs(css_urls, js_urls, js_modules, callback) {\n    if (css_urls == null) css_urls = [];\n    if (js_urls == null) js_urls = [];\n    if (js_modules == null) js_modules = [];\n\n    root._bokeh_onload_callbacks.push(callback);\n    if (root._bokeh_is_loading > 0) {\n      console.debug(\"Bokeh: BokehJS is being loaded, scheduling callback at\", now());\n      return null;\n    }\n    if (js_urls.length === 0 && js_modules.length === 0) {\n      run_callbacks();\n      return null;\n    }\n    console.debug(\"Bokeh: BokehJS not loaded, scheduling load and callback at\", now());\n\n    function on_load() {\n      root._bokeh_is_loading--;\n      if (root._bokeh_is_loading === 0) {\n        console.debug(\"Bokeh: all BokehJS libraries/stylesheets loaded\");\n        run_callbacks()\n      }\n    }\n\n    function on_error() {\n      console.error(\"failed to load \" + url);\n    }\n\n    for (var i = 0; i < css_urls.length; i++) {\n      var url = css_urls[i];\n      const element = document.createElement(\"link\");\n      element.onload = on_load;\n      element.onerror = on_error;\n      element.rel = \"stylesheet\";\n      element.type = \"text/css\";\n      element.href = url;\n      console.debug(\"Bokeh: injecting link tag for BokehJS stylesheet: \", url);\n      document.body.appendChild(element);\n    }\n\n    var skip = [];\n    if (window.requirejs) {\n      window.requirejs.config({'packages': {}, 'paths': {'ace': '//cdnjs.cloudflare.com/ajax/libs/ace/1.4.7', 'gridstack': 'https://cdn.jsdelivr.net/npm/gridstack@4.2.5/dist/gridstack-h5', 'notyf': 'https://cdn.jsdelivr.net/npm/notyf@3/notyf.min'}, 'shim': {'ace/ext-language_tools': {'deps': ['ace/ace']}, 'ace/ext-modelist': {'deps': ['ace/ace']}, 'gridstack': {'exports': 'GridStack'}}});\n      require([\"ace/ace\"], function(ace) {\n\twindow.ace = ace\n\ton_load()\n      })\n      require([\"ace/ext-language_tools\"], function() {\n\ton_load()\n      })\n      require([\"ace/ext-modelist\"], function() {\n\ton_load()\n      })\n      require([\"gridstack\"], function(GridStack) {\n\twindow.GridStack = GridStack\n\ton_load()\n      })\n      require([\"notyf\"], function() {\n\ton_load()\n      })\n      root._bokeh_is_loading = css_urls.length + 5;\n    } else {\n      root._bokeh_is_loading = css_urls.length + js_urls.length + js_modules.length;\n    }    if (((window['ace'] !== undefined) && (!(window['ace'] instanceof HTMLElement))) || window.requirejs) {\n      var urls = ['https://cdnjs.cloudflare.com/ajax/libs/ace/1.4.11/ace.js', 'https://cdnjs.cloudflare.com/ajax/libs/ace/1.4.11/ext-language_tools.js', 'https://cdnjs.cloudflare.com/ajax/libs/ace/1.4.11/ext-modelist.js'];\n      for (var i = 0; i < urls.length; i++) {\n        skip.push(urls[i])\n      }\n    }    if (((window['GridStack'] !== undefined) && (!(window['GridStack'] instanceof HTMLElement))) || window.requirejs) {\n      var urls = ['https://cdn.holoviz.org/panel/0.14.4/dist/bundled/gridstack/gridstack@4.2.5/dist/gridstack-h5.js'];\n      for (var i = 0; i < urls.length; i++) {\n        skip.push(urls[i])\n      }\n    }    if (((window['Notyf'] !== undefined) && (!(window['Notyf'] instanceof HTMLElement))) || window.requirejs) {\n      var urls = ['https://cdn.holoviz.org/panel/0.14.4/dist/bundled/notificationarea/notyf@3/notyf.min.js'];\n      for (var i = 0; i < urls.length; i++) {\n        skip.push(urls[i])\n      }\n    }    for (var i = 0; i < js_urls.length; i++) {\n      var url = js_urls[i];\n      if (skip.indexOf(url) >= 0) {\n\tif (!window.requirejs) {\n\t  on_load();\n\t}\n\tcontinue;\n      }\n      var element = document.createElement('script');\n      element.onload = on_load;\n      element.onerror = on_error;\n      element.async = false;\n      element.src = url;\n      console.debug(\"Bokeh: injecting script tag for BokehJS library: \", url);\n      document.head.appendChild(element);\n    }\n    for (var i = 0; i < js_modules.length; i++) {\n      var url = js_modules[i];\n      if (skip.indexOf(url) >= 0) {\n\tif (!window.requirejs) {\n\t  on_load();\n\t}\n\tcontinue;\n      }\n      var element = document.createElement('script');\n      element.onload = on_load;\n      element.onerror = on_error;\n      element.async = false;\n      element.src = url;\n      element.type = \"module\";\n      console.debug(\"Bokeh: injecting script tag for BokehJS library: \", url);\n      document.head.appendChild(element);\n    }\n    if (!js_urls.length && !js_modules.length) {\n      on_load()\n    }\n  };\n\n  function inject_raw_css(css) {\n    const element = document.createElement(\"style\");\n    element.appendChild(document.createTextNode(css));\n    document.body.appendChild(element);\n  }\n\n  var js_urls = [\"https://cdnjs.cloudflare.com/ajax/libs/ace/1.4.11/ace.js\", \"https://cdnjs.cloudflare.com/ajax/libs/ace/1.4.11/ext-language_tools.js\", \"https://cdnjs.cloudflare.com/ajax/libs/ace/1.4.11/ext-modelist.js\", \"https://cdn.bokeh.org/bokeh/release/bokeh-2.4.3.min.js\", \"https://cdn.bokeh.org/bokeh/release/bokeh-gl-2.4.3.min.js\", \"https://cdn.bokeh.org/bokeh/release/bokeh-widgets-2.4.3.min.js\", \"https://cdn.bokeh.org/bokeh/release/bokeh-tables-2.4.3.min.js\", \"https://cdn.bokeh.org/bokeh/release/bokeh-mathjax-2.4.3.min.js\", \"https://unpkg.com/@holoviz/panel@0.14.4/dist/panel.min.js\"];\n  var js_modules = [];\n  var css_urls = [\"https://cdn.holoviz.org/panel/0.14.4/dist/css/debugger.css\", \"https://cdn.holoviz.org/panel/0.14.4/dist/css/alerts.css\", \"https://cdn.holoviz.org/panel/0.14.4/dist/css/card.css\", \"https://cdn.holoviz.org/panel/0.14.4/dist/css/widgets.css\", \"https://cdn.holoviz.org/panel/0.14.4/dist/css/markdown.css\", \"https://cdn.holoviz.org/panel/0.14.4/dist/css/json.css\", \"https://cdn.holoviz.org/panel/0.14.4/dist/css/loading.css\", \"https://cdn.holoviz.org/panel/0.14.4/dist/css/dataframe.css\"];\n  var inline_js = [    function(Bokeh) {\n      inject_raw_css(\"/*\\n ~ CML // Creative Machine Learning ~\\n mml.css : CSS styling information for Panel and Bokeh\\n \\n This file defines the main CSS styling information for the CML course\\n \\n Author               :  Philippe Esling\\n                        <esling@ircam.fr>\\n*/\\n\\nbody {\\n  display: flex;\\n  height: 100vh;\\n  margin: 0px;\\n  overflow-x: hidden;\\n  overflow-y: hidden;\\n}\\n\\n.bk-root .bk, .bk-root .bk:before, .bk-root .bk:after {\\n  font-family: \\\"Josefin Sans\\\";\\n}\\n\\nimg {\\n  max-width: 100%;\\n}\\n\\n#container {\\n  padding:0px;\\n  height:100vh;\\n  width: 100vw;\\n  max-width: 100vw;\\n}\\n\\n#sidebar .mdc-list {\\n  padding-left: 5px;\\n  padding-right: 5px;\\n}\\n\\n.mdc-drawer-app-content {\\n  flex: auto;\\n  position: relative;\\n  overflow: hidden;\\n}\\n\\n.mdc-drawer {\\n  background: #FAFAFA; /* GRAY 50 */\\n}\\n\\n.mdc-drawer-app-content {\\n  margin-left: 0 !important;\\n}\\n\\n.title-bar {\\n  display: contents;\\n  justify-content: center;\\n  align-content: center;\\n  width: 100%;\\n}\\n\\n.mdc-top-app-bar .bk-menu {\\n  color: black\\n}\\n\\n.app-header {\\n  display: contents;\\n  padding-left: 10px;\\n  font-size: 1.25em;\\n}\\n\\nimg.app-logo {\\n  padding-right: 10px;\\n  font-size: 28px;\\n  height: 30px;\\n  max-width: inherit;\\n  padding-top: 12px;\\n  padding-bottom: 6px;\\n}\\n\\n#app-title {\\n  padding-right: 12px;\\n  padding-left: 12px;\\n}\\n\\n.title {\\n  font-family: \\\"Josefin Sans\\\";\\n  color: #fff;\\n  text-decoration: none;\\n  text-decoration-line: none;\\n  text-decoration-style: initial;\\n  text-decoration-color: initial;\\n  font-weight: 400;\\n  font-size: 2em;\\n  line-height: 2em;\\n  white-space: nowrap;\\n}\\n\\n.main-content {\\n  overflow-y: scroll;\\n  overflow-x: auto;\\n}\\n\\n#header {\\n  position: absolute;\\n  z-index: 7;\\n}\\n\\n#header-items {\\n  width: 100%;\\n  margin-left:15px;\\n}\\n\\n.pn-busy-container {\\n  align-items: center;\\n  justify-content: center;\\n  display: flex;\\n}\\n\\n.mdc-drawer__content {\\n  overflow-x: hidden;\\n}\\n.mdc-drawer__content, .main-content {\\n  padding: 12px;\\n}\\n\\n.main-content {\\n  height: calc(100vh - 88px);\\n  max-height: calc(100vh - 88px);\\n  padding-right: 32px;\\n}\\n\\nbutton.mdc-button.mdc-card-button {\\n  color: transparent;\\n  height: 50px;\\n}\\n\\np.bk.mdc-button {\\n  display: none;\\n}\\n\\ndiv.bk.mdc-card {\\n  border-radius: 0px\\n}\\n\\n.mdc-card .bk.card-header {\\n  display: flex;\\n}\\n\\n.bk.mdc-card-title {\\n  font-family: \\\"Josefin Sans\\\";\\n  font-weight: bold;\\n  align-items: center;\\n  display: flex !important;\\n  position: relative !important;\\n}\\n\\n.bk.mdc-card-title:nth-child(2) {\\n  margin-left: -1.4em;\\n}\\n\\n.pn-modal {\\n  overflow-y: scroll;\\n  width: 100%;\\n  display: none;\\n  position: absolute;\\n  top: 0;\\n  left: 0;\\n}\\n\\n.pn-modal-content {\\n  font-family: \\\"Josefin Sans\\\";\\n  background-color: #0e0e0e;\\n  margin: auto;\\n  margin-top: 25px;\\n  margin-bottom: 25px;\\n  padding: 15px 20px 20px 20px;\\n  border: 1px solid #888;\\n  width: 80% !important;\\n}\\n\\n.pn-modal-close {\\n  position: absolute;\\n  right: 25px;\\n  z-index: 100;\\n}\\n\\n.pn-modal-close:hover,\\n.pn-modal-close:focus {\\n  color: #000;\\n  text-decoration: none;\\n  cursor: pointer;\\n}\\n\\n.custom_button_bokeh button.bk.bk-btn.bk-btn-default {\\n    font-size:48pt;\\n    background-color: #05b7ff;\\n    border-color: #05b7ff;\\n}\");\n    },    function(Bokeh) {\n      inject_raw_css(\"\\n    .bk.pn-loading.arc:before {\\n      background-image: url(\\\"data:image/svg+xml;base64,PHN2ZyB4bWxucz0iaHR0cDovL3d3dy53My5vcmcvMjAwMC9zdmciIHN0eWxlPSJtYXJnaW46IGF1dG87IGJhY2tncm91bmQ6IG5vbmU7IGRpc3BsYXk6IGJsb2NrOyBzaGFwZS1yZW5kZXJpbmc6IGF1dG87IiB2aWV3Qm94PSIwIDAgMTAwIDEwMCIgcHJlc2VydmVBc3BlY3RSYXRpbz0ieE1pZFlNaWQiPiAgPGNpcmNsZSBjeD0iNTAiIGN5PSI1MCIgZmlsbD0ibm9uZSIgc3Ryb2tlPSIjYzNjM2MzIiBzdHJva2Utd2lkdGg9IjEwIiByPSIzNSIgc3Ryb2tlLWRhc2hhcnJheT0iMTY0LjkzMzYxNDMxMzQ2NDE1IDU2Ljk3Nzg3MTQzNzgyMTM4Ij4gICAgPGFuaW1hdGVUcmFuc2Zvcm0gYXR0cmlidXRlTmFtZT0idHJhbnNmb3JtIiB0eXBlPSJyb3RhdGUiIHJlcGVhdENvdW50PSJpbmRlZmluaXRlIiBkdXI9IjFzIiB2YWx1ZXM9IjAgNTAgNTA7MzYwIDUwIDUwIiBrZXlUaW1lcz0iMDsxIj48L2FuaW1hdGVUcmFuc2Zvcm0+ICA8L2NpcmNsZT48L3N2Zz4=\\\");\\n      background-size: auto calc(min(50%, 400px));\\n    }\\n    \");\n    },    function(Bokeh) {\n      Bokeh.set_log_level(\"info\");\n    },\nfunction(Bokeh) {} // ensure no trailing comma for IE\n  ];\n\n  function run_inline_js() {\n    if ((root.Bokeh !== undefined) || (force === true)) {\n      for (var i = 0; i < inline_js.length; i++) {\n        inline_js[i].call(root, root.Bokeh);\n      }} else if (Date.now() < root._bokeh_timeout) {\n      setTimeout(run_inline_js, 100);\n    } else if (!root._bokeh_failed_load) {\n      console.log(\"Bokeh: BokehJS failed to load within specified timeout.\");\n      root._bokeh_failed_load = true;\n    }\n  }\n\n  if (root._bokeh_is_loading === 0) {\n    console.debug(\"Bokeh: BokehJS loaded, going straight to plotting\");\n    run_inline_js();\n  } else {\n    load_libs(css_urls, js_urls, js_modules, function() {\n      console.debug(\"Bokeh: BokehJS plotting callback run at\", now());\n      run_inline_js();\n    });\n  }\n}(window));"
     },
     "metadata": {},
     "output_type": "display_data"
    },
    {
     "data": {
      "application/javascript": [
       "\n",
       "if ((window.PyViz === undefined) || (window.PyViz instanceof HTMLElement)) {\n",
       "  window.PyViz = {comms: {}, comm_status:{}, kernels:{}, receivers: {}, plot_index: []}\n",
       "}\n",
       "\n",
       "\n",
       "    function JupyterCommManager() {\n",
       "    }\n",
       "\n",
       "    JupyterCommManager.prototype.register_target = function(plot_id, comm_id, msg_handler) {\n",
       "      if (window.comm_manager || ((window.Jupyter !== undefined) && (Jupyter.notebook.kernel != null))) {\n",
       "        var comm_manager = window.comm_manager || Jupyter.notebook.kernel.comm_manager;\n",
       "        comm_manager.register_target(comm_id, function(comm) {\n",
       "          comm.on_msg(msg_handler);\n",
       "        });\n",
       "      } else if ((plot_id in window.PyViz.kernels) && (window.PyViz.kernels[plot_id])) {\n",
       "        window.PyViz.kernels[plot_id].registerCommTarget(comm_id, function(comm) {\n",
       "          comm.onMsg = msg_handler;\n",
       "        });\n",
       "      } else if (typeof google != 'undefined' && google.colab.kernel != null) {\n",
       "        google.colab.kernel.comms.registerTarget(comm_id, (comm) => {\n",
       "          var messages = comm.messages[Symbol.asyncIterator]();\n",
       "          function processIteratorResult(result) {\n",
       "            var message = result.value;\n",
       "            console.log(message)\n",
       "            var content = {data: message.data, comm_id};\n",
       "            var buffers = []\n",
       "            for (var buffer of message.buffers || []) {\n",
       "              buffers.push(new DataView(buffer))\n",
       "            }\n",
       "            var metadata = message.metadata || {};\n",
       "            var msg = {content, buffers, metadata}\n",
       "            msg_handler(msg);\n",
       "            return messages.next().then(processIteratorResult);\n",
       "          }\n",
       "          return messages.next().then(processIteratorResult);\n",
       "        })\n",
       "      }\n",
       "    }\n",
       "\n",
       "    JupyterCommManager.prototype.get_client_comm = function(plot_id, comm_id, msg_handler) {\n",
       "      if (comm_id in window.PyViz.comms) {\n",
       "        return window.PyViz.comms[comm_id];\n",
       "      } else if (window.comm_manager || ((window.Jupyter !== undefined) && (Jupyter.notebook.kernel != null))) {\n",
       "        var comm_manager = window.comm_manager || Jupyter.notebook.kernel.comm_manager;\n",
       "        var comm = comm_manager.new_comm(comm_id, {}, {}, {}, comm_id);\n",
       "        if (msg_handler) {\n",
       "          comm.on_msg(msg_handler);\n",
       "        }\n",
       "      } else if ((plot_id in window.PyViz.kernels) && (window.PyViz.kernels[plot_id])) {\n",
       "        var comm = window.PyViz.kernels[plot_id].connectToComm(comm_id);\n",
       "        comm.open();\n",
       "        if (msg_handler) {\n",
       "          comm.onMsg = msg_handler;\n",
       "        }\n",
       "      } else if (typeof google != 'undefined' && google.colab.kernel != null) {\n",
       "        var comm_promise = google.colab.kernel.comms.open(comm_id)\n",
       "        comm_promise.then((comm) => {\n",
       "          window.PyViz.comms[comm_id] = comm;\n",
       "          if (msg_handler) {\n",
       "            var messages = comm.messages[Symbol.asyncIterator]();\n",
       "            function processIteratorResult(result) {\n",
       "              var message = result.value;\n",
       "              var content = {data: message.data};\n",
       "              var metadata = message.metadata || {comm_id};\n",
       "              var msg = {content, metadata}\n",
       "              msg_handler(msg);\n",
       "              return messages.next().then(processIteratorResult);\n",
       "            }\n",
       "            return messages.next().then(processIteratorResult);\n",
       "          }\n",
       "        }) \n",
       "        var sendClosure = (data, metadata, buffers, disposeOnDone) => {\n",
       "          return comm_promise.then((comm) => {\n",
       "            comm.send(data, metadata, buffers, disposeOnDone);\n",
       "          });\n",
       "        };\n",
       "        var comm = {\n",
       "          send: sendClosure\n",
       "        };\n",
       "      }\n",
       "      window.PyViz.comms[comm_id] = comm;\n",
       "      return comm;\n",
       "    }\n",
       "    window.PyViz.comm_manager = new JupyterCommManager();\n",
       "    \n",
       "\n",
       "\n",
       "var JS_MIME_TYPE = 'application/javascript';\n",
       "var HTML_MIME_TYPE = 'text/html';\n",
       "var EXEC_MIME_TYPE = 'application/vnd.holoviews_exec.v0+json';\n",
       "var CLASS_NAME = 'output';\n",
       "\n",
       "/**\n",
       " * Render data to the DOM node\n",
       " */\n",
       "function render(props, node) {\n",
       "  var div = document.createElement(\"div\");\n",
       "  var script = document.createElement(\"script\");\n",
       "  node.appendChild(div);\n",
       "  node.appendChild(script);\n",
       "}\n",
       "\n",
       "/**\n",
       " * Handle when a new output is added\n",
       " */\n",
       "function handle_add_output(event, handle) {\n",
       "  var output_area = handle.output_area;\n",
       "  var output = handle.output;\n",
       "  if ((output.data == undefined) || (!output.data.hasOwnProperty(EXEC_MIME_TYPE))) {\n",
       "    return\n",
       "  }\n",
       "  var id = output.metadata[EXEC_MIME_TYPE][\"id\"];\n",
       "  var toinsert = output_area.element.find(\".\" + CLASS_NAME.split(' ')[0]);\n",
       "  if (id !== undefined) {\n",
       "    var nchildren = toinsert.length;\n",
       "    var html_node = toinsert[nchildren-1].children[0];\n",
       "    html_node.innerHTML = output.data[HTML_MIME_TYPE];\n",
       "    var scripts = [];\n",
       "    var nodelist = html_node.querySelectorAll(\"script\");\n",
       "    for (var i in nodelist) {\n",
       "      if (nodelist.hasOwnProperty(i)) {\n",
       "        scripts.push(nodelist[i])\n",
       "      }\n",
       "    }\n",
       "\n",
       "    scripts.forEach( function (oldScript) {\n",
       "      var newScript = document.createElement(\"script\");\n",
       "      var attrs = [];\n",
       "      var nodemap = oldScript.attributes;\n",
       "      for (var j in nodemap) {\n",
       "        if (nodemap.hasOwnProperty(j)) {\n",
       "          attrs.push(nodemap[j])\n",
       "        }\n",
       "      }\n",
       "      attrs.forEach(function(attr) { newScript.setAttribute(attr.name, attr.value) });\n",
       "      newScript.appendChild(document.createTextNode(oldScript.innerHTML));\n",
       "      oldScript.parentNode.replaceChild(newScript, oldScript);\n",
       "    });\n",
       "    if (JS_MIME_TYPE in output.data) {\n",
       "      toinsert[nchildren-1].children[1].textContent = output.data[JS_MIME_TYPE];\n",
       "    }\n",
       "    output_area._hv_plot_id = id;\n",
       "    if ((window.Bokeh !== undefined) && (id in Bokeh.index)) {\n",
       "      window.PyViz.plot_index[id] = Bokeh.index[id];\n",
       "    } else {\n",
       "      window.PyViz.plot_index[id] = null;\n",
       "    }\n",
       "  } else if (output.metadata[EXEC_MIME_TYPE][\"server_id\"] !== undefined) {\n",
       "    var bk_div = document.createElement(\"div\");\n",
       "    bk_div.innerHTML = output.data[HTML_MIME_TYPE];\n",
       "    var script_attrs = bk_div.children[0].attributes;\n",
       "    for (var i = 0; i < script_attrs.length; i++) {\n",
       "      toinsert[toinsert.length - 1].childNodes[1].setAttribute(script_attrs[i].name, script_attrs[i].value);\n",
       "    }\n",
       "    // store reference to server id on output_area\n",
       "    output_area._bokeh_server_id = output.metadata[EXEC_MIME_TYPE][\"server_id\"];\n",
       "  }\n",
       "}\n",
       "\n",
       "/**\n",
       " * Handle when an output is cleared or removed\n",
       " */\n",
       "function handle_clear_output(event, handle) {\n",
       "  var id = handle.cell.output_area._hv_plot_id;\n",
       "  var server_id = handle.cell.output_area._bokeh_server_id;\n",
       "  if (((id === undefined) || !(id in PyViz.plot_index)) && (server_id !== undefined)) { return; }\n",
       "  var comm = window.PyViz.comm_manager.get_client_comm(\"hv-extension-comm\", \"hv-extension-comm\", function () {});\n",
       "  if (server_id !== null) {\n",
       "    comm.send({event_type: 'server_delete', 'id': server_id});\n",
       "    return;\n",
       "  } else if (comm !== null) {\n",
       "    comm.send({event_type: 'delete', 'id': id});\n",
       "  }\n",
       "  delete PyViz.plot_index[id];\n",
       "  if ((window.Bokeh !== undefined) & (id in window.Bokeh.index)) {\n",
       "    var doc = window.Bokeh.index[id].model.document\n",
       "    doc.clear();\n",
       "    const i = window.Bokeh.documents.indexOf(doc);\n",
       "    if (i > -1) {\n",
       "      window.Bokeh.documents.splice(i, 1);\n",
       "    }\n",
       "  }\n",
       "}\n",
       "\n",
       "/**\n",
       " * Handle kernel restart event\n",
       " */\n",
       "function handle_kernel_cleanup(event, handle) {\n",
       "  delete PyViz.comms[\"hv-extension-comm\"];\n",
       "  window.PyViz.plot_index = {}\n",
       "}\n",
       "\n",
       "/**\n",
       " * Handle update_display_data messages\n",
       " */\n",
       "function handle_update_output(event, handle) {\n",
       "  handle_clear_output(event, {cell: {output_area: handle.output_area}})\n",
       "  handle_add_output(event, handle)\n",
       "}\n",
       "\n",
       "function register_renderer(events, OutputArea) {\n",
       "  function append_mime(data, metadata, element) {\n",
       "    // create a DOM node to render to\n",
       "    var toinsert = this.create_output_subarea(\n",
       "    metadata,\n",
       "    CLASS_NAME,\n",
       "    EXEC_MIME_TYPE\n",
       "    );\n",
       "    this.keyboard_manager.register_events(toinsert);\n",
       "    // Render to node\n",
       "    var props = {data: data, metadata: metadata[EXEC_MIME_TYPE]};\n",
       "    render(props, toinsert[0]);\n",
       "    element.append(toinsert);\n",
       "    return toinsert\n",
       "  }\n",
       "\n",
       "  events.on('output_added.OutputArea', handle_add_output);\n",
       "  events.on('output_updated.OutputArea', handle_update_output);\n",
       "  events.on('clear_output.CodeCell', handle_clear_output);\n",
       "  events.on('delete.Cell', handle_clear_output);\n",
       "  events.on('kernel_ready.Kernel', handle_kernel_cleanup);\n",
       "\n",
       "  OutputArea.prototype.register_mime_type(EXEC_MIME_TYPE, append_mime, {\n",
       "    safe: true,\n",
       "    index: 0\n",
       "  });\n",
       "}\n",
       "\n",
       "if (window.Jupyter !== undefined) {\n",
       "  try {\n",
       "    var events = require('base/js/events');\n",
       "    var OutputArea = require('notebook/js/outputarea').OutputArea;\n",
       "    if (OutputArea.prototype.mime_types().indexOf(EXEC_MIME_TYPE) == -1) {\n",
       "      register_renderer(events, OutputArea);\n",
       "    }\n",
       "  } catch(err) {\n",
       "  }\n",
       "}\n"
      ],
      "application/vnd.holoviews_load.v0+json": "\nif ((window.PyViz === undefined) || (window.PyViz instanceof HTMLElement)) {\n  window.PyViz = {comms: {}, comm_status:{}, kernels:{}, receivers: {}, plot_index: []}\n}\n\n\n    function JupyterCommManager() {\n    }\n\n    JupyterCommManager.prototype.register_target = function(plot_id, comm_id, msg_handler) {\n      if (window.comm_manager || ((window.Jupyter !== undefined) && (Jupyter.notebook.kernel != null))) {\n        var comm_manager = window.comm_manager || Jupyter.notebook.kernel.comm_manager;\n        comm_manager.register_target(comm_id, function(comm) {\n          comm.on_msg(msg_handler);\n        });\n      } else if ((plot_id in window.PyViz.kernels) && (window.PyViz.kernels[plot_id])) {\n        window.PyViz.kernels[plot_id].registerCommTarget(comm_id, function(comm) {\n          comm.onMsg = msg_handler;\n        });\n      } else if (typeof google != 'undefined' && google.colab.kernel != null) {\n        google.colab.kernel.comms.registerTarget(comm_id, (comm) => {\n          var messages = comm.messages[Symbol.asyncIterator]();\n          function processIteratorResult(result) {\n            var message = result.value;\n            console.log(message)\n            var content = {data: message.data, comm_id};\n            var buffers = []\n            for (var buffer of message.buffers || []) {\n              buffers.push(new DataView(buffer))\n            }\n            var metadata = message.metadata || {};\n            var msg = {content, buffers, metadata}\n            msg_handler(msg);\n            return messages.next().then(processIteratorResult);\n          }\n          return messages.next().then(processIteratorResult);\n        })\n      }\n    }\n\n    JupyterCommManager.prototype.get_client_comm = function(plot_id, comm_id, msg_handler) {\n      if (comm_id in window.PyViz.comms) {\n        return window.PyViz.comms[comm_id];\n      } else if (window.comm_manager || ((window.Jupyter !== undefined) && (Jupyter.notebook.kernel != null))) {\n        var comm_manager = window.comm_manager || Jupyter.notebook.kernel.comm_manager;\n        var comm = comm_manager.new_comm(comm_id, {}, {}, {}, comm_id);\n        if (msg_handler) {\n          comm.on_msg(msg_handler);\n        }\n      } else if ((plot_id in window.PyViz.kernels) && (window.PyViz.kernels[plot_id])) {\n        var comm = window.PyViz.kernels[plot_id].connectToComm(comm_id);\n        comm.open();\n        if (msg_handler) {\n          comm.onMsg = msg_handler;\n        }\n      } else if (typeof google != 'undefined' && google.colab.kernel != null) {\n        var comm_promise = google.colab.kernel.comms.open(comm_id)\n        comm_promise.then((comm) => {\n          window.PyViz.comms[comm_id] = comm;\n          if (msg_handler) {\n            var messages = comm.messages[Symbol.asyncIterator]();\n            function processIteratorResult(result) {\n              var message = result.value;\n              var content = {data: message.data};\n              var metadata = message.metadata || {comm_id};\n              var msg = {content, metadata}\n              msg_handler(msg);\n              return messages.next().then(processIteratorResult);\n            }\n            return messages.next().then(processIteratorResult);\n          }\n        }) \n        var sendClosure = (data, metadata, buffers, disposeOnDone) => {\n          return comm_promise.then((comm) => {\n            comm.send(data, metadata, buffers, disposeOnDone);\n          });\n        };\n        var comm = {\n          send: sendClosure\n        };\n      }\n      window.PyViz.comms[comm_id] = comm;\n      return comm;\n    }\n    window.PyViz.comm_manager = new JupyterCommManager();\n    \n\n\nvar JS_MIME_TYPE = 'application/javascript';\nvar HTML_MIME_TYPE = 'text/html';\nvar EXEC_MIME_TYPE = 'application/vnd.holoviews_exec.v0+json';\nvar CLASS_NAME = 'output';\n\n/**\n * Render data to the DOM node\n */\nfunction render(props, node) {\n  var div = document.createElement(\"div\");\n  var script = document.createElement(\"script\");\n  node.appendChild(div);\n  node.appendChild(script);\n}\n\n/**\n * Handle when a new output is added\n */\nfunction handle_add_output(event, handle) {\n  var output_area = handle.output_area;\n  var output = handle.output;\n  if ((output.data == undefined) || (!output.data.hasOwnProperty(EXEC_MIME_TYPE))) {\n    return\n  }\n  var id = output.metadata[EXEC_MIME_TYPE][\"id\"];\n  var toinsert = output_area.element.find(\".\" + CLASS_NAME.split(' ')[0]);\n  if (id !== undefined) {\n    var nchildren = toinsert.length;\n    var html_node = toinsert[nchildren-1].children[0];\n    html_node.innerHTML = output.data[HTML_MIME_TYPE];\n    var scripts = [];\n    var nodelist = html_node.querySelectorAll(\"script\");\n    for (var i in nodelist) {\n      if (nodelist.hasOwnProperty(i)) {\n        scripts.push(nodelist[i])\n      }\n    }\n\n    scripts.forEach( function (oldScript) {\n      var newScript = document.createElement(\"script\");\n      var attrs = [];\n      var nodemap = oldScript.attributes;\n      for (var j in nodemap) {\n        if (nodemap.hasOwnProperty(j)) {\n          attrs.push(nodemap[j])\n        }\n      }\n      attrs.forEach(function(attr) { newScript.setAttribute(attr.name, attr.value) });\n      newScript.appendChild(document.createTextNode(oldScript.innerHTML));\n      oldScript.parentNode.replaceChild(newScript, oldScript);\n    });\n    if (JS_MIME_TYPE in output.data) {\n      toinsert[nchildren-1].children[1].textContent = output.data[JS_MIME_TYPE];\n    }\n    output_area._hv_plot_id = id;\n    if ((window.Bokeh !== undefined) && (id in Bokeh.index)) {\n      window.PyViz.plot_index[id] = Bokeh.index[id];\n    } else {\n      window.PyViz.plot_index[id] = null;\n    }\n  } else if (output.metadata[EXEC_MIME_TYPE][\"server_id\"] !== undefined) {\n    var bk_div = document.createElement(\"div\");\n    bk_div.innerHTML = output.data[HTML_MIME_TYPE];\n    var script_attrs = bk_div.children[0].attributes;\n    for (var i = 0; i < script_attrs.length; i++) {\n      toinsert[toinsert.length - 1].childNodes[1].setAttribute(script_attrs[i].name, script_attrs[i].value);\n    }\n    // store reference to server id on output_area\n    output_area._bokeh_server_id = output.metadata[EXEC_MIME_TYPE][\"server_id\"];\n  }\n}\n\n/**\n * Handle when an output is cleared or removed\n */\nfunction handle_clear_output(event, handle) {\n  var id = handle.cell.output_area._hv_plot_id;\n  var server_id = handle.cell.output_area._bokeh_server_id;\n  if (((id === undefined) || !(id in PyViz.plot_index)) && (server_id !== undefined)) { return; }\n  var comm = window.PyViz.comm_manager.get_client_comm(\"hv-extension-comm\", \"hv-extension-comm\", function () {});\n  if (server_id !== null) {\n    comm.send({event_type: 'server_delete', 'id': server_id});\n    return;\n  } else if (comm !== null) {\n    comm.send({event_type: 'delete', 'id': id});\n  }\n  delete PyViz.plot_index[id];\n  if ((window.Bokeh !== undefined) & (id in window.Bokeh.index)) {\n    var doc = window.Bokeh.index[id].model.document\n    doc.clear();\n    const i = window.Bokeh.documents.indexOf(doc);\n    if (i > -1) {\n      window.Bokeh.documents.splice(i, 1);\n    }\n  }\n}\n\n/**\n * Handle kernel restart event\n */\nfunction handle_kernel_cleanup(event, handle) {\n  delete PyViz.comms[\"hv-extension-comm\"];\n  window.PyViz.plot_index = {}\n}\n\n/**\n * Handle update_display_data messages\n */\nfunction handle_update_output(event, handle) {\n  handle_clear_output(event, {cell: {output_area: handle.output_area}})\n  handle_add_output(event, handle)\n}\n\nfunction register_renderer(events, OutputArea) {\n  function append_mime(data, metadata, element) {\n    // create a DOM node to render to\n    var toinsert = this.create_output_subarea(\n    metadata,\n    CLASS_NAME,\n    EXEC_MIME_TYPE\n    );\n    this.keyboard_manager.register_events(toinsert);\n    // Render to node\n    var props = {data: data, metadata: metadata[EXEC_MIME_TYPE]};\n    render(props, toinsert[0]);\n    element.append(toinsert);\n    return toinsert\n  }\n\n  events.on('output_added.OutputArea', handle_add_output);\n  events.on('output_updated.OutputArea', handle_update_output);\n  events.on('clear_output.CodeCell', handle_clear_output);\n  events.on('delete.Cell', handle_clear_output);\n  events.on('kernel_ready.Kernel', handle_kernel_cleanup);\n\n  OutputArea.prototype.register_mime_type(EXEC_MIME_TYPE, append_mime, {\n    safe: true,\n    index: 0\n  });\n}\n\nif (window.Jupyter !== undefined) {\n  try {\n    var events = require('base/js/events');\n    var OutputArea = require('notebook/js/outputarea').OutputArea;\n    if (OutputArea.prototype.mime_types().indexOf(EXEC_MIME_TYPE) == -1) {\n      register_renderer(events, OutputArea);\n    }\n  } catch(err) {\n  }\n}\n"
     },
     "metadata": {},
     "output_type": "display_data"
    },
    {
     "data": {
      "text/html": [
       "<style>.bk-root, .bk-root .bk:before, .bk-root .bk:after {\n",
       "  font-family: var(--jp-ui-font-size1);\n",
       "  font-size: var(--jp-ui-font-size1);\n",
       "  color: var(--jp-ui-font-color1);\n",
       "}\n",
       "</style>"
      ]
     },
     "metadata": {},
     "output_type": "display_data"
    }
   ],
   "source": [
    "# Base imports\n",
    "import time\n",
    "import numpy as np\n",
    "import matplotlib.pyplot as plt\n",
    "from cml.plot import initialize_bokeh\n",
    "from cml.panel import initialize_panel\n",
    "from jupyterthemes.stylefx import set_nb_theme\n",
    "from bokeh.io import show\n",
    "initialize_bokeh()\n",
    "initialize_panel()\n",
    "set_nb_theme(\"onedork\")\n",
    "rng = np.random.RandomState(1)"
   ]
  },
  {
   "cell_type": "markdown",
   "metadata": {},
   "source": [
    "As usual, to simplify your work, we provide sets of functions that allows fast problem definition and plotting functionnalities (from our `cml` library).\n",
    "\n",
    "  |**File**|*Explanation*|\n",
    "  |-------:|:---------|\n",
    "  |`scatter_boundary`|Plots the decision boundary of a single neuron with 2-dimensional inputs|\n",
    "  |`scatter_classes`|Plots (bi-dimensionnal) input patterns|"
   ]
  },
  {
   "cell_type": "code",
   "execution_count": 2,
   "metadata": {
    "tags": []
   },
   "outputs": [],
   "source": [
    "from cml.plot import scatter_classes, scatter_boundary, center_plot"
   ]
  },
  {
   "cell_type": "markdown",
   "metadata": {},
   "source": [
    "Remember that a single neuron is only able to learn _linearly separable_ problems. To produce such classes of problems, we provide a script that draw a set of random 2-dimensional points, then choose a random line in this space that will act as the linear frontier between 2 classes (hence defining a linear 2-class problem). The variables that will be used by your code are the following.  \n",
    "\n",
    "```Python\n",
    "y_class       # classes of the observqtions \n",
    "x_inputs      # 2 x n final matrix of random input observations\n",
    "weights       # 2 x 1 vector of neuron weights\n",
    "bias          # 1 x 1 vector of bias\n",
    "```\n",
    "\n",
    "You can execute the code below to see our simple classification problem. (Note that running the same cell multiple times produces a different starting dataset). In order to have a well-defined classification problem, we can rely on the `make_blobs` function provided by `scikit-learn` in the `sklearn.datasets` package."
   ]
  },
  {
   "cell_type": "code",
   "execution_count": 29,
   "metadata": {
    "tags": []
   },
   "outputs": [
    {
     "data": {},
     "metadata": {},
     "output_type": "display_data"
    },
    {
     "data": {
      "application/vnd.holoviews_exec.v0+json": "",
      "text/html": [
       "<div id='9270'>\n",
       "  <div class=\"bk-root\" id=\"0850e52b-a14c-4d95-a091-a5891baa7d43\" data-root-id=\"9270\"></div>\n",
       "</div>\n",
       "<script type=\"application/javascript\">(function(root) {\n",
       "  function embed_document(root) {\n",
       "    var docs_json = {\"8dee7c85-c1e3-4804-a65a-fffc6bbf415a\":{\"defs\":[{\"extends\":null,\"module\":null,\"name\":\"ReactiveHTML1\",\"overrides\":[],\"properties\":[]},{\"extends\":null,\"module\":null,\"name\":\"FlexBox1\",\"overrides\":[],\"properties\":[{\"default\":\"flex-start\",\"kind\":null,\"name\":\"align_content\"},{\"default\":\"flex-start\",\"kind\":null,\"name\":\"align_items\"},{\"default\":\"row\",\"kind\":null,\"name\":\"flex_direction\"},{\"default\":\"wrap\",\"kind\":null,\"name\":\"flex_wrap\"},{\"default\":\"flex-start\",\"kind\":null,\"name\":\"justify_content\"}]},{\"extends\":null,\"module\":null,\"name\":\"GridStack1\",\"overrides\":[],\"properties\":[{\"default\":\"warn\",\"kind\":null,\"name\":\"mode\"},{\"default\":null,\"kind\":null,\"name\":\"ncols\"},{\"default\":null,\"kind\":null,\"name\":\"nrows\"},{\"default\":true,\"kind\":null,\"name\":\"allow_resize\"},{\"default\":true,\"kind\":null,\"name\":\"allow_drag\"},{\"default\":[],\"kind\":null,\"name\":\"state\"}]},{\"extends\":null,\"module\":null,\"name\":\"click1\",\"overrides\":[],\"properties\":[{\"default\":\"\",\"kind\":null,\"name\":\"terminal_output\"},{\"default\":\"\",\"kind\":null,\"name\":\"debug_name\"},{\"default\":0,\"kind\":null,\"name\":\"clears\"}]},{\"extends\":null,\"module\":null,\"name\":\"NotificationAreaBase1\",\"overrides\":[],\"properties\":[{\"default\":\"bottom-right\",\"kind\":null,\"name\":\"position\"},{\"default\":0,\"kind\":null,\"name\":\"_clear\"}]},{\"extends\":null,\"module\":null,\"name\":\"NotificationArea1\",\"overrides\":[],\"properties\":[{\"default\":[],\"kind\":null,\"name\":\"notifications\"},{\"default\":\"bottom-right\",\"kind\":null,\"name\":\"position\"},{\"default\":0,\"kind\":null,\"name\":\"_clear\"},{\"default\":[{\"background\":\"#ffc107\",\"icon\":{\"className\":\"fas fa-exclamation-triangle\",\"color\":\"white\",\"tagName\":\"i\"},\"type\":\"warning\"},{\"background\":\"#007bff\",\"icon\":{\"className\":\"fas fa-info-circle\",\"color\":\"white\",\"tagName\":\"i\"},\"type\":\"info\"}],\"kind\":null,\"name\":\"types\"}]},{\"extends\":null,\"module\":null,\"name\":\"Notification\",\"overrides\":[],\"properties\":[{\"default\":null,\"kind\":null,\"name\":\"background\"},{\"default\":3000,\"kind\":null,\"name\":\"duration\"},{\"default\":null,\"kind\":null,\"name\":\"icon\"},{\"default\":\"\",\"kind\":null,\"name\":\"message\"},{\"default\":null,\"kind\":null,\"name\":\"notification_type\"},{\"default\":false,\"kind\":null,\"name\":\"_destroyed\"}]},{\"extends\":null,\"module\":null,\"name\":\"TemplateActions1\",\"overrides\":[],\"properties\":[{\"default\":0,\"kind\":null,\"name\":\"open_modal\"},{\"default\":0,\"kind\":null,\"name\":\"close_modal\"}]},{\"extends\":null,\"module\":null,\"name\":\"MaterialTemplateActions1\",\"overrides\":[],\"properties\":[{\"default\":0,\"kind\":null,\"name\":\"open_modal\"},{\"default\":0,\"kind\":null,\"name\":\"close_modal\"}]}],\"roots\":{\"references\":[{\"attributes\":{\"background_fill_alpha\":0.9,\"background_fill_color\":\"#0f0f0f\",\"below\":[{\"id\":\"9229\"}],\"border_fill_alpha\":0.8,\"border_fill_color\":\"#111111\",\"center\":[{\"id\":\"9232\"},{\"id\":\"9236\"},{\"id\":\"9268\"}],\"height\":450,\"left\":[{\"id\":\"9233\"}],\"outline_line_alpha\":0.25,\"outline_line_color\":\"#E0E0E0\",\"outline_line_width\":3,\"renderers\":[{\"id\":\"9256\"}],\"right\":[{\"id\":\"9268\"}],\"title\":{\"id\":\"9219\"},\"toolbar\":{\"id\":\"9244\"},\"width\":700,\"x_range\":{\"id\":\"9221\"},\"x_scale\":{\"id\":\"9225\"},\"y_range\":{\"id\":\"9223\"},\"y_scale\":{\"id\":\"9227\"}},\"id\":\"9218\",\"subtype\":\"Figure\",\"type\":\"Plot\"},{\"attributes\":{},\"id\":\"9227\",\"type\":\"LinearScale\"},{\"attributes\":{\"data\":{\"color\":[\"firebrick\",\"firebrick\",\"firebrick\",\"midnightblue\",\"midnightblue\",\"midnightblue\",\"midnightblue\",\"firebrick\",\"midnightblue\",\"firebrick\",\"midnightblue\",\"midnightblue\",\"firebrick\",\"midnightblue\",\"midnightblue\",\"midnightblue\",\"firebrick\",\"firebrick\",\"firebrick\",\"firebrick\",\"firebrick\",\"firebrick\",\"midnightblue\",\"midnightblue\",\"midnightblue\",\"firebrick\",\"firebrick\",\"midnightblue\",\"firebrick\",\"firebrick\",\"midnightblue\",\"midnightblue\",\"midnightblue\",\"firebrick\",\"midnightblue\",\"midnightblue\",\"midnightblue\",\"midnightblue\",\"midnightblue\",\"midnightblue\",\"firebrick\",\"firebrick\",\"firebrick\",\"firebrick\",\"firebrick\",\"firebrick\",\"firebrick\",\"midnightblue\",\"midnightblue\",\"midnightblue\",\"midnightblue\",\"firebrick\",\"firebrick\",\"midnightblue\",\"firebrick\",\"firebrick\",\"midnightblue\",\"firebrick\",\"midnightblue\",\"firebrick\",\"firebrick\",\"midnightblue\",\"midnightblue\",\"firebrick\",\"midnightblue\",\"firebrick\",\"firebrick\",\"firebrick\",\"midnightblue\",\"midnightblue\",\"firebrick\",\"midnightblue\",\"firebrick\",\"midnightblue\",\"firebrick\",\"midnightblue\",\"midnightblue\",\"midnightblue\",\"midnightblue\",\"midnightblue\",\"firebrick\",\"firebrick\",\"firebrick\",\"firebrick\",\"firebrick\",\"firebrick\",\"firebrick\",\"firebrick\",\"firebrick\",\"firebrick\",\"firebrick\",\"midnightblue\",\"midnightblue\",\"firebrick\",\"firebrick\",\"midnightblue\",\"firebrick\",\"firebrick\",\"firebrick\",\"firebrick\",\"midnightblue\",\"firebrick\",\"midnightblue\",\"midnightblue\",\"firebrick\",\"firebrick\",\"firebrick\",\"firebrick\",\"midnightblue\",\"firebrick\",\"firebrick\",\"midnightblue\",\"midnightblue\",\"firebrick\",\"midnightblue\",\"firebrick\",\"firebrick\",\"midnightblue\",\"firebrick\",\"firebrick\",\"firebrick\",\"midnightblue\",\"midnightblue\",\"firebrick\",\"midnightblue\",\"firebrick\",\"firebrick\",\"firebrick\",\"midnightblue\",\"firebrick\",\"firebrick\",\"midnightblue\",\"firebrick\",\"firebrick\",\"midnightblue\",\"firebrick\",\"midnightblue\",\"midnightblue\",\"midnightblue\",\"firebrick\",\"firebrick\",\"midnightblue\",\"midnightblue\",\"midnightblue\",\"midnightblue\",\"midnightblue\",\"midnightblue\",\"firebrick\",\"firebrick\",\"firebrick\",\"firebrick\",\"firebrick\",\"firebrick\",\"midnightblue\",\"midnightblue\",\"midnightblue\",\"firebrick\",\"midnightblue\",\"midnightblue\",\"midnightblue\",\"midnightblue\",\"firebrick\",\"firebrick\",\"midnightblue\",\"firebrick\",\"midnightblue\",\"firebrick\",\"midnightblue\",\"firebrick\",\"midnightblue\",\"midnightblue\",\"midnightblue\",\"midnightblue\",\"midnightblue\",\"firebrick\",\"midnightblue\",\"midnightblue\",\"midnightblue\",\"firebrick\",\"midnightblue\",\"firebrick\",\"midnightblue\",\"midnightblue\",\"midnightblue\",\"midnightblue\",\"midnightblue\",\"midnightblue\",\"firebrick\",\"midnightblue\",\"firebrick\",\"firebrick\",\"midnightblue\",\"midnightblue\",\"midnightblue\",\"firebrick\",\"firebrick\",\"firebrick\",\"midnightblue\",\"midnightblue\",\"midnightblue\"],\"label\":[\"class 2\",\"class 2\",\"class 2\",\"class 1\",\"class 1\",\"class 1\",\"class 1\",\"class 2\",\"class 1\",\"class 2\",\"class 1\",\"class 1\",\"class 2\",\"class 1\",\"class 1\",\"class 1\",\"class 2\",\"class 2\",\"class 2\",\"class 2\",\"class 2\",\"class 2\",\"class 1\",\"class 1\",\"class 1\",\"class 2\",\"class 2\",\"class 1\",\"class 2\",\"class 2\",\"class 1\",\"class 1\",\"class 1\",\"class 2\",\"class 1\",\"class 1\",\"class 1\",\"class 1\",\"class 1\",\"class 1\",\"class 2\",\"class 2\",\"class 2\",\"class 2\",\"class 2\",\"class 2\",\"class 2\",\"class 1\",\"class 1\",\"class 1\",\"class 1\",\"class 2\",\"class 2\",\"class 1\",\"class 2\",\"class 2\",\"class 1\",\"class 2\",\"class 1\",\"class 2\",\"class 2\",\"class 1\",\"class 1\",\"class 2\",\"class 1\",\"class 2\",\"class 2\",\"class 2\",\"class 1\",\"class 1\",\"class 2\",\"class 1\",\"class 2\",\"class 1\",\"class 2\",\"class 1\",\"class 1\",\"class 1\",\"class 1\",\"class 1\",\"class 2\",\"class 2\",\"class 2\",\"class 2\",\"class 2\",\"class 2\",\"class 2\",\"class 2\",\"class 2\",\"class 2\",\"class 2\",\"class 1\",\"class 1\",\"class 2\",\"class 2\",\"class 1\",\"class 2\",\"class 2\",\"class 2\",\"class 2\",\"class 1\",\"class 2\",\"class 1\",\"class 1\",\"class 2\",\"class 2\",\"class 2\",\"class 2\",\"class 1\",\"class 2\",\"class 2\",\"class 1\",\"class 1\",\"class 2\",\"class 1\",\"class 2\",\"class 2\",\"class 1\",\"class 2\",\"class 2\",\"class 2\",\"class 1\",\"class 1\",\"class 2\",\"class 1\",\"class 2\",\"class 2\",\"class 2\",\"class 1\",\"class 2\",\"class 2\",\"class 1\",\"class 2\",\"class 2\",\"class 1\",\"class 2\",\"class 1\",\"class 1\",\"class 1\",\"class 2\",\"class 2\",\"class 1\",\"class 1\",\"class 1\",\"class 1\",\"class 1\",\"class 1\",\"class 2\",\"class 2\",\"class 2\",\"class 2\",\"class 2\",\"class 2\",\"class 1\",\"class 1\",\"class 1\",\"class 2\",\"class 1\",\"class 1\",\"class 1\",\"class 1\",\"class 2\",\"class 2\",\"class 1\",\"class 2\",\"class 1\",\"class 2\",\"class 1\",\"class 2\",\"class 1\",\"class 1\",\"class 1\",\"class 1\",\"class 1\",\"class 2\",\"class 1\",\"class 1\",\"class 1\",\"class 2\",\"class 1\",\"class 2\",\"class 1\",\"class 1\",\"class 1\",\"class 1\",\"class 1\",\"class 1\",\"class 2\",\"class 1\",\"class 2\",\"class 2\",\"class 1\",\"class 1\",\"class 1\",\"class 2\",\"class 2\",\"class 2\",\"class 1\",\"class 1\",\"class 1\"],\"x\":{\"__ndarray__\":\"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\",\"dtype\":\"float64\",\"order\":\"little\",\"shape\":[200]},\"y\":{\"__ndarray__\":\"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\",\"dtype\":\"float64\",\"order\":\"little\",\"shape\":[200]}},\"selected\":{\"id\":\"9266\"},\"selection_policy\":{\"id\":\"9265\"}},\"id\":\"9251\",\"type\":\"ColumnDataSource\"},{\"attributes\":{\"fill_alpha\":{\"value\":0.6},\"fill_color\":{\"field\":\"color\"},\"hatch_alpha\":{\"value\":0.6},\"hatch_color\":{\"field\":\"color\"},\"line_alpha\":{\"value\":0.6},\"line_color\":{\"value\":\"white\"},\"size\":{\"value\":10},\"x\":{\"field\":\"x\"},\"y\":{\"field\":\"y\"}},\"id\":\"9253\",\"type\":\"Circle\"},{\"attributes\":{\"coordinates\":null,\"data_source\":{\"id\":\"9251\"},\"glyph\":{\"id\":\"9253\"},\"group\":null,\"hover_glyph\":null,\"muted_glyph\":{\"id\":\"9255\"},\"nonselection_glyph\":{\"id\":\"9254\"},\"view\":{\"id\":\"9257\"}},\"id\":\"9256\",\"type\":\"GlyphRenderer\"},{\"attributes\":{\"axis\":{\"id\":\"9229\"},\"coordinates\":null,\"grid_line_alpha\":0.15,\"grid_line_color\":\"#E0E0E0\",\"group\":null,\"ticker\":null},\"id\":\"9232\",\"type\":\"Grid\"},{\"attributes\":{},\"id\":\"9223\",\"type\":\"DataRange1d\"},{\"attributes\":{},\"id\":\"9260\",\"type\":\"BasicTickFormatter\"},{\"attributes\":{\"overlay\":{\"id\":\"9243\"}},\"id\":\"9239\",\"type\":\"BoxZoomTool\"},{\"attributes\":{\"label\":{\"field\":\"label\"},\"renderers\":[{\"id\":\"9256\"}]},\"id\":\"9269\",\"type\":\"LegendItem\"},{\"attributes\":{},\"id\":\"9240\",\"type\":\"SaveTool\"},{\"attributes\":{\"coordinates\":null,\"group\":null,\"text\":\"Observations\",\"text_color\":\"#E0E0E0\",\"text_font\":\"Josefin Sans\",\"text_font_size\":\"2.1em\"},\"id\":\"9219\",\"type\":\"Title\"},{\"attributes\":{},\"id\":\"9241\",\"type\":\"ResetTool\"},{\"attributes\":{\"axis_label\":\"y\",\"axis_label_standoff\":10,\"axis_label_text_color\":\"#FFFFFF\",\"axis_label_text_font\":\"Josefin Sans\",\"axis_label_text_font_size\":\"1.9em\",\"axis_label_text_font_style\":\"bold\",\"axis_line_alpha\":0.4,\"axis_line_color\":\"#E0E0E0\",\"coordinates\":null,\"formatter\":{\"id\":\"9260\"},\"group\":null,\"major_label_policy\":{\"id\":\"9261\"},\"major_label_text_color\":\"#E0E0E0\",\"major_label_text_font\":\"Josefin Sans\",\"major_label_text_font_size\":\"1.15em\",\"major_tick_line_alpha\":0.4,\"major_tick_line_color\":\"#E0E0E0\",\"minor_tick_line_alpha\":0.4,\"minor_tick_line_color\":\"#E0E0E0\",\"ticker\":{\"id\":\"9234\"}},\"id\":\"9233\",\"type\":\"LinearAxis\"},{\"attributes\":{},\"id\":\"9238\",\"type\":\"WheelZoomTool\"},{\"attributes\":{},\"id\":\"9237\",\"type\":\"PanTool\"},{\"attributes\":{},\"id\":\"9225\",\"type\":\"LinearScale\"},{\"attributes\":{},\"id\":\"9264\",\"type\":\"AllLabels\"},{\"attributes\":{\"client_comm_id\":\"25f69ead3cb24dfe8a1fa18869338aa5\",\"comm_id\":\"05520a9a36d7458ba42f6e82da7669d4\",\"plot_id\":\"9270\"},\"id\":\"9323\",\"type\":\"panel.models.comm_manager.CommManager\"},{\"attributes\":{\"fill_alpha\":{\"value\":0.1},\"fill_color\":{\"field\":\"color\"},\"hatch_alpha\":{\"value\":0.1},\"hatch_color\":{\"field\":\"color\"},\"line_alpha\":{\"value\":0.1},\"line_color\":{\"value\":\"white\"},\"size\":{\"value\":10},\"x\":{\"field\":\"x\"},\"y\":{\"field\":\"y\"}},\"id\":\"9254\",\"type\":\"Circle\"},{\"attributes\":{},\"id\":\"9242\",\"type\":\"HelpTool\"},{\"attributes\":{},\"id\":\"9221\",\"type\":\"DataRange1d\"},{\"attributes\":{\"tools\":[{\"id\":\"9237\"},{\"id\":\"9238\"},{\"id\":\"9239\"},{\"id\":\"9240\"},{\"id\":\"9241\"},{\"id\":\"9242\"}]},\"id\":\"9244\",\"type\":\"Toolbar\"},{\"attributes\":{},\"id\":\"9261\",\"type\":\"AllLabels\"},{\"attributes\":{\"children\":[{\"id\":\"9271\"},{\"id\":\"9218\"},{\"id\":\"9292\"}],\"margin\":[0,0,0,0],\"name\":\"Row00206\"},\"id\":\"9270\",\"type\":\"Row\"},{\"attributes\":{\"margin\":[5,5,5,5],\"name\":\"HSpacer00203\",\"sizing_mode\":\"stretch_width\"},\"id\":\"9292\",\"type\":\"Spacer\"},{\"attributes\":{},\"id\":\"9234\",\"type\":\"BasicTicker\"},{\"attributes\":{\"axis\":{\"id\":\"9233\"},\"coordinates\":null,\"dimension\":1,\"grid_line_alpha\":0.15,\"grid_line_color\":\"#E0E0E0\",\"group\":null,\"ticker\":null},\"id\":\"9236\",\"type\":\"Grid\"},{\"attributes\":{\"source\":{\"id\":\"9251\"}},\"id\":\"9257\",\"type\":\"CDSView\"},{\"attributes\":{},\"id\":\"9265\",\"type\":\"UnionRenderers\"},{\"attributes\":{\"axis_label\":\"x\",\"axis_label_standoff\":10,\"axis_label_text_color\":\"#FFFFFF\",\"axis_label_text_font\":\"Josefin Sans\",\"axis_label_text_font_size\":\"1.9em\",\"axis_label_text_font_style\":\"bold\",\"axis_line_alpha\":0.4,\"axis_line_color\":\"#E0E0E0\",\"coordinates\":null,\"formatter\":{\"id\":\"9263\"},\"group\":null,\"major_label_policy\":{\"id\":\"9264\"},\"major_label_text_color\":\"#E0E0E0\",\"major_label_text_font\":\"Josefin Sans\",\"major_label_text_font_size\":\"1.15em\",\"major_tick_line_alpha\":0.4,\"major_tick_line_color\":\"#E0E0E0\",\"minor_tick_line_alpha\":0.4,\"minor_tick_line_color\":\"#E0E0E0\",\"ticker\":{\"id\":\"9230\"}},\"id\":\"9229\",\"type\":\"LinearAxis\"},{\"attributes\":{\"background_fill_alpha\":0.2,\"background_fill_color\":\"darkgrey\",\"border_line_alpha\":0.8,\"border_line_color\":\"grey\",\"border_line_width\":3,\"coordinates\":null,\"group\":null,\"items\":[{\"id\":\"9269\"}],\"label_text_color\":\"white\"},\"id\":\"9268\",\"type\":\"Legend\"},{\"attributes\":{\"fill_alpha\":{\"value\":0.2},\"fill_color\":{\"field\":\"color\"},\"hatch_alpha\":{\"value\":0.2},\"hatch_color\":{\"field\":\"color\"},\"line_alpha\":{\"value\":0.2},\"line_color\":{\"value\":\"white\"},\"size\":{\"value\":10},\"x\":{\"field\":\"x\"},\"y\":{\"field\":\"y\"}},\"id\":\"9255\",\"type\":\"Circle\"},{\"attributes\":{\"bottom_units\":\"screen\",\"coordinates\":null,\"fill_alpha\":0.5,\"fill_color\":\"lightgrey\",\"group\":null,\"left_units\":\"screen\",\"level\":\"overlay\",\"line_alpha\":1.0,\"line_color\":\"black\",\"line_dash\":[4,4],\"line_width\":2,\"right_units\":\"screen\",\"syncable\":false,\"top_units\":\"screen\"},\"id\":\"9243\",\"type\":\"BoxAnnotation\"},{\"attributes\":{\"margin\":[5,5,5,5],\"name\":\"HSpacer00202\",\"sizing_mode\":\"stretch_width\"},\"id\":\"9271\",\"type\":\"Spacer\"},{\"attributes\":{},\"id\":\"9266\",\"type\":\"Selection\"},{\"attributes\":{},\"id\":\"9230\",\"type\":\"BasicTicker\"},{\"attributes\":{},\"id\":\"9263\",\"type\":\"BasicTickFormatter\"}],\"root_ids\":[\"9270\",\"9323\"]},\"title\":\"Bokeh Application\",\"version\":\"2.4.3\"}};\n",
       "    var render_items = [{\"docid\":\"8dee7c85-c1e3-4804-a65a-fffc6bbf415a\",\"root_ids\":[\"9270\"],\"roots\":{\"9270\":\"0850e52b-a14c-4d95-a091-a5891baa7d43\"}}];\n",
       "    root.Bokeh.embed.embed_items_notebook(docs_json, render_items);\n",
       "    for (const render_item of render_items) {\n",
       "      for (const root_id of render_item.root_ids) {\n",
       "\tconst id_el = document.getElementById(root_id)\n",
       "\tif (id_el.children.length && (id_el.children[0].className === 'bk-root')) {\n",
       "\t  const root_el = id_el.children[0]\n",
       "\t  root_el.id = root_el.id + '-rendered'\n",
       "\t}\n",
       "      }\n",
       "    }\n",
       "  }\n",
       "  if (root.Bokeh !== undefined && root.Bokeh.Panel !== undefined) {\n",
       "    embed_document(root);\n",
       "  } else {\n",
       "    var attempts = 0;\n",
       "    var timer = setInterval(function(root) {\n",
       "      if (root.Bokeh !== undefined && root.Bokeh.Panel !== undefined) {\n",
       "        clearInterval(timer);\n",
       "        embed_document(root);\n",
       "      } else if (document.readyState == \"complete\") {\n",
       "        attempts++;\n",
       "        if (attempts > 200) {\n",
       "          clearInterval(timer);\n",
       "          console.log(\"Bokeh: ERROR: Unable to run BokehJS code because BokehJS library is missing\");\n",
       "        }\n",
       "      }\n",
       "    }, 25, root)\n",
       "  }\n",
       "})(window);</script>"
      ],
      "text/plain": [
       "Row\n",
       "    [0] HSpacer()\n",
       "    [1] Bokeh(Figure)\n",
       "    [2] HSpacer()"
      ]
     },
     "execution_count": 29,
     "metadata": {
      "application/vnd.holoviews_exec.v0+json": {
       "id": "9270"
      }
     },
     "output_type": "execute_result"
    }
   ],
   "source": [
    "import numpy as np\n",
    "from sklearn.datasets import make_blobs\n",
    "# Properties of the problem\n",
    "n_observations = 200\n",
    "noise = 0.2\n",
    "c1_center = [-2, -1]\n",
    "c2_center = [2, 1]\n",
    "# Create points\n",
    "x_coords, y_class = make_blobs(n_samples=n_observations, centers=[c1_center, c2_center], n_features=2, cluster_std=0.55)\n",
    "x_inputs = x_coords + (noise * np.random.randn(n_observations, 2))\n",
    "# Plot the corresponding pattern\n",
    "plot = center_plot(scatter_classes(x_inputs, y_class))\n",
    "plot"
   ]
  },
  {
   "cell_type": "markdown",
   "metadata": {},
   "source": [
    "The previous example does not allow us to know the exact values (slope and bias) of our ground truth separation line. Hence, we can define a more complex separation problem (with points laying almost right on the separation fronteer), but with known values for our ground truth."
   ]
  },
  {
   "cell_type": "code",
   "execution_count": 30,
   "metadata": {
    "tags": []
   },
   "outputs": [
    {
     "data": {},
     "metadata": {},
     "output_type": "display_data"
    },
    {
     "data": {
      "application/vnd.holoviews_exec.v0+json": "",
      "text/html": [
       "<div id='9426'>\n",
       "  <div class=\"bk-root\" id=\"6d025c61-1ed5-4b7c-abc1-6cf314faada8\" data-root-id=\"9426\"></div>\n",
       "</div>\n",
       "<script type=\"application/javascript\">(function(root) {\n",
       "  function embed_document(root) {\n",
       "    var docs_json = {\"67c43b97-c1f5-4d0d-80f7-0d243af4d775\":{\"defs\":[{\"extends\":null,\"module\":null,\"name\":\"ReactiveHTML1\",\"overrides\":[],\"properties\":[]},{\"extends\":null,\"module\":null,\"name\":\"FlexBox1\",\"overrides\":[],\"properties\":[{\"default\":\"flex-start\",\"kind\":null,\"name\":\"align_content\"},{\"default\":\"flex-start\",\"kind\":null,\"name\":\"align_items\"},{\"default\":\"row\",\"kind\":null,\"name\":\"flex_direction\"},{\"default\":\"wrap\",\"kind\":null,\"name\":\"flex_wrap\"},{\"default\":\"flex-start\",\"kind\":null,\"name\":\"justify_content\"}]},{\"extends\":null,\"module\":null,\"name\":\"GridStack1\",\"overrides\":[],\"properties\":[{\"default\":\"warn\",\"kind\":null,\"name\":\"mode\"},{\"default\":null,\"kind\":null,\"name\":\"ncols\"},{\"default\":null,\"kind\":null,\"name\":\"nrows\"},{\"default\":true,\"kind\":null,\"name\":\"allow_resize\"},{\"default\":true,\"kind\":null,\"name\":\"allow_drag\"},{\"default\":[],\"kind\":null,\"name\":\"state\"}]},{\"extends\":null,\"module\":null,\"name\":\"click1\",\"overrides\":[],\"properties\":[{\"default\":\"\",\"kind\":null,\"name\":\"terminal_output\"},{\"default\":\"\",\"kind\":null,\"name\":\"debug_name\"},{\"default\":0,\"kind\":null,\"name\":\"clears\"}]},{\"extends\":null,\"module\":null,\"name\":\"NotificationAreaBase1\",\"overrides\":[],\"properties\":[{\"default\":\"bottom-right\",\"kind\":null,\"name\":\"position\"},{\"default\":0,\"kind\":null,\"name\":\"_clear\"}]},{\"extends\":null,\"module\":null,\"name\":\"NotificationArea1\",\"overrides\":[],\"properties\":[{\"default\":[],\"kind\":null,\"name\":\"notifications\"},{\"default\":\"bottom-right\",\"kind\":null,\"name\":\"position\"},{\"default\":0,\"kind\":null,\"name\":\"_clear\"},{\"default\":[{\"background\":\"#ffc107\",\"icon\":{\"className\":\"fas fa-exclamation-triangle\",\"color\":\"white\",\"tagName\":\"i\"},\"type\":\"warning\"},{\"background\":\"#007bff\",\"icon\":{\"className\":\"fas fa-info-circle\",\"color\":\"white\",\"tagName\":\"i\"},\"type\":\"info\"}],\"kind\":null,\"name\":\"types\"}]},{\"extends\":null,\"module\":null,\"name\":\"Notification\",\"overrides\":[],\"properties\":[{\"default\":null,\"kind\":null,\"name\":\"background\"},{\"default\":3000,\"kind\":null,\"name\":\"duration\"},{\"default\":null,\"kind\":null,\"name\":\"icon\"},{\"default\":\"\",\"kind\":null,\"name\":\"message\"},{\"default\":null,\"kind\":null,\"name\":\"notification_type\"},{\"default\":false,\"kind\":null,\"name\":\"_destroyed\"}]},{\"extends\":null,\"module\":null,\"name\":\"TemplateActions1\",\"overrides\":[],\"properties\":[{\"default\":0,\"kind\":null,\"name\":\"open_modal\"},{\"default\":0,\"kind\":null,\"name\":\"close_modal\"}]},{\"extends\":null,\"module\":null,\"name\":\"MaterialTemplateActions1\",\"overrides\":[],\"properties\":[{\"default\":0,\"kind\":null,\"name\":\"open_modal\"},{\"default\":0,\"kind\":null,\"name\":\"close_modal\"}]}],\"roots\":{\"references\":[{\"attributes\":{\"fill_alpha\":{\"value\":0.1},\"fill_color\":{\"field\":\"color\"},\"hatch_alpha\":{\"value\":0.1},\"hatch_color\":{\"field\":\"color\"},\"line_alpha\":{\"value\":0.1},\"line_color\":{\"value\":\"white\"},\"size\":{\"value\":10},\"x\":{\"field\":\"x\"},\"y\":{\"field\":\"y\"}},\"id\":\"9410\",\"type\":\"Circle\"},{\"attributes\":{},\"id\":\"9390\",\"type\":\"BasicTicker\"},{\"attributes\":{\"background_fill_alpha\":0.9,\"background_fill_color\":\"#0f0f0f\",\"below\":[{\"id\":\"9385\"}],\"border_fill_alpha\":0.8,\"border_fill_color\":\"#111111\",\"center\":[{\"id\":\"9388\"},{\"id\":\"9392\"},{\"id\":\"9424\"}],\"height\":450,\"left\":[{\"id\":\"9389\"}],\"outline_line_alpha\":0.25,\"outline_line_color\":\"#E0E0E0\",\"outline_line_width\":3,\"renderers\":[{\"id\":\"9412\"}],\"right\":[{\"id\":\"9424\"}],\"title\":{\"id\":\"9375\"},\"toolbar\":{\"id\":\"9400\"},\"width\":700,\"x_range\":{\"id\":\"9377\"},\"x_scale\":{\"id\":\"9381\"},\"y_range\":{\"id\":\"9379\"},\"y_scale\":{\"id\":\"9383\"}},\"id\":\"9374\",\"subtype\":\"Figure\",\"type\":\"Plot\"},{\"attributes\":{\"tools\":[{\"id\":\"9393\"},{\"id\":\"9394\"},{\"id\":\"9395\"},{\"id\":\"9396\"},{\"id\":\"9397\"},{\"id\":\"9398\"}]},\"id\":\"9400\",\"type\":\"Toolbar\"},{\"attributes\":{\"axis\":{\"id\":\"9389\"},\"coordinates\":null,\"dimension\":1,\"grid_line_alpha\":0.15,\"grid_line_color\":\"#E0E0E0\",\"group\":null,\"ticker\":null},\"id\":\"9392\",\"type\":\"Grid\"},{\"attributes\":{},\"id\":\"9394\",\"type\":\"WheelZoomTool\"},{\"attributes\":{},\"id\":\"9422\",\"type\":\"Selection\"},{\"attributes\":{\"background_fill_alpha\":0.2,\"background_fill_color\":\"darkgrey\",\"border_line_alpha\":0.8,\"border_line_color\":\"grey\",\"border_line_width\":3,\"coordinates\":null,\"group\":null,\"items\":[{\"id\":\"9425\"}],\"label_text_color\":\"white\"},\"id\":\"9424\",\"type\":\"Legend\"},{\"attributes\":{\"source\":{\"id\":\"9407\"}},\"id\":\"9413\",\"type\":\"CDSView\"},{\"attributes\":{\"client_comm_id\":\"a01b4cea9826451297649c31b96f8f2b\",\"comm_id\":\"6e20cacb8d11447f839a26727c494c7d\",\"plot_id\":\"9426\"},\"id\":\"9479\",\"type\":\"panel.models.comm_manager.CommManager\"},{\"attributes\":{},\"id\":\"9377\",\"type\":\"DataRange1d\"},{\"attributes\":{},\"id\":\"9379\",\"type\":\"DataRange1d\"},{\"attributes\":{\"data\":{\"color\":[\"firebrick\",\"midnightblue\",\"firebrick\",\"midnightblue\",\"firebrick\",\"firebrick\",\"firebrick\",\"midnightblue\",\"midnightblue\",\"midnightblue\",\"midnightblue\",\"midnightblue\",\"firebrick\",\"midnightblue\",\"firebrick\",\"firebrick\",\"midnightblue\",\"firebrick\",\"firebrick\",\"midnightblue\",\"midnightblue\",\"midnightblue\",\"midnightblue\",\"midnightblue\",\"midnightblue\",\"midnightblue\",\"firebrick\",\"firebrick\",\"firebrick\",\"firebrick\",\"midnightblue\",\"firebrick\",\"midnightblue\",\"midnightblue\",\"midnightblue\",\"firebrick\",\"midnightblue\",\"firebrick\",\"firebrick\",\"midnightblue\",\"firebrick\",\"midnightblue\",\"midnightblue\",\"midnightblue\",\"firebrick\",\"midnightblue\",\"firebrick\",\"midnightblue\",\"midnightblue\",\"midnightblue\",\"midnightblue\",\"midnightblue\",\"firebrick\",\"firebrick\",\"midnightblue\",\"midnightblue\",\"firebrick\",\"midnightblue\",\"midnightblue\",\"midnightblue\",\"firebrick\",\"firebrick\",\"midnightblue\",\"midnightblue\",\"midnightblue\",\"midnightblue\",\"midnightblue\",\"midnightblue\",\"firebrick\",\"midnightblue\",\"midnightblue\",\"midnightblue\",\"firebrick\",\"midnightblue\",\"firebrick\",\"midnightblue\",\"firebrick\",\"midnightblue\",\"midnightblue\",\"midnightblue\",\"midnightblue\",\"midnightblue\",\"midnightblue\",\"firebrick\",\"midnightblue\",\"midnightblue\",\"midnightblue\",\"midnightblue\",\"midnightblue\",\"midnightblue\",\"midnightblue\",\"firebrick\",\"midnightblue\",\"firebrick\",\"firebrick\",\"midnightblue\",\"midnightblue\",\"midnightblue\",\"firebrick\",\"firebrick\"],\"label\":[\"class 2\",\"class 1\",\"class 2\",\"class 1\",\"class 2\",\"class 2\",\"class 2\",\"class 1\",\"class 1\",\"class 1\",\"class 1\",\"class 1\",\"class 2\",\"class 1\",\"class 2\",\"class 2\",\"class 1\",\"class 2\",\"class 2\",\"class 1\",\"class 1\",\"class 1\",\"class 1\",\"class 1\",\"class 1\",\"class 1\",\"class 2\",\"class 2\",\"class 2\",\"class 2\",\"class 1\",\"class 2\",\"class 1\",\"class 1\",\"class 1\",\"class 2\",\"class 1\",\"class 2\",\"class 2\",\"class 1\",\"class 2\",\"class 1\",\"class 1\",\"class 1\",\"class 2\",\"class 1\",\"class 2\",\"class 1\",\"class 1\",\"class 1\",\"class 1\",\"class 1\",\"class 2\",\"class 2\",\"class 1\",\"class 1\",\"class 2\",\"class 1\",\"class 1\",\"class 1\",\"class 2\",\"class 2\",\"class 1\",\"class 1\",\"class 1\",\"class 1\",\"class 1\",\"class 1\",\"class 2\",\"class 1\",\"class 1\",\"class 1\",\"class 2\",\"class 1\",\"class 2\",\"class 1\",\"class 2\",\"class 1\",\"class 1\",\"class 1\",\"class 1\",\"class 1\",\"class 1\",\"class 2\",\"class 1\",\"class 1\",\"class 1\",\"class 1\",\"class 1\",\"class 1\",\"class 1\",\"class 2\",\"class 1\",\"class 2\",\"class 2\",\"class 1\",\"class 1\",\"class 1\",\"class 2\",\"class 2\"],\"x\":{\"__ndarray__\":\"gFpM1PeU3r94DPfP4MXmP8K5b1aZUu6/+HasERmR4j8YbYpoQ33Lvwi3v8RCbuC/ACGvNNiKyL8Q1qVo5mfoP1CYFryAROI/wHKXqfM/uj/0wbq5BlrRPx5ydR8lieU/LJHIBMID2L98KOfIps3TP8BHc2cgXe+/AI5z+Mjs3b8wgmUidUq0P97HiNEMOu6/GKaedSlh3L8AT5LR0KPnP8xNS+mvDOs/5L0FZFGn1D9waWM/LQ/UPwD235TTD9M/AMjIRjzsoL+Ysh6Pqh/FPzYVuruM2+q/WJSrJz2C0L/sb7zuMLjXv8LyMuh30+i/+rUJD69D7z+glDjKHMnev7iR8T44Ctc/KG1qxjLG1j8QNpnWxtSwv9hB9S5wMMG/0CFERxCjt7+eZvSRH27nv6zIC4TRd9y/4DQzpqme0j+EEvYmGlHqv0Ah/cpjPJU/5Fxq0+J/5j8w0vVuSTm1P1gHUyupEO+/NLL+06Pi6j/An//eK0i6vyKaGEcDNOA/DNbDhWiz3T8gPaKbzUrQPw7sILX4ous/ZgNdY8SK6T94QPZg1S3Fv7Qxw6tfztE/hGUznUTn6D/E49HpQgTfP1ybbGtxJdy/gN41pepYkj9wz+pzLz2wv2COAV9hEru/CAaQw8Rs278WsEVNmzDuv94EGH1t0OO/IMCXgP2Wwr/0++Eoe6nlP6Ds4NeWTdE/JiIqU/zj7T9gAhlpT0mhvyQ3PmYv1OK/bHPzowBP1z+gGvFfE2LUPyQKlYjxUuA/wHvsS99MyD+GD5SX7CfvP5BvuF3vHt+//H2V+p7W0j8GWtKORh/tvygCScW0G+U/4COd20m/ob9+6mTuTKztPyD8AgTlPuQ/6OPQkbSL4D+Ejz1QZLzdP8JNuV6/HuW/YK5xxJB7o7/aig67hQDuP2D2sNB7e8w/IJzXFwgA6T8cSLjB/ILbv1CglNvmJ+0/2MV1c/uOyT9+/8bf8mXvvzB5Yd8EP9k/JmDSjaxy7b+YgdoiF+7Ev1SOs1dB/9s/QGcpvmdp7T+OFcbf4VrvPxCZA7Yr9MU/WIMLLZIq4b8=\",\"dtype\":\"float64\",\"order\":\"little\",\"shape\":[100]},\"y\":{\"__ndarray__\":\"DgE4gzp04j8GpAEuD9LiP7YyRWz4aug/iFzPRoKC0D8wpzA/b5LvP6iDP1da0+I/IAbMfGzl6z84WMiwzHTmvzjprVh/5+M/zrdCphMH579kjRCFx33Zv4bE5SYOKOM/KPGwNvJYxz+glAnS58TlP64IA34DoO2/0GJ3LNryt7822HnPuX3iv5zuK7iUttu/BLfniKtF2z+IVbFfLf3nv9QCMTgX192/6IjL6/Az2L9AOC560qmmvz6BAwvxzOe/4BcOE8FTyb8cf6Ts/yPcv2B4NEcxQsS/qPLsuxqd7D+UKMsg9JjWP2hwpZDH0Mo/NDxZbq/z1D+AysI4u+6gPywynvfdk+m/NKl3UA8f27+wT21vN6vMPxhDwpjlO8c/WD3MyYTyxb8sdQH/5PnsP2iAGKh1PcO/RsPZ6Xts47+YKu6qRJHpvxhKIHO4sN2/7IjuRhDs0T/4Ksh/8RvPvyK1VbfxW+C/KLNVOfybxD84nCjsJ4rqP+zR2Wi399+/+KzxzvvJ1L/SkWjV3L/mv9gjRjzA4s4/rvQBR3b05r9EyM+xY6rQP6Ka980itu0/8nfrCdYD778M9dc6nVTTv5TcktHzMN8/0FJ4tyAAzj+wMN1hYMLmv/Ya1qxYJOK/wNKImCgcuD+EXmA3JuDXPzgbtyz42Oy/pMDrmtbF779g1BzibJitP4Qw8X1VzdS/yHXeZwk95L9MkpEWERnbv/jlZtQ4oOo/yk2R0EeM4b+MPmz6tubgPxhDF+m5MNK/ND738Ix46D+udXDr56Htv56GfmizIO0/xNhQskpF5D9AWV60OBfiv8ByNHyeBpy/0Pk7FEzYtb96KKnfy1DiP2AF4RUJCuE/IKXtJARgvz8qciA6Novnv5bM7ZB/JOc/ymi3zpTc6L8ULRdrtsfUP3S0ELSlTuU/mOFrUCiZx7/uBL/L3fbqv0DiB4ZscaQ/7ISOEdlo2r94CzH541rDPzAz7cs9ie2/Ph3mirtr7z8AKQAwQWLpPyK4oGp14ek/MLRCj7jI2L+gwv3i6DG2P/gCB9x88+c/QAN/w2Z/5T8=\",\"dtype\":\"float64\",\"order\":\"little\",\"shape\":[100]}},\"selected\":{\"id\":\"9422\"},\"selection_policy\":{\"id\":\"9421\"}},\"id\":\"9407\",\"type\":\"ColumnDataSource\"},{\"attributes\":{\"axis_label\":\"y\",\"axis_label_standoff\":10,\"axis_label_text_color\":\"#FFFFFF\",\"axis_label_text_font\":\"Josefin Sans\",\"axis_label_text_font_size\":\"1.9em\",\"axis_label_text_font_style\":\"bold\",\"axis_line_alpha\":0.4,\"axis_line_color\":\"#E0E0E0\",\"coordinates\":null,\"formatter\":{\"id\":\"9416\"},\"group\":null,\"major_label_policy\":{\"id\":\"9417\"},\"major_label_text_color\":\"#E0E0E0\",\"major_label_text_font\":\"Josefin Sans\",\"major_label_text_font_size\":\"1.15em\",\"major_tick_line_alpha\":0.4,\"major_tick_line_color\":\"#E0E0E0\",\"minor_tick_line_alpha\":0.4,\"minor_tick_line_color\":\"#E0E0E0\",\"ticker\":{\"id\":\"9390\"}},\"id\":\"9389\",\"type\":\"LinearAxis\"},{\"attributes\":{\"children\":[{\"id\":\"9427\"},{\"id\":\"9374\"},{\"id\":\"9448\"}],\"margin\":[0,0,0,0],\"name\":\"Row00213\"},\"id\":\"9426\",\"type\":\"Row\"},{\"attributes\":{\"coordinates\":null,\"group\":null,\"text\":\"Observations\",\"text_color\":\"#E0E0E0\",\"text_font\":\"Josefin Sans\",\"text_font_size\":\"2.1em\"},\"id\":\"9375\",\"type\":\"Title\"},{\"attributes\":{\"margin\":[5,5,5,5],\"name\":\"HSpacer00210\",\"sizing_mode\":\"stretch_width\"},\"id\":\"9448\",\"type\":\"Spacer\"},{\"attributes\":{\"margin\":[5,5,5,5],\"name\":\"HSpacer00209\",\"sizing_mode\":\"stretch_width\"},\"id\":\"9427\",\"type\":\"Spacer\"},{\"attributes\":{\"coordinates\":null,\"data_source\":{\"id\":\"9407\"},\"glyph\":{\"id\":\"9409\"},\"group\":null,\"hover_glyph\":null,\"muted_glyph\":{\"id\":\"9411\"},\"nonselection_glyph\":{\"id\":\"9410\"},\"view\":{\"id\":\"9413\"}},\"id\":\"9412\",\"type\":\"GlyphRenderer\"},{\"attributes\":{\"fill_alpha\":{\"value\":0.6},\"fill_color\":{\"field\":\"color\"},\"hatch_alpha\":{\"value\":0.6},\"hatch_color\":{\"field\":\"color\"},\"line_alpha\":{\"value\":0.6},\"line_color\":{\"value\":\"white\"},\"size\":{\"value\":10},\"x\":{\"field\":\"x\"},\"y\":{\"field\":\"y\"}},\"id\":\"9409\",\"type\":\"Circle\"},{\"attributes\":{},\"id\":\"9398\",\"type\":\"HelpTool\"},{\"attributes\":{},\"id\":\"9421\",\"type\":\"UnionRenderers\"},{\"attributes\":{},\"id\":\"9393\",\"type\":\"PanTool\"},{\"attributes\":{\"overlay\":{\"id\":\"9399\"}},\"id\":\"9395\",\"type\":\"BoxZoomTool\"},{\"attributes\":{},\"id\":\"9396\",\"type\":\"SaveTool\"},{\"attributes\":{},\"id\":\"9397\",\"type\":\"ResetTool\"},{\"attributes\":{},\"id\":\"9416\",\"type\":\"BasicTickFormatter\"},{\"attributes\":{\"label\":{\"field\":\"label\"},\"renderers\":[{\"id\":\"9412\"}]},\"id\":\"9425\",\"type\":\"LegendItem\"},{\"attributes\":{},\"id\":\"9420\",\"type\":\"AllLabels\"},{\"attributes\":{},\"id\":\"9386\",\"type\":\"BasicTicker\"},{\"attributes\":{},\"id\":\"9419\",\"type\":\"BasicTickFormatter\"},{\"attributes\":{},\"id\":\"9383\",\"type\":\"LinearScale\"},{\"attributes\":{\"axis\":{\"id\":\"9385\"},\"coordinates\":null,\"grid_line_alpha\":0.15,\"grid_line_color\":\"#E0E0E0\",\"group\":null,\"ticker\":null},\"id\":\"9388\",\"type\":\"Grid\"},{\"attributes\":{},\"id\":\"9381\",\"type\":\"LinearScale\"},{\"attributes\":{\"axis_label\":\"x\",\"axis_label_standoff\":10,\"axis_label_text_color\":\"#FFFFFF\",\"axis_label_text_font\":\"Josefin Sans\",\"axis_label_text_font_size\":\"1.9em\",\"axis_label_text_font_style\":\"bold\",\"axis_line_alpha\":0.4,\"axis_line_color\":\"#E0E0E0\",\"coordinates\":null,\"formatter\":{\"id\":\"9419\"},\"group\":null,\"major_label_policy\":{\"id\":\"9420\"},\"major_label_text_color\":\"#E0E0E0\",\"major_label_text_font\":\"Josefin Sans\",\"major_label_text_font_size\":\"1.15em\",\"major_tick_line_alpha\":0.4,\"major_tick_line_color\":\"#E0E0E0\",\"minor_tick_line_alpha\":0.4,\"minor_tick_line_color\":\"#E0E0E0\",\"ticker\":{\"id\":\"9386\"}},\"id\":\"9385\",\"type\":\"LinearAxis\"},{\"attributes\":{\"bottom_units\":\"screen\",\"coordinates\":null,\"fill_alpha\":0.5,\"fill_color\":\"lightgrey\",\"group\":null,\"left_units\":\"screen\",\"level\":\"overlay\",\"line_alpha\":1.0,\"line_color\":\"black\",\"line_dash\":[4,4],\"line_width\":2,\"right_units\":\"screen\",\"syncable\":false,\"top_units\":\"screen\"},\"id\":\"9399\",\"type\":\"BoxAnnotation\"},{\"attributes\":{},\"id\":\"9417\",\"type\":\"AllLabels\"},{\"attributes\":{\"fill_alpha\":{\"value\":0.2},\"fill_color\":{\"field\":\"color\"},\"hatch_alpha\":{\"value\":0.2},\"hatch_color\":{\"field\":\"color\"},\"line_alpha\":{\"value\":0.2},\"line_color\":{\"value\":\"white\"},\"size\":{\"value\":10},\"x\":{\"field\":\"x\"},\"y\":{\"field\":\"y\"}},\"id\":\"9411\",\"type\":\"Circle\"}],\"root_ids\":[\"9426\",\"9479\"]},\"title\":\"Bokeh Application\",\"version\":\"2.4.3\"}};\n",
       "    var render_items = [{\"docid\":\"67c43b97-c1f5-4d0d-80f7-0d243af4d775\",\"root_ids\":[\"9426\"],\"roots\":{\"9426\":\"6d025c61-1ed5-4b7c-abc1-6cf314faada8\"}}];\n",
       "    root.Bokeh.embed.embed_items_notebook(docs_json, render_items);\n",
       "    for (const render_item of render_items) {\n",
       "      for (const root_id of render_item.root_ids) {\n",
       "\tconst id_el = document.getElementById(root_id)\n",
       "\tif (id_el.children.length && (id_el.children[0].className === 'bk-root')) {\n",
       "\t  const root_el = id_el.children[0]\n",
       "\t  root_el.id = root_el.id + '-rendered'\n",
       "\t}\n",
       "      }\n",
       "    }\n",
       "  }\n",
       "  if (root.Bokeh !== undefined && root.Bokeh.Panel !== undefined) {\n",
       "    embed_document(root);\n",
       "  } else {\n",
       "    var attempts = 0;\n",
       "    var timer = setInterval(function(root) {\n",
       "      if (root.Bokeh !== undefined && root.Bokeh.Panel !== undefined) {\n",
       "        clearInterval(timer);\n",
       "        embed_document(root);\n",
       "      } else if (document.readyState == \"complete\") {\n",
       "        attempts++;\n",
       "        if (attempts > 200) {\n",
       "          clearInterval(timer);\n",
       "          console.log(\"Bokeh: ERROR: Unable to run BokehJS code because BokehJS library is missing\");\n",
       "        }\n",
       "      }\n",
       "    }, 25, root)\n",
       "  }\n",
       "})(window);</script>"
      ],
      "text/plain": [
       "Row\n",
       "    [0] HSpacer()\n",
       "    [1] Bokeh(Figure)\n",
       "    [2] HSpacer()"
      ]
     },
     "execution_count": 30,
     "metadata": {
      "application/vnd.holoviews_exec.v0+json": {
       "id": "9426"
      }
     },
     "output_type": "execute_result"
    }
   ],
   "source": [
    "# Number of points to generate\n",
    "n_observations = 100;\n",
    "# Generate 2-dimensional random points\n",
    "x_inputs = np.random.rand(int(n_observations), 2) * 2 - 1;\n",
    "# Slope of separating line\n",
    "sep_slope = np.log(np.random.rand() * 10);\n",
    "sep_bias = np.random.rand() * 2 - 1;\n",
    "# Create the indexes for a two-class problem\n",
    "y_class = (x_inputs[:, 1] - x_inputs[:, 0] * sep_slope - sep_bias > 0) * 1;\n",
    "# Plot the corresponding pattern\n",
    "plot = center_plot(scatter_classes(x_inputs, y_class))\n",
    "plot"
   ]
  },
  {
   "cell_type": "markdown",
   "metadata": {},
   "source": [
    "<a id=\"neuron\"></a>\n",
    "## Single neuron\n",
    "\n",
    "For the first parts of the tutorial, we will perform the simplest classification model possible in a neural network setting, a single neuron. We briefly recall here that; given an input vector $ \\mathbf{x} \\in \\mathbb{R}^{n} $, a single neuron computes the function  \n",
    "\n",
    "$$\n",
    "\\begin{equation}\n",
    "\\bar{y}=\\phi\\left(\\sum_{i = 1}^{n}w_{i}.x_{i} + b\\right)\n",
    "\\label{eq1}\n",
    "\\end{equation}\n",
    "$$\n",
    "\n",
    "with $ \\mathbf{w} \\in \\mathbb{R}^{n} $ a weight vector, $ b $ a bias and $ \\phi\\left( \\cdot \\right) $ an *activation function*. Therefore, if we consider the *threshold* activation function ($ \\mathbb{I}_{0}\\left(x\\right)=1 $ if $ x \\geq 0$), a single neuron simply performs an *affine transform* and then a *linear* discrimination of the space. \n",
    "\n",
    "***\n",
    "\n",
    "<div class=\"alert alert-success\" markdown=\"1\" style=\"color:white; background-color: #410819; border-color: #cb2e47\">\n",
    "\n",
    "> **Important note**\n",
    "> The following implementation tries to remain as close as possible to the original neuron model by McCulloch & Pitts, notably by using the _threshold activation_ function. Although this leads to a very simple implementation (akin to using an _identity_ activation, note that it is not to be used afterwards.\n",
    "\n",
    "</div>\n",
    "\n",
    "***\n",
    "\n",
    "As we will see later on, a **neural network** will simply be composed of _layers_ of these neurons, which produce successive computations\n",
    "\n",
    "<img src=\"images/02_feedforward_nn.png\" align=\"center\"/>\n",
    "\n",
    "Geometrically, a single neuron computes an hyperplane that separates the space. In order to learn, we have to adjust the weights and know \"how much wrong we are\". To do so, we consider that we know the desired output $ y_{j} $ of a system for a given example $ \\mathbf{x}_{j} $ (eg. a predicted value for a regression system, a class value for a classification system). Therefore, we define the MSE loss function $ \\mathcal{L}_{\\mathcal{D}} $ over a whole dataset as\n",
    "\n",
    "$$\n",
    "\\begin{equation}\n",
    "\\mathcal{L}_{\\mathcal{D}}=\\sum_{j=1}^{|\\mathcal{D}|}\\left\\Vert \\bar{y}_{j}-y_{j}\\right\\Vert ^{2}\n",
    "\\label{eq2}\n",
    "\\end{equation}\n",
    "$$\n",
    "\n",
    "with $|\\mathcal{D}|$ being the size of our dataset. In order to know how to change the weights based on the value of the errors, we need to now \"how to change it to make it better\". Therefore, we should compute the sets of derivatives of the error given each parameter\n",
    "\n",
    "$$\n",
    "\\begin{equation}\n",
    "\\Delta\\bar{\\mathbf{w}}=\\left(\\frac{\\delta\\mathcal{L}_{\\mathcal{D}}}{\\delta w_{1}},\\ldots,\\frac{\\delta\\mathcal{L}_{\\mathcal{D}}}{\\delta w_{n}}\\right)\n",
    "\\label{eq3}\n",
    "\\end{equation}\n",
    "$$ \n",
    "\n",
    "***\n",
    "\n",
    "<div class=\"alert alert-success\" markdown=\"1\" style=\"color:white; background-color: #192841; border-color: #779ecb\">\n",
    "\n",
    "> ### Exercise (course)\n",
    ">   1. Perform the derivatives of the output given a single neuron\n",
    ">   2. Perform the derivatives for the bias as well\n",
    "\n",
    "</div>\n",
    "\n",
    "***"
   ]
  },
  {
   "cell_type": "markdown",
   "metadata": {},
   "source": [
    "### Training your own neuron\n",
    "\n",
    "We will start by training a single neuron to learn how to perform this discrimination with a linear problem (so that a single neuron is enough to solve it). "
   ]
  },
  {
   "cell_type": "code",
   "execution_count": 39,
   "metadata": {
    "tags": []
   },
   "outputs": [],
   "source": [
    "# Learning rate\n",
    "eta = 0.005;\n",
    "# Weight decay\n",
    "lambda_r = 0.1\n",
    "# Number of epochs\n",
    "n_epochs = 50\n",
    "# Initialize the weights\n",
    "weights = np.random.randn(1, 2);\n",
    "bias = np.random.randn(1, 1);\n",
    "# Save the weight history for plotting\n",
    "weights_history = np.zeros((n_epochs + 1, 2));\n",
    "bias_history = np.zeros((n_epochs + 1, 1));"
   ]
  },
  {
   "cell_type": "markdown",
   "metadata": {},
   "source": [
    "Now you need to update the following code loop to ensure that your neuron learns to separate between the classes \n",
    "***\n",
    "\n",
    "<div class=\"alert alert-success\" markdown=\"1\" style=\"color:white; background-color: #192841; border-color: #779ecb\">\n",
    "\n",
    "> ### Exercise (course)\n",
    ">   1. Update the loop so that it computes the forward propagation error\n",
    ">   2. Update the loop to perform learning (based on back-propagation)\n",
    ">   3. Run the learning procedure, which should produce a result similar to that displayed on the website\n",
    ">   4. Perform multiple re-runs by **tweaking the hyperparameters** (learning rate, weight decay)\n",
    ">   5. What observations can you make on the learning process?\n",
    ">   6. (Optional) Change the input patterns, and confirm your observations.\n",
    ">   6. (Optional) Incorporate the bias in the weights to obtain a **vectorized** code.\n",
    "\n",
    "</div>\n",
    "\n",
    "***"
   ]
  },
  {
   "cell_type": "code",
   "execution_count": 40,
   "metadata": {
    "tags": []
   },
   "outputs": [
    {
     "data": {},
     "metadata": {},
     "output_type": "display_data"
    },
    {
     "data": {
      "application/vnd.holoviews_exec.v0+json": "",
      "text/html": [
       "<div id='11138'>\n",
       "  <div class=\"bk-root\" id=\"90eb8601-1043-4f9e-a57c-31ffa5e7a0b3\" data-root-id=\"11138\"></div>\n",
       "</div>\n",
       "<script type=\"application/javascript\">(function(root) {\n",
       "  function embed_document(root) {\n",
       "    var docs_json = {\"b95248a9-d6e6-4d74-90c0-cdb55bd1dde3\":{\"defs\":[{\"extends\":null,\"module\":null,\"name\":\"ReactiveHTML1\",\"overrides\":[],\"properties\":[]},{\"extends\":null,\"module\":null,\"name\":\"FlexBox1\",\"overrides\":[],\"properties\":[{\"default\":\"flex-start\",\"kind\":null,\"name\":\"align_content\"},{\"default\":\"flex-start\",\"kind\":null,\"name\":\"align_items\"},{\"default\":\"row\",\"kind\":null,\"name\":\"flex_direction\"},{\"default\":\"wrap\",\"kind\":null,\"name\":\"flex_wrap\"},{\"default\":\"flex-start\",\"kind\":null,\"name\":\"justify_content\"}]},{\"extends\":null,\"module\":null,\"name\":\"GridStack1\",\"overrides\":[],\"properties\":[{\"default\":\"warn\",\"kind\":null,\"name\":\"mode\"},{\"default\":null,\"kind\":null,\"name\":\"ncols\"},{\"default\":null,\"kind\":null,\"name\":\"nrows\"},{\"default\":true,\"kind\":null,\"name\":\"allow_resize\"},{\"default\":true,\"kind\":null,\"name\":\"allow_drag\"},{\"default\":[],\"kind\":null,\"name\":\"state\"}]},{\"extends\":null,\"module\":null,\"name\":\"click1\",\"overrides\":[],\"properties\":[{\"default\":\"\",\"kind\":null,\"name\":\"terminal_output\"},{\"default\":\"\",\"kind\":null,\"name\":\"debug_name\"},{\"default\":0,\"kind\":null,\"name\":\"clears\"}]},{\"extends\":null,\"module\":null,\"name\":\"NotificationAreaBase1\",\"overrides\":[],\"properties\":[{\"default\":\"bottom-right\",\"kind\":null,\"name\":\"position\"},{\"default\":0,\"kind\":null,\"name\":\"_clear\"}]},{\"extends\":null,\"module\":null,\"name\":\"NotificationArea1\",\"overrides\":[],\"properties\":[{\"default\":[],\"kind\":null,\"name\":\"notifications\"},{\"default\":\"bottom-right\",\"kind\":null,\"name\":\"position\"},{\"default\":0,\"kind\":null,\"name\":\"_clear\"},{\"default\":[{\"background\":\"#ffc107\",\"icon\":{\"className\":\"fas fa-exclamation-triangle\",\"color\":\"white\",\"tagName\":\"i\"},\"type\":\"warning\"},{\"background\":\"#007bff\",\"icon\":{\"className\":\"fas fa-info-circle\",\"color\":\"white\",\"tagName\":\"i\"},\"type\":\"info\"}],\"kind\":null,\"name\":\"types\"}]},{\"extends\":null,\"module\":null,\"name\":\"Notification\",\"overrides\":[],\"properties\":[{\"default\":null,\"kind\":null,\"name\":\"background\"},{\"default\":3000,\"kind\":null,\"name\":\"duration\"},{\"default\":null,\"kind\":null,\"name\":\"icon\"},{\"default\":\"\",\"kind\":null,\"name\":\"message\"},{\"default\":null,\"kind\":null,\"name\":\"notification_type\"},{\"default\":false,\"kind\":null,\"name\":\"_destroyed\"}]},{\"extends\":null,\"module\":null,\"name\":\"TemplateActions1\",\"overrides\":[],\"properties\":[{\"default\":0,\"kind\":null,\"name\":\"open_modal\"},{\"default\":0,\"kind\":null,\"name\":\"close_modal\"}]},{\"extends\":null,\"module\":null,\"name\":\"MaterialTemplateActions1\",\"overrides\":[],\"properties\":[{\"default\":0,\"kind\":null,\"name\":\"open_modal\"},{\"default\":0,\"kind\":null,\"name\":\"close_modal\"}]}],\"roots\":{\"references\":[{\"attributes\":{\"source\":{\"id\":\"11060\"}},\"id\":\"11065\",\"type\":\"CDSView\"},{\"attributes\":{},\"id\":\"11167\",\"type\":\"UnionRenderers\"},{\"attributes\":{\"source\":{\"id\":\"11048\"}},\"id\":\"11053\",\"type\":\"CDSView\"},{\"attributes\":{\"data\":{\"x\":{\"__ndarray__\":\"fv/G3/Jl77+OFcbf4VrvPw==\",\"dtype\":\"float64\",\"order\":\"little\",\"shape\":[2]},\"y\":{\"__ndarray__\":\"wKYn3gR77T8YbH0V8F68vw==\",\"dtype\":\"float64\",\"order\":\"little\",\"shape\":[2]}},\"selected\":{\"id\":\"11152\"},\"selection_policy\":{\"id\":\"11151\"}},\"id\":\"11030\",\"type\":\"ColumnDataSource\"},{\"attributes\":{},\"id\":\"11168\",\"type\":\"Selection\"},{\"attributes\":{\"source\":{\"id\":\"11054\"}},\"id\":\"11059\",\"type\":\"CDSView\"},{\"attributes\":{\"coordinates\":null,\"data_source\":{\"id\":\"11048\"},\"glyph\":{\"id\":\"11049\"},\"group\":null,\"hover_glyph\":null,\"muted_glyph\":{\"id\":\"11051\"},\"nonselection_glyph\":{\"id\":\"11050\"},\"view\":{\"id\":\"11053\"}},\"id\":\"11052\",\"type\":\"GlyphRenderer\"},{\"attributes\":{\"line_color\":\"#8607A6\",\"line_dash\":[6],\"line_width\":4,\"x\":{\"field\":\"x\"},\"y\":{\"field\":\"y\"}},\"id\":\"11055\",\"type\":\"Line\"},{\"attributes\":{\"coordinates\":null,\"data_source\":{\"id\":\"11036\"},\"glyph\":{\"id\":\"11037\"},\"group\":null,\"hover_glyph\":null,\"muted_glyph\":{\"id\":\"11039\"},\"nonselection_glyph\":{\"id\":\"11038\"},\"view\":{\"id\":\"11041\"}},\"id\":\"11040\",\"type\":\"GlyphRenderer\"},{\"attributes\":{\"axis\":{\"id\":\"10985\"},\"coordinates\":null,\"dimension\":1,\"grid_line_alpha\":0.15,\"grid_line_color\":\"#E0E0E0\",\"group\":null,\"ticker\":null},\"id\":\"10988\",\"type\":\"Grid\"},{\"attributes\":{\"line_alpha\":0.2,\"line_color\":\"#7200A8\",\"line_dash\":[6],\"line_width\":4,\"x\":{\"field\":\"x\"},\"y\":{\"field\":\"y\"}},\"id\":\"11051\",\"type\":\"Line\"},{\"attributes\":{\"line_alpha\":0.1,\"line_color\":\"#7200A8\",\"line_dash\":[6],\"line_width\":4,\"x\":{\"field\":\"x\"},\"y\":{\"field\":\"y\"}},\"id\":\"11050\",\"type\":\"Line\"},{\"attributes\":{\"data\":{\"x\":{\"__ndarray__\":\"fv/G3/Jl77+OFcbf4VrvPw==\",\"dtype\":\"float64\",\"order\":\"little\",\"shape\":[2]},\"y\":{\"__ndarray__\":\"ANQyJRmcI0AWX63JMZYowA==\",\"dtype\":\"float64\",\"order\":\"little\",\"shape\":[2]}},\"selected\":{\"id\":\"11160\"},\"selection_policy\":{\"id\":\"11159\"}},\"id\":\"11054\",\"type\":\"ColumnDataSource\"},{\"attributes\":{\"source\":{\"id\":\"11066\"}},\"id\":\"11071\",\"type\":\"CDSView\"},{\"attributes\":{\"axis_label\":\"y\",\"axis_label_standoff\":10,\"axis_label_text_color\":\"#FFFFFF\",\"axis_label_text_font\":\"Josefin Sans\",\"axis_label_text_font_size\":\"1.9em\",\"axis_label_text_font_style\":\"bold\",\"axis_line_alpha\":0.4,\"axis_line_color\":\"#E0E0E0\",\"coordinates\":null,\"formatter\":{\"id\":\"11012\"},\"group\":null,\"major_label_policy\":{\"id\":\"11013\"},\"major_label_text_color\":\"#E0E0E0\",\"major_label_text_font\":\"Josefin Sans\",\"major_label_text_font_size\":\"1.15em\",\"major_tick_line_alpha\":0.4,\"major_tick_line_color\":\"#E0E0E0\",\"minor_tick_line_alpha\":0.4,\"minor_tick_line_color\":\"#E0E0E0\",\"ticker\":{\"id\":\"10986\"}},\"id\":\"10985\",\"type\":\"LinearAxis\"},{\"attributes\":{\"coordinates\":null,\"data_source\":{\"id\":\"11054\"},\"glyph\":{\"id\":\"11055\"},\"group\":null,\"hover_glyph\":null,\"muted_glyph\":{\"id\":\"11057\"},\"nonselection_glyph\":{\"id\":\"11056\"},\"view\":{\"id\":\"11059\"}},\"id\":\"11058\",\"type\":\"GlyphRenderer\"},{\"attributes\":{\"line_color\":\"#9B179E\",\"line_dash\":[6],\"line_width\":4,\"x\":{\"field\":\"x\"},\"y\":{\"field\":\"y\"}},\"id\":\"11061\",\"type\":\"Line\"},{\"attributes\":{\"line_alpha\":0.2,\"line_color\":\"#8607A6\",\"line_dash\":[6],\"line_width\":4,\"x\":{\"field\":\"x\"},\"y\":{\"field\":\"y\"}},\"id\":\"11057\",\"type\":\"Line\"},{\"attributes\":{\"end\":0.9866253122502027,\"start\":-0.9929001832770337},\"id\":\"11023\",\"type\":\"Range1d\"},{\"attributes\":{\"line_alpha\":0.1,\"line_color\":\"#8607A6\",\"line_dash\":[6],\"line_width\":4,\"x\":{\"field\":\"x\"},\"y\":{\"field\":\"y\"}},\"id\":\"11056\",\"type\":\"Line\"},{\"attributes\":{\"line_color\":\"#2D0494\",\"line_dash\":[6],\"line_width\":4,\"x\":{\"field\":\"x\"},\"y\":{\"field\":\"y\"}},\"id\":\"11031\",\"type\":\"Line\"},{\"attributes\":{\"data\":{\"x\":{\"__ndarray__\":\"fv/G3/Jl77+OFcbf4VrvPw==\",\"dtype\":\"float64\",\"order\":\"little\",\"shape\":[2]},\"y\":{\"__ndarray__\":\"sufmWCSYQsCjow0kAnJHQA==\",\"dtype\":\"float64\",\"order\":\"little\",\"shape\":[2]}},\"selected\":{\"id\":\"11162\"},\"selection_policy\":{\"id\":\"11161\"}},\"id\":\"11060\",\"type\":\"ColumnDataSource\"},{\"attributes\":{\"label\":{\"field\":\"label\"},\"renderers\":[{\"id\":\"11008\"}]},\"id\":\"11021\",\"type\":\"LegendItem\"},{\"attributes\":{\"line_color\":\"#0C0786\",\"line_dash\":[6],\"line_width\":4,\"x\":{\"field\":\"x\"},\"y\":{\"field\":\"y\"}},\"id\":\"11025\",\"type\":\"Line\"},{\"attributes\":{\"line_color\":\"#AD2692\",\"line_dash\":[6],\"line_width\":4,\"x\":{\"field\":\"x\"},\"y\":{\"field\":\"y\"}},\"id\":\"11067\",\"type\":\"Line\"},{\"attributes\":{\"line_color\":\"#5C00A5\",\"line_dash\":[6],\"line_width\":4,\"x\":{\"field\":\"x\"},\"y\":{\"field\":\"y\"}},\"id\":\"11043\",\"type\":\"Line\"},{\"attributes\":{},\"id\":\"11169\",\"type\":\"UnionRenderers\"},{\"attributes\":{\"coordinates\":null,\"data_source\":{\"id\":\"11060\"},\"glyph\":{\"id\":\"11061\"},\"group\":null,\"hover_glyph\":null,\"muted_glyph\":{\"id\":\"11063\"},\"nonselection_glyph\":{\"id\":\"11062\"},\"view\":{\"id\":\"11065\"}},\"id\":\"11064\",\"type\":\"GlyphRenderer\"},{\"attributes\":{\"data\":{\"x\":{\"__ndarray__\":\"fv/G3/Jl77+OFcbf4VrvPw==\",\"dtype\":\"float64\",\"order\":\"little\",\"shape\":[2]},\"y\":{\"__ndarray__\":\"x6EPOT4K7j+LNyuE2sriPw==\",\"dtype\":\"float64\",\"order\":\"little\",\"shape\":[2]}},\"selected\":{\"id\":\"11150\"},\"selection_policy\":{\"id\":\"11149\"}},\"id\":\"11024\",\"type\":\"ColumnDataSource\"},{\"attributes\":{\"line_alpha\":0.2,\"line_color\":\"#9B179E\",\"line_dash\":[6],\"line_width\":4,\"x\":{\"field\":\"x\"},\"y\":{\"field\":\"y\"}},\"id\":\"11063\",\"type\":\"Line\"},{\"attributes\":{},\"id\":\"11170\",\"type\":\"Selection\"},{\"attributes\":{\"line_alpha\":0.1,\"line_color\":\"#9B179E\",\"line_dash\":[6],\"line_width\":4,\"x\":{\"field\":\"x\"},\"y\":{\"field\":\"y\"}},\"id\":\"11062\",\"type\":\"Line\"},{\"attributes\":{\"line_color\":\"#BC3685\",\"line_dash\":[6],\"line_width\":4,\"x\":{\"field\":\"x\"},\"y\":{\"field\":\"y\"}},\"id\":\"11073\",\"type\":\"Line\"},{\"attributes\":{\"end\":0.9798440332967162,\"start\":-0.9811949129725546},\"id\":\"11022\",\"type\":\"Range1d\"},{\"attributes\":{\"coordinates\":null,\"data_source\":{\"id\":\"11024\"},\"glyph\":{\"id\":\"11025\"},\"group\":null,\"hover_glyph\":null,\"muted_glyph\":{\"id\":\"11027\"},\"nonselection_glyph\":{\"id\":\"11026\"},\"view\":{\"id\":\"11029\"}},\"id\":\"11028\",\"type\":\"GlyphRenderer\"},{\"attributes\":{\"data\":{\"x\":{\"__ndarray__\":\"fv/G3/Jl77+OFcbf4VrvPw==\",\"dtype\":\"float64\",\"order\":\"little\",\"shape\":[2]},\"y\":{\"__ndarray__\":\"gZDgiqlwIcA1KVTX0yAmQA==\",\"dtype\":\"float64\",\"order\":\"little\",\"shape\":[2]}},\"selected\":{\"id\":\"11164\"},\"selection_policy\":{\"id\":\"11163\"}},\"id\":\"11066\",\"type\":\"ColumnDataSource\"},{\"attributes\":{\"source\":{\"id\":\"11072\"}},\"id\":\"11077\",\"type\":\"CDSView\"},{\"attributes\":{\"line_color\":\"#45039E\",\"line_dash\":[6],\"line_width\":4,\"x\":{\"field\":\"x\"},\"y\":{\"field\":\"y\"}},\"id\":\"11037\",\"type\":\"Line\"},{\"attributes\":{\"coordinates\":null,\"data_source\":{\"id\":\"11066\"},\"glyph\":{\"id\":\"11067\"},\"group\":null,\"hover_glyph\":null,\"muted_glyph\":{\"id\":\"11069\"},\"nonselection_glyph\":{\"id\":\"11068\"},\"view\":{\"id\":\"11071\"}},\"id\":\"11070\",\"type\":\"GlyphRenderer\"},{\"attributes\":{\"coordinates\":null,\"data_source\":{\"id\":\"11042\"},\"glyph\":{\"id\":\"11043\"},\"group\":null,\"hover_glyph\":null,\"muted_glyph\":{\"id\":\"11045\"},\"nonselection_glyph\":{\"id\":\"11044\"},\"view\":{\"id\":\"11047\"}},\"id\":\"11046\",\"type\":\"GlyphRenderer\"},{\"attributes\":{},\"id\":\"11149\",\"type\":\"UnionRenderers\"},{\"attributes\":{\"line_alpha\":0.2,\"line_color\":\"#AD2692\",\"line_dash\":[6],\"line_width\":4,\"x\":{\"field\":\"x\"},\"y\":{\"field\":\"y\"}},\"id\":\"11069\",\"type\":\"Line\"},{\"attributes\":{\"line_alpha\":0.1,\"line_color\":\"#AD2692\",\"line_dash\":[6],\"line_width\":4,\"x\":{\"field\":\"x\"},\"y\":{\"field\":\"y\"}},\"id\":\"11068\",\"type\":\"Line\"},{\"attributes\":{\"line_color\":\"#CA4678\",\"line_dash\":[6],\"line_width\":4,\"x\":{\"field\":\"x\"},\"y\":{\"field\":\"y\"}},\"id\":\"11079\",\"type\":\"Line\"},{\"attributes\":{},\"id\":\"11150\",\"type\":\"Selection\"},{\"attributes\":{\"data\":{\"x\":{\"__ndarray__\":\"fv/G3/Jl77+OFcbf4VrvPw==\",\"dtype\":\"float64\",\"order\":\"little\",\"shape\":[2]},\"y\":{\"__ndarray__\":\"QIPXfrViFcBQ2SOREnkaQA==\",\"dtype\":\"float64\",\"order\":\"little\",\"shape\":[2]}},\"selected\":{\"id\":\"11166\"},\"selection_policy\":{\"id\":\"11165\"}},\"id\":\"11072\",\"type\":\"ColumnDataSource\"},{\"attributes\":{\"source\":{\"id\":\"11078\"}},\"id\":\"11083\",\"type\":\"CDSView\"},{\"attributes\":{\"coordinates\":null,\"data_source\":{\"id\":\"11072\"},\"glyph\":{\"id\":\"11073\"},\"group\":null,\"hover_glyph\":null,\"muted_glyph\":{\"id\":\"11075\"},\"nonselection_glyph\":{\"id\":\"11074\"},\"view\":{\"id\":\"11077\"}},\"id\":\"11076\",\"type\":\"GlyphRenderer\"},{\"attributes\":{\"line_alpha\":0.2,\"line_color\":\"#BC3685\",\"line_dash\":[6],\"line_width\":4,\"x\":{\"field\":\"x\"},\"y\":{\"field\":\"y\"}},\"id\":\"11075\",\"type\":\"Line\"},{\"attributes\":{\"line_alpha\":0.1,\"line_color\":\"#BC3685\",\"line_dash\":[6],\"line_width\":4,\"x\":{\"field\":\"x\"},\"y\":{\"field\":\"y\"}},\"id\":\"11074\",\"type\":\"Line\"},{\"attributes\":{\"axis\":{\"id\":\"10981\"},\"coordinates\":null,\"grid_line_alpha\":0.15,\"grid_line_color\":\"#E0E0E0\",\"group\":null,\"ticker\":null},\"id\":\"10984\",\"type\":\"Grid\"},{\"attributes\":{},\"id\":\"11171\",\"type\":\"UnionRenderers\"},{\"attributes\":{\"line_color\":\"#D7566C\",\"line_dash\":[6],\"line_width\":4,\"x\":{\"field\":\"x\"},\"y\":{\"field\":\"y\"}},\"id\":\"11085\",\"type\":\"Line\"},{\"attributes\":{\"data\":{\"x\":{\"__ndarray__\":\"fv/G3/Jl77+OFcbf4VrvPw==\",\"dtype\":\"float64\",\"order\":\"little\",\"shape\":[2]},\"y\":{\"__ndarray__\":\"PMyzV5ilDsAuvXxW7HsSQA==\",\"dtype\":\"float64\",\"order\":\"little\",\"shape\":[2]}},\"selected\":{\"id\":\"11168\"},\"selection_policy\":{\"id\":\"11167\"}},\"id\":\"11078\",\"type\":\"ColumnDataSource\"},{\"attributes\":{\"source\":{\"id\":\"11084\"}},\"id\":\"11089\",\"type\":\"CDSView\"},{\"attributes\":{},\"id\":\"11172\",\"type\":\"Selection\"},{\"attributes\":{\"coordinates\":null,\"data_source\":{\"id\":\"11078\"},\"glyph\":{\"id\":\"11079\"},\"group\":null,\"hover_glyph\":null,\"muted_glyph\":{\"id\":\"11081\"},\"nonselection_glyph\":{\"id\":\"11080\"},\"view\":{\"id\":\"11083\"}},\"id\":\"11082\",\"type\":\"GlyphRenderer\"},{\"attributes\":{\"line_alpha\":0.2,\"line_color\":\"#CA4678\",\"line_dash\":[6],\"line_width\":4,\"x\":{\"field\":\"x\"},\"y\":{\"field\":\"y\"}},\"id\":\"11081\",\"type\":\"Line\"},{\"attributes\":{},\"id\":\"10977\",\"type\":\"LinearScale\"},{\"attributes\":{\"line_alpha\":0.1,\"line_color\":\"#CA4678\",\"line_dash\":[6],\"line_width\":4,\"x\":{\"field\":\"x\"},\"y\":{\"field\":\"y\"}},\"id\":\"11080\",\"type\":\"Line\"},{\"attributes\":{\"line_color\":\"#E26660\",\"line_dash\":[6],\"line_width\":4,\"x\":{\"field\":\"x\"},\"y\":{\"field\":\"y\"}},\"id\":\"11091\",\"type\":\"Line\"},{\"attributes\":{\"data\":{\"x\":{\"__ndarray__\":\"fv/G3/Jl77+OFcbf4VrvPw==\",\"dtype\":\"float64\",\"order\":\"little\",\"shape\":[2]},\"y\":{\"__ndarray__\":\"x7OXXneXB8A7eKkqYpsMQA==\",\"dtype\":\"float64\",\"order\":\"little\",\"shape\":[2]}},\"selected\":{\"id\":\"11170\"},\"selection_policy\":{\"id\":\"11169\"}},\"id\":\"11084\",\"type\":\"ColumnDataSource\"},{\"attributes\":{},\"id\":\"11151\",\"type\":\"UnionRenderers\"},{\"attributes\":{\"source\":{\"id\":\"11090\"}},\"id\":\"11095\",\"type\":\"CDSView\"},{\"attributes\":{\"coordinates\":null,\"data_source\":{\"id\":\"11084\"},\"glyph\":{\"id\":\"11085\"},\"group\":null,\"hover_glyph\":null,\"muted_glyph\":{\"id\":\"11087\"},\"nonselection_glyph\":{\"id\":\"11086\"},\"view\":{\"id\":\"11089\"}},\"id\":\"11088\",\"type\":\"GlyphRenderer\"},{\"attributes\":{},\"id\":\"11152\",\"type\":\"Selection\"},{\"attributes\":{\"line_alpha\":0.2,\"line_color\":\"#D7566C\",\"line_dash\":[6],\"line_width\":4,\"x\":{\"field\":\"x\"},\"y\":{\"field\":\"y\"}},\"id\":\"11087\",\"type\":\"Line\"},{\"attributes\":{\"line_alpha\":0.1,\"line_color\":\"#D7566C\",\"line_dash\":[6],\"line_width\":4,\"x\":{\"field\":\"x\"},\"y\":{\"field\":\"y\"}},\"id\":\"11086\",\"type\":\"Line\"},{\"attributes\":{\"line_color\":\"#EC7853\",\"line_dash\":[6],\"line_width\":4,\"x\":{\"field\":\"x\"},\"y\":{\"field\":\"y\"}},\"id\":\"11097\",\"type\":\"Line\"},{\"attributes\":{\"data\":{\"x\":{\"__ndarray__\":\"fv/G3/Jl77+OFcbf4VrvPw==\",\"dtype\":\"float64\",\"order\":\"little\",\"shape\":[2]},\"y\":{\"__ndarray__\":\"KCBBVT30AsDC7jteYxwHQA==\",\"dtype\":\"float64\",\"order\":\"little\",\"shape\":[2]}},\"selected\":{\"id\":\"11172\"},\"selection_policy\":{\"id\":\"11171\"}},\"id\":\"11090\",\"type\":\"ColumnDataSource\"},{\"attributes\":{\"source\":{\"id\":\"11096\"}},\"id\":\"11101\",\"type\":\"CDSView\"},{\"attributes\":{\"coordinates\":null,\"data_source\":{\"id\":\"11090\"},\"glyph\":{\"id\":\"11091\"},\"group\":null,\"hover_glyph\":null,\"muted_glyph\":{\"id\":\"11093\"},\"nonselection_glyph\":{\"id\":\"11092\"},\"view\":{\"id\":\"11095\"}},\"id\":\"11094\",\"type\":\"GlyphRenderer\"},{\"attributes\":{},\"id\":\"11173\",\"type\":\"UnionRenderers\"},{\"attributes\":{\"line_alpha\":0.2,\"line_color\":\"#E26660\",\"line_dash\":[6],\"line_width\":4,\"x\":{\"field\":\"x\"},\"y\":{\"field\":\"y\"}},\"id\":\"11093\",\"type\":\"Line\"},{\"attributes\":{\"coordinates\":null,\"data_source\":{\"id\":\"11030\"},\"glyph\":{\"id\":\"11031\"},\"group\":null,\"hover_glyph\":null,\"muted_glyph\":{\"id\":\"11033\"},\"nonselection_glyph\":{\"id\":\"11032\"},\"view\":{\"id\":\"11035\"}},\"id\":\"11034\",\"type\":\"GlyphRenderer\"},{\"attributes\":{\"line_alpha\":0.1,\"line_color\":\"#E26660\",\"line_dash\":[6],\"line_width\":4,\"x\":{\"field\":\"x\"},\"y\":{\"field\":\"y\"}},\"id\":\"11092\",\"type\":\"Line\"},{\"attributes\":{},\"id\":\"11174\",\"type\":\"Selection\"},{\"attributes\":{\"line_color\":\"#F48A47\",\"line_dash\":[6],\"line_width\":4,\"x\":{\"field\":\"x\"},\"y\":{\"field\":\"y\"}},\"id\":\"11103\",\"type\":\"Line\"},{\"attributes\":{\"source\":{\"id\":\"11003\"}},\"id\":\"11009\",\"type\":\"CDSView\"},{\"attributes\":{\"data\":{\"x\":{\"__ndarray__\":\"fv/G3/Jl77+OFcbf4VrvPw==\",\"dtype\":\"float64\",\"order\":\"little\",\"shape\":[2]},\"y\":{\"__ndarray__\":\"3r6oRV27/78NXes7rx8EQA==\",\"dtype\":\"float64\",\"order\":\"little\",\"shape\":[2]}},\"selected\":{\"id\":\"11174\"},\"selection_policy\":{\"id\":\"11173\"}},\"id\":\"11096\",\"type\":\"ColumnDataSource\"},{\"attributes\":{\"source\":{\"id\":\"11102\"}},\"id\":\"11107\",\"type\":\"CDSView\"},{\"attributes\":{\"fill_alpha\":{\"value\":0.2},\"fill_color\":{\"field\":\"color\"},\"hatch_alpha\":{\"value\":0.2},\"hatch_color\":{\"field\":\"color\"},\"line_alpha\":{\"value\":0.2},\"line_color\":{\"value\":\"white\"},\"size\":{\"value\":10},\"x\":{\"field\":\"x\"},\"y\":{\"field\":\"y\"}},\"id\":\"11007\",\"type\":\"Circle\"},{\"attributes\":{\"coordinates\":null,\"data_source\":{\"id\":\"11096\"},\"glyph\":{\"id\":\"11097\"},\"group\":null,\"hover_glyph\":null,\"muted_glyph\":{\"id\":\"11099\"},\"nonselection_glyph\":{\"id\":\"11098\"},\"view\":{\"id\":\"11101\"}},\"id\":\"11100\",\"type\":\"GlyphRenderer\"},{\"attributes\":{\"background_fill_alpha\":0.2,\"background_fill_color\":\"darkgrey\",\"border_line_alpha\":0.8,\"border_line_color\":\"grey\",\"border_line_width\":3,\"coordinates\":null,\"group\":null,\"items\":[{\"id\":\"11021\"}],\"label_text_color\":\"white\"},\"id\":\"11020\",\"type\":\"Legend\"},{\"attributes\":{\"line_color\":\"#7200A8\",\"line_dash\":[6],\"line_width\":4,\"x\":{\"field\":\"x\"},\"y\":{\"field\":\"y\"}},\"id\":\"11049\",\"type\":\"Line\"},{\"attributes\":{\"line_alpha\":0.2,\"line_color\":\"#EC7853\",\"line_dash\":[6],\"line_width\":4,\"x\":{\"field\":\"x\"},\"y\":{\"field\":\"y\"}},\"id\":\"11099\",\"type\":\"Line\"},{\"attributes\":{\"data\":{\"x\":{\"__ndarray__\":\"fv/G3/Jl77+OFcbf4VrvPw==\",\"dtype\":\"float64\",\"order\":\"little\",\"shape\":[2]},\"y\":{\"__ndarray__\":\"rcWc16kf8j++bwWbTQ3vvw==\",\"dtype\":\"float64\",\"order\":\"little\",\"shape\":[2]}},\"selected\":{\"id\":\"11154\"},\"selection_policy\":{\"id\":\"11153\"}},\"id\":\"11036\",\"type\":\"ColumnDataSource\"},{\"attributes\":{},\"id\":\"11153\",\"type\":\"UnionRenderers\"},{\"attributes\":{\"line_alpha\":0.1,\"line_color\":\"#EC7853\",\"line_dash\":[6],\"line_width\":4,\"x\":{\"field\":\"x\"},\"y\":{\"field\":\"y\"}},\"id\":\"11098\",\"type\":\"Line\"},{\"attributes\":{\"fill_alpha\":{\"value\":0.1},\"fill_color\":{\"field\":\"color\"},\"hatch_alpha\":{\"value\":0.1},\"hatch_color\":{\"field\":\"color\"},\"line_alpha\":{\"value\":0.1},\"line_color\":{\"value\":\"white\"},\"size\":{\"value\":10},\"x\":{\"field\":\"x\"},\"y\":{\"field\":\"y\"}},\"id\":\"11006\",\"type\":\"Circle\"},{\"attributes\":{\"line_color\":\"#FA9D3A\",\"line_dash\":[6],\"line_width\":4,\"x\":{\"field\":\"x\"},\"y\":{\"field\":\"y\"}},\"id\":\"11109\",\"type\":\"Line\"},{\"attributes\":{\"data\":{\"x\":{\"__ndarray__\":\"fv/G3/Jl77+OFcbf4VrvPw==\",\"dtype\":\"float64\",\"order\":\"little\",\"shape\":[2]},\"y\":{\"__ndarray__\":\"mUNoCXxa/b+dVoqwOQMEQA==\",\"dtype\":\"float64\",\"order\":\"little\",\"shape\":[2]}},\"selected\":{\"id\":\"11176\"},\"selection_policy\":{\"id\":\"11175\"}},\"id\":\"11102\",\"type\":\"ColumnDataSource\"},{\"attributes\":{},\"id\":\"11154\",\"type\":\"Selection\"},{\"attributes\":{\"source\":{\"id\":\"11108\"}},\"id\":\"11113\",\"type\":\"CDSView\"},{\"attributes\":{\"coordinates\":null,\"data_source\":{\"id\":\"11102\"},\"glyph\":{\"id\":\"11103\"},\"group\":null,\"hover_glyph\":null,\"muted_glyph\":{\"id\":\"11105\"},\"nonselection_glyph\":{\"id\":\"11104\"},\"view\":{\"id\":\"11107\"}},\"id\":\"11106\",\"type\":\"GlyphRenderer\"},{\"attributes\":{\"line_alpha\":0.2,\"line_color\":\"#F48A47\",\"line_dash\":[6],\"line_width\":4,\"x\":{\"field\":\"x\"},\"y\":{\"field\":\"y\"}},\"id\":\"11105\",\"type\":\"Line\"},{\"attributes\":{\"line_alpha\":0.1,\"line_color\":\"#F48A47\",\"line_dash\":[6],\"line_width\":4,\"x\":{\"field\":\"x\"},\"y\":{\"field\":\"y\"}},\"id\":\"11104\",\"type\":\"Line\"},{\"attributes\":{\"line_color\":\"#FDB22F\",\"line_dash\":[6],\"line_width\":4,\"x\":{\"field\":\"x\"},\"y\":{\"field\":\"y\"}},\"id\":\"11115\",\"type\":\"Line\"},{\"attributes\":{},\"id\":\"11175\",\"type\":\"UnionRenderers\"},{\"attributes\":{\"data\":{\"x\":{\"__ndarray__\":\"fv/G3/Jl77+OFcbf4VrvPw==\",\"dtype\":\"float64\",\"order\":\"little\",\"shape\":[2]},\"y\":{\"__ndarray__\":\"wuyuSXOe+r8Zz80oxOcCQA==\",\"dtype\":\"float64\",\"order\":\"little\",\"shape\":[2]}},\"selected\":{\"id\":\"11178\"},\"selection_policy\":{\"id\":\"11177\"}},\"id\":\"11108\",\"type\":\"ColumnDataSource\"},{\"attributes\":{\"source\":{\"id\":\"11114\"}},\"id\":\"11119\",\"type\":\"CDSView\"},{\"attributes\":{},\"id\":\"11016\",\"type\":\"AllLabels\"},{\"attributes\":{\"coordinates\":null,\"data_source\":{\"id\":\"11108\"},\"glyph\":{\"id\":\"11109\"},\"group\":null,\"hover_glyph\":null,\"muted_glyph\":{\"id\":\"11111\"},\"nonselection_glyph\":{\"id\":\"11110\"},\"view\":{\"id\":\"11113\"}},\"id\":\"11112\",\"type\":\"GlyphRenderer\"},{\"attributes\":{},\"id\":\"11176\",\"type\":\"Selection\"},{\"attributes\":{\"background_fill_alpha\":0.9,\"background_fill_color\":\"#0f0f0f\",\"below\":[{\"id\":\"10981\"}],\"border_fill_alpha\":0.8,\"border_fill_color\":\"#111111\",\"center\":[{\"id\":\"10984\"},{\"id\":\"10988\"},{\"id\":\"11020\"}],\"height\":450,\"left\":[{\"id\":\"10985\"}],\"outline_line_alpha\":0.25,\"outline_line_color\":\"#E0E0E0\",\"outline_line_width\":3,\"renderers\":[{\"id\":\"11008\"},{\"id\":\"11028\"},{\"id\":\"11034\"},{\"id\":\"11040\"},{\"id\":\"11046\"},{\"id\":\"11052\"},{\"id\":\"11058\"},{\"id\":\"11064\"},{\"id\":\"11070\"},{\"id\":\"11076\"},{\"id\":\"11082\"},{\"id\":\"11088\"},{\"id\":\"11094\"},{\"id\":\"11100\"},{\"id\":\"11106\"},{\"id\":\"11112\"},{\"id\":\"11118\"},{\"id\":\"11124\"},{\"id\":\"11130\"},{\"id\":\"11136\"}],\"right\":[{\"id\":\"11020\"}],\"title\":{\"id\":\"10971\"},\"toolbar\":{\"id\":\"10996\"},\"width\":700,\"x_range\":{\"id\":\"11022\"},\"x_scale\":{\"id\":\"10977\"},\"y_range\":{\"id\":\"11023\"},\"y_scale\":{\"id\":\"10979\"}},\"id\":\"10970\",\"subtype\":\"Figure\",\"type\":\"Plot\"},{\"attributes\":{\"line_alpha\":0.2,\"line_color\":\"#FA9D3A\",\"line_dash\":[6],\"line_width\":4,\"x\":{\"field\":\"x\"},\"y\":{\"field\":\"y\"}},\"id\":\"11111\",\"type\":\"Line\"},{\"attributes\":{\"data\":{\"x\":{\"__ndarray__\":\"fv/G3/Jl77+OFcbf4VrvPw==\",\"dtype\":\"float64\",\"order\":\"little\",\"shape\":[2]},\"y\":{\"__ndarray__\":\"KPt8C2jnCUDW5miCfyUSwA==\",\"dtype\":\"float64\",\"order\":\"little\",\"shape\":[2]}},\"selected\":{\"id\":\"11158\"},\"selection_policy\":{\"id\":\"11157\"}},\"id\":\"11048\",\"type\":\"ColumnDataSource\"},{\"attributes\":{\"line_alpha\":0.1,\"line_color\":\"#FA9D3A\",\"line_dash\":[6],\"line_width\":4,\"x\":{\"field\":\"x\"},\"y\":{\"field\":\"y\"}},\"id\":\"11110\",\"type\":\"Line\"},{\"attributes\":{\"fill_alpha\":{\"value\":0.6},\"fill_color\":{\"field\":\"color\"},\"hatch_alpha\":{\"value\":0.6},\"hatch_color\":{\"field\":\"color\"},\"line_alpha\":{\"value\":0.6},\"line_color\":{\"value\":\"white\"},\"size\":{\"value\":10},\"x\":{\"field\":\"x\"},\"y\":{\"field\":\"y\"}},\"id\":\"11005\",\"type\":\"Circle\"},{\"attributes\":{\"line_color\":\"#FCC726\",\"line_dash\":[6],\"line_width\":4,\"x\":{\"field\":\"x\"},\"y\":{\"field\":\"y\"}},\"id\":\"11121\",\"type\":\"Line\"},{\"attributes\":{\"data\":{\"x\":{\"__ndarray__\":\"fv/G3/Jl77+OFcbf4VrvPw==\",\"dtype\":\"float64\",\"order\":\"little\",\"shape\":[2]},\"y\":{\"__ndarray__\":\"QPtyy0uL+L9SkFwEvdQCQA==\",\"dtype\":\"float64\",\"order\":\"little\",\"shape\":[2]}},\"selected\":{\"id\":\"11180\"},\"selection_policy\":{\"id\":\"11179\"}},\"id\":\"11114\",\"type\":\"ColumnDataSource\"},{\"attributes\":{\"source\":{\"id\":\"11120\"}},\"id\":\"11125\",\"type\":\"CDSView\"},{\"attributes\":{},\"id\":\"11155\",\"type\":\"UnionRenderers\"},{\"attributes\":{\"coordinates\":null,\"data_source\":{\"id\":\"11114\"},\"glyph\":{\"id\":\"11115\"},\"group\":null,\"hover_glyph\":null,\"muted_glyph\":{\"id\":\"11117\"},\"nonselection_glyph\":{\"id\":\"11116\"},\"view\":{\"id\":\"11119\"}},\"id\":\"11118\",\"type\":\"GlyphRenderer\"},{\"attributes\":{\"line_alpha\":0.2,\"line_color\":\"#FDB22F\",\"line_dash\":[6],\"line_width\":4,\"x\":{\"field\":\"x\"},\"y\":{\"field\":\"y\"}},\"id\":\"11117\",\"type\":\"Line\"},{\"attributes\":{},\"id\":\"11156\",\"type\":\"Selection\"},{\"attributes\":{\"line_alpha\":0.1,\"line_color\":\"#FDB22F\",\"line_dash\":[6],\"line_width\":4,\"x\":{\"field\":\"x\"},\"y\":{\"field\":\"y\"}},\"id\":\"11116\",\"type\":\"Line\"},{\"attributes\":{\"line_color\":\"#F8DF24\",\"line_dash\":[6],\"line_width\":4,\"x\":{\"field\":\"x\"},\"y\":{\"field\":\"y\"}},\"id\":\"11127\",\"type\":\"Line\"},{\"attributes\":{},\"id\":\"11017\",\"type\":\"UnionRenderers\"},{\"attributes\":{\"data\":{\"x\":{\"__ndarray__\":\"fv/G3/Jl77+OFcbf4VrvPw==\",\"dtype\":\"float64\",\"order\":\"little\",\"shape\":[2]},\"y\":{\"__ndarray__\":\"UMrOuhja97/++ksL33cAQA==\",\"dtype\":\"float64\",\"order\":\"little\",\"shape\":[2]}},\"selected\":{\"id\":\"11182\"},\"selection_policy\":{\"id\":\"11181\"}},\"id\":\"11120\",\"type\":\"ColumnDataSource\"},{\"attributes\":{\"source\":{\"id\":\"11126\"}},\"id\":\"11131\",\"type\":\"CDSView\"},{\"attributes\":{\"line_alpha\":0.2,\"line_color\":\"#45039E\",\"line_dash\":[6],\"line_width\":4,\"x\":{\"field\":\"x\"},\"y\":{\"field\":\"y\"}},\"id\":\"11039\",\"type\":\"Line\"},{\"attributes\":{\"coordinates\":null,\"data_source\":{\"id\":\"11120\"},\"glyph\":{\"id\":\"11121\"},\"group\":null,\"hover_glyph\":null,\"muted_glyph\":{\"id\":\"11123\"},\"nonselection_glyph\":{\"id\":\"11122\"},\"view\":{\"id\":\"11125\"}},\"id\":\"11124\",\"type\":\"GlyphRenderer\"},{\"attributes\":{\"line_alpha\":0.1,\"line_color\":\"#45039E\",\"line_dash\":[6],\"line_width\":4,\"x\":{\"field\":\"x\"},\"y\":{\"field\":\"y\"}},\"id\":\"11038\",\"type\":\"Line\"},{\"attributes\":{},\"id\":\"11177\",\"type\":\"UnionRenderers\"},{\"attributes\":{\"line_alpha\":0.2,\"line_color\":\"#FCC726\",\"line_dash\":[6],\"line_width\":4,\"x\":{\"field\":\"x\"},\"y\":{\"field\":\"y\"}},\"id\":\"11123\",\"type\":\"Line\"},{\"attributes\":{\"line_alpha\":0.1,\"line_color\":\"#0C0786\",\"line_dash\":[6],\"line_width\":4,\"x\":{\"field\":\"x\"},\"y\":{\"field\":\"y\"}},\"id\":\"11026\",\"type\":\"Line\"},{\"attributes\":{\"line_alpha\":0.1,\"line_color\":\"#FCC726\",\"line_dash\":[6],\"line_width\":4,\"x\":{\"field\":\"x\"},\"y\":{\"field\":\"y\"}},\"id\":\"11122\",\"type\":\"Line\"},{\"attributes\":{\"line_color\":\"#EFF821\",\"line_dash\":[6],\"line_width\":4,\"x\":{\"field\":\"x\"},\"y\":{\"field\":\"y\"}},\"id\":\"11133\",\"type\":\"Line\"},{\"attributes\":{},\"id\":\"11178\",\"type\":\"Selection\"},{\"attributes\":{\"data\":{\"x\":{\"__ndarray__\":\"fv/G3/Jl77+OFcbf4VrvPw==\",\"dtype\":\"float64\",\"order\":\"little\",\"shape\":[2]},\"y\":{\"__ndarray__\":\"I3zTpyN7978N7/FlodIAQA==\",\"dtype\":\"float64\",\"order\":\"little\",\"shape\":[2]}},\"selected\":{\"id\":\"11184\"},\"selection_policy\":{\"id\":\"11183\"}},\"id\":\"11126\",\"type\":\"ColumnDataSource\"},{\"attributes\":{\"source\":{\"id\":\"11132\"}},\"id\":\"11137\",\"type\":\"CDSView\"},{\"attributes\":{\"line_alpha\":0.2,\"line_color\":\"#2D0494\",\"line_dash\":[6],\"line_width\":4,\"x\":{\"field\":\"x\"},\"y\":{\"field\":\"y\"}},\"id\":\"11033\",\"type\":\"Line\"},{\"attributes\":{\"coordinates\":null,\"data_source\":{\"id\":\"11126\"},\"glyph\":{\"id\":\"11127\"},\"group\":null,\"hover_glyph\":null,\"muted_glyph\":{\"id\":\"11129\"},\"nonselection_glyph\":{\"id\":\"11128\"},\"view\":{\"id\":\"11131\"}},\"id\":\"11130\",\"type\":\"GlyphRenderer\"},{\"attributes\":{\"coordinates\":null,\"data_source\":{\"id\":\"11003\"},\"glyph\":{\"id\":\"11005\"},\"group\":null,\"hover_glyph\":null,\"muted_glyph\":{\"id\":\"11007\"},\"nonselection_glyph\":{\"id\":\"11006\"},\"view\":{\"id\":\"11009\"}},\"id\":\"11008\",\"type\":\"GlyphRenderer\"},{\"attributes\":{\"line_alpha\":0.2,\"line_color\":\"#F8DF24\",\"line_dash\":[6],\"line_width\":4,\"x\":{\"field\":\"x\"},\"y\":{\"field\":\"y\"}},\"id\":\"11129\",\"type\":\"Line\"},{\"attributes\":{\"line_alpha\":0.1,\"line_color\":\"#F8DF24\",\"line_dash\":[6],\"line_width\":4,\"x\":{\"field\":\"x\"},\"y\":{\"field\":\"y\"}},\"id\":\"11128\",\"type\":\"Line\"},{\"attributes\":{},\"id\":\"11157\",\"type\":\"UnionRenderers\"},{\"attributes\":{\"line_alpha\":0.2,\"line_color\":\"#0C0786\",\"line_dash\":[6],\"line_width\":4,\"x\":{\"field\":\"x\"},\"y\":{\"field\":\"y\"}},\"id\":\"11027\",\"type\":\"Line\"},{\"attributes\":{},\"id\":\"11013\",\"type\":\"AllLabels\"},{\"attributes\":{\"data\":{\"x\":{\"__ndarray__\":\"fv/G3/Jl77+OFcbf4VrvPw==\",\"dtype\":\"float64\",\"order\":\"little\",\"shape\":[2]},\"y\":{\"__ndarray__\":\"5Vg9ltIa978uAZ9csC4BQA==\",\"dtype\":\"float64\",\"order\":\"little\",\"shape\":[2]}},\"selected\":{\"id\":\"11186\"},\"selection_policy\":{\"id\":\"11185\"}},\"id\":\"11132\",\"type\":\"ColumnDataSource\"},{\"attributes\":{},\"id\":\"11158\",\"type\":\"Selection\"},{\"attributes\":{\"coordinates\":null,\"data_source\":{\"id\":\"11132\"},\"glyph\":{\"id\":\"11133\"},\"group\":null,\"hover_glyph\":null,\"muted_glyph\":{\"id\":\"11135\"},\"nonselection_glyph\":{\"id\":\"11134\"},\"view\":{\"id\":\"11137\"}},\"id\":\"11136\",\"type\":\"GlyphRenderer\"},{\"attributes\":{\"line_alpha\":0.2,\"line_color\":\"#EFF821\",\"line_dash\":[6],\"line_width\":4,\"x\":{\"field\":\"x\"},\"y\":{\"field\":\"y\"}},\"id\":\"11135\",\"type\":\"Line\"},{\"attributes\":{},\"id\":\"11012\",\"type\":\"BasicTickFormatter\"},{\"attributes\":{\"line_alpha\":0.1,\"line_color\":\"#EFF821\",\"line_dash\":[6],\"line_width\":4,\"x\":{\"field\":\"x\"},\"y\":{\"field\":\"y\"}},\"id\":\"11134\",\"type\":\"Line\"},{\"attributes\":{},\"id\":\"11018\",\"type\":\"Selection\"},{\"attributes\":{},\"id\":\"11179\",\"type\":\"UnionRenderers\"},{\"attributes\":{},\"id\":\"11015\",\"type\":\"BasicTickFormatter\"},{\"attributes\":{},\"id\":\"11180\",\"type\":\"Selection\"},{\"attributes\":{},\"id\":\"10989\",\"type\":\"PanTool\"},{\"attributes\":{},\"id\":\"11159\",\"type\":\"UnionRenderers\"},{\"attributes\":{},\"id\":\"11160\",\"type\":\"Selection\"},{\"attributes\":{},\"id\":\"10986\",\"type\":\"BasicTicker\"},{\"attributes\":{},\"id\":\"10990\",\"type\":\"WheelZoomTool\"},{\"attributes\":{\"children\":[{\"id\":\"11139\"},{\"id\":\"10970\"},{\"id\":\"11236\"}],\"margin\":[0,0,0,0],\"name\":\"Row00255\"},\"id\":\"11138\",\"type\":\"Row\"},{\"attributes\":{},\"id\":\"11181\",\"type\":\"UnionRenderers\"},{\"attributes\":{\"margin\":[5,5,5,5],\"name\":\"HSpacer00252\",\"sizing_mode\":\"stretch_width\"},\"id\":\"11236\",\"type\":\"Spacer\"},{\"attributes\":{\"margin\":[5,5,5,5],\"name\":\"HSpacer00251\",\"sizing_mode\":\"stretch_width\"},\"id\":\"11139\",\"type\":\"Spacer\"},{\"attributes\":{},\"id\":\"11182\",\"type\":\"Selection\"},{\"attributes\":{\"overlay\":{\"id\":\"10995\"}},\"id\":\"10991\",\"type\":\"BoxZoomTool\"},{\"attributes\":{\"client_comm_id\":\"801d0fde91d241a88f0498267cff1c1b\",\"comm_id\":\"4bf8f0ccc47f4c44aabc4c4826c53d13\",\"plot_id\":\"11138\"},\"id\":\"11381\",\"type\":\"panel.models.comm_manager.CommManager\"},{\"attributes\":{},\"id\":\"11161\",\"type\":\"UnionRenderers\"},{\"attributes\":{},\"id\":\"11162\",\"type\":\"Selection\"},{\"attributes\":{\"line_alpha\":0.1,\"line_color\":\"#5C00A5\",\"line_dash\":[6],\"line_width\":4,\"x\":{\"field\":\"x\"},\"y\":{\"field\":\"y\"}},\"id\":\"11044\",\"type\":\"Line\"},{\"attributes\":{\"data\":{\"color\":[\"firebrick\",\"midnightblue\",\"firebrick\",\"midnightblue\",\"firebrick\",\"firebrick\",\"firebrick\",\"midnightblue\",\"midnightblue\",\"midnightblue\",\"midnightblue\",\"midnightblue\",\"firebrick\",\"midnightblue\",\"firebrick\",\"firebrick\",\"midnightblue\",\"firebrick\",\"firebrick\",\"midnightblue\",\"midnightblue\",\"midnightblue\",\"midnightblue\",\"midnightblue\",\"midnightblue\",\"midnightblue\",\"firebrick\",\"firebrick\",\"firebrick\",\"firebrick\",\"midnightblue\",\"firebrick\",\"midnightblue\",\"midnightblue\",\"midnightblue\",\"firebrick\",\"midnightblue\",\"firebrick\",\"firebrick\",\"midnightblue\",\"firebrick\",\"midnightblue\",\"midnightblue\",\"midnightblue\",\"firebrick\",\"midnightblue\",\"firebrick\",\"midnightblue\",\"midnightblue\",\"midnightblue\",\"midnightblue\",\"midnightblue\",\"firebrick\",\"firebrick\",\"midnightblue\",\"midnightblue\",\"firebrick\",\"midnightblue\",\"midnightblue\",\"midnightblue\",\"firebrick\",\"firebrick\",\"midnightblue\",\"midnightblue\",\"midnightblue\",\"midnightblue\",\"midnightblue\",\"midnightblue\",\"firebrick\",\"midnightblue\",\"midnightblue\",\"midnightblue\",\"firebrick\",\"midnightblue\",\"firebrick\",\"midnightblue\",\"firebrick\",\"midnightblue\",\"midnightblue\",\"midnightblue\",\"midnightblue\",\"midnightblue\",\"midnightblue\",\"firebrick\",\"midnightblue\",\"midnightblue\",\"midnightblue\",\"midnightblue\",\"midnightblue\",\"midnightblue\",\"midnightblue\",\"firebrick\",\"midnightblue\",\"firebrick\",\"firebrick\",\"midnightblue\",\"midnightblue\",\"midnightblue\",\"firebrick\",\"firebrick\"],\"label\":[\"class 2\",\"class 1\",\"class 2\",\"class 1\",\"class 2\",\"class 2\",\"class 2\",\"class 1\",\"class 1\",\"class 1\",\"class 1\",\"class 1\",\"class 2\",\"class 1\",\"class 2\",\"class 2\",\"class 1\",\"class 2\",\"class 2\",\"class 1\",\"class 1\",\"class 1\",\"class 1\",\"class 1\",\"class 1\",\"class 1\",\"class 2\",\"class 2\",\"class 2\",\"class 2\",\"class 1\",\"class 2\",\"class 1\",\"class 1\",\"class 1\",\"class 2\",\"class 1\",\"class 2\",\"class 2\",\"class 1\",\"class 2\",\"class 1\",\"class 1\",\"class 1\",\"class 2\",\"class 1\",\"class 2\",\"class 1\",\"class 1\",\"class 1\",\"class 1\",\"class 1\",\"class 2\",\"class 2\",\"class 1\",\"class 1\",\"class 2\",\"class 1\",\"class 1\",\"class 1\",\"class 2\",\"class 2\",\"class 1\",\"class 1\",\"class 1\",\"class 1\",\"class 1\",\"class 1\",\"class 2\",\"class 1\",\"class 1\",\"class 1\",\"class 2\",\"class 1\",\"class 2\",\"class 1\",\"class 2\",\"class 1\",\"class 1\",\"class 1\",\"class 1\",\"class 1\",\"class 1\",\"class 2\",\"class 1\",\"class 1\",\"class 1\",\"class 1\",\"class 1\",\"class 1\",\"class 1\",\"class 2\",\"class 1\",\"class 2\",\"class 2\",\"class 1\",\"class 1\",\"class 1\",\"class 2\",\"class 2\"],\"x\":{\"__ndarray__\":\"gFpM1PeU3r94DPfP4MXmP8K5b1aZUu6/+HasERmR4j8YbYpoQ33Lvwi3v8RCbuC/ACGvNNiKyL8Q1qVo5mfoP1CYFryAROI/wHKXqfM/uj/0wbq5BlrRPx5ydR8lieU/LJHIBMID2L98KOfIps3TP8BHc2cgXe+/AI5z+Mjs3b8wgmUidUq0P97HiNEMOu6/GKaedSlh3L8AT5LR0KPnP8xNS+mvDOs/5L0FZFGn1D9waWM/LQ/UPwD235TTD9M/AMjIRjzsoL+Ysh6Pqh/FPzYVuruM2+q/WJSrJz2C0L/sb7zuMLjXv8LyMuh30+i/+rUJD69D7z+glDjKHMnev7iR8T44Ctc/KG1qxjLG1j8QNpnWxtSwv9hB9S5wMMG/0CFERxCjt7+eZvSRH27nv6zIC4TRd9y/4DQzpqme0j+EEvYmGlHqv0Ah/cpjPJU/5Fxq0+J/5j8w0vVuSTm1P1gHUyupEO+/NLL+06Pi6j/An//eK0i6vyKaGEcDNOA/DNbDhWiz3T8gPaKbzUrQPw7sILX4ous/ZgNdY8SK6T94QPZg1S3Fv7Qxw6tfztE/hGUznUTn6D/E49HpQgTfP1ybbGtxJdy/gN41pepYkj9wz+pzLz2wv2COAV9hEru/CAaQw8Rs278WsEVNmzDuv94EGH1t0OO/IMCXgP2Wwr/0++Eoe6nlP6Ds4NeWTdE/JiIqU/zj7T9gAhlpT0mhvyQ3PmYv1OK/bHPzowBP1z+gGvFfE2LUPyQKlYjxUuA/wHvsS99MyD+GD5SX7CfvP5BvuF3vHt+//H2V+p7W0j8GWtKORh/tvygCScW0G+U/4COd20m/ob9+6mTuTKztPyD8AgTlPuQ/6OPQkbSL4D+Ejz1QZLzdP8JNuV6/HuW/YK5xxJB7o7/aig67hQDuP2D2sNB7e8w/IJzXFwgA6T8cSLjB/ILbv1CglNvmJ+0/2MV1c/uOyT9+/8bf8mXvvzB5Yd8EP9k/JmDSjaxy7b+YgdoiF+7Ev1SOs1dB/9s/QGcpvmdp7T+OFcbf4VrvPxCZA7Yr9MU/WIMLLZIq4b8=\",\"dtype\":\"float64\",\"order\":\"little\",\"shape\":[100]},\"y\":{\"__ndarray__\":\"DgE4gzp04j8GpAEuD9LiP7YyRWz4aug/iFzPRoKC0D8wpzA/b5LvP6iDP1da0+I/IAbMfGzl6z84WMiwzHTmvzjprVh/5+M/zrdCphMH579kjRCFx33Zv4bE5SYOKOM/KPGwNvJYxz+glAnS58TlP64IA34DoO2/0GJ3LNryt7822HnPuX3iv5zuK7iUttu/BLfniKtF2z+IVbFfLf3nv9QCMTgX192/6IjL6/Az2L9AOC560qmmvz6BAwvxzOe/4BcOE8FTyb8cf6Ts/yPcv2B4NEcxQsS/qPLsuxqd7D+UKMsg9JjWP2hwpZDH0Mo/NDxZbq/z1D+AysI4u+6gPywynvfdk+m/NKl3UA8f27+wT21vN6vMPxhDwpjlO8c/WD3MyYTyxb8sdQH/5PnsP2iAGKh1PcO/RsPZ6Xts47+YKu6qRJHpvxhKIHO4sN2/7IjuRhDs0T/4Ksh/8RvPvyK1VbfxW+C/KLNVOfybxD84nCjsJ4rqP+zR2Wi399+/+KzxzvvJ1L/SkWjV3L/mv9gjRjzA4s4/rvQBR3b05r9EyM+xY6rQP6Ka980itu0/8nfrCdYD778M9dc6nVTTv5TcktHzMN8/0FJ4tyAAzj+wMN1hYMLmv/Ya1qxYJOK/wNKImCgcuD+EXmA3JuDXPzgbtyz42Oy/pMDrmtbF779g1BzibJitP4Qw8X1VzdS/yHXeZwk95L9MkpEWERnbv/jlZtQ4oOo/yk2R0EeM4b+MPmz6tubgPxhDF+m5MNK/ND738Ix46D+udXDr56Htv56GfmizIO0/xNhQskpF5D9AWV60OBfiv8ByNHyeBpy/0Pk7FEzYtb96KKnfy1DiP2AF4RUJCuE/IKXtJARgvz8qciA6Novnv5bM7ZB/JOc/ymi3zpTc6L8ULRdrtsfUP3S0ELSlTuU/mOFrUCiZx7/uBL/L3fbqv0DiB4ZscaQ/7ISOEdlo2r94CzH541rDPzAz7cs9ie2/Ph3mirtr7z8AKQAwQWLpPyK4oGp14ek/MLRCj7jI2L+gwv3i6DG2P/gCB9x88+c/QAN/w2Z/5T8=\",\"dtype\":\"float64\",\"order\":\"little\",\"shape\":[100]}},\"selected\":{\"id\":\"11018\"},\"selection_policy\":{\"id\":\"11017\"}},\"id\":\"11003\",\"type\":\"ColumnDataSource\"},{\"attributes\":{},\"id\":\"11183\",\"type\":\"UnionRenderers\"},{\"attributes\":{},\"id\":\"11163\",\"type\":\"UnionRenderers\"},{\"attributes\":{},\"id\":\"11184\",\"type\":\"Selection\"},{\"attributes\":{},\"id\":\"10993\",\"type\":\"ResetTool\"},{\"attributes\":{},\"id\":\"11164\",\"type\":\"Selection\"},{\"attributes\":{},\"id\":\"11165\",\"type\":\"UnionRenderers\"},{\"attributes\":{\"axis_label\":\"x\",\"axis_label_standoff\":10,\"axis_label_text_color\":\"#FFFFFF\",\"axis_label_text_font\":\"Josefin Sans\",\"axis_label_text_font_size\":\"1.9em\",\"axis_label_text_font_style\":\"bold\",\"axis_line_alpha\":0.4,\"axis_line_color\":\"#E0E0E0\",\"coordinates\":null,\"formatter\":{\"id\":\"11015\"},\"group\":null,\"major_label_policy\":{\"id\":\"11016\"},\"major_label_text_color\":\"#E0E0E0\",\"major_label_text_font\":\"Josefin Sans\",\"major_label_text_font_size\":\"1.15em\",\"major_tick_line_alpha\":0.4,\"major_tick_line_color\":\"#E0E0E0\",\"minor_tick_line_alpha\":0.4,\"minor_tick_line_color\":\"#E0E0E0\",\"ticker\":{\"id\":\"10982\"}},\"id\":\"10981\",\"type\":\"LinearAxis\"},{\"attributes\":{\"coordinates\":null,\"group\":null,\"text\":\"Observations\",\"text_color\":\"#E0E0E0\",\"text_font\":\"Josefin Sans\",\"text_font_size\":\"2.1em\"},\"id\":\"10971\",\"type\":\"Title\"},{\"attributes\":{\"data\":{\"x\":{\"__ndarray__\":\"fv/G3/Jl77+OFcbf4VrvPw==\",\"dtype\":\"float64\",\"order\":\"little\",\"shape\":[2]},\"y\":{\"__ndarray__\":\"X5gkxJlx/D/ZA0JDC+cDwA==\",\"dtype\":\"float64\",\"order\":\"little\",\"shape\":[2]}},\"selected\":{\"id\":\"11156\"},\"selection_policy\":{\"id\":\"11155\"}},\"id\":\"11042\",\"type\":\"ColumnDataSource\"},{\"attributes\":{},\"id\":\"11166\",\"type\":\"Selection\"},{\"attributes\":{\"bottom_units\":\"screen\",\"coordinates\":null,\"fill_alpha\":0.5,\"fill_color\":\"lightgrey\",\"group\":null,\"left_units\":\"screen\",\"level\":\"overlay\",\"line_alpha\":1.0,\"line_color\":\"black\",\"line_dash\":[4,4],\"line_width\":2,\"right_units\":\"screen\",\"syncable\":false,\"top_units\":\"screen\"},\"id\":\"10995\",\"type\":\"BoxAnnotation\"},{\"attributes\":{\"source\":{\"id\":\"11042\"}},\"id\":\"11047\",\"type\":\"CDSView\"},{\"attributes\":{\"line_alpha\":0.2,\"line_color\":\"#5C00A5\",\"line_dash\":[6],\"line_width\":4,\"x\":{\"field\":\"x\"},\"y\":{\"field\":\"y\"}},\"id\":\"11045\",\"type\":\"Line\"},{\"attributes\":{},\"id\":\"10994\",\"type\":\"HelpTool\"},{\"attributes\":{},\"id\":\"11185\",\"type\":\"UnionRenderers\"},{\"attributes\":{},\"id\":\"10982\",\"type\":\"BasicTicker\"},{\"attributes\":{},\"id\":\"11186\",\"type\":\"Selection\"},{\"attributes\":{\"tools\":[{\"id\":\"10989\"},{\"id\":\"10990\"},{\"id\":\"10991\"},{\"id\":\"10992\"},{\"id\":\"10993\"},{\"id\":\"10994\"}]},\"id\":\"10996\",\"type\":\"Toolbar\"},{\"attributes\":{\"source\":{\"id\":\"11024\"}},\"id\":\"11029\",\"type\":\"CDSView\"},{\"attributes\":{},\"id\":\"10979\",\"type\":\"LinearScale\"},{\"attributes\":{\"source\":{\"id\":\"11030\"}},\"id\":\"11035\",\"type\":\"CDSView\"},{\"attributes\":{\"source\":{\"id\":\"11036\"}},\"id\":\"11041\",\"type\":\"CDSView\"},{\"attributes\":{\"line_alpha\":0.1,\"line_color\":\"#2D0494\",\"line_dash\":[6],\"line_width\":4,\"x\":{\"field\":\"x\"},\"y\":{\"field\":\"y\"}},\"id\":\"11032\",\"type\":\"Line\"},{\"attributes\":{},\"id\":\"10992\",\"type\":\"SaveTool\"}],\"root_ids\":[\"11138\",\"11381\"]},\"title\":\"Bokeh Application\",\"version\":\"2.4.3\"}};\n",
       "    var render_items = [{\"docid\":\"b95248a9-d6e6-4d74-90c0-cdb55bd1dde3\",\"root_ids\":[\"11138\"],\"roots\":{\"11138\":\"90eb8601-1043-4f9e-a57c-31ffa5e7a0b3\"}}];\n",
       "    root.Bokeh.embed.embed_items_notebook(docs_json, render_items);\n",
       "    for (const render_item of render_items) {\n",
       "      for (const root_id of render_item.root_ids) {\n",
       "\tconst id_el = document.getElementById(root_id)\n",
       "\tif (id_el.children.length && (id_el.children[0].className === 'bk-root')) {\n",
       "\t  const root_el = id_el.children[0]\n",
       "\t  root_el.id = root_el.id + '-rendered'\n",
       "\t}\n",
       "      }\n",
       "    }\n",
       "  }\n",
       "  if (root.Bokeh !== undefined && root.Bokeh.Panel !== undefined) {\n",
       "    embed_document(root);\n",
       "  } else {\n",
       "    var attempts = 0;\n",
       "    var timer = setInterval(function(root) {\n",
       "      if (root.Bokeh !== undefined && root.Bokeh.Panel !== undefined) {\n",
       "        clearInterval(timer);\n",
       "        embed_document(root);\n",
       "      } else if (document.readyState == \"complete\") {\n",
       "        attempts++;\n",
       "        if (attempts > 200) {\n",
       "          clearInterval(timer);\n",
       "          console.log(\"Bokeh: ERROR: Unable to run BokehJS code because BokehJS library is missing\");\n",
       "        }\n",
       "      }\n",
       "    }, 25, root)\n",
       "  }\n",
       "})(window);</script>"
      ],
      "text/plain": [
       "Row\n",
       "    [0] HSpacer()\n",
       "    [1] Bokeh(Figure)\n",
       "    [2] HSpacer()"
      ]
     },
     "execution_count": 40,
     "metadata": {
      "application/vnd.holoviews_exec.v0+json": {
       "id": "11138"
      }
     },
     "output_type": "execute_result"
    }
   ],
   "source": [
    "verbose = False\n",
    "weights_history[0] = weights\n",
    "bias_history[0] = bias\n",
    "# Update loop\n",
    "for i in range(n_epochs):\n",
    "    \n",
    "    ######################\n",
    "    # YOUR CODE GOES HERE\n",
    "    # calculate the error\n",
    "    y_bar = (weights @ x_inputs.T + bias > 0).astype(np.float32)\n",
    "    if np.sum(np.abs(y_bar - y_class)) == 0:\n",
    "        break\n",
    "    error = y_class - y_bar\n",
    "    # back propagation\n",
    "    weights -= eta * (-2 * error @ x_inputs)\n",
    "    bias -= eta * (-2 * error.sum())\n",
    "    ######################\n",
    "    \n",
    "    ######################\n",
    "    # Solution  \n",
    "    #y_bar = np.dot(weights, x_inputs.T) + bias > 0\n",
    "    if np.sum(np.abs(y_bar - y_class)) == 0:\n",
    "        break\n",
    "    #error = y_class - y_bar\n",
    "    #weights = weights + eta * (np.dot(error, x_inputs))\n",
    "    #bias = bias + eta * (np.sum(error))\n",
    "    ######################\n",
    "    \n",
    "    weights_history[i + 1] = weights\n",
    "    bias_history[i + 1] = bias\n",
    "    \n",
    "    if (verbose):\n",
    "        print('%2d. error = %f, weights = %f, %f, %f' % (i, np.sum(np.abs(error)) / n_observations, bias[0, 0], weights[0, 0], weights[0, 1]))\n",
    "plot = center_plot(scatter_boundary(x_inputs, y_class, weights_history, bias_history, i + 1))\n",
    "plot"
   ]
  },
  {
   "cell_type": "markdown",
   "metadata": {},
   "source": [
    "### Neuron implementation in `JAX`\n",
    "\n",
    "As seen in the previous course, the `NumPy` implementation requires us to perform manual differentiation of our loss function to understand how to update the parameters. However, the recent [`JAX`](https://github.com/google/jax) library provides **automatic differentiation** on top of the `NumPy` library. If you have not yet completed the set of [tutorials](https://jax.readthedocs.io/en/latest/), we strongly encourage you to do so. We will introduce a few more functions compared to last time, but we try to keep the implementation as simple as possible on purpose."
   ]
  },
  {
   "cell_type": "code",
   "execution_count": 41,
   "metadata": {
    "tags": []
   },
   "outputs": [],
   "source": [
    "import jax.numpy as jnp\n",
    "from jax import grad, jit, random\n",
    "key = random.PRNGKey(42)"
   ]
  },
  {
   "cell_type": "markdown",
   "metadata": {},
   "source": [
    "We keep our previousmy generated dataset but we will rely on `jnp.ndarray` instead of `np.ndarray`, by simply casting the arrays to JAX-compliant ones."
   ]
  },
  {
   "cell_type": "code",
   "execution_count": 42,
   "metadata": {
    "tags": []
   },
   "outputs": [],
   "source": [
    "x_jax = jnp.asarray(x_inputs)\n",
    "y_jax = jnp.asarray(y_class)"
   ]
  },
  {
   "cell_type": "markdown",
   "metadata": {},
   "source": [
    "We will also keep the same hyperparameters as previously (see `eta`, `lambda_r` and `n_epochs` above) and randomly initialize our parameters "
   ]
  },
  {
   "cell_type": "code",
   "execution_count": 52,
   "metadata": {
    "tags": []
   },
   "outputs": [],
   "source": [
    "eta = 0.02\n",
    "# Perform key splitting\n",
    "key_w, key_b, key = random.split(key, 3)\n",
    "# Initialize the weights\n",
    "weights = random.normal(key_w, (1, 2));\n",
    "bias = random.normal(key_b, (1, 1));\n",
    "# Save the weight history for plotting\n",
    "weights_history = jnp.zeros((n_epochs + 1, 2));\n",
    "bias_history = jnp.zeros((n_epochs + 1, 1));\n",
    "# Record the first \n",
    "weights_history = weights_history.at[0].set(weights[0])\n",
    "bias_history = bias_history.at[0].set(bias[0])"
   ]
  },
  {
   "cell_type": "markdown",
   "metadata": {},
   "source": [
    "As we discussed earlier, the original model by McCulloch & Pitts has several issues regarding its use for numerical optimization (as it was originally observed from a neuroscience point of view)\n",
    "\n",
    "***\n",
    "\n",
    "<div class=\"alert alert-success\" markdown=\"1\" style=\"color:white; background-color: #410819; border-color: #cb2e47\">\n",
    "\n",
    "> **Changes from the `NumPy` implementation**\n",
    ">   1. (Smoothness) Our _activation function_ will change from _identity_ to sigmoid, i.e. $ \\phi(\\mathbf{x}) = \\frac{1}{1 + e^{-\\mathbf{x}}} $\n",
    ">   2. (Outliers) Our _loss function_ will change from $ L_{1} $ to $ L_{2} $ (MSE - Mean Squared Error)\n",
    "\n",
    "</div>\n",
    "\n",
    "***\n",
    "\n",
    "As discussed in the previous course, for using the very handy `grad` function provided by `JAX`, we need to define the whole forward function that we want to derive given our parameters. Hence this function also needs to **contain the forward pass**. This is summarized in the following function"
   ]
  },
  {
   "cell_type": "code",
   "execution_count": 53,
   "metadata": {
    "tags": []
   },
   "outputs": [],
   "source": [
    "import jax\n",
    "# Single neuron full function\n",
    "def loss_function(x, y, w, b):\n",
    "    # Forward pass\n",
    "    y_bar = jax.nn.sigmoid(jnp.dot(w, x.T) + b)\n",
    "    # Error computation\n",
    "    error = jnp.sum((y_bar - y) ** 2)\n",
    "    return error\n",
    "# Gradient of the loss\n",
    "grad_loss_function = jit(grad(loss_function, argnums=[2, 3]))"
   ]
  },
  {
   "cell_type": "markdown",
   "metadata": {},
   "source": [
    "Finally, we can now define the main training loop, which is almost exactly similar to the previously defined one minus the gradient computation operations. "
   ]
  },
  {
   "cell_type": "code",
   "execution_count": 54,
   "metadata": {
    "tags": []
   },
   "outputs": [
    {
     "data": {},
     "metadata": {},
     "output_type": "display_data"
    },
    {
     "data": {
      "application/vnd.holoviews_exec.v0+json": "",
      "text/html": [
       "<div id='16350'>\n",
       "  <div class=\"bk-root\" id=\"8b94df00-2476-4d5c-b88b-4c7d7684f6b8\" data-root-id=\"16350\"></div>\n",
       "</div>\n",
       "<script type=\"application/javascript\">(function(root) {\n",
       "  function embed_document(root) {\n",
       "    var docs_json = {\"f3135506-46dc-4dd1-a835-3a0afaddfc7c\":{\"defs\":[{\"extends\":null,\"module\":null,\"name\":\"ReactiveHTML1\",\"overrides\":[],\"properties\":[]},{\"extends\":null,\"module\":null,\"name\":\"FlexBox1\",\"overrides\":[],\"properties\":[{\"default\":\"flex-start\",\"kind\":null,\"name\":\"align_content\"},{\"default\":\"flex-start\",\"kind\":null,\"name\":\"align_items\"},{\"default\":\"row\",\"kind\":null,\"name\":\"flex_direction\"},{\"default\":\"wrap\",\"kind\":null,\"name\":\"flex_wrap\"},{\"default\":\"flex-start\",\"kind\":null,\"name\":\"justify_content\"}]},{\"extends\":null,\"module\":null,\"name\":\"GridStack1\",\"overrides\":[],\"properties\":[{\"default\":\"warn\",\"kind\":null,\"name\":\"mode\"},{\"default\":null,\"kind\":null,\"name\":\"ncols\"},{\"default\":null,\"kind\":null,\"name\":\"nrows\"},{\"default\":true,\"kind\":null,\"name\":\"allow_resize\"},{\"default\":true,\"kind\":null,\"name\":\"allow_drag\"},{\"default\":[],\"kind\":null,\"name\":\"state\"}]},{\"extends\":null,\"module\":null,\"name\":\"click1\",\"overrides\":[],\"properties\":[{\"default\":\"\",\"kind\":null,\"name\":\"terminal_output\"},{\"default\":\"\",\"kind\":null,\"name\":\"debug_name\"},{\"default\":0,\"kind\":null,\"name\":\"clears\"}]},{\"extends\":null,\"module\":null,\"name\":\"NotificationAreaBase1\",\"overrides\":[],\"properties\":[{\"default\":\"bottom-right\",\"kind\":null,\"name\":\"position\"},{\"default\":0,\"kind\":null,\"name\":\"_clear\"}]},{\"extends\":null,\"module\":null,\"name\":\"NotificationArea1\",\"overrides\":[],\"properties\":[{\"default\":[],\"kind\":null,\"name\":\"notifications\"},{\"default\":\"bottom-right\",\"kind\":null,\"name\":\"position\"},{\"default\":0,\"kind\":null,\"name\":\"_clear\"},{\"default\":[{\"background\":\"#ffc107\",\"icon\":{\"className\":\"fas fa-exclamation-triangle\",\"color\":\"white\",\"tagName\":\"i\"},\"type\":\"warning\"},{\"background\":\"#007bff\",\"icon\":{\"className\":\"fas fa-info-circle\",\"color\":\"white\",\"tagName\":\"i\"},\"type\":\"info\"}],\"kind\":null,\"name\":\"types\"}]},{\"extends\":null,\"module\":null,\"name\":\"Notification\",\"overrides\":[],\"properties\":[{\"default\":null,\"kind\":null,\"name\":\"background\"},{\"default\":3000,\"kind\":null,\"name\":\"duration\"},{\"default\":null,\"kind\":null,\"name\":\"icon\"},{\"default\":\"\",\"kind\":null,\"name\":\"message\"},{\"default\":null,\"kind\":null,\"name\":\"notification_type\"},{\"default\":false,\"kind\":null,\"name\":\"_destroyed\"}]},{\"extends\":null,\"module\":null,\"name\":\"TemplateActions1\",\"overrides\":[],\"properties\":[{\"default\":0,\"kind\":null,\"name\":\"open_modal\"},{\"default\":0,\"kind\":null,\"name\":\"close_modal\"}]},{\"extends\":null,\"module\":null,\"name\":\"MaterialTemplateActions1\",\"overrides\":[],\"properties\":[{\"default\":0,\"kind\":null,\"name\":\"open_modal\"},{\"default\":0,\"kind\":null,\"name\":\"close_modal\"}]}],\"roots\":{\"references\":[{\"attributes\":{\"line_color\":\"#380499\",\"line_dash\":[6],\"line_width\":4,\"x\":{\"field\":\"x\"},\"y\":{\"field\":\"y\"}},\"id\":\"16075\",\"type\":\"Line\"},{\"attributes\":{},\"id\":\"16379\",\"type\":\"UnionRenderers\"},{\"attributes\":{\"source\":{\"id\":\"16062\"}},\"id\":\"16067\",\"type\":\"CDSView\"},{\"attributes\":{},\"id\":\"16417\",\"type\":\"UnionRenderers\"},{\"attributes\":{\"line_color\":\"#2F0495\",\"line_dash\":[6],\"line_width\":4,\"x\":{\"field\":\"x\"},\"y\":{\"field\":\"y\"}},\"id\":\"16069\",\"type\":\"Line\"},{\"attributes\":{},\"id\":\"16380\",\"type\":\"Selection\"},{\"attributes\":{\"source\":{\"id\":\"16068\"}},\"id\":\"16073\",\"type\":\"CDSView\"},{\"attributes\":{},\"id\":\"16455\",\"type\":\"UnionRenderers\"},{\"attributes\":{},\"id\":\"16418\",\"type\":\"Selection\"},{\"attributes\":{\"data\":{\"x\":{\"__ndarray__\":\"fv/G3/Jl77+OFcbf4VrvPw==\",\"dtype\":\"float64\",\"order\":\"little\",\"shape\":[2]},\"y\":{\"__ndarray__\":\"feqct3X/GMBMYcUK0UMwQA==\",\"dtype\":\"float64\",\"order\":\"little\",\"shape\":[2]}},\"selected\":{\"id\":\"16368\"},\"selection_policy\":{\"id\":\"16367\"}},\"id\":\"16068\",\"type\":\"ColumnDataSource\"},{\"attributes\":{\"source\":{\"id\":\"16074\"}},\"id\":\"16079\",\"type\":\"CDSView\"},{\"attributes\":{\"coordinates\":null,\"data_source\":{\"id\":\"16068\"},\"glyph\":{\"id\":\"16069\"},\"group\":null,\"hover_glyph\":null,\"muted_glyph\":{\"id\":\"16071\"},\"nonselection_glyph\":{\"id\":\"16070\"},\"view\":{\"id\":\"16073\"}},\"id\":\"16072\",\"type\":\"GlyphRenderer\"},{\"attributes\":{},\"id\":\"16456\",\"type\":\"Selection\"},{\"attributes\":{\"line_alpha\":0.2,\"line_color\":\"#2F0495\",\"line_dash\":[6],\"line_width\":4,\"x\":{\"field\":\"x\"},\"y\":{\"field\":\"y\"}},\"id\":\"16071\",\"type\":\"Line\"},{\"attributes\":{\"line_alpha\":0.1,\"line_color\":\"#2F0495\",\"line_dash\":[6],\"line_width\":4,\"x\":{\"field\":\"x\"},\"y\":{\"field\":\"y\"}},\"id\":\"16070\",\"type\":\"Line\"},{\"attributes\":{\"children\":[{\"id\":\"16351\"},{\"id\":\"15996\"},{\"id\":\"16572\"}],\"margin\":[0,0,0,0],\"name\":\"Row00283\"},\"id\":\"16350\",\"type\":\"Row\"},{\"attributes\":{\"data\":{\"x\":{\"__ndarray__\":\"fv/G3/Jl77+OFcbf4VrvPw==\",\"dtype\":\"float64\",\"order\":\"little\",\"shape\":[2]},\"y\":{\"__ndarray__\":\"mQRCoEJYBMDNycWBQccTQA==\",\"dtype\":\"float64\",\"order\":\"little\",\"shape\":[2]}},\"selected\":{\"id\":\"16374\"},\"selection_policy\":{\"id\":\"16373\"}},\"id\":\"16086\",\"type\":\"ColumnDataSource\"},{\"attributes\":{\"margin\":[5,5,5,5],\"name\":\"HSpacer00280\",\"sizing_mode\":\"stretch_width\"},\"id\":\"16572\",\"type\":\"Spacer\"},{\"attributes\":{\"data\":{\"x\":{\"__ndarray__\":\"fv/G3/Jl77+OFcbf4VrvPw==\",\"dtype\":\"float64\",\"order\":\"little\",\"shape\":[2]},\"y\":{\"__ndarray__\":\"D6GM7gnfDcCMbo/uGgkhQA==\",\"dtype\":\"float64\",\"order\":\"little\",\"shape\":[2]}},\"selected\":{\"id\":\"16370\"},\"selection_policy\":{\"id\":\"16369\"}},\"id\":\"16074\",\"type\":\"ColumnDataSource\"},{\"attributes\":{\"margin\":[5,5,5,5],\"name\":\"HSpacer00279\",\"sizing_mode\":\"stretch_width\"},\"id\":\"16351\",\"type\":\"Spacer\"},{\"attributes\":{\"source\":{\"id\":\"16086\"}},\"id\":\"16091\",\"type\":\"CDSView\"},{\"attributes\":{\"coordinates\":null,\"data_source\":{\"id\":\"16074\"},\"glyph\":{\"id\":\"16075\"},\"group\":null,\"hover_glyph\":null,\"muted_glyph\":{\"id\":\"16077\"},\"nonselection_glyph\":{\"id\":\"16076\"},\"view\":{\"id\":\"16079\"}},\"id\":\"16078\",\"type\":\"GlyphRenderer\"},{\"attributes\":{\"line_color\":\"#42039D\",\"line_dash\":[6],\"line_width\":4,\"x\":{\"field\":\"x\"},\"y\":{\"field\":\"y\"}},\"id\":\"16081\",\"type\":\"Line\"},{\"attributes\":{\"line_alpha\":0.2,\"line_color\":\"#380499\",\"line_dash\":[6],\"line_width\":4,\"x\":{\"field\":\"x\"},\"y\":{\"field\":\"y\"}},\"id\":\"16077\",\"type\":\"Line\"},{\"attributes\":{\"line_alpha\":0.1,\"line_color\":\"#380499\",\"line_dash\":[6],\"line_width\":4,\"x\":{\"field\":\"x\"},\"y\":{\"field\":\"y\"}},\"id\":\"16076\",\"type\":\"Line\"},{\"attributes\":{\"data\":{\"x\":{\"__ndarray__\":\"fv/G3/Jl77+OFcbf4VrvPw==\",\"dtype\":\"float64\",\"order\":\"little\",\"shape\":[2]},\"y\":{\"__ndarray__\":\"jB0k3wWAB8Av6pS6dW4YQA==\",\"dtype\":\"float64\",\"order\":\"little\",\"shape\":[2]}},\"selected\":{\"id\":\"16372\"},\"selection_policy\":{\"id\":\"16371\"}},\"id\":\"16080\",\"type\":\"ColumnDataSource\"},{\"attributes\":{},\"id\":\"16381\",\"type\":\"UnionRenderers\"},{\"attributes\":{},\"id\":\"16005\",\"type\":\"LinearScale\"},{\"attributes\":{},\"id\":\"16419\",\"type\":\"UnionRenderers\"},{\"attributes\":{\"source\":{\"id\":\"16092\"}},\"id\":\"16097\",\"type\":\"CDSView\"},{\"attributes\":{\"client_comm_id\":\"351d366c0fe743828fb7973aa1a935d3\",\"comm_id\":\"7cf37cbd10ce4964a75655648ec5559b\",\"plot_id\":\"16350\"},\"id\":\"16903\",\"type\":\"panel.models.comm_manager.CommManager\"},{\"attributes\":{\"coordinates\":null,\"data_source\":{\"id\":\"16080\"},\"glyph\":{\"id\":\"16081\"},\"group\":null,\"hover_glyph\":null,\"muted_glyph\":{\"id\":\"16083\"},\"nonselection_glyph\":{\"id\":\"16082\"},\"view\":{\"id\":\"16085\"}},\"id\":\"16084\",\"type\":\"GlyphRenderer\"},{\"attributes\":{},\"id\":\"16382\",\"type\":\"Selection\"},{\"attributes\":{},\"id\":\"16457\",\"type\":\"UnionRenderers\"},{\"attributes\":{},\"id\":\"16420\",\"type\":\"Selection\"},{\"attributes\":{\"line_alpha\":0.2,\"line_color\":\"#42039D\",\"line_dash\":[6],\"line_width\":4,\"x\":{\"field\":\"x\"},\"y\":{\"field\":\"y\"}},\"id\":\"16083\",\"type\":\"Line\"},{\"attributes\":{\"line_alpha\":0.1,\"line_color\":\"#42039D\",\"line_dash\":[6],\"line_width\":4,\"x\":{\"field\":\"x\"},\"y\":{\"field\":\"y\"}},\"id\":\"16082\",\"type\":\"Line\"},{\"attributes\":{\"coordinates\":null,\"data_source\":{\"id\":\"16086\"},\"glyph\":{\"id\":\"16087\"},\"group\":null,\"hover_glyph\":null,\"muted_glyph\":{\"id\":\"16089\"},\"nonselection_glyph\":{\"id\":\"16088\"},\"view\":{\"id\":\"16091\"}},\"id\":\"16090\",\"type\":\"GlyphRenderer\"},{\"attributes\":{},\"id\":\"16458\",\"type\":\"Selection\"},{\"attributes\":{\"line_color\":\"#5201A3\",\"line_dash\":[6],\"line_width\":4,\"x\":{\"field\":\"x\"},\"y\":{\"field\":\"y\"}},\"id\":\"16093\",\"type\":\"Line\"},{\"attributes\":{\"line_alpha\":0.2,\"line_color\":\"#4A02A0\",\"line_dash\":[6],\"line_width\":4,\"x\":{\"field\":\"x\"},\"y\":{\"field\":\"y\"}},\"id\":\"16089\",\"type\":\"Line\"},{\"attributes\":{\"line_alpha\":0.1,\"line_color\":\"#4A02A0\",\"line_dash\":[6],\"line_width\":4,\"x\":{\"field\":\"x\"},\"y\":{\"field\":\"y\"}},\"id\":\"16088\",\"type\":\"Line\"},{\"attributes\":{\"line_color\":\"#5A00A5\",\"line_dash\":[6],\"line_width\":4,\"x\":{\"field\":\"x\"},\"y\":{\"field\":\"y\"}},\"id\":\"16099\",\"type\":\"Line\"},{\"attributes\":{\"data\":{\"x\":{\"__ndarray__\":\"fv/G3/Jl77+OFcbf4VrvPw==\",\"dtype\":\"float64\",\"order\":\"little\",\"shape\":[2]},\"y\":{\"__ndarray__\":\"ec2K4DxyAsDiY1nqBhARQA==\",\"dtype\":\"float64\",\"order\":\"little\",\"shape\":[2]}},\"selected\":{\"id\":\"16376\"},\"selection_policy\":{\"id\":\"16375\"}},\"id\":\"16092\",\"type\":\"ColumnDataSource\"},{\"attributes\":{\"source\":{\"id\":\"16098\"}},\"id\":\"16103\",\"type\":\"CDSView\"},{\"attributes\":{\"coordinates\":null,\"data_source\":{\"id\":\"16092\"},\"glyph\":{\"id\":\"16093\"},\"group\":null,\"hover_glyph\":null,\"muted_glyph\":{\"id\":\"16095\"},\"nonselection_glyph\":{\"id\":\"16094\"},\"view\":{\"id\":\"16097\"}},\"id\":\"16096\",\"type\":\"GlyphRenderer\"},{\"attributes\":{\"line_alpha\":0.2,\"line_color\":\"#5201A3\",\"line_dash\":[6],\"line_width\":4,\"x\":{\"field\":\"x\"},\"y\":{\"field\":\"y\"}},\"id\":\"16095\",\"type\":\"Line\"},{\"attributes\":{\"line_alpha\":0.1,\"line_color\":\"#5201A3\",\"line_dash\":[6],\"line_width\":4,\"x\":{\"field\":\"x\"},\"y\":{\"field\":\"y\"}},\"id\":\"16094\",\"type\":\"Line\"},{\"attributes\":{},\"id\":\"16383\",\"type\":\"UnionRenderers\"},{\"attributes\":{\"line_color\":\"#6200A6\",\"line_dash\":[6],\"line_width\":4,\"x\":{\"field\":\"x\"},\"y\":{\"field\":\"y\"}},\"id\":\"16105\",\"type\":\"Line\"},{\"attributes\":{},\"id\":\"16421\",\"type\":\"UnionRenderers\"},{\"attributes\":{\"data\":{\"x\":{\"__ndarray__\":\"fv/G3/Jl77+OFcbf4VrvPw==\",\"dtype\":\"float64\",\"order\":\"little\",\"shape\":[2]},\"y\":{\"__ndarray__\":\"VPM7RNwrAcB39LmiC5gOQA==\",\"dtype\":\"float64\",\"order\":\"little\",\"shape\":[2]}},\"selected\":{\"id\":\"16378\"},\"selection_policy\":{\"id\":\"16377\"}},\"id\":\"16098\",\"type\":\"ColumnDataSource\"},{\"attributes\":{\"source\":{\"id\":\"16104\"}},\"id\":\"16109\",\"type\":\"CDSView\"},{\"attributes\":{},\"id\":\"16384\",\"type\":\"Selection\"},{\"attributes\":{\"coordinates\":null,\"data_source\":{\"id\":\"16098\"},\"glyph\":{\"id\":\"16099\"},\"group\":null,\"hover_glyph\":null,\"muted_glyph\":{\"id\":\"16101\"},\"nonselection_glyph\":{\"id\":\"16100\"},\"view\":{\"id\":\"16103\"}},\"id\":\"16102\",\"type\":\"GlyphRenderer\"},{\"attributes\":{},\"id\":\"16459\",\"type\":\"UnionRenderers\"},{\"attributes\":{},\"id\":\"16422\",\"type\":\"Selection\"},{\"attributes\":{\"line_alpha\":0.2,\"line_color\":\"#5A00A5\",\"line_dash\":[6],\"line_width\":4,\"x\":{\"field\":\"x\"},\"y\":{\"field\":\"y\"}},\"id\":\"16101\",\"type\":\"Line\"},{\"attributes\":{\"line_alpha\":0.1,\"line_color\":\"#5A00A5\",\"line_dash\":[6],\"line_width\":4,\"x\":{\"field\":\"x\"},\"y\":{\"field\":\"y\"}},\"id\":\"16100\",\"type\":\"Line\"},{\"attributes\":{},\"id\":\"16460\",\"type\":\"Selection\"},{\"attributes\":{\"line_color\":\"#6C00A8\",\"line_dash\":[6],\"line_width\":4,\"x\":{\"field\":\"x\"},\"y\":{\"field\":\"y\"}},\"id\":\"16111\",\"type\":\"Line\"},{\"attributes\":{\"data\":{\"x\":{\"__ndarray__\":\"fv/G3/Jl77+OFcbf4VrvPw==\",\"dtype\":\"float64\",\"order\":\"little\",\"shape\":[2]},\"y\":{\"__ndarray__\":\"CBIZJdFAAMDFBAtXlyEMQA==\",\"dtype\":\"float64\",\"order\":\"little\",\"shape\":[2]}},\"selected\":{\"id\":\"16380\"},\"selection_policy\":{\"id\":\"16379\"}},\"id\":\"16104\",\"type\":\"ColumnDataSource\"},{\"attributes\":{\"source\":{\"id\":\"16110\"}},\"id\":\"16115\",\"type\":\"CDSView\"},{\"attributes\":{\"coordinates\":null,\"data_source\":{\"id\":\"16104\"},\"glyph\":{\"id\":\"16105\"},\"group\":null,\"hover_glyph\":null,\"muted_glyph\":{\"id\":\"16107\"},\"nonselection_glyph\":{\"id\":\"16106\"},\"view\":{\"id\":\"16109\"}},\"id\":\"16108\",\"type\":\"GlyphRenderer\"},{\"attributes\":{\"line_alpha\":0.2,\"line_color\":\"#6200A6\",\"line_dash\":[6],\"line_width\":4,\"x\":{\"field\":\"x\"},\"y\":{\"field\":\"y\"}},\"id\":\"16107\",\"type\":\"Line\"},{\"attributes\":{\"line_alpha\":0.1,\"line_color\":\"#6200A6\",\"line_dash\":[6],\"line_width\":4,\"x\":{\"field\":\"x\"},\"y\":{\"field\":\"y\"}},\"id\":\"16106\",\"type\":\"Line\"},{\"attributes\":{\"line_color\":\"#7300A8\",\"line_dash\":[6],\"line_width\":4,\"x\":{\"field\":\"x\"},\"y\":{\"field\":\"y\"}},\"id\":\"16117\",\"type\":\"Line\"},{\"attributes\":{\"data\":{\"x\":{\"__ndarray__\":\"fv/G3/Jl77+OFcbf4VrvPw==\",\"dtype\":\"float64\",\"order\":\"little\",\"shape\":[2]},\"y\":{\"__ndarray__\":\"6+upL3se/7/jEw4XnVMKQA==\",\"dtype\":\"float64\",\"order\":\"little\",\"shape\":[2]}},\"selected\":{\"id\":\"16382\"},\"selection_policy\":{\"id\":\"16381\"}},\"id\":\"16110\",\"type\":\"ColumnDataSource\"},{\"attributes\":{},\"id\":\"16018\",\"type\":\"SaveTool\"},{\"attributes\":{\"source\":{\"id\":\"16116\"}},\"id\":\"16121\",\"type\":\"CDSView\"},{\"attributes\":{\"coordinates\":null,\"data_source\":{\"id\":\"16110\"},\"glyph\":{\"id\":\"16111\"},\"group\":null,\"hover_glyph\":null,\"muted_glyph\":{\"id\":\"16113\"},\"nonselection_glyph\":{\"id\":\"16112\"},\"view\":{\"id\":\"16115\"}},\"id\":\"16114\",\"type\":\"GlyphRenderer\"},{\"attributes\":{\"overlay\":{\"id\":\"16021\"}},\"id\":\"16017\",\"type\":\"BoxZoomTool\"},{\"attributes\":{},\"id\":\"16385\",\"type\":\"UnionRenderers\"},{\"attributes\":{},\"id\":\"16423\",\"type\":\"UnionRenderers\"},{\"attributes\":{\"line_alpha\":0.2,\"line_color\":\"#6C00A8\",\"line_dash\":[6],\"line_width\":4,\"x\":{\"field\":\"x\"},\"y\":{\"field\":\"y\"}},\"id\":\"16113\",\"type\":\"Line\"},{\"attributes\":{\"line_alpha\":0.1,\"line_color\":\"#6C00A8\",\"line_dash\":[6],\"line_width\":4,\"x\":{\"field\":\"x\"},\"y\":{\"field\":\"y\"}},\"id\":\"16112\",\"type\":\"Line\"},{\"attributes\":{},\"id\":\"16386\",\"type\":\"Selection\"},{\"attributes\":{\"line_color\":\"#7B02A8\",\"line_dash\":[6],\"line_width\":4,\"x\":{\"field\":\"x\"},\"y\":{\"field\":\"y\"}},\"id\":\"16123\",\"type\":\"Line\"},{\"attributes\":{},\"id\":\"16424\",\"type\":\"Selection\"},{\"attributes\":{\"data\":{\"x\":{\"__ndarray__\":\"fv/G3/Jl77+OFcbf4VrvPw==\",\"dtype\":\"float64\",\"order\":\"little\",\"shape\":[2]},\"y\":{\"__ndarray__\":\"8O2pJboI/r9cwnL7YfQIQA==\",\"dtype\":\"float64\",\"order\":\"little\",\"shape\":[2]}},\"selected\":{\"id\":\"16384\"},\"selection_policy\":{\"id\":\"16383\"}},\"id\":\"16116\",\"type\":\"ColumnDataSource\"},{\"attributes\":{\"source\":{\"id\":\"16122\"}},\"id\":\"16127\",\"type\":\"CDSView\"},{\"attributes\":{\"coordinates\":null,\"data_source\":{\"id\":\"16116\"},\"glyph\":{\"id\":\"16117\"},\"group\":null,\"hover_glyph\":null,\"muted_glyph\":{\"id\":\"16119\"},\"nonselection_glyph\":{\"id\":\"16118\"},\"view\":{\"id\":\"16121\"}},\"id\":\"16120\",\"type\":\"GlyphRenderer\"},{\"attributes\":{\"line_alpha\":0.2,\"line_color\":\"#7300A8\",\"line_dash\":[6],\"line_width\":4,\"x\":{\"field\":\"x\"},\"y\":{\"field\":\"y\"}},\"id\":\"16119\",\"type\":\"Line\"},{\"attributes\":{\"line_alpha\":0.1,\"line_color\":\"#7300A8\",\"line_dash\":[6],\"line_width\":4,\"x\":{\"field\":\"x\"},\"y\":{\"field\":\"y\"}},\"id\":\"16118\",\"type\":\"Line\"},{\"attributes\":{\"line_color\":\"#8204A7\",\"line_dash\":[6],\"line_width\":4,\"x\":{\"field\":\"x\"},\"y\":{\"field\":\"y\"}},\"id\":\"16129\",\"type\":\"Line\"},{\"attributes\":{\"data\":{\"x\":{\"__ndarray__\":\"fv/G3/Jl77+OFcbf4VrvPw==\",\"dtype\":\"float64\",\"order\":\"little\",\"shape\":[2]},\"y\":{\"__ndarray__\":\"3m+Tvcsp/b8dQm0sneEHQA==\",\"dtype\":\"float64\",\"order\":\"little\",\"shape\":[2]}},\"selected\":{\"id\":\"16386\"},\"selection_policy\":{\"id\":\"16385\"}},\"id\":\"16122\",\"type\":\"ColumnDataSource\"},{\"attributes\":{\"source\":{\"id\":\"16128\"}},\"id\":\"16133\",\"type\":\"CDSView\"},{\"attributes\":{\"coordinates\":null,\"data_source\":{\"id\":\"16122\"},\"glyph\":{\"id\":\"16123\"},\"group\":null,\"hover_glyph\":null,\"muted_glyph\":{\"id\":\"16125\"},\"nonselection_glyph\":{\"id\":\"16124\"},\"view\":{\"id\":\"16127\"}},\"id\":\"16126\",\"type\":\"GlyphRenderer\"},{\"attributes\":{\"line_alpha\":0.2,\"line_color\":\"#7B02A8\",\"line_dash\":[6],\"line_width\":4,\"x\":{\"field\":\"x\"},\"y\":{\"field\":\"y\"}},\"id\":\"16125\",\"type\":\"Line\"},{\"attributes\":{\"line_alpha\":0.1,\"line_color\":\"#7B02A8\",\"line_dash\":[6],\"line_width\":4,\"x\":{\"field\":\"x\"},\"y\":{\"field\":\"y\"}},\"id\":\"16124\",\"type\":\"Line\"},{\"attributes\":{\"line_color\":\"#8908A5\",\"line_dash\":[6],\"line_width\":4,\"x\":{\"field\":\"x\"},\"y\":{\"field\":\"y\"}},\"id\":\"16135\",\"type\":\"Line\"},{\"attributes\":{},\"id\":\"16387\",\"type\":\"UnionRenderers\"},{\"attributes\":{\"data\":{\"x\":{\"__ndarray__\":\"fv/G3/Jl77+OFcbf4VrvPw==\",\"dtype\":\"float64\",\"order\":\"little\",\"shape\":[2]},\"y\":{\"__ndarray__\":\"xuY0zTtz/L89m2DstAUHQA==\",\"dtype\":\"float64\",\"order\":\"little\",\"shape\":[2]}},\"selected\":{\"id\":\"16388\"},\"selection_policy\":{\"id\":\"16387\"}},\"id\":\"16128\",\"type\":\"ColumnDataSource\"},{\"attributes\":{},\"id\":\"16425\",\"type\":\"UnionRenderers\"},{\"attributes\":{\"source\":{\"id\":\"16134\"}},\"id\":\"16139\",\"type\":\"CDSView\"},{\"attributes\":{\"coordinates\":null,\"data_source\":{\"id\":\"16128\"},\"glyph\":{\"id\":\"16129\"},\"group\":null,\"hover_glyph\":null,\"muted_glyph\":{\"id\":\"16131\"},\"nonselection_glyph\":{\"id\":\"16130\"},\"view\":{\"id\":\"16133\"}},\"id\":\"16132\",\"type\":\"GlyphRenderer\"},{\"attributes\":{},\"id\":\"16388\",\"type\":\"Selection\"},{\"attributes\":{},\"id\":\"16426\",\"type\":\"Selection\"},{\"attributes\":{\"line_alpha\":0.2,\"line_color\":\"#8204A7\",\"line_dash\":[6],\"line_width\":4,\"x\":{\"field\":\"x\"},\"y\":{\"field\":\"y\"}},\"id\":\"16131\",\"type\":\"Line\"},{\"attributes\":{\"line_alpha\":0.1,\"line_color\":\"#8204A7\",\"line_dash\":[6],\"line_width\":4,\"x\":{\"field\":\"x\"},\"y\":{\"field\":\"y\"}},\"id\":\"16130\",\"type\":\"Line\"},{\"attributes\":{\"line_color\":\"#920FA2\",\"line_dash\":[6],\"line_width\":4,\"x\":{\"field\":\"x\"},\"y\":{\"field\":\"y\"}},\"id\":\"16141\",\"type\":\"Line\"},{\"attributes\":{\"data\":{\"x\":{\"__ndarray__\":\"fv/G3/Jl77+OFcbf4VrvPw==\",\"dtype\":\"float64\",\"order\":\"little\",\"shape\":[2]},\"y\":{\"__ndarray__\":\"wmRwu1Hb+79uA7OgZlIGQA==\",\"dtype\":\"float64\",\"order\":\"little\",\"shape\":[2]}},\"selected\":{\"id\":\"16390\"},\"selection_policy\":{\"id\":\"16389\"}},\"id\":\"16134\",\"type\":\"ColumnDataSource\"},{\"attributes\":{\"source\":{\"id\":\"16140\"}},\"id\":\"16145\",\"type\":\"CDSView\"},{\"attributes\":{\"coordinates\":null,\"data_source\":{\"id\":\"16134\"},\"glyph\":{\"id\":\"16135\"},\"group\":null,\"hover_glyph\":null,\"muted_glyph\":{\"id\":\"16137\"},\"nonselection_glyph\":{\"id\":\"16136\"},\"view\":{\"id\":\"16139\"}},\"id\":\"16138\",\"type\":\"GlyphRenderer\"},{\"attributes\":{\"line_alpha\":0.2,\"line_color\":\"#8908A5\",\"line_dash\":[6],\"line_width\":4,\"x\":{\"field\":\"x\"},\"y\":{\"field\":\"y\"}},\"id\":\"16137\",\"type\":\"Line\"},{\"attributes\":{\"line_alpha\":0.1,\"line_color\":\"#8908A5\",\"line_dash\":[6],\"line_width\":4,\"x\":{\"field\":\"x\"},\"y\":{\"field\":\"y\"}},\"id\":\"16136\",\"type\":\"Line\"},{\"attributes\":{\"line_color\":\"#99149F\",\"line_dash\":[6],\"line_width\":4,\"x\":{\"field\":\"x\"},\"y\":{\"field\":\"y\"}},\"id\":\"16147\",\"type\":\"Line\"},{\"attributes\":{\"data\":{\"x\":{\"__ndarray__\":\"fv/G3/Jl77+OFcbf4VrvPw==\",\"dtype\":\"float64\",\"order\":\"little\",\"shape\":[2]},\"y\":{\"__ndarray__\":\"oHfy7T9b+78TRHtD670FQA==\",\"dtype\":\"float64\",\"order\":\"little\",\"shape\":[2]}},\"selected\":{\"id\":\"16392\"},\"selection_policy\":{\"id\":\"16391\"}},\"id\":\"16140\",\"type\":\"ColumnDataSource\"},{\"attributes\":{\"source\":{\"id\":\"16146\"}},\"id\":\"16151\",\"type\":\"CDSView\"},{\"attributes\":{\"coordinates\":null,\"data_source\":{\"id\":\"16140\"},\"glyph\":{\"id\":\"16141\"},\"group\":null,\"hover_glyph\":null,\"muted_glyph\":{\"id\":\"16143\"},\"nonselection_glyph\":{\"id\":\"16142\"},\"view\":{\"id\":\"16145\"}},\"id\":\"16144\",\"type\":\"GlyphRenderer\"},{\"attributes\":{\"tools\":[{\"id\":\"16015\"},{\"id\":\"16016\"},{\"id\":\"16017\"},{\"id\":\"16018\"},{\"id\":\"16019\"},{\"id\":\"16020\"}]},\"id\":\"16022\",\"type\":\"Toolbar\"},{\"attributes\":{},\"id\":\"16389\",\"type\":\"UnionRenderers\"},{\"attributes\":{\"line_alpha\":0.2,\"line_color\":\"#920FA2\",\"line_dash\":[6],\"line_width\":4,\"x\":{\"field\":\"x\"},\"y\":{\"field\":\"y\"}},\"id\":\"16143\",\"type\":\"Line\"},{\"attributes\":{},\"id\":\"16427\",\"type\":\"UnionRenderers\"},{\"attributes\":{\"line_alpha\":0.1,\"line_color\":\"#920FA2\",\"line_dash\":[6],\"line_width\":4,\"x\":{\"field\":\"x\"},\"y\":{\"field\":\"y\"}},\"id\":\"16142\",\"type\":\"Line\"},{\"attributes\":{\"line_color\":\"#9F1A9B\",\"line_dash\":[6],\"line_width\":4,\"x\":{\"field\":\"x\"},\"y\":{\"field\":\"y\"}},\"id\":\"16153\",\"type\":\"Line\"},{\"attributes\":{},\"id\":\"16390\",\"type\":\"Selection\"},{\"attributes\":{\"data\":{\"x\":{\"__ndarray__\":\"fv/G3/Jl77+OFcbf4VrvPw==\",\"dtype\":\"float64\",\"order\":\"little\",\"shape\":[2]},\"y\":{\"__ndarray__\":\"/qAjGBvu+r/ZxYvSV0EFQA==\",\"dtype\":\"float64\",\"order\":\"little\",\"shape\":[2]}},\"selected\":{\"id\":\"16394\"},\"selection_policy\":{\"id\":\"16393\"}},\"id\":\"16146\",\"type\":\"ColumnDataSource\"},{\"attributes\":{},\"id\":\"16428\",\"type\":\"Selection\"},{\"attributes\":{\"source\":{\"id\":\"16152\"}},\"id\":\"16157\",\"type\":\"CDSView\"},{\"attributes\":{\"coordinates\":null,\"data_source\":{\"id\":\"16146\"},\"glyph\":{\"id\":\"16147\"},\"group\":null,\"hover_glyph\":null,\"muted_glyph\":{\"id\":\"16149\"},\"nonselection_glyph\":{\"id\":\"16148\"},\"view\":{\"id\":\"16151\"}},\"id\":\"16150\",\"type\":\"GlyphRenderer\"},{\"attributes\":{\"line_alpha\":0.2,\"line_color\":\"#99149F\",\"line_dash\":[6],\"line_width\":4,\"x\":{\"field\":\"x\"},\"y\":{\"field\":\"y\"}},\"id\":\"16149\",\"type\":\"Line\"},{\"attributes\":{\"line_alpha\":0.1,\"line_color\":\"#99149F\",\"line_dash\":[6],\"line_width\":4,\"x\":{\"field\":\"x\"},\"y\":{\"field\":\"y\"}},\"id\":\"16148\",\"type\":\"Line\"},{\"attributes\":{\"line_color\":\"#A51F97\",\"line_dash\":[6],\"line_width\":4,\"x\":{\"field\":\"x\"},\"y\":{\"field\":\"y\"}},\"id\":\"16159\",\"type\":\"Line\"},{\"attributes\":{\"data\":{\"x\":{\"__ndarray__\":\"fv/G3/Jl77+OFcbf4VrvPw==\",\"dtype\":\"float64\",\"order\":\"little\",\"shape\":[2]},\"y\":{\"__ndarray__\":\"L3YHoDyQ+r+OlDIJptcEQA==\",\"dtype\":\"float64\",\"order\":\"little\",\"shape\":[2]}},\"selected\":{\"id\":\"16396\"},\"selection_policy\":{\"id\":\"16395\"}},\"id\":\"16152\",\"type\":\"ColumnDataSource\"},{\"attributes\":{\"source\":{\"id\":\"16158\"}},\"id\":\"16163\",\"type\":\"CDSView\"},{\"attributes\":{\"coordinates\":null,\"data_source\":{\"id\":\"16152\"},\"glyph\":{\"id\":\"16153\"},\"group\":null,\"hover_glyph\":null,\"muted_glyph\":{\"id\":\"16155\"},\"nonselection_glyph\":{\"id\":\"16154\"},\"view\":{\"id\":\"16157\"}},\"id\":\"16156\",\"type\":\"GlyphRenderer\"},{\"attributes\":{\"line_alpha\":0.2,\"line_color\":\"#9F1A9B\",\"line_dash\":[6],\"line_width\":4,\"x\":{\"field\":\"x\"},\"y\":{\"field\":\"y\"}},\"id\":\"16155\",\"type\":\"Line\"},{\"attributes\":{\"line_alpha\":0.1,\"line_color\":\"#9F1A9B\",\"line_dash\":[6],\"line_width\":4,\"x\":{\"field\":\"x\"},\"y\":{\"field\":\"y\"}},\"id\":\"16154\",\"type\":\"Line\"},{\"attributes\":{},\"id\":\"16015\",\"type\":\"PanTool\"},{\"attributes\":{\"line_color\":\"#AC2593\",\"line_dash\":[6],\"line_width\":4,\"x\":{\"field\":\"x\"},\"y\":{\"field\":\"y\"}},\"id\":\"16165\",\"type\":\"Line\"},{\"attributes\":{\"data\":{\"x\":{\"__ndarray__\":\"fv/G3/Jl77+OFcbf4VrvPw==\",\"dtype\":\"float64\",\"order\":\"little\",\"shape\":[2]},\"y\":{\"__ndarray__\":\"3e3Tat4++r8k8gYAGn0EQA==\",\"dtype\":\"float64\",\"order\":\"little\",\"shape\":[2]}},\"selected\":{\"id\":\"16398\"},\"selection_policy\":{\"id\":\"16397\"}},\"id\":\"16158\",\"type\":\"ColumnDataSource\"},{\"attributes\":{},\"id\":\"16391\",\"type\":\"UnionRenderers\"},{\"attributes\":{\"source\":{\"id\":\"16164\"}},\"id\":\"16169\",\"type\":\"CDSView\"},{\"attributes\":{},\"id\":\"16429\",\"type\":\"UnionRenderers\"},{\"attributes\":{\"coordinates\":null,\"data_source\":{\"id\":\"16158\"},\"glyph\":{\"id\":\"16159\"},\"group\":null,\"hover_glyph\":null,\"muted_glyph\":{\"id\":\"16161\"},\"nonselection_glyph\":{\"id\":\"16160\"},\"view\":{\"id\":\"16163\"}},\"id\":\"16162\",\"type\":\"GlyphRenderer\"},{\"attributes\":{},\"id\":\"16392\",\"type\":\"Selection\"},{\"attributes\":{\"line_alpha\":0.2,\"line_color\":\"#A51F97\",\"line_dash\":[6],\"line_width\":4,\"x\":{\"field\":\"x\"},\"y\":{\"field\":\"y\"}},\"id\":\"16161\",\"type\":\"Line\"},{\"attributes\":{},\"id\":\"16430\",\"type\":\"Selection\"},{\"attributes\":{\"line_alpha\":0.1,\"line_color\":\"#A51F97\",\"line_dash\":[6],\"line_width\":4,\"x\":{\"field\":\"x\"},\"y\":{\"field\":\"y\"}},\"id\":\"16160\",\"type\":\"Line\"},{\"attributes\":{},\"id\":\"16020\",\"type\":\"HelpTool\"},{\"attributes\":{\"line_color\":\"#B22C8E\",\"line_dash\":[6],\"line_width\":4,\"x\":{\"field\":\"x\"},\"y\":{\"field\":\"y\"}},\"id\":\"16171\",\"type\":\"Line\"},{\"attributes\":{},\"id\":\"16016\",\"type\":\"WheelZoomTool\"},{\"attributes\":{\"data\":{\"x\":{\"__ndarray__\":\"fv/G3/Jl77+OFcbf4VrvPw==\",\"dtype\":\"float64\",\"order\":\"little\",\"shape\":[2]},\"y\":{\"__ndarray__\":\"dWnhy9r3+b/IeLd33y4EQA==\",\"dtype\":\"float64\",\"order\":\"little\",\"shape\":[2]}},\"selected\":{\"id\":\"16400\"},\"selection_policy\":{\"id\":\"16399\"}},\"id\":\"16164\",\"type\":\"ColumnDataSource\"},{\"attributes\":{\"source\":{\"id\":\"16170\"}},\"id\":\"16175\",\"type\":\"CDSView\"},{\"attributes\":{\"coordinates\":null,\"data_source\":{\"id\":\"16164\"},\"glyph\":{\"id\":\"16165\"},\"group\":null,\"hover_glyph\":null,\"muted_glyph\":{\"id\":\"16167\"},\"nonselection_glyph\":{\"id\":\"16166\"},\"view\":{\"id\":\"16169\"}},\"id\":\"16168\",\"type\":\"GlyphRenderer\"},{\"attributes\":{\"line_alpha\":0.2,\"line_color\":\"#AC2593\",\"line_dash\":[6],\"line_width\":4,\"x\":{\"field\":\"x\"},\"y\":{\"field\":\"y\"}},\"id\":\"16167\",\"type\":\"Line\"},{\"attributes\":{},\"id\":\"16012\",\"type\":\"BasicTicker\"},{\"attributes\":{\"line_alpha\":0.1,\"line_color\":\"#AC2593\",\"line_dash\":[6],\"line_width\":4,\"x\":{\"field\":\"x\"},\"y\":{\"field\":\"y\"}},\"id\":\"16166\",\"type\":\"Line\"},{\"attributes\":{\"line_color\":\"#B83289\",\"line_dash\":[6],\"line_width\":4,\"x\":{\"field\":\"x\"},\"y\":{\"field\":\"y\"}},\"id\":\"16177\",\"type\":\"Line\"},{\"attributes\":{\"data\":{\"x\":{\"__ndarray__\":\"fv/G3/Jl77+OFcbf4VrvPw==\",\"dtype\":\"float64\",\"order\":\"little\",\"shape\":[2]},\"y\":{\"__ndarray__\":\"N0XSpIC5+b/NB3zfx+oDQA==\",\"dtype\":\"float64\",\"order\":\"little\",\"shape\":[2]}},\"selected\":{\"id\":\"16402\"},\"selection_policy\":{\"id\":\"16401\"}},\"id\":\"16170\",\"type\":\"ColumnDataSource\"},{\"attributes\":{\"source\":{\"id\":\"16176\"}},\"id\":\"16181\",\"type\":\"CDSView\"},{\"attributes\":{\"coordinates\":null,\"data_source\":{\"id\":\"16170\"},\"glyph\":{\"id\":\"16171\"},\"group\":null,\"hover_glyph\":null,\"muted_glyph\":{\"id\":\"16173\"},\"nonselection_glyph\":{\"id\":\"16172\"},\"view\":{\"id\":\"16175\"}},\"id\":\"16174\",\"type\":\"GlyphRenderer\"},{\"attributes\":{\"axis_label\":\"y\",\"axis_label_standoff\":10,\"axis_label_text_color\":\"#FFFFFF\",\"axis_label_text_font\":\"Josefin Sans\",\"axis_label_text_font_size\":\"1.9em\",\"axis_label_text_font_style\":\"bold\",\"axis_line_alpha\":0.4,\"axis_line_color\":\"#E0E0E0\",\"coordinates\":null,\"formatter\":{\"id\":\"16038\"},\"group\":null,\"major_label_policy\":{\"id\":\"16039\"},\"major_label_text_color\":\"#E0E0E0\",\"major_label_text_font\":\"Josefin Sans\",\"major_label_text_font_size\":\"1.15em\",\"major_tick_line_alpha\":0.4,\"major_tick_line_color\":\"#E0E0E0\",\"minor_tick_line_alpha\":0.4,\"minor_tick_line_color\":\"#E0E0E0\",\"ticker\":{\"id\":\"16012\"}},\"id\":\"16011\",\"type\":\"LinearAxis\"},{\"attributes\":{\"line_alpha\":0.2,\"line_color\":\"#B22C8E\",\"line_dash\":[6],\"line_width\":4,\"x\":{\"field\":\"x\"},\"y\":{\"field\":\"y\"}},\"id\":\"16173\",\"type\":\"Line\"},{\"attributes\":{},\"id\":\"16393\",\"type\":\"UnionRenderers\"},{\"attributes\":{\"line_alpha\":0.1,\"line_color\":\"#B22C8E\",\"line_dash\":[6],\"line_width\":4,\"x\":{\"field\":\"x\"},\"y\":{\"field\":\"y\"}},\"id\":\"16172\",\"type\":\"Line\"},{\"attributes\":{},\"id\":\"16431\",\"type\":\"UnionRenderers\"},{\"attributes\":{\"line_color\":\"#BD3784\",\"line_dash\":[6],\"line_width\":4,\"x\":{\"field\":\"x\"},\"y\":{\"field\":\"y\"}},\"id\":\"16183\",\"type\":\"Line\"},{\"attributes\":{\"axis\":{\"id\":\"16011\"},\"coordinates\":null,\"dimension\":1,\"grid_line_alpha\":0.15,\"grid_line_color\":\"#E0E0E0\",\"group\":null,\"ticker\":null},\"id\":\"16014\",\"type\":\"Grid\"},{\"attributes\":{\"data\":{\"x\":{\"__ndarray__\":\"fv/G3/Jl77+OFcbf4VrvPw==\",\"dtype\":\"float64\",\"order\":\"little\",\"shape\":[2]},\"y\":{\"__ndarray__\":\"QSvegnaC+b8K5QRTHq8DQA==\",\"dtype\":\"float64\",\"order\":\"little\",\"shape\":[2]}},\"selected\":{\"id\":\"16404\"},\"selection_policy\":{\"id\":\"16403\"}},\"id\":\"16176\",\"type\":\"ColumnDataSource\"},{\"attributes\":{},\"id\":\"16394\",\"type\":\"Selection\"},{\"attributes\":{\"source\":{\"id\":\"16182\"}},\"id\":\"16187\",\"type\":\"CDSView\"},{\"attributes\":{},\"id\":\"16432\",\"type\":\"Selection\"},{\"attributes\":{\"coordinates\":null,\"data_source\":{\"id\":\"16176\"},\"glyph\":{\"id\":\"16177\"},\"group\":null,\"hover_glyph\":null,\"muted_glyph\":{\"id\":\"16179\"},\"nonselection_glyph\":{\"id\":\"16178\"},\"view\":{\"id\":\"16181\"}},\"id\":\"16180\",\"type\":\"GlyphRenderer\"},{\"attributes\":{\"line_alpha\":0.2,\"line_color\":\"#B83289\",\"line_dash\":[6],\"line_width\":4,\"x\":{\"field\":\"x\"},\"y\":{\"field\":\"y\"}},\"id\":\"16179\",\"type\":\"Line\"},{\"attributes\":{\"line_alpha\":0.1,\"line_color\":\"#B83289\",\"line_dash\":[6],\"line_width\":4,\"x\":{\"field\":\"x\"},\"y\":{\"field\":\"y\"}},\"id\":\"16178\",\"type\":\"Line\"},{\"attributes\":{\"line_color\":\"#C23D80\",\"line_dash\":[6],\"line_width\":4,\"x\":{\"field\":\"x\"},\"y\":{\"field\":\"y\"}},\"id\":\"16189\",\"type\":\"Line\"},{\"attributes\":{\"data\":{\"x\":{\"__ndarray__\":\"fv/G3/Jl77+OFcbf4VrvPw==\",\"dtype\":\"float64\",\"order\":\"little\",\"shape\":[2]},\"y\":{\"__ndarray__\":\"/i0VDaVR+b+C5q02iHoDQA==\",\"dtype\":\"float64\",\"order\":\"little\",\"shape\":[2]}},\"selected\":{\"id\":\"16406\"},\"selection_policy\":{\"id\":\"16405\"}},\"id\":\"16182\",\"type\":\"ColumnDataSource\"},{\"attributes\":{\"source\":{\"id\":\"16188\"}},\"id\":\"16193\",\"type\":\"CDSView\"},{\"attributes\":{},\"id\":\"16019\",\"type\":\"ResetTool\"},{\"attributes\":{\"coordinates\":null,\"data_source\":{\"id\":\"16182\"},\"glyph\":{\"id\":\"16183\"},\"group\":null,\"hover_glyph\":null,\"muted_glyph\":{\"id\":\"16185\"},\"nonselection_glyph\":{\"id\":\"16184\"},\"view\":{\"id\":\"16187\"}},\"id\":\"16186\",\"type\":\"GlyphRenderer\"},{\"attributes\":{\"line_alpha\":0.2,\"line_color\":\"#BD3784\",\"line_dash\":[6],\"line_width\":4,\"x\":{\"field\":\"x\"},\"y\":{\"field\":\"y\"}},\"id\":\"16185\",\"type\":\"Line\"},{\"attributes\":{\"line_alpha\":0.1,\"line_color\":\"#BD3784\",\"line_dash\":[6],\"line_width\":4,\"x\":{\"field\":\"x\"},\"y\":{\"field\":\"y\"}},\"id\":\"16184\",\"type\":\"Line\"},{\"attributes\":{\"line_color\":\"#C7427B\",\"line_dash\":[6],\"line_width\":4,\"x\":{\"field\":\"x\"},\"y\":{\"field\":\"y\"}},\"id\":\"16195\",\"type\":\"Line\"},{\"attributes\":{\"data\":{\"x\":{\"__ndarray__\":\"fv/G3/Jl77+OFcbf4VrvPw==\",\"dtype\":\"float64\",\"order\":\"little\",\"shape\":[2]},\"y\":{\"__ndarray__\":\"EXxsPCgm+b/UINuE70sDQA==\",\"dtype\":\"float64\",\"order\":\"little\",\"shape\":[2]}},\"selected\":{\"id\":\"16408\"},\"selection_policy\":{\"id\":\"16407\"}},\"id\":\"16188\",\"type\":\"ColumnDataSource\"},{\"attributes\":{\"source\":{\"id\":\"16194\"}},\"id\":\"16199\",\"type\":\"CDSView\"},{\"attributes\":{},\"id\":\"16395\",\"type\":\"UnionRenderers\"},{\"attributes\":{\"coordinates\":null,\"data_source\":{\"id\":\"16188\"},\"glyph\":{\"id\":\"16189\"},\"group\":null,\"hover_glyph\":null,\"muted_glyph\":{\"id\":\"16191\"},\"nonselection_glyph\":{\"id\":\"16190\"},\"view\":{\"id\":\"16193\"}},\"id\":\"16192\",\"type\":\"GlyphRenderer\"},{\"attributes\":{},\"id\":\"16433\",\"type\":\"UnionRenderers\"},{\"attributes\":{\"line_alpha\":0.2,\"line_color\":\"#C23D80\",\"line_dash\":[6],\"line_width\":4,\"x\":{\"field\":\"x\"},\"y\":{\"field\":\"y\"}},\"id\":\"16191\",\"type\":\"Line\"},{\"attributes\":{},\"id\":\"16396\",\"type\":\"Selection\"},{\"attributes\":{\"line_alpha\":0.1,\"line_color\":\"#C23D80\",\"line_dash\":[6],\"line_width\":4,\"x\":{\"field\":\"x\"},\"y\":{\"field\":\"y\"}},\"id\":\"16190\",\"type\":\"Line\"},{\"attributes\":{},\"id\":\"16434\",\"type\":\"Selection\"},{\"attributes\":{\"line_color\":\"#CD4975\",\"line_dash\":[6],\"line_width\":4,\"x\":{\"field\":\"x\"},\"y\":{\"field\":\"y\"}},\"id\":\"16201\",\"type\":\"Line\"},{\"attributes\":{\"data\":{\"x\":{\"__ndarray__\":\"fv/G3/Jl77+OFcbf4VrvPw==\",\"dtype\":\"float64\",\"order\":\"little\",\"shape\":[2]},\"y\":{\"__ndarray__\":\"agTEd0P/+L95MtRVciIDQA==\",\"dtype\":\"float64\",\"order\":\"little\",\"shape\":[2]}},\"selected\":{\"id\":\"16410\"},\"selection_policy\":{\"id\":\"16409\"}},\"id\":\"16194\",\"type\":\"ColumnDataSource\"},{\"attributes\":{\"source\":{\"id\":\"16200\"}},\"id\":\"16205\",\"type\":\"CDSView\"},{\"attributes\":{\"coordinates\":null,\"data_source\":{\"id\":\"16194\"},\"glyph\":{\"id\":\"16195\"},\"group\":null,\"hover_glyph\":null,\"muted_glyph\":{\"id\":\"16197\"},\"nonselection_glyph\":{\"id\":\"16196\"},\"view\":{\"id\":\"16199\"}},\"id\":\"16198\",\"type\":\"GlyphRenderer\"},{\"attributes\":{},\"id\":\"16041\",\"type\":\"BasicTickFormatter\"},{\"attributes\":{\"line_alpha\":0.2,\"line_color\":\"#C7427B\",\"line_dash\":[6],\"line_width\":4,\"x\":{\"field\":\"x\"},\"y\":{\"field\":\"y\"}},\"id\":\"16197\",\"type\":\"Line\"},{\"attributes\":{\"line_alpha\":0.1,\"line_color\":\"#C7427B\",\"line_dash\":[6],\"line_width\":4,\"x\":{\"field\":\"x\"},\"y\":{\"field\":\"y\"}},\"id\":\"16196\",\"type\":\"Line\"},{\"attributes\":{\"line_color\":\"#D14F71\",\"line_dash\":[6],\"line_width\":4,\"x\":{\"field\":\"x\"},\"y\":{\"field\":\"y\"}},\"id\":\"16207\",\"type\":\"Line\"},{\"attributes\":{\"data\":{\"x\":{\"__ndarray__\":\"fv/G3/Jl77+OFcbf4VrvPw==\",\"dtype\":\"float64\",\"order\":\"little\",\"shape\":[2]},\"y\":{\"__ndarray__\":\"8lp2Ilrc+L9LmsHbV/0CQA==\",\"dtype\":\"float64\",\"order\":\"little\",\"shape\":[2]}},\"selected\":{\"id\":\"16412\"},\"selection_policy\":{\"id\":\"16411\"}},\"id\":\"16200\",\"type\":\"ColumnDataSource\"},{\"attributes\":{\"source\":{\"id\":\"16206\"}},\"id\":\"16211\",\"type\":\"CDSView\"},{\"attributes\":{\"coordinates\":null,\"data_source\":{\"id\":\"16200\"},\"glyph\":{\"id\":\"16201\"},\"group\":null,\"hover_glyph\":null,\"muted_glyph\":{\"id\":\"16203\"},\"nonselection_glyph\":{\"id\":\"16202\"},\"view\":{\"id\":\"16205\"}},\"id\":\"16204\",\"type\":\"GlyphRenderer\"},{\"attributes\":{\"line_alpha\":0.2,\"line_color\":\"#CD4975\",\"line_dash\":[6],\"line_width\":4,\"x\":{\"field\":\"x\"},\"y\":{\"field\":\"y\"}},\"id\":\"16203\",\"type\":\"Line\"},{\"attributes\":{\"line_alpha\":0.1,\"line_color\":\"#CD4975\",\"line_dash\":[6],\"line_width\":4,\"x\":{\"field\":\"x\"},\"y\":{\"field\":\"y\"}},\"id\":\"16202\",\"type\":\"Line\"},{\"attributes\":{},\"id\":\"16397\",\"type\":\"UnionRenderers\"},{\"attributes\":{\"line_color\":\"#D6556D\",\"line_dash\":[6],\"line_width\":4,\"x\":{\"field\":\"x\"},\"y\":{\"field\":\"y\"}},\"id\":\"16213\",\"type\":\"Line\"},{\"attributes\":{},\"id\":\"16435\",\"type\":\"UnionRenderers\"},{\"attributes\":{\"data\":{\"x\":{\"__ndarray__\":\"fv/G3/Jl77+OFcbf4VrvPw==\",\"dtype\":\"float64\",\"order\":\"little\",\"shape\":[2]},\"y\":{\"__ndarray__\":\"dLpY5Oi8+L/PS4g8B9wCQA==\",\"dtype\":\"float64\",\"order\":\"little\",\"shape\":[2]}},\"selected\":{\"id\":\"16414\"},\"selection_policy\":{\"id\":\"16413\"}},\"id\":\"16206\",\"type\":\"ColumnDataSource\"},{\"attributes\":{\"source\":{\"id\":\"16212\"}},\"id\":\"16217\",\"type\":\"CDSView\"},{\"attributes\":{},\"id\":\"16398\",\"type\":\"Selection\"},{\"attributes\":{\"bottom_units\":\"screen\",\"coordinates\":null,\"fill_alpha\":0.5,\"fill_color\":\"lightgrey\",\"group\":null,\"left_units\":\"screen\",\"level\":\"overlay\",\"line_alpha\":1.0,\"line_color\":\"black\",\"line_dash\":[4,4],\"line_width\":2,\"right_units\":\"screen\",\"syncable\":false,\"top_units\":\"screen\"},\"id\":\"16021\",\"type\":\"BoxAnnotation\"},{\"attributes\":{\"coordinates\":null,\"data_source\":{\"id\":\"16206\"},\"glyph\":{\"id\":\"16207\"},\"group\":null,\"hover_glyph\":null,\"muted_glyph\":{\"id\":\"16209\"},\"nonselection_glyph\":{\"id\":\"16208\"},\"view\":{\"id\":\"16211\"}},\"id\":\"16210\",\"type\":\"GlyphRenderer\"},{\"attributes\":{},\"id\":\"16436\",\"type\":\"Selection\"},{\"attributes\":{\"line_alpha\":0.2,\"line_color\":\"#D14F71\",\"line_dash\":[6],\"line_width\":4,\"x\":{\"field\":\"x\"},\"y\":{\"field\":\"y\"}},\"id\":\"16209\",\"type\":\"Line\"},{\"attributes\":{\"line_alpha\":0.1,\"line_color\":\"#D14F71\",\"line_dash\":[6],\"line_width\":4,\"x\":{\"field\":\"x\"},\"y\":{\"field\":\"y\"}},\"id\":\"16208\",\"type\":\"Line\"},{\"attributes\":{\"line_color\":\"#DA5A68\",\"line_dash\":[6],\"line_width\":4,\"x\":{\"field\":\"x\"},\"y\":{\"field\":\"y\"}},\"id\":\"16219\",\"type\":\"Line\"},{\"attributes\":{\"data\":{\"x\":{\"__ndarray__\":\"fv/G3/Jl77+OFcbf4VrvPw==\",\"dtype\":\"float64\",\"order\":\"little\",\"shape\":[2]},\"y\":{\"__ndarray__\":\"74ealYCg+L/QgPsdAb4CQA==\",\"dtype\":\"float64\",\"order\":\"little\",\"shape\":[2]}},\"selected\":{\"id\":\"16416\"},\"selection_policy\":{\"id\":\"16415\"}},\"id\":\"16212\",\"type\":\"ColumnDataSource\"},{\"attributes\":{\"coordinates\":null,\"group\":null,\"text\":\"Observations\",\"text_color\":\"#E0E0E0\",\"text_font\":\"Josefin Sans\",\"text_font_size\":\"2.1em\"},\"id\":\"15997\",\"type\":\"Title\"},{\"attributes\":{\"source\":{\"id\":\"16218\"}},\"id\":\"16223\",\"type\":\"CDSView\"},{\"attributes\":{\"coordinates\":null,\"data_source\":{\"id\":\"16212\"},\"glyph\":{\"id\":\"16213\"},\"group\":null,\"hover_glyph\":null,\"muted_glyph\":{\"id\":\"16215\"},\"nonselection_glyph\":{\"id\":\"16214\"},\"view\":{\"id\":\"16217\"}},\"id\":\"16216\",\"type\":\"GlyphRenderer\"},{\"attributes\":{},\"id\":\"16043\",\"type\":\"UnionRenderers\"},{\"attributes\":{\"line_alpha\":0.2,\"line_color\":\"#D6556D\",\"line_dash\":[6],\"line_width\":4,\"x\":{\"field\":\"x\"},\"y\":{\"field\":\"y\"}},\"id\":\"16215\",\"type\":\"Line\"},{\"attributes\":{},\"id\":\"16361\",\"type\":\"UnionRenderers\"},{\"attributes\":{\"line_alpha\":0.1,\"line_color\":\"#D6556D\",\"line_dash\":[6],\"line_width\":4,\"x\":{\"field\":\"x\"},\"y\":{\"field\":\"y\"}},\"id\":\"16214\",\"type\":\"Line\"},{\"attributes\":{\"line_color\":\"#DE6064\",\"line_dash\":[6],\"line_width\":4,\"x\":{\"field\":\"x\"},\"y\":{\"field\":\"y\"}},\"id\":\"16225\",\"type\":\"Line\"},{\"attributes\":{\"data\":{\"x\":{\"__ndarray__\":\"fv/G3/Jl77+OFcbf4VrvPw==\",\"dtype\":\"float64\",\"order\":\"little\",\"shape\":[2]},\"y\":{\"__ndarray__\":\"5h3n08KG+L9aXNJ72qICQA==\",\"dtype\":\"float64\",\"order\":\"little\",\"shape\":[2]}},\"selected\":{\"id\":\"16418\"},\"selection_policy\":{\"id\":\"16417\"}},\"id\":\"16218\",\"type\":\"ColumnDataSource\"},{\"attributes\":{\"source\":{\"id\":\"16224\"}},\"id\":\"16229\",\"type\":\"CDSView\"},{\"attributes\":{\"coordinates\":null,\"data_source\":{\"id\":\"16218\"},\"glyph\":{\"id\":\"16219\"},\"group\":null,\"hover_glyph\":null,\"muted_glyph\":{\"id\":\"16221\"},\"nonselection_glyph\":{\"id\":\"16220\"},\"view\":{\"id\":\"16223\"}},\"id\":\"16222\",\"type\":\"GlyphRenderer\"},{\"attributes\":{},\"id\":\"16399\",\"type\":\"UnionRenderers\"},{\"attributes\":{},\"id\":\"16362\",\"type\":\"Selection\"},{\"attributes\":{},\"id\":\"16437\",\"type\":\"UnionRenderers\"},{\"attributes\":{\"line_alpha\":0.2,\"line_color\":\"#DA5A68\",\"line_dash\":[6],\"line_width\":4,\"x\":{\"field\":\"x\"},\"y\":{\"field\":\"y\"}},\"id\":\"16221\",\"type\":\"Line\"},{\"attributes\":{},\"id\":\"16038\",\"type\":\"BasicTickFormatter\"},{\"attributes\":{\"line_alpha\":0.1,\"line_color\":\"#DA5A68\",\"line_dash\":[6],\"line_width\":4,\"x\":{\"field\":\"x\"},\"y\":{\"field\":\"y\"}},\"id\":\"16220\",\"type\":\"Line\"},{\"attributes\":{},\"id\":\"16400\",\"type\":\"Selection\"},{\"attributes\":{\"line_color\":\"#E3675F\",\"line_dash\":[6],\"line_width\":4,\"x\":{\"field\":\"x\"},\"y\":{\"field\":\"y\"}},\"id\":\"16231\",\"type\":\"Line\"},{\"attributes\":{},\"id\":\"16438\",\"type\":\"Selection\"},{\"attributes\":{\"data\":{\"x\":{\"__ndarray__\":\"fv/G3/Jl77+OFcbf4VrvPw==\",\"dtype\":\"float64\",\"order\":\"little\",\"shape\":[2]},\"y\":{\"__ndarray__\":\"u5XiBF9v+L9mNQgLOYoCQA==\",\"dtype\":\"float64\",\"order\":\"little\",\"shape\":[2]}},\"selected\":{\"id\":\"16420\"},\"selection_policy\":{\"id\":\"16419\"}},\"id\":\"16224\",\"type\":\"ColumnDataSource\"},{\"attributes\":{\"source\":{\"id\":\"16230\"}},\"id\":\"16235\",\"type\":\"CDSView\"},{\"attributes\":{\"coordinates\":null,\"data_source\":{\"id\":\"16224\"},\"glyph\":{\"id\":\"16225\"},\"group\":null,\"hover_glyph\":null,\"muted_glyph\":{\"id\":\"16227\"},\"nonselection_glyph\":{\"id\":\"16226\"},\"view\":{\"id\":\"16229\"}},\"id\":\"16228\",\"type\":\"GlyphRenderer\"},{\"attributes\":{\"line_alpha\":0.2,\"line_color\":\"#DE6064\",\"line_dash\":[6],\"line_width\":4,\"x\":{\"field\":\"x\"},\"y\":{\"field\":\"y\"}},\"id\":\"16227\",\"type\":\"Line\"},{\"attributes\":{\"line_alpha\":0.1,\"line_color\":\"#DE6064\",\"line_dash\":[6],\"line_width\":4,\"x\":{\"field\":\"x\"},\"y\":{\"field\":\"y\"}},\"id\":\"16226\",\"type\":\"Line\"},{\"attributes\":{\"line_color\":\"#E66D5A\",\"line_dash\":[6],\"line_width\":4,\"x\":{\"field\":\"x\"},\"y\":{\"field\":\"y\"}},\"id\":\"16237\",\"type\":\"Line\"},{\"attributes\":{\"data\":{\"x\":{\"__ndarray__\":\"fv/G3/Jl77+OFcbf4VrvPw==\",\"dtype\":\"float64\",\"order\":\"little\",\"shape\":[2]},\"y\":{\"__ndarray__\":\"DQxCvg9a+L8iNe3mz3MCQA==\",\"dtype\":\"float64\",\"order\":\"little\",\"shape\":[2]}},\"selected\":{\"id\":\"16422\"},\"selection_policy\":{\"id\":\"16421\"}},\"id\":\"16230\",\"type\":\"ColumnDataSource\"},{\"attributes\":{\"source\":{\"id\":\"16236\"}},\"id\":\"16241\",\"type\":\"CDSView\"},{\"attributes\":{\"coordinates\":null,\"data_source\":{\"id\":\"16230\"},\"glyph\":{\"id\":\"16231\"},\"group\":null,\"hover_glyph\":null,\"muted_glyph\":{\"id\":\"16233\"},\"nonselection_glyph\":{\"id\":\"16232\"},\"view\":{\"id\":\"16235\"}},\"id\":\"16234\",\"type\":\"GlyphRenderer\"},{\"attributes\":{\"line_alpha\":0.2,\"line_color\":\"#E3675F\",\"line_dash\":[6],\"line_width\":4,\"x\":{\"field\":\"x\"},\"y\":{\"field\":\"y\"}},\"id\":\"16233\",\"type\":\"Line\"},{\"attributes\":{},\"id\":\"16363\",\"type\":\"UnionRenderers\"},{\"attributes\":{\"line_alpha\":0.1,\"line_color\":\"#E3675F\",\"line_dash\":[6],\"line_width\":4,\"x\":{\"field\":\"x\"},\"y\":{\"field\":\"y\"}},\"id\":\"16232\",\"type\":\"Line\"},{\"attributes\":{\"line_color\":\"#EA7356\",\"line_dash\":[6],\"line_width\":4,\"x\":{\"field\":\"x\"},\"y\":{\"field\":\"y\"}},\"id\":\"16243\",\"type\":\"Line\"},{\"attributes\":{},\"id\":\"16401\",\"type\":\"UnionRenderers\"},{\"attributes\":{\"data\":{\"x\":{\"__ndarray__\":\"fv/G3/Jl77+OFcbf4VrvPw==\",\"dtype\":\"float64\",\"order\":\"little\",\"shape\":[2]},\"y\":{\"__ndarray__\":\"jzM+RplG+L83LWNmXV8CQA==\",\"dtype\":\"float64\",\"order\":\"little\",\"shape\":[2]}},\"selected\":{\"id\":\"16424\"},\"selection_policy\":{\"id\":\"16423\"}},\"id\":\"16236\",\"type\":\"ColumnDataSource\"},{\"attributes\":{},\"id\":\"16364\",\"type\":\"Selection\"},{\"attributes\":{},\"id\":\"16439\",\"type\":\"UnionRenderers\"},{\"attributes\":{\"source\":{\"id\":\"16242\"}},\"id\":\"16247\",\"type\":\"CDSView\"},{\"attributes\":{\"coordinates\":null,\"data_source\":{\"id\":\"16236\"},\"glyph\":{\"id\":\"16237\"},\"group\":null,\"hover_glyph\":null,\"muted_glyph\":{\"id\":\"16239\"},\"nonselection_glyph\":{\"id\":\"16238\"},\"view\":{\"id\":\"16241\"}},\"id\":\"16240\",\"type\":\"GlyphRenderer\"},{\"attributes\":{},\"id\":\"16402\",\"type\":\"Selection\"},{\"attributes\":{},\"id\":\"16440\",\"type\":\"Selection\"},{\"attributes\":{\"line_alpha\":0.2,\"line_color\":\"#E66D5A\",\"line_dash\":[6],\"line_width\":4,\"x\":{\"field\":\"x\"},\"y\":{\"field\":\"y\"}},\"id\":\"16239\",\"type\":\"Line\"},{\"attributes\":{\"line_alpha\":0.1,\"line_color\":\"#E66D5A\",\"line_dash\":[6],\"line_width\":4,\"x\":{\"field\":\"x\"},\"y\":{\"field\":\"y\"}},\"id\":\"16238\",\"type\":\"Line\"},{\"attributes\":{\"line_color\":\"#ED7952\",\"line_dash\":[6],\"line_width\":4,\"x\":{\"field\":\"x\"},\"y\":{\"field\":\"y\"}},\"id\":\"16249\",\"type\":\"Line\"},{\"attributes\":{\"data\":{\"x\":{\"__ndarray__\":\"fv/G3/Jl77+OFcbf4VrvPw==\",\"dtype\":\"float64\",\"order\":\"little\",\"shape\":[2]},\"y\":{\"__ndarray__\":\"g/nD7sc0+L9coYk6qUwCQA==\",\"dtype\":\"float64\",\"order\":\"little\",\"shape\":[2]}},\"selected\":{\"id\":\"16426\"},\"selection_policy\":{\"id\":\"16425\"}},\"id\":\"16242\",\"type\":\"ColumnDataSource\"},{\"attributes\":{\"source\":{\"id\":\"16248\"}},\"id\":\"16253\",\"type\":\"CDSView\"},{\"attributes\":{},\"id\":\"16042\",\"type\":\"AllLabels\"},{\"attributes\":{\"coordinates\":null,\"data_source\":{\"id\":\"16242\"},\"glyph\":{\"id\":\"16243\"},\"group\":null,\"hover_glyph\":null,\"muted_glyph\":{\"id\":\"16245\"},\"nonselection_glyph\":{\"id\":\"16244\"},\"view\":{\"id\":\"16247\"}},\"id\":\"16246\",\"type\":\"GlyphRenderer\"},{\"attributes\":{\"line_alpha\":0.2,\"line_color\":\"#EA7356\",\"line_dash\":[6],\"line_width\":4,\"x\":{\"field\":\"x\"},\"y\":{\"field\":\"y\"}},\"id\":\"16245\",\"type\":\"Line\"},{\"attributes\":{\"line_alpha\":0.1,\"line_color\":\"#EA7356\",\"line_dash\":[6],\"line_width\":4,\"x\":{\"field\":\"x\"},\"y\":{\"field\":\"y\"}},\"id\":\"16244\",\"type\":\"Line\"},{\"attributes\":{\"line_color\":\"#F0804D\",\"line_dash\":[6],\"line_width\":4,\"x\":{\"field\":\"x\"},\"y\":{\"field\":\"y\"}},\"id\":\"16255\",\"type\":\"Line\"},{\"attributes\":{\"data\":{\"x\":{\"__ndarray__\":\"fv/G3/Jl77+OFcbf4VrvPw==\",\"dtype\":\"float64\",\"order\":\"little\",\"shape\":[2]},\"y\":{\"__ndarray__\":\"PHamb24k+L8Ij6h9gjsCQA==\",\"dtype\":\"float64\",\"order\":\"little\",\"shape\":[2]}},\"selected\":{\"id\":\"16428\"},\"selection_policy\":{\"id\":\"16427\"}},\"id\":\"16248\",\"type\":\"ColumnDataSource\"},{\"attributes\":{\"source\":{\"id\":\"16254\"}},\"id\":\"16259\",\"type\":\"CDSView\"},{\"attributes\":{},\"id\":\"16365\",\"type\":\"UnionRenderers\"},{\"attributes\":{\"coordinates\":null,\"data_source\":{\"id\":\"16248\"},\"glyph\":{\"id\":\"16249\"},\"group\":null,\"hover_glyph\":null,\"muted_glyph\":{\"id\":\"16251\"},\"nonselection_glyph\":{\"id\":\"16250\"},\"view\":{\"id\":\"16253\"}},\"id\":\"16252\",\"type\":\"GlyphRenderer\"},{\"attributes\":{},\"id\":\"16403\",\"type\":\"UnionRenderers\"},{\"attributes\":{\"line_alpha\":0.2,\"line_color\":\"#ED7952\",\"line_dash\":[6],\"line_width\":4,\"x\":{\"field\":\"x\"},\"y\":{\"field\":\"y\"}},\"id\":\"16251\",\"type\":\"Line\"},{\"attributes\":{},\"id\":\"16366\",\"type\":\"Selection\"},{\"attributes\":{},\"id\":\"16441\",\"type\":\"UnionRenderers\"},{\"attributes\":{\"line_alpha\":0.1,\"line_color\":\"#ED7952\",\"line_dash\":[6],\"line_width\":4,\"x\":{\"field\":\"x\"},\"y\":{\"field\":\"y\"}},\"id\":\"16250\",\"type\":\"Line\"},{\"attributes\":{\"line_color\":\"#F38748\",\"line_dash\":[6],\"line_width\":4,\"x\":{\"field\":\"x\"},\"y\":{\"field\":\"y\"}},\"id\":\"16261\",\"type\":\"Line\"},{\"attributes\":{},\"id\":\"16404\",\"type\":\"Selection\"},{\"attributes\":{\"data\":{\"x\":{\"__ndarray__\":\"fv/G3/Jl77+OFcbf4VrvPw==\",\"dtype\":\"float64\",\"order\":\"little\",\"shape\":[2]},\"y\":{\"__ndarray__\":\"SNz2IWUV+L/pus6/visCQA==\",\"dtype\":\"float64\",\"order\":\"little\",\"shape\":[2]}},\"selected\":{\"id\":\"16430\"},\"selection_policy\":{\"id\":\"16429\"}},\"id\":\"16254\",\"type\":\"ColumnDataSource\"},{\"attributes\":{},\"id\":\"16442\",\"type\":\"Selection\"},{\"attributes\":{\"source\":{\"id\":\"16260\"}},\"id\":\"16265\",\"type\":\"CDSView\"},{\"attributes\":{\"coordinates\":null,\"data_source\":{\"id\":\"16254\"},\"glyph\":{\"id\":\"16255\"},\"group\":null,\"hover_glyph\":null,\"muted_glyph\":{\"id\":\"16257\"},\"nonselection_glyph\":{\"id\":\"16256\"},\"view\":{\"id\":\"16259\"}},\"id\":\"16258\",\"type\":\"GlyphRenderer\"},{\"attributes\":{\"line_alpha\":0.2,\"line_color\":\"#F0804D\",\"line_dash\":[6],\"line_width\":4,\"x\":{\"field\":\"x\"},\"y\":{\"field\":\"y\"}},\"id\":\"16257\",\"type\":\"Line\"},{\"attributes\":{\"line_alpha\":0.1,\"line_color\":\"#F0804D\",\"line_dash\":[6],\"line_width\":4,\"x\":{\"field\":\"x\"},\"y\":{\"field\":\"y\"}},\"id\":\"16256\",\"type\":\"Line\"},{\"attributes\":{\"line_color\":\"#F68E44\",\"line_dash\":[6],\"line_width\":4,\"x\":{\"field\":\"x\"},\"y\":{\"field\":\"y\"}},\"id\":\"16267\",\"type\":\"Line\"},{\"attributes\":{\"data\":{\"x\":{\"__ndarray__\":\"fv/G3/Jl77+OFcbf4VrvPw==\",\"dtype\":\"float64\",\"order\":\"little\",\"shape\":[2]},\"y\":{\"__ndarray__\":\"fiRJpYkH+L+k37lAOR0CQA==\",\"dtype\":\"float64\",\"order\":\"little\",\"shape\":[2]}},\"selected\":{\"id\":\"16432\"},\"selection_policy\":{\"id\":\"16431\"}},\"id\":\"16260\",\"type\":\"ColumnDataSource\"},{\"attributes\":{\"source\":{\"id\":\"16266\"}},\"id\":\"16271\",\"type\":\"CDSView\"},{\"attributes\":{\"coordinates\":null,\"data_source\":{\"id\":\"16260\"},\"glyph\":{\"id\":\"16261\"},\"group\":null,\"hover_glyph\":null,\"muted_glyph\":{\"id\":\"16263\"},\"nonselection_glyph\":{\"id\":\"16262\"},\"view\":{\"id\":\"16265\"}},\"id\":\"16264\",\"type\":\"GlyphRenderer\"},{\"attributes\":{\"fill_alpha\":{\"value\":0.1},\"fill_color\":{\"field\":\"color\"},\"hatch_alpha\":{\"value\":0.1},\"hatch_color\":{\"field\":\"color\"},\"line_alpha\":{\"value\":0.1},\"line_color\":{\"value\":\"white\"},\"size\":{\"value\":10},\"x\":{\"field\":\"x\"},\"y\":{\"field\":\"y\"}},\"id\":\"16032\",\"type\":\"Circle\"},{\"attributes\":{\"line_alpha\":0.2,\"line_color\":\"#F38748\",\"line_dash\":[6],\"line_width\":4,\"x\":{\"field\":\"x\"},\"y\":{\"field\":\"y\"}},\"id\":\"16263\",\"type\":\"Line\"},{\"attributes\":{\"line_alpha\":0.1,\"line_color\":\"#F38748\",\"line_dash\":[6],\"line_width\":4,\"x\":{\"field\":\"x\"},\"y\":{\"field\":\"y\"}},\"id\":\"16262\",\"type\":\"Line\"},{\"attributes\":{},\"id\":\"16367\",\"type\":\"UnionRenderers\"},{\"attributes\":{\"line_color\":\"#F89540\",\"line_dash\":[6],\"line_width\":4,\"x\":{\"field\":\"x\"},\"y\":{\"field\":\"y\"}},\"id\":\"16273\",\"type\":\"Line\"},{\"attributes\":{\"data\":{\"x\":{\"__ndarray__\":\"fv/G3/Jl77+OFcbf4VrvPw==\",\"dtype\":\"float64\",\"order\":\"little\",\"shape\":[2]},\"y\":{\"__ndarray__\":\"jGukbL3697+qT8qZ0Q8CQA==\",\"dtype\":\"float64\",\"order\":\"little\",\"shape\":[2]}},\"selected\":{\"id\":\"16434\"},\"selection_policy\":{\"id\":\"16433\"}},\"id\":\"16266\",\"type\":\"ColumnDataSource\"},{\"attributes\":{},\"id\":\"16405\",\"type\":\"UnionRenderers\"},{\"attributes\":{\"source\":{\"id\":\"16272\"}},\"id\":\"16277\",\"type\":\"CDSView\"},{\"attributes\":{},\"id\":\"16368\",\"type\":\"Selection\"},{\"attributes\":{},\"id\":\"16443\",\"type\":\"UnionRenderers\"},{\"attributes\":{\"coordinates\":null,\"data_source\":{\"id\":\"16266\"},\"glyph\":{\"id\":\"16267\"},\"group\":null,\"hover_glyph\":null,\"muted_glyph\":{\"id\":\"16269\"},\"nonselection_glyph\":{\"id\":\"16268\"},\"view\":{\"id\":\"16271\"}},\"id\":\"16270\",\"type\":\"GlyphRenderer\"},{\"attributes\":{},\"id\":\"16406\",\"type\":\"Selection\"},{\"attributes\":{\"line_alpha\":0.2,\"line_color\":\"#F68E44\",\"line_dash\":[6],\"line_width\":4,\"x\":{\"field\":\"x\"},\"y\":{\"field\":\"y\"}},\"id\":\"16269\",\"type\":\"Line\"},{\"attributes\":{},\"id\":\"16444\",\"type\":\"Selection\"},{\"attributes\":{\"line_alpha\":0.1,\"line_color\":\"#F68E44\",\"line_dash\":[6],\"line_width\":4,\"x\":{\"field\":\"x\"},\"y\":{\"field\":\"y\"}},\"id\":\"16268\",\"type\":\"Line\"},{\"attributes\":{\"line_color\":\"#FA9C3B\",\"line_dash\":[6],\"line_width\":4,\"x\":{\"field\":\"x\"},\"y\":{\"field\":\"y\"}},\"id\":\"16279\",\"type\":\"Line\"},{\"attributes\":{\"data\":{\"x\":{\"__ndarray__\":\"fv/G3/Jl77+OFcbf4VrvPw==\",\"dtype\":\"float64\",\"order\":\"little\",\"shape\":[2]},\"y\":{\"__ndarray__\":\"dntXtuXu979jtUuIawMCQA==\",\"dtype\":\"float64\",\"order\":\"little\",\"shape\":[2]}},\"selected\":{\"id\":\"16436\"},\"selection_policy\":{\"id\":\"16435\"}},\"id\":\"16272\",\"type\":\"ColumnDataSource\"},{\"attributes\":{\"source\":{\"id\":\"16278\"}},\"id\":\"16283\",\"type\":\"CDSView\"},{\"attributes\":{\"coordinates\":null,\"data_source\":{\"id\":\"16272\"},\"glyph\":{\"id\":\"16273\"},\"group\":null,\"hover_glyph\":null,\"muted_glyph\":{\"id\":\"16275\"},\"nonselection_glyph\":{\"id\":\"16274\"},\"view\":{\"id\":\"16277\"}},\"id\":\"16276\",\"type\":\"GlyphRenderer\"},{\"attributes\":{\"line_alpha\":0.2,\"line_color\":\"#F89540\",\"line_dash\":[6],\"line_width\":4,\"x\":{\"field\":\"x\"},\"y\":{\"field\":\"y\"}},\"id\":\"16275\",\"type\":\"Line\"},{\"attributes\":{\"line_alpha\":0.1,\"line_color\":\"#F89540\",\"line_dash\":[6],\"line_width\":4,\"x\":{\"field\":\"x\"},\"y\":{\"field\":\"y\"}},\"id\":\"16274\",\"type\":\"Line\"},{\"attributes\":{},\"id\":\"16044\",\"type\":\"Selection\"},{\"attributes\":{\"line_color\":\"#FBA337\",\"line_dash\":[6],\"line_width\":4,\"x\":{\"field\":\"x\"},\"y\":{\"field\":\"y\"}},\"id\":\"16285\",\"type\":\"Line\"},{\"attributes\":{\"data\":{\"x\":{\"__ndarray__\":\"fv/G3/Jl77+OFcbf4VrvPw==\",\"dtype\":\"float64\",\"order\":\"little\",\"shape\":[2]},\"y\":{\"__ndarray__\":\"3umlaOrj979Lf5zr7fcBQA==\",\"dtype\":\"float64\",\"order\":\"little\",\"shape\":[2]}},\"selected\":{\"id\":\"16438\"},\"selection_policy\":{\"id\":\"16437\"}},\"id\":\"16278\",\"type\":\"ColumnDataSource\"},{\"attributes\":{\"source\":{\"id\":\"16284\"}},\"id\":\"16289\",\"type\":\"CDSView\"},{\"attributes\":{\"coordinates\":null,\"data_source\":{\"id\":\"16278\"},\"glyph\":{\"id\":\"16279\"},\"group\":null,\"hover_glyph\":null,\"muted_glyph\":{\"id\":\"16281\"},\"nonselection_glyph\":{\"id\":\"16280\"},\"view\":{\"id\":\"16283\"}},\"id\":\"16282\",\"type\":\"GlyphRenderer\"},{\"attributes\":{},\"id\":\"16369\",\"type\":\"UnionRenderers\"},{\"attributes\":{\"source\":{\"id\":\"16056\"}},\"id\":\"16061\",\"type\":\"CDSView\"},{\"attributes\":{\"line_alpha\":0.2,\"line_color\":\"#FA9C3B\",\"line_dash\":[6],\"line_width\":4,\"x\":{\"field\":\"x\"},\"y\":{\"field\":\"y\"}},\"id\":\"16281\",\"type\":\"Line\"},{\"attributes\":{},\"id\":\"16407\",\"type\":\"UnionRenderers\"},{\"attributes\":{\"line_alpha\":0.1,\"line_color\":\"#FA9C3B\",\"line_dash\":[6],\"line_width\":4,\"x\":{\"field\":\"x\"},\"y\":{\"field\":\"y\"}},\"id\":\"16280\",\"type\":\"Line\"},{\"attributes\":{},\"id\":\"16370\",\"type\":\"Selection\"},{\"attributes\":{\"fill_alpha\":{\"value\":0.6},\"fill_color\":{\"field\":\"color\"},\"hatch_alpha\":{\"value\":0.6},\"hatch_color\":{\"field\":\"color\"},\"line_alpha\":{\"value\":0.6},\"line_color\":{\"value\":\"white\"},\"size\":{\"value\":10},\"x\":{\"field\":\"x\"},\"y\":{\"field\":\"y\"}},\"id\":\"16031\",\"type\":\"Circle\"},{\"attributes\":{},\"id\":\"16445\",\"type\":\"UnionRenderers\"},{\"attributes\":{\"line_color\":\"#FCAC32\",\"line_dash\":[6],\"line_width\":4,\"x\":{\"field\":\"x\"},\"y\":{\"field\":\"y\"}},\"id\":\"16291\",\"type\":\"Line\"},{\"attributes\":{\"data\":{\"x\":{\"__ndarray__\":\"fv/G3/Jl77+OFcbf4VrvPw==\",\"dtype\":\"float64\",\"order\":\"little\",\"shape\":[2]},\"y\":{\"__ndarray__\":\"9IHf0rbZ97/ZNmXfQu0BQA==\",\"dtype\":\"float64\",\"order\":\"little\",\"shape\":[2]}},\"selected\":{\"id\":\"16440\"},\"selection_policy\":{\"id\":\"16439\"}},\"id\":\"16284\",\"type\":\"ColumnDataSource\"},{\"attributes\":{},\"id\":\"16408\",\"type\":\"Selection\"},{\"attributes\":{\"source\":{\"id\":\"16290\"}},\"id\":\"16295\",\"type\":\"CDSView\"},{\"attributes\":{},\"id\":\"16446\",\"type\":\"Selection\"},{\"attributes\":{\"coordinates\":null,\"data_source\":{\"id\":\"16284\"},\"glyph\":{\"id\":\"16285\"},\"group\":null,\"hover_glyph\":null,\"muted_glyph\":{\"id\":\"16287\"},\"nonselection_glyph\":{\"id\":\"16286\"},\"view\":{\"id\":\"16289\"}},\"id\":\"16288\",\"type\":\"GlyphRenderer\"},{\"attributes\":{\"line_alpha\":0.2,\"line_color\":\"#FBA337\",\"line_dash\":[6],\"line_width\":4,\"x\":{\"field\":\"x\"},\"y\":{\"field\":\"y\"}},\"id\":\"16287\",\"type\":\"Line\"},{\"attributes\":{\"line_alpha\":0.1,\"line_color\":\"#FBA337\",\"line_dash\":[6],\"line_width\":4,\"x\":{\"field\":\"x\"},\"y\":{\"field\":\"y\"}},\"id\":\"16286\",\"type\":\"Line\"},{\"attributes\":{\"line_color\":\"#FDB32E\",\"line_dash\":[6],\"line_width\":4,\"x\":{\"field\":\"x\"},\"y\":{\"field\":\"y\"}},\"id\":\"16297\",\"type\":\"Line\"},{\"attributes\":{\"data\":{\"x\":{\"__ndarray__\":\"fv/G3/Jl77+OFcbf4VrvPw==\",\"dtype\":\"float64\",\"order\":\"little\",\"shape\":[2]},\"y\":{\"__ndarray__\":\"7mxdATjQ978UAQC6VuMBQA==\",\"dtype\":\"float64\",\"order\":\"little\",\"shape\":[2]}},\"selected\":{\"id\":\"16442\"},\"selection_policy\":{\"id\":\"16441\"}},\"id\":\"16290\",\"type\":\"ColumnDataSource\"},{\"attributes\":{\"axis_label\":\"x\",\"axis_label_standoff\":10,\"axis_label_text_color\":\"#FFFFFF\",\"axis_label_text_font\":\"Josefin Sans\",\"axis_label_text_font_size\":\"1.9em\",\"axis_label_text_font_style\":\"bold\",\"axis_line_alpha\":0.4,\"axis_line_color\":\"#E0E0E0\",\"coordinates\":null,\"formatter\":{\"id\":\"16041\"},\"group\":null,\"major_label_policy\":{\"id\":\"16042\"},\"major_label_text_color\":\"#E0E0E0\",\"major_label_text_font\":\"Josefin Sans\",\"major_label_text_font_size\":\"1.15em\",\"major_tick_line_alpha\":0.4,\"major_tick_line_color\":\"#E0E0E0\",\"minor_tick_line_alpha\":0.4,\"minor_tick_line_color\":\"#E0E0E0\",\"ticker\":{\"id\":\"16008\"}},\"id\":\"16007\",\"type\":\"LinearAxis\"},{\"attributes\":{\"source\":{\"id\":\"16296\"}},\"id\":\"16301\",\"type\":\"CDSView\"},{\"attributes\":{\"coordinates\":null,\"data_source\":{\"id\":\"16290\"},\"glyph\":{\"id\":\"16291\"},\"group\":null,\"hover_glyph\":null,\"muted_glyph\":{\"id\":\"16293\"},\"nonselection_glyph\":{\"id\":\"16292\"},\"view\":{\"id\":\"16295\"}},\"id\":\"16294\",\"type\":\"GlyphRenderer\"},{\"attributes\":{\"background_fill_alpha\":0.2,\"background_fill_color\":\"darkgrey\",\"border_line_alpha\":0.8,\"border_line_color\":\"grey\",\"border_line_width\":3,\"coordinates\":null,\"group\":null,\"items\":[{\"id\":\"16047\"}],\"label_text_color\":\"white\"},\"id\":\"16046\",\"type\":\"Legend\"},{\"attributes\":{\"line_alpha\":0.2,\"line_color\":\"#FCAC32\",\"line_dash\":[6],\"line_width\":4,\"x\":{\"field\":\"x\"},\"y\":{\"field\":\"y\"}},\"id\":\"16293\",\"type\":\"Line\"},{\"attributes\":{\"end\":0.9798440332967162,\"start\":-0.9811949129725546},\"id\":\"16048\",\"type\":\"Range1d\"},{\"attributes\":{\"line_alpha\":0.1,\"line_color\":\"#FCAC32\",\"line_dash\":[6],\"line_width\":4,\"x\":{\"field\":\"x\"},\"y\":{\"field\":\"y\"}},\"id\":\"16292\",\"type\":\"Line\"},{\"attributes\":{\"line_color\":\"#FDBB2B\",\"line_dash\":[6],\"line_width\":4,\"x\":{\"field\":\"x\"},\"y\":{\"field\":\"y\"}},\"id\":\"16303\",\"type\":\"Line\"},{\"attributes\":{},\"id\":\"16371\",\"type\":\"UnionRenderers\"},{\"attributes\":{\"data\":{\"x\":{\"__ndarray__\":\"fv/G3/Jl77+OFcbf4VrvPw==\",\"dtype\":\"float64\",\"order\":\"little\",\"shape\":[2]},\"y\":{\"__ndarray__\":\"CsDbQ13H979POrgVGNoBQA==\",\"dtype\":\"float64\",\"order\":\"little\",\"shape\":[2]}},\"selected\":{\"id\":\"16444\"},\"selection_policy\":{\"id\":\"16443\"}},\"id\":\"16296\",\"type\":\"ColumnDataSource\"},{\"attributes\":{\"source\":{\"id\":\"16302\"}},\"id\":\"16307\",\"type\":\"CDSView\"},{\"attributes\":{},\"id\":\"16409\",\"type\":\"UnionRenderers\"},{\"attributes\":{\"coordinates\":null,\"data_source\":{\"id\":\"16296\"},\"glyph\":{\"id\":\"16297\"},\"group\":null,\"hover_glyph\":null,\"muted_glyph\":{\"id\":\"16299\"},\"nonselection_glyph\":{\"id\":\"16298\"},\"view\":{\"id\":\"16301\"}},\"id\":\"16300\",\"type\":\"GlyphRenderer\"},{\"attributes\":{},\"id\":\"16372\",\"type\":\"Selection\"},{\"attributes\":{},\"id\":\"16447\",\"type\":\"UnionRenderers\"},{\"attributes\":{\"line_alpha\":0.2,\"line_color\":\"#FDB32E\",\"line_dash\":[6],\"line_width\":4,\"x\":{\"field\":\"x\"},\"y\":{\"field\":\"y\"}},\"id\":\"16299\",\"type\":\"Line\"},{\"attributes\":{},\"id\":\"16410\",\"type\":\"Selection\"},{\"attributes\":{\"line_alpha\":0.1,\"line_color\":\"#FDB32E\",\"line_dash\":[6],\"line_width\":4,\"x\":{\"field\":\"x\"},\"y\":{\"field\":\"y\"}},\"id\":\"16298\",\"type\":\"Line\"},{\"attributes\":{},\"id\":\"16448\",\"type\":\"Selection\"},{\"attributes\":{\"line_color\":\"#FDC328\",\"line_dash\":[6],\"line_width\":4,\"x\":{\"field\":\"x\"},\"y\":{\"field\":\"y\"}},\"id\":\"16309\",\"type\":\"Line\"},{\"attributes\":{\"data\":{\"x\":{\"__ndarray__\":\"fv/G3/Jl77+OFcbf4VrvPw==\",\"dtype\":\"float64\",\"order\":\"little\",\"shape\":[2]},\"y\":{\"__ndarray__\":\"TBG5gRe/97/9lIVld9EBQA==\",\"dtype\":\"float64\",\"order\":\"little\",\"shape\":[2]}},\"selected\":{\"id\":\"16446\"},\"selection_policy\":{\"id\":\"16445\"}},\"id\":\"16302\",\"type\":\"ColumnDataSource\"},{\"attributes\":{\"source\":{\"id\":\"16308\"}},\"id\":\"16313\",\"type\":\"CDSView\"},{\"attributes\":{\"coordinates\":null,\"data_source\":{\"id\":\"16302\"},\"glyph\":{\"id\":\"16303\"},\"group\":null,\"hover_glyph\":null,\"muted_glyph\":{\"id\":\"16305\"},\"nonselection_glyph\":{\"id\":\"16304\"},\"view\":{\"id\":\"16307\"}},\"id\":\"16306\",\"type\":\"GlyphRenderer\"},{\"attributes\":{\"line_alpha\":0.2,\"line_color\":\"#FDBB2B\",\"line_dash\":[6],\"line_width\":4,\"x\":{\"field\":\"x\"},\"y\":{\"field\":\"y\"}},\"id\":\"16305\",\"type\":\"Line\"},{\"attributes\":{\"line_alpha\":0.1,\"line_color\":\"#FDBB2B\",\"line_dash\":[6],\"line_width\":4,\"x\":{\"field\":\"x\"},\"y\":{\"field\":\"y\"}},\"id\":\"16304\",\"type\":\"Line\"},{\"attributes\":{\"line_color\":\"#FCCB25\",\"line_dash\":[6],\"line_width\":4,\"x\":{\"field\":\"x\"},\"y\":{\"field\":\"y\"}},\"id\":\"16315\",\"type\":\"Line\"},{\"attributes\":{\"data\":{\"x\":{\"__ndarray__\":\"fv/G3/Jl77+OFcbf4VrvPw==\",\"dtype\":\"float64\",\"order\":\"little\",\"shape\":[2]},\"y\":{\"__ndarray__\":\"AjQFT1m397/SFeOzZskBQA==\",\"dtype\":\"float64\",\"order\":\"little\",\"shape\":[2]}},\"selected\":{\"id\":\"16448\"},\"selection_policy\":{\"id\":\"16447\"}},\"id\":\"16308\",\"type\":\"ColumnDataSource\"},{\"attributes\":{\"source\":{\"id\":\"16314\"}},\"id\":\"16319\",\"type\":\"CDSView\"},{\"attributes\":{\"coordinates\":null,\"data_source\":{\"id\":\"16308\"},\"glyph\":{\"id\":\"16309\"},\"group\":null,\"hover_glyph\":null,\"muted_glyph\":{\"id\":\"16311\"},\"nonselection_glyph\":{\"id\":\"16310\"},\"view\":{\"id\":\"16313\"}},\"id\":\"16312\",\"type\":\"GlyphRenderer\"},{\"attributes\":{},\"id\":\"16373\",\"type\":\"UnionRenderers\"},{\"attributes\":{\"line_alpha\":0.2,\"line_color\":\"#FDC328\",\"line_dash\":[6],\"line_width\":4,\"x\":{\"field\":\"x\"},\"y\":{\"field\":\"y\"}},\"id\":\"16311\",\"type\":\"Line\"},{\"attributes\":{},\"id\":\"16039\",\"type\":\"AllLabels\"},{\"attributes\":{\"line_alpha\":0.1,\"line_color\":\"#FDC328\",\"line_dash\":[6],\"line_width\":4,\"x\":{\"field\":\"x\"},\"y\":{\"field\":\"y\"}},\"id\":\"16310\",\"type\":\"Line\"},{\"attributes\":{},\"id\":\"16411\",\"type\":\"UnionRenderers\"},{\"attributes\":{\"line_color\":\"#FAD524\",\"line_dash\":[6],\"line_width\":4,\"x\":{\"field\":\"x\"},\"y\":{\"field\":\"y\"}},\"id\":\"16321\",\"type\":\"Line\"},{\"attributes\":{},\"id\":\"16374\",\"type\":\"Selection\"},{\"attributes\":{},\"id\":\"16449\",\"type\":\"UnionRenderers\"},{\"attributes\":{\"data\":{\"x\":{\"__ndarray__\":\"fv/G3/Jl77+OFcbf4VrvPw==\",\"dtype\":\"float64\",\"order\":\"little\",\"shape\":[2]},\"y\":{\"__ndarray__\":\"L0yS5haw979AjJa42cEBQA==\",\"dtype\":\"float64\",\"order\":\"little\",\"shape\":[2]}},\"selected\":{\"id\":\"16450\"},\"selection_policy\":{\"id\":\"16449\"}},\"id\":\"16314\",\"type\":\"ColumnDataSource\"},{\"attributes\":{\"source\":{\"id\":\"16320\"}},\"id\":\"16325\",\"type\":\"CDSView\"},{\"attributes\":{},\"id\":\"16412\",\"type\":\"Selection\"},{\"attributes\":{\"coordinates\":null,\"data_source\":{\"id\":\"16314\"},\"glyph\":{\"id\":\"16315\"},\"group\":null,\"hover_glyph\":null,\"muted_glyph\":{\"id\":\"16317\"},\"nonselection_glyph\":{\"id\":\"16316\"},\"view\":{\"id\":\"16319\"}},\"id\":\"16318\",\"type\":\"GlyphRenderer\"},{\"attributes\":{},\"id\":\"16450\",\"type\":\"Selection\"},{\"attributes\":{\"axis\":{\"id\":\"16007\"},\"coordinates\":null,\"grid_line_alpha\":0.15,\"grid_line_color\":\"#E0E0E0\",\"group\":null,\"ticker\":null},\"id\":\"16010\",\"type\":\"Grid\"},{\"attributes\":{\"line_alpha\":0.2,\"line_color\":\"#FCCB25\",\"line_dash\":[6],\"line_width\":4,\"x\":{\"field\":\"x\"},\"y\":{\"field\":\"y\"}},\"id\":\"16317\",\"type\":\"Line\"},{\"attributes\":{\"line_alpha\":0.1,\"line_color\":\"#FCCB25\",\"line_dash\":[6],\"line_width\":4,\"x\":{\"field\":\"x\"},\"y\":{\"field\":\"y\"}},\"id\":\"16316\",\"type\":\"Line\"},{\"attributes\":{\"line_color\":\"#F8DD24\",\"line_dash\":[6],\"line_width\":4,\"x\":{\"field\":\"x\"},\"y\":{\"field\":\"y\"}},\"id\":\"16327\",\"type\":\"Line\"},{\"attributes\":{\"data\":{\"x\":{\"__ndarray__\":\"fv/G3/Jl77+OFcbf4VrvPw==\",\"dtype\":\"float64\",\"order\":\"little\",\"shape\":[2]},\"y\":{\"__ndarray__\":\"h3SbUEWp979qD182xboBQA==\",\"dtype\":\"float64\",\"order\":\"little\",\"shape\":[2]}},\"selected\":{\"id\":\"16452\"},\"selection_policy\":{\"id\":\"16451\"}},\"id\":\"16320\",\"type\":\"ColumnDataSource\"},{\"attributes\":{\"source\":{\"id\":\"16326\"}},\"id\":\"16331\",\"type\":\"CDSView\"},{\"attributes\":{\"coordinates\":null,\"data_source\":{\"id\":\"16320\"},\"glyph\":{\"id\":\"16321\"},\"group\":null,\"hover_glyph\":null,\"muted_glyph\":{\"id\":\"16323\"},\"nonselection_glyph\":{\"id\":\"16322\"},\"view\":{\"id\":\"16325\"}},\"id\":\"16324\",\"type\":\"GlyphRenderer\"},{\"attributes\":{\"line_alpha\":0.2,\"line_color\":\"#FAD524\",\"line_dash\":[6],\"line_width\":4,\"x\":{\"field\":\"x\"},\"y\":{\"field\":\"y\"}},\"id\":\"16323\",\"type\":\"Line\"},{\"attributes\":{\"line_alpha\":0.1,\"line_color\":\"#FAD524\",\"line_dash\":[6],\"line_width\":4,\"x\":{\"field\":\"x\"},\"y\":{\"field\":\"y\"}},\"id\":\"16322\",\"type\":\"Line\"},{\"attributes\":{\"line_color\":\"#F6E525\",\"line_dash\":[6],\"line_width\":4,\"x\":{\"field\":\"x\"},\"y\":{\"field\":\"y\"}},\"id\":\"16333\",\"type\":\"Line\"},{\"attributes\":{\"data\":{\"x\":{\"__ndarray__\":\"fv/G3/Jl77+OFcbf4VrvPw==\",\"dtype\":\"float64\",\"order\":\"little\",\"shape\":[2]},\"y\":{\"__ndarray__\":\"q62s8tqi978u8GIpH7QBQA==\",\"dtype\":\"float64\",\"order\":\"little\",\"shape\":[2]}},\"selected\":{\"id\":\"16454\"},\"selection_policy\":{\"id\":\"16453\"}},\"id\":\"16326\",\"type\":\"ColumnDataSource\"},{\"attributes\":{},\"id\":\"16375\",\"type\":\"UnionRenderers\"},{\"attributes\":{\"data\":{\"color\":[\"firebrick\",\"midnightblue\",\"firebrick\",\"midnightblue\",\"firebrick\",\"firebrick\",\"firebrick\",\"midnightblue\",\"midnightblue\",\"midnightblue\",\"midnightblue\",\"midnightblue\",\"firebrick\",\"midnightblue\",\"firebrick\",\"firebrick\",\"midnightblue\",\"firebrick\",\"firebrick\",\"midnightblue\",\"midnightblue\",\"midnightblue\",\"midnightblue\",\"midnightblue\",\"midnightblue\",\"midnightblue\",\"firebrick\",\"firebrick\",\"firebrick\",\"firebrick\",\"midnightblue\",\"firebrick\",\"midnightblue\",\"midnightblue\",\"midnightblue\",\"firebrick\",\"midnightblue\",\"firebrick\",\"firebrick\",\"midnightblue\",\"firebrick\",\"midnightblue\",\"midnightblue\",\"midnightblue\",\"firebrick\",\"midnightblue\",\"firebrick\",\"midnightblue\",\"midnightblue\",\"midnightblue\",\"midnightblue\",\"midnightblue\",\"firebrick\",\"firebrick\",\"midnightblue\",\"midnightblue\",\"firebrick\",\"midnightblue\",\"midnightblue\",\"midnightblue\",\"firebrick\",\"firebrick\",\"midnightblue\",\"midnightblue\",\"midnightblue\",\"midnightblue\",\"midnightblue\",\"midnightblue\",\"firebrick\",\"midnightblue\",\"midnightblue\",\"midnightblue\",\"firebrick\",\"midnightblue\",\"firebrick\",\"midnightblue\",\"firebrick\",\"midnightblue\",\"midnightblue\",\"midnightblue\",\"midnightblue\",\"midnightblue\",\"midnightblue\",\"firebrick\",\"midnightblue\",\"midnightblue\",\"midnightblue\",\"midnightblue\",\"midnightblue\",\"midnightblue\",\"midnightblue\",\"firebrick\",\"midnightblue\",\"firebrick\",\"firebrick\",\"midnightblue\",\"midnightblue\",\"midnightblue\",\"firebrick\",\"firebrick\"],\"label\":[\"class 2\",\"class 1\",\"class 2\",\"class 1\",\"class 2\",\"class 2\",\"class 2\",\"class 1\",\"class 1\",\"class 1\",\"class 1\",\"class 1\",\"class 2\",\"class 1\",\"class 2\",\"class 2\",\"class 1\",\"class 2\",\"class 2\",\"class 1\",\"class 1\",\"class 1\",\"class 1\",\"class 1\",\"class 1\",\"class 1\",\"class 2\",\"class 2\",\"class 2\",\"class 2\",\"class 1\",\"class 2\",\"class 1\",\"class 1\",\"class 1\",\"class 2\",\"class 1\",\"class 2\",\"class 2\",\"class 1\",\"class 2\",\"class 1\",\"class 1\",\"class 1\",\"class 2\",\"class 1\",\"class 2\",\"class 1\",\"class 1\",\"class 1\",\"class 1\",\"class 1\",\"class 2\",\"class 2\",\"class 1\",\"class 1\",\"class 2\",\"class 1\",\"class 1\",\"class 1\",\"class 2\",\"class 2\",\"class 1\",\"class 1\",\"class 1\",\"class 1\",\"class 1\",\"class 1\",\"class 2\",\"class 1\",\"class 1\",\"class 1\",\"class 2\",\"class 1\",\"class 2\",\"class 1\",\"class 2\",\"class 1\",\"class 1\",\"class 1\",\"class 1\",\"class 1\",\"class 1\",\"class 2\",\"class 1\",\"class 1\",\"class 1\",\"class 1\",\"class 1\",\"class 1\",\"class 1\",\"class 2\",\"class 1\",\"class 2\",\"class 2\",\"class 1\",\"class 1\",\"class 1\",\"class 2\",\"class 2\"],\"x\":{\"__ndarray__\":\"gFpM1PeU3r94DPfP4MXmP8K5b1aZUu6/+HasERmR4j8YbYpoQ33Lvwi3v8RCbuC/ACGvNNiKyL8Q1qVo5mfoP1CYFryAROI/wHKXqfM/uj/0wbq5BlrRPx5ydR8lieU/LJHIBMID2L98KOfIps3TP8BHc2cgXe+/AI5z+Mjs3b8wgmUidUq0P97HiNEMOu6/GKaedSlh3L8AT5LR0KPnP8xNS+mvDOs/5L0FZFGn1D9waWM/LQ/UPwD235TTD9M/AMjIRjzsoL+Ysh6Pqh/FPzYVuruM2+q/WJSrJz2C0L/sb7zuMLjXv8LyMuh30+i/+rUJD69D7z+glDjKHMnev7iR8T44Ctc/KG1qxjLG1j8QNpnWxtSwv9hB9S5wMMG/0CFERxCjt7+eZvSRH27nv6zIC4TRd9y/4DQzpqme0j+EEvYmGlHqv0Ah/cpjPJU/5Fxq0+J/5j8w0vVuSTm1P1gHUyupEO+/NLL+06Pi6j/An//eK0i6vyKaGEcDNOA/DNbDhWiz3T8gPaKbzUrQPw7sILX4ous/ZgNdY8SK6T94QPZg1S3Fv7Qxw6tfztE/hGUznUTn6D/E49HpQgTfP1ybbGtxJdy/gN41pepYkj9wz+pzLz2wv2COAV9hEru/CAaQw8Rs278WsEVNmzDuv94EGH1t0OO/IMCXgP2Wwr/0++Eoe6nlP6Ds4NeWTdE/JiIqU/zj7T9gAhlpT0mhvyQ3PmYv1OK/bHPzowBP1z+gGvFfE2LUPyQKlYjxUuA/wHvsS99MyD+GD5SX7CfvP5BvuF3vHt+//H2V+p7W0j8GWtKORh/tvygCScW0G+U/4COd20m/ob9+6mTuTKztPyD8AgTlPuQ/6OPQkbSL4D+Ejz1QZLzdP8JNuV6/HuW/YK5xxJB7o7/aig67hQDuP2D2sNB7e8w/IJzXFwgA6T8cSLjB/ILbv1CglNvmJ+0/2MV1c/uOyT9+/8bf8mXvvzB5Yd8EP9k/JmDSjaxy7b+YgdoiF+7Ev1SOs1dB/9s/QGcpvmdp7T+OFcbf4VrvPxCZA7Yr9MU/WIMLLZIq4b8=\",\"dtype\":\"float64\",\"order\":\"little\",\"shape\":[100]},\"y\":{\"__ndarray__\":\"DgE4gzp04j8GpAEuD9LiP7YyRWz4aug/iFzPRoKC0D8wpzA/b5LvP6iDP1da0+I/IAbMfGzl6z84WMiwzHTmvzjprVh/5+M/zrdCphMH579kjRCFx33Zv4bE5SYOKOM/KPGwNvJYxz+glAnS58TlP64IA34DoO2/0GJ3LNryt7822HnPuX3iv5zuK7iUttu/BLfniKtF2z+IVbFfLf3nv9QCMTgX192/6IjL6/Az2L9AOC560qmmvz6BAwvxzOe/4BcOE8FTyb8cf6Ts/yPcv2B4NEcxQsS/qPLsuxqd7D+UKMsg9JjWP2hwpZDH0Mo/NDxZbq/z1D+AysI4u+6gPywynvfdk+m/NKl3UA8f27+wT21vN6vMPxhDwpjlO8c/WD3MyYTyxb8sdQH/5PnsP2iAGKh1PcO/RsPZ6Xts47+YKu6qRJHpvxhKIHO4sN2/7IjuRhDs0T/4Ksh/8RvPvyK1VbfxW+C/KLNVOfybxD84nCjsJ4rqP+zR2Wi399+/+KzxzvvJ1L/SkWjV3L/mv9gjRjzA4s4/rvQBR3b05r9EyM+xY6rQP6Ka980itu0/8nfrCdYD778M9dc6nVTTv5TcktHzMN8/0FJ4tyAAzj+wMN1hYMLmv/Ya1qxYJOK/wNKImCgcuD+EXmA3JuDXPzgbtyz42Oy/pMDrmtbF779g1BzibJitP4Qw8X1VzdS/yHXeZwk95L9MkpEWERnbv/jlZtQ4oOo/yk2R0EeM4b+MPmz6tubgPxhDF+m5MNK/ND738Ix46D+udXDr56Htv56GfmizIO0/xNhQskpF5D9AWV60OBfiv8ByNHyeBpy/0Pk7FEzYtb96KKnfy1DiP2AF4RUJCuE/IKXtJARgvz8qciA6Novnv5bM7ZB/JOc/ymi3zpTc6L8ULRdrtsfUP3S0ELSlTuU/mOFrUCiZx7/uBL/L3fbqv0DiB4ZscaQ/7ISOEdlo2r94CzH541rDPzAz7cs9ie2/Ph3mirtr7z8AKQAwQWLpPyK4oGp14ek/MLRCj7jI2L+gwv3i6DG2P/gCB9x88+c/QAN/w2Z/5T8=\",\"dtype\":\"float64\",\"order\":\"little\",\"shape\":[100]}},\"selected\":{\"id\":\"16044\"},\"selection_policy\":{\"id\":\"16043\"}},\"id\":\"16029\",\"type\":\"ColumnDataSource\"},{\"attributes\":{\"source\":{\"id\":\"16332\"}},\"id\":\"16337\",\"type\":\"CDSView\"},{\"attributes\":{\"coordinates\":null,\"data_source\":{\"id\":\"16326\"},\"glyph\":{\"id\":\"16327\"},\"group\":null,\"hover_glyph\":null,\"muted_glyph\":{\"id\":\"16329\"},\"nonselection_glyph\":{\"id\":\"16328\"},\"view\":{\"id\":\"16331\"}},\"id\":\"16330\",\"type\":\"GlyphRenderer\"},{\"attributes\":{},\"id\":\"16413\",\"type\":\"UnionRenderers\"},{\"attributes\":{},\"id\":\"16376\",\"type\":\"Selection\"},{\"attributes\":{},\"id\":\"16451\",\"type\":\"UnionRenderers\"},{\"attributes\":{\"line_alpha\":0.2,\"line_color\":\"#F8DD24\",\"line_dash\":[6],\"line_width\":4,\"x\":{\"field\":\"x\"},\"y\":{\"field\":\"y\"}},\"id\":\"16329\",\"type\":\"Line\"},{\"attributes\":{\"line_alpha\":0.1,\"line_color\":\"#F8DD24\",\"line_dash\":[6],\"line_width\":4,\"x\":{\"field\":\"x\"},\"y\":{\"field\":\"y\"}},\"id\":\"16328\",\"type\":\"Line\"},{\"attributes\":{},\"id\":\"16414\",\"type\":\"Selection\"},{\"attributes\":{\"line_color\":\"#F3EE26\",\"line_dash\":[6],\"line_width\":4,\"x\":{\"field\":\"x\"},\"y\":{\"field\":\"y\"}},\"id\":\"16339\",\"type\":\"Line\"},{\"attributes\":{\"coordinates\":null,\"data_source\":{\"id\":\"16029\"},\"glyph\":{\"id\":\"16031\"},\"group\":null,\"hover_glyph\":null,\"muted_glyph\":{\"id\":\"16033\"},\"nonselection_glyph\":{\"id\":\"16032\"},\"view\":{\"id\":\"16035\"}},\"id\":\"16034\",\"type\":\"GlyphRenderer\"},{\"attributes\":{},\"id\":\"16452\",\"type\":\"Selection\"},{\"attributes\":{\"end\":0.9866253122502027,\"start\":-0.9929001832770337},\"id\":\"16049\",\"type\":\"Range1d\"},{\"attributes\":{\"data\":{\"x\":{\"__ndarray__\":\"fv/G3/Jl77+OFcbf4VrvPw==\",\"dtype\":\"float64\",\"order\":\"little\",\"shape\":[2]},\"y\":{\"__ndarray__\":\"S+AQ1c6c978+ZjBr3q0BQA==\",\"dtype\":\"float64\",\"order\":\"little\",\"shape\":[2]}},\"selected\":{\"id\":\"16456\"},\"selection_policy\":{\"id\":\"16455\"}},\"id\":\"16332\",\"type\":\"ColumnDataSource\"},{\"attributes\":{\"source\":{\"id\":\"16338\"}},\"id\":\"16343\",\"type\":\"CDSView\"},{\"attributes\":{\"source\":{\"id\":\"16029\"}},\"id\":\"16035\",\"type\":\"CDSView\"},{\"attributes\":{\"coordinates\":null,\"data_source\":{\"id\":\"16332\"},\"glyph\":{\"id\":\"16333\"},\"group\":null,\"hover_glyph\":null,\"muted_glyph\":{\"id\":\"16335\"},\"nonselection_glyph\":{\"id\":\"16334\"},\"view\":{\"id\":\"16337\"}},\"id\":\"16336\",\"type\":\"GlyphRenderer\"},{\"attributes\":{\"line_alpha\":0.2,\"line_color\":\"#F6E525\",\"line_dash\":[6],\"line_width\":4,\"x\":{\"field\":\"x\"},\"y\":{\"field\":\"y\"}},\"id\":\"16335\",\"type\":\"Line\"},{\"attributes\":{\"source\":{\"id\":\"16080\"}},\"id\":\"16085\",\"type\":\"CDSView\"},{\"attributes\":{\"line_alpha\":0.1,\"line_color\":\"#F6E525\",\"line_dash\":[6],\"line_width\":4,\"x\":{\"field\":\"x\"},\"y\":{\"field\":\"y\"}},\"id\":\"16334\",\"type\":\"Line\"},{\"attributes\":{\"line_color\":\"#EFF821\",\"line_dash\":[6],\"line_width\":4,\"x\":{\"field\":\"x\"},\"y\":{\"field\":\"y\"}},\"id\":\"16345\",\"type\":\"Line\"},{\"attributes\":{},\"id\":\"16003\",\"type\":\"LinearScale\"},{\"attributes\":{\"source\":{\"id\":\"16050\"}},\"id\":\"16055\",\"type\":\"CDSView\"},{\"attributes\":{\"data\":{\"x\":{\"__ndarray__\":\"fv/G3/Jl77+OFcbf4VrvPw==\",\"dtype\":\"float64\",\"order\":\"little\",\"shape\":[2]},\"y\":{\"__ndarray__\":\"K9+PNBmX97+9P7Pn+qcBQA==\",\"dtype\":\"float64\",\"order\":\"little\",\"shape\":[2]}},\"selected\":{\"id\":\"16458\"},\"selection_policy\":{\"id\":\"16457\"}},\"id\":\"16338\",\"type\":\"ColumnDataSource\"},{\"attributes\":{\"source\":{\"id\":\"16344\"}},\"id\":\"16349\",\"type\":\"CDSView\"},{\"attributes\":{\"label\":{\"field\":\"label\"},\"renderers\":[{\"id\":\"16034\"}]},\"id\":\"16047\",\"type\":\"LegendItem\"},{\"attributes\":{\"coordinates\":null,\"data_source\":{\"id\":\"16338\"},\"glyph\":{\"id\":\"16339\"},\"group\":null,\"hover_glyph\":null,\"muted_glyph\":{\"id\":\"16341\"},\"nonselection_glyph\":{\"id\":\"16340\"},\"view\":{\"id\":\"16343\"}},\"id\":\"16342\",\"type\":\"GlyphRenderer\"},{\"attributes\":{\"line_color\":\"#0C0786\",\"line_dash\":[6],\"line_width\":4,\"x\":{\"field\":\"x\"},\"y\":{\"field\":\"y\"}},\"id\":\"16051\",\"type\":\"Line\"},{\"attributes\":{\"line_color\":\"#1B068C\",\"line_dash\":[6],\"line_width\":4,\"x\":{\"field\":\"x\"},\"y\":{\"field\":\"y\"}},\"id\":\"16057\",\"type\":\"Line\"},{\"attributes\":{},\"id\":\"16008\",\"type\":\"BasicTicker\"},{\"attributes\":{\"fill_alpha\":{\"value\":0.2},\"fill_color\":{\"field\":\"color\"},\"hatch_alpha\":{\"value\":0.2},\"hatch_color\":{\"field\":\"color\"},\"line_alpha\":{\"value\":0.2},\"line_color\":{\"value\":\"white\"},\"size\":{\"value\":10},\"x\":{\"field\":\"x\"},\"y\":{\"field\":\"y\"}},\"id\":\"16033\",\"type\":\"Circle\"},{\"attributes\":{\"line_alpha\":0.2,\"line_color\":\"#F3EE26\",\"line_dash\":[6],\"line_width\":4,\"x\":{\"field\":\"x\"},\"y\":{\"field\":\"y\"}},\"id\":\"16341\",\"type\":\"Line\"},{\"attributes\":{},\"id\":\"16377\",\"type\":\"UnionRenderers\"},{\"attributes\":{\"data\":{\"x\":{\"__ndarray__\":\"fv/G3/Jl77+OFcbf4VrvPw==\",\"dtype\":\"float64\",\"order\":\"little\",\"shape\":[2]},\"y\":{\"__ndarray__\":\"AR7yoqer5T9aHvznHxUVwA==\",\"dtype\":\"float64\",\"order\":\"little\",\"shape\":[2]}},\"selected\":{\"id\":\"16362\"},\"selection_policy\":{\"id\":\"16361\"}},\"id\":\"16050\",\"type\":\"ColumnDataSource\"},{\"attributes\":{\"line_alpha\":0.1,\"line_color\":\"#F3EE26\",\"line_dash\":[6],\"line_width\":4,\"x\":{\"field\":\"x\"},\"y\":{\"field\":\"y\"}},\"id\":\"16340\",\"type\":\"Line\"},{\"attributes\":{},\"id\":\"16415\",\"type\":\"UnionRenderers\"},{\"attributes\":{\"data\":{\"x\":{\"__ndarray__\":\"fv/G3/Jl77+OFcbf4VrvPw==\",\"dtype\":\"float64\",\"order\":\"little\",\"shape\":[2]},\"y\":{\"__ndarray__\":\"oc++qrKR97+QRWMRbaIBQA==\",\"dtype\":\"float64\",\"order\":\"little\",\"shape\":[2]}},\"selected\":{\"id\":\"16460\"},\"selection_policy\":{\"id\":\"16459\"}},\"id\":\"16344\",\"type\":\"ColumnDataSource\"},{\"attributes\":{},\"id\":\"16378\",\"type\":\"Selection\"},{\"attributes\":{},\"id\":\"16453\",\"type\":\"UnionRenderers\"},{\"attributes\":{\"coordinates\":null,\"data_source\":{\"id\":\"16050\"},\"glyph\":{\"id\":\"16051\"},\"group\":null,\"hover_glyph\":null,\"muted_glyph\":{\"id\":\"16053\"},\"nonselection_glyph\":{\"id\":\"16052\"},\"view\":{\"id\":\"16055\"}},\"id\":\"16054\",\"type\":\"GlyphRenderer\"},{\"attributes\":{\"coordinates\":null,\"data_source\":{\"id\":\"16344\"},\"glyph\":{\"id\":\"16345\"},\"group\":null,\"hover_glyph\":null,\"muted_glyph\":{\"id\":\"16347\"},\"nonselection_glyph\":{\"id\":\"16346\"},\"view\":{\"id\":\"16349\"}},\"id\":\"16348\",\"type\":\"GlyphRenderer\"},{\"attributes\":{},\"id\":\"16416\",\"type\":\"Selection\"},{\"attributes\":{\"line_alpha\":0.2,\"line_color\":\"#0C0786\",\"line_dash\":[6],\"line_width\":4,\"x\":{\"field\":\"x\"},\"y\":{\"field\":\"y\"}},\"id\":\"16053\",\"type\":\"Line\"},{\"attributes\":{},\"id\":\"16454\",\"type\":\"Selection\"},{\"attributes\":{\"background_fill_alpha\":0.9,\"background_fill_color\":\"#0f0f0f\",\"below\":[{\"id\":\"16007\"}],\"border_fill_alpha\":0.8,\"border_fill_color\":\"#111111\",\"center\":[{\"id\":\"16010\"},{\"id\":\"16014\"},{\"id\":\"16046\"}],\"height\":450,\"left\":[{\"id\":\"16011\"}],\"outline_line_alpha\":0.25,\"outline_line_color\":\"#E0E0E0\",\"outline_line_width\":3,\"renderers\":[{\"id\":\"16034\"},{\"id\":\"16054\"},{\"id\":\"16060\"},{\"id\":\"16066\"},{\"id\":\"16072\"},{\"id\":\"16078\"},{\"id\":\"16084\"},{\"id\":\"16090\"},{\"id\":\"16096\"},{\"id\":\"16102\"},{\"id\":\"16108\"},{\"id\":\"16114\"},{\"id\":\"16120\"},{\"id\":\"16126\"},{\"id\":\"16132\"},{\"id\":\"16138\"},{\"id\":\"16144\"},{\"id\":\"16150\"},{\"id\":\"16156\"},{\"id\":\"16162\"},{\"id\":\"16168\"},{\"id\":\"16174\"},{\"id\":\"16180\"},{\"id\":\"16186\"},{\"id\":\"16192\"},{\"id\":\"16198\"},{\"id\":\"16204\"},{\"id\":\"16210\"},{\"id\":\"16216\"},{\"id\":\"16222\"},{\"id\":\"16228\"},{\"id\":\"16234\"},{\"id\":\"16240\"},{\"id\":\"16246\"},{\"id\":\"16252\"},{\"id\":\"16258\"},{\"id\":\"16264\"},{\"id\":\"16270\"},{\"id\":\"16276\"},{\"id\":\"16282\"},{\"id\":\"16288\"},{\"id\":\"16294\"},{\"id\":\"16300\"},{\"id\":\"16306\"},{\"id\":\"16312\"},{\"id\":\"16318\"},{\"id\":\"16324\"},{\"id\":\"16330\"},{\"id\":\"16336\"},{\"id\":\"16342\"},{\"id\":\"16348\"}],\"right\":[{\"id\":\"16046\"}],\"title\":{\"id\":\"15997\"},\"toolbar\":{\"id\":\"16022\"},\"width\":700,\"x_range\":{\"id\":\"16048\"},\"x_scale\":{\"id\":\"16003\"},\"y_range\":{\"id\":\"16049\"},\"y_scale\":{\"id\":\"16005\"}},\"id\":\"15996\",\"subtype\":\"Figure\",\"type\":\"Plot\"},{\"attributes\":{\"line_alpha\":0.1,\"line_color\":\"#0C0786\",\"line_dash\":[6],\"line_width\":4,\"x\":{\"field\":\"x\"},\"y\":{\"field\":\"y\"}},\"id\":\"16052\",\"type\":\"Line\"},{\"attributes\":{\"line_alpha\":0.2,\"line_color\":\"#EFF821\",\"line_dash\":[6],\"line_width\":4,\"x\":{\"field\":\"x\"},\"y\":{\"field\":\"y\"}},\"id\":\"16347\",\"type\":\"Line\"},{\"attributes\":{\"line_color\":\"#250591\",\"line_dash\":[6],\"line_width\":4,\"x\":{\"field\":\"x\"},\"y\":{\"field\":\"y\"}},\"id\":\"16063\",\"type\":\"Line\"},{\"attributes\":{\"line_alpha\":0.1,\"line_color\":\"#EFF821\",\"line_dash\":[6],\"line_width\":4,\"x\":{\"field\":\"x\"},\"y\":{\"field\":\"y\"}},\"id\":\"16346\",\"type\":\"Line\"},{\"attributes\":{\"data\":{\"x\":{\"__ndarray__\":\"fv/G3/Jl77+OFcbf4VrvPw==\",\"dtype\":\"float64\",\"order\":\"little\",\"shape\":[2]},\"y\":{\"__ndarray__\":\"KiYkIS3oBEBtIT46ZpUmwA==\",\"dtype\":\"float64\",\"order\":\"little\",\"shape\":[2]}},\"selected\":{\"id\":\"16364\"},\"selection_policy\":{\"id\":\"16363\"}},\"id\":\"16056\",\"type\":\"ColumnDataSource\"},{\"attributes\":{\"coordinates\":null,\"data_source\":{\"id\":\"16062\"},\"glyph\":{\"id\":\"16063\"},\"group\":null,\"hover_glyph\":null,\"muted_glyph\":{\"id\":\"16065\"},\"nonselection_glyph\":{\"id\":\"16064\"},\"view\":{\"id\":\"16067\"}},\"id\":\"16066\",\"type\":\"GlyphRenderer\"},{\"attributes\":{\"coordinates\":null,\"data_source\":{\"id\":\"16056\"},\"glyph\":{\"id\":\"16057\"},\"group\":null,\"hover_glyph\":null,\"muted_glyph\":{\"id\":\"16059\"},\"nonselection_glyph\":{\"id\":\"16058\"},\"view\":{\"id\":\"16061\"}},\"id\":\"16060\",\"type\":\"GlyphRenderer\"},{\"attributes\":{\"line_color\":\"#4A02A0\",\"line_dash\":[6],\"line_width\":4,\"x\":{\"field\":\"x\"},\"y\":{\"field\":\"y\"}},\"id\":\"16087\",\"type\":\"Line\"},{\"attributes\":{\"line_alpha\":0.2,\"line_color\":\"#1B068C\",\"line_dash\":[6],\"line_width\":4,\"x\":{\"field\":\"x\"},\"y\":{\"field\":\"y\"}},\"id\":\"16059\",\"type\":\"Line\"},{\"attributes\":{\"line_alpha\":0.1,\"line_color\":\"#1B068C\",\"line_dash\":[6],\"line_width\":4,\"x\":{\"field\":\"x\"},\"y\":{\"field\":\"y\"}},\"id\":\"16058\",\"type\":\"Line\"},{\"attributes\":{\"line_alpha\":0.1,\"line_color\":\"#250591\",\"line_dash\":[6],\"line_width\":4,\"x\":{\"field\":\"x\"},\"y\":{\"field\":\"y\"}},\"id\":\"16064\",\"type\":\"Line\"},{\"attributes\":{\"data\":{\"x\":{\"__ndarray__\":\"fv/G3/Jl77+OFcbf4VrvPw==\",\"dtype\":\"float64\",\"order\":\"little\",\"shape\":[2]},\"y\":{\"__ndarray__\":\"YTaS7YJfSUBEi2+FZRJkwA==\",\"dtype\":\"float64\",\"order\":\"little\",\"shape\":[2]}},\"selected\":{\"id\":\"16366\"},\"selection_policy\":{\"id\":\"16365\"}},\"id\":\"16062\",\"type\":\"ColumnDataSource\"},{\"attributes\":{\"line_alpha\":0.2,\"line_color\":\"#250591\",\"line_dash\":[6],\"line_width\":4,\"x\":{\"field\":\"x\"},\"y\":{\"field\":\"y\"}},\"id\":\"16065\",\"type\":\"Line\"}],\"root_ids\":[\"16350\",\"16903\"]},\"title\":\"Bokeh Application\",\"version\":\"2.4.3\"}};\n",
       "    var render_items = [{\"docid\":\"f3135506-46dc-4dd1-a835-3a0afaddfc7c\",\"root_ids\":[\"16350\"],\"roots\":{\"16350\":\"8b94df00-2476-4d5c-b88b-4c7d7684f6b8\"}}];\n",
       "    root.Bokeh.embed.embed_items_notebook(docs_json, render_items);\n",
       "    for (const render_item of render_items) {\n",
       "      for (const root_id of render_item.root_ids) {\n",
       "\tconst id_el = document.getElementById(root_id)\n",
       "\tif (id_el.children.length && (id_el.children[0].className === 'bk-root')) {\n",
       "\t  const root_el = id_el.children[0]\n",
       "\t  root_el.id = root_el.id + '-rendered'\n",
       "\t}\n",
       "      }\n",
       "    }\n",
       "  }\n",
       "  if (root.Bokeh !== undefined && root.Bokeh.Panel !== undefined) {\n",
       "    embed_document(root);\n",
       "  } else {\n",
       "    var attempts = 0;\n",
       "    var timer = setInterval(function(root) {\n",
       "      if (root.Bokeh !== undefined && root.Bokeh.Panel !== undefined) {\n",
       "        clearInterval(timer);\n",
       "        embed_document(root);\n",
       "      } else if (document.readyState == \"complete\") {\n",
       "        attempts++;\n",
       "        if (attempts > 200) {\n",
       "          clearInterval(timer);\n",
       "          console.log(\"Bokeh: ERROR: Unable to run BokehJS code because BokehJS library is missing\");\n",
       "        }\n",
       "      }\n",
       "    }, 25, root)\n",
       "  }\n",
       "})(window);</script>"
      ],
      "text/plain": [
       "Row\n",
       "    [0] HSpacer()\n",
       "    [1] Bokeh(Figure)\n",
       "    [2] HSpacer()"
      ]
     },
     "execution_count": 54,
     "metadata": {
      "application/vnd.holoviews_exec.v0+json": {
       "id": "16350"
      }
     },
     "output_type": "execute_result"
    }
   ],
   "source": [
    "# Update loop\n",
    "for i in range(n_epochs):\n",
    "    \n",
    "    ######################\n",
    "    # YOUR CODE GOES HERE\n",
    "    gradients = grad_loss_function(x_jax,  y_jax, weights, bias)\n",
    "    weights -= eta * gradients[0]\n",
    "    bias -= eta * gradients[1]\n",
    "    ######################\n",
    "    \n",
    "    ######################\n",
    "    # Solution \n",
    "    #gradients = grad_loss_function(x_jax, y_jax, weights, bias)\n",
    "    #weights = weights - eta * gradients[0]\n",
    "    #bias = bias - eta * gradients[1]\n",
    "    ######################\n",
    "    weights_history = weights_history.at[i + 1].set(weights[0])\n",
    "    bias_history = bias_history.at[i + 1].set(bias[0])\n",
    "    \n",
    "    if (verbose):\n",
    "        print('%2d. error = %f, weights = %f, %f, %f' % (i, np.sum(np.abs(error)) / n_observations, bias[0, 0], weights[0, 0], weights[0, 1]))\n",
    "plot = center_plot(\n",
    "    scatter_boundary(\n",
    "        np.array(x_inputs), \n",
    "        np.array(y_class), \n",
    "        np.array(weights_history), \n",
    "        np.array(bias_history), \n",
    "        i + 1)\n",
    "    )\n",
    "plot"
   ]
  },
  {
   "cell_type": "markdown",
   "metadata": {
    "tags": []
   },
   "source": [
    "## Multi-layer networks\n",
    "\n",
    "In the following, we define the overall architecture of the exercise to fill. The goal is to define a more advanced problem \n",
    "\n",
    "### 2-layer XOR problem\n",
    "\n",
    "In most cases, classification problems are far from being linear. Therefore, we need more advanced methods to be able to compute non-linear class boundaries. The advantage of neural networks is that the same principle can be applied in a *layer-wise* fashion. This allows to further discriminate the space in sub-regions (as seen in the course). We will try to implement the 2-layer *perceptron* that can provide a solution to the infamous XOR problem. The idea is now to have the output of the first neurons to be connected to a set of other neurons. Therefore, if we take back our previous formulation, we have the same output for the first neuron(s) $y$, that we will now term as $y^{(1)}$. Then, we feed these outputs to a second layer of neurons, which gives\n",
    "\n",
    "\n",
    "$$\n",
    "\\begin{equation}\n",
    "y^{(2)}=\\sigma\\left(\\sum_{i = 1}^{n}w_{i}.y^{(1)}_{i} + b\\right)\n",
    "\\end{equation}\n",
    "$$  \n",
    "\n",
    "Finally, we will rely on the same loss $\\mathcal{L_{D}}$ as in the previous exercise, but the outputs used are $y^{(2)}$ instead of $y$. As in the previous case, we now need to compute the derivatives of the weights and biases for several layers . However, you should see that some form of generalization might be possible for any number of layer.  "
   ]
  },
  {
   "cell_type": "markdown",
   "metadata": {},
   "source": [
    "***\n",
    "\n",
    "<div class=\"alert alert-success\" markdown=\"1\" style=\"color:white; background-color: #192841; border-color: #779ecb\">\n",
    "\n",
    "> ### Exercise (course)\n",
    ">   1. Perform the derivatives for the last layer specifically\n",
    ">   2. Define a generalized derivative for any previous layer\n",
    "\n",
    "</div>\n",
    "\n",
    "***"
   ]
  },
  {
   "cell_type": "markdown",
   "metadata": {},
   "source": [
    "We can construct the prototypical set of XOR values by using the following code (note that this is the most simple case, but still this is typically a problem that cannot be solved by a _linear classifier_"
   ]
  },
  {
   "cell_type": "code",
   "execution_count": 55,
   "metadata": {
    "tags": []
   },
   "outputs": [
    {
     "data": {},
     "metadata": {},
     "output_type": "display_data"
    },
    {
     "data": {
      "application/vnd.holoviews_exec.v0+json": "",
      "text/html": [
       "<div id='17506'>\n",
       "  <div class=\"bk-root\" id=\"827e09e2-cd2a-4b77-a38b-3094a75f6fe9\" data-root-id=\"17506\"></div>\n",
       "</div>\n",
       "<script type=\"application/javascript\">(function(root) {\n",
       "  function embed_document(root) {\n",
       "    var docs_json = {\"74f1f51e-a7ce-44b7-b704-78a59aa0bfc7\":{\"defs\":[{\"extends\":null,\"module\":null,\"name\":\"ReactiveHTML1\",\"overrides\":[],\"properties\":[]},{\"extends\":null,\"module\":null,\"name\":\"FlexBox1\",\"overrides\":[],\"properties\":[{\"default\":\"flex-start\",\"kind\":null,\"name\":\"align_content\"},{\"default\":\"flex-start\",\"kind\":null,\"name\":\"align_items\"},{\"default\":\"row\",\"kind\":null,\"name\":\"flex_direction\"},{\"default\":\"wrap\",\"kind\":null,\"name\":\"flex_wrap\"},{\"default\":\"flex-start\",\"kind\":null,\"name\":\"justify_content\"}]},{\"extends\":null,\"module\":null,\"name\":\"GridStack1\",\"overrides\":[],\"properties\":[{\"default\":\"warn\",\"kind\":null,\"name\":\"mode\"},{\"default\":null,\"kind\":null,\"name\":\"ncols\"},{\"default\":null,\"kind\":null,\"name\":\"nrows\"},{\"default\":true,\"kind\":null,\"name\":\"allow_resize\"},{\"default\":true,\"kind\":null,\"name\":\"allow_drag\"},{\"default\":[],\"kind\":null,\"name\":\"state\"}]},{\"extends\":null,\"module\":null,\"name\":\"click1\",\"overrides\":[],\"properties\":[{\"default\":\"\",\"kind\":null,\"name\":\"terminal_output\"},{\"default\":\"\",\"kind\":null,\"name\":\"debug_name\"},{\"default\":0,\"kind\":null,\"name\":\"clears\"}]},{\"extends\":null,\"module\":null,\"name\":\"NotificationAreaBase1\",\"overrides\":[],\"properties\":[{\"default\":\"bottom-right\",\"kind\":null,\"name\":\"position\"},{\"default\":0,\"kind\":null,\"name\":\"_clear\"}]},{\"extends\":null,\"module\":null,\"name\":\"NotificationArea1\",\"overrides\":[],\"properties\":[{\"default\":[],\"kind\":null,\"name\":\"notifications\"},{\"default\":\"bottom-right\",\"kind\":null,\"name\":\"position\"},{\"default\":0,\"kind\":null,\"name\":\"_clear\"},{\"default\":[{\"background\":\"#ffc107\",\"icon\":{\"className\":\"fas fa-exclamation-triangle\",\"color\":\"white\",\"tagName\":\"i\"},\"type\":\"warning\"},{\"background\":\"#007bff\",\"icon\":{\"className\":\"fas fa-info-circle\",\"color\":\"white\",\"tagName\":\"i\"},\"type\":\"info\"}],\"kind\":null,\"name\":\"types\"}]},{\"extends\":null,\"module\":null,\"name\":\"Notification\",\"overrides\":[],\"properties\":[{\"default\":null,\"kind\":null,\"name\":\"background\"},{\"default\":3000,\"kind\":null,\"name\":\"duration\"},{\"default\":null,\"kind\":null,\"name\":\"icon\"},{\"default\":\"\",\"kind\":null,\"name\":\"message\"},{\"default\":null,\"kind\":null,\"name\":\"notification_type\"},{\"default\":false,\"kind\":null,\"name\":\"_destroyed\"}]},{\"extends\":null,\"module\":null,\"name\":\"TemplateActions1\",\"overrides\":[],\"properties\":[{\"default\":0,\"kind\":null,\"name\":\"open_modal\"},{\"default\":0,\"kind\":null,\"name\":\"close_modal\"}]},{\"extends\":null,\"module\":null,\"name\":\"MaterialTemplateActions1\",\"overrides\":[],\"properties\":[{\"default\":0,\"kind\":null,\"name\":\"open_modal\"},{\"default\":0,\"kind\":null,\"name\":\"close_modal\"}]}],\"roots\":{\"references\":[{\"attributes\":{\"axis\":{\"id\":\"17465\"},\"coordinates\":null,\"grid_line_alpha\":0.15,\"grid_line_color\":\"#E0E0E0\",\"group\":null,\"ticker\":null},\"id\":\"17468\",\"type\":\"Grid\"},{\"attributes\":{\"background_fill_alpha\":0.9,\"background_fill_color\":\"#0f0f0f\",\"below\":[{\"id\":\"17465\"}],\"border_fill_alpha\":0.8,\"border_fill_color\":\"#111111\",\"center\":[{\"id\":\"17468\"},{\"id\":\"17472\"},{\"id\":\"17504\"}],\"height\":450,\"left\":[{\"id\":\"17469\"}],\"outline_line_alpha\":0.25,\"outline_line_color\":\"#E0E0E0\",\"outline_line_width\":3,\"renderers\":[{\"id\":\"17492\"}],\"right\":[{\"id\":\"17504\"}],\"title\":{\"id\":\"17455\"},\"toolbar\":{\"id\":\"17480\"},\"width\":700,\"x_range\":{\"id\":\"17457\"},\"x_scale\":{\"id\":\"17461\"},\"y_range\":{\"id\":\"17459\"},\"y_scale\":{\"id\":\"17463\"}},\"id\":\"17454\",\"subtype\":\"Figure\",\"type\":\"Plot\"},{\"attributes\":{},\"id\":\"17502\",\"type\":\"Selection\"},{\"attributes\":{},\"id\":\"17478\",\"type\":\"HelpTool\"},{\"attributes\":{\"coordinates\":null,\"group\":null,\"text\":\"XOR classification\",\"text_color\":\"#E0E0E0\",\"text_font\":\"Josefin Sans\",\"text_font_size\":\"2.1em\"},\"id\":\"17455\",\"type\":\"Title\"},{\"attributes\":{},\"id\":\"17473\",\"type\":\"PanTool\"},{\"attributes\":{},\"id\":\"17500\",\"type\":\"AllLabels\"},{\"attributes\":{},\"id\":\"17496\",\"type\":\"BasicTickFormatter\"},{\"attributes\":{},\"id\":\"17463\",\"type\":\"LinearScale\"},{\"attributes\":{},\"id\":\"17474\",\"type\":\"WheelZoomTool\"},{\"attributes\":{\"axis_label\":\"x\",\"axis_label_standoff\":10,\"axis_label_text_color\":\"#FFFFFF\",\"axis_label_text_font\":\"Josefin Sans\",\"axis_label_text_font_size\":\"1.9em\",\"axis_label_text_font_style\":\"bold\",\"axis_line_alpha\":0.4,\"axis_line_color\":\"#E0E0E0\",\"coordinates\":null,\"formatter\":{\"id\":\"17499\"},\"group\":null,\"major_label_policy\":{\"id\":\"17500\"},\"major_label_text_color\":\"#E0E0E0\",\"major_label_text_font\":\"Josefin Sans\",\"major_label_text_font_size\":\"1.15em\",\"major_tick_line_alpha\":0.4,\"major_tick_line_color\":\"#E0E0E0\",\"minor_tick_line_alpha\":0.4,\"minor_tick_line_color\":\"#E0E0E0\",\"ticker\":{\"id\":\"17466\"}},\"id\":\"17465\",\"type\":\"LinearAxis\"},{\"attributes\":{},\"id\":\"17499\",\"type\":\"BasicTickFormatter\"},{\"attributes\":{},\"id\":\"17497\",\"type\":\"AllLabels\"},{\"attributes\":{\"fill_alpha\":{\"value\":0.6},\"fill_color\":{\"field\":\"color\"},\"hatch_alpha\":{\"value\":0.6},\"hatch_color\":{\"field\":\"color\"},\"line_alpha\":{\"value\":0.6},\"line_color\":{\"value\":\"white\"},\"size\":{\"value\":10},\"x\":{\"field\":\"x\"},\"y\":{\"field\":\"y\"}},\"id\":\"17489\",\"type\":\"Circle\"},{\"attributes\":{\"axis_label\":\"y\",\"axis_label_standoff\":10,\"axis_label_text_color\":\"#FFFFFF\",\"axis_label_text_font\":\"Josefin Sans\",\"axis_label_text_font_size\":\"1.9em\",\"axis_label_text_font_style\":\"bold\",\"axis_line_alpha\":0.4,\"axis_line_color\":\"#E0E0E0\",\"coordinates\":null,\"formatter\":{\"id\":\"17496\"},\"group\":null,\"major_label_policy\":{\"id\":\"17497\"},\"major_label_text_color\":\"#E0E0E0\",\"major_label_text_font\":\"Josefin Sans\",\"major_label_text_font_size\":\"1.15em\",\"major_tick_line_alpha\":0.4,\"major_tick_line_color\":\"#E0E0E0\",\"minor_tick_line_alpha\":0.4,\"minor_tick_line_color\":\"#E0E0E0\",\"ticker\":{\"id\":\"17470\"}},\"id\":\"17469\",\"type\":\"LinearAxis\"},{\"attributes\":{\"axis\":{\"id\":\"17469\"},\"coordinates\":null,\"dimension\":1,\"grid_line_alpha\":0.15,\"grid_line_color\":\"#E0E0E0\",\"group\":null,\"ticker\":null},\"id\":\"17472\",\"type\":\"Grid\"},{\"attributes\":{\"tools\":[{\"id\":\"17473\"},{\"id\":\"17474\"},{\"id\":\"17475\"},{\"id\":\"17476\"},{\"id\":\"17477\"},{\"id\":\"17478\"}]},\"id\":\"17480\",\"type\":\"Toolbar\"},{\"attributes\":{\"background_fill_alpha\":0.2,\"background_fill_color\":\"darkgrey\",\"border_line_alpha\":0.8,\"border_line_color\":\"grey\",\"border_line_width\":3,\"coordinates\":null,\"group\":null,\"items\":[{\"id\":\"17505\"}],\"label_text_color\":\"white\"},\"id\":\"17504\",\"type\":\"Legend\"},{\"attributes\":{\"label\":{\"field\":\"label\"},\"renderers\":[{\"id\":\"17492\"}]},\"id\":\"17505\",\"type\":\"LegendItem\"},{\"attributes\":{\"fill_alpha\":{\"value\":0.2},\"fill_color\":{\"field\":\"color\"},\"hatch_alpha\":{\"value\":0.2},\"hatch_color\":{\"field\":\"color\"},\"line_alpha\":{\"value\":0.2},\"line_color\":{\"value\":\"white\"},\"size\":{\"value\":10},\"x\":{\"field\":\"x\"},\"y\":{\"field\":\"y\"}},\"id\":\"17491\",\"type\":\"Circle\"},{\"attributes\":{\"fill_alpha\":{\"value\":0.1},\"fill_color\":{\"field\":\"color\"},\"hatch_alpha\":{\"value\":0.1},\"hatch_color\":{\"field\":\"color\"},\"line_alpha\":{\"value\":0.1},\"line_color\":{\"value\":\"white\"},\"size\":{\"value\":10},\"x\":{\"field\":\"x\"},\"y\":{\"field\":\"y\"}},\"id\":\"17490\",\"type\":\"Circle\"},{\"attributes\":{\"overlay\":{\"id\":\"17479\"}},\"id\":\"17475\",\"type\":\"BoxZoomTool\"},{\"attributes\":{},\"id\":\"17459\",\"type\":\"DataRange1d\"},{\"attributes\":{},\"id\":\"17476\",\"type\":\"SaveTool\"},{\"attributes\":{\"coordinates\":null,\"data_source\":{\"id\":\"17487\"},\"glyph\":{\"id\":\"17489\"},\"group\":null,\"hover_glyph\":null,\"muted_glyph\":{\"id\":\"17491\"},\"nonselection_glyph\":{\"id\":\"17490\"},\"view\":{\"id\":\"17493\"}},\"id\":\"17492\",\"type\":\"GlyphRenderer\"},{\"attributes\":{\"client_comm_id\":\"0fe02ee8b4b149458b22208a29be5372\",\"comm_id\":\"a95db87aabbd4488a9c889178eae23fd\",\"plot_id\":\"17506\"},\"id\":\"17559\",\"type\":\"panel.models.comm_manager.CommManager\"},{\"attributes\":{\"source\":{\"id\":\"17487\"}},\"id\":\"17493\",\"type\":\"CDSView\"},{\"attributes\":{},\"id\":\"17477\",\"type\":\"ResetTool\"},{\"attributes\":{},\"id\":\"17457\",\"type\":\"DataRange1d\"},{\"attributes\":{},\"id\":\"17466\",\"type\":\"BasicTicker\"},{\"attributes\":{\"bottom_units\":\"screen\",\"coordinates\":null,\"fill_alpha\":0.5,\"fill_color\":\"lightgrey\",\"group\":null,\"left_units\":\"screen\",\"level\":\"overlay\",\"line_alpha\":1.0,\"line_color\":\"black\",\"line_dash\":[4,4],\"line_width\":2,\"right_units\":\"screen\",\"syncable\":false,\"top_units\":\"screen\"},\"id\":\"17479\",\"type\":\"BoxAnnotation\"},{\"attributes\":{},\"id\":\"17461\",\"type\":\"LinearScale\"},{\"attributes\":{\"children\":[{\"id\":\"17507\"},{\"id\":\"17454\"},{\"id\":\"17528\"}],\"margin\":[0,0,0,0],\"name\":\"Row00290\"},\"id\":\"17506\",\"type\":\"Row\"},{\"attributes\":{\"margin\":[5,5,5,5],\"name\":\"HSpacer00287\",\"sizing_mode\":\"stretch_width\"},\"id\":\"17528\",\"type\":\"Spacer\"},{\"attributes\":{},\"id\":\"17501\",\"type\":\"UnionRenderers\"},{\"attributes\":{\"data\":{\"color\":[\"midnightblue\",\"firebrick\",\"firebrick\",\"midnightblue\"],\"label\":[\"class 1\",\"class 2\",\"class 2\",\"class 1\"],\"x\":[-1,-1,1,1],\"y\":[-1,1,-1,1]},\"selected\":{\"id\":\"17502\"},\"selection_policy\":{\"id\":\"17501\"}},\"id\":\"17487\",\"type\":\"ColumnDataSource\"},{\"attributes\":{\"margin\":[5,5,5,5],\"name\":\"HSpacer00286\",\"sizing_mode\":\"stretch_width\"},\"id\":\"17507\",\"type\":\"Spacer\"},{\"attributes\":{},\"id\":\"17470\",\"type\":\"BasicTicker\"}],\"root_ids\":[\"17506\",\"17559\"]},\"title\":\"Bokeh Application\",\"version\":\"2.4.3\"}};\n",
       "    var render_items = [{\"docid\":\"74f1f51e-a7ce-44b7-b704-78a59aa0bfc7\",\"root_ids\":[\"17506\"],\"roots\":{\"17506\":\"827e09e2-cd2a-4b77-a38b-3094a75f6fe9\"}}];\n",
       "    root.Bokeh.embed.embed_items_notebook(docs_json, render_items);\n",
       "    for (const render_item of render_items) {\n",
       "      for (const root_id of render_item.root_ids) {\n",
       "\tconst id_el = document.getElementById(root_id)\n",
       "\tif (id_el.children.length && (id_el.children[0].className === 'bk-root')) {\n",
       "\t  const root_el = id_el.children[0]\n",
       "\t  root_el.id = root_el.id + '-rendered'\n",
       "\t}\n",
       "      }\n",
       "    }\n",
       "  }\n",
       "  if (root.Bokeh !== undefined && root.Bokeh.Panel !== undefined) {\n",
       "    embed_document(root);\n",
       "  } else {\n",
       "    var attempts = 0;\n",
       "    var timer = setInterval(function(root) {\n",
       "      if (root.Bokeh !== undefined && root.Bokeh.Panel !== undefined) {\n",
       "        clearInterval(timer);\n",
       "        embed_document(root);\n",
       "      } else if (document.readyState == \"complete\") {\n",
       "        attempts++;\n",
       "        if (attempts > 200) {\n",
       "          clearInterval(timer);\n",
       "          console.log(\"Bokeh: ERROR: Unable to run BokehJS code because BokehJS library is missing\");\n",
       "        }\n",
       "      }\n",
       "    }, 25, root)\n",
       "  }\n",
       "})(window);</script>"
      ],
      "text/plain": [
       "Row\n",
       "    [0] HSpacer()\n",
       "    [1] Bokeh(Figure)\n",
       "    [2] HSpacer()"
      ]
     },
     "execution_count": 55,
     "metadata": {
      "application/vnd.holoviews_exec.v0+json": {
       "id": "17506"
      }
     },
     "output_type": "execute_result"
    }
   ],
   "source": [
    "# Input patterns\n",
    "x_inputs = np.array([[-1, -1],[-1,  1],[1, -1],[1,  1]])\n",
    "# Corresponding classes\n",
    "y_class = np.array([0, 1, 1, 0])                        \n",
    "# Initialize based on their sizes\n",
    "n_inputs = x_inputs.shape[0]\n",
    "n_outputs = 1\n",
    "# Plot the XOR problem\n",
    "plot = center_plot(scatter_classes(x_inputs, y_class, title = \"XOR classification\"))\n",
    "plot"
   ]
  },
  {
   "cell_type": "markdown",
   "metadata": {
    "tags": []
   },
   "source": [
    "## Observing the problem interactively"
   ]
  },
  {
   "cell_type": "code",
   "execution_count": 56,
   "metadata": {
    "tags": []
   },
   "outputs": [
    {
     "name": "stdout",
     "output_type": "stream",
     "text": [
      "Creating the object\n"
     ]
    },
    {
     "data": {},
     "metadata": {},
     "output_type": "display_data"
    },
    {
     "data": {
      "application/vnd.holoviews_exec.v0+json": "",
      "text/html": [
       "<div id='17662'>\n",
       "  <div class=\"bk-root\" id=\"6e9e8014-c3f8-4d95-bf04-bb32a33793cc\" data-root-id=\"17662\"></div>\n",
       "</div>\n",
       "<script type=\"application/javascript\">(function(root) {\n",
       "  function embed_document(root) {\n",
       "    var docs_json = {\"6009059d-5bb2-408d-aff0-a7629ff4fca4\":{\"defs\":[{\"extends\":null,\"module\":null,\"name\":\"ReactiveHTML1\",\"overrides\":[],\"properties\":[]},{\"extends\":null,\"module\":null,\"name\":\"FlexBox1\",\"overrides\":[],\"properties\":[{\"default\":\"flex-start\",\"kind\":null,\"name\":\"align_content\"},{\"default\":\"flex-start\",\"kind\":null,\"name\":\"align_items\"},{\"default\":\"row\",\"kind\":null,\"name\":\"flex_direction\"},{\"default\":\"wrap\",\"kind\":null,\"name\":\"flex_wrap\"},{\"default\":\"flex-start\",\"kind\":null,\"name\":\"justify_content\"}]},{\"extends\":null,\"module\":null,\"name\":\"GridStack1\",\"overrides\":[],\"properties\":[{\"default\":\"warn\",\"kind\":null,\"name\":\"mode\"},{\"default\":null,\"kind\":null,\"name\":\"ncols\"},{\"default\":null,\"kind\":null,\"name\":\"nrows\"},{\"default\":true,\"kind\":null,\"name\":\"allow_resize\"},{\"default\":true,\"kind\":null,\"name\":\"allow_drag\"},{\"default\":[],\"kind\":null,\"name\":\"state\"}]},{\"extends\":null,\"module\":null,\"name\":\"click1\",\"overrides\":[],\"properties\":[{\"default\":\"\",\"kind\":null,\"name\":\"terminal_output\"},{\"default\":\"\",\"kind\":null,\"name\":\"debug_name\"},{\"default\":0,\"kind\":null,\"name\":\"clears\"}]},{\"extends\":null,\"module\":null,\"name\":\"NotificationAreaBase1\",\"overrides\":[],\"properties\":[{\"default\":\"bottom-right\",\"kind\":null,\"name\":\"position\"},{\"default\":0,\"kind\":null,\"name\":\"_clear\"}]},{\"extends\":null,\"module\":null,\"name\":\"NotificationArea1\",\"overrides\":[],\"properties\":[{\"default\":[],\"kind\":null,\"name\":\"notifications\"},{\"default\":\"bottom-right\",\"kind\":null,\"name\":\"position\"},{\"default\":0,\"kind\":null,\"name\":\"_clear\"},{\"default\":[{\"background\":\"#ffc107\",\"icon\":{\"className\":\"fas fa-exclamation-triangle\",\"color\":\"white\",\"tagName\":\"i\"},\"type\":\"warning\"},{\"background\":\"#007bff\",\"icon\":{\"className\":\"fas fa-info-circle\",\"color\":\"white\",\"tagName\":\"i\"},\"type\":\"info\"}],\"kind\":null,\"name\":\"types\"}]},{\"extends\":null,\"module\":null,\"name\":\"Notification\",\"overrides\":[],\"properties\":[{\"default\":null,\"kind\":null,\"name\":\"background\"},{\"default\":3000,\"kind\":null,\"name\":\"duration\"},{\"default\":null,\"kind\":null,\"name\":\"icon\"},{\"default\":\"\",\"kind\":null,\"name\":\"message\"},{\"default\":null,\"kind\":null,\"name\":\"notification_type\"},{\"default\":false,\"kind\":null,\"name\":\"_destroyed\"}]},{\"extends\":null,\"module\":null,\"name\":\"TemplateActions1\",\"overrides\":[],\"properties\":[{\"default\":0,\"kind\":null,\"name\":\"open_modal\"},{\"default\":0,\"kind\":null,\"name\":\"close_modal\"}]},{\"extends\":null,\"module\":null,\"name\":\"MaterialTemplateActions1\",\"overrides\":[],\"properties\":[{\"default\":0,\"kind\":null,\"name\":\"open_modal\"},{\"default\":0,\"kind\":null,\"name\":\"close_modal\"}]}],\"roots\":{\"references\":[{\"attributes\":{\"args\":{\"bidirectional\":true,\"properties\":{\"readonly\":\"disabled\"},\"source\":{\"id\":\"17692\"},\"target\":{\"id\":\"17692\"}},\"code\":\"\\n    var value = source['disabled'];\\n    value = value;\\n    value = value;\\n    try {\\n      var property = target.properties['readonly'];\\n      if (property !== undefined) { property.validate(value); }\\n    } catch(err) {\\n      console.log('WARNING: Could not set readonly on target, raised error: ' + err);\\n      return;\\n    }\\n    try {\\n      target['readonly'] = value;\\n    } catch(err) {\\n      console.log(err)\\n    }\\n    \",\"tags\":[[6034303696,[null,\"readonly\"],[null,\"disabled\"]]]},\"id\":\"17704\",\"type\":\"CustomJS\"},{\"attributes\":{},\"id\":\"17619\",\"type\":\"LinearScale\"},{\"attributes\":{\"code\":\"    def generate_data(self):\\n        self.x, self.y = xor_separation(self.number_observations, self.dense_factor)\\n        super().generate_data()\",\"filename\":\"\",\"height\":60,\"js_property_callbacks\":{\"change:disabled\":[{\"id\":\"17704\"}],\"change:readonly\":[{\"id\":\"17703\"}]},\"language\":\"python\",\"margin\":[5,10,5,10],\"sizing_mode\":\"stretch_both\",\"theme\":\"chaos\"},\"id\":\"17692\",\"type\":\"panel.models.ace.AcePlot\"},{\"attributes\":{},\"id\":\"17615\",\"type\":\"DataRange1d\"},{\"attributes\":{\"children\":[{\"id\":\"17663\"},{\"id\":\"17692\"}],\"margin\":[0,0,0,0],\"name\":\"Column00318\"},\"id\":\"17662\",\"type\":\"Column\"},{\"attributes\":{},\"id\":\"17617\",\"type\":\"LinearScale\"},{\"attributes\":{},\"id\":\"17632\",\"type\":\"SaveTool\"},{\"attributes\":{},\"id\":\"17658\",\"type\":\"Selection\"},{\"attributes\":{},\"id\":\"17622\",\"type\":\"BasicTicker\"},{\"attributes\":{\"end\":1000,\"margin\":[5,10,5,10],\"start\":10,\"title\":\"Number observations\",\"value\":100},\"id\":\"17666\",\"type\":\"Slider\"},{\"attributes\":{\"label\":{\"field\":\"label\"},\"renderers\":[{\"id\":\"17648\"}]},\"id\":\"17661\",\"type\":\"LegendItem\"},{\"attributes\":{},\"id\":\"17633\",\"type\":\"ResetTool\"},{\"attributes\":{\"children\":[{\"id\":\"17664\"},{\"id\":\"17671\"}],\"margin\":[0,0,0,0],\"name\":\"Row00315\"},\"id\":\"17663\",\"type\":\"Row\"},{\"attributes\":{\"client_comm_id\":\"cfb0417ae3694357bc2fe7e286493835\",\"comm_id\":\"677b4eb90ab84c868fa456468add09f4\",\"plot_id\":\"17662\"},\"id\":\"17725\",\"type\":\"panel.models.comm_manager.CommManager\"},{\"attributes\":{\"args\":{\"bidirectional\":true,\"properties\":{\"readonly\":\"disabled\"},\"source\":{\"id\":\"17692\"},\"target\":{\"id\":\"17692\"}},\"code\":\"\\n    var value = source['readonly'];\\n    value = value;\\n    value = value;\\n    try {\\n      var property = target.properties['disabled'];\\n      if (property !== undefined) { property.validate(value); }\\n    } catch(err) {\\n      console.log('WARNING: Could not set disabled on target, raised error: ' + err);\\n      return;\\n    }\\n    try {\\n      target['disabled'] = value;\\n    } catch(err) {\\n      console.log(err)\\n    }\\n    \",\"tags\":[[6034303696,[null,\"readonly\"],[null,\"disabled\"]]]},\"id\":\"17703\",\"type\":\"CustomJS\"},{\"attributes\":{},\"id\":\"17626\",\"type\":\"BasicTicker\"},{\"attributes\":{\"end\":0.9,\"margin\":[5,10,5,10],\"start\":0.01,\"step\":0.1,\"title\":\"Dense factor\",\"value\":0.1},\"id\":\"17670\",\"type\":\"Slider\"},{\"attributes\":{\"background_fill_alpha\":0.9,\"background_fill_color\":\"#0f0f0f\",\"below\":[{\"id\":\"17621\"}],\"border_fill_alpha\":0.8,\"border_fill_color\":\"#111111\",\"center\":[{\"id\":\"17624\"},{\"id\":\"17628\"},{\"id\":\"17660\"}],\"height\":450,\"left\":[{\"id\":\"17625\"}],\"outline_line_alpha\":0.25,\"outline_line_color\":\"#E0E0E0\",\"outline_line_width\":3,\"renderers\":[{\"id\":\"17648\"}],\"right\":[{\"id\":\"17660\"}],\"title\":{\"id\":\"17611\"},\"toolbar\":{\"id\":\"17636\"},\"width\":700,\"x_range\":{\"id\":\"17613\"},\"x_scale\":{\"id\":\"17617\"},\"y_range\":{\"id\":\"17615\"},\"y_scale\":{\"id\":\"17619\"}},\"id\":\"17610\",\"subtype\":\"Figure\",\"type\":\"Plot\"},{\"attributes\":{\"axis\":{\"id\":\"17621\"},\"coordinates\":null,\"grid_line_alpha\":0.15,\"grid_line_color\":\"#E0E0E0\",\"group\":null,\"ticker\":null},\"id\":\"17624\",\"type\":\"Grid\"},{\"attributes\":{\"background_fill_alpha\":0.2,\"background_fill_color\":\"darkgrey\",\"border_line_alpha\":0.8,\"border_line_color\":\"grey\",\"border_line_width\":3,\"coordinates\":null,\"group\":null,\"items\":[{\"id\":\"17661\"}],\"label_text_color\":\"white\"},\"id\":\"17660\",\"type\":\"Legend\"},{\"attributes\":{\"overlay\":{\"id\":\"17635\"}},\"id\":\"17631\",\"type\":\"BoxZoomTool\"},{\"attributes\":{\"coordinates\":null,\"group\":null,\"text\":\"XOR classification\",\"text_color\":\"#E0E0E0\",\"text_font\":\"Josefin Sans\",\"text_font_size\":\"2.1em\"},\"id\":\"17611\",\"type\":\"Title\"},{\"attributes\":{\"coordinates\":null,\"data_source\":{\"id\":\"17643\"},\"glyph\":{\"id\":\"17645\"},\"group\":null,\"hover_glyph\":null,\"muted_glyph\":{\"id\":\"17647\"},\"nonselection_glyph\":{\"id\":\"17646\"},\"view\":{\"id\":\"17649\"}},\"id\":\"17648\",\"type\":\"GlyphRenderer\"},{\"attributes\":{\"children\":[{\"id\":\"17610\"}],\"margin\":[0,0,0,0],\"name\":\"Row00312\"},\"id\":\"17671\",\"type\":\"Row\"},{\"attributes\":{},\"id\":\"17634\",\"type\":\"HelpTool\"},{\"attributes\":{},\"id\":\"17656\",\"type\":\"AllLabels\"},{\"attributes\":{\"fill_alpha\":{\"value\":0.2},\"fill_color\":{\"field\":\"color\"},\"hatch_alpha\":{\"value\":0.2},\"hatch_color\":{\"field\":\"color\"},\"line_alpha\":{\"value\":0.2},\"line_color\":{\"value\":\"white\"},\"size\":{\"value\":10},\"x\":{\"field\":\"x\"},\"y\":{\"field\":\"y\"}},\"id\":\"17647\",\"type\":\"Circle\"},{\"attributes\":{\"source\":{\"id\":\"17643\"}},\"id\":\"17649\",\"type\":\"CDSView\"},{\"attributes\":{},\"id\":\"17653\",\"type\":\"AllLabels\"},{\"attributes\":{\"labels\":[\"Ground truth\"],\"margin\":[5,10,5,10]},\"id\":\"17668\",\"type\":\"CheckboxGroup\"},{\"attributes\":{\"axis\":{\"id\":\"17625\"},\"coordinates\":null,\"dimension\":1,\"grid_line_alpha\":0.15,\"grid_line_color\":\"#E0E0E0\",\"group\":null,\"ticker\":null},\"id\":\"17628\",\"type\":\"Grid\"},{\"attributes\":{},\"id\":\"17613\",\"type\":\"DataRange1d\"},{\"attributes\":{\"fill_alpha\":{\"value\":0.6},\"fill_color\":{\"field\":\"color\"},\"hatch_alpha\":{\"value\":0.6},\"hatch_color\":{\"field\":\"color\"},\"line_alpha\":{\"value\":0.6},\"line_color\":{\"value\":\"white\"},\"size\":{\"value\":10},\"x\":{\"field\":\"x\"},\"y\":{\"field\":\"y\"}},\"id\":\"17645\",\"type\":\"Circle\"},{\"attributes\":{},\"id\":\"17630\",\"type\":\"WheelZoomTool\"},{\"attributes\":{\"data\":{\"color\":[\"midnightblue\",\"midnightblue\",\"midnightblue\",\"midnightblue\",\"midnightblue\",\"midnightblue\",\"midnightblue\",\"midnightblue\",\"midnightblue\",\"midnightblue\",\"midnightblue\",\"midnightblue\",\"midnightblue\",\"midnightblue\",\"midnightblue\",\"midnightblue\",\"midnightblue\",\"midnightblue\",\"midnightblue\",\"midnightblue\",\"midnightblue\",\"midnightblue\",\"midnightblue\",\"midnightblue\",\"firebrick\",\"firebrick\",\"firebrick\",\"firebrick\",\"firebrick\",\"firebrick\",\"firebrick\",\"firebrick\",\"firebrick\",\"firebrick\",\"firebrick\",\"firebrick\",\"firebrick\",\"firebrick\",\"firebrick\",\"firebrick\",\"firebrick\",\"firebrick\",\"firebrick\",\"firebrick\",\"firebrick\",\"firebrick\",\"firebrick\",\"firebrick\",\"firebrick\",\"firebrick\",\"firebrick\",\"firebrick\",\"firebrick\",\"firebrick\",\"firebrick\",\"firebrick\",\"firebrick\",\"firebrick\",\"firebrick\",\"firebrick\",\"firebrick\",\"firebrick\",\"firebrick\",\"firebrick\",\"firebrick\",\"firebrick\",\"firebrick\",\"firebrick\",\"firebrick\",\"firebrick\",\"firebrick\",\"firebrick\",\"midnightblue\",\"midnightblue\",\"midnightblue\",\"midnightblue\",\"midnightblue\",\"midnightblue\",\"midnightblue\",\"midnightblue\",\"midnightblue\",\"midnightblue\",\"midnightblue\",\"midnightblue\",\"midnightblue\",\"midnightblue\",\"midnightblue\",\"midnightblue\",\"midnightblue\",\"midnightblue\",\"midnightblue\",\"midnightblue\",\"midnightblue\",\"midnightblue\",\"midnightblue\",\"midnightblue\"],\"label\":[\"class 1\",\"class 1\",\"class 1\",\"class 1\",\"class 1\",\"class 1\",\"class 1\",\"class 1\",\"class 1\",\"class 1\",\"class 1\",\"class 1\",\"class 1\",\"class 1\",\"class 1\",\"class 1\",\"class 1\",\"class 1\",\"class 1\",\"class 1\",\"class 1\",\"class 1\",\"class 1\",\"class 1\",\"class 2\",\"class 2\",\"class 2\",\"class 2\",\"class 2\",\"class 2\",\"class 2\",\"class 2\",\"class 2\",\"class 2\",\"class 2\",\"class 2\",\"class 2\",\"class 2\",\"class 2\",\"class 2\",\"class 2\",\"class 2\",\"class 2\",\"class 2\",\"class 2\",\"class 2\",\"class 2\",\"class 2\",\"class 2\",\"class 2\",\"class 2\",\"class 2\",\"class 2\",\"class 2\",\"class 2\",\"class 2\",\"class 2\",\"class 2\",\"class 2\",\"class 2\",\"class 2\",\"class 2\",\"class 2\",\"class 2\",\"class 2\",\"class 2\",\"class 2\",\"class 2\",\"class 2\",\"class 2\",\"class 2\",\"class 2\",\"class 1\",\"class 1\",\"class 1\",\"class 1\",\"class 1\",\"class 1\",\"class 1\",\"class 1\",\"class 1\",\"class 1\",\"class 1\",\"class 1\",\"class 1\",\"class 1\",\"class 1\",\"class 1\",\"class 1\",\"class 1\",\"class 1\",\"class 1\",\"class 1\",\"class 1\",\"class 1\",\"class 1\"],\"x\":{\"__ndarray__\":\"QcSHv/5Dbr/z6YW/yihYv7jDeb82vnO/AMF+v/51bb9fLUm/qmNrv60icr+3vIG/Y8Riv4oZZb/VrHW/Z/aYv2PCi7+6XYC/ks5Yv3YPjr+BPIG/15Rpvx/mf781S3K/daVhvwWxY79Et2W/kG59v5s5Vb97spC/FOlMv0R7mb+m832/k7eEv6zvgL9AZVu/qJOEv3MCgr+ANH2/7Dp0v7pzg7/0Jou/cy2Dv4PqZb90gWa//aN8vyL4ab/TX5K/WPF7Px/XjT/pYXs/pxg+P10JYD+gr5M/O0l/P1dVQT9wOVU/RJGGP7s9Wz+xnGY/3cuEPyyofD8LF1E/7MZnPxoMgD9VXmw/SRF6P8mHcj8YqT8/a9tsPx5+cz+b04A/kNNMPyerlT+m3YU/FP6APzVBjj+3wF8/GjRqP+RVjT9rpZQ/5u2QP38OaT8mKTc/ipyXP9NxZD8up5I/hJeRPyJ/iT/i2m4/ewx3P45Xkz8MRVI/nTKGP2AXeT8mVIU/\",\"dtype\":\"float32\",\"order\":\"little\",\"shape\":[96]},\"y\":{\"__ndarray__\":\"aJ5Sv8OIV7+fDYO/isWUv8+8lL/wPYe/CHOGv542jr+tCnK//5CTv55Zj788G3e/JZ6TvwZya7/eP1a/LkuQvyWKj79HHGS/vw5wvwFEhL9H/Yu/kJiDv587R78TP4y/OvFaP/cZPT9EjH0/ocGJPwg9fD9lDXs//yw7P+XniT/fa3M/1I+RPyLoeD8Yp48/JPuGP2YVbz92l28/JtyGP4WUkD9hnpQ/g8CDP1puYj9b44M/aO+IPwYdXT+kfpU/sBBwv1gdgr9Gn2a/Gsebv3/OSr8Im5W/c85lv3w5br90TZW/TkyMv4sBgb/IQHe/88CNv9Cwgb+bfoK/xNOdv7TaaL8VEZi/xmk2vxoIkL/mR3K/gB2Nv/TzfL8Oaoi/D7uCP+12UD/edYg/rnyHP3dDcj+Ygl4/WwqRP5Nvjj/7vYs/0aFtP0K4ez8acHk/+WltPz/jjj+zQZ8/m7eOP3cHiD+6FnU/b32LPy72Tz/Gem0/yhl3P1rdij8lXXs/\",\"dtype\":\"float32\",\"order\":\"little\",\"shape\":[96]}},\"selected\":{\"id\":\"17658\"},\"selection_policy\":{\"id\":\"17657\"}},\"id\":\"17643\",\"type\":\"ColumnDataSource\"},{\"attributes\":{\"axis_label\":\"$$\\\\color{white} x$$\",\"axis_label_standoff\":10,\"axis_label_text_color\":\"#FFFFFF\",\"axis_label_text_font\":\"Josefin Sans\",\"axis_label_text_font_size\":\"1.9em\",\"axis_label_text_font_style\":\"bold\",\"axis_line_alpha\":0.4,\"axis_line_color\":\"#E0E0E0\",\"coordinates\":null,\"formatter\":{\"id\":\"17655\"},\"group\":null,\"major_label_policy\":{\"id\":\"17656\"},\"major_label_text_color\":\"#E0E0E0\",\"major_label_text_font\":\"Josefin Sans\",\"major_label_text_font_size\":\"1.15em\",\"major_tick_line_alpha\":0.4,\"major_tick_line_color\":\"#E0E0E0\",\"minor_tick_line_alpha\":0.4,\"minor_tick_line_color\":\"#E0E0E0\",\"ticker\":{\"id\":\"17622\"}},\"id\":\"17621\",\"type\":\"LinearAxis\"},{\"attributes\":{\"labels\":[\"Error\"],\"margin\":[5,10,5,10]},\"id\":\"17669\",\"type\":\"CheckboxGroup\"},{\"attributes\":{},\"id\":\"17629\",\"type\":\"PanTool\"},{\"attributes\":{},\"id\":\"17655\",\"type\":\"BasicTickFormatter\"},{\"attributes\":{\"fill_alpha\":{\"value\":0.1},\"fill_color\":{\"field\":\"color\"},\"hatch_alpha\":{\"value\":0.1},\"hatch_color\":{\"field\":\"color\"},\"line_alpha\":{\"value\":0.1},\"line_color\":{\"value\":\"white\"},\"size\":{\"value\":10},\"x\":{\"field\":\"x\"},\"y\":{\"field\":\"y\"}},\"id\":\"17646\",\"type\":\"Circle\"},{\"attributes\":{},\"id\":\"17652\",\"type\":\"BasicTickFormatter\"},{\"attributes\":{\"tools\":[{\"id\":\"17629\"},{\"id\":\"17630\"},{\"id\":\"17631\"},{\"id\":\"17632\"},{\"id\":\"17633\"},{\"id\":\"17634\"}]},\"id\":\"17636\",\"type\":\"Toolbar\"},{\"attributes\":{\"axis_label\":\"$$\\\\color{white} \\\\mathbf{y}$$\",\"axis_label_standoff\":10,\"axis_label_text_color\":\"#FFFFFF\",\"axis_label_text_font\":\"Josefin Sans\",\"axis_label_text_font_size\":\"1.9em\",\"axis_label_text_font_style\":\"bold\",\"axis_line_alpha\":0.4,\"axis_line_color\":\"#E0E0E0\",\"coordinates\":null,\"formatter\":{\"id\":\"17652\"},\"group\":null,\"major_label_policy\":{\"id\":\"17653\"},\"major_label_text_color\":\"#E0E0E0\",\"major_label_text_font\":\"Josefin Sans\",\"major_label_text_font_size\":\"1.15em\",\"major_tick_line_alpha\":0.4,\"major_tick_line_color\":\"#E0E0E0\",\"minor_tick_line_alpha\":0.4,\"minor_tick_line_color\":\"#E0E0E0\",\"ticker\":{\"id\":\"17626\"}},\"id\":\"17625\",\"type\":\"LinearAxis\"},{\"attributes\":{\"children\":[{\"id\":\"17665\"},{\"id\":\"17666\"},{\"id\":\"17667\"},{\"id\":\"17668\"},{\"id\":\"17669\"},{\"id\":\"17670\"}],\"margin\":[5,5,5,5],\"min_width\":300,\"name\":\"Problem parameters\",\"width\":300},\"id\":\"17664\",\"type\":\"Column\"},{\"attributes\":{\"margin\":[5,10,5,10],\"name\":\"\",\"text\":\"<b>Problem parameters</b>\"},\"id\":\"17665\",\"type\":\"Div\"},{\"attributes\":{\"bottom_units\":\"screen\",\"coordinates\":null,\"fill_alpha\":0.5,\"fill_color\":\"lightgrey\",\"group\":null,\"left_units\":\"screen\",\"level\":\"overlay\",\"line_alpha\":1.0,\"line_color\":\"black\",\"line_dash\":[4,4],\"line_width\":2,\"right_units\":\"screen\",\"syncable\":false,\"top_units\":\"screen\"},\"id\":\"17635\",\"type\":\"BoxAnnotation\"},{\"attributes\":{},\"id\":\"17657\",\"type\":\"UnionRenderers\"},{\"attributes\":{\"end\":5.0,\"margin\":[5,10,5,10],\"start\":0.0,\"step\":0.1,\"title\":\"Noise level\",\"value\":0.1},\"id\":\"17667\",\"type\":\"Slider\"}],\"root_ids\":[\"17662\",\"17725\"]},\"title\":\"Bokeh Application\",\"version\":\"2.4.3\"}};\n",
       "    var render_items = [{\"docid\":\"6009059d-5bb2-408d-aff0-a7629ff4fca4\",\"root_ids\":[\"17662\"],\"roots\":{\"17662\":\"6e9e8014-c3f8-4d95-bf04-bb32a33793cc\"}}];\n",
       "    root.Bokeh.embed.embed_items_notebook(docs_json, render_items);\n",
       "    for (const render_item of render_items) {\n",
       "      for (const root_id of render_item.root_ids) {\n",
       "\tconst id_el = document.getElementById(root_id)\n",
       "\tif (id_el.children.length && (id_el.children[0].className === 'bk-root')) {\n",
       "\t  const root_el = id_el.children[0]\n",
       "\t  root_el.id = root_el.id + '-rendered'\n",
       "\t}\n",
       "      }\n",
       "    }\n",
       "  }\n",
       "  if (root.Bokeh !== undefined && root.Bokeh.Panel !== undefined) {\n",
       "    embed_document(root);\n",
       "  } else {\n",
       "    var attempts = 0;\n",
       "    var timer = setInterval(function(root) {\n",
       "      if (root.Bokeh !== undefined && root.Bokeh.Panel !== undefined) {\n",
       "        clearInterval(timer);\n",
       "        embed_document(root);\n",
       "      } else if (document.readyState == \"complete\") {\n",
       "        attempts++;\n",
       "        if (attempts > 200) {\n",
       "          clearInterval(timer);\n",
       "          console.log(\"Bokeh: ERROR: Unable to run BokehJS code because BokehJS library is missing\");\n",
       "        }\n",
       "      }\n",
       "    }, 25, root)\n",
       "  }\n",
       "})(window);</script>"
      ],
      "text/plain": [
       "Column\n",
       "    [0] Row\n",
       "        [0] Param(ClassificationXOR, name='Problem parameters')\n",
       "        [1] ParamMethod(method, _pane=Bokeh)\n",
       "    [1] Ace(height=60, language='python', sizing_mode='stretch_both', theme='chaos', value='    def generate_data(sel...)"
      ]
     },
     "execution_count": 56,
     "metadata": {
      "application/vnd.holoviews_exec.v0+json": {
       "id": "17662"
      }
     },
     "output_type": "execute_result"
    }
   ],
   "source": [
    "from cml.tasks import ClassificationLinear, ClassificationXOR\n",
    "explorer = ClassificationXOR()\n",
    "explorer.render()"
   ]
  },
  {
   "cell_type": "markdown",
   "metadata": {},
   "source": [
    "## Solving the problem with the `scikit-learn` library\n",
    "\n",
    "As a side note, and as discussed in the previous course, there is obviously a lot of libraries that can perform the training of such networks for you directly, without understanding what is exactly going on behind the scene. A quite extensive library is `scikit-learn`, which contains already coded models and learning procedure, that will allow us to _learn_ the parameters of this unknown function.\n",
    "\n",
    "Here we will use a `MLPClassifier` model to perfom classification on standardized features that we rescale through the `LinearRegression` and that this polynomial should be of degree 2. "
   ]
  },
  {
   "cell_type": "code",
   "execution_count": 57,
   "metadata": {
    "tags": []
   },
   "outputs": [],
   "source": [
    "from sklearn.neural_network import MLPClassifier\n",
    "from sklearn.preprocessing import StandardScaler\n",
    "from sklearn.pipeline import make_pipeline\n",
    "# Create the MLP classifier\n",
    "classifier = MLPClassifier(alpha=1, max_iter=1000)\n",
    "# Standardize the input features\n",
    "clf = make_pipeline(StandardScaler(), classifier)"
   ]
  },
  {
   "cell_type": "markdown",
   "metadata": {},
   "source": [
    "Now based on this model definition, training it can be performed with a single line of code"
   ]
  },
  {
   "cell_type": "code",
   "execution_count": 58,
   "metadata": {
    "tags": []
   },
   "outputs": [],
   "source": [
    "from cml.data import xor_separation\n",
    "# Generate a XOR dataset\n",
    "x_inputs, y_classes = xor_separation(500, 0.1)\n",
    "# Train the MLP model\n",
    "clf.fit(x_inputs, y_classes);"
   ]
  },
  {
   "cell_type": "markdown",
   "metadata": {
    "tags": []
   },
   "source": [
    "## Multi-layer implementation\n",
    "\n",
    "In this exercise, we will implement the XOR classification resolution using NumPy and JAX. This classification problem cannot be solved with a simple linear classifier. Hence, we will need to use at least a 2-layer network. The minimal set of variables that will be used by your code should be the following.\n",
    "\n",
    "```Python\n",
    "x_inputs          # 2 x n matrix of random points\n",
    "y_class           # classes of the patterns \n",
    "n_hidden          # Number of hidden units\n",
    "eta               # Learning rate parameter\n",
    "momentum          # Momentum parameter (bonus)\n",
    "weights1          # 1st layer weights\n",
    "weights2          # 2nd layer weights\n",
    "mse_limit         # Sum-squared error limit\n",
    "```"
   ]
  },
  {
   "cell_type": "code",
   "execution_count": 41,
   "metadata": {},
   "outputs": [],
   "source": [
    "# Number of hidden units\n",
    "n_hidden = 2\n",
    "# Learning rate parameter\n",
    "eta = 0.005\n",
    "# Momentum parameter\n",
    "momentum = 0.1\n",
    "# Sum-squared error limit\n",
    "mse_limit = 0.002"
   ]
  },
  {
   "cell_type": "markdown",
   "metadata": {
    "tags": []
   },
   "source": [
    "## Exercise 1 - 2-layers XOR classification\n",
    "\n",
    "<div class=\"alert alert-success\" markdown=\"1\" style=\"color:white; background-color: #013220; border-color: #03C03C\">\n",
    "\n",
    "> To complete this exercise, you will need to have a basic understanding of NumPy and JAX. You can use the resources provided in the previous exercises to learn more about these libraries.\n",
    "\n",
    "We help you out by first defining the XOR classification problem to solve (and outlining some basic properties)\n",
    "\n",
    "</div>"
   ]
  },
  {
   "cell_type": "code",
   "execution_count": 27,
   "metadata": {},
   "outputs": [],
   "source": [
    "from cml.data import xor_separation\n",
    "# Definition of our data properties\n",
    "n_observations = 500\n",
    "noise_factor = 0.1\n",
    "# Properties of our problem\n",
    "n_input = 2\n",
    "n_output = 1\n",
    "# Generate a XOR dataset\n",
    "x_inputs, y_classes = xor_separation(n_observations, noise_factor)"
   ]
  },
  {
   "cell_type": "markdown",
   "metadata": {},
   "source": [
    "We also show some potential implementation of the **initialization scheme**. Note that you can later try to replace this naive implementation by some more refined functions"
   ]
  },
  {
   "cell_type": "code",
   "execution_count": null,
   "metadata": {},
   "outputs": [],
   "source": [
    "# 1st layer weights\n",
    "weights1 = (np.random.randn(n_hidden, n_input) * 0.01)\n",
    "# 2nd layer weights\n",
    "weights2 = (np.random.randn(n_output, n_hidden) * 0.01)\n",
    "# 1st layer biases\n",
    "bias1 = (np.random.randn(n_hidden, 1) * 0.01)\n",
    "# 2nd layer biases\n",
    "bias2 = (np.random.randn(n_output, 1) * 0.01)"
   ]
  },
  {
   "cell_type": "markdown",
   "metadata": {},
   "source": [
    "***\n",
    "\n",
    "<div class=\"alert alert-success\" markdown=\"1\" style=\"color:white; background-color: #013220; border-color: #03C03C\">\n",
    "\n",
    "> ### Question 1.1 - Implement 2-layer XOR classification with NumPy\n",
    "\n",
    "> 1. Update the forward propagation and error computation\n",
    "> 2. Update the back-propagation part to learn the weights of both layers.\n",
    "> 3. Run the learning and check your network results\n",
    "  \n",
    "*For optional questions, please look at the end of this exercise's code boxes for more information*\n",
    "\n",
    "</div>\n",
    "\n",
    "***"
   ]
  },
  {
   "cell_type": "code",
   "execution_count": null,
   "metadata": {},
   "outputs": [],
   "source": [
    "\n",
    "######################\n",
    "# YOUR CODE GOES HERE\n",
    "######################\n"
   ]
  },
  {
   "cell_type": "markdown",
   "metadata": {},
   "source": [
    "***\n",
    "\n",
    "<div class=\"alert alert-success\" markdown=\"1\" style=\"color:white; background-color: #013220; border-color: #03C03C\">\n",
    "\n",
    "> ### Question 1.2 - Implement XOR classification with JAX\n",
    "\n",
    "> 1. Perform the same implementation as previously with JAX\n",
    "> 2. Implement gradient descent to optimize the weights and bias.\n",
    "\n",
    "</div>\n",
    "\n",
    "***"
   ]
  },
  {
   "cell_type": "code",
   "execution_count": null,
   "metadata": {},
   "outputs": [],
   "source": [
    "\n",
    "######################\n",
    "# YOUR CODE GOES HERE\n",
    "######################\n"
   ]
  },
  {
   "cell_type": "markdown",
   "metadata": {},
   "source": [
    "***\n",
    "\n",
    "<div class=\"alert alert-success\" markdown=\"1\" style=\"color:white; background-color: #013220; border-color: #03C03C\">\n",
    "\n",
    "> ### Question 1.3 - Understanding properties of our implementation\n",
    "\n",
    "> 4. Perform multiple re-runs of the learning procedure (re-launching with different initializations)\n",
    ">     1. What observations can you make on the learning process?\n",
    ">     2. What happens if you initialize all weights to zeros?\n",
    ">     3. Change your initialization and regularization scheme\n",
    "\n",
    "</div>\n",
    "\n",
    "***"
   ]
  },
  {
   "cell_type": "code",
   "execution_count": null,
   "metadata": {},
   "outputs": [],
   "source": [
    "\n",
    "######################\n",
    "# YOUR CODE GOES HERE\n",
    "######################\n"
   ]
  },
  {
   "cell_type": "markdown",
   "metadata": {},
   "source": [
    "***\n",
    "\n",
    "<div class=\"alert alert-success\" markdown=\"1\" style=\"color:white; background-color: #192841; border-color: #779ecb\">\n",
    "\n",
    "> ### Going further\n",
    "\n",
    "> The following set of questions are optionnal addendum to your previous code that allow to understand more in-depth properties about _regularization_ both for neural networks and optimization in general.\n",
    "\n",
    "> 1. (Optional) Implement the *weight decay* constraint in your network.\n",
    "> 2. (Optional) Add the *momentum* to the learning procedure.\n",
    "\n",
    "> *Weight decay* constraint\n",
    "> As nothing constrains the weights in the network, we can note that usually all weights vector given a multiplicative factor might be equivalent, which can stall the learning (and lead to exploding weights). The *weight decay* allows to regularize the learning by penalizing weights with a too wide amplitude. The idea is to add this constraint as a term to the final loss (which leads to an indirect \"pressure\" on the learning process. Therefore, the final loss will be defined as\n",
    "> $$\n",
    "\\begin{equation}\n",
    "\\mathcal{L}_{final}=\\mathcal{L_D} + \\lambda \\sum_{l} \\sum_{i} \\sum_{j} \\left( W_{ij}^{l} \\right)^{2}\n",
    "\\end{equation}\n",
    "$$\n",
    "> where the parameter $\\lambda$ controls the relative importance of the two terms.\n",
    "\n",
    "> *Momentum* in learning\n",
    "> Usually, in complex problems, the gradient can be very noisy and, therefore, the learning might oscillate widely. In order to reduce this problem, we can *smooth* the different gradient updates by retaining the values of the gradient at each iteration and then performing an update based on the latest gradient $\\delta_{i}^{t}$ and the gradient at the previous iteration $\\delta_{i}^{t-1}$. Therefore, a gradient update is applied as\n",
    "> $$\n",
    "\\begin{equation}\n",
    "\\delta_{final}^{t} = \\delta_{i}^{t} + m.\\delta_{i}^{t-1}\n",
    "\\end{equation}\n",
    "$$\n",
    "> with $m$ the momentum parameter, which control the amount of gradient smoothing.\n",
    "\n",
    "</div>\n",
    "\n",
    "***"
   ]
  },
  {
   "cell_type": "code",
   "execution_count": null,
   "metadata": {},
   "outputs": [],
   "source": [
    "\n",
    "######################\n",
    "# YOUR CODE GOES HERE\n",
    "######################\n"
   ]
  },
  {
   "cell_type": "markdown",
   "metadata": {},
   "source": [
    "## (Optional) 3-layer audio classification\n",
    "\n",
    "Once again, note that the following paragraph and subsequent questions are _optional_ but should be a quite simple extension of our previous work on 2-layer networks. If you struggle with the data import mechanisms, you can look down at the PyTorch section (with a **mandatory exercise**) that will provide base code for this aspect. \n",
    "\n",
    "Finally, we will attack a complete audio classification problem and try to perform neural network learning on a set of audio files. The data structure will be the same as the one used for parts 1 and 2. As discussed during the courses, even though a 2-layer neural network can provide non-linear boundaries, it can not perform \"holes\" inside those regions. In order to obtain an improved classification, we will now rely on a 3-layer neural network. The modification to the code of section 3.2 should be minimal, as the back-propagation will be similar for the new layer as one of the two others. We do not develop the math here as it is simply a re-application of the previous rules with an additional layer (which derivatives you should have generalized in the previous exercise).  \n",
    "\n",
    "However, up until now, we only performed *binary classification* problems, but this time we need to obtain a decision rule for multiple classes. Therefore, we cannot rely on simply computing the distance between desired patterns and the obtained binary value. The idea here is to rely on the *softmax regression*, by considering classes as a vector of probabilities. The desired answers will therefore be considered as a set of *probabilities*, where the desired class is $1$ and the others are $0$ (called *one-hot* representation). Then, the cost function will rely on the softmax formulation\n",
    "\n",
    "$$\n",
    "\\begin{equation}\n",
    "\\mathcal{L_D}(\\theta) = - \\frac{1}{m} \\left[ \\sum_{i=1}^{m} \\sum_{j=1}^{k} 1\\left\\{y^{(i)} = j\\right\\} \\log \\frac{e^{\\theta_{j}^{T} x^{(i)}}}{\\sum_{l=1}^{k} e^{ \\theta_{l}^{T} x^{(i)} }}  \\right]\n",
    "\\end{equation}\n",
    "$$\n",
    "\n",
    "Therefore, we compute the output of the softmax by taking \n",
    "\n",
    "$$\n",
    "\\begin{equation}\n",
    "p(y^{(i)} = j | x^{(i)}; \\theta) = \\frac{e^{\\theta_{j}^{T} x^{(i)}}}{\\sum_{l=1}^{k} e^{ \\theta_{l}^{T} x^{(i)}} }\n",
    "\\end{equation}\n",
    "$$\n",
    "\n",
    "By taking derivatives, we can show that the gradient of the softmax layer is\n",
    "\n",
    "$$\n",
    "\\begin{equation}\n",
    "\\nabla_{\\theta_{j}} \\mathcal{L_D}(\\theta) = - \\frac{1}{m} \\sum_{i=1}^{m}{ \\left[ x^{(i)} \\left( 1\\{ y^{(i)} = j\\}  - p(y^{(i)} = j \\mid x^{(i)}, \\theta) \\right) \\right]}\n",
    "\\end{equation}\n",
    "$$"
   ]
  },
  {
   "cell_type": "markdown",
   "metadata": {},
   "source": [
    "### Sweet activation functions\n",
    "\n",
    "As discussed in the course, the interest of stacking layers is that there is an _activation function_, which allows non-linear interactions between the dimensions (and avoids to only compute a single huge affine transform). Although the `sigmoid` function has been historically the most used, there has been some large developments since. Notably the `ReLU` (Rectified Linear Unit) is one of the major difference in modern networks (we will see more about that in a later course)"
   ]
  },
  {
   "cell_type": "code",
   "execution_count": 29,
   "metadata": {},
   "outputs": [],
   "source": [
    "# Function for computing the Sigmoid activation\n",
    "def sigmoid(x):\n",
    "    return 1 / (1 + np.exp(-x))\n",
    "# Derivative\n",
    "def dsigmoid(a):\n",
    "    return a * (1.0 - a)\n",
    "# Function for computing the ReLU activation\n",
    "def relu(x):\n",
    "    return np.maximum(0, x)\n",
    "# Derivative\n",
    "def drelu(x):\n",
    "    if (x < 0):\n",
    "        return 0\n",
    "    return 1\n",
    "# Function for computing the Tanh activation\n",
    "def tanh(x):\n",
    "    return np.tanh(x);\n",
    "# Derivative\n",
    "def dtanh(x): \n",
    "    return np.cosh(x) ^ -2"
   ]
  },
  {
   "cell_type": "markdown",
   "metadata": {},
   "source": [
    "Here, we plot some simple examples of what these activation functions look like. You can try to rely on these functions in your previous training code and witness the differences in training.\n"
   ]
  },
  {
   "cell_type": "code",
   "execution_count": 23,
   "metadata": {},
   "outputs": [
    {
     "data": {},
     "metadata": {},
     "output_type": "display_data"
    },
    {
     "data": {
      "application/vnd.holoviews_exec.v0+json": "",
      "text/html": [
       "<div id='4210'>\n",
       "  <div class=\"bk-root\" id=\"9d0d059d-3d72-4cc5-aadf-97f393bc9b0b\" data-root-id=\"4210\"></div>\n",
       "</div>\n",
       "<script type=\"application/javascript\">(function(root) {\n",
       "  function embed_document(root) {\n",
       "    var docs_json = {\"c6b166bf-d91b-4d39-bc41-f9de9c5a081a\":{\"defs\":[{\"extends\":null,\"module\":null,\"name\":\"ReactiveHTML1\",\"overrides\":[],\"properties\":[]},{\"extends\":null,\"module\":null,\"name\":\"FlexBox1\",\"overrides\":[],\"properties\":[{\"default\":\"flex-start\",\"kind\":null,\"name\":\"align_content\"},{\"default\":\"flex-start\",\"kind\":null,\"name\":\"align_items\"},{\"default\":\"row\",\"kind\":null,\"name\":\"flex_direction\"},{\"default\":\"wrap\",\"kind\":null,\"name\":\"flex_wrap\"},{\"default\":\"flex-start\",\"kind\":null,\"name\":\"justify_content\"}]},{\"extends\":null,\"module\":null,\"name\":\"GridStack1\",\"overrides\":[],\"properties\":[{\"default\":\"warn\",\"kind\":null,\"name\":\"mode\"},{\"default\":null,\"kind\":null,\"name\":\"ncols\"},{\"default\":null,\"kind\":null,\"name\":\"nrows\"},{\"default\":true,\"kind\":null,\"name\":\"allow_resize\"},{\"default\":true,\"kind\":null,\"name\":\"allow_drag\"},{\"default\":[],\"kind\":null,\"name\":\"state\"}]},{\"extends\":null,\"module\":null,\"name\":\"click1\",\"overrides\":[],\"properties\":[{\"default\":\"\",\"kind\":null,\"name\":\"terminal_output\"},{\"default\":\"\",\"kind\":null,\"name\":\"debug_name\"},{\"default\":0,\"kind\":null,\"name\":\"clears\"}]},{\"extends\":null,\"module\":null,\"name\":\"NotificationAreaBase1\",\"overrides\":[],\"properties\":[{\"default\":\"bottom-right\",\"kind\":null,\"name\":\"position\"},{\"default\":0,\"kind\":null,\"name\":\"_clear\"}]},{\"extends\":null,\"module\":null,\"name\":\"NotificationArea1\",\"overrides\":[],\"properties\":[{\"default\":[],\"kind\":null,\"name\":\"notifications\"},{\"default\":\"bottom-right\",\"kind\":null,\"name\":\"position\"},{\"default\":0,\"kind\":null,\"name\":\"_clear\"},{\"default\":[{\"background\":\"#ffc107\",\"icon\":{\"className\":\"fas fa-exclamation-triangle\",\"color\":\"white\",\"tagName\":\"i\"},\"type\":\"warning\"},{\"background\":\"#007bff\",\"icon\":{\"className\":\"fas fa-info-circle\",\"color\":\"white\",\"tagName\":\"i\"},\"type\":\"info\"}],\"kind\":null,\"name\":\"types\"}]},{\"extends\":null,\"module\":null,\"name\":\"Notification\",\"overrides\":[],\"properties\":[{\"default\":null,\"kind\":null,\"name\":\"background\"},{\"default\":3000,\"kind\":null,\"name\":\"duration\"},{\"default\":null,\"kind\":null,\"name\":\"icon\"},{\"default\":\"\",\"kind\":null,\"name\":\"message\"},{\"default\":null,\"kind\":null,\"name\":\"notification_type\"},{\"default\":false,\"kind\":null,\"name\":\"_destroyed\"}]},{\"extends\":null,\"module\":null,\"name\":\"TemplateActions1\",\"overrides\":[],\"properties\":[{\"default\":0,\"kind\":null,\"name\":\"open_modal\"},{\"default\":0,\"kind\":null,\"name\":\"close_modal\"}]},{\"extends\":null,\"module\":null,\"name\":\"MaterialTemplateActions1\",\"overrides\":[],\"properties\":[{\"default\":0,\"kind\":null,\"name\":\"open_modal\"},{\"default\":0,\"kind\":null,\"name\":\"close_modal\"}]}],\"roots\":{\"references\":[{\"attributes\":{},\"id\":\"4153\",\"type\":\"HelpTool\"},{\"attributes\":{},\"id\":\"4095\",\"type\":\"DataRange1d\"},{\"attributes\":{},\"id\":\"4145\",\"type\":\"BasicTicker\"},{\"attributes\":{\"children\":[{\"id\":\"4211\"},{\"id\":\"4209\"},{\"id\":\"4272\"}],\"margin\":[0,0,0,0],\"name\":\"Row00190\"},\"id\":\"4210\",\"type\":\"Row\"},{\"attributes\":{},\"id\":\"4228\",\"type\":\"BasicTickFormatter\"},{\"attributes\":{},\"id\":\"4093\",\"type\":\"DataRange1d\"},{\"attributes\":{\"data\":{\"x\":{\"__ndarray__\":\"AAAAAAAAFMBDYt7OkJgTwIbEvJ0hMRPAyiabbLLJEsANiXk7Q2ISwFDrVwrU+hHAk0022WSTEcDXrxSo9SsRwBoS83aGxBDAXXTRRRddEMBArV8pUOsPwMdxHMdxHA/ATjbZZJNNDsDU+pUCtX4NwFq/UqDWrwzA4YMPPvjgC8BoSMzbGRILwO4MiXk7QwrAdNFFF110CcD7lQK1fqUIwIFav1Kg1gfACB988MEHB8CO4ziO4zgGwBWo9SsFagXAm2yyySabBMAiMW9nSMwDwKj1KwVq/QLAL7rooosuAsC1fqVArV8BwDxDYt7OkADAhA8++OCD/7+SmLczJOb9v54hMW9nSPy/qqqqqqqq+r+4MyTm7Qz5v8S8nSExb/e/0kUXXXTR9b/ezpCYtzP0v+xXCtT6lfK/+OCDDz748L8I1PqVArXuvyjm7QyJeeu/QPjggw8+6L9YCtT6lQLlv3Acx3Ecx+G/IF100UUX3b9QgVq/UqDWv4ClQK1fKdC/YJNNNtlkw78Ab2dIzNupvwBvZ0jM26k/YJNNNtlkwz+ApUCtXynQP1CBWr9SoNY/EF100UUX3T9wHMdxHMfhP1gK1PqVAuU/QPjggw8+6D8g5u0MiXnrPwjU+pUCte4/+OCDDz748D/sVwrU+pXyP9zOkJi3M/Q/0EUXXXTR9T/EvJ0hMW/3P7gzJObtDPk/rKqqqqqq+j+cITFvZ0j8P5CYtzMk5v0/hA8++OCD/z88Q2LezpAAQLR+pUCtXwFALrrooosuAkCo9SsFav0CQCIxb2dIzANAmmyyySabBEAUqPUrBWoFQI7jOI7jOAZACB988MEHB0CAWr9SoNYHQPyVArV+pQhAdNFFF110CUDsDIl5O0MKQGhIzNsZEgtA4IMPPvjgC0Bcv1Kg1q8MQNT6lQK1fg1ATDbZZJNNDkDIcRzHcRwPQECtXylQ6w9AXHTRRRddEEAaEvN2hsQQQNavFKj1KxFAlE022WSTEUBQ61cK1PoRQAyJeTtDYhJAyiabbLLJEkCGxLydITETQERi3s6QmBNAAAAAAAAAFEA=\",\"dtype\":\"float64\",\"order\":\"little\",\"shape\":[100]},\"y\":{\"__ndarray__\":\"jo9jffZpez8zICEkXk5+P3YuqyAfwIA/p+JVusaDgj8N8g/shXaEP/byi48qnYY/0BjB9/n8iD/WZNY4u5uLP6vI/AXCf44/EJSHDf3XkD/6lO+Q+ZmSP06i3332iZQ/VzdyJ3Kslj8nJDSWTwaZPwVPZcvcnJs/Nz7K0Nh1nj/SLj+0vMugP2FCABM4hKI/cEoQV/dnpD/TN0jn1HqmPztu44ftwKg/IjxyKqA+qz9GueiGjPitP6x4HxzIebA/Bir+B2Easj+U/wqnteCzPwKDQzN/z7U/d+J5foXptz/t5tFglzG6PykCu3GBqrw/UGnG7AJXvz+DDaxX4BzBP1E7QSabqsI/LnfnpNJVxD9YIjhZgR/GPxsQCKdxCMg/578cdjMRyj/8P9qtETrMP6bqzeUHg84/wifXXdx10D+UG9WmsrnRP5JJRzBzDNM/B5ki3VNt1D+dUU4YU9vVP7IneGw4Vdc/QWJr05bZ2D+hWanP0GbaPzYfqEoe+9s/yqt2F5SU3T+jHszeLDHfP6/wmZBpZ+A/G6pE9LU14T9l8KvacALiPy9TK5iXzOI/3U5KljST4z8n7MPJY1XkPzLX2HNWEuU/fbNuEVbJ5T81W9xnxnnmPzZylawmI+c/H2wU0RHF5z9XhYwGPl/oPwBwiZR78eg/BtB4IrN76T/6+z2W4/3pP2n3sakfeOo/NSLGVovq6j8ssW82WVXrP5/8FOrHuOs/1jJnoh8V7D+6n8jRr2rsPyHD5RPNuew/scMwUM8C7T+gj5cZEEbtPw2gHkvpg+0/vjoA37O87T/qEHz8xvDtP2t0kTd3IO4/PtxY/RVM7j8byYEn8XPuP4R8i7FSmO4/WPuOioC57j/b+89+vNfuPxMNvDRE8+4/Dq55OVEM7z+I1aQZGSPvP95eToPNN+8/Rm7EbpxK7z/tAhFMsFvvP1iDeDMwa+8/YMOTF0B57z/eDOj3AIbvP22mHBORke8/nfsgGAyc7z800MFVi6XvPzjAT+glru8/dqgW5fC17z9GU32D/7zvP8C9t0Njw+8/4jgFEyzJ7z8=\",\"dtype\":\"float64\",\"order\":\"little\",\"shape\":[100]}},\"selected\":{\"id\":\"4234\"},\"selection_policy\":{\"id\":\"4233\"}},\"id\":\"4123\",\"type\":\"ColumnDataSource\"},{\"attributes\":{\"children\":[{\"id\":\"4090\"},{\"id\":\"4129\"},{\"id\":\"4168\"}]},\"id\":\"4208\",\"type\":\"Row\"},{\"attributes\":{},\"id\":\"4216\",\"type\":\"BasicTickFormatter\"},{\"attributes\":{\"source\":{\"id\":\"4201\"}},\"id\":\"4206\",\"type\":\"CDSView\"},{\"attributes\":{},\"id\":\"4229\",\"type\":\"AllLabels\"},{\"attributes\":{\"coordinates\":null,\"group\":null,\"text\":\"Sigmoid\",\"text_color\":\"#E0E0E0\",\"text_font\":\"Josefin Sans\",\"text_font_size\":\"2.1em\"},\"id\":\"4091\",\"type\":\"Title\"},{\"attributes\":{\"axis_label_standoff\":10,\"axis_label_text_color\":\"#FFFFFF\",\"axis_label_text_font\":\"Josefin Sans\",\"axis_label_text_font_size\":\"1.9em\",\"axis_label_text_font_style\":\"bold\",\"axis_line_alpha\":0.4,\"axis_line_color\":\"#E0E0E0\",\"coordinates\":null,\"formatter\":{\"id\":\"4216\"},\"group\":null,\"major_label_policy\":{\"id\":\"4217\"},\"major_label_text_color\":\"#E0E0E0\",\"major_label_text_font\":\"Josefin Sans\",\"major_label_text_font_size\":\"1.15em\",\"major_tick_line_alpha\":0.4,\"major_tick_line_color\":\"#E0E0E0\",\"minor_tick_line_alpha\":0.4,\"minor_tick_line_color\":\"#E0E0E0\",\"ticker\":{\"id\":\"4106\"}},\"id\":\"4105\",\"type\":\"LinearAxis\"},{\"attributes\":{},\"id\":\"4217\",\"type\":\"AllLabels\"},{\"attributes\":{\"style\":{\"font-size\":\"250%\"},\"text\":\"Different activation functions\"},\"id\":\"4207\",\"type\":\"Div\"},{\"attributes\":{\"axis_label_standoff\":10,\"axis_label_text_color\":\"#FFFFFF\",\"axis_label_text_font\":\"Josefin Sans\",\"axis_label_text_font_size\":\"1.9em\",\"axis_label_text_font_style\":\"bold\",\"axis_line_alpha\":0.4,\"axis_line_color\":\"#E0E0E0\",\"coordinates\":null,\"formatter\":{\"id\":\"4231\"},\"group\":null,\"major_label_policy\":{\"id\":\"4232\"},\"major_label_text_color\":\"#E0E0E0\",\"major_label_text_font\":\"Josefin Sans\",\"major_label_text_font_size\":\"1.15em\",\"major_tick_line_alpha\":0.4,\"major_tick_line_color\":\"#E0E0E0\",\"minor_tick_line_alpha\":0.4,\"minor_tick_line_color\":\"#E0E0E0\",\"ticker\":{\"id\":\"4180\"}},\"id\":\"4179\",\"type\":\"LinearAxis\"},{\"attributes\":{},\"id\":\"4231\",\"type\":\"BasicTickFormatter\"},{\"attributes\":{},\"id\":\"4097\",\"type\":\"LinearScale\"},{\"attributes\":{},\"id\":\"4219\",\"type\":\"BasicTickFormatter\"},{\"attributes\":{\"line_alpha\":0.2,\"line_color\":\"yellow\",\"line_width\":4,\"x\":{\"field\":\"x\"},\"y\":{\"field\":\"y\"}},\"id\":\"4204\",\"type\":\"Line\"},{\"attributes\":{},\"id\":\"4239\",\"type\":\"UnionRenderers\"},{\"attributes\":{\"line_alpha\":0.1,\"line_color\":\"yellow\",\"line_width\":4,\"x\":{\"field\":\"x\"},\"y\":{\"field\":\"y\"}},\"id\":\"4203\",\"type\":\"Line\"},{\"attributes\":{},\"id\":\"4232\",\"type\":\"AllLabels\"},{\"attributes\":{\"line_alpha\":0.1,\"line_color\":\"orange\",\"line_width\":4,\"x\":{\"field\":\"x\"},\"y\":{\"field\":\"y\"}},\"id\":\"4164\",\"type\":\"Line\"},{\"attributes\":{},\"id\":\"4220\",\"type\":\"AllLabels\"},{\"attributes\":{},\"id\":\"4240\",\"type\":\"Selection\"},{\"attributes\":{},\"id\":\"4190\",\"type\":\"SaveTool\"},{\"attributes\":{},\"id\":\"4192\",\"type\":\"HelpTool\"},{\"attributes\":{\"axis\":{\"id\":\"4144\"},\"coordinates\":null,\"dimension\":1,\"grid_line_alpha\":0.15,\"grid_line_color\":\"#E0E0E0\",\"group\":null,\"ticker\":null},\"id\":\"4147\",\"type\":\"Grid\"},{\"attributes\":{\"children\":[{\"id\":\"4207\"},{\"id\":\"4208\"}]},\"id\":\"4209\",\"type\":\"Column\"},{\"attributes\":{},\"id\":\"4191\",\"type\":\"ResetTool\"},{\"attributes\":{\"overlay\":{\"id\":\"4193\"}},\"id\":\"4189\",\"type\":\"BoxZoomTool\"},{\"attributes\":{\"margin\":[5,5,5,5],\"name\":\"HSpacer00187\",\"sizing_mode\":\"stretch_width\"},\"id\":\"4272\",\"type\":\"Spacer\"},{\"attributes\":{\"overlay\":{\"id\":\"4154\"}},\"id\":\"4150\",\"type\":\"BoxZoomTool\"},{\"attributes\":{},\"id\":\"4233\",\"type\":\"UnionRenderers\"},{\"attributes\":{\"bottom_units\":\"screen\",\"coordinates\":null,\"fill_alpha\":0.5,\"fill_color\":\"lightgrey\",\"group\":null,\"left_units\":\"screen\",\"level\":\"overlay\",\"line_alpha\":1.0,\"line_color\":\"black\",\"line_dash\":[4,4],\"line_width\":2,\"right_units\":\"screen\",\"syncable\":false,\"top_units\":\"screen\"},\"id\":\"4193\",\"type\":\"BoxAnnotation\"},{\"attributes\":{},\"id\":\"4187\",\"type\":\"PanTool\"},{\"attributes\":{},\"id\":\"4234\",\"type\":\"Selection\"},{\"attributes\":{\"line_alpha\":0.1,\"line_color\":\"red\",\"line_width\":4,\"x\":{\"field\":\"x\"},\"y\":{\"field\":\"y\"}},\"id\":\"4125\",\"type\":\"Line\"},{\"attributes\":{},\"id\":\"4180\",\"type\":\"BasicTicker\"},{\"attributes\":{},\"id\":\"4171\",\"type\":\"DataRange1d\"},{\"attributes\":{\"data\":{\"x\":{\"__ndarray__\":\"AAAAAAAAFMBDYt7OkJgTwIbEvJ0hMRPAyiabbLLJEsANiXk7Q2ISwFDrVwrU+hHAk0022WSTEcDXrxSo9SsRwBoS83aGxBDAXXTRRRddEMBArV8pUOsPwMdxHMdxHA/ATjbZZJNNDsDU+pUCtX4NwFq/UqDWrwzA4YMPPvjgC8BoSMzbGRILwO4MiXk7QwrAdNFFF110CcD7lQK1fqUIwIFav1Kg1gfACB988MEHB8CO4ziO4zgGwBWo9SsFagXAm2yyySabBMAiMW9nSMwDwKj1KwVq/QLAL7rooosuAsC1fqVArV8BwDxDYt7OkADAhA8++OCD/7+SmLczJOb9v54hMW9nSPy/qqqqqqqq+r+4MyTm7Qz5v8S8nSExb/e/0kUXXXTR9b/ezpCYtzP0v+xXCtT6lfK/+OCDDz748L8I1PqVArXuvyjm7QyJeeu/QPjggw8+6L9YCtT6lQLlv3Acx3Ecx+G/IF100UUX3b9QgVq/UqDWv4ClQK1fKdC/YJNNNtlkw78Ab2dIzNupvwBvZ0jM26k/YJNNNtlkwz+ApUCtXynQP1CBWr9SoNY/EF100UUX3T9wHMdxHMfhP1gK1PqVAuU/QPjggw8+6D8g5u0MiXnrPwjU+pUCte4/+OCDDz748D/sVwrU+pXyP9zOkJi3M/Q/0EUXXXTR9T/EvJ0hMW/3P7gzJObtDPk/rKqqqqqq+j+cITFvZ0j8P5CYtzMk5v0/hA8++OCD/z88Q2LezpAAQLR+pUCtXwFALrrooosuAkCo9SsFav0CQCIxb2dIzANAmmyyySabBEAUqPUrBWoFQI7jOI7jOAZACB988MEHB0CAWr9SoNYHQPyVArV+pQhAdNFFF110CUDsDIl5O0MKQGhIzNsZEgtA4IMPPvjgC0Bcv1Kg1q8MQNT6lQK1fg1ATDbZZJNNDkDIcRzHcRwPQECtXylQ6w9AXHTRRRddEEAaEvN2hsQQQNavFKj1KxFAlE022WSTEUBQ61cK1PoRQAyJeTtDYhJAyiabbLLJEkCGxLydITETQERi3s6QmBNAAAAAAAAAFEA=\",\"dtype\":\"float64\",\"order\":\"little\",\"shape\":[100]},\"y\":{\"__ndarray__\":\"AAAAAAAAAAAAAAAAAAAAAAAAAAAAAAAAAAAAAAAAAAAAAAAAAAAAAAAAAAAAAAAAAAAAAAAAAAAAAAAAAAAAAAAAAAAAAAAAAAAAAAAAAAAAAAAAAAAAAAAAAAAAAAAAAAAAAAAAAAAAAAAAAAAAAAAAAAAAAAAAAAAAAAAAAAAAAAAAAAAAAAAAAAAAAAAAAAAAAAAAAAAAAAAAAAAAAAAAAAAAAAAAAAAAAAAAAAAAAAAAAAAAAAAAAAAAAAAAAAAAAAAAAAAAAAAAAAAAAAAAAAAAAAAAAAAAAAAAAAAAAAAAAAAAAAAAAAAAAAAAAAAAAAAAAAAAAAAAAAAAAAAAAAAAAAAAAAAAAAAAAAAAAAAAAAAAAAAAAAAAAAAAAAAAAAAAAAAAAAAAAAAAAAAAAAAAAAAAAAAAAAAAAAAAAAAAAAAAAAAAAAAAAAAAAAAAAAAAAAAAAAAAAAAAAAAAAAAAAAAAAAAAAAAAAAAAAAAAAAAAAAAAAAAAAAAAAAAAAAAAAAAAAAAAAAAAAABvZ0jM26k/YJNNNtlkwz+ApUCtXynQP1CBWr9SoNY/EF100UUX3T9wHMdxHMfhP1gK1PqVAuU/QPjggw8+6D8g5u0MiXnrPwjU+pUCte4/+OCDDz748D/sVwrU+pXyP9zOkJi3M/Q/0EUXXXTR9T/EvJ0hMW/3P7gzJObtDPk/rKqqqqqq+j+cITFvZ0j8P5CYtzMk5v0/hA8++OCD/z88Q2LezpAAQLR+pUCtXwFALrrooosuAkCo9SsFav0CQCIxb2dIzANAmmyyySabBEAUqPUrBWoFQI7jOI7jOAZACB988MEHB0CAWr9SoNYHQPyVArV+pQhAdNFFF110CUDsDIl5O0MKQGhIzNsZEgtA4IMPPvjgC0Bcv1Kg1q8MQNT6lQK1fg1ATDbZZJNNDkDIcRzHcRwPQECtXylQ6w9AXHTRRRddEEAaEvN2hsQQQNavFKj1KxFAlE022WSTEUBQ61cK1PoRQAyJeTtDYhJAyiabbLLJEkCGxLydITETQERi3s6QmBNAAAAAAAAAFEA=\",\"dtype\":\"float64\",\"order\":\"little\",\"shape\":[100]}},\"selected\":{\"id\":\"4240\"},\"selection_policy\":{\"id\":\"4239\"}},\"id\":\"4201\",\"type\":\"ColumnDataSource\"},{\"attributes\":{\"bottom_units\":\"screen\",\"coordinates\":null,\"fill_alpha\":0.5,\"fill_color\":\"lightgrey\",\"group\":null,\"left_units\":\"screen\",\"level\":\"overlay\",\"line_alpha\":1.0,\"line_color\":\"black\",\"line_dash\":[4,4],\"line_width\":2,\"right_units\":\"screen\",\"syncable\":false,\"top_units\":\"screen\"},\"id\":\"4154\",\"type\":\"BoxAnnotation\"},{\"attributes\":{\"coordinates\":null,\"group\":null,\"text\":\"Tanh\",\"text_color\":\"#E0E0E0\",\"text_font\":\"Josefin Sans\",\"text_font_size\":\"2.1em\"},\"id\":\"4130\",\"type\":\"Title\"},{\"attributes\":{\"line_alpha\":0.2,\"line_color\":\"orange\",\"line_width\":4,\"x\":{\"field\":\"x\"},\"y\":{\"field\":\"y\"}},\"id\":\"4165\",\"type\":\"Line\"},{\"attributes\":{},\"id\":\"4132\",\"type\":\"DataRange1d\"},{\"attributes\":{\"background_fill_alpha\":0.9,\"background_fill_color\":\"#0f0f0f\",\"below\":[{\"id\":\"4101\"}],\"border_fill_alpha\":0.8,\"border_fill_color\":\"#111111\",\"center\":[{\"id\":\"4104\"},{\"id\":\"4108\"}],\"height\":250,\"left\":[{\"id\":\"4105\"}],\"outline_line_alpha\":0.25,\"outline_line_color\":\"#E0E0E0\",\"outline_line_width\":3,\"renderers\":[{\"id\":\"4127\"}],\"title\":{\"id\":\"4091\"},\"toolbar\":{\"id\":\"4116\"},\"width\":400,\"x_range\":{\"id\":\"4093\"},\"x_scale\":{\"id\":\"4097\"},\"y_range\":{\"id\":\"4095\"},\"y_scale\":{\"id\":\"4099\"}},\"id\":\"4090\",\"subtype\":\"Figure\",\"type\":\"Plot\"},{\"attributes\":{\"tools\":[{\"id\":\"4109\"},{\"id\":\"4110\"},{\"id\":\"4111\"},{\"id\":\"4112\"},{\"id\":\"4113\"},{\"id\":\"4114\"}]},\"id\":\"4116\",\"type\":\"Toolbar\"},{\"attributes\":{},\"id\":\"4110\",\"type\":\"WheelZoomTool\"},{\"attributes\":{},\"id\":\"4109\",\"type\":\"PanTool\"},{\"attributes\":{\"axis\":{\"id\":\"4179\"},\"coordinates\":null,\"grid_line_alpha\":0.15,\"grid_line_color\":\"#E0E0E0\",\"group\":null,\"ticker\":null},\"id\":\"4182\",\"type\":\"Grid\"},{\"attributes\":{\"overlay\":{\"id\":\"4115\"}},\"id\":\"4111\",\"type\":\"BoxZoomTool\"},{\"attributes\":{},\"id\":\"4112\",\"type\":\"SaveTool\"},{\"attributes\":{\"axis_label_standoff\":10,\"axis_label_text_color\":\"#FFFFFF\",\"axis_label_text_font\":\"Josefin Sans\",\"axis_label_text_font_size\":\"1.9em\",\"axis_label_text_font_style\":\"bold\",\"axis_line_alpha\":0.4,\"axis_line_color\":\"#E0E0E0\",\"coordinates\":null,\"formatter\":{\"id\":\"4228\"},\"group\":null,\"major_label_policy\":{\"id\":\"4229\"},\"major_label_text_color\":\"#E0E0E0\",\"major_label_text_font\":\"Josefin Sans\",\"major_label_text_font_size\":\"1.15em\",\"major_tick_line_alpha\":0.4,\"major_tick_line_color\":\"#E0E0E0\",\"minor_tick_line_alpha\":0.4,\"minor_tick_line_color\":\"#E0E0E0\",\"ticker\":{\"id\":\"4184\"}},\"id\":\"4183\",\"type\":\"LinearAxis\"},{\"attributes\":{},\"id\":\"4113\",\"type\":\"ResetTool\"},{\"attributes\":{},\"id\":\"4222\",\"type\":\"BasicTickFormatter\"},{\"attributes\":{},\"id\":\"4175\",\"type\":\"LinearScale\"},{\"attributes\":{},\"id\":\"4141\",\"type\":\"BasicTicker\"},{\"attributes\":{},\"id\":\"4102\",\"type\":\"BasicTicker\"},{\"attributes\":{},\"id\":\"4138\",\"type\":\"LinearScale\"},{\"attributes\":{},\"id\":\"4223\",\"type\":\"AllLabels\"},{\"attributes\":{},\"id\":\"4149\",\"type\":\"WheelZoomTool\"},{\"attributes\":{},\"id\":\"4152\",\"type\":\"ResetTool\"},{\"attributes\":{\"line_color\":\"orange\",\"line_width\":4,\"x\":{\"field\":\"x\"},\"y\":{\"field\":\"y\"}},\"id\":\"4163\",\"type\":\"Line\"},{\"attributes\":{},\"id\":\"4225\",\"type\":\"BasicTickFormatter\"},{\"attributes\":{},\"id\":\"4136\",\"type\":\"LinearScale\"},{\"attributes\":{\"coordinates\":null,\"data_source\":{\"id\":\"4162\"},\"glyph\":{\"id\":\"4163\"},\"group\":null,\"hover_glyph\":null,\"muted_glyph\":{\"id\":\"4165\"},\"nonselection_glyph\":{\"id\":\"4164\"},\"view\":{\"id\":\"4167\"}},\"id\":\"4166\",\"type\":\"GlyphRenderer\"},{\"attributes\":{},\"id\":\"4226\",\"type\":\"AllLabels\"},{\"attributes\":{\"axis\":{\"id\":\"4140\"},\"coordinates\":null,\"grid_line_alpha\":0.15,\"grid_line_color\":\"#E0E0E0\",\"group\":null,\"ticker\":null},\"id\":\"4143\",\"type\":\"Grid\"},{\"attributes\":{},\"id\":\"4134\",\"type\":\"DataRange1d\"},{\"attributes\":{\"line_color\":\"red\",\"line_width\":4,\"x\":{\"field\":\"x\"},\"y\":{\"field\":\"y\"}},\"id\":\"4124\",\"type\":\"Line\"},{\"attributes\":{},\"id\":\"4177\",\"type\":\"LinearScale\"},{\"attributes\":{},\"id\":\"4236\",\"type\":\"UnionRenderers\"},{\"attributes\":{\"background_fill_alpha\":0.9,\"background_fill_color\":\"#0f0f0f\",\"below\":[{\"id\":\"4140\"}],\"border_fill_alpha\":0.8,\"border_fill_color\":\"#111111\",\"center\":[{\"id\":\"4143\"},{\"id\":\"4147\"}],\"height\":250,\"left\":[{\"id\":\"4144\"}],\"outline_line_alpha\":0.25,\"outline_line_color\":\"#E0E0E0\",\"outline_line_width\":3,\"renderers\":[{\"id\":\"4166\"}],\"title\":{\"id\":\"4130\"},\"toolbar\":{\"id\":\"4155\"},\"width\":400,\"x_range\":{\"id\":\"4132\"},\"x_scale\":{\"id\":\"4136\"},\"y_range\":{\"id\":\"4134\"},\"y_scale\":{\"id\":\"4138\"}},\"id\":\"4129\",\"subtype\":\"Figure\",\"type\":\"Plot\"},{\"attributes\":{\"source\":{\"id\":\"4123\"}},\"id\":\"4128\",\"type\":\"CDSView\"},{\"attributes\":{},\"id\":\"4237\",\"type\":\"Selection\"},{\"attributes\":{\"line_alpha\":0.2,\"line_color\":\"red\",\"line_width\":4,\"x\":{\"field\":\"x\"},\"y\":{\"field\":\"y\"}},\"id\":\"4126\",\"type\":\"Line\"},{\"attributes\":{\"line_color\":\"yellow\",\"line_width\":4,\"x\":{\"field\":\"x\"},\"y\":{\"field\":\"y\"}},\"id\":\"4202\",\"type\":\"Line\"},{\"attributes\":{\"coordinates\":null,\"group\":null,\"text\":\"ReLU\",\"text_color\":\"#E0E0E0\",\"text_font\":\"Josefin Sans\",\"text_font_size\":\"2.1em\"},\"id\":\"4169\",\"type\":\"Title\"},{\"attributes\":{\"data\":{\"x\":{\"__ndarray__\":\"AAAAAAAAFMBDYt7OkJgTwIbEvJ0hMRPAyiabbLLJEsANiXk7Q2ISwFDrVwrU+hHAk0022WSTEcDXrxSo9SsRwBoS83aGxBDAXXTRRRddEMBArV8pUOsPwMdxHMdxHA/ATjbZZJNNDsDU+pUCtX4NwFq/UqDWrwzA4YMPPvjgC8BoSMzbGRILwO4MiXk7QwrAdNFFF110CcD7lQK1fqUIwIFav1Kg1gfACB988MEHB8CO4ziO4zgGwBWo9SsFagXAm2yyySabBMAiMW9nSMwDwKj1KwVq/QLAL7rooosuAsC1fqVArV8BwDxDYt7OkADAhA8++OCD/7+SmLczJOb9v54hMW9nSPy/qqqqqqqq+r+4MyTm7Qz5v8S8nSExb/e/0kUXXXTR9b/ezpCYtzP0v+xXCtT6lfK/+OCDDz748L8I1PqVArXuvyjm7QyJeeu/QPjggw8+6L9YCtT6lQLlv3Acx3Ecx+G/IF100UUX3b9QgVq/UqDWv4ClQK1fKdC/YJNNNtlkw78Ab2dIzNupvwBvZ0jM26k/YJNNNtlkwz+ApUCtXynQP1CBWr9SoNY/EF100UUX3T9wHMdxHMfhP1gK1PqVAuU/QPjggw8+6D8g5u0MiXnrPwjU+pUCte4/+OCDDz748D/sVwrU+pXyP9zOkJi3M/Q/0EUXXXTR9T/EvJ0hMW/3P7gzJObtDPk/rKqqqqqq+j+cITFvZ0j8P5CYtzMk5v0/hA8++OCD/z88Q2LezpAAQLR+pUCtXwFALrrooosuAkCo9SsFav0CQCIxb2dIzANAmmyyySabBEAUqPUrBWoFQI7jOI7jOAZACB988MEHB0CAWr9SoNYHQPyVArV+pQhAdNFFF110CUDsDIl5O0MKQGhIzNsZEgtA4IMPPvjgC0Bcv1Kg1q8MQNT6lQK1fg1ATDbZZJNNDkDIcRzHcRwPQECtXylQ6w9AXHTRRRddEEAaEvN2hsQQQNavFKj1KxFAlE022WSTEUBQ61cK1PoRQAyJeTtDYhJAyiabbLLJEkCGxLydITETQERi3s6QmBNAAAAAAAAAFEA=\",\"dtype\":\"float64\",\"order\":\"little\",\"shape\":[100]},\"y\":{\"__ndarray__\":\"Ed9olkH/779xHDX2Fv/vv2PTXMvi/u+/tykv86L+779nyqrQVP7vv5RqJTH1/e+/ANXYKoD9778+DPrz8Pzvv+R3srBB/O+/seP1NWv7778B7b6+ZPrvvzRIspAj+e+/GFCDjJr377/6GqylufXvv5SfGjxt8++/g1tUUZ3w7782/jqRLO3vvwpKByX36O+/kLQ0RdHj778FKfN8hd3vv2dPQ4/S1e+/GGkq62jM77+jbX6Z58Dvv1i8zYvYsu+/1CEZMayh779DqukytIzvv2zAbjwdc++/qVLVrudT779zlYUr3y3vv8N/uOiQ/+6/fDIb2kDH7r+tmFja3YLuv0cK+Tj1L+6/zv7GYKbL7b/XD/S8l1LtvzWhkZzuwOy/ljVLlkwS7L8lhcTR1UHrvy50/oZESuq/sMhCwQ4m6b89c/imo8/nv3hPlK3EQea/JYsBmPx35L/eJkVXMW/iv9AYbbpGJuC/sE3YDH49279KKI4ofLrVvzdYpvc6p8+/IIThpDM/w7+rNaLaLNapv6s1otos1qk/IIThpDM/wz83WKb3OqfPP0oojih8utU/o03YDH492z/QGG26RibgP94mRVcxb+I/JYsBmPx35D9zT5StxEHmPz1z+Kajz+c/sMhCwQ4m6T8udP6GRErqPySFxNHVQes/lTVLlkwS7D81oZGc7sDsP9cP9LyXUu0/z/7GYKbL7T9GCvk49S/uP62YWNrdgu4/fDIb2kDH7j/Df7jokP/uP3OVhSvfLe8/qVLVrudT7z9swG48HXPvP0Oq6TK0jO8/1CEZMayh7z9YvM2L2LLvP6NtfpnnwO8/GGkq62jM7z9nT0OP0tXvPwUp83yF3e8/kLQ0RdHj7z8KSgcl9+jvPzb+OpEs7e8/g1tUUZ3w7z+Unxo8bfPvP/oarKW59e8/GFCDjJr37z80SLKQI/nvPwHtvr5k+u8/seP1NWv77z/kd7KwQfzvPz4M+vPw/O8/ANXYKoD97z+UaiUx9f3vP2fKqtBU/u8/tykv86L+7z9j01zL4v7vP3EcNfYW/+8/Ed9olkH/7z8=\",\"dtype\":\"float64\",\"order\":\"little\",\"shape\":[100]}},\"selected\":{\"id\":\"4237\"},\"selection_policy\":{\"id\":\"4236\"}},\"id\":\"4162\",\"type\":\"ColumnDataSource\"},{\"attributes\":{},\"id\":\"4151\",\"type\":\"SaveTool\"},{\"attributes\":{},\"id\":\"4184\",\"type\":\"BasicTicker\"},{\"attributes\":{\"axis\":{\"id\":\"4183\"},\"coordinates\":null,\"dimension\":1,\"grid_line_alpha\":0.15,\"grid_line_color\":\"#E0E0E0\",\"group\":null,\"ticker\":null},\"id\":\"4186\",\"type\":\"Grid\"},{\"attributes\":{},\"id\":\"4106\",\"type\":\"BasicTicker\"},{\"attributes\":{\"bottom_units\":\"screen\",\"coordinates\":null,\"fill_alpha\":0.5,\"fill_color\":\"lightgrey\",\"group\":null,\"left_units\":\"screen\",\"level\":\"overlay\",\"line_alpha\":1.0,\"line_color\":\"black\",\"line_dash\":[4,4],\"line_width\":2,\"right_units\":\"screen\",\"syncable\":false,\"top_units\":\"screen\"},\"id\":\"4115\",\"type\":\"BoxAnnotation\"},{\"attributes\":{\"tools\":[{\"id\":\"4148\"},{\"id\":\"4149\"},{\"id\":\"4150\"},{\"id\":\"4151\"},{\"id\":\"4152\"},{\"id\":\"4153\"}]},\"id\":\"4155\",\"type\":\"Toolbar\"},{\"attributes\":{\"background_fill_alpha\":0.9,\"background_fill_color\":\"#0f0f0f\",\"below\":[{\"id\":\"4179\"}],\"border_fill_alpha\":0.8,\"border_fill_color\":\"#111111\",\"center\":[{\"id\":\"4182\"},{\"id\":\"4186\"}],\"height\":250,\"left\":[{\"id\":\"4183\"}],\"outline_line_alpha\":0.25,\"outline_line_color\":\"#E0E0E0\",\"outline_line_width\":3,\"renderers\":[{\"id\":\"4205\"}],\"title\":{\"id\":\"4169\"},\"toolbar\":{\"id\":\"4194\"},\"width\":400,\"x_range\":{\"id\":\"4171\"},\"x_scale\":{\"id\":\"4175\"},\"y_range\":{\"id\":\"4173\"},\"y_scale\":{\"id\":\"4177\"}},\"id\":\"4168\",\"subtype\":\"Figure\",\"type\":\"Plot\"},{\"attributes\":{\"axis\":{\"id\":\"4105\"},\"coordinates\":null,\"dimension\":1,\"grid_line_alpha\":0.15,\"grid_line_color\":\"#E0E0E0\",\"group\":null,\"ticker\":null},\"id\":\"4108\",\"type\":\"Grid\"},{\"attributes\":{},\"id\":\"4188\",\"type\":\"WheelZoomTool\"},{\"attributes\":{\"source\":{\"id\":\"4162\"}},\"id\":\"4167\",\"type\":\"CDSView\"},{\"attributes\":{\"axis_label_standoff\":10,\"axis_label_text_color\":\"#FFFFFF\",\"axis_label_text_font\":\"Josefin Sans\",\"axis_label_text_font_size\":\"1.9em\",\"axis_label_text_font_style\":\"bold\",\"axis_line_alpha\":0.4,\"axis_line_color\":\"#E0E0E0\",\"coordinates\":null,\"formatter\":{\"id\":\"4225\"},\"group\":null,\"major_label_policy\":{\"id\":\"4226\"},\"major_label_text_color\":\"#E0E0E0\",\"major_label_text_font\":\"Josefin Sans\",\"major_label_text_font_size\":\"1.15em\",\"major_tick_line_alpha\":0.4,\"major_tick_line_color\":\"#E0E0E0\",\"minor_tick_line_alpha\":0.4,\"minor_tick_line_color\":\"#E0E0E0\",\"ticker\":{\"id\":\"4141\"}},\"id\":\"4140\",\"type\":\"LinearAxis\"},{\"attributes\":{\"tools\":[{\"id\":\"4187\"},{\"id\":\"4188\"},{\"id\":\"4189\"},{\"id\":\"4190\"},{\"id\":\"4191\"},{\"id\":\"4192\"}]},\"id\":\"4194\",\"type\":\"Toolbar\"},{\"attributes\":{},\"id\":\"4099\",\"type\":\"LinearScale\"},{\"attributes\":{\"axis_label_standoff\":10,\"axis_label_text_color\":\"#FFFFFF\",\"axis_label_text_font\":\"Josefin Sans\",\"axis_label_text_font_size\":\"1.9em\",\"axis_label_text_font_style\":\"bold\",\"axis_line_alpha\":0.4,\"axis_line_color\":\"#E0E0E0\",\"coordinates\":null,\"formatter\":{\"id\":\"4219\"},\"group\":null,\"major_label_policy\":{\"id\":\"4220\"},\"major_label_text_color\":\"#E0E0E0\",\"major_label_text_font\":\"Josefin Sans\",\"major_label_text_font_size\":\"1.15em\",\"major_tick_line_alpha\":0.4,\"major_tick_line_color\":\"#E0E0E0\",\"minor_tick_line_alpha\":0.4,\"minor_tick_line_color\":\"#E0E0E0\",\"ticker\":{\"id\":\"4102\"}},\"id\":\"4101\",\"type\":\"LinearAxis\"},{\"attributes\":{\"axis_label_standoff\":10,\"axis_label_text_color\":\"#FFFFFF\",\"axis_label_text_font\":\"Josefin Sans\",\"axis_label_text_font_size\":\"1.9em\",\"axis_label_text_font_style\":\"bold\",\"axis_line_alpha\":0.4,\"axis_line_color\":\"#E0E0E0\",\"coordinates\":null,\"formatter\":{\"id\":\"4222\"},\"group\":null,\"major_label_policy\":{\"id\":\"4223\"},\"major_label_text_color\":\"#E0E0E0\",\"major_label_text_font\":\"Josefin Sans\",\"major_label_text_font_size\":\"1.15em\",\"major_tick_line_alpha\":0.4,\"major_tick_line_color\":\"#E0E0E0\",\"minor_tick_line_alpha\":0.4,\"minor_tick_line_color\":\"#E0E0E0\",\"ticker\":{\"id\":\"4145\"}},\"id\":\"4144\",\"type\":\"LinearAxis\"},{\"attributes\":{\"client_comm_id\":\"400ac8e23f2e4acfb1875b46ea760e99\",\"comm_id\":\"b3a2ab33f97f433e8825b36c625b8d7b\",\"plot_id\":\"4210\"},\"id\":\"4363\",\"type\":\"panel.models.comm_manager.CommManager\"},{\"attributes\":{},\"id\":\"4114\",\"type\":\"HelpTool\"},{\"attributes\":{\"coordinates\":null,\"data_source\":{\"id\":\"4201\"},\"glyph\":{\"id\":\"4202\"},\"group\":null,\"hover_glyph\":null,\"muted_glyph\":{\"id\":\"4204\"},\"nonselection_glyph\":{\"id\":\"4203\"},\"view\":{\"id\":\"4206\"}},\"id\":\"4205\",\"type\":\"GlyphRenderer\"},{\"attributes\":{\"coordinates\":null,\"data_source\":{\"id\":\"4123\"},\"glyph\":{\"id\":\"4124\"},\"group\":null,\"hover_glyph\":null,\"muted_glyph\":{\"id\":\"4126\"},\"nonselection_glyph\":{\"id\":\"4125\"},\"view\":{\"id\":\"4128\"}},\"id\":\"4127\",\"type\":\"GlyphRenderer\"},{\"attributes\":{},\"id\":\"4148\",\"type\":\"PanTool\"},{\"attributes\":{\"margin\":[5,5,5,5],\"name\":\"HSpacer00186\",\"sizing_mode\":\"stretch_width\"},\"id\":\"4211\",\"type\":\"Spacer\"},{\"attributes\":{\"axis\":{\"id\":\"4101\"},\"coordinates\":null,\"grid_line_alpha\":0.15,\"grid_line_color\":\"#E0E0E0\",\"group\":null,\"ticker\":null},\"id\":\"4104\",\"type\":\"Grid\"},{\"attributes\":{},\"id\":\"4173\",\"type\":\"DataRange1d\"}],\"root_ids\":[\"4210\",\"4363\"]},\"title\":\"Bokeh Application\",\"version\":\"2.4.3\"}};\n",
       "    var render_items = [{\"docid\":\"c6b166bf-d91b-4d39-bc41-f9de9c5a081a\",\"root_ids\":[\"4210\"],\"roots\":{\"4210\":\"9d0d059d-3d72-4cc5-aadf-97f393bc9b0b\"}}];\n",
       "    root.Bokeh.embed.embed_items_notebook(docs_json, render_items);\n",
       "    for (const render_item of render_items) {\n",
       "      for (const root_id of render_item.root_ids) {\n",
       "\tconst id_el = document.getElementById(root_id)\n",
       "\tif (id_el.children.length && (id_el.children[0].className === 'bk-root')) {\n",
       "\t  const root_el = id_el.children[0]\n",
       "\t  root_el.id = root_el.id + '-rendered'\n",
       "\t}\n",
       "      }\n",
       "    }\n",
       "  }\n",
       "  if (root.Bokeh !== undefined && root.Bokeh.Panel !== undefined) {\n",
       "    embed_document(root);\n",
       "  } else {\n",
       "    var attempts = 0;\n",
       "    var timer = setInterval(function(root) {\n",
       "      if (root.Bokeh !== undefined && root.Bokeh.Panel !== undefined) {\n",
       "        clearInterval(timer);\n",
       "        embed_document(root);\n",
       "      } else if (document.readyState == \"complete\") {\n",
       "        attempts++;\n",
       "        if (attempts > 200) {\n",
       "          clearInterval(timer);\n",
       "          console.log(\"Bokeh: ERROR: Unable to run BokehJS code because BokehJS library is missing\");\n",
       "        }\n",
       "      }\n",
       "    }, 25, root)\n",
       "  }\n",
       "})(window);</script>"
      ],
      "text/plain": [
       "Row\n",
       "    [0] HSpacer()\n",
       "    [1] Bokeh(Column)\n",
       "    [2] HSpacer()"
      ]
     },
     "execution_count": 23,
     "metadata": {
      "application/vnd.holoviews_exec.v0+json": {
       "id": "4210"
      }
     },
     "output_type": "execute_result"
    }
   ],
   "source": [
    "from bokeh.models import Div\n",
    "from bokeh.layouts import column, row\n",
    "from cml.plot import cml_figure\n",
    "# Functions to\n",
    "funcs = [('Sigmoid',sigmoid,'red'), ('Tanh',tanh,'orange'), ('ReLU',relu,'yellow')]\n",
    "# Generating the x axis\n",
    "x = np.linspace(-5, 5, 100)\n",
    "plots = []\n",
    "for (name, func, color) in funcs:\n",
    "    cur_plot = cml_figure(plot_width=400, plot_height=250, title=name)\n",
    "    cur_plot.line(x, func(x), color=color, line_width=4)\n",
    "    plots.append(cur_plot)\n",
    "plot = center_plot(column(Div(text = \"Different activation functions\", style={'font-size': '250%'}), row(*plots)))\n",
    "plot"
   ]
  },
  {
   "cell_type": "markdown",
   "metadata": {},
   "source": [
    "## Coding the whole network from scratch\n",
    "\n",
    "You should now have all the tools necessary to apply neural networks from scratch to a more complex problem. In the following exercise, we simply removed any guideline code, and you need to code all the procedure for training a NN and **apply it to audio data**. You will use the spectral features discussed in the previous exercise as an input.\n",
    "\n",
    "***\n",
    "\n",
    "<div class=\"alert alert-success\" markdown=\"1\" style=\"color:white; background-color: #192841; border-color: #779ecb\">\n",
    "\n",
    "> ### Going further **(optional exercise) **\n",
    "\n",
    ">  1. Based on the previous neural network, upgrade the code to a 3-layer neural network\n",
    ">  2. Implement the *softmax regression* on top of your 3-layer network\n",
    ">  3. Use the provided code to perform classification on a pre-defined set of features\n",
    ">  4. As previously, change the set of features to assess their different accuracies\n",
    ">  5. Evaluate the neural network accuracy for all features combinations\n",
    ">  6. What happens if the learning rate is too large ? What is this phenomenon ?\n",
    ">  7. Perform a more advanced visualization of the learning process.\n",
    "  \n",
    "\n",
    "</div>\n",
    "\n",
    "***"
   ]
  },
  {
   "cell_type": "code",
   "execution_count": null,
   "metadata": {},
   "outputs": [],
   "source": [
    "\n",
    "######################\n",
    "# YOUR CODE GOES HERE\n",
    "######################\n"
   ]
  },
  {
   "cell_type": "markdown",
   "metadata": {},
   "source": [
    "# Using `Pytorch` to enjoy life\n",
    "\n",
    "Up to now, we have been writing every operations by ourselves (in order to better understand the mathematics behind NN). However, there exists of course some simplifying libraries that provide large simplifications to this question.\n",
    "\n",
    "One of the most powerful and complete library of this sort is `Pytorch`, which has been developed for several years (even prior to the recent boom of deep learning). `Pytorch` provides a large set of pre-coded layers, but also **computational graphs** and **autograd**, which are very powerful paradigms allowing to define complex operators and automatically taking derivatives.\n",
    "\n",
    "## An (extremely) fast and dirty introduction to `Pytorch`\n",
    "\n",
    "PyTorch is a popular open-source deep learning framework based on the Torch library. It is primarily developed by Facebook AI research team, and it provides a simple and efficient way to build deep learning models. In this extremely short crash course, we will cover the basics of PyTorch, including:\n",
    "\n",
    "* Tensors\n",
    "* Automatic differentiation\n",
    "* Neural networks\n",
    "* Training a neural network on a dataset\n",
    "\n",
    "For a complete tutorial on PyTorch, please check out the [official PyTorch documentation](https://pytorch.org/tutorials/). This tutorial covers a wide range of topics, including the basics of PyTorch, building and training neural networks, working with data and dataloaders, and deploying models to production."
   ]
  },
  {
   "cell_type": "markdown",
   "metadata": {},
   "source": [
    "### Tensors\n",
    "At its core, PyTorch is all about tensors. A tensor is a generalization of vectors and matrices to an arbitrary number of dimensions. A scalar is a 0-dimensional tensor, a vector is a 1-dimensional tensor, and a matrix is a 2-dimensional tensor.\n",
    "\n",
    "#### Creating Tensors\n",
    "We can create a PyTorch tensor from a Python list or a NumPy array using the `torch.tensor()` function, but also tensors of a specific size and/or with all zeros or all ones using the `torch.zeros()` and `torch.ones()` functions"
   ]
  },
  {
   "cell_type": "code",
   "execution_count": 37,
   "metadata": {},
   "outputs": [
    {
     "name": "stdout",
     "output_type": "stream",
     "text": [
      "tensor([1, 2, 3, 4])\n",
      "tensor([[1, 2],\n",
      "        [3, 4]])\n",
      "tensor([[0., 0., 0.],\n",
      "        [0., 0., 0.]])\n",
      "tensor([[1., 1.],\n",
      "        [1., 1.],\n",
      "        [1., 1.]])\n"
     ]
    }
   ],
   "source": [
    "import torch\n",
    "import numpy as np\n",
    "# create a tensor from a Python list\n",
    "x = torch.tensor([1, 2, 3, 4])\n",
    "print(x)\n",
    "# create a tensor from a NumPy array\n",
    "y = torch.tensor(np.array([[1, 2], [3, 4]]))\n",
    "print(y)\n",
    "# create a 2x3 tensor of zeros\n",
    "z = torch.zeros((2, 3))\n",
    "print(z)\n",
    "# create a 3x2 tensor of ones\n",
    "w = torch.ones((3, 2))\n",
    "print(w)"
   ]
  },
  {
   "cell_type": "markdown",
   "metadata": {},
   "source": [
    "#### Tensor operations\n",
    "\n",
    "PyTorch tensors support a wide range of operations, including arithmetic operations like addition, subtraction, multiplication, and division, as well as more advanced operations like matrix multiplication, element-wise multiplication, and concatenation."
   ]
  },
  {
   "cell_type": "code",
   "execution_count": 39,
   "metadata": {},
   "outputs": [
    {
     "name": "stdout",
     "output_type": "stream",
     "text": [
      "tensor([ 6,  8, 10, 12])\n",
      "tensor([ 5, 12, 21, 32])\n",
      "tensor([[19, 22],\n",
      "        [43, 50]])\n",
      "tensor([[1, 2, 5, 6],\n",
      "        [3, 4, 7, 8]])\n"
     ]
    }
   ],
   "source": [
    "# create two tensors\n",
    "x = torch.tensor([1, 2, 3, 4])\n",
    "y = torch.tensor([5, 6, 7, 8])\n",
    "# add the two tensors\n",
    "z = x + y\n",
    "print(z)\n",
    "# element-wise multiplication\n",
    "w = x * y\n",
    "print(w)\n",
    "# matrix multiplication\n",
    "a = torch.tensor([[1, 2], [3, 4]])\n",
    "b = torch.tensor([[5, 6], [7, 8]])\n",
    "c = torch.matmul(a, b)\n",
    "print(c)\n",
    "# concatenation\n",
    "d = torch.cat((a, b), dim=1)\n",
    "print(d)"
   ]
  },
  {
   "cell_type": "markdown",
   "metadata": {},
   "source": [
    "### Automatic differentiation\n",
    "\n",
    "The core of PyTorch is the autograd package. It provides automatic differentiation for all operations on Tensors.\n",
    "\n",
    "PyTorch's autograd package provides automatic differentiation for all operations on Tensors. It is a define-by-run framework, which means that your backpropagation is defined by how your code is run, and that every single iteration can be different.\n",
    "\n",
    "To compute gradients, the `requires_grad` property of Tensors needs to `True` (which is the case by default). This tells PyTorch to track all operations on the Tensor. You can then call `.backward()` on a Tensor to compute the gradients with respect to that Tensor."
   ]
  },
  {
   "cell_type": "code",
   "execution_count": 40,
   "metadata": {},
   "outputs": [
    {
     "name": "stdout",
     "output_type": "stream",
     "text": [
      "tensor(11.)\n"
     ]
    }
   ],
   "source": [
    "import torch\n",
    "\n",
    "x = torch.tensor(2.0, requires_grad=True)\n",
    "y = 2*x**2 + 3*x - 1\n",
    "y.backward()\n",
    "\n",
    "print(x.grad)"
   ]
  },
  {
   "cell_type": "markdown",
   "metadata": {},
   "source": [
    "## Defining our network\n",
    "\n",
    "When building neural networks we frequently think of arranging the computation into layers, some of which have learnable parameters which will be optimized during learning. In `PyTorch`, the `nn` package provides higher-level abstractions over raw computational graphs that are useful for building neural networks. The `nn` package defines a set of `Modules`, which are roughly equivalent to neural network layers. A `Module` receives input `Tensors` and computes output `Tensors`, but may also hold internal state such as `Tensors` containing learnable parameters. The nn package also defines a set of useful loss functions that are commonly used when training neural networks.\n",
    "\n",
    "In the following example, we use the `nn` package to show how easy it is to instantiate our previous three-layers network"
   ]
  },
  {
   "cell_type": "code",
   "execution_count": 30,
   "metadata": {},
   "outputs": [],
   "source": [
    "import torch\n",
    "# Define the input dimensions\n",
    "in_size = 1000\n",
    "# Number of neurons in a layer\n",
    "hidden_size = 100\n",
    "# Output (target) dimension\n",
    "output_size = 10\n",
    "# Use the nn package to define our model and loss function.\n",
    "model = torch.nn.Sequential(\n",
    "    torch.nn.Linear(in_size, hidden_size),\n",
    "    torch.nn.Sigmoid(),\n",
    "    torch.nn.Linear(hidden_size, hidden_size),\n",
    "    torch.nn.Tanh(),\n",
    "    torch.nn.Linear(hidden_size, output_size),\n",
    "    torch.nn.Softmax(dim=1)\n",
    ")"
   ]
  },
  {
   "cell_type": "markdown",
   "metadata": {},
   "source": [
    "### Optimizing the network\n",
    "\n",
    "Up to this point we have updated the weights of our models by manually performing the gradient descent algorithm (changing the parameters vectors). Although this is not a huge burden for simple optimization algorithms like stochastic gradient descent, in practice we often train neural networks using more sophisticated optimizers like AdaGrad, RMSProp or Adam (that we will see later in this course)\n",
    "\n",
    "The `optim` package in PyTorch abstracts the idea of an optimization algorithm and provides implementations of commonly used optimization algorithms, and greatly simplfies the training loop associated with training a neural network.\n",
    "\n",
    "For the sake of presentation we will use random inputs $\\mathbf{x}$ that should be matched with random outputs $\\mathbf{y}$"
   ]
  },
  {
   "cell_type": "code",
   "execution_count": 31,
   "metadata": {},
   "outputs": [],
   "source": [
    "batch_size = 64\n",
    "# Create random Tensors to hold inputs and outputs\n",
    "x = torch.randn(batch_size, in_size)\n",
    "y = torch.randn(batch_size, output_size)"
   ]
  },
  {
   "cell_type": "markdown",
   "metadata": {},
   "source": [
    "In the following example we optimize the model using the Adam algorithm provided by the `optim` package, based on a `MSE` loss."
   ]
  },
  {
   "cell_type": "code",
   "execution_count": 32,
   "metadata": {},
   "outputs": [
    {
     "name": "stdout",
     "output_type": "stream",
     "text": [
      "tensor(641.4479, grad_fn=<MseLossBackward0>)\n"
     ]
    }
   ],
   "source": [
    "# Learning rate\n",
    "learning_rate = 1e-4\n",
    "# Loss function that we will use\n",
    "loss_fn = torch.nn.MSELoss(reduction='sum')\n",
    "# Optimizer to fit the weights of the network\n",
    "optimizer = torch.optim.SGD(model.parameters(), lr=learning_rate)\n",
    "for t in range(500):\n",
    "    # Forward pass: compute predicted y by passing x to the model.\n",
    "    y_pred = model(x)\n",
    "    # Compute the loss.\n",
    "    loss = loss_fn(y_pred, y)\n",
    "    # Before the backward pass, zero all of the network gradients\n",
    "    optimizer.zero_grad()\n",
    "    # Backward pass: compute gradient of the loss with respect to parameters\n",
    "    loss.backward()\n",
    "    # Calling the step function to update the parameters\n",
    "    optimizer.step()\n",
    "print(loss)\n",
    "    "
   ]
  },
  {
   "cell_type": "markdown",
   "metadata": {},
   "source": [
    "## Exercise 2 - Pytorch to classify audio\n",
    "\n",
    "Now that we know the main components of `Pytorch` to define and optimize networks, your assignement is to define a complete classification problem from audio data, by relying on this toolbox\n",
    "\n",
    "***\n",
    "\n",
    "<div class=\"alert alert-success\" markdown=\"1\" style=\"color:white; background-color: #013220; border-color: #03C03C\">\n",
    "\n",
    "> ### Question 1.1 - Model and definition\n",
    "\n",
    ">   1. Use `Pytorch` to define a model for audio classification\n",
    ">   2. Import the audio features dataset and check that your model produces an output\n",
    "\n",
    "</div>\n",
    "\n",
    "***\n"
   ]
  },
  {
   "cell_type": "code",
   "execution_count": null,
   "metadata": {},
   "outputs": [],
   "source": [
    "\n",
    "######################\n",
    "# YOUR CODE GOES HERE\n",
    "######################\n"
   ]
  },
  {
   "cell_type": "markdown",
   "metadata": {},
   "source": [
    "\n",
    "***\n",
    "\n",
    "<div class=\"alert alert-success\" markdown=\"1\" style=\"color:white; background-color: #013220; border-color: #03C03C\">\n",
    "\n",
    "> ### Question 1.2 - Training the model\n",
    "\n",
    ">   3. Write the optimization loop (think carefully about the _loss function_\n",
    ">   4. As previously, change the set of features to assess their different accuracies\n",
    ">   5. (Optional) Think of how you could use more complex features (time series, audio, STFT) to classify your data\n",
    "\n",
    "</div>\n",
    "\n",
    "***"
   ]
  },
  {
   "cell_type": "code",
   "execution_count": 33,
   "metadata": {},
   "outputs": [],
   "source": [
    "\n",
    "######################\n",
    "# YOUR CODE GOES HERE\n",
    "######################\n"
   ]
  }
 ],
 "metadata": {
  "kernelspec": {
   "display_name": "Python 3 (ipykernel)",
   "language": "python",
   "name": "python3"
  },
  "language_info": {
   "codemirror_mode": {
    "name": "ipython",
    "version": 3
   },
   "file_extension": ".py",
   "mimetype": "text/x-python",
   "name": "python",
   "nbconvert_exporter": "python",
   "pygments_lexer": "ipython3",
   "version": "3.10.0"
  }
 },
 "nbformat": 4,
 "nbformat_minor": 4
}
