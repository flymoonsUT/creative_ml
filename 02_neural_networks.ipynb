{
 "cells": [
  {
   "cell_type": "markdown",
   "metadata": {},
   "source": [
    "# Creative machine learning - Neural networks\n",
    "\n",
    "### Author: Philippe Esling (esling@ircam.fr)\n",
    "\n",
    "In this course we will cover\n",
    "1. A [quick introduction](#intro) on the principles of neural networks\n",
    "2. An implementation for a [single neuron](#neuron) in Numpy and JAX.\n",
    "3. An exercise on [multi-layer perceptron (MLP)](#mlp) through manual derivation.\n",
    "4. An introduction on [using Pytorch](#pytorch) for defining networks\n",
    "5. An exercise on [audio classification](#audio) using an MLP with Pytorch."
   ]
  },
  {
   "cell_type": "markdown",
   "metadata": {},
   "source": [
    "<a id=\"intro\"></a>\n",
    "# Introducing neural networks"
   ]
  },
  {
   "cell_type": "markdown",
   "metadata": {},
   "source": [
    "In this tutorial, we will cover more advanced models known as *neural networks*. The tutorial starts by performing a simple **single neuron** discrimination of two random distributions. We will exhibit the manual implementation using Numpy, and then simplify it with JAX. Then, we will study the typical **XOR problem** by using a more advanced 2-layer **perceptron**. Finally, we generalize the use of neural networks in order to perform classification on a given set of audio files, using the PyTorch library, which will provide simplified implementation."
   ]
  },
  {
   "cell_type": "markdown",
   "metadata": {},
   "source": [
    "We are going to use relatively _low-level_ libraries to perform the first exercises (implementing your own neurons). To observe this idea in simple setups, we are going to use the `numpy` library and also initialize the homemade course library `cml` and style for future plotting and exercise. We also set the random generator to a fixed point with `rng = np.random.RandomState(1)`, to ensure reproducibility"
   ]
  },
  {
   "cell_type": "code",
   "execution_count": 1,
   "metadata": {
    "tags": []
   },
   "outputs": [
    {
     "name": "stderr",
     "output_type": "stream",
     "text": [
      "2023-05-10 18:16:12.126875: I tensorflow/core/platform/cpu_feature_guard.cc:182] This TensorFlow binary is optimized to use available CPU instructions in performance-critical operations.\n",
      "To enable the following instructions: AVX2 FMA, in other operations, rebuild TensorFlow with the appropriate compiler flags.\n"
     ]
    },
    {
     "data": {
      "text/html": [
       "<div class=\"bk-root\">\n",
       "        <a href=\"https://bokeh.org\" target=\"_blank\" class=\"bk-logo bk-logo-small bk-logo-notebook\"></a>\n",
       "        <span id=\"1002\">Loading BokehJS ...</span>\n",
       "    </div>\n"
      ]
     },
     "metadata": {},
     "output_type": "display_data"
    },
    {
     "data": {
      "application/javascript": [
       "(function(root) {\n",
       "  function now() {\n",
       "    return new Date();\n",
       "  }\n",
       "\n",
       "  const force = true;\n",
       "\n",
       "  if (typeof root._bokeh_onload_callbacks === \"undefined\" || force === true) {\n",
       "    root._bokeh_onload_callbacks = [];\n",
       "    root._bokeh_is_loading = undefined;\n",
       "  }\n",
       "\n",
       "const JS_MIME_TYPE = 'application/javascript';\n",
       "  const HTML_MIME_TYPE = 'text/html';\n",
       "  const EXEC_MIME_TYPE = 'application/vnd.bokehjs_exec.v0+json';\n",
       "  const CLASS_NAME = 'output_bokeh rendered_html';\n",
       "\n",
       "  /**\n",
       "   * Render data to the DOM node\n",
       "   */\n",
       "  function render(props, node) {\n",
       "    const script = document.createElement(\"script\");\n",
       "    node.appendChild(script);\n",
       "  }\n",
       "\n",
       "  /**\n",
       "   * Handle when an output is cleared or removed\n",
       "   */\n",
       "  function handleClearOutput(event, handle) {\n",
       "    const cell = handle.cell;\n",
       "\n",
       "    const id = cell.output_area._bokeh_element_id;\n",
       "    const server_id = cell.output_area._bokeh_server_id;\n",
       "    // Clean up Bokeh references\n",
       "    if (id != null && id in Bokeh.index) {\n",
       "      Bokeh.index[id].model.document.clear();\n",
       "      delete Bokeh.index[id];\n",
       "    }\n",
       "\n",
       "    if (server_id !== undefined) {\n",
       "      // Clean up Bokeh references\n",
       "      const cmd_clean = \"from bokeh.io.state import curstate; print(curstate().uuid_to_server['\" + server_id + \"'].get_sessions()[0].document.roots[0]._id)\";\n",
       "      cell.notebook.kernel.execute(cmd_clean, {\n",
       "        iopub: {\n",
       "          output: function(msg) {\n",
       "            const id = msg.content.text.trim();\n",
       "            if (id in Bokeh.index) {\n",
       "              Bokeh.index[id].model.document.clear();\n",
       "              delete Bokeh.index[id];\n",
       "            }\n",
       "          }\n",
       "        }\n",
       "      });\n",
       "      // Destroy server and session\n",
       "      const cmd_destroy = \"import bokeh.io.notebook as ion; ion.destroy_server('\" + server_id + \"')\";\n",
       "      cell.notebook.kernel.execute(cmd_destroy);\n",
       "    }\n",
       "  }\n",
       "\n",
       "  /**\n",
       "   * Handle when a new output is added\n",
       "   */\n",
       "  function handleAddOutput(event, handle) {\n",
       "    const output_area = handle.output_area;\n",
       "    const output = handle.output;\n",
       "\n",
       "    // limit handleAddOutput to display_data with EXEC_MIME_TYPE content only\n",
       "    if ((output.output_type != \"display_data\") || (!Object.prototype.hasOwnProperty.call(output.data, EXEC_MIME_TYPE))) {\n",
       "      return\n",
       "    }\n",
       "\n",
       "    const toinsert = output_area.element.find(\".\" + CLASS_NAME.split(' ')[0]);\n",
       "\n",
       "    if (output.metadata[EXEC_MIME_TYPE][\"id\"] !== undefined) {\n",
       "      toinsert[toinsert.length - 1].firstChild.textContent = output.data[JS_MIME_TYPE];\n",
       "      // store reference to embed id on output_area\n",
       "      output_area._bokeh_element_id = output.metadata[EXEC_MIME_TYPE][\"id\"];\n",
       "    }\n",
       "    if (output.metadata[EXEC_MIME_TYPE][\"server_id\"] !== undefined) {\n",
       "      const bk_div = document.createElement(\"div\");\n",
       "      bk_div.innerHTML = output.data[HTML_MIME_TYPE];\n",
       "      const script_attrs = bk_div.children[0].attributes;\n",
       "      for (let i = 0; i < script_attrs.length; i++) {\n",
       "        toinsert[toinsert.length - 1].firstChild.setAttribute(script_attrs[i].name, script_attrs[i].value);\n",
       "        toinsert[toinsert.length - 1].firstChild.textContent = bk_div.children[0].textContent\n",
       "      }\n",
       "      // store reference to server id on output_area\n",
       "      output_area._bokeh_server_id = output.metadata[EXEC_MIME_TYPE][\"server_id\"];\n",
       "    }\n",
       "  }\n",
       "\n",
       "  function register_renderer(events, OutputArea) {\n",
       "\n",
       "    function append_mime(data, metadata, element) {\n",
       "      // create a DOM node to render to\n",
       "      const toinsert = this.create_output_subarea(\n",
       "        metadata,\n",
       "        CLASS_NAME,\n",
       "        EXEC_MIME_TYPE\n",
       "      );\n",
       "      this.keyboard_manager.register_events(toinsert);\n",
       "      // Render to node\n",
       "      const props = {data: data, metadata: metadata[EXEC_MIME_TYPE]};\n",
       "      render(props, toinsert[toinsert.length - 1]);\n",
       "      element.append(toinsert);\n",
       "      return toinsert\n",
       "    }\n",
       "\n",
       "    /* Handle when an output is cleared or removed */\n",
       "    events.on('clear_output.CodeCell', handleClearOutput);\n",
       "    events.on('delete.Cell', handleClearOutput);\n",
       "\n",
       "    /* Handle when a new output is added */\n",
       "    events.on('output_added.OutputArea', handleAddOutput);\n",
       "\n",
       "    /**\n",
       "     * Register the mime type and append_mime function with output_area\n",
       "     */\n",
       "    OutputArea.prototype.register_mime_type(EXEC_MIME_TYPE, append_mime, {\n",
       "      /* Is output safe? */\n",
       "      safe: true,\n",
       "      /* Index of renderer in `output_area.display_order` */\n",
       "      index: 0\n",
       "    });\n",
       "  }\n",
       "\n",
       "  // register the mime type if in Jupyter Notebook environment and previously unregistered\n",
       "  if (root.Jupyter !== undefined) {\n",
       "    const events = require('base/js/events');\n",
       "    const OutputArea = require('notebook/js/outputarea').OutputArea;\n",
       "\n",
       "    if (OutputArea.prototype.mime_types().indexOf(EXEC_MIME_TYPE) == -1) {\n",
       "      register_renderer(events, OutputArea);\n",
       "    }\n",
       "  }\n",
       "  if (typeof (root._bokeh_timeout) === \"undefined\" || force === true) {\n",
       "    root._bokeh_timeout = Date.now() + 5000;\n",
       "    root._bokeh_failed_load = false;\n",
       "  }\n",
       "\n",
       "  const NB_LOAD_WARNING = {'data': {'text/html':\n",
       "     \"<div style='background-color: #fdd'>\\n\"+\n",
       "     \"<p>\\n\"+\n",
       "     \"BokehJS does not appear to have successfully loaded. If loading BokehJS from CDN, this \\n\"+\n",
       "     \"may be due to a slow or bad network connection. Possible fixes:\\n\"+\n",
       "     \"</p>\\n\"+\n",
       "     \"<ul>\\n\"+\n",
       "     \"<li>re-rerun `output_notebook()` to attempt to load from CDN again, or</li>\\n\"+\n",
       "     \"<li>use INLINE resources instead, as so:</li>\\n\"+\n",
       "     \"</ul>\\n\"+\n",
       "     \"<code>\\n\"+\n",
       "     \"from bokeh.resources import INLINE\\n\"+\n",
       "     \"output_notebook(resources=INLINE)\\n\"+\n",
       "     \"</code>\\n\"+\n",
       "     \"</div>\"}};\n",
       "\n",
       "  function display_loaded() {\n",
       "    const el = document.getElementById(\"1002\");\n",
       "    if (el != null) {\n",
       "      el.textContent = \"BokehJS is loading...\";\n",
       "    }\n",
       "    if (root.Bokeh !== undefined) {\n",
       "      if (el != null) {\n",
       "        el.textContent = \"BokehJS \" + root.Bokeh.version + \" successfully loaded.\";\n",
       "      }\n",
       "    } else if (Date.now() < root._bokeh_timeout) {\n",
       "      setTimeout(display_loaded, 100)\n",
       "    }\n",
       "  }\n",
       "\n",
       "  function run_callbacks() {\n",
       "    try {\n",
       "      root._bokeh_onload_callbacks.forEach(function(callback) {\n",
       "        if (callback != null)\n",
       "          callback();\n",
       "      });\n",
       "    } finally {\n",
       "      delete root._bokeh_onload_callbacks\n",
       "    }\n",
       "    console.debug(\"Bokeh: all callbacks have finished\");\n",
       "  }\n",
       "\n",
       "  function load_libs(css_urls, js_urls, callback) {\n",
       "    if (css_urls == null) css_urls = [];\n",
       "    if (js_urls == null) js_urls = [];\n",
       "\n",
       "    root._bokeh_onload_callbacks.push(callback);\n",
       "    if (root._bokeh_is_loading > 0) {\n",
       "      console.debug(\"Bokeh: BokehJS is being loaded, scheduling callback at\", now());\n",
       "      return null;\n",
       "    }\n",
       "    if (js_urls == null || js_urls.length === 0) {\n",
       "      run_callbacks();\n",
       "      return null;\n",
       "    }\n",
       "    console.debug(\"Bokeh: BokehJS not loaded, scheduling load and callback at\", now());\n",
       "    root._bokeh_is_loading = css_urls.length + js_urls.length;\n",
       "\n",
       "    function on_load() {\n",
       "      root._bokeh_is_loading--;\n",
       "      if (root._bokeh_is_loading === 0) {\n",
       "        console.debug(\"Bokeh: all BokehJS libraries/stylesheets loaded\");\n",
       "        run_callbacks()\n",
       "      }\n",
       "    }\n",
       "\n",
       "    function on_error(url) {\n",
       "      console.error(\"failed to load \" + url);\n",
       "    }\n",
       "\n",
       "    for (let i = 0; i < css_urls.length; i++) {\n",
       "      const url = css_urls[i];\n",
       "      const element = document.createElement(\"link\");\n",
       "      element.onload = on_load;\n",
       "      element.onerror = on_error.bind(null, url);\n",
       "      element.rel = \"stylesheet\";\n",
       "      element.type = \"text/css\";\n",
       "      element.href = url;\n",
       "      console.debug(\"Bokeh: injecting link tag for BokehJS stylesheet: \", url);\n",
       "      document.body.appendChild(element);\n",
       "    }\n",
       "\n",
       "    for (let i = 0; i < js_urls.length; i++) {\n",
       "      const url = js_urls[i];\n",
       "      const element = document.createElement('script');\n",
       "      element.onload = on_load;\n",
       "      element.onerror = on_error.bind(null, url);\n",
       "      element.async = false;\n",
       "      element.src = url;\n",
       "      console.debug(\"Bokeh: injecting script tag for BokehJS library: \", url);\n",
       "      document.head.appendChild(element);\n",
       "    }\n",
       "  };\n",
       "\n",
       "  function inject_raw_css(css) {\n",
       "    const element = document.createElement(\"style\");\n",
       "    element.appendChild(document.createTextNode(css));\n",
       "    document.body.appendChild(element);\n",
       "  }\n",
       "\n",
       "  const js_urls = [\"https://cdn.bokeh.org/bokeh/release/bokeh-2.4.3.min.js\", \"https://cdn.bokeh.org/bokeh/release/bokeh-gl-2.4.3.min.js\", \"https://cdn.bokeh.org/bokeh/release/bokeh-widgets-2.4.3.min.js\", \"https://cdn.bokeh.org/bokeh/release/bokeh-tables-2.4.3.min.js\", \"https://cdn.bokeh.org/bokeh/release/bokeh-mathjax-2.4.3.min.js\", \"https://unpkg.com/@holoviz/panel@0.14.4/dist/panel.min.js\"];\n",
       "  const css_urls = [];\n",
       "\n",
       "  const inline_js = [    function(Bokeh) {\n",
       "      Bokeh.set_log_level(\"info\");\n",
       "    },\n",
       "function(Bokeh) {\n",
       "    }\n",
       "  ];\n",
       "\n",
       "  function run_inline_js() {\n",
       "    if (root.Bokeh !== undefined || force === true) {\n",
       "          for (let i = 0; i < inline_js.length; i++) {\n",
       "      inline_js[i].call(root, root.Bokeh);\n",
       "    }\n",
       "if (force === true) {\n",
       "        display_loaded();\n",
       "      }} else if (Date.now() < root._bokeh_timeout) {\n",
       "      setTimeout(run_inline_js, 100);\n",
       "    } else if (!root._bokeh_failed_load) {\n",
       "      console.log(\"Bokeh: BokehJS failed to load within specified timeout.\");\n",
       "      root._bokeh_failed_load = true;\n",
       "    } else if (force !== true) {\n",
       "      const cell = $(document.getElementById(\"1002\")).parents('.cell').data().cell;\n",
       "      cell.output_area.append_execute_result(NB_LOAD_WARNING)\n",
       "    }\n",
       "  }\n",
       "\n",
       "  if (root._bokeh_is_loading === 0) {\n",
       "    console.debug(\"Bokeh: BokehJS loaded, going straight to plotting\");\n",
       "    run_inline_js();\n",
       "  } else {\n",
       "    load_libs(css_urls, js_urls, function() {\n",
       "      console.debug(\"Bokeh: BokehJS plotting callback run at\", now());\n",
       "      run_inline_js();\n",
       "    });\n",
       "  }\n",
       "}(window));"
      ],
      "application/vnd.bokehjs_load.v0+json": "(function(root) {\n  function now() {\n    return new Date();\n  }\n\n  const force = true;\n\n  if (typeof root._bokeh_onload_callbacks === \"undefined\" || force === true) {\n    root._bokeh_onload_callbacks = [];\n    root._bokeh_is_loading = undefined;\n  }\n\n\n  if (typeof (root._bokeh_timeout) === \"undefined\" || force === true) {\n    root._bokeh_timeout = Date.now() + 5000;\n    root._bokeh_failed_load = false;\n  }\n\n  const NB_LOAD_WARNING = {'data': {'text/html':\n     \"<div style='background-color: #fdd'>\\n\"+\n     \"<p>\\n\"+\n     \"BokehJS does not appear to have successfully loaded. If loading BokehJS from CDN, this \\n\"+\n     \"may be due to a slow or bad network connection. Possible fixes:\\n\"+\n     \"</p>\\n\"+\n     \"<ul>\\n\"+\n     \"<li>re-rerun `output_notebook()` to attempt to load from CDN again, or</li>\\n\"+\n     \"<li>use INLINE resources instead, as so:</li>\\n\"+\n     \"</ul>\\n\"+\n     \"<code>\\n\"+\n     \"from bokeh.resources import INLINE\\n\"+\n     \"output_notebook(resources=INLINE)\\n\"+\n     \"</code>\\n\"+\n     \"</div>\"}};\n\n  function display_loaded() {\n    const el = document.getElementById(\"1002\");\n    if (el != null) {\n      el.textContent = \"BokehJS is loading...\";\n    }\n    if (root.Bokeh !== undefined) {\n      if (el != null) {\n        el.textContent = \"BokehJS \" + root.Bokeh.version + \" successfully loaded.\";\n      }\n    } else if (Date.now() < root._bokeh_timeout) {\n      setTimeout(display_loaded, 100)\n    }\n  }\n\n  function run_callbacks() {\n    try {\n      root._bokeh_onload_callbacks.forEach(function(callback) {\n        if (callback != null)\n          callback();\n      });\n    } finally {\n      delete root._bokeh_onload_callbacks\n    }\n    console.debug(\"Bokeh: all callbacks have finished\");\n  }\n\n  function load_libs(css_urls, js_urls, callback) {\n    if (css_urls == null) css_urls = [];\n    if (js_urls == null) js_urls = [];\n\n    root._bokeh_onload_callbacks.push(callback);\n    if (root._bokeh_is_loading > 0) {\n      console.debug(\"Bokeh: BokehJS is being loaded, scheduling callback at\", now());\n      return null;\n    }\n    if (js_urls == null || js_urls.length === 0) {\n      run_callbacks();\n      return null;\n    }\n    console.debug(\"Bokeh: BokehJS not loaded, scheduling load and callback at\", now());\n    root._bokeh_is_loading = css_urls.length + js_urls.length;\n\n    function on_load() {\n      root._bokeh_is_loading--;\n      if (root._bokeh_is_loading === 0) {\n        console.debug(\"Bokeh: all BokehJS libraries/stylesheets loaded\");\n        run_callbacks()\n      }\n    }\n\n    function on_error(url) {\n      console.error(\"failed to load \" + url);\n    }\n\n    for (let i = 0; i < css_urls.length; i++) {\n      const url = css_urls[i];\n      const element = document.createElement(\"link\");\n      element.onload = on_load;\n      element.onerror = on_error.bind(null, url);\n      element.rel = \"stylesheet\";\n      element.type = \"text/css\";\n      element.href = url;\n      console.debug(\"Bokeh: injecting link tag for BokehJS stylesheet: \", url);\n      document.body.appendChild(element);\n    }\n\n    for (let i = 0; i < js_urls.length; i++) {\n      const url = js_urls[i];\n      const element = document.createElement('script');\n      element.onload = on_load;\n      element.onerror = on_error.bind(null, url);\n      element.async = false;\n      element.src = url;\n      console.debug(\"Bokeh: injecting script tag for BokehJS library: \", url);\n      document.head.appendChild(element);\n    }\n  };\n\n  function inject_raw_css(css) {\n    const element = document.createElement(\"style\");\n    element.appendChild(document.createTextNode(css));\n    document.body.appendChild(element);\n  }\n\n  const js_urls = [\"https://cdn.bokeh.org/bokeh/release/bokeh-2.4.3.min.js\", \"https://cdn.bokeh.org/bokeh/release/bokeh-gl-2.4.3.min.js\", \"https://cdn.bokeh.org/bokeh/release/bokeh-widgets-2.4.3.min.js\", \"https://cdn.bokeh.org/bokeh/release/bokeh-tables-2.4.3.min.js\", \"https://cdn.bokeh.org/bokeh/release/bokeh-mathjax-2.4.3.min.js\", \"https://unpkg.com/@holoviz/panel@0.14.4/dist/panel.min.js\"];\n  const css_urls = [];\n\n  const inline_js = [    function(Bokeh) {\n      Bokeh.set_log_level(\"info\");\n    },\nfunction(Bokeh) {\n    }\n  ];\n\n  function run_inline_js() {\n    if (root.Bokeh !== undefined || force === true) {\n          for (let i = 0; i < inline_js.length; i++) {\n      inline_js[i].call(root, root.Bokeh);\n    }\nif (force === true) {\n        display_loaded();\n      }} else if (Date.now() < root._bokeh_timeout) {\n      setTimeout(run_inline_js, 100);\n    } else if (!root._bokeh_failed_load) {\n      console.log(\"Bokeh: BokehJS failed to load within specified timeout.\");\n      root._bokeh_failed_load = true;\n    } else if (force !== true) {\n      const cell = $(document.getElementById(\"1002\")).parents('.cell').data().cell;\n      cell.output_area.append_execute_result(NB_LOAD_WARNING)\n    }\n  }\n\n  if (root._bokeh_is_loading === 0) {\n    console.debug(\"Bokeh: BokehJS loaded, going straight to plotting\");\n    run_inline_js();\n  } else {\n    load_libs(css_urls, js_urls, function() {\n      console.debug(\"Bokeh: BokehJS plotting callback run at\", now());\n      run_inline_js();\n    });\n  }\n}(window));"
     },
     "metadata": {},
     "output_type": "display_data"
    },
    {
     "data": {
      "application/javascript": [
       "(function(root) {\n",
       "  function now() {\n",
       "    return new Date();\n",
       "  }\n",
       "\n",
       "  var force = true;\n",
       "\n",
       "  if (typeof root._bokeh_onload_callbacks === \"undefined\" || force === true) {\n",
       "    root._bokeh_onload_callbacks = [];\n",
       "    root._bokeh_is_loading = undefined;\n",
       "  }\n",
       "\n",
       "  if (typeof (root._bokeh_timeout) === \"undefined\" || force === true) {\n",
       "    root._bokeh_timeout = Date.now() + 5000;\n",
       "    root._bokeh_failed_load = false;\n",
       "  }\n",
       "\n",
       "  function run_callbacks() {\n",
       "    try {\n",
       "      root._bokeh_onload_callbacks.forEach(function(callback) {\n",
       "        if (callback != null)\n",
       "          callback();\n",
       "      });\n",
       "    } finally {\n",
       "      delete root._bokeh_onload_callbacks\n",
       "    }\n",
       "    console.debug(\"Bokeh: all callbacks have finished\");\n",
       "  }\n",
       "\n",
       "  function load_libs(css_urls, js_urls, js_modules, callback) {\n",
       "    if (css_urls == null) css_urls = [];\n",
       "    if (js_urls == null) js_urls = [];\n",
       "    if (js_modules == null) js_modules = [];\n",
       "\n",
       "    root._bokeh_onload_callbacks.push(callback);\n",
       "    if (root._bokeh_is_loading > 0) {\n",
       "      console.debug(\"Bokeh: BokehJS is being loaded, scheduling callback at\", now());\n",
       "      return null;\n",
       "    }\n",
       "    if (js_urls.length === 0 && js_modules.length === 0) {\n",
       "      run_callbacks();\n",
       "      return null;\n",
       "    }\n",
       "    console.debug(\"Bokeh: BokehJS not loaded, scheduling load and callback at\", now());\n",
       "\n",
       "    function on_load() {\n",
       "      root._bokeh_is_loading--;\n",
       "      if (root._bokeh_is_loading === 0) {\n",
       "        console.debug(\"Bokeh: all BokehJS libraries/stylesheets loaded\");\n",
       "        run_callbacks()\n",
       "      }\n",
       "    }\n",
       "\n",
       "    function on_error() {\n",
       "      console.error(\"failed to load \" + url);\n",
       "    }\n",
       "\n",
       "    for (var i = 0; i < css_urls.length; i++) {\n",
       "      var url = css_urls[i];\n",
       "      const element = document.createElement(\"link\");\n",
       "      element.onload = on_load;\n",
       "      element.onerror = on_error;\n",
       "      element.rel = \"stylesheet\";\n",
       "      element.type = \"text/css\";\n",
       "      element.href = url;\n",
       "      console.debug(\"Bokeh: injecting link tag for BokehJS stylesheet: \", url);\n",
       "      document.body.appendChild(element);\n",
       "    }\n",
       "\n",
       "    var skip = [];\n",
       "    if (window.requirejs) {\n",
       "      window.requirejs.config({'packages': {}, 'paths': {'ace': '//cdnjs.cloudflare.com/ajax/libs/ace/1.4.7', 'gridstack': 'https://cdn.jsdelivr.net/npm/gridstack@4.2.5/dist/gridstack-h5', 'notyf': 'https://cdn.jsdelivr.net/npm/notyf@3/notyf.min'}, 'shim': {'ace/ext-language_tools': {'deps': ['ace/ace']}, 'ace/ext-modelist': {'deps': ['ace/ace']}, 'gridstack': {'exports': 'GridStack'}}});\n",
       "      require([\"ace/ace\"], function(ace) {\n",
       "\twindow.ace = ace\n",
       "\ton_load()\n",
       "      })\n",
       "      require([\"ace/ext-language_tools\"], function() {\n",
       "\ton_load()\n",
       "      })\n",
       "      require([\"ace/ext-modelist\"], function() {\n",
       "\ton_load()\n",
       "      })\n",
       "      require([\"gridstack\"], function(GridStack) {\n",
       "\twindow.GridStack = GridStack\n",
       "\ton_load()\n",
       "      })\n",
       "      require([\"notyf\"], function() {\n",
       "\ton_load()\n",
       "      })\n",
       "      root._bokeh_is_loading = css_urls.length + 5;\n",
       "    } else {\n",
       "      root._bokeh_is_loading = css_urls.length + js_urls.length + js_modules.length;\n",
       "    }    if (((window['ace'] !== undefined) && (!(window['ace'] instanceof HTMLElement))) || window.requirejs) {\n",
       "      var urls = ['https://cdnjs.cloudflare.com/ajax/libs/ace/1.4.11/ace.js', 'https://cdnjs.cloudflare.com/ajax/libs/ace/1.4.11/ext-language_tools.js', 'https://cdnjs.cloudflare.com/ajax/libs/ace/1.4.11/ext-modelist.js'];\n",
       "      for (var i = 0; i < urls.length; i++) {\n",
       "        skip.push(urls[i])\n",
       "      }\n",
       "    }    if (((window['GridStack'] !== undefined) && (!(window['GridStack'] instanceof HTMLElement))) || window.requirejs) {\n",
       "      var urls = ['https://cdn.holoviz.org/panel/0.14.4/dist/bundled/gridstack/gridstack@4.2.5/dist/gridstack-h5.js'];\n",
       "      for (var i = 0; i < urls.length; i++) {\n",
       "        skip.push(urls[i])\n",
       "      }\n",
       "    }    if (((window['Notyf'] !== undefined) && (!(window['Notyf'] instanceof HTMLElement))) || window.requirejs) {\n",
       "      var urls = ['https://cdn.holoviz.org/panel/0.14.4/dist/bundled/notificationarea/notyf@3/notyf.min.js'];\n",
       "      for (var i = 0; i < urls.length; i++) {\n",
       "        skip.push(urls[i])\n",
       "      }\n",
       "    }    for (var i = 0; i < js_urls.length; i++) {\n",
       "      var url = js_urls[i];\n",
       "      if (skip.indexOf(url) >= 0) {\n",
       "\tif (!window.requirejs) {\n",
       "\t  on_load();\n",
       "\t}\n",
       "\tcontinue;\n",
       "      }\n",
       "      var element = document.createElement('script');\n",
       "      element.onload = on_load;\n",
       "      element.onerror = on_error;\n",
       "      element.async = false;\n",
       "      element.src = url;\n",
       "      console.debug(\"Bokeh: injecting script tag for BokehJS library: \", url);\n",
       "      document.head.appendChild(element);\n",
       "    }\n",
       "    for (var i = 0; i < js_modules.length; i++) {\n",
       "      var url = js_modules[i];\n",
       "      if (skip.indexOf(url) >= 0) {\n",
       "\tif (!window.requirejs) {\n",
       "\t  on_load();\n",
       "\t}\n",
       "\tcontinue;\n",
       "      }\n",
       "      var element = document.createElement('script');\n",
       "      element.onload = on_load;\n",
       "      element.onerror = on_error;\n",
       "      element.async = false;\n",
       "      element.src = url;\n",
       "      element.type = \"module\";\n",
       "      console.debug(\"Bokeh: injecting script tag for BokehJS library: \", url);\n",
       "      document.head.appendChild(element);\n",
       "    }\n",
       "    if (!js_urls.length && !js_modules.length) {\n",
       "      on_load()\n",
       "    }\n",
       "  };\n",
       "\n",
       "  function inject_raw_css(css) {\n",
       "    const element = document.createElement(\"style\");\n",
       "    element.appendChild(document.createTextNode(css));\n",
       "    document.body.appendChild(element);\n",
       "  }\n",
       "\n",
       "  var js_urls = [\"https://cdnjs.cloudflare.com/ajax/libs/ace/1.4.11/ace.js\", \"https://cdnjs.cloudflare.com/ajax/libs/ace/1.4.11/ext-language_tools.js\", \"https://cdnjs.cloudflare.com/ajax/libs/ace/1.4.11/ext-modelist.js\", \"https://cdn.bokeh.org/bokeh/release/bokeh-2.4.3.min.js\", \"https://cdn.bokeh.org/bokeh/release/bokeh-gl-2.4.3.min.js\", \"https://cdn.bokeh.org/bokeh/release/bokeh-widgets-2.4.3.min.js\", \"https://cdn.bokeh.org/bokeh/release/bokeh-tables-2.4.3.min.js\", \"https://cdn.bokeh.org/bokeh/release/bokeh-mathjax-2.4.3.min.js\", \"https://unpkg.com/@holoviz/panel@0.14.4/dist/panel.min.js\"];\n",
       "  var js_modules = [];\n",
       "  var css_urls = [\"https://cdn.holoviz.org/panel/0.14.4/dist/css/debugger.css\", \"https://cdn.holoviz.org/panel/0.14.4/dist/css/alerts.css\", \"https://cdn.holoviz.org/panel/0.14.4/dist/css/card.css\", \"https://cdn.holoviz.org/panel/0.14.4/dist/css/widgets.css\", \"https://cdn.holoviz.org/panel/0.14.4/dist/css/markdown.css\", \"https://cdn.holoviz.org/panel/0.14.4/dist/css/json.css\", \"https://cdn.holoviz.org/panel/0.14.4/dist/css/loading.css\", \"https://cdn.holoviz.org/panel/0.14.4/dist/css/dataframe.css\"];\n",
       "  var inline_js = [    function(Bokeh) {\n",
       "      inject_raw_css(\"/*\\n ~ CML // Creative Machine Learning ~\\n mml.css : CSS styling information for Panel and Bokeh\\n \\n This file defines the main CSS styling information for the CML course\\n \\n Author               :  Philippe Esling\\n                        <esling@ircam.fr>\\n*/\\n\\nbody {\\n  display: flex;\\n  height: 100vh;\\n  margin: 0px;\\n  overflow-x: hidden;\\n  overflow-y: hidden;\\n}\\n\\n.bk-root .bk, .bk-root .bk:before, .bk-root .bk:after {\\n  font-family: \\\"Josefin Sans\\\";\\n}\\n\\nimg {\\n  max-width: 100%;\\n}\\n\\n#container {\\n  padding:0px;\\n  height:100vh;\\n  width: 100vw;\\n  max-width: 100vw;\\n}\\n\\n#sidebar .mdc-list {\\n  padding-left: 5px;\\n  padding-right: 5px;\\n}\\n\\n.mdc-drawer-app-content {\\n  flex: auto;\\n  position: relative;\\n  overflow: hidden;\\n}\\n\\n.mdc-drawer {\\n  background: #FAFAFA; /* GRAY 50 */\\n}\\n\\n.mdc-drawer-app-content {\\n  margin-left: 0 !important;\\n}\\n\\n.title-bar {\\n  display: contents;\\n  justify-content: center;\\n  align-content: center;\\n  width: 100%;\\n}\\n\\n.mdc-top-app-bar .bk-menu {\\n  color: black\\n}\\n\\n.app-header {\\n  display: contents;\\n  padding-left: 10px;\\n  font-size: 1.25em;\\n}\\n\\nimg.app-logo {\\n  padding-right: 10px;\\n  font-size: 28px;\\n  height: 30px;\\n  max-width: inherit;\\n  padding-top: 12px;\\n  padding-bottom: 6px;\\n}\\n\\n#app-title {\\n  padding-right: 12px;\\n  padding-left: 12px;\\n}\\n\\n.title {\\n  font-family: \\\"Josefin Sans\\\";\\n  color: #fff;\\n  text-decoration: none;\\n  text-decoration-line: none;\\n  text-decoration-style: initial;\\n  text-decoration-color: initial;\\n  font-weight: 400;\\n  font-size: 2em;\\n  line-height: 2em;\\n  white-space: nowrap;\\n}\\n\\n.main-content {\\n  overflow-y: scroll;\\n  overflow-x: auto;\\n}\\n\\n#header {\\n  position: absolute;\\n  z-index: 7;\\n}\\n\\n#header-items {\\n  width: 100%;\\n  margin-left:15px;\\n}\\n\\n.pn-busy-container {\\n  align-items: center;\\n  justify-content: center;\\n  display: flex;\\n}\\n\\n.mdc-drawer__content {\\n  overflow-x: hidden;\\n}\\n.mdc-drawer__content, .main-content {\\n  padding: 12px;\\n}\\n\\n.main-content {\\n  height: calc(100vh - 88px);\\n  max-height: calc(100vh - 88px);\\n  padding-right: 32px;\\n}\\n\\nbutton.mdc-button.mdc-card-button {\\n  color: transparent;\\n  height: 50px;\\n}\\n\\np.bk.mdc-button {\\n  display: none;\\n}\\n\\ndiv.bk.mdc-card {\\n  border-radius: 0px\\n}\\n\\n.mdc-card .bk.card-header {\\n  display: flex;\\n}\\n\\n.bk.mdc-card-title {\\n  font-family: \\\"Josefin Sans\\\";\\n  font-weight: bold;\\n  align-items: center;\\n  display: flex !important;\\n  position: relative !important;\\n}\\n\\n.bk.mdc-card-title:nth-child(2) {\\n  margin-left: -1.4em;\\n}\\n\\n.pn-modal {\\n  overflow-y: scroll;\\n  width: 100%;\\n  display: none;\\n  position: absolute;\\n  top: 0;\\n  left: 0;\\n}\\n\\n.pn-modal-content {\\n  font-family: \\\"Josefin Sans\\\";\\n  background-color: #0e0e0e;\\n  margin: auto;\\n  margin-top: 25px;\\n  margin-bottom: 25px;\\n  padding: 15px 20px 20px 20px;\\n  border: 1px solid #888;\\n  width: 80% !important;\\n}\\n\\n.pn-modal-close {\\n  position: absolute;\\n  right: 25px;\\n  z-index: 100;\\n}\\n\\n.pn-modal-close:hover,\\n.pn-modal-close:focus {\\n  color: #000;\\n  text-decoration: none;\\n  cursor: pointer;\\n}\\n\\n.custom_button_bokeh button.bk.bk-btn.bk-btn-default {\\n    font-size:48pt;\\n    background-color: #05b7ff;\\n    border-color: #05b7ff;\\n}\");\n",
       "    },    function(Bokeh) {\n",
       "      inject_raw_css(\"\\n    .bk.pn-loading.arc:before {\\n      background-image: url(\\\"data:image/svg+xml;base64,PHN2ZyB4bWxucz0iaHR0cDovL3d3dy53My5vcmcvMjAwMC9zdmciIHN0eWxlPSJtYXJnaW46IGF1dG87IGJhY2tncm91bmQ6IG5vbmU7IGRpc3BsYXk6IGJsb2NrOyBzaGFwZS1yZW5kZXJpbmc6IGF1dG87IiB2aWV3Qm94PSIwIDAgMTAwIDEwMCIgcHJlc2VydmVBc3BlY3RSYXRpbz0ieE1pZFlNaWQiPiAgPGNpcmNsZSBjeD0iNTAiIGN5PSI1MCIgZmlsbD0ibm9uZSIgc3Ryb2tlPSIjYzNjM2MzIiBzdHJva2Utd2lkdGg9IjEwIiByPSIzNSIgc3Ryb2tlLWRhc2hhcnJheT0iMTY0LjkzMzYxNDMxMzQ2NDE1IDU2Ljk3Nzg3MTQzNzgyMTM4Ij4gICAgPGFuaW1hdGVUcmFuc2Zvcm0gYXR0cmlidXRlTmFtZT0idHJhbnNmb3JtIiB0eXBlPSJyb3RhdGUiIHJlcGVhdENvdW50PSJpbmRlZmluaXRlIiBkdXI9IjFzIiB2YWx1ZXM9IjAgNTAgNTA7MzYwIDUwIDUwIiBrZXlUaW1lcz0iMDsxIj48L2FuaW1hdGVUcmFuc2Zvcm0+ICA8L2NpcmNsZT48L3N2Zz4=\\\");\\n      background-size: auto calc(min(50%, 400px));\\n    }\\n    \");\n",
       "    },    function(Bokeh) {\n",
       "      Bokeh.set_log_level(\"info\");\n",
       "    },\n",
       "function(Bokeh) {} // ensure no trailing comma for IE\n",
       "  ];\n",
       "\n",
       "  function run_inline_js() {\n",
       "    if ((root.Bokeh !== undefined) || (force === true)) {\n",
       "      for (var i = 0; i < inline_js.length; i++) {\n",
       "        inline_js[i].call(root, root.Bokeh);\n",
       "      }} else if (Date.now() < root._bokeh_timeout) {\n",
       "      setTimeout(run_inline_js, 100);\n",
       "    } else if (!root._bokeh_failed_load) {\n",
       "      console.log(\"Bokeh: BokehJS failed to load within specified timeout.\");\n",
       "      root._bokeh_failed_load = true;\n",
       "    }\n",
       "  }\n",
       "\n",
       "  if (root._bokeh_is_loading === 0) {\n",
       "    console.debug(\"Bokeh: BokehJS loaded, going straight to plotting\");\n",
       "    run_inline_js();\n",
       "  } else {\n",
       "    load_libs(css_urls, js_urls, js_modules, function() {\n",
       "      console.debug(\"Bokeh: BokehJS plotting callback run at\", now());\n",
       "      run_inline_js();\n",
       "    });\n",
       "  }\n",
       "}(window));"
      ],
      "application/vnd.holoviews_load.v0+json": "(function(root) {\n  function now() {\n    return new Date();\n  }\n\n  var force = true;\n\n  if (typeof root._bokeh_onload_callbacks === \"undefined\" || force === true) {\n    root._bokeh_onload_callbacks = [];\n    root._bokeh_is_loading = undefined;\n  }\n\n  if (typeof (root._bokeh_timeout) === \"undefined\" || force === true) {\n    root._bokeh_timeout = Date.now() + 5000;\n    root._bokeh_failed_load = false;\n  }\n\n  function run_callbacks() {\n    try {\n      root._bokeh_onload_callbacks.forEach(function(callback) {\n        if (callback != null)\n          callback();\n      });\n    } finally {\n      delete root._bokeh_onload_callbacks\n    }\n    console.debug(\"Bokeh: all callbacks have finished\");\n  }\n\n  function load_libs(css_urls, js_urls, js_modules, callback) {\n    if (css_urls == null) css_urls = [];\n    if (js_urls == null) js_urls = [];\n    if (js_modules == null) js_modules = [];\n\n    root._bokeh_onload_callbacks.push(callback);\n    if (root._bokeh_is_loading > 0) {\n      console.debug(\"Bokeh: BokehJS is being loaded, scheduling callback at\", now());\n      return null;\n    }\n    if (js_urls.length === 0 && js_modules.length === 0) {\n      run_callbacks();\n      return null;\n    }\n    console.debug(\"Bokeh: BokehJS not loaded, scheduling load and callback at\", now());\n\n    function on_load() {\n      root._bokeh_is_loading--;\n      if (root._bokeh_is_loading === 0) {\n        console.debug(\"Bokeh: all BokehJS libraries/stylesheets loaded\");\n        run_callbacks()\n      }\n    }\n\n    function on_error() {\n      console.error(\"failed to load \" + url);\n    }\n\n    for (var i = 0; i < css_urls.length; i++) {\n      var url = css_urls[i];\n      const element = document.createElement(\"link\");\n      element.onload = on_load;\n      element.onerror = on_error;\n      element.rel = \"stylesheet\";\n      element.type = \"text/css\";\n      element.href = url;\n      console.debug(\"Bokeh: injecting link tag for BokehJS stylesheet: \", url);\n      document.body.appendChild(element);\n    }\n\n    var skip = [];\n    if (window.requirejs) {\n      window.requirejs.config({'packages': {}, 'paths': {'ace': '//cdnjs.cloudflare.com/ajax/libs/ace/1.4.7', 'gridstack': 'https://cdn.jsdelivr.net/npm/gridstack@4.2.5/dist/gridstack-h5', 'notyf': 'https://cdn.jsdelivr.net/npm/notyf@3/notyf.min'}, 'shim': {'ace/ext-language_tools': {'deps': ['ace/ace']}, 'ace/ext-modelist': {'deps': ['ace/ace']}, 'gridstack': {'exports': 'GridStack'}}});\n      require([\"ace/ace\"], function(ace) {\n\twindow.ace = ace\n\ton_load()\n      })\n      require([\"ace/ext-language_tools\"], function() {\n\ton_load()\n      })\n      require([\"ace/ext-modelist\"], function() {\n\ton_load()\n      })\n      require([\"gridstack\"], function(GridStack) {\n\twindow.GridStack = GridStack\n\ton_load()\n      })\n      require([\"notyf\"], function() {\n\ton_load()\n      })\n      root._bokeh_is_loading = css_urls.length + 5;\n    } else {\n      root._bokeh_is_loading = css_urls.length + js_urls.length + js_modules.length;\n    }    if (((window['ace'] !== undefined) && (!(window['ace'] instanceof HTMLElement))) || window.requirejs) {\n      var urls = ['https://cdnjs.cloudflare.com/ajax/libs/ace/1.4.11/ace.js', 'https://cdnjs.cloudflare.com/ajax/libs/ace/1.4.11/ext-language_tools.js', 'https://cdnjs.cloudflare.com/ajax/libs/ace/1.4.11/ext-modelist.js'];\n      for (var i = 0; i < urls.length; i++) {\n        skip.push(urls[i])\n      }\n    }    if (((window['GridStack'] !== undefined) && (!(window['GridStack'] instanceof HTMLElement))) || window.requirejs) {\n      var urls = ['https://cdn.holoviz.org/panel/0.14.4/dist/bundled/gridstack/gridstack@4.2.5/dist/gridstack-h5.js'];\n      for (var i = 0; i < urls.length; i++) {\n        skip.push(urls[i])\n      }\n    }    if (((window['Notyf'] !== undefined) && (!(window['Notyf'] instanceof HTMLElement))) || window.requirejs) {\n      var urls = ['https://cdn.holoviz.org/panel/0.14.4/dist/bundled/notificationarea/notyf@3/notyf.min.js'];\n      for (var i = 0; i < urls.length; i++) {\n        skip.push(urls[i])\n      }\n    }    for (var i = 0; i < js_urls.length; i++) {\n      var url = js_urls[i];\n      if (skip.indexOf(url) >= 0) {\n\tif (!window.requirejs) {\n\t  on_load();\n\t}\n\tcontinue;\n      }\n      var element = document.createElement('script');\n      element.onload = on_load;\n      element.onerror = on_error;\n      element.async = false;\n      element.src = url;\n      console.debug(\"Bokeh: injecting script tag for BokehJS library: \", url);\n      document.head.appendChild(element);\n    }\n    for (var i = 0; i < js_modules.length; i++) {\n      var url = js_modules[i];\n      if (skip.indexOf(url) >= 0) {\n\tif (!window.requirejs) {\n\t  on_load();\n\t}\n\tcontinue;\n      }\n      var element = document.createElement('script');\n      element.onload = on_load;\n      element.onerror = on_error;\n      element.async = false;\n      element.src = url;\n      element.type = \"module\";\n      console.debug(\"Bokeh: injecting script tag for BokehJS library: \", url);\n      document.head.appendChild(element);\n    }\n    if (!js_urls.length && !js_modules.length) {\n      on_load()\n    }\n  };\n\n  function inject_raw_css(css) {\n    const element = document.createElement(\"style\");\n    element.appendChild(document.createTextNode(css));\n    document.body.appendChild(element);\n  }\n\n  var js_urls = [\"https://cdnjs.cloudflare.com/ajax/libs/ace/1.4.11/ace.js\", \"https://cdnjs.cloudflare.com/ajax/libs/ace/1.4.11/ext-language_tools.js\", \"https://cdnjs.cloudflare.com/ajax/libs/ace/1.4.11/ext-modelist.js\", \"https://cdn.bokeh.org/bokeh/release/bokeh-2.4.3.min.js\", \"https://cdn.bokeh.org/bokeh/release/bokeh-gl-2.4.3.min.js\", \"https://cdn.bokeh.org/bokeh/release/bokeh-widgets-2.4.3.min.js\", \"https://cdn.bokeh.org/bokeh/release/bokeh-tables-2.4.3.min.js\", \"https://cdn.bokeh.org/bokeh/release/bokeh-mathjax-2.4.3.min.js\", \"https://unpkg.com/@holoviz/panel@0.14.4/dist/panel.min.js\"];\n  var js_modules = [];\n  var css_urls = [\"https://cdn.holoviz.org/panel/0.14.4/dist/css/debugger.css\", \"https://cdn.holoviz.org/panel/0.14.4/dist/css/alerts.css\", \"https://cdn.holoviz.org/panel/0.14.4/dist/css/card.css\", \"https://cdn.holoviz.org/panel/0.14.4/dist/css/widgets.css\", \"https://cdn.holoviz.org/panel/0.14.4/dist/css/markdown.css\", \"https://cdn.holoviz.org/panel/0.14.4/dist/css/json.css\", \"https://cdn.holoviz.org/panel/0.14.4/dist/css/loading.css\", \"https://cdn.holoviz.org/panel/0.14.4/dist/css/dataframe.css\"];\n  var inline_js = [    function(Bokeh) {\n      inject_raw_css(\"/*\\n ~ CML // Creative Machine Learning ~\\n mml.css : CSS styling information for Panel and Bokeh\\n \\n This file defines the main CSS styling information for the CML course\\n \\n Author               :  Philippe Esling\\n                        <esling@ircam.fr>\\n*/\\n\\nbody {\\n  display: flex;\\n  height: 100vh;\\n  margin: 0px;\\n  overflow-x: hidden;\\n  overflow-y: hidden;\\n}\\n\\n.bk-root .bk, .bk-root .bk:before, .bk-root .bk:after {\\n  font-family: \\\"Josefin Sans\\\";\\n}\\n\\nimg {\\n  max-width: 100%;\\n}\\n\\n#container {\\n  padding:0px;\\n  height:100vh;\\n  width: 100vw;\\n  max-width: 100vw;\\n}\\n\\n#sidebar .mdc-list {\\n  padding-left: 5px;\\n  padding-right: 5px;\\n}\\n\\n.mdc-drawer-app-content {\\n  flex: auto;\\n  position: relative;\\n  overflow: hidden;\\n}\\n\\n.mdc-drawer {\\n  background: #FAFAFA; /* GRAY 50 */\\n}\\n\\n.mdc-drawer-app-content {\\n  margin-left: 0 !important;\\n}\\n\\n.title-bar {\\n  display: contents;\\n  justify-content: center;\\n  align-content: center;\\n  width: 100%;\\n}\\n\\n.mdc-top-app-bar .bk-menu {\\n  color: black\\n}\\n\\n.app-header {\\n  display: contents;\\n  padding-left: 10px;\\n  font-size: 1.25em;\\n}\\n\\nimg.app-logo {\\n  padding-right: 10px;\\n  font-size: 28px;\\n  height: 30px;\\n  max-width: inherit;\\n  padding-top: 12px;\\n  padding-bottom: 6px;\\n}\\n\\n#app-title {\\n  padding-right: 12px;\\n  padding-left: 12px;\\n}\\n\\n.title {\\n  font-family: \\\"Josefin Sans\\\";\\n  color: #fff;\\n  text-decoration: none;\\n  text-decoration-line: none;\\n  text-decoration-style: initial;\\n  text-decoration-color: initial;\\n  font-weight: 400;\\n  font-size: 2em;\\n  line-height: 2em;\\n  white-space: nowrap;\\n}\\n\\n.main-content {\\n  overflow-y: scroll;\\n  overflow-x: auto;\\n}\\n\\n#header {\\n  position: absolute;\\n  z-index: 7;\\n}\\n\\n#header-items {\\n  width: 100%;\\n  margin-left:15px;\\n}\\n\\n.pn-busy-container {\\n  align-items: center;\\n  justify-content: center;\\n  display: flex;\\n}\\n\\n.mdc-drawer__content {\\n  overflow-x: hidden;\\n}\\n.mdc-drawer__content, .main-content {\\n  padding: 12px;\\n}\\n\\n.main-content {\\n  height: calc(100vh - 88px);\\n  max-height: calc(100vh - 88px);\\n  padding-right: 32px;\\n}\\n\\nbutton.mdc-button.mdc-card-button {\\n  color: transparent;\\n  height: 50px;\\n}\\n\\np.bk.mdc-button {\\n  display: none;\\n}\\n\\ndiv.bk.mdc-card {\\n  border-radius: 0px\\n}\\n\\n.mdc-card .bk.card-header {\\n  display: flex;\\n}\\n\\n.bk.mdc-card-title {\\n  font-family: \\\"Josefin Sans\\\";\\n  font-weight: bold;\\n  align-items: center;\\n  display: flex !important;\\n  position: relative !important;\\n}\\n\\n.bk.mdc-card-title:nth-child(2) {\\n  margin-left: -1.4em;\\n}\\n\\n.pn-modal {\\n  overflow-y: scroll;\\n  width: 100%;\\n  display: none;\\n  position: absolute;\\n  top: 0;\\n  left: 0;\\n}\\n\\n.pn-modal-content {\\n  font-family: \\\"Josefin Sans\\\";\\n  background-color: #0e0e0e;\\n  margin: auto;\\n  margin-top: 25px;\\n  margin-bottom: 25px;\\n  padding: 15px 20px 20px 20px;\\n  border: 1px solid #888;\\n  width: 80% !important;\\n}\\n\\n.pn-modal-close {\\n  position: absolute;\\n  right: 25px;\\n  z-index: 100;\\n}\\n\\n.pn-modal-close:hover,\\n.pn-modal-close:focus {\\n  color: #000;\\n  text-decoration: none;\\n  cursor: pointer;\\n}\\n\\n.custom_button_bokeh button.bk.bk-btn.bk-btn-default {\\n    font-size:48pt;\\n    background-color: #05b7ff;\\n    border-color: #05b7ff;\\n}\");\n    },    function(Bokeh) {\n      inject_raw_css(\"\\n    .bk.pn-loading.arc:before {\\n      background-image: url(\\\"data:image/svg+xml;base64,PHN2ZyB4bWxucz0iaHR0cDovL3d3dy53My5vcmcvMjAwMC9zdmciIHN0eWxlPSJtYXJnaW46IGF1dG87IGJhY2tncm91bmQ6IG5vbmU7IGRpc3BsYXk6IGJsb2NrOyBzaGFwZS1yZW5kZXJpbmc6IGF1dG87IiB2aWV3Qm94PSIwIDAgMTAwIDEwMCIgcHJlc2VydmVBc3BlY3RSYXRpbz0ieE1pZFlNaWQiPiAgPGNpcmNsZSBjeD0iNTAiIGN5PSI1MCIgZmlsbD0ibm9uZSIgc3Ryb2tlPSIjYzNjM2MzIiBzdHJva2Utd2lkdGg9IjEwIiByPSIzNSIgc3Ryb2tlLWRhc2hhcnJheT0iMTY0LjkzMzYxNDMxMzQ2NDE1IDU2Ljk3Nzg3MTQzNzgyMTM4Ij4gICAgPGFuaW1hdGVUcmFuc2Zvcm0gYXR0cmlidXRlTmFtZT0idHJhbnNmb3JtIiB0eXBlPSJyb3RhdGUiIHJlcGVhdENvdW50PSJpbmRlZmluaXRlIiBkdXI9IjFzIiB2YWx1ZXM9IjAgNTAgNTA7MzYwIDUwIDUwIiBrZXlUaW1lcz0iMDsxIj48L2FuaW1hdGVUcmFuc2Zvcm0+ICA8L2NpcmNsZT48L3N2Zz4=\\\");\\n      background-size: auto calc(min(50%, 400px));\\n    }\\n    \");\n    },    function(Bokeh) {\n      Bokeh.set_log_level(\"info\");\n    },\nfunction(Bokeh) {} // ensure no trailing comma for IE\n  ];\n\n  function run_inline_js() {\n    if ((root.Bokeh !== undefined) || (force === true)) {\n      for (var i = 0; i < inline_js.length; i++) {\n        inline_js[i].call(root, root.Bokeh);\n      }} else if (Date.now() < root._bokeh_timeout) {\n      setTimeout(run_inline_js, 100);\n    } else if (!root._bokeh_failed_load) {\n      console.log(\"Bokeh: BokehJS failed to load within specified timeout.\");\n      root._bokeh_failed_load = true;\n    }\n  }\n\n  if (root._bokeh_is_loading === 0) {\n    console.debug(\"Bokeh: BokehJS loaded, going straight to plotting\");\n    run_inline_js();\n  } else {\n    load_libs(css_urls, js_urls, js_modules, function() {\n      console.debug(\"Bokeh: BokehJS plotting callback run at\", now());\n      run_inline_js();\n    });\n  }\n}(window));"
     },
     "metadata": {},
     "output_type": "display_data"
    },
    {
     "data": {
      "application/javascript": [
       "\n",
       "if ((window.PyViz === undefined) || (window.PyViz instanceof HTMLElement)) {\n",
       "  window.PyViz = {comms: {}, comm_status:{}, kernels:{}, receivers: {}, plot_index: []}\n",
       "}\n",
       "\n",
       "\n",
       "    function JupyterCommManager() {\n",
       "    }\n",
       "\n",
       "    JupyterCommManager.prototype.register_target = function(plot_id, comm_id, msg_handler) {\n",
       "      if (window.comm_manager || ((window.Jupyter !== undefined) && (Jupyter.notebook.kernel != null))) {\n",
       "        var comm_manager = window.comm_manager || Jupyter.notebook.kernel.comm_manager;\n",
       "        comm_manager.register_target(comm_id, function(comm) {\n",
       "          comm.on_msg(msg_handler);\n",
       "        });\n",
       "      } else if ((plot_id in window.PyViz.kernels) && (window.PyViz.kernels[plot_id])) {\n",
       "        window.PyViz.kernels[plot_id].registerCommTarget(comm_id, function(comm) {\n",
       "          comm.onMsg = msg_handler;\n",
       "        });\n",
       "      } else if (typeof google != 'undefined' && google.colab.kernel != null) {\n",
       "        google.colab.kernel.comms.registerTarget(comm_id, (comm) => {\n",
       "          var messages = comm.messages[Symbol.asyncIterator]();\n",
       "          function processIteratorResult(result) {\n",
       "            var message = result.value;\n",
       "            console.log(message)\n",
       "            var content = {data: message.data, comm_id};\n",
       "            var buffers = []\n",
       "            for (var buffer of message.buffers || []) {\n",
       "              buffers.push(new DataView(buffer))\n",
       "            }\n",
       "            var metadata = message.metadata || {};\n",
       "            var msg = {content, buffers, metadata}\n",
       "            msg_handler(msg);\n",
       "            return messages.next().then(processIteratorResult);\n",
       "          }\n",
       "          return messages.next().then(processIteratorResult);\n",
       "        })\n",
       "      }\n",
       "    }\n",
       "\n",
       "    JupyterCommManager.prototype.get_client_comm = function(plot_id, comm_id, msg_handler) {\n",
       "      if (comm_id in window.PyViz.comms) {\n",
       "        return window.PyViz.comms[comm_id];\n",
       "      } else if (window.comm_manager || ((window.Jupyter !== undefined) && (Jupyter.notebook.kernel != null))) {\n",
       "        var comm_manager = window.comm_manager || Jupyter.notebook.kernel.comm_manager;\n",
       "        var comm = comm_manager.new_comm(comm_id, {}, {}, {}, comm_id);\n",
       "        if (msg_handler) {\n",
       "          comm.on_msg(msg_handler);\n",
       "        }\n",
       "      } else if ((plot_id in window.PyViz.kernels) && (window.PyViz.kernels[plot_id])) {\n",
       "        var comm = window.PyViz.kernels[plot_id].connectToComm(comm_id);\n",
       "        comm.open();\n",
       "        if (msg_handler) {\n",
       "          comm.onMsg = msg_handler;\n",
       "        }\n",
       "      } else if (typeof google != 'undefined' && google.colab.kernel != null) {\n",
       "        var comm_promise = google.colab.kernel.comms.open(comm_id)\n",
       "        comm_promise.then((comm) => {\n",
       "          window.PyViz.comms[comm_id] = comm;\n",
       "          if (msg_handler) {\n",
       "            var messages = comm.messages[Symbol.asyncIterator]();\n",
       "            function processIteratorResult(result) {\n",
       "              var message = result.value;\n",
       "              var content = {data: message.data};\n",
       "              var metadata = message.metadata || {comm_id};\n",
       "              var msg = {content, metadata}\n",
       "              msg_handler(msg);\n",
       "              return messages.next().then(processIteratorResult);\n",
       "            }\n",
       "            return messages.next().then(processIteratorResult);\n",
       "          }\n",
       "        }) \n",
       "        var sendClosure = (data, metadata, buffers, disposeOnDone) => {\n",
       "          return comm_promise.then((comm) => {\n",
       "            comm.send(data, metadata, buffers, disposeOnDone);\n",
       "          });\n",
       "        };\n",
       "        var comm = {\n",
       "          send: sendClosure\n",
       "        };\n",
       "      }\n",
       "      window.PyViz.comms[comm_id] = comm;\n",
       "      return comm;\n",
       "    }\n",
       "    window.PyViz.comm_manager = new JupyterCommManager();\n",
       "    \n",
       "\n",
       "\n",
       "var JS_MIME_TYPE = 'application/javascript';\n",
       "var HTML_MIME_TYPE = 'text/html';\n",
       "var EXEC_MIME_TYPE = 'application/vnd.holoviews_exec.v0+json';\n",
       "var CLASS_NAME = 'output';\n",
       "\n",
       "/**\n",
       " * Render data to the DOM node\n",
       " */\n",
       "function render(props, node) {\n",
       "  var div = document.createElement(\"div\");\n",
       "  var script = document.createElement(\"script\");\n",
       "  node.appendChild(div);\n",
       "  node.appendChild(script);\n",
       "}\n",
       "\n",
       "/**\n",
       " * Handle when a new output is added\n",
       " */\n",
       "function handle_add_output(event, handle) {\n",
       "  var output_area = handle.output_area;\n",
       "  var output = handle.output;\n",
       "  if ((output.data == undefined) || (!output.data.hasOwnProperty(EXEC_MIME_TYPE))) {\n",
       "    return\n",
       "  }\n",
       "  var id = output.metadata[EXEC_MIME_TYPE][\"id\"];\n",
       "  var toinsert = output_area.element.find(\".\" + CLASS_NAME.split(' ')[0]);\n",
       "  if (id !== undefined) {\n",
       "    var nchildren = toinsert.length;\n",
       "    var html_node = toinsert[nchildren-1].children[0];\n",
       "    html_node.innerHTML = output.data[HTML_MIME_TYPE];\n",
       "    var scripts = [];\n",
       "    var nodelist = html_node.querySelectorAll(\"script\");\n",
       "    for (var i in nodelist) {\n",
       "      if (nodelist.hasOwnProperty(i)) {\n",
       "        scripts.push(nodelist[i])\n",
       "      }\n",
       "    }\n",
       "\n",
       "    scripts.forEach( function (oldScript) {\n",
       "      var newScript = document.createElement(\"script\");\n",
       "      var attrs = [];\n",
       "      var nodemap = oldScript.attributes;\n",
       "      for (var j in nodemap) {\n",
       "        if (nodemap.hasOwnProperty(j)) {\n",
       "          attrs.push(nodemap[j])\n",
       "        }\n",
       "      }\n",
       "      attrs.forEach(function(attr) { newScript.setAttribute(attr.name, attr.value) });\n",
       "      newScript.appendChild(document.createTextNode(oldScript.innerHTML));\n",
       "      oldScript.parentNode.replaceChild(newScript, oldScript);\n",
       "    });\n",
       "    if (JS_MIME_TYPE in output.data) {\n",
       "      toinsert[nchildren-1].children[1].textContent = output.data[JS_MIME_TYPE];\n",
       "    }\n",
       "    output_area._hv_plot_id = id;\n",
       "    if ((window.Bokeh !== undefined) && (id in Bokeh.index)) {\n",
       "      window.PyViz.plot_index[id] = Bokeh.index[id];\n",
       "    } else {\n",
       "      window.PyViz.plot_index[id] = null;\n",
       "    }\n",
       "  } else if (output.metadata[EXEC_MIME_TYPE][\"server_id\"] !== undefined) {\n",
       "    var bk_div = document.createElement(\"div\");\n",
       "    bk_div.innerHTML = output.data[HTML_MIME_TYPE];\n",
       "    var script_attrs = bk_div.children[0].attributes;\n",
       "    for (var i = 0; i < script_attrs.length; i++) {\n",
       "      toinsert[toinsert.length - 1].childNodes[1].setAttribute(script_attrs[i].name, script_attrs[i].value);\n",
       "    }\n",
       "    // store reference to server id on output_area\n",
       "    output_area._bokeh_server_id = output.metadata[EXEC_MIME_TYPE][\"server_id\"];\n",
       "  }\n",
       "}\n",
       "\n",
       "/**\n",
       " * Handle when an output is cleared or removed\n",
       " */\n",
       "function handle_clear_output(event, handle) {\n",
       "  var id = handle.cell.output_area._hv_plot_id;\n",
       "  var server_id = handle.cell.output_area._bokeh_server_id;\n",
       "  if (((id === undefined) || !(id in PyViz.plot_index)) && (server_id !== undefined)) { return; }\n",
       "  var comm = window.PyViz.comm_manager.get_client_comm(\"hv-extension-comm\", \"hv-extension-comm\", function () {});\n",
       "  if (server_id !== null) {\n",
       "    comm.send({event_type: 'server_delete', 'id': server_id});\n",
       "    return;\n",
       "  } else if (comm !== null) {\n",
       "    comm.send({event_type: 'delete', 'id': id});\n",
       "  }\n",
       "  delete PyViz.plot_index[id];\n",
       "  if ((window.Bokeh !== undefined) & (id in window.Bokeh.index)) {\n",
       "    var doc = window.Bokeh.index[id].model.document\n",
       "    doc.clear();\n",
       "    const i = window.Bokeh.documents.indexOf(doc);\n",
       "    if (i > -1) {\n",
       "      window.Bokeh.documents.splice(i, 1);\n",
       "    }\n",
       "  }\n",
       "}\n",
       "\n",
       "/**\n",
       " * Handle kernel restart event\n",
       " */\n",
       "function handle_kernel_cleanup(event, handle) {\n",
       "  delete PyViz.comms[\"hv-extension-comm\"];\n",
       "  window.PyViz.plot_index = {}\n",
       "}\n",
       "\n",
       "/**\n",
       " * Handle update_display_data messages\n",
       " */\n",
       "function handle_update_output(event, handle) {\n",
       "  handle_clear_output(event, {cell: {output_area: handle.output_area}})\n",
       "  handle_add_output(event, handle)\n",
       "}\n",
       "\n",
       "function register_renderer(events, OutputArea) {\n",
       "  function append_mime(data, metadata, element) {\n",
       "    // create a DOM node to render to\n",
       "    var toinsert = this.create_output_subarea(\n",
       "    metadata,\n",
       "    CLASS_NAME,\n",
       "    EXEC_MIME_TYPE\n",
       "    );\n",
       "    this.keyboard_manager.register_events(toinsert);\n",
       "    // Render to node\n",
       "    var props = {data: data, metadata: metadata[EXEC_MIME_TYPE]};\n",
       "    render(props, toinsert[0]);\n",
       "    element.append(toinsert);\n",
       "    return toinsert\n",
       "  }\n",
       "\n",
       "  events.on('output_added.OutputArea', handle_add_output);\n",
       "  events.on('output_updated.OutputArea', handle_update_output);\n",
       "  events.on('clear_output.CodeCell', handle_clear_output);\n",
       "  events.on('delete.Cell', handle_clear_output);\n",
       "  events.on('kernel_ready.Kernel', handle_kernel_cleanup);\n",
       "\n",
       "  OutputArea.prototype.register_mime_type(EXEC_MIME_TYPE, append_mime, {\n",
       "    safe: true,\n",
       "    index: 0\n",
       "  });\n",
       "}\n",
       "\n",
       "if (window.Jupyter !== undefined) {\n",
       "  try {\n",
       "    var events = require('base/js/events');\n",
       "    var OutputArea = require('notebook/js/outputarea').OutputArea;\n",
       "    if (OutputArea.prototype.mime_types().indexOf(EXEC_MIME_TYPE) == -1) {\n",
       "      register_renderer(events, OutputArea);\n",
       "    }\n",
       "  } catch(err) {\n",
       "  }\n",
       "}\n"
      ],
      "application/vnd.holoviews_load.v0+json": "\nif ((window.PyViz === undefined) || (window.PyViz instanceof HTMLElement)) {\n  window.PyViz = {comms: {}, comm_status:{}, kernels:{}, receivers: {}, plot_index: []}\n}\n\n\n    function JupyterCommManager() {\n    }\n\n    JupyterCommManager.prototype.register_target = function(plot_id, comm_id, msg_handler) {\n      if (window.comm_manager || ((window.Jupyter !== undefined) && (Jupyter.notebook.kernel != null))) {\n        var comm_manager = window.comm_manager || Jupyter.notebook.kernel.comm_manager;\n        comm_manager.register_target(comm_id, function(comm) {\n          comm.on_msg(msg_handler);\n        });\n      } else if ((plot_id in window.PyViz.kernels) && (window.PyViz.kernels[plot_id])) {\n        window.PyViz.kernels[plot_id].registerCommTarget(comm_id, function(comm) {\n          comm.onMsg = msg_handler;\n        });\n      } else if (typeof google != 'undefined' && google.colab.kernel != null) {\n        google.colab.kernel.comms.registerTarget(comm_id, (comm) => {\n          var messages = comm.messages[Symbol.asyncIterator]();\n          function processIteratorResult(result) {\n            var message = result.value;\n            console.log(message)\n            var content = {data: message.data, comm_id};\n            var buffers = []\n            for (var buffer of message.buffers || []) {\n              buffers.push(new DataView(buffer))\n            }\n            var metadata = message.metadata || {};\n            var msg = {content, buffers, metadata}\n            msg_handler(msg);\n            return messages.next().then(processIteratorResult);\n          }\n          return messages.next().then(processIteratorResult);\n        })\n      }\n    }\n\n    JupyterCommManager.prototype.get_client_comm = function(plot_id, comm_id, msg_handler) {\n      if (comm_id in window.PyViz.comms) {\n        return window.PyViz.comms[comm_id];\n      } else if (window.comm_manager || ((window.Jupyter !== undefined) && (Jupyter.notebook.kernel != null))) {\n        var comm_manager = window.comm_manager || Jupyter.notebook.kernel.comm_manager;\n        var comm = comm_manager.new_comm(comm_id, {}, {}, {}, comm_id);\n        if (msg_handler) {\n          comm.on_msg(msg_handler);\n        }\n      } else if ((plot_id in window.PyViz.kernels) && (window.PyViz.kernels[plot_id])) {\n        var comm = window.PyViz.kernels[plot_id].connectToComm(comm_id);\n        comm.open();\n        if (msg_handler) {\n          comm.onMsg = msg_handler;\n        }\n      } else if (typeof google != 'undefined' && google.colab.kernel != null) {\n        var comm_promise = google.colab.kernel.comms.open(comm_id)\n        comm_promise.then((comm) => {\n          window.PyViz.comms[comm_id] = comm;\n          if (msg_handler) {\n            var messages = comm.messages[Symbol.asyncIterator]();\n            function processIteratorResult(result) {\n              var message = result.value;\n              var content = {data: message.data};\n              var metadata = message.metadata || {comm_id};\n              var msg = {content, metadata}\n              msg_handler(msg);\n              return messages.next().then(processIteratorResult);\n            }\n            return messages.next().then(processIteratorResult);\n          }\n        }) \n        var sendClosure = (data, metadata, buffers, disposeOnDone) => {\n          return comm_promise.then((comm) => {\n            comm.send(data, metadata, buffers, disposeOnDone);\n          });\n        };\n        var comm = {\n          send: sendClosure\n        };\n      }\n      window.PyViz.comms[comm_id] = comm;\n      return comm;\n    }\n    window.PyViz.comm_manager = new JupyterCommManager();\n    \n\n\nvar JS_MIME_TYPE = 'application/javascript';\nvar HTML_MIME_TYPE = 'text/html';\nvar EXEC_MIME_TYPE = 'application/vnd.holoviews_exec.v0+json';\nvar CLASS_NAME = 'output';\n\n/**\n * Render data to the DOM node\n */\nfunction render(props, node) {\n  var div = document.createElement(\"div\");\n  var script = document.createElement(\"script\");\n  node.appendChild(div);\n  node.appendChild(script);\n}\n\n/**\n * Handle when a new output is added\n */\nfunction handle_add_output(event, handle) {\n  var output_area = handle.output_area;\n  var output = handle.output;\n  if ((output.data == undefined) || (!output.data.hasOwnProperty(EXEC_MIME_TYPE))) {\n    return\n  }\n  var id = output.metadata[EXEC_MIME_TYPE][\"id\"];\n  var toinsert = output_area.element.find(\".\" + CLASS_NAME.split(' ')[0]);\n  if (id !== undefined) {\n    var nchildren = toinsert.length;\n    var html_node = toinsert[nchildren-1].children[0];\n    html_node.innerHTML = output.data[HTML_MIME_TYPE];\n    var scripts = [];\n    var nodelist = html_node.querySelectorAll(\"script\");\n    for (var i in nodelist) {\n      if (nodelist.hasOwnProperty(i)) {\n        scripts.push(nodelist[i])\n      }\n    }\n\n    scripts.forEach( function (oldScript) {\n      var newScript = document.createElement(\"script\");\n      var attrs = [];\n      var nodemap = oldScript.attributes;\n      for (var j in nodemap) {\n        if (nodemap.hasOwnProperty(j)) {\n          attrs.push(nodemap[j])\n        }\n      }\n      attrs.forEach(function(attr) { newScript.setAttribute(attr.name, attr.value) });\n      newScript.appendChild(document.createTextNode(oldScript.innerHTML));\n      oldScript.parentNode.replaceChild(newScript, oldScript);\n    });\n    if (JS_MIME_TYPE in output.data) {\n      toinsert[nchildren-1].children[1].textContent = output.data[JS_MIME_TYPE];\n    }\n    output_area._hv_plot_id = id;\n    if ((window.Bokeh !== undefined) && (id in Bokeh.index)) {\n      window.PyViz.plot_index[id] = Bokeh.index[id];\n    } else {\n      window.PyViz.plot_index[id] = null;\n    }\n  } else if (output.metadata[EXEC_MIME_TYPE][\"server_id\"] !== undefined) {\n    var bk_div = document.createElement(\"div\");\n    bk_div.innerHTML = output.data[HTML_MIME_TYPE];\n    var script_attrs = bk_div.children[0].attributes;\n    for (var i = 0; i < script_attrs.length; i++) {\n      toinsert[toinsert.length - 1].childNodes[1].setAttribute(script_attrs[i].name, script_attrs[i].value);\n    }\n    // store reference to server id on output_area\n    output_area._bokeh_server_id = output.metadata[EXEC_MIME_TYPE][\"server_id\"];\n  }\n}\n\n/**\n * Handle when an output is cleared or removed\n */\nfunction handle_clear_output(event, handle) {\n  var id = handle.cell.output_area._hv_plot_id;\n  var server_id = handle.cell.output_area._bokeh_server_id;\n  if (((id === undefined) || !(id in PyViz.plot_index)) && (server_id !== undefined)) { return; }\n  var comm = window.PyViz.comm_manager.get_client_comm(\"hv-extension-comm\", \"hv-extension-comm\", function () {});\n  if (server_id !== null) {\n    comm.send({event_type: 'server_delete', 'id': server_id});\n    return;\n  } else if (comm !== null) {\n    comm.send({event_type: 'delete', 'id': id});\n  }\n  delete PyViz.plot_index[id];\n  if ((window.Bokeh !== undefined) & (id in window.Bokeh.index)) {\n    var doc = window.Bokeh.index[id].model.document\n    doc.clear();\n    const i = window.Bokeh.documents.indexOf(doc);\n    if (i > -1) {\n      window.Bokeh.documents.splice(i, 1);\n    }\n  }\n}\n\n/**\n * Handle kernel restart event\n */\nfunction handle_kernel_cleanup(event, handle) {\n  delete PyViz.comms[\"hv-extension-comm\"];\n  window.PyViz.plot_index = {}\n}\n\n/**\n * Handle update_display_data messages\n */\nfunction handle_update_output(event, handle) {\n  handle_clear_output(event, {cell: {output_area: handle.output_area}})\n  handle_add_output(event, handle)\n}\n\nfunction register_renderer(events, OutputArea) {\n  function append_mime(data, metadata, element) {\n    // create a DOM node to render to\n    var toinsert = this.create_output_subarea(\n    metadata,\n    CLASS_NAME,\n    EXEC_MIME_TYPE\n    );\n    this.keyboard_manager.register_events(toinsert);\n    // Render to node\n    var props = {data: data, metadata: metadata[EXEC_MIME_TYPE]};\n    render(props, toinsert[0]);\n    element.append(toinsert);\n    return toinsert\n  }\n\n  events.on('output_added.OutputArea', handle_add_output);\n  events.on('output_updated.OutputArea', handle_update_output);\n  events.on('clear_output.CodeCell', handle_clear_output);\n  events.on('delete.Cell', handle_clear_output);\n  events.on('kernel_ready.Kernel', handle_kernel_cleanup);\n\n  OutputArea.prototype.register_mime_type(EXEC_MIME_TYPE, append_mime, {\n    safe: true,\n    index: 0\n  });\n}\n\nif (window.Jupyter !== undefined) {\n  try {\n    var events = require('base/js/events');\n    var OutputArea = require('notebook/js/outputarea').OutputArea;\n    if (OutputArea.prototype.mime_types().indexOf(EXEC_MIME_TYPE) == -1) {\n      register_renderer(events, OutputArea);\n    }\n  } catch(err) {\n  }\n}\n"
     },
     "metadata": {},
     "output_type": "display_data"
    },
    {
     "data": {
      "text/html": [
       "<style>.bk-root, .bk-root .bk:before, .bk-root .bk:after {\n",
       "  font-family: var(--jp-ui-font-size1);\n",
       "  font-size: var(--jp-ui-font-size1);\n",
       "  color: var(--jp-ui-font-color1);\n",
       "}\n",
       "</style>"
      ]
     },
     "metadata": {},
     "output_type": "display_data"
    }
   ],
   "source": [
    "# Base imports\n",
    "import time\n",
    "import numpy as np\n",
    "import matplotlib.pyplot as plt\n",
    "from cml.plot import initialize_bokeh\n",
    "from cml.panel import initialize_panel\n",
    "from jupyterthemes.stylefx import set_nb_theme\n",
    "from bokeh.io import show\n",
    "initialize_bokeh()\n",
    "initialize_panel()\n",
    "set_nb_theme(\"onedork\")\n",
    "rng = np.random.RandomState(1)"
   ]
  },
  {
   "cell_type": "markdown",
   "metadata": {},
   "source": [
    "As usual, to simplify your work, we provide sets of functions that allows fast problem definition and plotting functionnalities (from our `cml` library).\n",
    "\n",
    "  |**File**|*Explanation*|\n",
    "  |-------:|:---------|\n",
    "  |`scatter_boundary`|Plots the decision boundary of a single neuron with 2-dimensional inputs|\n",
    "  |`scatter_classes`|Plots (bi-dimensionnal) input patterns|"
   ]
  },
  {
   "cell_type": "code",
   "execution_count": 2,
   "metadata": {
    "tags": []
   },
   "outputs": [],
   "source": [
    "from cml.plot import scatter_classes, scatter_boundary, center_plot"
   ]
  },
  {
   "cell_type": "markdown",
   "metadata": {},
   "source": [
    "Remember that a single neuron is only able to learn _linearly separable_ problems. To produce such classes of problems, we provide a script that draw a set of random 2-dimensional points, then choose a random line in this space that will act as the linear frontier between 2 classes (hence defining a linear 2-class problem). The variables that will be used by your code are the following.  \n",
    "\n",
    "```Python\n",
    "y_class       # classes of the observqtions \n",
    "x_inputs      # 2 x n final matrix of random input observations\n",
    "weights       # 2 x 1 vector of neuron weights\n",
    "bias          # 1 x 1 vector of bias\n",
    "```\n",
    "\n",
    "You can execute the code below to see our simple classification problem. (Note that running the same cell multiple times produces a different starting dataset). In order to have a well-defined classification problem, we can rely on the `make_blobs` function provided by `scikit-learn` in the `sklearn.datasets` package."
   ]
  },
  {
   "cell_type": "code",
   "execution_count": 3,
   "metadata": {
    "tags": []
   },
   "outputs": [
    {
     "data": {},
     "metadata": {},
     "output_type": "display_data"
    },
    {
     "data": {
      "application/vnd.holoviews_exec.v0+json": "",
      "text/html": [
       "<div id='1055'>\n",
       "  <div class=\"bk-root\" id=\"91e6d1af-d7b3-4309-80f8-78fb9c8f386b\" data-root-id=\"1055\"></div>\n",
       "</div>\n",
       "<script type=\"application/javascript\">(function(root) {\n",
       "  function embed_document(root) {\n",
       "    var docs_json = {\"42a8370c-6b51-4d84-b78d-07c5c5a207e8\":{\"defs\":[{\"extends\":null,\"module\":null,\"name\":\"ReactiveHTML1\",\"overrides\":[],\"properties\":[]},{\"extends\":null,\"module\":null,\"name\":\"FlexBox1\",\"overrides\":[],\"properties\":[{\"default\":\"flex-start\",\"kind\":null,\"name\":\"align_content\"},{\"default\":\"flex-start\",\"kind\":null,\"name\":\"align_items\"},{\"default\":\"row\",\"kind\":null,\"name\":\"flex_direction\"},{\"default\":\"wrap\",\"kind\":null,\"name\":\"flex_wrap\"},{\"default\":\"flex-start\",\"kind\":null,\"name\":\"justify_content\"}]},{\"extends\":null,\"module\":null,\"name\":\"GridStack1\",\"overrides\":[],\"properties\":[{\"default\":\"warn\",\"kind\":null,\"name\":\"mode\"},{\"default\":null,\"kind\":null,\"name\":\"ncols\"},{\"default\":null,\"kind\":null,\"name\":\"nrows\"},{\"default\":true,\"kind\":null,\"name\":\"allow_resize\"},{\"default\":true,\"kind\":null,\"name\":\"allow_drag\"},{\"default\":[],\"kind\":null,\"name\":\"state\"}]},{\"extends\":null,\"module\":null,\"name\":\"click1\",\"overrides\":[],\"properties\":[{\"default\":\"\",\"kind\":null,\"name\":\"terminal_output\"},{\"default\":\"\",\"kind\":null,\"name\":\"debug_name\"},{\"default\":0,\"kind\":null,\"name\":\"clears\"}]},{\"extends\":null,\"module\":null,\"name\":\"NotificationAreaBase1\",\"overrides\":[],\"properties\":[{\"default\":\"bottom-right\",\"kind\":null,\"name\":\"position\"},{\"default\":0,\"kind\":null,\"name\":\"_clear\"}]},{\"extends\":null,\"module\":null,\"name\":\"NotificationArea1\",\"overrides\":[],\"properties\":[{\"default\":[],\"kind\":null,\"name\":\"notifications\"},{\"default\":\"bottom-right\",\"kind\":null,\"name\":\"position\"},{\"default\":0,\"kind\":null,\"name\":\"_clear\"},{\"default\":[{\"background\":\"#ffc107\",\"icon\":{\"className\":\"fas fa-exclamation-triangle\",\"color\":\"white\",\"tagName\":\"i\"},\"type\":\"warning\"},{\"background\":\"#007bff\",\"icon\":{\"className\":\"fas fa-info-circle\",\"color\":\"white\",\"tagName\":\"i\"},\"type\":\"info\"}],\"kind\":null,\"name\":\"types\"}]},{\"extends\":null,\"module\":null,\"name\":\"Notification\",\"overrides\":[],\"properties\":[{\"default\":null,\"kind\":null,\"name\":\"background\"},{\"default\":3000,\"kind\":null,\"name\":\"duration\"},{\"default\":null,\"kind\":null,\"name\":\"icon\"},{\"default\":\"\",\"kind\":null,\"name\":\"message\"},{\"default\":null,\"kind\":null,\"name\":\"notification_type\"},{\"default\":false,\"kind\":null,\"name\":\"_destroyed\"}]},{\"extends\":null,\"module\":null,\"name\":\"TemplateActions1\",\"overrides\":[],\"properties\":[{\"default\":0,\"kind\":null,\"name\":\"open_modal\"},{\"default\":0,\"kind\":null,\"name\":\"close_modal\"}]},{\"extends\":null,\"module\":null,\"name\":\"MaterialTemplateActions1\",\"overrides\":[],\"properties\":[{\"default\":0,\"kind\":null,\"name\":\"open_modal\"},{\"default\":0,\"kind\":null,\"name\":\"close_modal\"}]}],\"roots\":{\"references\":[{\"attributes\":{\"children\":[{\"id\":\"1056\"},{\"id\":\"1003\"},{\"id\":\"1077\"}],\"margin\":[0,0,0,0],\"name\":\"Row00105\"},\"id\":\"1055\",\"type\":\"Row\"},{\"attributes\":{},\"id\":\"1006\",\"type\":\"DataRange1d\"},{\"attributes\":{},\"id\":\"1049\",\"type\":\"AllLabels\"},{\"attributes\":{\"margin\":[5,5,5,5],\"name\":\"HSpacer00102\",\"sizing_mode\":\"stretch_width\"},\"id\":\"1077\",\"type\":\"Spacer\"},{\"attributes\":{\"margin\":[5,5,5,5],\"name\":\"HSpacer00101\",\"sizing_mode\":\"stretch_width\"},\"id\":\"1056\",\"type\":\"Spacer\"},{\"attributes\":{\"reload\":false},\"id\":\"1139\",\"type\":\"panel.models.location.Location\"},{\"attributes\":{\"background_fill_alpha\":0.9,\"background_fill_color\":\"#0f0f0f\",\"below\":[{\"id\":\"1014\"}],\"border_fill_alpha\":0.8,\"border_fill_color\":\"#111111\",\"center\":[{\"id\":\"1017\"},{\"id\":\"1021\"},{\"id\":\"1053\"}],\"height\":450,\"left\":[{\"id\":\"1018\"}],\"outline_line_alpha\":0.25,\"outline_line_color\":\"#E0E0E0\",\"outline_line_width\":3,\"renderers\":[{\"id\":\"1041\"}],\"right\":[{\"id\":\"1053\"}],\"title\":{\"id\":\"1004\"},\"toolbar\":{\"id\":\"1029\"},\"width\":700,\"x_range\":{\"id\":\"1006\"},\"x_scale\":{\"id\":\"1010\"},\"y_range\":{\"id\":\"1008\"},\"y_scale\":{\"id\":\"1012\"}},\"id\":\"1003\",\"subtype\":\"Figure\",\"type\":\"Plot\"},{\"attributes\":{\"background_fill_alpha\":0.2,\"background_fill_color\":\"darkgrey\",\"border_line_alpha\":0.8,\"border_line_color\":\"grey\",\"border_line_width\":3,\"coordinates\":null,\"group\":null,\"items\":[{\"id\":\"1054\"}],\"label_text_color\":\"white\"},\"id\":\"1053\",\"type\":\"Legend\"},{\"attributes\":{},\"id\":\"1008\",\"type\":\"DataRange1d\"},{\"attributes\":{\"axis_label\":\"y\",\"axis_label_standoff\":10,\"axis_label_text_color\":\"#FFFFFF\",\"axis_label_text_font\":\"Josefin Sans\",\"axis_label_text_font_size\":\"1.9em\",\"axis_label_text_font_style\":\"bold\",\"axis_line_alpha\":0.4,\"axis_line_color\":\"#E0E0E0\",\"coordinates\":null,\"formatter\":{\"id\":\"1045\"},\"group\":null,\"major_label_policy\":{\"id\":\"1046\"},\"major_label_text_color\":\"#E0E0E0\",\"major_label_text_font\":\"Josefin Sans\",\"major_label_text_font_size\":\"1.15em\",\"major_tick_line_alpha\":0.4,\"major_tick_line_color\":\"#E0E0E0\",\"minor_tick_line_alpha\":0.4,\"minor_tick_line_color\":\"#E0E0E0\",\"ticker\":{\"id\":\"1019\"}},\"id\":\"1018\",\"type\":\"LinearAxis\"},{\"attributes\":{\"coordinates\":null,\"group\":null,\"text\":\"Observations\",\"text_color\":\"#E0E0E0\",\"text_font\":\"Josefin Sans\",\"text_font_size\":\"2.1em\"},\"id\":\"1004\",\"type\":\"Title\"},{\"attributes\":{\"client_comm_id\":\"6d13e5b917624388b3c62adcfe2e5fc4\",\"comm_id\":\"aa6c470fb08e4891bac70905ac9636a1\",\"plot_id\":\"1055\"},\"id\":\"1108\",\"type\":\"panel.models.comm_manager.CommManager\"},{\"attributes\":{},\"id\":\"1015\",\"type\":\"BasicTicker\"},{\"attributes\":{},\"id\":\"1012\",\"type\":\"LinearScale\"},{\"attributes\":{\"axis\":{\"id\":\"1014\"},\"coordinates\":null,\"grid_line_alpha\":0.15,\"grid_line_color\":\"#E0E0E0\",\"group\":null,\"ticker\":null},\"id\":\"1017\",\"type\":\"Grid\"},{\"attributes\":{},\"id\":\"1010\",\"type\":\"LinearScale\"},{\"attributes\":{\"fill_alpha\":{\"value\":0.6},\"fill_color\":{\"field\":\"color\"},\"hatch_alpha\":{\"value\":0.6},\"hatch_color\":{\"field\":\"color\"},\"line_alpha\":{\"value\":0.6},\"line_color\":{\"value\":\"white\"},\"size\":{\"value\":10},\"x\":{\"field\":\"x\"},\"y\":{\"field\":\"y\"}},\"id\":\"1038\",\"type\":\"Circle\"},{\"attributes\":{\"axis_label\":\"x\",\"axis_label_standoff\":10,\"axis_label_text_color\":\"#FFFFFF\",\"axis_label_text_font\":\"Josefin Sans\",\"axis_label_text_font_size\":\"1.9em\",\"axis_label_text_font_style\":\"bold\",\"axis_line_alpha\":0.4,\"axis_line_color\":\"#E0E0E0\",\"coordinates\":null,\"formatter\":{\"id\":\"1048\"},\"group\":null,\"major_label_policy\":{\"id\":\"1049\"},\"major_label_text_color\":\"#E0E0E0\",\"major_label_text_font\":\"Josefin Sans\",\"major_label_text_font_size\":\"1.15em\",\"major_tick_line_alpha\":0.4,\"major_tick_line_color\":\"#E0E0E0\",\"minor_tick_line_alpha\":0.4,\"minor_tick_line_color\":\"#E0E0E0\",\"ticker\":{\"id\":\"1015\"}},\"id\":\"1014\",\"type\":\"LinearAxis\"},{\"attributes\":{\"axis\":{\"id\":\"1018\"},\"coordinates\":null,\"dimension\":1,\"grid_line_alpha\":0.15,\"grid_line_color\":\"#E0E0E0\",\"group\":null,\"ticker\":null},\"id\":\"1021\",\"type\":\"Grid\"},{\"attributes\":{},\"id\":\"1019\",\"type\":\"BasicTicker\"},{\"attributes\":{\"overlay\":{\"id\":\"1028\"}},\"id\":\"1024\",\"type\":\"BoxZoomTool\"},{\"attributes\":{},\"id\":\"1027\",\"type\":\"HelpTool\"},{\"attributes\":{},\"id\":\"1045\",\"type\":\"BasicTickFormatter\"},{\"attributes\":{\"fill_alpha\":{\"value\":0.1},\"fill_color\":{\"field\":\"color\"},\"hatch_alpha\":{\"value\":0.1},\"hatch_color\":{\"field\":\"color\"},\"line_alpha\":{\"value\":0.1},\"line_color\":{\"value\":\"white\"},\"size\":{\"value\":10},\"x\":{\"field\":\"x\"},\"y\":{\"field\":\"y\"}},\"id\":\"1039\",\"type\":\"Circle\"},{\"attributes\":{},\"id\":\"1022\",\"type\":\"PanTool\"},{\"attributes\":{\"coordinates\":null,\"data_source\":{\"id\":\"1036\"},\"glyph\":{\"id\":\"1038\"},\"group\":null,\"hover_glyph\":null,\"muted_glyph\":{\"id\":\"1040\"},\"nonselection_glyph\":{\"id\":\"1039\"},\"view\":{\"id\":\"1042\"}},\"id\":\"1041\",\"type\":\"GlyphRenderer\"},{\"attributes\":{},\"id\":\"1023\",\"type\":\"WheelZoomTool\"},{\"attributes\":{},\"id\":\"1051\",\"type\":\"Selection\"},{\"attributes\":{},\"id\":\"1046\",\"type\":\"AllLabels\"},{\"attributes\":{},\"id\":\"1025\",\"type\":\"SaveTool\"},{\"attributes\":{},\"id\":\"1026\",\"type\":\"ResetTool\"},{\"attributes\":{},\"id\":\"1048\",\"type\":\"BasicTickFormatter\"},{\"attributes\":{\"source\":{\"id\":\"1036\"}},\"id\":\"1042\",\"type\":\"CDSView\"},{\"attributes\":{},\"id\":\"1050\",\"type\":\"UnionRenderers\"},{\"attributes\":{\"bottom_units\":\"screen\",\"coordinates\":null,\"fill_alpha\":0.5,\"fill_color\":\"lightgrey\",\"group\":null,\"left_units\":\"screen\",\"level\":\"overlay\",\"line_alpha\":1.0,\"line_color\":\"black\",\"line_dash\":[4,4],\"line_width\":2,\"right_units\":\"screen\",\"syncable\":false,\"top_units\":\"screen\"},\"id\":\"1028\",\"type\":\"BoxAnnotation\"},{\"attributes\":{\"label\":{\"field\":\"label\"},\"renderers\":[{\"id\":\"1041\"}]},\"id\":\"1054\",\"type\":\"LegendItem\"},{\"attributes\":{\"data\":{\"color\":[\"midnightblue\",\"midnightblue\",\"midnightblue\",\"midnightblue\",\"midnightblue\",\"midnightblue\",\"midnightblue\",\"midnightblue\",\"firebrick\",\"firebrick\",\"midnightblue\",\"midnightblue\",\"midnightblue\",\"firebrick\",\"firebrick\",\"midnightblue\",\"firebrick\",\"midnightblue\",\"midnightblue\",\"firebrick\",\"firebrick\",\"firebrick\",\"midnightblue\",\"midnightblue\",\"midnightblue\",\"midnightblue\",\"firebrick\",\"firebrick\",\"firebrick\",\"firebrick\",\"firebrick\",\"firebrick\",\"midnightblue\",\"firebrick\",\"firebrick\",\"firebrick\",\"midnightblue\",\"midnightblue\",\"midnightblue\",\"midnightblue\",\"midnightblue\",\"midnightblue\",\"firebrick\",\"midnightblue\",\"midnightblue\",\"firebrick\",\"midnightblue\",\"midnightblue\",\"midnightblue\",\"firebrick\",\"firebrick\",\"firebrick\",\"firebrick\",\"firebrick\",\"firebrick\",\"firebrick\",\"firebrick\",\"firebrick\",\"midnightblue\",\"firebrick\",\"firebrick\",\"firebrick\",\"firebrick\",\"midnightblue\",\"firebrick\",\"midnightblue\",\"firebrick\",\"firebrick\",\"midnightblue\",\"midnightblue\",\"firebrick\",\"midnightblue\",\"midnightblue\",\"midnightblue\",\"firebrick\",\"firebrick\",\"midnightblue\",\"firebrick\",\"midnightblue\",\"firebrick\",\"firebrick\",\"firebrick\",\"firebrick\",\"midnightblue\",\"firebrick\",\"firebrick\",\"firebrick\",\"firebrick\",\"midnightblue\",\"firebrick\",\"midnightblue\",\"firebrick\",\"midnightblue\",\"firebrick\",\"firebrick\",\"midnightblue\",\"firebrick\",\"midnightblue\",\"firebrick\",\"firebrick\",\"midnightblue\",\"midnightblue\",\"midnightblue\",\"firebrick\",\"midnightblue\",\"midnightblue\",\"midnightblue\",\"midnightblue\",\"firebrick\",\"midnightblue\",\"midnightblue\",\"firebrick\",\"firebrick\",\"midnightblue\",\"firebrick\",\"firebrick\",\"firebrick\",\"midnightblue\",\"firebrick\",\"midnightblue\",\"midnightblue\",\"firebrick\",\"firebrick\",\"midnightblue\",\"midnightblue\",\"firebrick\",\"midnightblue\",\"firebrick\",\"midnightblue\",\"midnightblue\",\"midnightblue\",\"midnightblue\",\"midnightblue\",\"firebrick\",\"midnightblue\",\"midnightblue\",\"midnightblue\",\"firebrick\",\"midnightblue\",\"firebrick\",\"midnightblue\",\"firebrick\",\"firebrick\",\"firebrick\",\"firebrick\",\"midnightblue\",\"firebrick\",\"firebrick\",\"firebrick\",\"midnightblue\",\"firebrick\",\"midnightblue\",\"firebrick\",\"midnightblue\",\"firebrick\",\"firebrick\",\"midnightblue\",\"midnightblue\",\"firebrick\",\"firebrick\",\"firebrick\",\"midnightblue\",\"firebrick\",\"midnightblue\",\"midnightblue\",\"firebrick\",\"midnightblue\",\"midnightblue\",\"firebrick\",\"firebrick\",\"firebrick\",\"midnightblue\",\"firebrick\",\"firebrick\",\"midnightblue\",\"firebrick\",\"firebrick\",\"midnightblue\",\"firebrick\",\"firebrick\",\"firebrick\",\"firebrick\",\"midnightblue\",\"midnightblue\",\"midnightblue\",\"midnightblue\",\"midnightblue\",\"midnightblue\",\"midnightblue\",\"midnightblue\",\"midnightblue\",\"firebrick\",\"midnightblue\",\"firebrick\",\"firebrick\",\"midnightblue\",\"midnightblue\",\"firebrick\",\"midnightblue\",\"midnightblue\"],\"label\":[\"class 1\",\"class 1\",\"class 1\",\"class 1\",\"class 1\",\"class 1\",\"class 1\",\"class 1\",\"class 2\",\"class 2\",\"class 1\",\"class 1\",\"class 1\",\"class 2\",\"class 2\",\"class 1\",\"class 2\",\"class 1\",\"class 1\",\"class 2\",\"class 2\",\"class 2\",\"class 1\",\"class 1\",\"class 1\",\"class 1\",\"class 2\",\"class 2\",\"class 2\",\"class 2\",\"class 2\",\"class 2\",\"class 1\",\"class 2\",\"class 2\",\"class 2\",\"class 1\",\"class 1\",\"class 1\",\"class 1\",\"class 1\",\"class 1\",\"class 2\",\"class 1\",\"class 1\",\"class 2\",\"class 1\",\"class 1\",\"class 1\",\"class 2\",\"class 2\",\"class 2\",\"class 2\",\"class 2\",\"class 2\",\"class 2\",\"class 2\",\"class 2\",\"class 1\",\"class 2\",\"class 2\",\"class 2\",\"class 2\",\"class 1\",\"class 2\",\"class 1\",\"class 2\",\"class 2\",\"class 1\",\"class 1\",\"class 2\",\"class 1\",\"class 1\",\"class 1\",\"class 2\",\"class 2\",\"class 1\",\"class 2\",\"class 1\",\"class 2\",\"class 2\",\"class 2\",\"class 2\",\"class 1\",\"class 2\",\"class 2\",\"class 2\",\"class 2\",\"class 1\",\"class 2\",\"class 1\",\"class 2\",\"class 1\",\"class 2\",\"class 2\",\"class 1\",\"class 2\",\"class 1\",\"class 2\",\"class 2\",\"class 1\",\"class 1\",\"class 1\",\"class 2\",\"class 1\",\"class 1\",\"class 1\",\"class 1\",\"class 2\",\"class 1\",\"class 1\",\"class 2\",\"class 2\",\"class 1\",\"class 2\",\"class 2\",\"class 2\",\"class 1\",\"class 2\",\"class 1\",\"class 1\",\"class 2\",\"class 2\",\"class 1\",\"class 1\",\"class 2\",\"class 1\",\"class 2\",\"class 1\",\"class 1\",\"class 1\",\"class 1\",\"class 1\",\"class 2\",\"class 1\",\"class 1\",\"class 1\",\"class 2\",\"class 1\",\"class 2\",\"class 1\",\"class 2\",\"class 2\",\"class 2\",\"class 2\",\"class 1\",\"class 2\",\"class 2\",\"class 2\",\"class 1\",\"class 2\",\"class 1\",\"class 2\",\"class 1\",\"class 2\",\"class 2\",\"class 1\",\"class 1\",\"class 2\",\"class 2\",\"class 2\",\"class 1\",\"class 2\",\"class 1\",\"class 1\",\"class 2\",\"class 1\",\"class 1\",\"class 2\",\"class 2\",\"class 2\",\"class 1\",\"class 2\",\"class 2\",\"class 1\",\"class 2\",\"class 2\",\"class 1\",\"class 2\",\"class 2\",\"class 2\",\"class 2\",\"class 1\",\"class 1\",\"class 1\",\"class 1\",\"class 1\",\"class 1\",\"class 1\",\"class 1\",\"class 1\",\"class 2\",\"class 1\",\"class 2\",\"class 2\",\"class 1\",\"class 1\",\"class 2\",\"class 1\",\"class 1\"],\"x\":{\"__ndarray__\":\"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\",\"dtype\":\"float64\",\"order\":\"little\",\"shape\":[200]},\"y\":{\"__ndarray__\":\"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\",\"dtype\":\"float64\",\"order\":\"little\",\"shape\":[200]}},\"selected\":{\"id\":\"1051\"},\"selection_policy\":{\"id\":\"1050\"}},\"id\":\"1036\",\"type\":\"ColumnDataSource\"},{\"attributes\":{\"fill_alpha\":{\"value\":0.2},\"fill_color\":{\"field\":\"color\"},\"hatch_alpha\":{\"value\":0.2},\"hatch_color\":{\"field\":\"color\"},\"line_alpha\":{\"value\":0.2},\"line_color\":{\"value\":\"white\"},\"size\":{\"value\":10},\"x\":{\"field\":\"x\"},\"y\":{\"field\":\"y\"}},\"id\":\"1040\",\"type\":\"Circle\"},{\"attributes\":{\"tools\":[{\"id\":\"1022\"},{\"id\":\"1023\"},{\"id\":\"1024\"},{\"id\":\"1025\"},{\"id\":\"1026\"},{\"id\":\"1027\"}]},\"id\":\"1029\",\"type\":\"Toolbar\"}],\"root_ids\":[\"1055\",\"1108\",\"1139\"]},\"title\":\"Bokeh Application\",\"version\":\"2.4.3\"}};\n",
       "    var render_items = [{\"docid\":\"42a8370c-6b51-4d84-b78d-07c5c5a207e8\",\"root_ids\":[\"1055\"],\"roots\":{\"1055\":\"91e6d1af-d7b3-4309-80f8-78fb9c8f386b\"}}];\n",
       "    root.Bokeh.embed.embed_items_notebook(docs_json, render_items);\n",
       "    for (const render_item of render_items) {\n",
       "      for (const root_id of render_item.root_ids) {\n",
       "\tconst id_el = document.getElementById(root_id)\n",
       "\tif (id_el.children.length && (id_el.children[0].className === 'bk-root')) {\n",
       "\t  const root_el = id_el.children[0]\n",
       "\t  root_el.id = root_el.id + '-rendered'\n",
       "\t}\n",
       "      }\n",
       "    }\n",
       "  }\n",
       "  if (root.Bokeh !== undefined && root.Bokeh.Panel !== undefined) {\n",
       "    embed_document(root);\n",
       "  } else {\n",
       "    var attempts = 0;\n",
       "    var timer = setInterval(function(root) {\n",
       "      if (root.Bokeh !== undefined && root.Bokeh.Panel !== undefined) {\n",
       "        clearInterval(timer);\n",
       "        embed_document(root);\n",
       "      } else if (document.readyState == \"complete\") {\n",
       "        attempts++;\n",
       "        if (attempts > 200) {\n",
       "          clearInterval(timer);\n",
       "          console.log(\"Bokeh: ERROR: Unable to run BokehJS code because BokehJS library is missing\");\n",
       "        }\n",
       "      }\n",
       "    }, 25, root)\n",
       "  }\n",
       "})(window);</script>"
      ],
      "text/plain": [
       "Row\n",
       "    [0] HSpacer()\n",
       "    [1] Bokeh(Figure)\n",
       "    [2] HSpacer()"
      ]
     },
     "execution_count": 3,
     "metadata": {
      "application/vnd.holoviews_exec.v0+json": {
       "id": "1055"
      }
     },
     "output_type": "execute_result"
    }
   ],
   "source": [
    "import numpy as np\n",
    "from sklearn.datasets import make_blobs\n",
    "# Properties of the problem\n",
    "n_observations = 200\n",
    "noise = 0.2\n",
    "c1_center = [-2, -1]\n",
    "c2_center = [2, 1]\n",
    "# Create points\n",
    "x_coords, y_class = make_blobs(n_samples=n_observations, centers=[c1_center, c2_center], n_features=2, cluster_std=0.55)\n",
    "x_inputs = x_coords + (noise * np.random.randn(n_observations, 2))\n",
    "# Plot the corresponding pattern\n",
    "plot = center_plot(scatter_classes(x_inputs, y_class))\n",
    "plot"
   ]
  },
  {
   "cell_type": "markdown",
   "metadata": {},
   "source": [
    "The previous example does not allow us to know the exact values (slope and bias) of our ground truth separation line. Hence, we can define a more complex separation problem (with points laying almost right on the separation fronteer), but with known values for our ground truth."
   ]
  },
  {
   "cell_type": "code",
   "execution_count": 4,
   "metadata": {
    "tags": []
   },
   "outputs": [
    {
     "data": {},
     "metadata": {},
     "output_type": "display_data"
    },
    {
     "data": {
      "application/vnd.holoviews_exec.v0+json": "",
      "text/html": [
       "<div id='1222'>\n",
       "  <div class=\"bk-root\" id=\"b2eaa042-be74-4147-a10d-65eeff63c4fb\" data-root-id=\"1222\"></div>\n",
       "</div>\n",
       "<script type=\"application/javascript\">(function(root) {\n",
       "  function embed_document(root) {\n",
       "    var docs_json = {\"65066866-be8a-44e0-bc6c-acb4f3113c6a\":{\"defs\":[{\"extends\":null,\"module\":null,\"name\":\"ReactiveHTML1\",\"overrides\":[],\"properties\":[]},{\"extends\":null,\"module\":null,\"name\":\"FlexBox1\",\"overrides\":[],\"properties\":[{\"default\":\"flex-start\",\"kind\":null,\"name\":\"align_content\"},{\"default\":\"flex-start\",\"kind\":null,\"name\":\"align_items\"},{\"default\":\"row\",\"kind\":null,\"name\":\"flex_direction\"},{\"default\":\"wrap\",\"kind\":null,\"name\":\"flex_wrap\"},{\"default\":\"flex-start\",\"kind\":null,\"name\":\"justify_content\"}]},{\"extends\":null,\"module\":null,\"name\":\"GridStack1\",\"overrides\":[],\"properties\":[{\"default\":\"warn\",\"kind\":null,\"name\":\"mode\"},{\"default\":null,\"kind\":null,\"name\":\"ncols\"},{\"default\":null,\"kind\":null,\"name\":\"nrows\"},{\"default\":true,\"kind\":null,\"name\":\"allow_resize\"},{\"default\":true,\"kind\":null,\"name\":\"allow_drag\"},{\"default\":[],\"kind\":null,\"name\":\"state\"}]},{\"extends\":null,\"module\":null,\"name\":\"click1\",\"overrides\":[],\"properties\":[{\"default\":\"\",\"kind\":null,\"name\":\"terminal_output\"},{\"default\":\"\",\"kind\":null,\"name\":\"debug_name\"},{\"default\":0,\"kind\":null,\"name\":\"clears\"}]},{\"extends\":null,\"module\":null,\"name\":\"NotificationAreaBase1\",\"overrides\":[],\"properties\":[{\"default\":\"bottom-right\",\"kind\":null,\"name\":\"position\"},{\"default\":0,\"kind\":null,\"name\":\"_clear\"}]},{\"extends\":null,\"module\":null,\"name\":\"NotificationArea1\",\"overrides\":[],\"properties\":[{\"default\":[],\"kind\":null,\"name\":\"notifications\"},{\"default\":\"bottom-right\",\"kind\":null,\"name\":\"position\"},{\"default\":0,\"kind\":null,\"name\":\"_clear\"},{\"default\":[{\"background\":\"#ffc107\",\"icon\":{\"className\":\"fas fa-exclamation-triangle\",\"color\":\"white\",\"tagName\":\"i\"},\"type\":\"warning\"},{\"background\":\"#007bff\",\"icon\":{\"className\":\"fas fa-info-circle\",\"color\":\"white\",\"tagName\":\"i\"},\"type\":\"info\"}],\"kind\":null,\"name\":\"types\"}]},{\"extends\":null,\"module\":null,\"name\":\"Notification\",\"overrides\":[],\"properties\":[{\"default\":null,\"kind\":null,\"name\":\"background\"},{\"default\":3000,\"kind\":null,\"name\":\"duration\"},{\"default\":null,\"kind\":null,\"name\":\"icon\"},{\"default\":\"\",\"kind\":null,\"name\":\"message\"},{\"default\":null,\"kind\":null,\"name\":\"notification_type\"},{\"default\":false,\"kind\":null,\"name\":\"_destroyed\"}]},{\"extends\":null,\"module\":null,\"name\":\"TemplateActions1\",\"overrides\":[],\"properties\":[{\"default\":0,\"kind\":null,\"name\":\"open_modal\"},{\"default\":0,\"kind\":null,\"name\":\"close_modal\"}]},{\"extends\":null,\"module\":null,\"name\":\"MaterialTemplateActions1\",\"overrides\":[],\"properties\":[{\"default\":0,\"kind\":null,\"name\":\"open_modal\"},{\"default\":0,\"kind\":null,\"name\":\"close_modal\"}]}],\"roots\":{\"references\":[{\"attributes\":{},\"id\":\"1179\",\"type\":\"LinearScale\"},{\"attributes\":{\"client_comm_id\":\"b5b6eb4e907b411fbc94b92dd4c63e53\",\"comm_id\":\"75bebf939fad41789eaa396d708affc2\",\"plot_id\":\"1222\"},\"id\":\"1275\",\"type\":\"panel.models.comm_manager.CommManager\"},{\"attributes\":{},\"id\":\"1218\",\"type\":\"Selection\"},{\"attributes\":{\"coordinates\":null,\"data_source\":{\"id\":\"1203\"},\"glyph\":{\"id\":\"1205\"},\"group\":null,\"hover_glyph\":null,\"muted_glyph\":{\"id\":\"1207\"},\"nonselection_glyph\":{\"id\":\"1206\"},\"view\":{\"id\":\"1209\"}},\"id\":\"1208\",\"type\":\"GlyphRenderer\"},{\"attributes\":{\"tools\":[{\"id\":\"1189\"},{\"id\":\"1190\"},{\"id\":\"1191\"},{\"id\":\"1192\"},{\"id\":\"1193\"},{\"id\":\"1194\"}]},\"id\":\"1196\",\"type\":\"Toolbar\"},{\"attributes\":{\"background_fill_alpha\":0.2,\"background_fill_color\":\"darkgrey\",\"border_line_alpha\":0.8,\"border_line_color\":\"grey\",\"border_line_width\":3,\"coordinates\":null,\"group\":null,\"items\":[{\"id\":\"1221\"}],\"label_text_color\":\"white\"},\"id\":\"1220\",\"type\":\"Legend\"},{\"attributes\":{},\"id\":\"1217\",\"type\":\"UnionRenderers\"},{\"attributes\":{\"background_fill_alpha\":0.9,\"background_fill_color\":\"#0f0f0f\",\"below\":[{\"id\":\"1181\"}],\"border_fill_alpha\":0.8,\"border_fill_color\":\"#111111\",\"center\":[{\"id\":\"1184\"},{\"id\":\"1188\"},{\"id\":\"1220\"}],\"height\":450,\"left\":[{\"id\":\"1185\"}],\"outline_line_alpha\":0.25,\"outline_line_color\":\"#E0E0E0\",\"outline_line_width\":3,\"renderers\":[{\"id\":\"1208\"}],\"right\":[{\"id\":\"1220\"}],\"title\":{\"id\":\"1171\"},\"toolbar\":{\"id\":\"1196\"},\"width\":700,\"x_range\":{\"id\":\"1173\"},\"x_scale\":{\"id\":\"1177\"},\"y_range\":{\"id\":\"1175\"},\"y_scale\":{\"id\":\"1179\"}},\"id\":\"1170\",\"subtype\":\"Figure\",\"type\":\"Plot\"},{\"attributes\":{\"children\":[{\"id\":\"1223\"},{\"id\":\"1170\"},{\"id\":\"1244\"}],\"margin\":[0,0,0,0],\"name\":\"Row00113\"},\"id\":\"1222\",\"type\":\"Row\"},{\"attributes\":{\"fill_alpha\":{\"value\":0.1},\"fill_color\":{\"field\":\"color\"},\"hatch_alpha\":{\"value\":0.1},\"hatch_color\":{\"field\":\"color\"},\"line_alpha\":{\"value\":0.1},\"line_color\":{\"value\":\"white\"},\"size\":{\"value\":10},\"x\":{\"field\":\"x\"},\"y\":{\"field\":\"y\"}},\"id\":\"1206\",\"type\":\"Circle\"},{\"attributes\":{\"margin\":[5,5,5,5],\"name\":\"HSpacer00110\",\"sizing_mode\":\"stretch_width\"},\"id\":\"1244\",\"type\":\"Spacer\"},{\"attributes\":{\"margin\":[5,5,5,5],\"name\":\"HSpacer00109\",\"sizing_mode\":\"stretch_width\"},\"id\":\"1223\",\"type\":\"Spacer\"},{\"attributes\":{\"bottom_units\":\"screen\",\"coordinates\":null,\"fill_alpha\":0.5,\"fill_color\":\"lightgrey\",\"group\":null,\"left_units\":\"screen\",\"level\":\"overlay\",\"line_alpha\":1.0,\"line_color\":\"black\",\"line_dash\":[4,4],\"line_width\":2,\"right_units\":\"screen\",\"syncable\":false,\"top_units\":\"screen\"},\"id\":\"1195\",\"type\":\"BoxAnnotation\"},{\"attributes\":{},\"id\":\"1175\",\"type\":\"DataRange1d\"},{\"attributes\":{},\"id\":\"1173\",\"type\":\"DataRange1d\"},{\"attributes\":{},\"id\":\"1216\",\"type\":\"AllLabels\"},{\"attributes\":{\"axis\":{\"id\":\"1185\"},\"coordinates\":null,\"dimension\":1,\"grid_line_alpha\":0.15,\"grid_line_color\":\"#E0E0E0\",\"group\":null,\"ticker\":null},\"id\":\"1188\",\"type\":\"Grid\"},{\"attributes\":{},\"id\":\"1193\",\"type\":\"ResetTool\"},{\"attributes\":{\"axis_label\":\"y\",\"axis_label_standoff\":10,\"axis_label_text_color\":\"#FFFFFF\",\"axis_label_text_font\":\"Josefin Sans\",\"axis_label_text_font_size\":\"1.9em\",\"axis_label_text_font_style\":\"bold\",\"axis_line_alpha\":0.4,\"axis_line_color\":\"#E0E0E0\",\"coordinates\":null,\"formatter\":{\"id\":\"1212\"},\"group\":null,\"major_label_policy\":{\"id\":\"1213\"},\"major_label_text_color\":\"#E0E0E0\",\"major_label_text_font\":\"Josefin Sans\",\"major_label_text_font_size\":\"1.15em\",\"major_tick_line_alpha\":0.4,\"major_tick_line_color\":\"#E0E0E0\",\"minor_tick_line_alpha\":0.4,\"minor_tick_line_color\":\"#E0E0E0\",\"ticker\":{\"id\":\"1186\"}},\"id\":\"1185\",\"type\":\"LinearAxis\"},{\"attributes\":{},\"id\":\"1192\",\"type\":\"SaveTool\"},{\"attributes\":{},\"id\":\"1182\",\"type\":\"BasicTicker\"},{\"attributes\":{\"overlay\":{\"id\":\"1195\"}},\"id\":\"1191\",\"type\":\"BoxZoomTool\"},{\"attributes\":{},\"id\":\"1186\",\"type\":\"BasicTicker\"},{\"attributes\":{\"coordinates\":null,\"group\":null,\"text\":\"Observations\",\"text_color\":\"#E0E0E0\",\"text_font\":\"Josefin Sans\",\"text_font_size\":\"2.1em\"},\"id\":\"1171\",\"type\":\"Title\"},{\"attributes\":{},\"id\":\"1189\",\"type\":\"PanTool\"},{\"attributes\":{\"label\":{\"field\":\"label\"},\"renderers\":[{\"id\":\"1208\"}]},\"id\":\"1221\",\"type\":\"LegendItem\"},{\"attributes\":{\"data\":{\"color\":[\"midnightblue\",\"midnightblue\",\"midnightblue\",\"midnightblue\",\"firebrick\",\"firebrick\",\"firebrick\",\"midnightblue\",\"midnightblue\",\"firebrick\",\"midnightblue\",\"midnightblue\",\"midnightblue\",\"midnightblue\",\"midnightblue\",\"midnightblue\",\"midnightblue\",\"midnightblue\",\"midnightblue\",\"midnightblue\",\"firebrick\",\"firebrick\",\"midnightblue\",\"midnightblue\",\"midnightblue\",\"midnightblue\",\"midnightblue\",\"midnightblue\",\"midnightblue\",\"midnightblue\",\"midnightblue\",\"midnightblue\",\"midnightblue\",\"midnightblue\",\"midnightblue\",\"midnightblue\",\"midnightblue\",\"firebrick\",\"firebrick\",\"firebrick\",\"midnightblue\",\"midnightblue\",\"midnightblue\",\"firebrick\",\"firebrick\",\"firebrick\",\"midnightblue\",\"midnightblue\",\"midnightblue\",\"midnightblue\",\"midnightblue\",\"midnightblue\",\"midnightblue\",\"midnightblue\",\"midnightblue\",\"midnightblue\",\"firebrick\",\"midnightblue\",\"firebrick\",\"midnightblue\",\"midnightblue\",\"midnightblue\",\"midnightblue\",\"firebrick\",\"firebrick\",\"midnightblue\",\"midnightblue\",\"midnightblue\",\"midnightblue\",\"midnightblue\",\"midnightblue\",\"midnightblue\",\"midnightblue\",\"midnightblue\",\"firebrick\",\"midnightblue\",\"midnightblue\",\"midnightblue\",\"midnightblue\",\"firebrick\",\"midnightblue\",\"midnightblue\",\"midnightblue\",\"firebrick\",\"midnightblue\",\"midnightblue\",\"firebrick\",\"midnightblue\",\"midnightblue\",\"midnightblue\",\"midnightblue\",\"midnightblue\",\"firebrick\",\"midnightblue\",\"midnightblue\",\"midnightblue\",\"midnightblue\",\"midnightblue\",\"midnightblue\",\"midnightblue\"],\"label\":[\"class 1\",\"class 1\",\"class 1\",\"class 1\",\"class 2\",\"class 2\",\"class 2\",\"class 1\",\"class 1\",\"class 2\",\"class 1\",\"class 1\",\"class 1\",\"class 1\",\"class 1\",\"class 1\",\"class 1\",\"class 1\",\"class 1\",\"class 1\",\"class 2\",\"class 2\",\"class 1\",\"class 1\",\"class 1\",\"class 1\",\"class 1\",\"class 1\",\"class 1\",\"class 1\",\"class 1\",\"class 1\",\"class 1\",\"class 1\",\"class 1\",\"class 1\",\"class 1\",\"class 2\",\"class 2\",\"class 2\",\"class 1\",\"class 1\",\"class 1\",\"class 2\",\"class 2\",\"class 2\",\"class 1\",\"class 1\",\"class 1\",\"class 1\",\"class 1\",\"class 1\",\"class 1\",\"class 1\",\"class 1\",\"class 1\",\"class 2\",\"class 1\",\"class 2\",\"class 1\",\"class 1\",\"class 1\",\"class 1\",\"class 2\",\"class 2\",\"class 1\",\"class 1\",\"class 1\",\"class 1\",\"class 1\",\"class 1\",\"class 1\",\"class 1\",\"class 1\",\"class 2\",\"class 1\",\"class 1\",\"class 1\",\"class 1\",\"class 2\",\"class 1\",\"class 1\",\"class 1\",\"class 2\",\"class 1\",\"class 1\",\"class 2\",\"class 1\",\"class 1\",\"class 1\",\"class 1\",\"class 1\",\"class 2\",\"class 1\",\"class 1\",\"class 1\",\"class 1\",\"class 1\",\"class 1\",\"class 1\"],\"x\":{\"__ndarray__\":\"kGR1riuasT9oDCasJFzeP+bsdZ5NaOc//vV3wIJI5j9o5+VYkX3nv5rQepo2Luq/oM1yJOIkw78Mt4Fn5//qv35O5UmvdOI/Pttf/gec7r84ptng+NTEP8A/3ocvZJ+/rD/ZW+Ol6b84jJNCnQ7iP6BrPpTKn7Q/LKvGzAL00j+4DD5arUjHv8C7q4yRkOm/ovBN6P2e5D/s0AVbTbrpv+CrESZaJb2/4OkMfhiz1r8ALKecl3PnPzyj4FS+6tW/aMWZIwxWwz8EOQMnxcXSP+jbi09Wquw/lH/rcpUI0z8023XhnI3oPyY9/s5uSuE/ono58IYD4r/wp9424mi0v2wZaPkHhOs/jqa3RnBr7z+c8z6iqBTfv6hJh+K/quO/bJQbC0zH1T9s3W2vA+7uvyxr5UHZD+i/uJ6J4r6Gyr/iW90ZC6bqv+DJm6BSkMa/MH0Jdoz3xz+U/VpLfrnnv6AT/jm2JeW/DMl20fH53L92L5Kg08zsPwDT7BEz+pA/4Ns/6JpCpz+sA4jJe/XRv8AV48CRJcy/wviqDB6a6b+AtBCi2iKgPwRpxQPYnuy/tFHEQTgr2r9Ub9A7IE/fP7RI5rcJ4ua/fKi3j/J44z8QyRL0XAPov065EaI9q+8/HHgGAcFF0z8+j3b9XJPrv0BFmxFxbsC/bNPdYRPl27/YzaD5BDbNv+gs6IxZm+g/0jIhd4wj7L/AN6LaX9+sP9jMVRHIod8/im4x23dt6L9EEPYCwNjXPzxbjK/Dd+k/TKWeeNVe5b/gmyf9xS+rv2AdvpfeTdK/RBP7lAKB679gX1ACgnm4PzgWiYQixti/COzU7xMt3r9elPQaKg/gv6TUpsADVNM/ctnGQXwB6T++ptPwiWLnP0hv8idWyci/OHb+pZsByj9kbV8YJyXnP7yiSvbHWtC/YLk1PxwYwD+AFDIz0qO+vyCDVZPni7E/GnnkBDH+5z+Ym0SvPBnZP9it6pRhaOO/frhlAAs04T+scX7SMErZP9hr4dmfmNw/gFgAEU9h5T+Uxt9tKRTXP1yww9nTz+C/8C0p6t5p2D8=\",\"dtype\":\"float64\",\"order\":\"little\",\"shape\":[100]},\"y\":{\"__ndarray__\":\"mBD0HmMq1j+MMtqSMcLiv/xswnc46ty/UJ8Jp9XRzj9WLnfCYPXhP9AxES8KOM8/RC8hlokO6T/CFWIC9SXlvwAfAK3DKdE/HJPNBBQl17+gB1IzJeHUP1BIeO6TZsw/gH1V8KwO6L8eQUyzzDLiv/aqn7gPLum/OAiz/g3B3z8Ym6rBuNTHPxDMmsfzuue/APU7n9knwb8UiMXune7hv/AjYBIt1uw/Atou6wS77z+wAr+hIjO6v6jPiluk1cy/PPuIc7//1T/8EXXySWfqv74b63zpmOy/Eq3hmziq6b+0Ql+AzHPrvxRoPFLIT+4/GNa4iN+h2r8g+re59RLJPwg4V9OlP9A//A+J7JbW679Ik29i3YbJv5IoqzK+rOu/oC5pHScWoD/87AFE4arZv7KyS/xjRuo/tlAfTXvl6j8UsDzRTtjvvxBumKP8Y7A/pFWdzbfj2D/MtRw7YS3bP+SSeKj6QNE/ALMHSwwZ6z/Cydsg3tHvPxineeFa3dC/aIZZcKR47T9o75pNNe/Yv0BdCNHpHdk/eOrD4DyC3L8uYszZb/rnv2qCEbDRR+a/pH75LhdA6L+MJgXYGrHoPxTcyaJzDt4/UoxEOV2k5T+QReeXIePIPwzwxw8TR9O/eILjw1g4y79otgFWJT3hv8ihVzzmJ+E/2JBTm+D31T+gRAf8KyrqP1rWlWLrG+Q/uCdr1qeQ7r865Sobdnviv2bqdU+gseq/ggc9fE/L6b90Qq/81bnQP/gS5u3cxNw/hg3LPcIA478A4CLcxxxxP3YqmOnoQug/KjmZTYSO4L+AeMLEdbqRP+xFOfmaDtW/vDEk95pc2r8MP1eeNbbcP+rw/XEekew/huvlHYQT4z+qTg/5hX/uv2qCvZUi7uw/fPuKvvV90j80ZAtY8PPsv6jHQyQ9weI/TthRMyzG4j/gnxV9TIbZv8QpZOBu9No/KIEDR1961j9w/WXjepnPP1I2I7FkDew/rjfXajfr5T9eTnqxiU7hPz4Vnf5YteI/PEPx7uTH17/YkGVnxTzuP2JZgy3vU+C/WHWBDO1m2b8=\",\"dtype\":\"float64\",\"order\":\"little\",\"shape\":[100]}},\"selected\":{\"id\":\"1218\"},\"selection_policy\":{\"id\":\"1217\"}},\"id\":\"1203\",\"type\":\"ColumnDataSource\"},{\"attributes\":{},\"id\":\"1190\",\"type\":\"WheelZoomTool\"},{\"attributes\":{},\"id\":\"1215\",\"type\":\"BasicTickFormatter\"},{\"attributes\":{\"fill_alpha\":{\"value\":0.2},\"fill_color\":{\"field\":\"color\"},\"hatch_alpha\":{\"value\":0.2},\"hatch_color\":{\"field\":\"color\"},\"line_alpha\":{\"value\":0.2},\"line_color\":{\"value\":\"white\"},\"size\":{\"value\":10},\"x\":{\"field\":\"x\"},\"y\":{\"field\":\"y\"}},\"id\":\"1207\",\"type\":\"Circle\"},{\"attributes\":{\"fill_alpha\":{\"value\":0.6},\"fill_color\":{\"field\":\"color\"},\"hatch_alpha\":{\"value\":0.6},\"hatch_color\":{\"field\":\"color\"},\"line_alpha\":{\"value\":0.6},\"line_color\":{\"value\":\"white\"},\"size\":{\"value\":10},\"x\":{\"field\":\"x\"},\"y\":{\"field\":\"y\"}},\"id\":\"1205\",\"type\":\"Circle\"},{\"attributes\":{\"source\":{\"id\":\"1203\"}},\"id\":\"1209\",\"type\":\"CDSView\"},{\"attributes\":{},\"id\":\"1213\",\"type\":\"AllLabels\"},{\"attributes\":{},\"id\":\"1212\",\"type\":\"BasicTickFormatter\"},{\"attributes\":{\"axis\":{\"id\":\"1181\"},\"coordinates\":null,\"grid_line_alpha\":0.15,\"grid_line_color\":\"#E0E0E0\",\"group\":null,\"ticker\":null},\"id\":\"1184\",\"type\":\"Grid\"},{\"attributes\":{},\"id\":\"1177\",\"type\":\"LinearScale\"},{\"attributes\":{\"axis_label\":\"x\",\"axis_label_standoff\":10,\"axis_label_text_color\":\"#FFFFFF\",\"axis_label_text_font\":\"Josefin Sans\",\"axis_label_text_font_size\":\"1.9em\",\"axis_label_text_font_style\":\"bold\",\"axis_line_alpha\":0.4,\"axis_line_color\":\"#E0E0E0\",\"coordinates\":null,\"formatter\":{\"id\":\"1215\"},\"group\":null,\"major_label_policy\":{\"id\":\"1216\"},\"major_label_text_color\":\"#E0E0E0\",\"major_label_text_font\":\"Josefin Sans\",\"major_label_text_font_size\":\"1.15em\",\"major_tick_line_alpha\":0.4,\"major_tick_line_color\":\"#E0E0E0\",\"minor_tick_line_alpha\":0.4,\"minor_tick_line_color\":\"#E0E0E0\",\"ticker\":{\"id\":\"1182\"}},\"id\":\"1181\",\"type\":\"LinearAxis\"},{\"attributes\":{},\"id\":\"1194\",\"type\":\"HelpTool\"}],\"root_ids\":[\"1222\",\"1275\"]},\"title\":\"Bokeh Application\",\"version\":\"2.4.3\"}};\n",
       "    var render_items = [{\"docid\":\"65066866-be8a-44e0-bc6c-acb4f3113c6a\",\"root_ids\":[\"1222\"],\"roots\":{\"1222\":\"b2eaa042-be74-4147-a10d-65eeff63c4fb\"}}];\n",
       "    root.Bokeh.embed.embed_items_notebook(docs_json, render_items);\n",
       "    for (const render_item of render_items) {\n",
       "      for (const root_id of render_item.root_ids) {\n",
       "\tconst id_el = document.getElementById(root_id)\n",
       "\tif (id_el.children.length && (id_el.children[0].className === 'bk-root')) {\n",
       "\t  const root_el = id_el.children[0]\n",
       "\t  root_el.id = root_el.id + '-rendered'\n",
       "\t}\n",
       "      }\n",
       "    }\n",
       "  }\n",
       "  if (root.Bokeh !== undefined && root.Bokeh.Panel !== undefined) {\n",
       "    embed_document(root);\n",
       "  } else {\n",
       "    var attempts = 0;\n",
       "    var timer = setInterval(function(root) {\n",
       "      if (root.Bokeh !== undefined && root.Bokeh.Panel !== undefined) {\n",
       "        clearInterval(timer);\n",
       "        embed_document(root);\n",
       "      } else if (document.readyState == \"complete\") {\n",
       "        attempts++;\n",
       "        if (attempts > 200) {\n",
       "          clearInterval(timer);\n",
       "          console.log(\"Bokeh: ERROR: Unable to run BokehJS code because BokehJS library is missing\");\n",
       "        }\n",
       "      }\n",
       "    }, 25, root)\n",
       "  }\n",
       "})(window);</script>"
      ],
      "text/plain": [
       "Row\n",
       "    [0] HSpacer()\n",
       "    [1] Bokeh(Figure)\n",
       "    [2] HSpacer()"
      ]
     },
     "execution_count": 4,
     "metadata": {
      "application/vnd.holoviews_exec.v0+json": {
       "id": "1222"
      }
     },
     "output_type": "execute_result"
    }
   ],
   "source": [
    "# Number of points to generate\n",
    "n_observations = 100;\n",
    "# Generate 2-dimensional random points\n",
    "x_inputs = np.random.rand(int(n_observations), 2) * 2 - 1;\n",
    "# Slope of separating line\n",
    "sep_slope = np.log(np.random.rand() * 10);\n",
    "sep_bias = np.random.rand() * 2 - 1;\n",
    "# Create the indexes for a two-class problem\n",
    "y_class = (x_inputs[:, 1] - x_inputs[:, 0] * sep_slope - sep_bias > 0) * 1;\n",
    "# Plot the corresponding pattern\n",
    "plot = center_plot(scatter_classes(x_inputs, y_class))\n",
    "plot"
   ]
  },
  {
   "cell_type": "markdown",
   "metadata": {},
   "source": [
    "<a id=\"neuron\"></a>\n",
    "## Single neuron\n",
    "\n",
    "For the first parts of the tutorial, we will perform the simplest classification model possible in a neural network setting, a single neuron. We briefly recall here that; given an input vector $ \\mathbf{x} \\in \\mathbb{R}^{n} $, a single neuron computes the function  \n",
    "\n",
    "$$\n",
    "\\begin{equation}\n",
    "\\bar{y}=\\phi\\left(\\sum_{i = 1}^{n}w_{i}.x_{i} + b\\right)\n",
    "\\label{eq1}\n",
    "\\end{equation}\n",
    "$$\n",
    "\n",
    "with $ \\mathbf{w} \\in \\mathbb{R}^{n} $ a weight vector, $ b $ a bias and $ \\phi\\left( \\cdot \\right) $ an *activation function*. Therefore, if we consider the *threshold* activation function ($ \\mathbb{I}_{0}\\left(x\\right)=1 $ if $ x \\geq 0$), a single neuron simply performs an *affine transform* and then a *linear* discrimination of the space. \n",
    "\n",
    "***\n",
    "\n",
    "<div class=\"alert alert-success\" markdown=\"1\" style=\"color:white; background-color: #410819; border-color: #cb2e47\">\n",
    "\n",
    "> **Important note**\n",
    "> The following implementation tries to remain as close as possible to the original neuron model by McCulloch & Pitts, notably by using the _threshold activation_ function. Although this leads to a very simple implementation (akin to using an _identity_ activation, note that it is not to be used afterwards.\n",
    "\n",
    "</div>\n",
    "\n",
    "***\n",
    "\n",
    "As we will see later on, a **neural network** will simply be composed of _layers_ of these neurons, which produce successive computations\n",
    "\n",
    "<img src=\"images/02_feedforward_nn.png\" align=\"center\"/>\n",
    "\n",
    "Geometrically, a single neuron computes an hyperplane that separates the space. In order to learn, we have to adjust the weights and know \"how much wrong we are\". To do so, we consider that we know the desired output $ y_{j} $ of a system for a given example $ \\mathbf{x}_{j} $ (eg. a predicted value for a regression system, a class value for a classification system). Therefore, we define the MSE loss function $ \\mathcal{L}_{\\mathcal{D}} $ over a whole dataset as\n",
    "\n",
    "$$\n",
    "\\begin{equation}\n",
    "\\mathcal{L}_{\\mathcal{D}}=\\sum_{j=1}^{|\\mathcal{D}|}\\left\\Vert \\bar{y}_{j}-y_{j}\\right\\Vert ^{2}\n",
    "\\label{eq2}\n",
    "\\end{equation}\n",
    "$$\n",
    "\n",
    "with $|\\mathcal{D}|$ being the size of our dataset. In order to know how to change the weights based on the value of the errors, we need to now \"how to change it to make it better\". Therefore, we should compute the sets of derivatives of the error given each parameter\n",
    "\n",
    "$$\n",
    "\\begin{equation}\n",
    "\\Delta\\bar{\\mathbf{w}}=\\left(\\frac{\\delta\\mathcal{L}_{\\mathcal{D}}}{\\delta w_{1}},\\ldots,\\frac{\\delta\\mathcal{L}_{\\mathcal{D}}}{\\delta w_{n}}\\right)\n",
    "\\label{eq3}\n",
    "\\end{equation}\n",
    "$$ \n",
    "\n",
    "***\n",
    "\n",
    "<div class=\"alert alert-success\" markdown=\"1\" style=\"color:white; background-color: #192841; border-color: #779ecb\">\n",
    "\n",
    "> ### Exercise (course)\n",
    ">   1. Perform the derivatives of the output given a single neuron\n",
    ">   2. Perform the derivatives for the bias as well\n",
    "\n",
    "</div>\n",
    "\n",
    "***"
   ]
  },
  {
   "cell_type": "markdown",
   "metadata": {},
   "source": [
    "### Training your own neuron\n",
    "\n",
    "We will start by training a single neuron to learn how to perform this discrimination with a linear problem (so that a single neuron is enough to solve it). "
   ]
  },
  {
   "cell_type": "code",
   "execution_count": 9,
   "metadata": {
    "tags": []
   },
   "outputs": [],
   "source": [
    "# Learning rate\n",
    "eta = 0.001;\n",
    "# Weight decay\n",
    "lambda_r = 0.1\n",
    "# Number of epochs\n",
    "n_epochs = 50\n",
    "# Initialize the weights\n",
    "weights = np.random.randn(1, 2);\n",
    "bias = np.random.randn(1, 1);\n",
    "# Save the weight history for plotting\n",
    "weights_history = np.zeros((n_epochs + 1, 2));\n",
    "bias_history = np.zeros((n_epochs + 1, 1));"
   ]
  },
  {
   "cell_type": "markdown",
   "metadata": {},
   "source": [
    "Now you need to update the following code loop to ensure that your neuron learns to separate between the classes \n",
    "***\n",
    "\n",
    "<div class=\"alert alert-success\" markdown=\"1\" style=\"color:white; background-color: #192841; border-color: #779ecb\">\n",
    "\n",
    "> ### Exercise (course)\n",
    ">   1. Update the loop so that it computes the forward propagation error\n",
    ">   2. Update the loop to perform learning (based on back-propagation)\n",
    ">   3. Run the learning procedure, which should produce a result similar to that displayed on the website\n",
    ">   4. Perform multiple re-runs by **tweaking the hyperparameters** (learning rate, weight decay)\n",
    ">   5. What observations can you make on the learning process?\n",
    ">   6. (Optional) Change the input patterns, and confirm your observations.\n",
    ">   6. (Optional) Incorporate the bias in the weights to obtain a **vectorized** code.\n",
    "\n",
    "</div>\n",
    "\n",
    "***"
   ]
  },
  {
   "cell_type": "code",
   "execution_count": 10,
   "metadata": {
    "tags": []
   },
   "outputs": [
    {
     "data": {},
     "metadata": {},
     "output_type": "display_data"
    },
    {
     "data": {
      "application/vnd.holoviews_exec.v0+json": "",
      "text/html": [
       "<div id='3348'>\n",
       "  <div class=\"bk-root\" id=\"6581d227-50ad-4178-a0b7-bf2cefdfd58b\" data-root-id=\"3348\"></div>\n",
       "</div>\n",
       "<script type=\"application/javascript\">(function(root) {\n",
       "  function embed_document(root) {\n",
       "    var docs_json = {\"c7c6f5f8-e5ac-4489-8695-c45f53786a6f\":{\"defs\":[{\"extends\":null,\"module\":null,\"name\":\"ReactiveHTML1\",\"overrides\":[],\"properties\":[]},{\"extends\":null,\"module\":null,\"name\":\"FlexBox1\",\"overrides\":[],\"properties\":[{\"default\":\"flex-start\",\"kind\":null,\"name\":\"align_content\"},{\"default\":\"flex-start\",\"kind\":null,\"name\":\"align_items\"},{\"default\":\"row\",\"kind\":null,\"name\":\"flex_direction\"},{\"default\":\"wrap\",\"kind\":null,\"name\":\"flex_wrap\"},{\"default\":\"flex-start\",\"kind\":null,\"name\":\"justify_content\"}]},{\"extends\":null,\"module\":null,\"name\":\"GridStack1\",\"overrides\":[],\"properties\":[{\"default\":\"warn\",\"kind\":null,\"name\":\"mode\"},{\"default\":null,\"kind\":null,\"name\":\"ncols\"},{\"default\":null,\"kind\":null,\"name\":\"nrows\"},{\"default\":true,\"kind\":null,\"name\":\"allow_resize\"},{\"default\":true,\"kind\":null,\"name\":\"allow_drag\"},{\"default\":[],\"kind\":null,\"name\":\"state\"}]},{\"extends\":null,\"module\":null,\"name\":\"click1\",\"overrides\":[],\"properties\":[{\"default\":\"\",\"kind\":null,\"name\":\"terminal_output\"},{\"default\":\"\",\"kind\":null,\"name\":\"debug_name\"},{\"default\":0,\"kind\":null,\"name\":\"clears\"}]},{\"extends\":null,\"module\":null,\"name\":\"NotificationAreaBase1\",\"overrides\":[],\"properties\":[{\"default\":\"bottom-right\",\"kind\":null,\"name\":\"position\"},{\"default\":0,\"kind\":null,\"name\":\"_clear\"}]},{\"extends\":null,\"module\":null,\"name\":\"NotificationArea1\",\"overrides\":[],\"properties\":[{\"default\":[],\"kind\":null,\"name\":\"notifications\"},{\"default\":\"bottom-right\",\"kind\":null,\"name\":\"position\"},{\"default\":0,\"kind\":null,\"name\":\"_clear\"},{\"default\":[{\"background\":\"#ffc107\",\"icon\":{\"className\":\"fas fa-exclamation-triangle\",\"color\":\"white\",\"tagName\":\"i\"},\"type\":\"warning\"},{\"background\":\"#007bff\",\"icon\":{\"className\":\"fas fa-info-circle\",\"color\":\"white\",\"tagName\":\"i\"},\"type\":\"info\"}],\"kind\":null,\"name\":\"types\"}]},{\"extends\":null,\"module\":null,\"name\":\"Notification\",\"overrides\":[],\"properties\":[{\"default\":null,\"kind\":null,\"name\":\"background\"},{\"default\":3000,\"kind\":null,\"name\":\"duration\"},{\"default\":null,\"kind\":null,\"name\":\"icon\"},{\"default\":\"\",\"kind\":null,\"name\":\"message\"},{\"default\":null,\"kind\":null,\"name\":\"notification_type\"},{\"default\":false,\"kind\":null,\"name\":\"_destroyed\"}]},{\"extends\":null,\"module\":null,\"name\":\"TemplateActions1\",\"overrides\":[],\"properties\":[{\"default\":0,\"kind\":null,\"name\":\"open_modal\"},{\"default\":0,\"kind\":null,\"name\":\"close_modal\"}]},{\"extends\":null,\"module\":null,\"name\":\"MaterialTemplateActions1\",\"overrides\":[],\"properties\":[{\"default\":0,\"kind\":null,\"name\":\"open_modal\"},{\"default\":0,\"kind\":null,\"name\":\"close_modal\"}]}],\"roots\":{\"references\":[{\"attributes\":{\"line_alpha\":0.2,\"line_color\":\"#C7427B\",\"line_dash\":[6],\"line_width\":4,\"x\":{\"field\":\"x\"},\"y\":{\"field\":\"y\"}},\"id\":\"3195\",\"type\":\"Line\"},{\"attributes\":{\"source\":{\"id\":\"3060\"}},\"id\":\"3065\",\"type\":\"CDSView\"},{\"attributes\":{\"line_color\":\"#CD4975\",\"line_dash\":[6],\"line_width\":4,\"x\":{\"field\":\"x\"},\"y\":{\"field\":\"y\"}},\"id\":\"3199\",\"type\":\"Line\"},{\"attributes\":{\"coordinates\":null,\"data_source\":{\"id\":\"3060\"},\"glyph\":{\"id\":\"3061\"},\"group\":null,\"hover_glyph\":null,\"muted_glyph\":{\"id\":\"3063\"},\"nonselection_glyph\":{\"id\":\"3062\"},\"view\":{\"id\":\"3065\"}},\"id\":\"3064\",\"type\":\"GlyphRenderer\"},{\"attributes\":{\"line_alpha\":0.2,\"line_color\":\"#CD4975\",\"line_dash\":[6],\"line_width\":4,\"x\":{\"field\":\"x\"},\"y\":{\"field\":\"y\"}},\"id\":\"3201\",\"type\":\"Line\"},{\"attributes\":{\"coordinates\":null,\"data_source\":{\"id\":\"3192\"},\"glyph\":{\"id\":\"3193\"},\"group\":null,\"hover_glyph\":null,\"muted_glyph\":{\"id\":\"3195\"},\"nonselection_glyph\":{\"id\":\"3194\"},\"view\":{\"id\":\"3197\"}},\"id\":\"3196\",\"type\":\"GlyphRenderer\"},{\"attributes\":{\"line_alpha\":0.2,\"line_color\":\"#2F0495\",\"line_dash\":[6],\"line_width\":4,\"x\":{\"field\":\"x\"},\"y\":{\"field\":\"y\"}},\"id\":\"3069\",\"type\":\"Line\"},{\"attributes\":{\"data\":{\"x\":{\"__ndarray__\":\"bN1trwPu7r9OuRGiPavvPw==\",\"dtype\":\"float64\",\"order\":\"little\",\"shape\":[2]},\"y\":{\"__ndarray__\":\"sHW2KoODzr9xw1/6E+Pbvw==\",\"dtype\":\"float64\",\"order\":\"little\",\"shape\":[2]}},\"selected\":{\"id\":\"3364\"},\"selection_policy\":{\"id\":\"3363\"}},\"id\":\"3060\",\"type\":\"ColumnDataSource\"},{\"attributes\":{\"source\":{\"id\":\"3192\"}},\"id\":\"3197\",\"type\":\"CDSView\"},{\"attributes\":{\"line_color\":\"#2F0495\",\"line_dash\":[6],\"line_width\":4,\"x\":{\"field\":\"x\"},\"y\":{\"field\":\"y\"}},\"id\":\"3067\",\"type\":\"Line\"},{\"attributes\":{\"line_alpha\":0.1,\"line_color\":\"#1B068C\",\"line_dash\":[6],\"line_width\":4,\"x\":{\"field\":\"x\"},\"y\":{\"field\":\"y\"}},\"id\":\"3056\",\"type\":\"Line\"},{\"attributes\":{\"line_alpha\":0.1,\"line_color\":\"#C7427B\",\"line_dash\":[6],\"line_width\":4,\"x\":{\"field\":\"x\"},\"y\":{\"field\":\"y\"}},\"id\":\"3194\",\"type\":\"Line\"},{\"attributes\":{\"line_color\":\"#D14F71\",\"line_dash\":[6],\"line_width\":4,\"x\":{\"field\":\"x\"},\"y\":{\"field\":\"y\"}},\"id\":\"3205\",\"type\":\"Line\"},{\"attributes\":{\"source\":{\"id\":\"3054\"}},\"id\":\"3059\",\"type\":\"CDSView\"},{\"attributes\":{\"data\":{\"x\":{\"__ndarray__\":\"bN1trwPu7r9OuRGiPavvPw==\",\"dtype\":\"float64\",\"order\":\"little\",\"shape\":[2]},\"y\":{\"__ndarray__\":\"BiO9QJ3po7+96dpiUar2Pw==\",\"dtype\":\"float64\",\"order\":\"little\",\"shape\":[2]}},\"selected\":{\"id\":\"3410\"},\"selection_policy\":{\"id\":\"3409\"}},\"id\":\"3198\",\"type\":\"ColumnDataSource\"},{\"attributes\":{\"coordinates\":null,\"data_source\":{\"id\":\"3054\"},\"glyph\":{\"id\":\"3055\"},\"group\":null,\"hover_glyph\":null,\"muted_glyph\":{\"id\":\"3057\"},\"nonselection_glyph\":{\"id\":\"3056\"},\"view\":{\"id\":\"3059\"}},\"id\":\"3058\",\"type\":\"GlyphRenderer\"},{\"attributes\":{\"line_alpha\":0.2,\"line_color\":\"#D14F71\",\"line_dash\":[6],\"line_width\":4,\"x\":{\"field\":\"x\"},\"y\":{\"field\":\"y\"}},\"id\":\"3207\",\"type\":\"Line\"},{\"attributes\":{\"coordinates\":null,\"data_source\":{\"id\":\"3198\"},\"glyph\":{\"id\":\"3199\"},\"group\":null,\"hover_glyph\":null,\"muted_glyph\":{\"id\":\"3201\"},\"nonselection_glyph\":{\"id\":\"3200\"},\"view\":{\"id\":\"3203\"}},\"id\":\"3202\",\"type\":\"GlyphRenderer\"},{\"attributes\":{\"line_alpha\":0.2,\"line_color\":\"#250591\",\"line_dash\":[6],\"line_width\":4,\"x\":{\"field\":\"x\"},\"y\":{\"field\":\"y\"}},\"id\":\"3063\",\"type\":\"Line\"},{\"attributes\":{\"data\":{\"x\":{\"__ndarray__\":\"bN1trwPu7r9OuRGiPavvPw==\",\"dtype\":\"float64\",\"order\":\"little\",\"shape\":[2]},\"y\":{\"__ndarray__\":\"mlgzZePv078dUaHc3bPivw==\",\"dtype\":\"float64\",\"order\":\"little\",\"shape\":[2]}},\"selected\":{\"id\":\"3362\"},\"selection_policy\":{\"id\":\"3361\"}},\"id\":\"3054\",\"type\":\"ColumnDataSource\"},{\"attributes\":{\"source\":{\"id\":\"3198\"}},\"id\":\"3203\",\"type\":\"CDSView\"},{\"attributes\":{\"line_color\":\"#250591\",\"line_dash\":[6],\"line_width\":4,\"x\":{\"field\":\"x\"},\"y\":{\"field\":\"y\"}},\"id\":\"3061\",\"type\":\"Line\"},{\"attributes\":{},\"id\":\"3395\",\"type\":\"UnionRenderers\"},{\"attributes\":{\"line_alpha\":0.1,\"line_color\":\"#0C0786\",\"line_dash\":[6],\"line_width\":4,\"x\":{\"field\":\"x\"},\"y\":{\"field\":\"y\"}},\"id\":\"3050\",\"type\":\"Line\"},{\"attributes\":{\"line_alpha\":0.1,\"line_color\":\"#CD4975\",\"line_dash\":[6],\"line_width\":4,\"x\":{\"field\":\"x\"},\"y\":{\"field\":\"y\"}},\"id\":\"3200\",\"type\":\"Line\"},{\"attributes\":{},\"id\":\"3433\",\"type\":\"UnionRenderers\"},{\"attributes\":{\"line_color\":\"#D6556D\",\"line_dash\":[6],\"line_width\":4,\"x\":{\"field\":\"x\"},\"y\":{\"field\":\"y\"}},\"id\":\"3211\",\"type\":\"Line\"},{\"attributes\":{\"source\":{\"id\":\"3048\"}},\"id\":\"3053\",\"type\":\"CDSView\"},{\"attributes\":{\"data\":{\"x\":{\"__ndarray__\":\"bN1trwPu7r9OuRGiPavvPw==\",\"dtype\":\"float64\",\"order\":\"little\",\"shape\":[2]},\"y\":{\"__ndarray__\":\"5fcwgLMasL9LtM36h932Pw==\",\"dtype\":\"float64\",\"order\":\"little\",\"shape\":[2]}},\"selected\":{\"id\":\"3412\"},\"selection_policy\":{\"id\":\"3411\"}},\"id\":\"3204\",\"type\":\"ColumnDataSource\"},{\"attributes\":{},\"id\":\"3396\",\"type\":\"Selection\"},{\"attributes\":{\"coordinates\":null,\"data_source\":{\"id\":\"3048\"},\"glyph\":{\"id\":\"3049\"},\"group\":null,\"hover_glyph\":null,\"muted_glyph\":{\"id\":\"3051\"},\"nonselection_glyph\":{\"id\":\"3050\"},\"view\":{\"id\":\"3053\"}},\"id\":\"3052\",\"type\":\"GlyphRenderer\"},{\"attributes\":{\"line_alpha\":0.2,\"line_color\":\"#D6556D\",\"line_dash\":[6],\"line_width\":4,\"x\":{\"field\":\"x\"},\"y\":{\"field\":\"y\"}},\"id\":\"3213\",\"type\":\"Line\"},{\"attributes\":{},\"id\":\"3434\",\"type\":\"Selection\"},{\"attributes\":{\"coordinates\":null,\"data_source\":{\"id\":\"3204\"},\"glyph\":{\"id\":\"3205\"},\"group\":null,\"hover_glyph\":null,\"muted_glyph\":{\"id\":\"3207\"},\"nonselection_glyph\":{\"id\":\"3206\"},\"view\":{\"id\":\"3209\"}},\"id\":\"3208\",\"type\":\"GlyphRenderer\"},{\"attributes\":{\"fill_alpha\":{\"value\":0.6},\"fill_color\":{\"field\":\"color\"},\"hatch_alpha\":{\"value\":0.6},\"hatch_color\":{\"field\":\"color\"},\"line_alpha\":{\"value\":0.6},\"line_color\":{\"value\":\"white\"},\"size\":{\"value\":10},\"x\":{\"field\":\"x\"},\"y\":{\"field\":\"y\"}},\"id\":\"3029\",\"type\":\"Circle\"},{\"attributes\":{\"source\":{\"id\":\"3204\"}},\"id\":\"3209\",\"type\":\"CDSView\"},{\"attributes\":{\"line_alpha\":0.1,\"line_color\":\"#D14F71\",\"line_dash\":[6],\"line_width\":4,\"x\":{\"field\":\"x\"},\"y\":{\"field\":\"y\"}},\"id\":\"3206\",\"type\":\"Line\"},{\"attributes\":{\"line_color\":\"#DA5A68\",\"line_dash\":[6],\"line_width\":4,\"x\":{\"field\":\"x\"},\"y\":{\"field\":\"y\"}},\"id\":\"3217\",\"type\":\"Line\"},{\"attributes\":{\"data\":{\"x\":{\"__ndarray__\":\"bN1trwPu7r9OuRGiPavvPw==\",\"dtype\":\"float64\",\"order\":\"little\",\"shape\":[2]},\"y\":{\"__ndarray__\":\"svDmq9tetL9N5NInoin3Pw==\",\"dtype\":\"float64\",\"order\":\"little\",\"shape\":[2]}},\"selected\":{\"id\":\"3414\"},\"selection_policy\":{\"id\":\"3413\"}},\"id\":\"3210\",\"type\":\"ColumnDataSource\"},{\"attributes\":{\"line_alpha\":0.2,\"line_color\":\"#DA5A68\",\"line_dash\":[6],\"line_width\":4,\"x\":{\"field\":\"x\"},\"y\":{\"field\":\"y\"}},\"id\":\"3219\",\"type\":\"Line\"},{\"attributes\":{\"coordinates\":null,\"data_source\":{\"id\":\"3210\"},\"glyph\":{\"id\":\"3211\"},\"group\":null,\"hover_glyph\":null,\"muted_glyph\":{\"id\":\"3213\"},\"nonselection_glyph\":{\"id\":\"3212\"},\"view\":{\"id\":\"3215\"}},\"id\":\"3214\",\"type\":\"GlyphRenderer\"},{\"attributes\":{\"line_alpha\":0.2,\"line_color\":\"#1B068C\",\"line_dash\":[6],\"line_width\":4,\"x\":{\"field\":\"x\"},\"y\":{\"field\":\"y\"}},\"id\":\"3057\",\"type\":\"Line\"},{\"attributes\":{\"source\":{\"id\":\"3210\"}},\"id\":\"3215\",\"type\":\"CDSView\"},{\"attributes\":{},\"id\":\"3359\",\"type\":\"UnionRenderers\"},{\"attributes\":{\"line_alpha\":0.1,\"line_color\":\"#D6556D\",\"line_dash\":[6],\"line_width\":4,\"x\":{\"field\":\"x\"},\"y\":{\"field\":\"y\"}},\"id\":\"3212\",\"type\":\"Line\"},{\"attributes\":{\"line_color\":\"#DE6064\",\"line_dash\":[6],\"line_width\":4,\"x\":{\"field\":\"x\"},\"y\":{\"field\":\"y\"}},\"id\":\"3223\",\"type\":\"Line\"},{\"attributes\":{\"data\":{\"x\":{\"__ndarray__\":\"bN1trwPu7r9OuRGiPavvPw==\",\"dtype\":\"float64\",\"order\":\"little\",\"shape\":[2]},\"y\":{\"__ndarray__\":\"5pBH5pO3uL8minMiK3f3Pw==\",\"dtype\":\"float64\",\"order\":\"little\",\"shape\":[2]}},\"selected\":{\"id\":\"3416\"},\"selection_policy\":{\"id\":\"3415\"}},\"id\":\"3216\",\"type\":\"ColumnDataSource\"},{\"attributes\":{\"line_alpha\":0.2,\"line_color\":\"#DE6064\",\"line_dash\":[6],\"line_width\":4,\"x\":{\"field\":\"x\"},\"y\":{\"field\":\"y\"}},\"id\":\"3225\",\"type\":\"Line\"},{\"attributes\":{},\"id\":\"3397\",\"type\":\"UnionRenderers\"},{\"attributes\":{\"coordinates\":null,\"data_source\":{\"id\":\"3216\"},\"glyph\":{\"id\":\"3217\"},\"group\":null,\"hover_glyph\":null,\"muted_glyph\":{\"id\":\"3219\"},\"nonselection_glyph\":{\"id\":\"3218\"},\"view\":{\"id\":\"3221\"}},\"id\":\"3220\",\"type\":\"GlyphRenderer\"},{\"attributes\":{},\"id\":\"3360\",\"type\":\"Selection\"},{\"attributes\":{},\"id\":\"3435\",\"type\":\"UnionRenderers\"},{\"attributes\":{\"source\":{\"id\":\"3216\"}},\"id\":\"3221\",\"type\":\"CDSView\"},{\"attributes\":{},\"id\":\"3398\",\"type\":\"Selection\"},{\"attributes\":{\"line_alpha\":0.1,\"line_color\":\"#DA5A68\",\"line_dash\":[6],\"line_width\":4,\"x\":{\"field\":\"x\"},\"y\":{\"field\":\"y\"}},\"id\":\"3218\",\"type\":\"Line\"},{\"attributes\":{},\"id\":\"3436\",\"type\":\"Selection\"},{\"attributes\":{\"line_color\":\"#E3675F\",\"line_dash\":[6],\"line_width\":4,\"x\":{\"field\":\"x\"},\"y\":{\"field\":\"y\"}},\"id\":\"3229\",\"type\":\"Line\"},{\"attributes\":{\"data\":{\"x\":{\"__ndarray__\":\"bN1trwPu7r9OuRGiPavvPw==\",\"dtype\":\"float64\",\"order\":\"little\",\"shape\":[2]},\"y\":{\"__ndarray__\":\"5SIhQ3Ilvb9xBc5fLcb3Pw==\",\"dtype\":\"float64\",\"order\":\"little\",\"shape\":[2]}},\"selected\":{\"id\":\"3418\"},\"selection_policy\":{\"id\":\"3417\"}},\"id\":\"3222\",\"type\":\"ColumnDataSource\"},{\"attributes\":{\"line_alpha\":0.2,\"line_color\":\"#E3675F\",\"line_dash\":[6],\"line_width\":4,\"x\":{\"field\":\"x\"},\"y\":{\"field\":\"y\"}},\"id\":\"3231\",\"type\":\"Line\"},{\"attributes\":{\"coordinates\":null,\"data_source\":{\"id\":\"3222\"},\"glyph\":{\"id\":\"3223\"},\"group\":null,\"hover_glyph\":null,\"muted_glyph\":{\"id\":\"3225\"},\"nonselection_glyph\":{\"id\":\"3224\"},\"view\":{\"id\":\"3227\"}},\"id\":\"3226\",\"type\":\"GlyphRenderer\"},{\"attributes\":{\"source\":{\"id\":\"3222\"}},\"id\":\"3227\",\"type\":\"CDSView\"},{\"attributes\":{\"line_alpha\":0.1,\"line_color\":\"#DE6064\",\"line_dash\":[6],\"line_width\":4,\"x\":{\"field\":\"x\"},\"y\":{\"field\":\"y\"}},\"id\":\"3224\",\"type\":\"Line\"},{\"attributes\":{\"line_color\":\"#E66D5A\",\"line_dash\":[6],\"line_width\":4,\"x\":{\"field\":\"x\"},\"y\":{\"field\":\"y\"}},\"id\":\"3235\",\"type\":\"Line\"},{\"attributes\":{\"data\":{\"x\":{\"__ndarray__\":\"bN1trwPu7r9OuRGiPavvPw==\",\"dtype\":\"float64\",\"order\":\"little\",\"shape\":[2]},\"y\":{\"__ndarray__\":\"fuuDl4WZ2b/lXwqFyrvnvw==\",\"dtype\":\"float64\",\"order\":\"little\",\"shape\":[2]}},\"selected\":{\"id\":\"3360\"},\"selection_policy\":{\"id\":\"3359\"}},\"id\":\"3048\",\"type\":\"ColumnDataSource\"},{\"attributes\":{\"data\":{\"x\":{\"__ndarray__\":\"bN1trwPu7r9OuRGiPavvPw==\",\"dtype\":\"float64\",\"order\":\"little\",\"shape\":[2]},\"y\":{\"__ndarray__\":\"KutcTInUwL++p767sxb4Pw==\",\"dtype\":\"float64\",\"order\":\"little\",\"shape\":[2]}},\"selected\":{\"id\":\"3420\"},\"selection_policy\":{\"id\":\"3419\"}},\"id\":\"3228\",\"type\":\"ColumnDataSource\"},{\"attributes\":{\"line_alpha\":0.2,\"line_color\":\"#E66D5A\",\"line_dash\":[6],\"line_width\":4,\"x\":{\"field\":\"x\"},\"y\":{\"field\":\"y\"}},\"id\":\"3237\",\"type\":\"Line\"},{\"attributes\":{\"coordinates\":null,\"data_source\":{\"id\":\"3228\"},\"glyph\":{\"id\":\"3229\"},\"group\":null,\"hover_glyph\":null,\"muted_glyph\":{\"id\":\"3231\"},\"nonselection_glyph\":{\"id\":\"3230\"},\"view\":{\"id\":\"3233\"}},\"id\":\"3232\",\"type\":\"GlyphRenderer\"},{\"attributes\":{\"line_color\":\"#1B068C\",\"line_dash\":[6],\"line_width\":4,\"x\":{\"field\":\"x\"},\"y\":{\"field\":\"y\"}},\"id\":\"3055\",\"type\":\"Line\"},{\"attributes\":{\"line_color\":\"#0C0786\",\"line_dash\":[6],\"line_width\":4,\"x\":{\"field\":\"x\"},\"y\":{\"field\":\"y\"}},\"id\":\"3049\",\"type\":\"Line\"},{\"attributes\":{\"source\":{\"id\":\"3228\"}},\"id\":\"3233\",\"type\":\"CDSView\"},{\"attributes\":{},\"id\":\"3361\",\"type\":\"UnionRenderers\"},{\"attributes\":{\"label\":{\"field\":\"label\"},\"renderers\":[{\"id\":\"3032\"}]},\"id\":\"3045\",\"type\":\"LegendItem\"},{\"attributes\":{\"line_alpha\":0.2,\"line_color\":\"#0C0786\",\"line_dash\":[6],\"line_width\":4,\"x\":{\"field\":\"x\"},\"y\":{\"field\":\"y\"}},\"id\":\"3051\",\"type\":\"Line\"},{\"attributes\":{\"line_alpha\":0.1,\"line_color\":\"#E3675F\",\"line_dash\":[6],\"line_width\":4,\"x\":{\"field\":\"x\"},\"y\":{\"field\":\"y\"}},\"id\":\"3230\",\"type\":\"Line\"},{\"attributes\":{},\"id\":\"3399\",\"type\":\"UnionRenderers\"},{\"attributes\":{\"line_color\":\"#EA7356\",\"line_dash\":[6],\"line_width\":4,\"x\":{\"field\":\"x\"},\"y\":{\"field\":\"y\"}},\"id\":\"3241\",\"type\":\"Line\"},{\"attributes\":{},\"id\":\"3362\",\"type\":\"Selection\"},{\"attributes\":{},\"id\":\"3437\",\"type\":\"UnionRenderers\"},{\"attributes\":{\"data\":{\"x\":{\"__ndarray__\":\"bN1trwPu7r9OuRGiPavvPw==\",\"dtype\":\"float64\",\"order\":\"little\",\"shape\":[2]},\"y\":{\"__ndarray__\":\"7nudY4shw79qsdl9yWj4Pw==\",\"dtype\":\"float64\",\"order\":\"little\",\"shape\":[2]}},\"selected\":{\"id\":\"3422\"},\"selection_policy\":{\"id\":\"3421\"}},\"id\":\"3234\",\"type\":\"ColumnDataSource\"},{\"attributes\":{\"line_alpha\":0.2,\"line_color\":\"#EA7356\",\"line_dash\":[6],\"line_width\":4,\"x\":{\"field\":\"x\"},\"y\":{\"field\":\"y\"}},\"id\":\"3243\",\"type\":\"Line\"},{\"attributes\":{},\"id\":\"3400\",\"type\":\"Selection\"},{\"attributes\":{\"coordinates\":null,\"data_source\":{\"id\":\"3234\"},\"glyph\":{\"id\":\"3235\"},\"group\":null,\"hover_glyph\":null,\"muted_glyph\":{\"id\":\"3237\"},\"nonselection_glyph\":{\"id\":\"3236\"},\"view\":{\"id\":\"3239\"}},\"id\":\"3238\",\"type\":\"GlyphRenderer\"},{\"attributes\":{},\"id\":\"3438\",\"type\":\"Selection\"},{\"attributes\":{\"source\":{\"id\":\"3234\"}},\"id\":\"3239\",\"type\":\"CDSView\"},{\"attributes\":{\"line_alpha\":0.1,\"line_color\":\"#E66D5A\",\"line_dash\":[6],\"line_width\":4,\"x\":{\"field\":\"x\"},\"y\":{\"field\":\"y\"}},\"id\":\"3236\",\"type\":\"Line\"},{\"attributes\":{\"line_color\":\"#ED7952\",\"line_dash\":[6],\"line_width\":4,\"x\":{\"field\":\"x\"},\"y\":{\"field\":\"y\"}},\"id\":\"3247\",\"type\":\"Line\"},{\"attributes\":{\"data\":{\"x\":{\"__ndarray__\":\"bN1trwPu7r9OuRGiPavvPw==\",\"dtype\":\"float64\",\"order\":\"little\",\"shape\":[2]},\"y\":{\"__ndarray__\":\"+qAmghN6xb9zFLBeerz4Pw==\",\"dtype\":\"float64\",\"order\":\"little\",\"shape\":[2]}},\"selected\":{\"id\":\"3424\"},\"selection_policy\":{\"id\":\"3423\"}},\"id\":\"3240\",\"type\":\"ColumnDataSource\"},{\"attributes\":{\"line_alpha\":0.2,\"line_color\":\"#ED7952\",\"line_dash\":[6],\"line_width\":4,\"x\":{\"field\":\"x\"},\"y\":{\"field\":\"y\"}},\"id\":\"3249\",\"type\":\"Line\"},{\"attributes\":{\"coordinates\":null,\"data_source\":{\"id\":\"3240\"},\"glyph\":{\"id\":\"3241\"},\"group\":null,\"hover_glyph\":null,\"muted_glyph\":{\"id\":\"3243\"},\"nonselection_glyph\":{\"id\":\"3242\"},\"view\":{\"id\":\"3245\"}},\"id\":\"3244\",\"type\":\"GlyphRenderer\"},{\"attributes\":{\"source\":{\"id\":\"3240\"}},\"id\":\"3245\",\"type\":\"CDSView\"},{\"attributes\":{\"end\":0.9896534123816225,\"start\":-0.9665544916487483},\"id\":\"3046\",\"type\":\"Range1d\"},{\"attributes\":{\"line_alpha\":0.1,\"line_color\":\"#EA7356\",\"line_dash\":[6],\"line_width\":4,\"x\":{\"field\":\"x\"},\"y\":{\"field\":\"y\"}},\"id\":\"3242\",\"type\":\"Line\"},{\"attributes\":{\"line_color\":\"#F0804D\",\"line_dash\":[6],\"line_width\":4,\"x\":{\"field\":\"x\"},\"y\":{\"field\":\"y\"}},\"id\":\"3253\",\"type\":\"Line\"},{\"attributes\":{\"data\":{\"x\":{\"__ndarray__\":\"bN1trwPu7r9OuRGiPavvPw==\",\"dtype\":\"float64\",\"order\":\"little\",\"shape\":[2]},\"y\":{\"__ndarray__\":\"lj2YFXnex79fKWSN0hH5Pw==\",\"dtype\":\"float64\",\"order\":\"little\",\"shape\":[2]}},\"selected\":{\"id\":\"3426\"},\"selection_policy\":{\"id\":\"3425\"}},\"id\":\"3246\",\"type\":\"ColumnDataSource\"},{\"attributes\":{},\"id\":\"3363\",\"type\":\"UnionRenderers\"},{\"attributes\":{\"line_alpha\":0.2,\"line_color\":\"#F0804D\",\"line_dash\":[6],\"line_width\":4,\"x\":{\"field\":\"x\"},\"y\":{\"field\":\"y\"}},\"id\":\"3255\",\"type\":\"Line\"},{\"attributes\":{\"coordinates\":null,\"data_source\":{\"id\":\"3246\"},\"glyph\":{\"id\":\"3247\"},\"group\":null,\"hover_glyph\":null,\"muted_glyph\":{\"id\":\"3249\"},\"nonselection_glyph\":{\"id\":\"3248\"},\"view\":{\"id\":\"3251\"}},\"id\":\"3250\",\"type\":\"GlyphRenderer\"},{\"attributes\":{},\"id\":\"3401\",\"type\":\"UnionRenderers\"},{\"attributes\":{\"source\":{\"id\":\"3246\"}},\"id\":\"3251\",\"type\":\"CDSView\"},{\"attributes\":{},\"id\":\"3364\",\"type\":\"Selection\"},{\"attributes\":{},\"id\":\"3439\",\"type\":\"UnionRenderers\"},{\"attributes\":{\"line_alpha\":0.1,\"line_color\":\"#ED7952\",\"line_dash\":[6],\"line_width\":4,\"x\":{\"field\":\"x\"},\"y\":{\"field\":\"y\"}},\"id\":\"3248\",\"type\":\"Line\"},{\"attributes\":{},\"id\":\"3402\",\"type\":\"Selection\"},{\"attributes\":{\"line_color\":\"#F38748\",\"line_dash\":[6],\"line_width\":4,\"x\":{\"field\":\"x\"},\"y\":{\"field\":\"y\"}},\"id\":\"3259\",\"type\":\"Line\"},{\"attributes\":{},\"id\":\"3440\",\"type\":\"Selection\"},{\"attributes\":{\"data\":{\"x\":{\"__ndarray__\":\"bN1trwPu7r9OuRGiPavvPw==\",\"dtype\":\"float64\",\"order\":\"little\",\"shape\":[2]},\"y\":{\"__ndarray__\":\"ekHPCBdPyr8/65O13mj5Pw==\",\"dtype\":\"float64\",\"order\":\"little\",\"shape\":[2]}},\"selected\":{\"id\":\"3428\"},\"selection_policy\":{\"id\":\"3427\"}},\"id\":\"3252\",\"type\":\"ColumnDataSource\"},{\"attributes\":{\"line_alpha\":0.2,\"line_color\":\"#F38748\",\"line_dash\":[6],\"line_width\":4,\"x\":{\"field\":\"x\"},\"y\":{\"field\":\"y\"}},\"id\":\"3261\",\"type\":\"Line\"},{\"attributes\":{\"coordinates\":null,\"data_source\":{\"id\":\"3252\"},\"glyph\":{\"id\":\"3253\"},\"group\":null,\"hover_glyph\":null,\"muted_glyph\":{\"id\":\"3255\"},\"nonselection_glyph\":{\"id\":\"3254\"},\"view\":{\"id\":\"3257\"}},\"id\":\"3256\",\"type\":\"GlyphRenderer\"},{\"attributes\":{\"source\":{\"id\":\"3252\"}},\"id\":\"3257\",\"type\":\"CDSView\"},{\"attributes\":{\"line_alpha\":0.1,\"line_color\":\"#F0804D\",\"line_dash\":[6],\"line_width\":4,\"x\":{\"field\":\"x\"},\"y\":{\"field\":\"y\"}},\"id\":\"3254\",\"type\":\"Line\"},{\"attributes\":{\"line_color\":\"#F68E44\",\"line_dash\":[6],\"line_width\":4,\"x\":{\"field\":\"x\"},\"y\":{\"field\":\"y\"}},\"id\":\"3265\",\"type\":\"Line\"},{\"attributes\":{\"data\":{\"x\":{\"__ndarray__\":\"bN1trwPu7r9OuRGiPavvPw==\",\"dtype\":\"float64\",\"order\":\"little\",\"shape\":[2]},\"y\":{\"__ndarray__\":\"QjLo8EvMzL+jw54FrMH5Pw==\",\"dtype\":\"float64\",\"order\":\"little\",\"shape\":[2]}},\"selected\":{\"id\":\"3430\"},\"selection_policy\":{\"id\":\"3429\"}},\"id\":\"3258\",\"type\":\"ColumnDataSource\"},{\"attributes\":{\"source\":{\"id\":\"3027\"}},\"id\":\"3033\",\"type\":\"CDSView\"},{\"attributes\":{\"line_alpha\":0.2,\"line_color\":\"#F68E44\",\"line_dash\":[6],\"line_width\":4,\"x\":{\"field\":\"x\"},\"y\":{\"field\":\"y\"}},\"id\":\"3267\",\"type\":\"Line\"},{\"attributes\":{\"coordinates\":null,\"data_source\":{\"id\":\"3258\"},\"glyph\":{\"id\":\"3259\"},\"group\":null,\"hover_glyph\":null,\"muted_glyph\":{\"id\":\"3261\"},\"nonselection_glyph\":{\"id\":\"3260\"},\"view\":{\"id\":\"3263\"}},\"id\":\"3262\",\"type\":\"GlyphRenderer\"},{\"attributes\":{\"fill_alpha\":{\"value\":0.2},\"fill_color\":{\"field\":\"color\"},\"hatch_alpha\":{\"value\":0.2},\"hatch_color\":{\"field\":\"color\"},\"line_alpha\":{\"value\":0.2},\"line_color\":{\"value\":\"white\"},\"size\":{\"value\":10},\"x\":{\"field\":\"x\"},\"y\":{\"field\":\"y\"}},\"id\":\"3031\",\"type\":\"Circle\"},{\"attributes\":{\"source\":{\"id\":\"3258\"}},\"id\":\"3263\",\"type\":\"CDSView\"},{\"attributes\":{\"background_fill_alpha\":0.2,\"background_fill_color\":\"darkgrey\",\"border_line_alpha\":0.8,\"border_line_color\":\"grey\",\"border_line_width\":3,\"coordinates\":null,\"group\":null,\"items\":[{\"id\":\"3045\"}],\"label_text_color\":\"white\"},\"id\":\"3044\",\"type\":\"Legend\"},{\"attributes\":{},\"id\":\"3365\",\"type\":\"UnionRenderers\"},{\"attributes\":{\"line_alpha\":0.1,\"line_color\":\"#F38748\",\"line_dash\":[6],\"line_width\":4,\"x\":{\"field\":\"x\"},\"y\":{\"field\":\"y\"}},\"id\":\"3260\",\"type\":\"Line\"},{\"attributes\":{\"end\":0.9943686143654349,\"start\":-0.9951547705327379},\"id\":\"3047\",\"type\":\"Range1d\"},{\"attributes\":{\"line_color\":\"#F89540\",\"line_dash\":[6],\"line_width\":4,\"x\":{\"field\":\"x\"},\"y\":{\"field\":\"y\"}},\"id\":\"3271\",\"type\":\"Line\"},{\"attributes\":{},\"id\":\"3403\",\"type\":\"UnionRenderers\"},{\"attributes\":{\"fill_alpha\":{\"value\":0.1},\"fill_color\":{\"field\":\"color\"},\"hatch_alpha\":{\"value\":0.1},\"hatch_color\":{\"field\":\"color\"},\"line_alpha\":{\"value\":0.1},\"line_color\":{\"value\":\"white\"},\"size\":{\"value\":10},\"x\":{\"field\":\"x\"},\"y\":{\"field\":\"y\"}},\"id\":\"3030\",\"type\":\"Circle\"},{\"attributes\":{\"data\":{\"x\":{\"__ndarray__\":\"bN1trwPu7r9OuRGiPavvPw==\",\"dtype\":\"float64\",\"order\":\"little\",\"shape\":[2]},\"y\":{\"__ndarray__\":\"o4kBPXpWz7/PbE01SBz6Pw==\",\"dtype\":\"float64\",\"order\":\"little\",\"shape\":[2]}},\"selected\":{\"id\":\"3432\"},\"selection_policy\":{\"id\":\"3431\"}},\"id\":\"3264\",\"type\":\"ColumnDataSource\"},{\"attributes\":{},\"id\":\"3366\",\"type\":\"Selection\"},{\"attributes\":{},\"id\":\"3441\",\"type\":\"UnionRenderers\"},{\"attributes\":{\"line_alpha\":0.2,\"line_color\":\"#F89540\",\"line_dash\":[6],\"line_width\":4,\"x\":{\"field\":\"x\"},\"y\":{\"field\":\"y\"}},\"id\":\"3273\",\"type\":\"Line\"},{\"attributes\":{\"coordinates\":null,\"data_source\":{\"id\":\"3264\"},\"glyph\":{\"id\":\"3265\"},\"group\":null,\"hover_glyph\":null,\"muted_glyph\":{\"id\":\"3267\"},\"nonselection_glyph\":{\"id\":\"3266\"},\"view\":{\"id\":\"3269\"}},\"id\":\"3268\",\"type\":\"GlyphRenderer\"},{\"attributes\":{},\"id\":\"3404\",\"type\":\"Selection\"},{\"attributes\":{\"source\":{\"id\":\"3264\"}},\"id\":\"3269\",\"type\":\"CDSView\"},{\"attributes\":{},\"id\":\"3442\",\"type\":\"Selection\"},{\"attributes\":{\"line_alpha\":0.1,\"line_color\":\"#F68E44\",\"line_dash\":[6],\"line_width\":4,\"x\":{\"field\":\"x\"},\"y\":{\"field\":\"y\"}},\"id\":\"3266\",\"type\":\"Line\"},{\"attributes\":{\"line_color\":\"#FA9C3B\",\"line_dash\":[6],\"line_width\":4,\"x\":{\"field\":\"x\"},\"y\":{\"field\":\"y\"}},\"id\":\"3277\",\"type\":\"Line\"},{\"attributes\":{\"data\":{\"x\":{\"__ndarray__\":\"bN1trwPu7r9OuRGiPavvPw==\",\"dtype\":\"float64\",\"order\":\"little\",\"shape\":[2]},\"y\":{\"__ndarray__\":\"lUp4NAT30L8O+uKMwXj6Pw==\",\"dtype\":\"float64\",\"order\":\"little\",\"shape\":[2]}},\"selected\":{\"id\":\"3434\"},\"selection_policy\":{\"id\":\"3433\"}},\"id\":\"3270\",\"type\":\"ColumnDataSource\"},{\"attributes\":{\"line_alpha\":0.2,\"line_color\":\"#FA9C3B\",\"line_dash\":[6],\"line_width\":4,\"x\":{\"field\":\"x\"},\"y\":{\"field\":\"y\"}},\"id\":\"3279\",\"type\":\"Line\"},{\"attributes\":{\"coordinates\":null,\"data_source\":{\"id\":\"3270\"},\"glyph\":{\"id\":\"3271\"},\"group\":null,\"hover_glyph\":null,\"muted_glyph\":{\"id\":\"3273\"},\"nonselection_glyph\":{\"id\":\"3272\"},\"view\":{\"id\":\"3275\"}},\"id\":\"3274\",\"type\":\"GlyphRenderer\"},{\"attributes\":{\"source\":{\"id\":\"3270\"}},\"id\":\"3275\",\"type\":\"CDSView\"},{\"attributes\":{},\"id\":\"3040\",\"type\":\"AllLabels\"},{\"attributes\":{\"data\":{\"color\":[\"midnightblue\",\"midnightblue\",\"midnightblue\",\"midnightblue\",\"firebrick\",\"firebrick\",\"firebrick\",\"midnightblue\",\"midnightblue\",\"firebrick\",\"midnightblue\",\"midnightblue\",\"midnightblue\",\"midnightblue\",\"midnightblue\",\"midnightblue\",\"midnightblue\",\"midnightblue\",\"midnightblue\",\"midnightblue\",\"firebrick\",\"firebrick\",\"midnightblue\",\"midnightblue\",\"midnightblue\",\"midnightblue\",\"midnightblue\",\"midnightblue\",\"midnightblue\",\"midnightblue\",\"midnightblue\",\"midnightblue\",\"midnightblue\",\"midnightblue\",\"midnightblue\",\"midnightblue\",\"midnightblue\",\"firebrick\",\"firebrick\",\"firebrick\",\"midnightblue\",\"midnightblue\",\"midnightblue\",\"firebrick\",\"firebrick\",\"firebrick\",\"midnightblue\",\"midnightblue\",\"midnightblue\",\"midnightblue\",\"midnightblue\",\"midnightblue\",\"midnightblue\",\"midnightblue\",\"midnightblue\",\"midnightblue\",\"firebrick\",\"midnightblue\",\"firebrick\",\"midnightblue\",\"midnightblue\",\"midnightblue\",\"midnightblue\",\"firebrick\",\"firebrick\",\"midnightblue\",\"midnightblue\",\"midnightblue\",\"midnightblue\",\"midnightblue\",\"midnightblue\",\"midnightblue\",\"midnightblue\",\"midnightblue\",\"firebrick\",\"midnightblue\",\"midnightblue\",\"midnightblue\",\"midnightblue\",\"firebrick\",\"midnightblue\",\"midnightblue\",\"midnightblue\",\"firebrick\",\"midnightblue\",\"midnightblue\",\"firebrick\",\"midnightblue\",\"midnightblue\",\"midnightblue\",\"midnightblue\",\"midnightblue\",\"firebrick\",\"midnightblue\",\"midnightblue\",\"midnightblue\",\"midnightblue\",\"midnightblue\",\"midnightblue\",\"midnightblue\"],\"label\":[\"class 1\",\"class 1\",\"class 1\",\"class 1\",\"class 2\",\"class 2\",\"class 2\",\"class 1\",\"class 1\",\"class 2\",\"class 1\",\"class 1\",\"class 1\",\"class 1\",\"class 1\",\"class 1\",\"class 1\",\"class 1\",\"class 1\",\"class 1\",\"class 2\",\"class 2\",\"class 1\",\"class 1\",\"class 1\",\"class 1\",\"class 1\",\"class 1\",\"class 1\",\"class 1\",\"class 1\",\"class 1\",\"class 1\",\"class 1\",\"class 1\",\"class 1\",\"class 1\",\"class 2\",\"class 2\",\"class 2\",\"class 1\",\"class 1\",\"class 1\",\"class 2\",\"class 2\",\"class 2\",\"class 1\",\"class 1\",\"class 1\",\"class 1\",\"class 1\",\"class 1\",\"class 1\",\"class 1\",\"class 1\",\"class 1\",\"class 2\",\"class 1\",\"class 2\",\"class 1\",\"class 1\",\"class 1\",\"class 1\",\"class 2\",\"class 2\",\"class 1\",\"class 1\",\"class 1\",\"class 1\",\"class 1\",\"class 1\",\"class 1\",\"class 1\",\"class 1\",\"class 2\",\"class 1\",\"class 1\",\"class 1\",\"class 1\",\"class 2\",\"class 1\",\"class 1\",\"class 1\",\"class 2\",\"class 1\",\"class 1\",\"class 2\",\"class 1\",\"class 1\",\"class 1\",\"class 1\",\"class 1\",\"class 2\",\"class 1\",\"class 1\",\"class 1\",\"class 1\",\"class 1\",\"class 1\",\"class 1\"],\"x\":{\"__ndarray__\":\"kGR1riuasT9oDCasJFzeP+bsdZ5NaOc//vV3wIJI5j9o5+VYkX3nv5rQepo2Luq/oM1yJOIkw78Mt4Fn5//qv35O5UmvdOI/Pttf/gec7r84ptng+NTEP8A/3ocvZJ+/rD/ZW+Ol6b84jJNCnQ7iP6BrPpTKn7Q/LKvGzAL00j+4DD5arUjHv8C7q4yRkOm/ovBN6P2e5D/s0AVbTbrpv+CrESZaJb2/4OkMfhiz1r8ALKecl3PnPzyj4FS+6tW/aMWZIwxWwz8EOQMnxcXSP+jbi09Wquw/lH/rcpUI0z8023XhnI3oPyY9/s5uSuE/ono58IYD4r/wp9424mi0v2wZaPkHhOs/jqa3RnBr7z+c8z6iqBTfv6hJh+K/quO/bJQbC0zH1T9s3W2vA+7uvyxr5UHZD+i/uJ6J4r6Gyr/iW90ZC6bqv+DJm6BSkMa/MH0Jdoz3xz+U/VpLfrnnv6AT/jm2JeW/DMl20fH53L92L5Kg08zsPwDT7BEz+pA/4Ns/6JpCpz+sA4jJe/XRv8AV48CRJcy/wviqDB6a6b+AtBCi2iKgPwRpxQPYnuy/tFHEQTgr2r9Ub9A7IE/fP7RI5rcJ4ua/fKi3j/J44z8QyRL0XAPov065EaI9q+8/HHgGAcFF0z8+j3b9XJPrv0BFmxFxbsC/bNPdYRPl27/YzaD5BDbNv+gs6IxZm+g/0jIhd4wj7L/AN6LaX9+sP9jMVRHIod8/im4x23dt6L9EEPYCwNjXPzxbjK/Dd+k/TKWeeNVe5b/gmyf9xS+rv2AdvpfeTdK/RBP7lAKB679gX1ACgnm4PzgWiYQixti/COzU7xMt3r9elPQaKg/gv6TUpsADVNM/ctnGQXwB6T++ptPwiWLnP0hv8idWyci/OHb+pZsByj9kbV8YJyXnP7yiSvbHWtC/YLk1PxwYwD+AFDIz0qO+vyCDVZPni7E/GnnkBDH+5z+Ym0SvPBnZP9it6pRhaOO/frhlAAs04T+scX7SMErZP9hr4dmfmNw/gFgAEU9h5T+Uxt9tKRTXP1yww9nTz+C/8C0p6t5p2D8=\",\"dtype\":\"float64\",\"order\":\"little\",\"shape\":[100]},\"y\":{\"__ndarray__\":\"mBD0HmMq1j+MMtqSMcLiv/xswnc46ty/UJ8Jp9XRzj9WLnfCYPXhP9AxES8KOM8/RC8hlokO6T/CFWIC9SXlvwAfAK3DKdE/HJPNBBQl17+gB1IzJeHUP1BIeO6TZsw/gH1V8KwO6L8eQUyzzDLiv/aqn7gPLum/OAiz/g3B3z8Ym6rBuNTHPxDMmsfzuue/APU7n9knwb8UiMXune7hv/AjYBIt1uw/Atou6wS77z+wAr+hIjO6v6jPiluk1cy/PPuIc7//1T/8EXXySWfqv74b63zpmOy/Eq3hmziq6b+0Ql+AzHPrvxRoPFLIT+4/GNa4iN+h2r8g+re59RLJPwg4V9OlP9A//A+J7JbW679Ik29i3YbJv5IoqzK+rOu/oC5pHScWoD/87AFE4arZv7KyS/xjRuo/tlAfTXvl6j8UsDzRTtjvvxBumKP8Y7A/pFWdzbfj2D/MtRw7YS3bP+SSeKj6QNE/ALMHSwwZ6z/Cydsg3tHvPxineeFa3dC/aIZZcKR47T9o75pNNe/Yv0BdCNHpHdk/eOrD4DyC3L8uYszZb/rnv2qCEbDRR+a/pH75LhdA6L+MJgXYGrHoPxTcyaJzDt4/UoxEOV2k5T+QReeXIePIPwzwxw8TR9O/eILjw1g4y79otgFWJT3hv8ihVzzmJ+E/2JBTm+D31T+gRAf8KyrqP1rWlWLrG+Q/uCdr1qeQ7r865Sobdnviv2bqdU+gseq/ggc9fE/L6b90Qq/81bnQP/gS5u3cxNw/hg3LPcIA478A4CLcxxxxP3YqmOnoQug/KjmZTYSO4L+AeMLEdbqRP+xFOfmaDtW/vDEk95pc2r8MP1eeNbbcP+rw/XEekew/huvlHYQT4z+qTg/5hX/uv2qCvZUi7uw/fPuKvvV90j80ZAtY8PPsv6jHQyQ9weI/TthRMyzG4j/gnxV9TIbZv8QpZOBu9No/KIEDR1961j9w/WXjepnPP1I2I7FkDew/rjfXajfr5T9eTnqxiU7hPz4Vnf5YteI/PEPx7uTH17/YkGVnxTzuP2JZgy3vU+C/WHWBDO1m2b8=\",\"dtype\":\"float64\",\"order\":\"little\",\"shape\":[100]}},\"selected\":{\"id\":\"3042\"},\"selection_policy\":{\"id\":\"3041\"}},\"id\":\"3027\",\"type\":\"ColumnDataSource\"},{\"attributes\":{\"line_alpha\":0.1,\"line_color\":\"#F89540\",\"line_dash\":[6],\"line_width\":4,\"x\":{\"field\":\"x\"},\"y\":{\"field\":\"y\"}},\"id\":\"3272\",\"type\":\"Line\"},{\"attributes\":{\"line_color\":\"#FBA337\",\"line_dash\":[6],\"line_width\":4,\"x\":{\"field\":\"x\"},\"y\":{\"field\":\"y\"}},\"id\":\"3283\",\"type\":\"Line\"},{\"attributes\":{\"data\":{\"x\":{\"__ndarray__\":\"bN1trwPu7r9OuRGiPavvPw==\",\"dtype\":\"float64\",\"order\":\"little\",\"shape\":[2]},\"y\":{\"__ndarray__\":\"Jt2PmbBJ0r9OrJ7sJtf6Pw==\",\"dtype\":\"float64\",\"order\":\"little\",\"shape\":[2]}},\"selected\":{\"id\":\"3436\"},\"selection_policy\":{\"id\":\"3435\"}},\"id\":\"3276\",\"type\":\"ColumnDataSource\"},{\"attributes\":{},\"id\":\"3042\",\"type\":\"Selection\"},{\"attributes\":{\"line_alpha\":0.2,\"line_color\":\"#FBA337\",\"line_dash\":[6],\"line_width\":4,\"x\":{\"field\":\"x\"},\"y\":{\"field\":\"y\"}},\"id\":\"3285\",\"type\":\"Line\"},{\"attributes\":{},\"id\":\"3367\",\"type\":\"UnionRenderers\"},{\"attributes\":{\"coordinates\":null,\"data_source\":{\"id\":\"3276\"},\"glyph\":{\"id\":\"3277\"},\"group\":null,\"hover_glyph\":null,\"muted_glyph\":{\"id\":\"3279\"},\"nonselection_glyph\":{\"id\":\"3278\"},\"view\":{\"id\":\"3281\"}},\"id\":\"3280\",\"type\":\"GlyphRenderer\"},{\"attributes\":{\"source\":{\"id\":\"3276\"}},\"id\":\"3281\",\"type\":\"CDSView\"},{\"attributes\":{},\"id\":\"3405\",\"type\":\"UnionRenderers\"},{\"attributes\":{},\"id\":\"3368\",\"type\":\"Selection\"},{\"attributes\":{},\"id\":\"3443\",\"type\":\"UnionRenderers\"},{\"attributes\":{\"line_alpha\":0.1,\"line_color\":\"#FA9C3B\",\"line_dash\":[6],\"line_width\":4,\"x\":{\"field\":\"x\"},\"y\":{\"field\":\"y\"}},\"id\":\"3278\",\"type\":\"Line\"},{\"attributes\":{\"line_color\":\"#FCAC32\",\"line_dash\":[6],\"line_width\":4,\"x\":{\"field\":\"x\"},\"y\":{\"field\":\"y\"}},\"id\":\"3289\",\"type\":\"Line\"},{\"attributes\":{},\"id\":\"3406\",\"type\":\"Selection\"},{\"attributes\":{\"data\":{\"x\":{\"__ndarray__\":\"bN1trwPu7r9OuRGiPavvPw==\",\"dtype\":\"float64\",\"order\":\"little\",\"shape\":[2]},\"y\":{\"__ndarray__\":\"9M7o6nmj07+t3bbUhzf7Pw==\",\"dtype\":\"float64\",\"order\":\"little\",\"shape\":[2]}},\"selected\":{\"id\":\"3438\"},\"selection_policy\":{\"id\":\"3437\"}},\"id\":\"3282\",\"type\":\"ColumnDataSource\"},{\"attributes\":{},\"id\":\"3444\",\"type\":\"Selection\"},{\"attributes\":{\"line_alpha\":0.2,\"line_color\":\"#FCAC32\",\"line_dash\":[6],\"line_width\":4,\"x\":{\"field\":\"x\"},\"y\":{\"field\":\"y\"}},\"id\":\"3291\",\"type\":\"Line\"},{\"attributes\":{\"coordinates\":null,\"data_source\":{\"id\":\"3282\"},\"glyph\":{\"id\":\"3283\"},\"group\":null,\"hover_glyph\":null,\"muted_glyph\":{\"id\":\"3285\"},\"nonselection_glyph\":{\"id\":\"3284\"},\"view\":{\"id\":\"3287\"}},\"id\":\"3286\",\"type\":\"GlyphRenderer\"},{\"attributes\":{\"source\":{\"id\":\"3282\"}},\"id\":\"3287\",\"type\":\"CDSView\"},{\"attributes\":{\"line_alpha\":0.1,\"line_color\":\"#FBA337\",\"line_dash\":[6],\"line_width\":4,\"x\":{\"field\":\"x\"},\"y\":{\"field\":\"y\"}},\"id\":\"3284\",\"type\":\"Line\"},{\"attributes\":{},\"id\":\"3041\",\"type\":\"UnionRenderers\"},{\"attributes\":{\"line_color\":\"#FDB32E\",\"line_dash\":[6],\"line_width\":4,\"x\":{\"field\":\"x\"},\"y\":{\"field\":\"y\"}},\"id\":\"3295\",\"type\":\"Line\"},{\"attributes\":{\"data\":{\"x\":{\"__ndarray__\":\"bN1trwPu7r9OuRGiPavvPw==\",\"dtype\":\"float64\",\"order\":\"little\",\"shape\":[2]},\"y\":{\"__ndarray__\":\"GN4EIpoE1b/WAtZt9Jn7Pw==\",\"dtype\":\"float64\",\"order\":\"little\",\"shape\":[2]}},\"selected\":{\"id\":\"3440\"},\"selection_policy\":{\"id\":\"3439\"}},\"id\":\"3288\",\"type\":\"ColumnDataSource\"},{\"attributes\":{\"line_alpha\":0.2,\"line_color\":\"#FDB32E\",\"line_dash\":[6],\"line_width\":4,\"x\":{\"field\":\"x\"},\"y\":{\"field\":\"y\"}},\"id\":\"3297\",\"type\":\"Line\"},{\"attributes\":{\"coordinates\":null,\"data_source\":{\"id\":\"3288\"},\"glyph\":{\"id\":\"3289\"},\"group\":null,\"hover_glyph\":null,\"muted_glyph\":{\"id\":\"3291\"},\"nonselection_glyph\":{\"id\":\"3290\"},\"view\":{\"id\":\"3293\"}},\"id\":\"3292\",\"type\":\"GlyphRenderer\"},{\"attributes\":{\"source\":{\"id\":\"3288\"}},\"id\":\"3293\",\"type\":\"CDSView\"},{\"attributes\":{\"coordinates\":null,\"data_source\":{\"id\":\"3027\"},\"glyph\":{\"id\":\"3029\"},\"group\":null,\"hover_glyph\":null,\"muted_glyph\":{\"id\":\"3031\"},\"nonselection_glyph\":{\"id\":\"3030\"},\"view\":{\"id\":\"3033\"}},\"id\":\"3032\",\"type\":\"GlyphRenderer\"},{\"attributes\":{\"line_alpha\":0.1,\"line_color\":\"#FCAC32\",\"line_dash\":[6],\"line_width\":4,\"x\":{\"field\":\"x\"},\"y\":{\"field\":\"y\"}},\"id\":\"3290\",\"type\":\"Line\"},{\"attributes\":{},\"id\":\"3369\",\"type\":\"UnionRenderers\"},{\"attributes\":{\"line_color\":\"#FDBB2B\",\"line_dash\":[6],\"line_width\":4,\"x\":{\"field\":\"x\"},\"y\":{\"field\":\"y\"}},\"id\":\"3301\",\"type\":\"Line\"},{\"attributes\":{\"data\":{\"x\":{\"__ndarray__\":\"bN1trwPu7r9OuRGiPavvPw==\",\"dtype\":\"float64\",\"order\":\"little\",\"shape\":[2]},\"y\":{\"__ndarray__\":\"bEMwtU1t1r+bhiOSff77Pw==\",\"dtype\":\"float64\",\"order\":\"little\",\"shape\":[2]}},\"selected\":{\"id\":\"3442\"},\"selection_policy\":{\"id\":\"3441\"}},\"id\":\"3294\",\"type\":\"ColumnDataSource\"},{\"attributes\":{},\"id\":\"3037\",\"type\":\"AllLabels\"},{\"attributes\":{},\"id\":\"3407\",\"type\":\"UnionRenderers\"},{\"attributes\":{\"line_alpha\":0.2,\"line_color\":\"#FDBB2B\",\"line_dash\":[6],\"line_width\":4,\"x\":{\"field\":\"x\"},\"y\":{\"field\":\"y\"}},\"id\":\"3303\",\"type\":\"Line\"},{\"attributes\":{},\"id\":\"3370\",\"type\":\"Selection\"},{\"attributes\":{},\"id\":\"3445\",\"type\":\"UnionRenderers\"},{\"attributes\":{\"coordinates\":null,\"data_source\":{\"id\":\"3294\"},\"glyph\":{\"id\":\"3295\"},\"group\":null,\"hover_glyph\":null,\"muted_glyph\":{\"id\":\"3297\"},\"nonselection_glyph\":{\"id\":\"3296\"},\"view\":{\"id\":\"3299\"}},\"id\":\"3298\",\"type\":\"GlyphRenderer\"},{\"attributes\":{\"source\":{\"id\":\"3294\"}},\"id\":\"3299\",\"type\":\"CDSView\"},{\"attributes\":{},\"id\":\"3408\",\"type\":\"Selection\"},{\"attributes\":{},\"id\":\"3446\",\"type\":\"Selection\"},{\"attributes\":{\"line_alpha\":0.1,\"line_color\":\"#FDB32E\",\"line_dash\":[6],\"line_width\":4,\"x\":{\"field\":\"x\"},\"y\":{\"field\":\"y\"}},\"id\":\"3296\",\"type\":\"Line\"},{\"attributes\":{},\"id\":\"3036\",\"type\":\"BasicTickFormatter\"},{\"attributes\":{\"line_color\":\"#FDC328\",\"line_dash\":[6],\"line_width\":4,\"x\":{\"field\":\"x\"},\"y\":{\"field\":\"y\"}},\"id\":\"3307\",\"type\":\"Line\"},{\"attributes\":{\"data\":{\"x\":{\"__ndarray__\":\"bN1trwPu7r9OuRGiPavvPw==\",\"dtype\":\"float64\",\"order\":\"little\",\"shape\":[2]},\"y\":{\"__ndarray__\":\"Z5oHutPd179kHePWNGX8Pw==\",\"dtype\":\"float64\",\"order\":\"little\",\"shape\":[2]}},\"selected\":{\"id\":\"3444\"},\"selection_policy\":{\"id\":\"3443\"}},\"id\":\"3300\",\"type\":\"ColumnDataSource\"},{\"attributes\":{\"line_alpha\":0.2,\"line_color\":\"#FDC328\",\"line_dash\":[6],\"line_width\":4,\"x\":{\"field\":\"x\"},\"y\":{\"field\":\"y\"}},\"id\":\"3309\",\"type\":\"Line\"},{\"attributes\":{\"coordinates\":null,\"data_source\":{\"id\":\"3300\"},\"glyph\":{\"id\":\"3301\"},\"group\":null,\"hover_glyph\":null,\"muted_glyph\":{\"id\":\"3303\"},\"nonselection_glyph\":{\"id\":\"3302\"},\"view\":{\"id\":\"3305\"}},\"id\":\"3304\",\"type\":\"GlyphRenderer\"},{\"attributes\":{\"source\":{\"id\":\"3300\"}},\"id\":\"3305\",\"type\":\"CDSView\"},{\"attributes\":{\"line_alpha\":0.1,\"line_color\":\"#FDBB2B\",\"line_dash\":[6],\"line_width\":4,\"x\":{\"field\":\"x\"},\"y\":{\"field\":\"y\"}},\"id\":\"3302\",\"type\":\"Line\"},{\"attributes\":{\"line_color\":\"#FCCB25\",\"line_dash\":[6],\"line_width\":4,\"x\":{\"field\":\"x\"},\"y\":{\"field\":\"y\"}},\"id\":\"3313\",\"type\":\"Line\"},{\"attributes\":{\"data\":{\"x\":{\"__ndarray__\":\"bN1trwPu7r9OuRGiPavvPw==\",\"dtype\":\"float64\",\"order\":\"little\",\"shape\":[2]},\"y\":{\"__ndarray__\":\"98l7bmJ62L9AhN+hRb78Pw==\",\"dtype\":\"float64\",\"order\":\"little\",\"shape\":[2]}},\"selected\":{\"id\":\"3446\"},\"selection_policy\":{\"id\":\"3445\"}},\"id\":\"3306\",\"type\":\"ColumnDataSource\"},{\"attributes\":{\"line_alpha\":0.2,\"line_color\":\"#FCCB25\",\"line_dash\":[6],\"line_width\":4,\"x\":{\"field\":\"x\"},\"y\":{\"field\":\"y\"}},\"id\":\"3315\",\"type\":\"Line\"},{\"attributes\":{\"coordinates\":null,\"data_source\":{\"id\":\"3306\"},\"glyph\":{\"id\":\"3307\"},\"group\":null,\"hover_glyph\":null,\"muted_glyph\":{\"id\":\"3309\"},\"nonselection_glyph\":{\"id\":\"3308\"},\"view\":{\"id\":\"3311\"}},\"id\":\"3310\",\"type\":\"GlyphRenderer\"},{\"attributes\":{},\"id\":\"3371\",\"type\":\"UnionRenderers\"},{\"attributes\":{\"axis\":{\"id\":\"3009\"},\"coordinates\":null,\"dimension\":1,\"grid_line_alpha\":0.15,\"grid_line_color\":\"#E0E0E0\",\"group\":null,\"ticker\":null},\"id\":\"3012\",\"type\":\"Grid\"},{\"attributes\":{\"source\":{\"id\":\"3306\"}},\"id\":\"3311\",\"type\":\"CDSView\"},{\"attributes\":{},\"id\":\"3409\",\"type\":\"UnionRenderers\"},{\"attributes\":{\"line_alpha\":0.1,\"line_color\":\"#FDC328\",\"line_dash\":[6],\"line_width\":4,\"x\":{\"field\":\"x\"},\"y\":{\"field\":\"y\"}},\"id\":\"3308\",\"type\":\"Line\"},{\"attributes\":{},\"id\":\"3372\",\"type\":\"Selection\"},{\"attributes\":{},\"id\":\"3447\",\"type\":\"UnionRenderers\"},{\"attributes\":{\"line_color\":\"#FAD524\",\"line_dash\":[6],\"line_width\":4,\"x\":{\"field\":\"x\"},\"y\":{\"field\":\"y\"}},\"id\":\"3319\",\"type\":\"Line\"},{\"attributes\":{\"data\":{\"x\":{\"__ndarray__\":\"bN1trwPu7r9OuRGiPavvPw==\",\"dtype\":\"float64\",\"order\":\"little\",\"shape\":[2]},\"y\":{\"__ndarray__\":\"JQiqaKcZ2b/Qmqdl4Rj9Pw==\",\"dtype\":\"float64\",\"order\":\"little\",\"shape\":[2]}},\"selected\":{\"id\":\"3448\"},\"selection_policy\":{\"id\":\"3447\"}},\"id\":\"3312\",\"type\":\"ColumnDataSource\"},{\"attributes\":{},\"id\":\"3410\",\"type\":\"Selection\"},{\"attributes\":{\"line_alpha\":0.2,\"line_color\":\"#FAD524\",\"line_dash\":[6],\"line_width\":4,\"x\":{\"field\":\"x\"},\"y\":{\"field\":\"y\"}},\"id\":\"3321\",\"type\":\"Line\"},{\"attributes\":{},\"id\":\"3448\",\"type\":\"Selection\"},{\"attributes\":{\"coordinates\":null,\"data_source\":{\"id\":\"3312\"},\"glyph\":{\"id\":\"3313\"},\"group\":null,\"hover_glyph\":null,\"muted_glyph\":{\"id\":\"3315\"},\"nonselection_glyph\":{\"id\":\"3314\"},\"view\":{\"id\":\"3317\"}},\"id\":\"3316\",\"type\":\"GlyphRenderer\"},{\"attributes\":{\"source\":{\"id\":\"3312\"}},\"id\":\"3317\",\"type\":\"CDSView\"},{\"attributes\":{\"line_alpha\":0.1,\"line_color\":\"#FCCB25\",\"line_dash\":[6],\"line_width\":4,\"x\":{\"field\":\"x\"},\"y\":{\"field\":\"y\"}},\"id\":\"3314\",\"type\":\"Line\"},{\"attributes\":{\"line_color\":\"#F8DD24\",\"line_dash\":[6],\"line_width\":4,\"x\":{\"field\":\"x\"},\"y\":{\"field\":\"y\"}},\"id\":\"3325\",\"type\":\"Line\"},{\"attributes\":{\"data\":{\"x\":{\"__ndarray__\":\"bN1trwPu7r9OuRGiPavvPw==\",\"dtype\":\"float64\",\"order\":\"little\",\"shape\":[2]},\"y\":{\"__ndarray__\":\"tIcr27S72b8/uoJ8EnX9Pw==\",\"dtype\":\"float64\",\"order\":\"little\",\"shape\":[2]}},\"selected\":{\"id\":\"3450\"},\"selection_policy\":{\"id\":\"3449\"}},\"id\":\"3318\",\"type\":\"ColumnDataSource\"},{\"attributes\":{\"line_alpha\":0.2,\"line_color\":\"#F8DD24\",\"line_dash\":[6],\"line_width\":4,\"x\":{\"field\":\"x\"},\"y\":{\"field\":\"y\"}},\"id\":\"3327\",\"type\":\"Line\"},{\"attributes\":{\"coordinates\":null,\"data_source\":{\"id\":\"3318\"},\"glyph\":{\"id\":\"3319\"},\"group\":null,\"hover_glyph\":null,\"muted_glyph\":{\"id\":\"3321\"},\"nonselection_glyph\":{\"id\":\"3320\"},\"view\":{\"id\":\"3323\"}},\"id\":\"3322\",\"type\":\"GlyphRenderer\"},{\"attributes\":{\"source\":{\"id\":\"3318\"}},\"id\":\"3323\",\"type\":\"CDSView\"},{\"attributes\":{\"line_alpha\":0.1,\"line_color\":\"#FAD524\",\"line_dash\":[6],\"line_width\":4,\"x\":{\"field\":\"x\"},\"y\":{\"field\":\"y\"}},\"id\":\"3320\",\"type\":\"Line\"},{\"attributes\":{\"line_color\":\"#F6E525\",\"line_dash\":[6],\"line_width\":4,\"x\":{\"field\":\"x\"},\"y\":{\"field\":\"y\"}},\"id\":\"3331\",\"type\":\"Line\"},{\"attributes\":{},\"id\":\"3373\",\"type\":\"UnionRenderers\"},{\"attributes\":{\"data\":{\"x\":{\"__ndarray__\":\"bN1trwPu7r9OuRGiPavvPw==\",\"dtype\":\"float64\",\"order\":\"little\",\"shape\":[2]},\"y\":{\"__ndarray__\":\"bZPp9+N72b+56c1Ytr/9Pw==\",\"dtype\":\"float64\",\"order\":\"little\",\"shape\":[2]}},\"selected\":{\"id\":\"3452\"},\"selection_policy\":{\"id\":\"3451\"}},\"id\":\"3324\",\"type\":\"ColumnDataSource\"},{\"attributes\":{\"line_alpha\":0.2,\"line_color\":\"#F6E525\",\"line_dash\":[6],\"line_width\":4,\"x\":{\"field\":\"x\"},\"y\":{\"field\":\"y\"}},\"id\":\"3333\",\"type\":\"Line\"},{\"attributes\":{},\"id\":\"3411\",\"type\":\"UnionRenderers\"},{\"attributes\":{\"coordinates\":null,\"data_source\":{\"id\":\"3324\"},\"glyph\":{\"id\":\"3325\"},\"group\":null,\"hover_glyph\":null,\"muted_glyph\":{\"id\":\"3327\"},\"nonselection_glyph\":{\"id\":\"3326\"},\"view\":{\"id\":\"3329\"}},\"id\":\"3328\",\"type\":\"GlyphRenderer\"},{\"attributes\":{},\"id\":\"3374\",\"type\":\"Selection\"},{\"attributes\":{},\"id\":\"3449\",\"type\":\"UnionRenderers\"},{\"attributes\":{\"source\":{\"id\":\"3324\"}},\"id\":\"3329\",\"type\":\"CDSView\"},{\"attributes\":{},\"id\":\"3412\",\"type\":\"Selection\"},{\"attributes\":{\"line_alpha\":0.1,\"line_color\":\"#F8DD24\",\"line_dash\":[6],\"line_width\":4,\"x\":{\"field\":\"x\"},\"y\":{\"field\":\"y\"}},\"id\":\"3326\",\"type\":\"Line\"},{\"attributes\":{},\"id\":\"3450\",\"type\":\"Selection\"},{\"attributes\":{\"line_color\":\"#F3EE26\",\"line_dash\":[6],\"line_width\":4,\"x\":{\"field\":\"x\"},\"y\":{\"field\":\"y\"}},\"id\":\"3337\",\"type\":\"Line\"},{\"attributes\":{\"data\":{\"x\":{\"__ndarray__\":\"bN1trwPu7r9OuRGiPavvPw==\",\"dtype\":\"float64\",\"order\":\"little\",\"shape\":[2]},\"y\":{\"__ndarray__\":\"hC5xqUAh2r+rTT5RxR7+Pw==\",\"dtype\":\"float64\",\"order\":\"little\",\"shape\":[2]}},\"selected\":{\"id\":\"3454\"},\"selection_policy\":{\"id\":\"3453\"}},\"id\":\"3330\",\"type\":\"ColumnDataSource\"},{\"attributes\":{\"line_alpha\":0.2,\"line_color\":\"#F3EE26\",\"line_dash\":[6],\"line_width\":4,\"x\":{\"field\":\"x\"},\"y\":{\"field\":\"y\"}},\"id\":\"3339\",\"type\":\"Line\"},{\"attributes\":{\"coordinates\":null,\"data_source\":{\"id\":\"3330\"},\"glyph\":{\"id\":\"3331\"},\"group\":null,\"hover_glyph\":null,\"muted_glyph\":{\"id\":\"3333\"},\"nonselection_glyph\":{\"id\":\"3332\"},\"view\":{\"id\":\"3335\"}},\"id\":\"3334\",\"type\":\"GlyphRenderer\"},{\"attributes\":{\"source\":{\"id\":\"3330\"}},\"id\":\"3335\",\"type\":\"CDSView\"},{\"attributes\":{\"line_alpha\":0.1,\"line_color\":\"#F6E525\",\"line_dash\":[6],\"line_width\":4,\"x\":{\"field\":\"x\"},\"y\":{\"field\":\"y\"}},\"id\":\"3332\",\"type\":\"Line\"},{\"attributes\":{\"line_color\":\"#EFF821\",\"line_dash\":[6],\"line_width\":4,\"x\":{\"field\":\"x\"},\"y\":{\"field\":\"y\"}},\"id\":\"3343\",\"type\":\"Line\"},{\"attributes\":{\"data\":{\"x\":{\"__ndarray__\":\"bN1trwPu7r9OuRGiPavvPw==\",\"dtype\":\"float64\",\"order\":\"little\",\"shape\":[2]},\"y\":{\"__ndarray__\":\"5rLpCBrh2b8zm76JmGv+Pw==\",\"dtype\":\"float64\",\"order\":\"little\",\"shape\":[2]}},\"selected\":{\"id\":\"3456\"},\"selection_policy\":{\"id\":\"3455\"}},\"id\":\"3336\",\"type\":\"ColumnDataSource\"},{\"attributes\":{\"overlay\":{\"id\":\"3019\"}},\"id\":\"3015\",\"type\":\"BoxZoomTool\"},{\"attributes\":{\"line_alpha\":0.2,\"line_color\":\"#EFF821\",\"line_dash\":[6],\"line_width\":4,\"x\":{\"field\":\"x\"},\"y\":{\"field\":\"y\"}},\"id\":\"3345\",\"type\":\"Line\"},{\"attributes\":{\"coordinates\":null,\"data_source\":{\"id\":\"3336\"},\"glyph\":{\"id\":\"3337\"},\"group\":null,\"hover_glyph\":null,\"muted_glyph\":{\"id\":\"3339\"},\"nonselection_glyph\":{\"id\":\"3338\"},\"view\":{\"id\":\"3341\"}},\"id\":\"3340\",\"type\":\"GlyphRenderer\"},{\"attributes\":{\"source\":{\"id\":\"3336\"}},\"id\":\"3341\",\"type\":\"CDSView\"},{\"attributes\":{},\"id\":\"3375\",\"type\":\"UnionRenderers\"},{\"attributes\":{\"line_alpha\":0.1,\"line_color\":\"#F3EE26\",\"line_dash\":[6],\"line_width\":4,\"x\":{\"field\":\"x\"},\"y\":{\"field\":\"y\"}},\"id\":\"3338\",\"type\":\"Line\"},{\"attributes\":{},\"id\":\"3413\",\"type\":\"UnionRenderers\"},{\"attributes\":{},\"id\":\"3376\",\"type\":\"Selection\"},{\"attributes\":{},\"id\":\"3451\",\"type\":\"UnionRenderers\"},{\"attributes\":{\"data\":{\"x\":{\"__ndarray__\":\"bN1trwPu7r9OuRGiPavvPw==\",\"dtype\":\"float64\",\"order\":\"little\",\"shape\":[2]},\"y\":{\"__ndarray__\":\"Mbhe8iWg2b8iNfjPYbn+Pw==\",\"dtype\":\"float64\",\"order\":\"little\",\"shape\":[2]}},\"selected\":{\"id\":\"3458\"},\"selection_policy\":{\"id\":\"3457\"}},\"id\":\"3342\",\"type\":\"ColumnDataSource\"},{\"attributes\":{},\"id\":\"3414\",\"type\":\"Selection\"},{\"attributes\":{},\"id\":\"3016\",\"type\":\"SaveTool\"},{\"attributes\":{\"coordinates\":null,\"data_source\":{\"id\":\"3342\"},\"glyph\":{\"id\":\"3343\"},\"group\":null,\"hover_glyph\":null,\"muted_glyph\":{\"id\":\"3345\"},\"nonselection_glyph\":{\"id\":\"3344\"},\"view\":{\"id\":\"3347\"}},\"id\":\"3346\",\"type\":\"GlyphRenderer\"},{\"attributes\":{},\"id\":\"3452\",\"type\":\"Selection\"},{\"attributes\":{\"source\":{\"id\":\"3342\"}},\"id\":\"3347\",\"type\":\"CDSView\"},{\"attributes\":{},\"id\":\"3014\",\"type\":\"WheelZoomTool\"},{\"attributes\":{\"line_alpha\":0.1,\"line_color\":\"#EFF821\",\"line_dash\":[6],\"line_width\":4,\"x\":{\"field\":\"x\"},\"y\":{\"field\":\"y\"}},\"id\":\"3344\",\"type\":\"Line\"},{\"attributes\":{},\"id\":\"3039\",\"type\":\"BasicTickFormatter\"},{\"attributes\":{},\"id\":\"3377\",\"type\":\"UnionRenderers\"},{\"attributes\":{\"line_alpha\":0.1,\"line_color\":\"#250591\",\"line_dash\":[6],\"line_width\":4,\"x\":{\"field\":\"x\"},\"y\":{\"field\":\"y\"}},\"id\":\"3062\",\"type\":\"Line\"},{\"attributes\":{},\"id\":\"3415\",\"type\":\"UnionRenderers\"},{\"attributes\":{\"line_color\":\"#380499\",\"line_dash\":[6],\"line_width\":4,\"x\":{\"field\":\"x\"},\"y\":{\"field\":\"y\"}},\"id\":\"3073\",\"type\":\"Line\"},{\"attributes\":{},\"id\":\"3378\",\"type\":\"Selection\"},{\"attributes\":{},\"id\":\"3453\",\"type\":\"UnionRenderers\"},{\"attributes\":{\"data\":{\"x\":{\"__ndarray__\":\"bN1trwPu7r9OuRGiPavvPw==\",\"dtype\":\"float64\",\"order\":\"little\",\"shape\":[2]},\"y\":{\"__ndarray__\":\"zCTcYQdDxr9dBPPCxrnSvw==\",\"dtype\":\"float64\",\"order\":\"little\",\"shape\":[2]}},\"selected\":{\"id\":\"3366\"},\"selection_policy\":{\"id\":\"3365\"}},\"id\":\"3066\",\"type\":\"ColumnDataSource\"},{\"attributes\":{\"line_alpha\":0.2,\"line_color\":\"#380499\",\"line_dash\":[6],\"line_width\":4,\"x\":{\"field\":\"x\"},\"y\":{\"field\":\"y\"}},\"id\":\"3075\",\"type\":\"Line\"},{\"attributes\":{},\"id\":\"3416\",\"type\":\"Selection\"},{\"attributes\":{\"coordinates\":null,\"data_source\":{\"id\":\"3066\"},\"glyph\":{\"id\":\"3067\"},\"group\":null,\"hover_glyph\":null,\"muted_glyph\":{\"id\":\"3069\"},\"nonselection_glyph\":{\"id\":\"3068\"},\"view\":{\"id\":\"3071\"}},\"id\":\"3070\",\"type\":\"GlyphRenderer\"},{\"attributes\":{},\"id\":\"3454\",\"type\":\"Selection\"},{\"attributes\":{\"source\":{\"id\":\"3066\"}},\"id\":\"3071\",\"type\":\"CDSView\"},{\"attributes\":{\"line_alpha\":0.1,\"line_color\":\"#2F0495\",\"line_dash\":[6],\"line_width\":4,\"x\":{\"field\":\"x\"},\"y\":{\"field\":\"y\"}},\"id\":\"3068\",\"type\":\"Line\"},{\"attributes\":{\"line_alpha\":0.2,\"line_color\":\"#4A02A0\",\"line_dash\":[6],\"line_width\":4,\"x\":{\"field\":\"x\"},\"y\":{\"field\":\"y\"}},\"id\":\"3087\",\"type\":\"Line\"},{\"attributes\":{\"children\":[{\"id\":\"3349\"},{\"id\":\"2994\"},{\"id\":\"3570\"}],\"margin\":[0,0,0,0],\"name\":\"Row00134\"},\"id\":\"3348\",\"type\":\"Row\"},{\"attributes\":{\"data\":{\"x\":{\"__ndarray__\":\"bN1trwPu7r9OuRGiPavvPw==\",\"dtype\":\"float64\",\"order\":\"little\",\"shape\":[2]},\"y\":{\"__ndarray__\":\"X+/y/qixvL+0UW1RZpLDvw==\",\"dtype\":\"float64\",\"order\":\"little\",\"shape\":[2]}},\"selected\":{\"id\":\"3368\"},\"selection_policy\":{\"id\":\"3367\"}},\"id\":\"3072\",\"type\":\"ColumnDataSource\"},{\"attributes\":{\"margin\":[5,5,5,5],\"name\":\"HSpacer00131\",\"sizing_mode\":\"stretch_width\"},\"id\":\"3570\",\"type\":\"Spacer\"},{\"attributes\":{\"line_alpha\":0.2,\"line_color\":\"#42039D\",\"line_dash\":[6],\"line_width\":4,\"x\":{\"field\":\"x\"},\"y\":{\"field\":\"y\"}},\"id\":\"3081\",\"type\":\"Line\"},{\"attributes\":{\"margin\":[5,5,5,5],\"name\":\"HSpacer00130\",\"sizing_mode\":\"stretch_width\"},\"id\":\"3349\",\"type\":\"Spacer\"},{\"attributes\":{\"coordinates\":null,\"data_source\":{\"id\":\"3072\"},\"glyph\":{\"id\":\"3073\"},\"group\":null,\"hover_glyph\":null,\"muted_glyph\":{\"id\":\"3075\"},\"nonselection_glyph\":{\"id\":\"3074\"},\"view\":{\"id\":\"3077\"}},\"id\":\"3076\",\"type\":\"GlyphRenderer\"},{\"attributes\":{\"source\":{\"id\":\"3072\"}},\"id\":\"3077\",\"type\":\"CDSView\"},{\"attributes\":{\"line_color\":\"#42039D\",\"line_dash\":[6],\"line_width\":4,\"x\":{\"field\":\"x\"},\"y\":{\"field\":\"y\"}},\"id\":\"3079\",\"type\":\"Line\"},{\"attributes\":{\"line_alpha\":0.1,\"line_color\":\"#380499\",\"line_dash\":[6],\"line_width\":4,\"x\":{\"field\":\"x\"},\"y\":{\"field\":\"y\"}},\"id\":\"3074\",\"type\":\"Line\"},{\"attributes\":{\"data\":{\"x\":{\"__ndarray__\":\"bN1trwPu7r9OuRGiPavvPw==\",\"dtype\":\"float64\",\"order\":\"little\",\"shape\":[2]},\"y\":{\"__ndarray__\":\"Nvcd7KgIqr/gT7pLY/5zvw==\",\"dtype\":\"float64\",\"order\":\"little\",\"shape\":[2]}},\"selected\":{\"id\":\"3370\"},\"selection_policy\":{\"id\":\"3369\"}},\"id\":\"3078\",\"type\":\"ColumnDataSource\"},{\"attributes\":{},\"id\":\"3379\",\"type\":\"UnionRenderers\"},{\"attributes\":{\"line_alpha\":0.2,\"line_color\":\"#5201A3\",\"line_dash\":[6],\"line_width\":4,\"x\":{\"field\":\"x\"},\"y\":{\"field\":\"y\"}},\"id\":\"3093\",\"type\":\"Line\"},{\"attributes\":{\"coordinates\":null,\"data_source\":{\"id\":\"3078\"},\"glyph\":{\"id\":\"3079\"},\"group\":null,\"hover_glyph\":null,\"muted_glyph\":{\"id\":\"3081\"},\"nonselection_glyph\":{\"id\":\"3080\"},\"view\":{\"id\":\"3083\"}},\"id\":\"3082\",\"type\":\"GlyphRenderer\"},{\"attributes\":{},\"id\":\"3417\",\"type\":\"UnionRenderers\"},{\"attributes\":{\"client_comm_id\":\"7800bf1775ca46b5ad4d1e344cfcf56f\",\"comm_id\":\"dce76642f1824437b1c58806a3e7d69b\",\"plot_id\":\"3348\"},\"id\":\"3901\",\"type\":\"panel.models.comm_manager.CommManager\"},{\"attributes\":{\"source\":{\"id\":\"3078\"}},\"id\":\"3083\",\"type\":\"CDSView\"},{\"attributes\":{},\"id\":\"3380\",\"type\":\"Selection\"},{\"attributes\":{},\"id\":\"3455\",\"type\":\"UnionRenderers\"},{\"attributes\":{\"line_color\":\"#4A02A0\",\"line_dash\":[6],\"line_width\":4,\"x\":{\"field\":\"x\"},\"y\":{\"field\":\"y\"}},\"id\":\"3085\",\"type\":\"Line\"},{\"attributes\":{\"line_alpha\":0.1,\"line_color\":\"#42039D\",\"line_dash\":[6],\"line_width\":4,\"x\":{\"field\":\"x\"},\"y\":{\"field\":\"y\"}},\"id\":\"3080\",\"type\":\"Line\"},{\"attributes\":{},\"id\":\"3418\",\"type\":\"Selection\"},{\"attributes\":{\"data\":{\"x\":{\"__ndarray__\":\"bN1trwPu7r9OuRGiPavvPw==\",\"dtype\":\"float64\",\"order\":\"little\",\"shape\":[2]},\"y\":{\"__ndarray__\":\"NVuBV1Zmjj9N78OTL/zCPw==\",\"dtype\":\"float64\",\"order\":\"little\",\"shape\":[2]}},\"selected\":{\"id\":\"3372\"},\"selection_policy\":{\"id\":\"3371\"}},\"id\":\"3084\",\"type\":\"ColumnDataSource\"},{\"attributes\":{},\"id\":\"3456\",\"type\":\"Selection\"},{\"attributes\":{\"line_color\":\"#5201A3\",\"line_dash\":[6],\"line_width\":4,\"x\":{\"field\":\"x\"},\"y\":{\"field\":\"y\"}},\"id\":\"3091\",\"type\":\"Line\"},{\"attributes\":{\"coordinates\":null,\"data_source\":{\"id\":\"3084\"},\"glyph\":{\"id\":\"3085\"},\"group\":null,\"hover_glyph\":null,\"muted_glyph\":{\"id\":\"3087\"},\"nonselection_glyph\":{\"id\":\"3086\"},\"view\":{\"id\":\"3089\"}},\"id\":\"3088\",\"type\":\"GlyphRenderer\"},{\"attributes\":{},\"id\":\"3013\",\"type\":\"PanTool\"},{\"attributes\":{\"source\":{\"id\":\"3084\"}},\"id\":\"3089\",\"type\":\"CDSView\"},{\"attributes\":{\"line_alpha\":0.1,\"line_color\":\"#4A02A0\",\"line_dash\":[6],\"line_width\":4,\"x\":{\"field\":\"x\"},\"y\":{\"field\":\"y\"}},\"id\":\"3086\",\"type\":\"Line\"},{\"attributes\":{\"line_color\":\"#5A00A5\",\"line_dash\":[6],\"line_width\":4,\"x\":{\"field\":\"x\"},\"y\":{\"field\":\"y\"}},\"id\":\"3097\",\"type\":\"Line\"},{\"attributes\":{},\"id\":\"3457\",\"type\":\"UnionRenderers\"},{\"attributes\":{\"data\":{\"x\":{\"__ndarray__\":\"bN1trwPu7r9OuRGiPavvPw==\",\"dtype\":\"float64\",\"order\":\"little\",\"shape\":[2]},\"y\":{\"__ndarray__\":\"Dae57PM2sz/KkdEGZ4DTPw==\",\"dtype\":\"float64\",\"order\":\"little\",\"shape\":[2]}},\"selected\":{\"id\":\"3374\"},\"selection_policy\":{\"id\":\"3373\"}},\"id\":\"3090\",\"type\":\"ColumnDataSource\"},{\"attributes\":{\"line_alpha\":0.2,\"line_color\":\"#5A00A5\",\"line_dash\":[6],\"line_width\":4,\"x\":{\"field\":\"x\"},\"y\":{\"field\":\"y\"}},\"id\":\"3099\",\"type\":\"Line\"},{\"attributes\":{\"coordinates\":null,\"data_source\":{\"id\":\"3090\"},\"glyph\":{\"id\":\"3091\"},\"group\":null,\"hover_glyph\":null,\"muted_glyph\":{\"id\":\"3093\"},\"nonselection_glyph\":{\"id\":\"3092\"},\"view\":{\"id\":\"3095\"}},\"id\":\"3094\",\"type\":\"GlyphRenderer\"},{\"attributes\":{},\"id\":\"3458\",\"type\":\"Selection\"},{\"attributes\":{\"source\":{\"id\":\"3090\"}},\"id\":\"3095\",\"type\":\"CDSView\"},{\"attributes\":{},\"id\":\"3381\",\"type\":\"UnionRenderers\"},{\"attributes\":{\"line_alpha\":0.1,\"line_color\":\"#5201A3\",\"line_dash\":[6],\"line_width\":4,\"x\":{\"field\":\"x\"},\"y\":{\"field\":\"y\"}},\"id\":\"3092\",\"type\":\"Line\"},{\"attributes\":{\"line_color\":\"#6200A6\",\"line_dash\":[6],\"line_width\":4,\"x\":{\"field\":\"x\"},\"y\":{\"field\":\"y\"}},\"id\":\"3103\",\"type\":\"Line\"},{\"attributes\":{},\"id\":\"3419\",\"type\":\"UnionRenderers\"},{\"attributes\":{\"data\":{\"x\":{\"__ndarray__\":\"bN1trwPu7r9OuRGiPavvPw==\",\"dtype\":\"float64\",\"order\":\"little\",\"shape\":[2]},\"y\":{\"__ndarray__\":\"YLiqB/v9wT8RZbsGY9rdPw==\",\"dtype\":\"float64\",\"order\":\"little\",\"shape\":[2]}},\"selected\":{\"id\":\"3376\"},\"selection_policy\":{\"id\":\"3375\"}},\"id\":\"3096\",\"type\":\"ColumnDataSource\"},{\"attributes\":{},\"id\":\"3382\",\"type\":\"Selection\"},{\"attributes\":{\"line_alpha\":0.2,\"line_color\":\"#6200A6\",\"line_dash\":[6],\"line_width\":4,\"x\":{\"field\":\"x\"},\"y\":{\"field\":\"y\"}},\"id\":\"3105\",\"type\":\"Line\"},{\"attributes\":{\"coordinates\":null,\"data_source\":{\"id\":\"3096\"},\"glyph\":{\"id\":\"3097\"},\"group\":null,\"hover_glyph\":null,\"muted_glyph\":{\"id\":\"3099\"},\"nonselection_glyph\":{\"id\":\"3098\"},\"view\":{\"id\":\"3101\"}},\"id\":\"3100\",\"type\":\"GlyphRenderer\"},{\"attributes\":{},\"id\":\"3420\",\"type\":\"Selection\"},{\"attributes\":{\"source\":{\"id\":\"3096\"}},\"id\":\"3101\",\"type\":\"CDSView\"},{\"attributes\":{},\"id\":\"3017\",\"type\":\"ResetTool\"},{\"attributes\":{\"line_alpha\":0.1,\"line_color\":\"#5A00A5\",\"line_dash\":[6],\"line_width\":4,\"x\":{\"field\":\"x\"},\"y\":{\"field\":\"y\"}},\"id\":\"3098\",\"type\":\"Line\"},{\"attributes\":{\"line_color\":\"#6C00A8\",\"line_dash\":[6],\"line_width\":4,\"x\":{\"field\":\"x\"},\"y\":{\"field\":\"y\"}},\"id\":\"3109\",\"type\":\"Line\"},{\"attributes\":{\"bottom_units\":\"screen\",\"coordinates\":null,\"fill_alpha\":0.5,\"fill_color\":\"lightgrey\",\"group\":null,\"left_units\":\"screen\",\"level\":\"overlay\",\"line_alpha\":1.0,\"line_color\":\"black\",\"line_dash\":[4,4],\"line_width\":2,\"right_units\":\"screen\",\"syncable\":false,\"top_units\":\"screen\"},\"id\":\"3019\",\"type\":\"BoxAnnotation\"},{\"attributes\":{\"data\":{\"x\":{\"__ndarray__\":\"bN1trwPu7r9OuRGiPavvPw==\",\"dtype\":\"float64\",\"order\":\"little\",\"shape\":[2]},\"y\":{\"__ndarray__\":\"BmdaGIzLxz8/uBWnFjPjPw==\",\"dtype\":\"float64\",\"order\":\"little\",\"shape\":[2]}},\"selected\":{\"id\":\"3378\"},\"selection_policy\":{\"id\":\"3377\"}},\"id\":\"3102\",\"type\":\"ColumnDataSource\"},{\"attributes\":{\"line_alpha\":0.2,\"line_color\":\"#6C00A8\",\"line_dash\":[6],\"line_width\":4,\"x\":{\"field\":\"x\"},\"y\":{\"field\":\"y\"}},\"id\":\"3111\",\"type\":\"Line\"},{\"attributes\":{\"coordinates\":null,\"data_source\":{\"id\":\"3102\"},\"glyph\":{\"id\":\"3103\"},\"group\":null,\"hover_glyph\":null,\"muted_glyph\":{\"id\":\"3105\"},\"nonselection_glyph\":{\"id\":\"3104\"},\"view\":{\"id\":\"3107\"}},\"id\":\"3106\",\"type\":\"GlyphRenderer\"},{\"attributes\":{\"source\":{\"id\":\"3102\"}},\"id\":\"3107\",\"type\":\"CDSView\"},{\"attributes\":{\"line_alpha\":0.1,\"line_color\":\"#6200A6\",\"line_dash\":[6],\"line_width\":4,\"x\":{\"field\":\"x\"},\"y\":{\"field\":\"y\"}},\"id\":\"3104\",\"type\":\"Line\"},{\"attributes\":{},\"id\":\"3018\",\"type\":\"HelpTool\"},{\"attributes\":{\"line_color\":\"#7300A8\",\"line_dash\":[6],\"line_width\":4,\"x\":{\"field\":\"x\"},\"y\":{\"field\":\"y\"}},\"id\":\"3115\",\"type\":\"Line\"},{\"attributes\":{\"data\":{\"x\":{\"__ndarray__\":\"bN1trwPu7r9OuRGiPavvPw==\",\"dtype\":\"float64\",\"order\":\"little\",\"shape\":[2]},\"y\":{\"__ndarray__\":\"CMxUOJCxyz+F+3lyPBbnPw==\",\"dtype\":\"float64\",\"order\":\"little\",\"shape\":[2]}},\"selected\":{\"id\":\"3380\"},\"selection_policy\":{\"id\":\"3379\"}},\"id\":\"3108\",\"type\":\"ColumnDataSource\"},{\"attributes\":{\"line_alpha\":0.2,\"line_color\":\"#7300A8\",\"line_dash\":[6],\"line_width\":4,\"x\":{\"field\":\"x\"},\"y\":{\"field\":\"y\"}},\"id\":\"3117\",\"type\":\"Line\"},{\"attributes\":{},\"id\":\"3383\",\"type\":\"UnionRenderers\"},{\"attributes\":{\"coordinates\":null,\"data_source\":{\"id\":\"3108\"},\"glyph\":{\"id\":\"3109\"},\"group\":null,\"hover_glyph\":null,\"muted_glyph\":{\"id\":\"3111\"},\"nonselection_glyph\":{\"id\":\"3110\"},\"view\":{\"id\":\"3113\"}},\"id\":\"3112\",\"type\":\"GlyphRenderer\"},{\"attributes\":{\"tools\":[{\"id\":\"3013\"},{\"id\":\"3014\"},{\"id\":\"3015\"},{\"id\":\"3016\"},{\"id\":\"3017\"},{\"id\":\"3018\"}]},\"id\":\"3020\",\"type\":\"Toolbar\"},{\"attributes\":{\"source\":{\"id\":\"3108\"}},\"id\":\"3113\",\"type\":\"CDSView\"},{\"attributes\":{},\"id\":\"3421\",\"type\":\"UnionRenderers\"},{\"attributes\":{},\"id\":\"3384\",\"type\":\"Selection\"},{\"attributes\":{\"line_alpha\":0.1,\"line_color\":\"#6C00A8\",\"line_dash\":[6],\"line_width\":4,\"x\":{\"field\":\"x\"},\"y\":{\"field\":\"y\"}},\"id\":\"3110\",\"type\":\"Line\"},{\"attributes\":{\"line_color\":\"#7B02A8\",\"line_dash\":[6],\"line_width\":4,\"x\":{\"field\":\"x\"},\"y\":{\"field\":\"y\"}},\"id\":\"3121\",\"type\":\"Line\"},{\"attributes\":{},\"id\":\"3422\",\"type\":\"Selection\"},{\"attributes\":{\"data\":{\"x\":{\"__ndarray__\":\"bN1trwPu7r9OuRGiPavvPw==\",\"dtype\":\"float64\",\"order\":\"little\",\"shape\":[2]},\"y\":{\"__ndarray__\":\"pUwVf/bEyj8w6YYKvrTpPw==\",\"dtype\":\"float64\",\"order\":\"little\",\"shape\":[2]}},\"selected\":{\"id\":\"3382\"},\"selection_policy\":{\"id\":\"3381\"}},\"id\":\"3114\",\"type\":\"ColumnDataSource\"},{\"attributes\":{\"line_alpha\":0.2,\"line_color\":\"#7B02A8\",\"line_dash\":[6],\"line_width\":4,\"x\":{\"field\":\"x\"},\"y\":{\"field\":\"y\"}},\"id\":\"3123\",\"type\":\"Line\"},{\"attributes\":{\"coordinates\":null,\"data_source\":{\"id\":\"3114\"},\"glyph\":{\"id\":\"3115\"},\"group\":null,\"hover_glyph\":null,\"muted_glyph\":{\"id\":\"3117\"},\"nonselection_glyph\":{\"id\":\"3116\"},\"view\":{\"id\":\"3119\"}},\"id\":\"3118\",\"type\":\"GlyphRenderer\"},{\"attributes\":{\"source\":{\"id\":\"3114\"}},\"id\":\"3119\",\"type\":\"CDSView\"},{\"attributes\":{\"line_alpha\":0.1,\"line_color\":\"#7300A8\",\"line_dash\":[6],\"line_width\":4,\"x\":{\"field\":\"x\"},\"y\":{\"field\":\"y\"}},\"id\":\"3116\",\"type\":\"Line\"},{\"attributes\":{\"line_color\":\"#8204A7\",\"line_dash\":[6],\"line_width\":4,\"x\":{\"field\":\"x\"},\"y\":{\"field\":\"y\"}},\"id\":\"3127\",\"type\":\"Line\"},{\"attributes\":{\"data\":{\"x\":{\"__ndarray__\":\"bN1trwPu7r9OuRGiPavvPw==\",\"dtype\":\"float64\",\"order\":\"little\",\"shape\":[2]},\"y\":{\"__ndarray__\":\"V7FzaVUayT9KQd+IpfDrPw==\",\"dtype\":\"float64\",\"order\":\"little\",\"shape\":[2]}},\"selected\":{\"id\":\"3384\"},\"selection_policy\":{\"id\":\"3383\"}},\"id\":\"3120\",\"type\":\"ColumnDataSource\"},{\"attributes\":{\"line_alpha\":0.2,\"line_color\":\"#8204A7\",\"line_dash\":[6],\"line_width\":4,\"x\":{\"field\":\"x\"},\"y\":{\"field\":\"y\"}},\"id\":\"3129\",\"type\":\"Line\"},{\"attributes\":{\"coordinates\":null,\"data_source\":{\"id\":\"3120\"},\"glyph\":{\"id\":\"3121\"},\"group\":null,\"hover_glyph\":null,\"muted_glyph\":{\"id\":\"3123\"},\"nonselection_glyph\":{\"id\":\"3122\"},\"view\":{\"id\":\"3125\"}},\"id\":\"3124\",\"type\":\"GlyphRenderer\"},{\"attributes\":{\"source\":{\"id\":\"3120\"}},\"id\":\"3125\",\"type\":\"CDSView\"},{\"attributes\":{\"line_alpha\":0.1,\"line_color\":\"#7B02A8\",\"line_dash\":[6],\"line_width\":4,\"x\":{\"field\":\"x\"},\"y\":{\"field\":\"y\"}},\"id\":\"3122\",\"type\":\"Line\"},{\"attributes\":{},\"id\":\"3385\",\"type\":\"UnionRenderers\"},{\"attributes\":{\"line_color\":\"#8908A5\",\"line_dash\":[6],\"line_width\":4,\"x\":{\"field\":\"x\"},\"y\":{\"field\":\"y\"}},\"id\":\"3133\",\"type\":\"Line\"},{\"attributes\":{\"data\":{\"x\":{\"__ndarray__\":\"bN1trwPu7r9OuRGiPavvPw==\",\"dtype\":\"float64\",\"order\":\"little\",\"shape\":[2]},\"y\":{\"__ndarray__\":\"D+BR8gr+xj+pI+qYNAHuPw==\",\"dtype\":\"float64\",\"order\":\"little\",\"shape\":[2]}},\"selected\":{\"id\":\"3386\"},\"selection_policy\":{\"id\":\"3385\"}},\"id\":\"3126\",\"type\":\"ColumnDataSource\"},{\"attributes\":{},\"id\":\"3423\",\"type\":\"UnionRenderers\"},{\"attributes\":{\"line_alpha\":0.2,\"line_color\":\"#8908A5\",\"line_dash\":[6],\"line_width\":4,\"x\":{\"field\":\"x\"},\"y\":{\"field\":\"y\"}},\"id\":\"3135\",\"type\":\"Line\"},{\"attributes\":{},\"id\":\"3386\",\"type\":\"Selection\"},{\"attributes\":{\"coordinates\":null,\"data_source\":{\"id\":\"3126\"},\"glyph\":{\"id\":\"3127\"},\"group\":null,\"hover_glyph\":null,\"muted_glyph\":{\"id\":\"3129\"},\"nonselection_glyph\":{\"id\":\"3128\"},\"view\":{\"id\":\"3131\"}},\"id\":\"3130\",\"type\":\"GlyphRenderer\"},{\"attributes\":{\"source\":{\"id\":\"3126\"}},\"id\":\"3131\",\"type\":\"CDSView\"},{\"attributes\":{},\"id\":\"3424\",\"type\":\"Selection\"},{\"attributes\":{\"line_alpha\":0.1,\"line_color\":\"#8204A7\",\"line_dash\":[6],\"line_width\":4,\"x\":{\"field\":\"x\"},\"y\":{\"field\":\"y\"}},\"id\":\"3128\",\"type\":\"Line\"},{\"attributes\":{\"line_color\":\"#920FA2\",\"line_dash\":[6],\"line_width\":4,\"x\":{\"field\":\"x\"},\"y\":{\"field\":\"y\"}},\"id\":\"3139\",\"type\":\"Line\"},{\"attributes\":{},\"id\":\"3006\",\"type\":\"BasicTicker\"},{\"attributes\":{\"data\":{\"x\":{\"__ndarray__\":\"bN1trwPu7r9OuRGiPavvPw==\",\"dtype\":\"float64\",\"order\":\"little\",\"shape\":[2]},\"y\":{\"__ndarray__\":\"OZsG0NJBxT+WQL9+SgDwPw==\",\"dtype\":\"float64\",\"order\":\"little\",\"shape\":[2]}},\"selected\":{\"id\":\"3388\"},\"selection_policy\":{\"id\":\"3387\"}},\"id\":\"3132\",\"type\":\"ColumnDataSource\"},{\"attributes\":{\"line_alpha\":0.2,\"line_color\":\"#920FA2\",\"line_dash\":[6],\"line_width\":4,\"x\":{\"field\":\"x\"},\"y\":{\"field\":\"y\"}},\"id\":\"3141\",\"type\":\"Line\"},{\"attributes\":{\"coordinates\":null,\"data_source\":{\"id\":\"3132\"},\"glyph\":{\"id\":\"3133\"},\"group\":null,\"hover_glyph\":null,\"muted_glyph\":{\"id\":\"3135\"},\"nonselection_glyph\":{\"id\":\"3134\"},\"view\":{\"id\":\"3137\"}},\"id\":\"3136\",\"type\":\"GlyphRenderer\"},{\"attributes\":{\"source\":{\"id\":\"3132\"}},\"id\":\"3137\",\"type\":\"CDSView\"},{\"attributes\":{\"line_alpha\":0.1,\"line_color\":\"#8908A5\",\"line_dash\":[6],\"line_width\":4,\"x\":{\"field\":\"x\"},\"y\":{\"field\":\"y\"}},\"id\":\"3134\",\"type\":\"Line\"},{\"attributes\":{\"line_color\":\"#99149F\",\"line_dash\":[6],\"line_width\":4,\"x\":{\"field\":\"x\"},\"y\":{\"field\":\"y\"}},\"id\":\"3145\",\"type\":\"Line\"},{\"attributes\":{\"data\":{\"x\":{\"__ndarray__\":\"bN1trwPu7r9OuRGiPavvPw==\",\"dtype\":\"float64\",\"order\":\"little\",\"shape\":[2]},\"y\":{\"__ndarray__\":\"vqxGgjwLwz+VV9RJZ+LwPw==\",\"dtype\":\"float64\",\"order\":\"little\",\"shape\":[2]}},\"selected\":{\"id\":\"3390\"},\"selection_policy\":{\"id\":\"3389\"}},\"id\":\"3138\",\"type\":\"ColumnDataSource\"},{\"attributes\":{\"line_alpha\":0.2,\"line_color\":\"#99149F\",\"line_dash\":[6],\"line_width\":4,\"x\":{\"field\":\"x\"},\"y\":{\"field\":\"y\"}},\"id\":\"3147\",\"type\":\"Line\"},{\"attributes\":{\"coordinates\":null,\"data_source\":{\"id\":\"3138\"},\"glyph\":{\"id\":\"3139\"},\"group\":null,\"hover_glyph\":null,\"muted_glyph\":{\"id\":\"3141\"},\"nonselection_glyph\":{\"id\":\"3140\"},\"view\":{\"id\":\"3143\"}},\"id\":\"3142\",\"type\":\"GlyphRenderer\"},{\"attributes\":{},\"id\":\"3387\",\"type\":\"UnionRenderers\"},{\"attributes\":{\"source\":{\"id\":\"3138\"}},\"id\":\"3143\",\"type\":\"CDSView\"},{\"attributes\":{},\"id\":\"3425\",\"type\":\"UnionRenderers\"},{\"attributes\":{\"line_color\":\"#C7427B\",\"line_dash\":[6],\"line_width\":4,\"x\":{\"field\":\"x\"},\"y\":{\"field\":\"y\"}},\"id\":\"3193\",\"type\":\"Line\"},{\"attributes\":{\"line_alpha\":0.1,\"line_color\":\"#920FA2\",\"line_dash\":[6],\"line_width\":4,\"x\":{\"field\":\"x\"},\"y\":{\"field\":\"y\"}},\"id\":\"3140\",\"type\":\"Line\"},{\"attributes\":{},\"id\":\"3388\",\"type\":\"Selection\"},{\"attributes\":{\"line_color\":\"#9F1A9B\",\"line_dash\":[6],\"line_width\":4,\"x\":{\"field\":\"x\"},\"y\":{\"field\":\"y\"}},\"id\":\"3151\",\"type\":\"Line\"},{\"attributes\":{\"data\":{\"x\":{\"__ndarray__\":\"bN1trwPu7r9OuRGiPavvPw==\",\"dtype\":\"float64\",\"order\":\"little\",\"shape\":[2]},\"y\":{\"__ndarray__\":\"C1hUw5+wvz9b4Qzpd3nxPw==\",\"dtype\":\"float64\",\"order\":\"little\",\"shape\":[2]}},\"selected\":{\"id\":\"3392\"},\"selection_policy\":{\"id\":\"3391\"}},\"id\":\"3144\",\"type\":\"ColumnDataSource\"},{\"attributes\":{},\"id\":\"3426\",\"type\":\"Selection\"},{\"attributes\":{\"line_alpha\":0.2,\"line_color\":\"#9F1A9B\",\"line_dash\":[6],\"line_width\":4,\"x\":{\"field\":\"x\"},\"y\":{\"field\":\"y\"}},\"id\":\"3153\",\"type\":\"Line\"},{\"attributes\":{\"coordinates\":null,\"data_source\":{\"id\":\"3144\"},\"glyph\":{\"id\":\"3145\"},\"group\":null,\"hover_glyph\":null,\"muted_glyph\":{\"id\":\"3147\"},\"nonselection_glyph\":{\"id\":\"3146\"},\"view\":{\"id\":\"3149\"}},\"id\":\"3148\",\"type\":\"GlyphRenderer\"},{\"attributes\":{\"source\":{\"id\":\"3144\"}},\"id\":\"3149\",\"type\":\"CDSView\"},{\"attributes\":{\"line_alpha\":0.1,\"line_color\":\"#99149F\",\"line_dash\":[6],\"line_width\":4,\"x\":{\"field\":\"x\"},\"y\":{\"field\":\"y\"}},\"id\":\"3146\",\"type\":\"Line\"},{\"attributes\":{\"line_color\":\"#A51F97\",\"line_dash\":[6],\"line_width\":4,\"x\":{\"field\":\"x\"},\"y\":{\"field\":\"y\"}},\"id\":\"3157\",\"type\":\"Line\"},{\"attributes\":{\"data\":{\"x\":{\"__ndarray__\":\"bN1trwPu7r9OuRGiPavvPw==\",\"dtype\":\"float64\",\"order\":\"little\",\"shape\":[2]},\"y\":{\"__ndarray__\":\"Kc0/tksRuT/9y7O71RXyPw==\",\"dtype\":\"float64\",\"order\":\"little\",\"shape\":[2]}},\"selected\":{\"id\":\"3394\"},\"selection_policy\":{\"id\":\"3393\"}},\"id\":\"3150\",\"type\":\"ColumnDataSource\"},{\"attributes\":{\"line_alpha\":0.1,\"line_color\":\"#C23D80\",\"line_dash\":[6],\"line_width\":4,\"x\":{\"field\":\"x\"},\"y\":{\"field\":\"y\"}},\"id\":\"3188\",\"type\":\"Line\"},{\"attributes\":{\"line_alpha\":0.2,\"line_color\":\"#A51F97\",\"line_dash\":[6],\"line_width\":4,\"x\":{\"field\":\"x\"},\"y\":{\"field\":\"y\"}},\"id\":\"3159\",\"type\":\"Line\"},{\"attributes\":{\"coordinates\":null,\"data_source\":{\"id\":\"3150\"},\"glyph\":{\"id\":\"3151\"},\"group\":null,\"hover_glyph\":null,\"muted_glyph\":{\"id\":\"3153\"},\"nonselection_glyph\":{\"id\":\"3152\"},\"view\":{\"id\":\"3155\"}},\"id\":\"3154\",\"type\":\"GlyphRenderer\"},{\"attributes\":{\"source\":{\"id\":\"3150\"}},\"id\":\"3155\",\"type\":\"CDSView\"},{\"attributes\":{\"line_alpha\":0.1,\"line_color\":\"#9F1A9B\",\"line_dash\":[6],\"line_width\":4,\"x\":{\"field\":\"x\"},\"y\":{\"field\":\"y\"}},\"id\":\"3152\",\"type\":\"Line\"},{\"attributes\":{\"line_color\":\"#AC2593\",\"line_dash\":[6],\"line_width\":4,\"x\":{\"field\":\"x\"},\"y\":{\"field\":\"y\"}},\"id\":\"3163\",\"type\":\"Line\"},{\"attributes\":{},\"id\":\"3389\",\"type\":\"UnionRenderers\"},{\"attributes\":{\"data\":{\"x\":{\"__ndarray__\":\"bN1trwPu7r9OuRGiPavvPw==\",\"dtype\":\"float64\",\"order\":\"little\",\"shape\":[2]},\"y\":{\"__ndarray__\":\"r6wNqCZItD/P7+EDBcXyPw==\",\"dtype\":\"float64\",\"order\":\"little\",\"shape\":[2]}},\"selected\":{\"id\":\"3396\"},\"selection_policy\":{\"id\":\"3395\"}},\"id\":\"3156\",\"type\":\"ColumnDataSource\"},{\"attributes\":{\"line_alpha\":0.2,\"line_color\":\"#AC2593\",\"line_dash\":[6],\"line_width\":4,\"x\":{\"field\":\"x\"},\"y\":{\"field\":\"y\"}},\"id\":\"3165\",\"type\":\"Line\"},{\"attributes\":{},\"id\":\"3427\",\"type\":\"UnionRenderers\"},{\"attributes\":{\"coordinates\":null,\"data_source\":{\"id\":\"3156\"},\"glyph\":{\"id\":\"3157\"},\"group\":null,\"hover_glyph\":null,\"muted_glyph\":{\"id\":\"3159\"},\"nonselection_glyph\":{\"id\":\"3158\"},\"view\":{\"id\":\"3161\"}},\"id\":\"3160\",\"type\":\"GlyphRenderer\"},{\"attributes\":{},\"id\":\"3390\",\"type\":\"Selection\"},{\"attributes\":{\"source\":{\"id\":\"3156\"}},\"id\":\"3161\",\"type\":\"CDSView\"},{\"attributes\":{},\"id\":\"3428\",\"type\":\"Selection\"},{\"attributes\":{\"line_alpha\":0.1,\"line_color\":\"#A51F97\",\"line_dash\":[6],\"line_width\":4,\"x\":{\"field\":\"x\"},\"y\":{\"field\":\"y\"}},\"id\":\"3158\",\"type\":\"Line\"},{\"attributes\":{\"line_color\":\"#B22C8E\",\"line_dash\":[6],\"line_width\":4,\"x\":{\"field\":\"x\"},\"y\":{\"field\":\"y\"}},\"id\":\"3169\",\"type\":\"Line\"},{\"attributes\":{\"data\":{\"x\":{\"__ndarray__\":\"bN1trwPu7r9OuRGiPavvPw==\",\"dtype\":\"float64\",\"order\":\"little\",\"shape\":[2]},\"y\":{\"__ndarray__\":\"9/FB5RKerj8dQK0/EHvzPw==\",\"dtype\":\"float64\",\"order\":\"little\",\"shape\":[2]}},\"selected\":{\"id\":\"3398\"},\"selection_policy\":{\"id\":\"3397\"}},\"id\":\"3162\",\"type\":\"ColumnDataSource\"},{\"attributes\":{\"line_alpha\":0.2,\"line_color\":\"#B22C8E\",\"line_dash\":[6],\"line_width\":4,\"x\":{\"field\":\"x\"},\"y\":{\"field\":\"y\"}},\"id\":\"3171\",\"type\":\"Line\"},{\"attributes\":{\"coordinates\":null,\"data_source\":{\"id\":\"3162\"},\"glyph\":{\"id\":\"3163\"},\"group\":null,\"hover_glyph\":null,\"muted_glyph\":{\"id\":\"3165\"},\"nonselection_glyph\":{\"id\":\"3164\"},\"view\":{\"id\":\"3167\"}},\"id\":\"3166\",\"type\":\"GlyphRenderer\"},{\"attributes\":{\"source\":{\"id\":\"3162\"}},\"id\":\"3167\",\"type\":\"CDSView\"},{\"attributes\":{\"line_alpha\":0.1,\"line_color\":\"#AC2593\",\"line_dash\":[6],\"line_width\":4,\"x\":{\"field\":\"x\"},\"y\":{\"field\":\"y\"}},\"id\":\"3164\",\"type\":\"Line\"},{\"attributes\":{},\"id\":\"3010\",\"type\":\"BasicTicker\"},{\"attributes\":{\"line_color\":\"#B83289\",\"line_dash\":[6],\"line_width\":4,\"x\":{\"field\":\"x\"},\"y\":{\"field\":\"y\"}},\"id\":\"3175\",\"type\":\"Line\"},{\"attributes\":{\"data\":{\"x\":{\"__ndarray__\":\"bN1trwPu7r9OuRGiPavvPw==\",\"dtype\":\"float64\",\"order\":\"little\",\"shape\":[2]},\"y\":{\"__ndarray__\":\"oeUSAeJtpz9w6go9Lgr0Pw==\",\"dtype\":\"float64\",\"order\":\"little\",\"shape\":[2]}},\"selected\":{\"id\":\"3400\"},\"selection_policy\":{\"id\":\"3399\"}},\"id\":\"3168\",\"type\":\"ColumnDataSource\"},{\"attributes\":{\"line_alpha\":0.2,\"line_color\":\"#B83289\",\"line_dash\":[6],\"line_width\":4,\"x\":{\"field\":\"x\"},\"y\":{\"field\":\"y\"}},\"id\":\"3177\",\"type\":\"Line\"},{\"attributes\":{\"coordinates\":null,\"data_source\":{\"id\":\"3168\"},\"glyph\":{\"id\":\"3169\"},\"group\":null,\"hover_glyph\":null,\"muted_glyph\":{\"id\":\"3171\"},\"nonselection_glyph\":{\"id\":\"3170\"},\"view\":{\"id\":\"3173\"}},\"id\":\"3172\",\"type\":\"GlyphRenderer\"},{\"attributes\":{\"source\":{\"id\":\"3168\"}},\"id\":\"3173\",\"type\":\"CDSView\"},{\"attributes\":{},\"id\":\"3391\",\"type\":\"UnionRenderers\"},{\"attributes\":{\"line_alpha\":0.1,\"line_color\":\"#B22C8E\",\"line_dash\":[6],\"line_width\":4,\"x\":{\"field\":\"x\"},\"y\":{\"field\":\"y\"}},\"id\":\"3170\",\"type\":\"Line\"},{\"attributes\":{},\"id\":\"3429\",\"type\":\"UnionRenderers\"},{\"attributes\":{\"line_color\":\"#BD3784\",\"line_dash\":[6],\"line_width\":4,\"x\":{\"field\":\"x\"},\"y\":{\"field\":\"y\"}},\"id\":\"3181\",\"type\":\"Line\"},{\"attributes\":{},\"id\":\"3392\",\"type\":\"Selection\"},{\"attributes\":{\"data\":{\"x\":{\"__ndarray__\":\"bN1trwPu7r9OuRGiPavvPw==\",\"dtype\":\"float64\",\"order\":\"little\",\"shape\":[2]},\"y\":{\"__ndarray__\":\"NwkiCokBoD9RRBbw+Z30Pw==\",\"dtype\":\"float64\",\"order\":\"little\",\"shape\":[2]}},\"selected\":{\"id\":\"3402\"},\"selection_policy\":{\"id\":\"3401\"}},\"id\":\"3174\",\"type\":\"ColumnDataSource\"},{\"attributes\":{\"line_alpha\":0.2,\"line_color\":\"#BD3784\",\"line_dash\":[6],\"line_width\":4,\"x\":{\"field\":\"x\"},\"y\":{\"field\":\"y\"}},\"id\":\"3183\",\"type\":\"Line\"},{\"attributes\":{},\"id\":\"3430\",\"type\":\"Selection\"},{\"attributes\":{\"coordinates\":null,\"data_source\":{\"id\":\"3174\"},\"glyph\":{\"id\":\"3175\"},\"group\":null,\"hover_glyph\":null,\"muted_glyph\":{\"id\":\"3177\"},\"nonselection_glyph\":{\"id\":\"3176\"},\"view\":{\"id\":\"3179\"}},\"id\":\"3178\",\"type\":\"GlyphRenderer\"},{\"attributes\":{\"source\":{\"id\":\"3174\"}},\"id\":\"3179\",\"type\":\"CDSView\"},{\"attributes\":{\"axis_label\":\"x\",\"axis_label_standoff\":10,\"axis_label_text_color\":\"#FFFFFF\",\"axis_label_text_font\":\"Josefin Sans\",\"axis_label_text_font_size\":\"1.9em\",\"axis_label_text_font_style\":\"bold\",\"axis_line_alpha\":0.4,\"axis_line_color\":\"#E0E0E0\",\"coordinates\":null,\"formatter\":{\"id\":\"3039\"},\"group\":null,\"major_label_policy\":{\"id\":\"3040\"},\"major_label_text_color\":\"#E0E0E0\",\"major_label_text_font\":\"Josefin Sans\",\"major_label_text_font_size\":\"1.15em\",\"major_tick_line_alpha\":0.4,\"major_tick_line_color\":\"#E0E0E0\",\"minor_tick_line_alpha\":0.4,\"minor_tick_line_color\":\"#E0E0E0\",\"ticker\":{\"id\":\"3006\"}},\"id\":\"3005\",\"type\":\"LinearAxis\"},{\"attributes\":{\"line_alpha\":0.1,\"line_color\":\"#B83289\",\"line_dash\":[6],\"line_width\":4,\"x\":{\"field\":\"x\"},\"y\":{\"field\":\"y\"}},\"id\":\"3176\",\"type\":\"Line\"},{\"attributes\":{\"line_color\":\"#C23D80\",\"line_dash\":[6],\"line_width\":4,\"x\":{\"field\":\"x\"},\"y\":{\"field\":\"y\"}},\"id\":\"3187\",\"type\":\"Line\"},{\"attributes\":{\"data\":{\"x\":{\"__ndarray__\":\"bN1trwPu7r9OuRGiPavvPw==\",\"dtype\":\"float64\",\"order\":\"little\",\"shape\":[2]},\"y\":{\"__ndarray__\":\"UNa7mhCskD9zJp4Nrzb1Pw==\",\"dtype\":\"float64\",\"order\":\"little\",\"shape\":[2]}},\"selected\":{\"id\":\"3404\"},\"selection_policy\":{\"id\":\"3403\"}},\"id\":\"3180\",\"type\":\"ColumnDataSource\"},{\"attributes\":{\"coordinates\":null,\"group\":null,\"text\":\"Observations\",\"text_color\":\"#E0E0E0\",\"text_font\":\"Josefin Sans\",\"text_font_size\":\"2.1em\"},\"id\":\"2995\",\"type\":\"Title\"},{\"attributes\":{\"line_alpha\":0.2,\"line_color\":\"#C23D80\",\"line_dash\":[6],\"line_width\":4,\"x\":{\"field\":\"x\"},\"y\":{\"field\":\"y\"}},\"id\":\"3189\",\"type\":\"Line\"},{\"attributes\":{\"background_fill_alpha\":0.9,\"background_fill_color\":\"#0f0f0f\",\"below\":[{\"id\":\"3005\"}],\"border_fill_alpha\":0.8,\"border_fill_color\":\"#111111\",\"center\":[{\"id\":\"3008\"},{\"id\":\"3012\"},{\"id\":\"3044\"}],\"height\":450,\"left\":[{\"id\":\"3009\"}],\"outline_line_alpha\":0.25,\"outline_line_color\":\"#E0E0E0\",\"outline_line_width\":3,\"renderers\":[{\"id\":\"3032\"},{\"id\":\"3052\"},{\"id\":\"3058\"},{\"id\":\"3064\"},{\"id\":\"3070\"},{\"id\":\"3076\"},{\"id\":\"3082\"},{\"id\":\"3088\"},{\"id\":\"3094\"},{\"id\":\"3100\"},{\"id\":\"3106\"},{\"id\":\"3112\"},{\"id\":\"3118\"},{\"id\":\"3124\"},{\"id\":\"3130\"},{\"id\":\"3136\"},{\"id\":\"3142\"},{\"id\":\"3148\"},{\"id\":\"3154\"},{\"id\":\"3160\"},{\"id\":\"3166\"},{\"id\":\"3172\"},{\"id\":\"3178\"},{\"id\":\"3184\"},{\"id\":\"3190\"},{\"id\":\"3196\"},{\"id\":\"3202\"},{\"id\":\"3208\"},{\"id\":\"3214\"},{\"id\":\"3220\"},{\"id\":\"3226\"},{\"id\":\"3232\"},{\"id\":\"3238\"},{\"id\":\"3244\"},{\"id\":\"3250\"},{\"id\":\"3256\"},{\"id\":\"3262\"},{\"id\":\"3268\"},{\"id\":\"3274\"},{\"id\":\"3280\"},{\"id\":\"3286\"},{\"id\":\"3292\"},{\"id\":\"3298\"},{\"id\":\"3304\"},{\"id\":\"3310\"},{\"id\":\"3316\"},{\"id\":\"3322\"},{\"id\":\"3328\"},{\"id\":\"3334\"},{\"id\":\"3340\"},{\"id\":\"3346\"}],\"right\":[{\"id\":\"3044\"}],\"title\":{\"id\":\"2995\"},\"toolbar\":{\"id\":\"3020\"},\"width\":700,\"x_range\":{\"id\":\"3046\"},\"x_scale\":{\"id\":\"3001\"},\"y_range\":{\"id\":\"3047\"},\"y_scale\":{\"id\":\"3003\"}},\"id\":\"2994\",\"subtype\":\"Figure\",\"type\":\"Plot\"},{\"attributes\":{\"coordinates\":null,\"data_source\":{\"id\":\"3180\"},\"glyph\":{\"id\":\"3181\"},\"group\":null,\"hover_glyph\":null,\"muted_glyph\":{\"id\":\"3183\"},\"nonselection_glyph\":{\"id\":\"3182\"},\"view\":{\"id\":\"3185\"}},\"id\":\"3184\",\"type\":\"GlyphRenderer\"},{\"attributes\":{\"source\":{\"id\":\"3180\"}},\"id\":\"3185\",\"type\":\"CDSView\"},{\"attributes\":{\"axis\":{\"id\":\"3005\"},\"coordinates\":null,\"grid_line_alpha\":0.15,\"grid_line_color\":\"#E0E0E0\",\"group\":null,\"ticker\":null},\"id\":\"3008\",\"type\":\"Grid\"},{\"attributes\":{\"line_alpha\":0.1,\"line_color\":\"#BD3784\",\"line_dash\":[6],\"line_width\":4,\"x\":{\"field\":\"x\"},\"y\":{\"field\":\"y\"}},\"id\":\"3182\",\"type\":\"Line\"},{\"attributes\":{},\"id\":\"3003\",\"type\":\"LinearScale\"},{\"attributes\":{\"data\":{\"x\":{\"__ndarray__\":\"bN1trwPu7r9OuRGiPavvPw==\",\"dtype\":\"float64\",\"order\":\"little\",\"shape\":[2]},\"y\":{\"__ndarray__\":\"xfLsxdwtj7/lFa7h2Hf2Pw==\",\"dtype\":\"float64\",\"order\":\"little\",\"shape\":[2]}},\"selected\":{\"id\":\"3408\"},\"selection_policy\":{\"id\":\"3407\"}},\"id\":\"3192\",\"type\":\"ColumnDataSource\"},{\"attributes\":{},\"id\":\"3001\",\"type\":\"LinearScale\"},{\"attributes\":{\"data\":{\"x\":{\"__ndarray__\":\"bN1trwPu7r9OuRGiPavvPw==\",\"dtype\":\"float64\",\"order\":\"little\",\"shape\":[2]},\"y\":{\"__ndarray__\":\"50YyBw0LSj+sQIxTjdT1Pw==\",\"dtype\":\"float64\",\"order\":\"little\",\"shape\":[2]}},\"selected\":{\"id\":\"3406\"},\"selection_policy\":{\"id\":\"3405\"}},\"id\":\"3186\",\"type\":\"ColumnDataSource\"},{\"attributes\":{},\"id\":\"3393\",\"type\":\"UnionRenderers\"},{\"attributes\":{\"axis_label\":\"y\",\"axis_label_standoff\":10,\"axis_label_text_color\":\"#FFFFFF\",\"axis_label_text_font\":\"Josefin Sans\",\"axis_label_text_font_size\":\"1.9em\",\"axis_label_text_font_style\":\"bold\",\"axis_line_alpha\":0.4,\"axis_line_color\":\"#E0E0E0\",\"coordinates\":null,\"formatter\":{\"id\":\"3036\"},\"group\":null,\"major_label_policy\":{\"id\":\"3037\"},\"major_label_text_color\":\"#E0E0E0\",\"major_label_text_font\":\"Josefin Sans\",\"major_label_text_font_size\":\"1.15em\",\"major_tick_line_alpha\":0.4,\"major_tick_line_color\":\"#E0E0E0\",\"minor_tick_line_alpha\":0.4,\"minor_tick_line_color\":\"#E0E0E0\",\"ticker\":{\"id\":\"3010\"}},\"id\":\"3009\",\"type\":\"LinearAxis\"},{\"attributes\":{\"coordinates\":null,\"data_source\":{\"id\":\"3186\"},\"glyph\":{\"id\":\"3187\"},\"group\":null,\"hover_glyph\":null,\"muted_glyph\":{\"id\":\"3189\"},\"nonselection_glyph\":{\"id\":\"3188\"},\"view\":{\"id\":\"3191\"}},\"id\":\"3190\",\"type\":\"GlyphRenderer\"},{\"attributes\":{},\"id\":\"3431\",\"type\":\"UnionRenderers\"},{\"attributes\":{},\"id\":\"3394\",\"type\":\"Selection\"},{\"attributes\":{\"source\":{\"id\":\"3186\"}},\"id\":\"3191\",\"type\":\"CDSView\"},{\"attributes\":{},\"id\":\"3432\",\"type\":\"Selection\"}],\"root_ids\":[\"3348\",\"3901\"]},\"title\":\"Bokeh Application\",\"version\":\"2.4.3\"}};\n",
       "    var render_items = [{\"docid\":\"c7c6f5f8-e5ac-4489-8695-c45f53786a6f\",\"root_ids\":[\"3348\"],\"roots\":{\"3348\":\"6581d227-50ad-4178-a0b7-bf2cefdfd58b\"}}];\n",
       "    root.Bokeh.embed.embed_items_notebook(docs_json, render_items);\n",
       "    for (const render_item of render_items) {\n",
       "      for (const root_id of render_item.root_ids) {\n",
       "\tconst id_el = document.getElementById(root_id)\n",
       "\tif (id_el.children.length && (id_el.children[0].className === 'bk-root')) {\n",
       "\t  const root_el = id_el.children[0]\n",
       "\t  root_el.id = root_el.id + '-rendered'\n",
       "\t}\n",
       "      }\n",
       "    }\n",
       "  }\n",
       "  if (root.Bokeh !== undefined && root.Bokeh.Panel !== undefined) {\n",
       "    embed_document(root);\n",
       "  } else {\n",
       "    var attempts = 0;\n",
       "    var timer = setInterval(function(root) {\n",
       "      if (root.Bokeh !== undefined && root.Bokeh.Panel !== undefined) {\n",
       "        clearInterval(timer);\n",
       "        embed_document(root);\n",
       "      } else if (document.readyState == \"complete\") {\n",
       "        attempts++;\n",
       "        if (attempts > 200) {\n",
       "          clearInterval(timer);\n",
       "          console.log(\"Bokeh: ERROR: Unable to run BokehJS code because BokehJS library is missing\");\n",
       "        }\n",
       "      }\n",
       "    }, 25, root)\n",
       "  }\n",
       "})(window);</script>"
      ],
      "text/plain": [
       "Row\n",
       "    [0] HSpacer()\n",
       "    [1] Bokeh(Figure)\n",
       "    [2] HSpacer()"
      ]
     },
     "execution_count": 10,
     "metadata": {
      "application/vnd.holoviews_exec.v0+json": {
       "id": "3348"
      }
     },
     "output_type": "execute_result"
    }
   ],
   "source": [
    "verbose = False\n",
    "weights_history[0] = weights\n",
    "bias_history[0] = bias\n",
    "# Update loop\n",
    "for i in range(n_epochs):\n",
    "    \n",
    "    ######################\n",
    "    # YOUR CODE GOES HERE\n",
    "    # calculate the error\n",
    "    y_bar = (weights @ x_inputs.T + bias > 0).astype(np.float32)\n",
    "    if np.sum(np.abs(y_bar - y_class)) == 0:\n",
    "        break\n",
    "    error = y_class - y_bar\n",
    "    # back propagation\n",
    "    weights -= eta * (-2 * error @ x_inputs)\n",
    "    bias -= eta * (-2 * error.sum())\n",
    "    ######################\n",
    "    \n",
    "    ######################\n",
    "    # Solution  \n",
    "    #y_bar = np.dot(weights, x_inputs.T) + bias > 0\n",
    "    if np.sum(np.abs(y_bar - y_class)) == 0:\n",
    "        break\n",
    "    #error = y_class - y_bar\n",
    "    #weights = weights + eta * (np.dot(error, x_inputs))\n",
    "    #bias = bias + eta * (np.sum(error))\n",
    "    ######################\n",
    "    \n",
    "    weights_history[i + 1] = weights\n",
    "    bias_history[i + 1] = bias\n",
    "    \n",
    "    if (verbose):\n",
    "        print('%2d. error = %f, weights = %f, %f, %f' % (i, np.sum(np.abs(error)) / n_observations, bias[0, 0], weights[0, 0], weights[0, 1]))\n",
    "plot = center_plot(scatter_boundary(x_inputs, y_class, weights_history, bias_history, i + 1))\n",
    "plot"
   ]
  },
  {
   "cell_type": "markdown",
   "metadata": {},
   "source": [
    "### Neuron implementation in `JAX`\n",
    "\n",
    "As seen in the previous course, the `NumPy` implementation requires us to perform manual differentiation of our loss function to understand how to update the parameters. However, the recent [`JAX`](https://github.com/google/jax) library provides **automatic differentiation** on top of the `NumPy` library. If you have not yet completed the set of [tutorials](https://jax.readthedocs.io/en/latest/), we strongly encourage you to do so. We will introduce a few more functions compared to last time, but we try to keep the implementation as simple as possible on purpose."
   ]
  },
  {
   "cell_type": "code",
   "execution_count": 41,
   "metadata": {
    "tags": []
   },
   "outputs": [],
   "source": [
    "import jax.numpy as jnp\n",
    "from jax import grad, jit, random\n",
    "key = random.PRNGKey(42)"
   ]
  },
  {
   "cell_type": "markdown",
   "metadata": {},
   "source": [
    "We keep our previousmy generated dataset but we will rely on `jnp.ndarray` instead of `np.ndarray`, by simply casting the arrays to JAX-compliant ones."
   ]
  },
  {
   "cell_type": "code",
   "execution_count": 42,
   "metadata": {
    "tags": []
   },
   "outputs": [],
   "source": [
    "x_jax = jnp.asarray(x_inputs)\n",
    "y_jax = jnp.asarray(y_class)"
   ]
  },
  {
   "cell_type": "markdown",
   "metadata": {},
   "source": [
    "We will also keep the same hyperparameters as previously (see `eta`, `lambda_r` and `n_epochs` above) and randomly initialize our parameters "
   ]
  },
  {
   "cell_type": "code",
   "execution_count": 52,
   "metadata": {
    "tags": []
   },
   "outputs": [],
   "source": [
    "eta = 0.02\n",
    "# Perform key splitting\n",
    "key_w, key_b, key = random.split(key, 3)\n",
    "# Initialize the weights\n",
    "weights = random.normal(key_w, (1, 2));\n",
    "bias = random.normal(key_b, (1, 1));\n",
    "# Save the weight history for plotting\n",
    "weights_history = jnp.zeros((n_epochs + 1, 2));\n",
    "bias_history = jnp.zeros((n_epochs + 1, 1));\n",
    "# Record the first \n",
    "weights_history = weights_history.at[0].set(weights[0])\n",
    "bias_history = bias_history.at[0].set(bias[0])"
   ]
  },
  {
   "cell_type": "markdown",
   "metadata": {},
   "source": [
    "As we discussed earlier, the original model by McCulloch & Pitts has several issues regarding its use for numerical optimization (as it was originally observed from a neuroscience point of view)\n",
    "\n",
    "***\n",
    "\n",
    "<div class=\"alert alert-success\" markdown=\"1\" style=\"color:white; background-color: #410819; border-color: #cb2e47\">\n",
    "\n",
    "> **Changes from the `NumPy` implementation**\n",
    ">   1. (Smoothness) Our _activation function_ will change from _identity_ to sigmoid, i.e. $ \\phi(\\mathbf{x}) = \\frac{1}{1 + e^{-\\mathbf{x}}} $\n",
    ">   2. (Outliers) Our _loss function_ will change from $ L_{1} $ to $ L_{2} $ (MSE - Mean Squared Error)\n",
    "\n",
    "</div>\n",
    "\n",
    "***\n",
    "\n",
    "As discussed in the previous course, for using the very handy `grad` function provided by `JAX`, we need to define the whole forward function that we want to derive given our parameters. Hence this function also needs to **contain the forward pass**. This is summarized in the following function"
   ]
  },
  {
   "cell_type": "code",
   "execution_count": 53,
   "metadata": {
    "tags": []
   },
   "outputs": [],
   "source": [
    "import jax\n",
    "# Single neuron full function\n",
    "def loss_function(x, y, w, b):\n",
    "    # Forward pass\n",
    "    y_bar = jax.nn.sigmoid(jnp.dot(w, x.T) + b)\n",
    "    # Error computation\n",
    "    error = jnp.sum((y_bar - y) ** 2)\n",
    "    return error\n",
    "# Gradient of the loss\n",
    "grad_loss_function = jit(grad(loss_function, argnums=[2, 3]))"
   ]
  },
  {
   "cell_type": "markdown",
   "metadata": {},
   "source": [
    "Finally, we can now define the main training loop, which is almost exactly similar to the previously defined one minus the gradient computation operations. "
   ]
  },
  {
   "cell_type": "code",
   "execution_count": 54,
   "metadata": {
    "tags": []
   },
   "outputs": [
    {
     "data": {},
     "metadata": {},
     "output_type": "display_data"
    },
    {
     "data": {
      "application/vnd.holoviews_exec.v0+json": "",
      "text/html": [
       "<div id='16350'>\n",
       "  <div class=\"bk-root\" id=\"8b94df00-2476-4d5c-b88b-4c7d7684f6b8\" data-root-id=\"16350\"></div>\n",
       "</div>\n",
       "<script type=\"application/javascript\">(function(root) {\n",
       "  function embed_document(root) {\n",
       "    var docs_json = {\"f3135506-46dc-4dd1-a835-3a0afaddfc7c\":{\"defs\":[{\"extends\":null,\"module\":null,\"name\":\"ReactiveHTML1\",\"overrides\":[],\"properties\":[]},{\"extends\":null,\"module\":null,\"name\":\"FlexBox1\",\"overrides\":[],\"properties\":[{\"default\":\"flex-start\",\"kind\":null,\"name\":\"align_content\"},{\"default\":\"flex-start\",\"kind\":null,\"name\":\"align_items\"},{\"default\":\"row\",\"kind\":null,\"name\":\"flex_direction\"},{\"default\":\"wrap\",\"kind\":null,\"name\":\"flex_wrap\"},{\"default\":\"flex-start\",\"kind\":null,\"name\":\"justify_content\"}]},{\"extends\":null,\"module\":null,\"name\":\"GridStack1\",\"overrides\":[],\"properties\":[{\"default\":\"warn\",\"kind\":null,\"name\":\"mode\"},{\"default\":null,\"kind\":null,\"name\":\"ncols\"},{\"default\":null,\"kind\":null,\"name\":\"nrows\"},{\"default\":true,\"kind\":null,\"name\":\"allow_resize\"},{\"default\":true,\"kind\":null,\"name\":\"allow_drag\"},{\"default\":[],\"kind\":null,\"name\":\"state\"}]},{\"extends\":null,\"module\":null,\"name\":\"click1\",\"overrides\":[],\"properties\":[{\"default\":\"\",\"kind\":null,\"name\":\"terminal_output\"},{\"default\":\"\",\"kind\":null,\"name\":\"debug_name\"},{\"default\":0,\"kind\":null,\"name\":\"clears\"}]},{\"extends\":null,\"module\":null,\"name\":\"NotificationAreaBase1\",\"overrides\":[],\"properties\":[{\"default\":\"bottom-right\",\"kind\":null,\"name\":\"position\"},{\"default\":0,\"kind\":null,\"name\":\"_clear\"}]},{\"extends\":null,\"module\":null,\"name\":\"NotificationArea1\",\"overrides\":[],\"properties\":[{\"default\":[],\"kind\":null,\"name\":\"notifications\"},{\"default\":\"bottom-right\",\"kind\":null,\"name\":\"position\"},{\"default\":0,\"kind\":null,\"name\":\"_clear\"},{\"default\":[{\"background\":\"#ffc107\",\"icon\":{\"className\":\"fas fa-exclamation-triangle\",\"color\":\"white\",\"tagName\":\"i\"},\"type\":\"warning\"},{\"background\":\"#007bff\",\"icon\":{\"className\":\"fas fa-info-circle\",\"color\":\"white\",\"tagName\":\"i\"},\"type\":\"info\"}],\"kind\":null,\"name\":\"types\"}]},{\"extends\":null,\"module\":null,\"name\":\"Notification\",\"overrides\":[],\"properties\":[{\"default\":null,\"kind\":null,\"name\":\"background\"},{\"default\":3000,\"kind\":null,\"name\":\"duration\"},{\"default\":null,\"kind\":null,\"name\":\"icon\"},{\"default\":\"\",\"kind\":null,\"name\":\"message\"},{\"default\":null,\"kind\":null,\"name\":\"notification_type\"},{\"default\":false,\"kind\":null,\"name\":\"_destroyed\"}]},{\"extends\":null,\"module\":null,\"name\":\"TemplateActions1\",\"overrides\":[],\"properties\":[{\"default\":0,\"kind\":null,\"name\":\"open_modal\"},{\"default\":0,\"kind\":null,\"name\":\"close_modal\"}]},{\"extends\":null,\"module\":null,\"name\":\"MaterialTemplateActions1\",\"overrides\":[],\"properties\":[{\"default\":0,\"kind\":null,\"name\":\"open_modal\"},{\"default\":0,\"kind\":null,\"name\":\"close_modal\"}]}],\"roots\":{\"references\":[{\"attributes\":{\"line_color\":\"#380499\",\"line_dash\":[6],\"line_width\":4,\"x\":{\"field\":\"x\"},\"y\":{\"field\":\"y\"}},\"id\":\"16075\",\"type\":\"Line\"},{\"attributes\":{},\"id\":\"16379\",\"type\":\"UnionRenderers\"},{\"attributes\":{\"source\":{\"id\":\"16062\"}},\"id\":\"16067\",\"type\":\"CDSView\"},{\"attributes\":{},\"id\":\"16417\",\"type\":\"UnionRenderers\"},{\"attributes\":{\"line_color\":\"#2F0495\",\"line_dash\":[6],\"line_width\":4,\"x\":{\"field\":\"x\"},\"y\":{\"field\":\"y\"}},\"id\":\"16069\",\"type\":\"Line\"},{\"attributes\":{},\"id\":\"16380\",\"type\":\"Selection\"},{\"attributes\":{\"source\":{\"id\":\"16068\"}},\"id\":\"16073\",\"type\":\"CDSView\"},{\"attributes\":{},\"id\":\"16455\",\"type\":\"UnionRenderers\"},{\"attributes\":{},\"id\":\"16418\",\"type\":\"Selection\"},{\"attributes\":{\"data\":{\"x\":{\"__ndarray__\":\"fv/G3/Jl77+OFcbf4VrvPw==\",\"dtype\":\"float64\",\"order\":\"little\",\"shape\":[2]},\"y\":{\"__ndarray__\":\"feqct3X/GMBMYcUK0UMwQA==\",\"dtype\":\"float64\",\"order\":\"little\",\"shape\":[2]}},\"selected\":{\"id\":\"16368\"},\"selection_policy\":{\"id\":\"16367\"}},\"id\":\"16068\",\"type\":\"ColumnDataSource\"},{\"attributes\":{\"source\":{\"id\":\"16074\"}},\"id\":\"16079\",\"type\":\"CDSView\"},{\"attributes\":{\"coordinates\":null,\"data_source\":{\"id\":\"16068\"},\"glyph\":{\"id\":\"16069\"},\"group\":null,\"hover_glyph\":null,\"muted_glyph\":{\"id\":\"16071\"},\"nonselection_glyph\":{\"id\":\"16070\"},\"view\":{\"id\":\"16073\"}},\"id\":\"16072\",\"type\":\"GlyphRenderer\"},{\"attributes\":{},\"id\":\"16456\",\"type\":\"Selection\"},{\"attributes\":{\"line_alpha\":0.2,\"line_color\":\"#2F0495\",\"line_dash\":[6],\"line_width\":4,\"x\":{\"field\":\"x\"},\"y\":{\"field\":\"y\"}},\"id\":\"16071\",\"type\":\"Line\"},{\"attributes\":{\"line_alpha\":0.1,\"line_color\":\"#2F0495\",\"line_dash\":[6],\"line_width\":4,\"x\":{\"field\":\"x\"},\"y\":{\"field\":\"y\"}},\"id\":\"16070\",\"type\":\"Line\"},{\"attributes\":{\"children\":[{\"id\":\"16351\"},{\"id\":\"15996\"},{\"id\":\"16572\"}],\"margin\":[0,0,0,0],\"name\":\"Row00283\"},\"id\":\"16350\",\"type\":\"Row\"},{\"attributes\":{\"data\":{\"x\":{\"__ndarray__\":\"fv/G3/Jl77+OFcbf4VrvPw==\",\"dtype\":\"float64\",\"order\":\"little\",\"shape\":[2]},\"y\":{\"__ndarray__\":\"mQRCoEJYBMDNycWBQccTQA==\",\"dtype\":\"float64\",\"order\":\"little\",\"shape\":[2]}},\"selected\":{\"id\":\"16374\"},\"selection_policy\":{\"id\":\"16373\"}},\"id\":\"16086\",\"type\":\"ColumnDataSource\"},{\"attributes\":{\"margin\":[5,5,5,5],\"name\":\"HSpacer00280\",\"sizing_mode\":\"stretch_width\"},\"id\":\"16572\",\"type\":\"Spacer\"},{\"attributes\":{\"data\":{\"x\":{\"__ndarray__\":\"fv/G3/Jl77+OFcbf4VrvPw==\",\"dtype\":\"float64\",\"order\":\"little\",\"shape\":[2]},\"y\":{\"__ndarray__\":\"D6GM7gnfDcCMbo/uGgkhQA==\",\"dtype\":\"float64\",\"order\":\"little\",\"shape\":[2]}},\"selected\":{\"id\":\"16370\"},\"selection_policy\":{\"id\":\"16369\"}},\"id\":\"16074\",\"type\":\"ColumnDataSource\"},{\"attributes\":{\"margin\":[5,5,5,5],\"name\":\"HSpacer00279\",\"sizing_mode\":\"stretch_width\"},\"id\":\"16351\",\"type\":\"Spacer\"},{\"attributes\":{\"source\":{\"id\":\"16086\"}},\"id\":\"16091\",\"type\":\"CDSView\"},{\"attributes\":{\"coordinates\":null,\"data_source\":{\"id\":\"16074\"},\"glyph\":{\"id\":\"16075\"},\"group\":null,\"hover_glyph\":null,\"muted_glyph\":{\"id\":\"16077\"},\"nonselection_glyph\":{\"id\":\"16076\"},\"view\":{\"id\":\"16079\"}},\"id\":\"16078\",\"type\":\"GlyphRenderer\"},{\"attributes\":{\"line_color\":\"#42039D\",\"line_dash\":[6],\"line_width\":4,\"x\":{\"field\":\"x\"},\"y\":{\"field\":\"y\"}},\"id\":\"16081\",\"type\":\"Line\"},{\"attributes\":{\"line_alpha\":0.2,\"line_color\":\"#380499\",\"line_dash\":[6],\"line_width\":4,\"x\":{\"field\":\"x\"},\"y\":{\"field\":\"y\"}},\"id\":\"16077\",\"type\":\"Line\"},{\"attributes\":{\"line_alpha\":0.1,\"line_color\":\"#380499\",\"line_dash\":[6],\"line_width\":4,\"x\":{\"field\":\"x\"},\"y\":{\"field\":\"y\"}},\"id\":\"16076\",\"type\":\"Line\"},{\"attributes\":{\"data\":{\"x\":{\"__ndarray__\":\"fv/G3/Jl77+OFcbf4VrvPw==\",\"dtype\":\"float64\",\"order\":\"little\",\"shape\":[2]},\"y\":{\"__ndarray__\":\"jB0k3wWAB8Av6pS6dW4YQA==\",\"dtype\":\"float64\",\"order\":\"little\",\"shape\":[2]}},\"selected\":{\"id\":\"16372\"},\"selection_policy\":{\"id\":\"16371\"}},\"id\":\"16080\",\"type\":\"ColumnDataSource\"},{\"attributes\":{},\"id\":\"16381\",\"type\":\"UnionRenderers\"},{\"attributes\":{},\"id\":\"16005\",\"type\":\"LinearScale\"},{\"attributes\":{},\"id\":\"16419\",\"type\":\"UnionRenderers\"},{\"attributes\":{\"source\":{\"id\":\"16092\"}},\"id\":\"16097\",\"type\":\"CDSView\"},{\"attributes\":{\"client_comm_id\":\"351d366c0fe743828fb7973aa1a935d3\",\"comm_id\":\"7cf37cbd10ce4964a75655648ec5559b\",\"plot_id\":\"16350\"},\"id\":\"16903\",\"type\":\"panel.models.comm_manager.CommManager\"},{\"attributes\":{\"coordinates\":null,\"data_source\":{\"id\":\"16080\"},\"glyph\":{\"id\":\"16081\"},\"group\":null,\"hover_glyph\":null,\"muted_glyph\":{\"id\":\"16083\"},\"nonselection_glyph\":{\"id\":\"16082\"},\"view\":{\"id\":\"16085\"}},\"id\":\"16084\",\"type\":\"GlyphRenderer\"},{\"attributes\":{},\"id\":\"16382\",\"type\":\"Selection\"},{\"attributes\":{},\"id\":\"16457\",\"type\":\"UnionRenderers\"},{\"attributes\":{},\"id\":\"16420\",\"type\":\"Selection\"},{\"attributes\":{\"line_alpha\":0.2,\"line_color\":\"#42039D\",\"line_dash\":[6],\"line_width\":4,\"x\":{\"field\":\"x\"},\"y\":{\"field\":\"y\"}},\"id\":\"16083\",\"type\":\"Line\"},{\"attributes\":{\"line_alpha\":0.1,\"line_color\":\"#42039D\",\"line_dash\":[6],\"line_width\":4,\"x\":{\"field\":\"x\"},\"y\":{\"field\":\"y\"}},\"id\":\"16082\",\"type\":\"Line\"},{\"attributes\":{\"coordinates\":null,\"data_source\":{\"id\":\"16086\"},\"glyph\":{\"id\":\"16087\"},\"group\":null,\"hover_glyph\":null,\"muted_glyph\":{\"id\":\"16089\"},\"nonselection_glyph\":{\"id\":\"16088\"},\"view\":{\"id\":\"16091\"}},\"id\":\"16090\",\"type\":\"GlyphRenderer\"},{\"attributes\":{},\"id\":\"16458\",\"type\":\"Selection\"},{\"attributes\":{\"line_color\":\"#5201A3\",\"line_dash\":[6],\"line_width\":4,\"x\":{\"field\":\"x\"},\"y\":{\"field\":\"y\"}},\"id\":\"16093\",\"type\":\"Line\"},{\"attributes\":{\"line_alpha\":0.2,\"line_color\":\"#4A02A0\",\"line_dash\":[6],\"line_width\":4,\"x\":{\"field\":\"x\"},\"y\":{\"field\":\"y\"}},\"id\":\"16089\",\"type\":\"Line\"},{\"attributes\":{\"line_alpha\":0.1,\"line_color\":\"#4A02A0\",\"line_dash\":[6],\"line_width\":4,\"x\":{\"field\":\"x\"},\"y\":{\"field\":\"y\"}},\"id\":\"16088\",\"type\":\"Line\"},{\"attributes\":{\"line_color\":\"#5A00A5\",\"line_dash\":[6],\"line_width\":4,\"x\":{\"field\":\"x\"},\"y\":{\"field\":\"y\"}},\"id\":\"16099\",\"type\":\"Line\"},{\"attributes\":{\"data\":{\"x\":{\"__ndarray__\":\"fv/G3/Jl77+OFcbf4VrvPw==\",\"dtype\":\"float64\",\"order\":\"little\",\"shape\":[2]},\"y\":{\"__ndarray__\":\"ec2K4DxyAsDiY1nqBhARQA==\",\"dtype\":\"float64\",\"order\":\"little\",\"shape\":[2]}},\"selected\":{\"id\":\"16376\"},\"selection_policy\":{\"id\":\"16375\"}},\"id\":\"16092\",\"type\":\"ColumnDataSource\"},{\"attributes\":{\"source\":{\"id\":\"16098\"}},\"id\":\"16103\",\"type\":\"CDSView\"},{\"attributes\":{\"coordinates\":null,\"data_source\":{\"id\":\"16092\"},\"glyph\":{\"id\":\"16093\"},\"group\":null,\"hover_glyph\":null,\"muted_glyph\":{\"id\":\"16095\"},\"nonselection_glyph\":{\"id\":\"16094\"},\"view\":{\"id\":\"16097\"}},\"id\":\"16096\",\"type\":\"GlyphRenderer\"},{\"attributes\":{\"line_alpha\":0.2,\"line_color\":\"#5201A3\",\"line_dash\":[6],\"line_width\":4,\"x\":{\"field\":\"x\"},\"y\":{\"field\":\"y\"}},\"id\":\"16095\",\"type\":\"Line\"},{\"attributes\":{\"line_alpha\":0.1,\"line_color\":\"#5201A3\",\"line_dash\":[6],\"line_width\":4,\"x\":{\"field\":\"x\"},\"y\":{\"field\":\"y\"}},\"id\":\"16094\",\"type\":\"Line\"},{\"attributes\":{},\"id\":\"16383\",\"type\":\"UnionRenderers\"},{\"attributes\":{\"line_color\":\"#6200A6\",\"line_dash\":[6],\"line_width\":4,\"x\":{\"field\":\"x\"},\"y\":{\"field\":\"y\"}},\"id\":\"16105\",\"type\":\"Line\"},{\"attributes\":{},\"id\":\"16421\",\"type\":\"UnionRenderers\"},{\"attributes\":{\"data\":{\"x\":{\"__ndarray__\":\"fv/G3/Jl77+OFcbf4VrvPw==\",\"dtype\":\"float64\",\"order\":\"little\",\"shape\":[2]},\"y\":{\"__ndarray__\":\"VPM7RNwrAcB39LmiC5gOQA==\",\"dtype\":\"float64\",\"order\":\"little\",\"shape\":[2]}},\"selected\":{\"id\":\"16378\"},\"selection_policy\":{\"id\":\"16377\"}},\"id\":\"16098\",\"type\":\"ColumnDataSource\"},{\"attributes\":{\"source\":{\"id\":\"16104\"}},\"id\":\"16109\",\"type\":\"CDSView\"},{\"attributes\":{},\"id\":\"16384\",\"type\":\"Selection\"},{\"attributes\":{\"coordinates\":null,\"data_source\":{\"id\":\"16098\"},\"glyph\":{\"id\":\"16099\"},\"group\":null,\"hover_glyph\":null,\"muted_glyph\":{\"id\":\"16101\"},\"nonselection_glyph\":{\"id\":\"16100\"},\"view\":{\"id\":\"16103\"}},\"id\":\"16102\",\"type\":\"GlyphRenderer\"},{\"attributes\":{},\"id\":\"16459\",\"type\":\"UnionRenderers\"},{\"attributes\":{},\"id\":\"16422\",\"type\":\"Selection\"},{\"attributes\":{\"line_alpha\":0.2,\"line_color\":\"#5A00A5\",\"line_dash\":[6],\"line_width\":4,\"x\":{\"field\":\"x\"},\"y\":{\"field\":\"y\"}},\"id\":\"16101\",\"type\":\"Line\"},{\"attributes\":{\"line_alpha\":0.1,\"line_color\":\"#5A00A5\",\"line_dash\":[6],\"line_width\":4,\"x\":{\"field\":\"x\"},\"y\":{\"field\":\"y\"}},\"id\":\"16100\",\"type\":\"Line\"},{\"attributes\":{},\"id\":\"16460\",\"type\":\"Selection\"},{\"attributes\":{\"line_color\":\"#6C00A8\",\"line_dash\":[6],\"line_width\":4,\"x\":{\"field\":\"x\"},\"y\":{\"field\":\"y\"}},\"id\":\"16111\",\"type\":\"Line\"},{\"attributes\":{\"data\":{\"x\":{\"__ndarray__\":\"fv/G3/Jl77+OFcbf4VrvPw==\",\"dtype\":\"float64\",\"order\":\"little\",\"shape\":[2]},\"y\":{\"__ndarray__\":\"CBIZJdFAAMDFBAtXlyEMQA==\",\"dtype\":\"float64\",\"order\":\"little\",\"shape\":[2]}},\"selected\":{\"id\":\"16380\"},\"selection_policy\":{\"id\":\"16379\"}},\"id\":\"16104\",\"type\":\"ColumnDataSource\"},{\"attributes\":{\"source\":{\"id\":\"16110\"}},\"id\":\"16115\",\"type\":\"CDSView\"},{\"attributes\":{\"coordinates\":null,\"data_source\":{\"id\":\"16104\"},\"glyph\":{\"id\":\"16105\"},\"group\":null,\"hover_glyph\":null,\"muted_glyph\":{\"id\":\"16107\"},\"nonselection_glyph\":{\"id\":\"16106\"},\"view\":{\"id\":\"16109\"}},\"id\":\"16108\",\"type\":\"GlyphRenderer\"},{\"attributes\":{\"line_alpha\":0.2,\"line_color\":\"#6200A6\",\"line_dash\":[6],\"line_width\":4,\"x\":{\"field\":\"x\"},\"y\":{\"field\":\"y\"}},\"id\":\"16107\",\"type\":\"Line\"},{\"attributes\":{\"line_alpha\":0.1,\"line_color\":\"#6200A6\",\"line_dash\":[6],\"line_width\":4,\"x\":{\"field\":\"x\"},\"y\":{\"field\":\"y\"}},\"id\":\"16106\",\"type\":\"Line\"},{\"attributes\":{\"line_color\":\"#7300A8\",\"line_dash\":[6],\"line_width\":4,\"x\":{\"field\":\"x\"},\"y\":{\"field\":\"y\"}},\"id\":\"16117\",\"type\":\"Line\"},{\"attributes\":{\"data\":{\"x\":{\"__ndarray__\":\"fv/G3/Jl77+OFcbf4VrvPw==\",\"dtype\":\"float64\",\"order\":\"little\",\"shape\":[2]},\"y\":{\"__ndarray__\":\"6+upL3se/7/jEw4XnVMKQA==\",\"dtype\":\"float64\",\"order\":\"little\",\"shape\":[2]}},\"selected\":{\"id\":\"16382\"},\"selection_policy\":{\"id\":\"16381\"}},\"id\":\"16110\",\"type\":\"ColumnDataSource\"},{\"attributes\":{},\"id\":\"16018\",\"type\":\"SaveTool\"},{\"attributes\":{\"source\":{\"id\":\"16116\"}},\"id\":\"16121\",\"type\":\"CDSView\"},{\"attributes\":{\"coordinates\":null,\"data_source\":{\"id\":\"16110\"},\"glyph\":{\"id\":\"16111\"},\"group\":null,\"hover_glyph\":null,\"muted_glyph\":{\"id\":\"16113\"},\"nonselection_glyph\":{\"id\":\"16112\"},\"view\":{\"id\":\"16115\"}},\"id\":\"16114\",\"type\":\"GlyphRenderer\"},{\"attributes\":{\"overlay\":{\"id\":\"16021\"}},\"id\":\"16017\",\"type\":\"BoxZoomTool\"},{\"attributes\":{},\"id\":\"16385\",\"type\":\"UnionRenderers\"},{\"attributes\":{},\"id\":\"16423\",\"type\":\"UnionRenderers\"},{\"attributes\":{\"line_alpha\":0.2,\"line_color\":\"#6C00A8\",\"line_dash\":[6],\"line_width\":4,\"x\":{\"field\":\"x\"},\"y\":{\"field\":\"y\"}},\"id\":\"16113\",\"type\":\"Line\"},{\"attributes\":{\"line_alpha\":0.1,\"line_color\":\"#6C00A8\",\"line_dash\":[6],\"line_width\":4,\"x\":{\"field\":\"x\"},\"y\":{\"field\":\"y\"}},\"id\":\"16112\",\"type\":\"Line\"},{\"attributes\":{},\"id\":\"16386\",\"type\":\"Selection\"},{\"attributes\":{\"line_color\":\"#7B02A8\",\"line_dash\":[6],\"line_width\":4,\"x\":{\"field\":\"x\"},\"y\":{\"field\":\"y\"}},\"id\":\"16123\",\"type\":\"Line\"},{\"attributes\":{},\"id\":\"16424\",\"type\":\"Selection\"},{\"attributes\":{\"data\":{\"x\":{\"__ndarray__\":\"fv/G3/Jl77+OFcbf4VrvPw==\",\"dtype\":\"float64\",\"order\":\"little\",\"shape\":[2]},\"y\":{\"__ndarray__\":\"8O2pJboI/r9cwnL7YfQIQA==\",\"dtype\":\"float64\",\"order\":\"little\",\"shape\":[2]}},\"selected\":{\"id\":\"16384\"},\"selection_policy\":{\"id\":\"16383\"}},\"id\":\"16116\",\"type\":\"ColumnDataSource\"},{\"attributes\":{\"source\":{\"id\":\"16122\"}},\"id\":\"16127\",\"type\":\"CDSView\"},{\"attributes\":{\"coordinates\":null,\"data_source\":{\"id\":\"16116\"},\"glyph\":{\"id\":\"16117\"},\"group\":null,\"hover_glyph\":null,\"muted_glyph\":{\"id\":\"16119\"},\"nonselection_glyph\":{\"id\":\"16118\"},\"view\":{\"id\":\"16121\"}},\"id\":\"16120\",\"type\":\"GlyphRenderer\"},{\"attributes\":{\"line_alpha\":0.2,\"line_color\":\"#7300A8\",\"line_dash\":[6],\"line_width\":4,\"x\":{\"field\":\"x\"},\"y\":{\"field\":\"y\"}},\"id\":\"16119\",\"type\":\"Line\"},{\"attributes\":{\"line_alpha\":0.1,\"line_color\":\"#7300A8\",\"line_dash\":[6],\"line_width\":4,\"x\":{\"field\":\"x\"},\"y\":{\"field\":\"y\"}},\"id\":\"16118\",\"type\":\"Line\"},{\"attributes\":{\"line_color\":\"#8204A7\",\"line_dash\":[6],\"line_width\":4,\"x\":{\"field\":\"x\"},\"y\":{\"field\":\"y\"}},\"id\":\"16129\",\"type\":\"Line\"},{\"attributes\":{\"data\":{\"x\":{\"__ndarray__\":\"fv/G3/Jl77+OFcbf4VrvPw==\",\"dtype\":\"float64\",\"order\":\"little\",\"shape\":[2]},\"y\":{\"__ndarray__\":\"3m+Tvcsp/b8dQm0sneEHQA==\",\"dtype\":\"float64\",\"order\":\"little\",\"shape\":[2]}},\"selected\":{\"id\":\"16386\"},\"selection_policy\":{\"id\":\"16385\"}},\"id\":\"16122\",\"type\":\"ColumnDataSource\"},{\"attributes\":{\"source\":{\"id\":\"16128\"}},\"id\":\"16133\",\"type\":\"CDSView\"},{\"attributes\":{\"coordinates\":null,\"data_source\":{\"id\":\"16122\"},\"glyph\":{\"id\":\"16123\"},\"group\":null,\"hover_glyph\":null,\"muted_glyph\":{\"id\":\"16125\"},\"nonselection_glyph\":{\"id\":\"16124\"},\"view\":{\"id\":\"16127\"}},\"id\":\"16126\",\"type\":\"GlyphRenderer\"},{\"attributes\":{\"line_alpha\":0.2,\"line_color\":\"#7B02A8\",\"line_dash\":[6],\"line_width\":4,\"x\":{\"field\":\"x\"},\"y\":{\"field\":\"y\"}},\"id\":\"16125\",\"type\":\"Line\"},{\"attributes\":{\"line_alpha\":0.1,\"line_color\":\"#7B02A8\",\"line_dash\":[6],\"line_width\":4,\"x\":{\"field\":\"x\"},\"y\":{\"field\":\"y\"}},\"id\":\"16124\",\"type\":\"Line\"},{\"attributes\":{\"line_color\":\"#8908A5\",\"line_dash\":[6],\"line_width\":4,\"x\":{\"field\":\"x\"},\"y\":{\"field\":\"y\"}},\"id\":\"16135\",\"type\":\"Line\"},{\"attributes\":{},\"id\":\"16387\",\"type\":\"UnionRenderers\"},{\"attributes\":{\"data\":{\"x\":{\"__ndarray__\":\"fv/G3/Jl77+OFcbf4VrvPw==\",\"dtype\":\"float64\",\"order\":\"little\",\"shape\":[2]},\"y\":{\"__ndarray__\":\"xuY0zTtz/L89m2DstAUHQA==\",\"dtype\":\"float64\",\"order\":\"little\",\"shape\":[2]}},\"selected\":{\"id\":\"16388\"},\"selection_policy\":{\"id\":\"16387\"}},\"id\":\"16128\",\"type\":\"ColumnDataSource\"},{\"attributes\":{},\"id\":\"16425\",\"type\":\"UnionRenderers\"},{\"attributes\":{\"source\":{\"id\":\"16134\"}},\"id\":\"16139\",\"type\":\"CDSView\"},{\"attributes\":{\"coordinates\":null,\"data_source\":{\"id\":\"16128\"},\"glyph\":{\"id\":\"16129\"},\"group\":null,\"hover_glyph\":null,\"muted_glyph\":{\"id\":\"16131\"},\"nonselection_glyph\":{\"id\":\"16130\"},\"view\":{\"id\":\"16133\"}},\"id\":\"16132\",\"type\":\"GlyphRenderer\"},{\"attributes\":{},\"id\":\"16388\",\"type\":\"Selection\"},{\"attributes\":{},\"id\":\"16426\",\"type\":\"Selection\"},{\"attributes\":{\"line_alpha\":0.2,\"line_color\":\"#8204A7\",\"line_dash\":[6],\"line_width\":4,\"x\":{\"field\":\"x\"},\"y\":{\"field\":\"y\"}},\"id\":\"16131\",\"type\":\"Line\"},{\"attributes\":{\"line_alpha\":0.1,\"line_color\":\"#8204A7\",\"line_dash\":[6],\"line_width\":4,\"x\":{\"field\":\"x\"},\"y\":{\"field\":\"y\"}},\"id\":\"16130\",\"type\":\"Line\"},{\"attributes\":{\"line_color\":\"#920FA2\",\"line_dash\":[6],\"line_width\":4,\"x\":{\"field\":\"x\"},\"y\":{\"field\":\"y\"}},\"id\":\"16141\",\"type\":\"Line\"},{\"attributes\":{\"data\":{\"x\":{\"__ndarray__\":\"fv/G3/Jl77+OFcbf4VrvPw==\",\"dtype\":\"float64\",\"order\":\"little\",\"shape\":[2]},\"y\":{\"__ndarray__\":\"wmRwu1Hb+79uA7OgZlIGQA==\",\"dtype\":\"float64\",\"order\":\"little\",\"shape\":[2]}},\"selected\":{\"id\":\"16390\"},\"selection_policy\":{\"id\":\"16389\"}},\"id\":\"16134\",\"type\":\"ColumnDataSource\"},{\"attributes\":{\"source\":{\"id\":\"16140\"}},\"id\":\"16145\",\"type\":\"CDSView\"},{\"attributes\":{\"coordinates\":null,\"data_source\":{\"id\":\"16134\"},\"glyph\":{\"id\":\"16135\"},\"group\":null,\"hover_glyph\":null,\"muted_glyph\":{\"id\":\"16137\"},\"nonselection_glyph\":{\"id\":\"16136\"},\"view\":{\"id\":\"16139\"}},\"id\":\"16138\",\"type\":\"GlyphRenderer\"},{\"attributes\":{\"line_alpha\":0.2,\"line_color\":\"#8908A5\",\"line_dash\":[6],\"line_width\":4,\"x\":{\"field\":\"x\"},\"y\":{\"field\":\"y\"}},\"id\":\"16137\",\"type\":\"Line\"},{\"attributes\":{\"line_alpha\":0.1,\"line_color\":\"#8908A5\",\"line_dash\":[6],\"line_width\":4,\"x\":{\"field\":\"x\"},\"y\":{\"field\":\"y\"}},\"id\":\"16136\",\"type\":\"Line\"},{\"attributes\":{\"line_color\":\"#99149F\",\"line_dash\":[6],\"line_width\":4,\"x\":{\"field\":\"x\"},\"y\":{\"field\":\"y\"}},\"id\":\"16147\",\"type\":\"Line\"},{\"attributes\":{\"data\":{\"x\":{\"__ndarray__\":\"fv/G3/Jl77+OFcbf4VrvPw==\",\"dtype\":\"float64\",\"order\":\"little\",\"shape\":[2]},\"y\":{\"__ndarray__\":\"oHfy7T9b+78TRHtD670FQA==\",\"dtype\":\"float64\",\"order\":\"little\",\"shape\":[2]}},\"selected\":{\"id\":\"16392\"},\"selection_policy\":{\"id\":\"16391\"}},\"id\":\"16140\",\"type\":\"ColumnDataSource\"},{\"attributes\":{\"source\":{\"id\":\"16146\"}},\"id\":\"16151\",\"type\":\"CDSView\"},{\"attributes\":{\"coordinates\":null,\"data_source\":{\"id\":\"16140\"},\"glyph\":{\"id\":\"16141\"},\"group\":null,\"hover_glyph\":null,\"muted_glyph\":{\"id\":\"16143\"},\"nonselection_glyph\":{\"id\":\"16142\"},\"view\":{\"id\":\"16145\"}},\"id\":\"16144\",\"type\":\"GlyphRenderer\"},{\"attributes\":{\"tools\":[{\"id\":\"16015\"},{\"id\":\"16016\"},{\"id\":\"16017\"},{\"id\":\"16018\"},{\"id\":\"16019\"},{\"id\":\"16020\"}]},\"id\":\"16022\",\"type\":\"Toolbar\"},{\"attributes\":{},\"id\":\"16389\",\"type\":\"UnionRenderers\"},{\"attributes\":{\"line_alpha\":0.2,\"line_color\":\"#920FA2\",\"line_dash\":[6],\"line_width\":4,\"x\":{\"field\":\"x\"},\"y\":{\"field\":\"y\"}},\"id\":\"16143\",\"type\":\"Line\"},{\"attributes\":{},\"id\":\"16427\",\"type\":\"UnionRenderers\"},{\"attributes\":{\"line_alpha\":0.1,\"line_color\":\"#920FA2\",\"line_dash\":[6],\"line_width\":4,\"x\":{\"field\":\"x\"},\"y\":{\"field\":\"y\"}},\"id\":\"16142\",\"type\":\"Line\"},{\"attributes\":{\"line_color\":\"#9F1A9B\",\"line_dash\":[6],\"line_width\":4,\"x\":{\"field\":\"x\"},\"y\":{\"field\":\"y\"}},\"id\":\"16153\",\"type\":\"Line\"},{\"attributes\":{},\"id\":\"16390\",\"type\":\"Selection\"},{\"attributes\":{\"data\":{\"x\":{\"__ndarray__\":\"fv/G3/Jl77+OFcbf4VrvPw==\",\"dtype\":\"float64\",\"order\":\"little\",\"shape\":[2]},\"y\":{\"__ndarray__\":\"/qAjGBvu+r/ZxYvSV0EFQA==\",\"dtype\":\"float64\",\"order\":\"little\",\"shape\":[2]}},\"selected\":{\"id\":\"16394\"},\"selection_policy\":{\"id\":\"16393\"}},\"id\":\"16146\",\"type\":\"ColumnDataSource\"},{\"attributes\":{},\"id\":\"16428\",\"type\":\"Selection\"},{\"attributes\":{\"source\":{\"id\":\"16152\"}},\"id\":\"16157\",\"type\":\"CDSView\"},{\"attributes\":{\"coordinates\":null,\"data_source\":{\"id\":\"16146\"},\"glyph\":{\"id\":\"16147\"},\"group\":null,\"hover_glyph\":null,\"muted_glyph\":{\"id\":\"16149\"},\"nonselection_glyph\":{\"id\":\"16148\"},\"view\":{\"id\":\"16151\"}},\"id\":\"16150\",\"type\":\"GlyphRenderer\"},{\"attributes\":{\"line_alpha\":0.2,\"line_color\":\"#99149F\",\"line_dash\":[6],\"line_width\":4,\"x\":{\"field\":\"x\"},\"y\":{\"field\":\"y\"}},\"id\":\"16149\",\"type\":\"Line\"},{\"attributes\":{\"line_alpha\":0.1,\"line_color\":\"#99149F\",\"line_dash\":[6],\"line_width\":4,\"x\":{\"field\":\"x\"},\"y\":{\"field\":\"y\"}},\"id\":\"16148\",\"type\":\"Line\"},{\"attributes\":{\"line_color\":\"#A51F97\",\"line_dash\":[6],\"line_width\":4,\"x\":{\"field\":\"x\"},\"y\":{\"field\":\"y\"}},\"id\":\"16159\",\"type\":\"Line\"},{\"attributes\":{\"data\":{\"x\":{\"__ndarray__\":\"fv/G3/Jl77+OFcbf4VrvPw==\",\"dtype\":\"float64\",\"order\":\"little\",\"shape\":[2]},\"y\":{\"__ndarray__\":\"L3YHoDyQ+r+OlDIJptcEQA==\",\"dtype\":\"float64\",\"order\":\"little\",\"shape\":[2]}},\"selected\":{\"id\":\"16396\"},\"selection_policy\":{\"id\":\"16395\"}},\"id\":\"16152\",\"type\":\"ColumnDataSource\"},{\"attributes\":{\"source\":{\"id\":\"16158\"}},\"id\":\"16163\",\"type\":\"CDSView\"},{\"attributes\":{\"coordinates\":null,\"data_source\":{\"id\":\"16152\"},\"glyph\":{\"id\":\"16153\"},\"group\":null,\"hover_glyph\":null,\"muted_glyph\":{\"id\":\"16155\"},\"nonselection_glyph\":{\"id\":\"16154\"},\"view\":{\"id\":\"16157\"}},\"id\":\"16156\",\"type\":\"GlyphRenderer\"},{\"attributes\":{\"line_alpha\":0.2,\"line_color\":\"#9F1A9B\",\"line_dash\":[6],\"line_width\":4,\"x\":{\"field\":\"x\"},\"y\":{\"field\":\"y\"}},\"id\":\"16155\",\"type\":\"Line\"},{\"attributes\":{\"line_alpha\":0.1,\"line_color\":\"#9F1A9B\",\"line_dash\":[6],\"line_width\":4,\"x\":{\"field\":\"x\"},\"y\":{\"field\":\"y\"}},\"id\":\"16154\",\"type\":\"Line\"},{\"attributes\":{},\"id\":\"16015\",\"type\":\"PanTool\"},{\"attributes\":{\"line_color\":\"#AC2593\",\"line_dash\":[6],\"line_width\":4,\"x\":{\"field\":\"x\"},\"y\":{\"field\":\"y\"}},\"id\":\"16165\",\"type\":\"Line\"},{\"attributes\":{\"data\":{\"x\":{\"__ndarray__\":\"fv/G3/Jl77+OFcbf4VrvPw==\",\"dtype\":\"float64\",\"order\":\"little\",\"shape\":[2]},\"y\":{\"__ndarray__\":\"3e3Tat4++r8k8gYAGn0EQA==\",\"dtype\":\"float64\",\"order\":\"little\",\"shape\":[2]}},\"selected\":{\"id\":\"16398\"},\"selection_policy\":{\"id\":\"16397\"}},\"id\":\"16158\",\"type\":\"ColumnDataSource\"},{\"attributes\":{},\"id\":\"16391\",\"type\":\"UnionRenderers\"},{\"attributes\":{\"source\":{\"id\":\"16164\"}},\"id\":\"16169\",\"type\":\"CDSView\"},{\"attributes\":{},\"id\":\"16429\",\"type\":\"UnionRenderers\"},{\"attributes\":{\"coordinates\":null,\"data_source\":{\"id\":\"16158\"},\"glyph\":{\"id\":\"16159\"},\"group\":null,\"hover_glyph\":null,\"muted_glyph\":{\"id\":\"16161\"},\"nonselection_glyph\":{\"id\":\"16160\"},\"view\":{\"id\":\"16163\"}},\"id\":\"16162\",\"type\":\"GlyphRenderer\"},{\"attributes\":{},\"id\":\"16392\",\"type\":\"Selection\"},{\"attributes\":{\"line_alpha\":0.2,\"line_color\":\"#A51F97\",\"line_dash\":[6],\"line_width\":4,\"x\":{\"field\":\"x\"},\"y\":{\"field\":\"y\"}},\"id\":\"16161\",\"type\":\"Line\"},{\"attributes\":{},\"id\":\"16430\",\"type\":\"Selection\"},{\"attributes\":{\"line_alpha\":0.1,\"line_color\":\"#A51F97\",\"line_dash\":[6],\"line_width\":4,\"x\":{\"field\":\"x\"},\"y\":{\"field\":\"y\"}},\"id\":\"16160\",\"type\":\"Line\"},{\"attributes\":{},\"id\":\"16020\",\"type\":\"HelpTool\"},{\"attributes\":{\"line_color\":\"#B22C8E\",\"line_dash\":[6],\"line_width\":4,\"x\":{\"field\":\"x\"},\"y\":{\"field\":\"y\"}},\"id\":\"16171\",\"type\":\"Line\"},{\"attributes\":{},\"id\":\"16016\",\"type\":\"WheelZoomTool\"},{\"attributes\":{\"data\":{\"x\":{\"__ndarray__\":\"fv/G3/Jl77+OFcbf4VrvPw==\",\"dtype\":\"float64\",\"order\":\"little\",\"shape\":[2]},\"y\":{\"__ndarray__\":\"dWnhy9r3+b/IeLd33y4EQA==\",\"dtype\":\"float64\",\"order\":\"little\",\"shape\":[2]}},\"selected\":{\"id\":\"16400\"},\"selection_policy\":{\"id\":\"16399\"}},\"id\":\"16164\",\"type\":\"ColumnDataSource\"},{\"attributes\":{\"source\":{\"id\":\"16170\"}},\"id\":\"16175\",\"type\":\"CDSView\"},{\"attributes\":{\"coordinates\":null,\"data_source\":{\"id\":\"16164\"},\"glyph\":{\"id\":\"16165\"},\"group\":null,\"hover_glyph\":null,\"muted_glyph\":{\"id\":\"16167\"},\"nonselection_glyph\":{\"id\":\"16166\"},\"view\":{\"id\":\"16169\"}},\"id\":\"16168\",\"type\":\"GlyphRenderer\"},{\"attributes\":{\"line_alpha\":0.2,\"line_color\":\"#AC2593\",\"line_dash\":[6],\"line_width\":4,\"x\":{\"field\":\"x\"},\"y\":{\"field\":\"y\"}},\"id\":\"16167\",\"type\":\"Line\"},{\"attributes\":{},\"id\":\"16012\",\"type\":\"BasicTicker\"},{\"attributes\":{\"line_alpha\":0.1,\"line_color\":\"#AC2593\",\"line_dash\":[6],\"line_width\":4,\"x\":{\"field\":\"x\"},\"y\":{\"field\":\"y\"}},\"id\":\"16166\",\"type\":\"Line\"},{\"attributes\":{\"line_color\":\"#B83289\",\"line_dash\":[6],\"line_width\":4,\"x\":{\"field\":\"x\"},\"y\":{\"field\":\"y\"}},\"id\":\"16177\",\"type\":\"Line\"},{\"attributes\":{\"data\":{\"x\":{\"__ndarray__\":\"fv/G3/Jl77+OFcbf4VrvPw==\",\"dtype\":\"float64\",\"order\":\"little\",\"shape\":[2]},\"y\":{\"__ndarray__\":\"N0XSpIC5+b/NB3zfx+oDQA==\",\"dtype\":\"float64\",\"order\":\"little\",\"shape\":[2]}},\"selected\":{\"id\":\"16402\"},\"selection_policy\":{\"id\":\"16401\"}},\"id\":\"16170\",\"type\":\"ColumnDataSource\"},{\"attributes\":{\"source\":{\"id\":\"16176\"}},\"id\":\"16181\",\"type\":\"CDSView\"},{\"attributes\":{\"coordinates\":null,\"data_source\":{\"id\":\"16170\"},\"glyph\":{\"id\":\"16171\"},\"group\":null,\"hover_glyph\":null,\"muted_glyph\":{\"id\":\"16173\"},\"nonselection_glyph\":{\"id\":\"16172\"},\"view\":{\"id\":\"16175\"}},\"id\":\"16174\",\"type\":\"GlyphRenderer\"},{\"attributes\":{\"axis_label\":\"y\",\"axis_label_standoff\":10,\"axis_label_text_color\":\"#FFFFFF\",\"axis_label_text_font\":\"Josefin Sans\",\"axis_label_text_font_size\":\"1.9em\",\"axis_label_text_font_style\":\"bold\",\"axis_line_alpha\":0.4,\"axis_line_color\":\"#E0E0E0\",\"coordinates\":null,\"formatter\":{\"id\":\"16038\"},\"group\":null,\"major_label_policy\":{\"id\":\"16039\"},\"major_label_text_color\":\"#E0E0E0\",\"major_label_text_font\":\"Josefin Sans\",\"major_label_text_font_size\":\"1.15em\",\"major_tick_line_alpha\":0.4,\"major_tick_line_color\":\"#E0E0E0\",\"minor_tick_line_alpha\":0.4,\"minor_tick_line_color\":\"#E0E0E0\",\"ticker\":{\"id\":\"16012\"}},\"id\":\"16011\",\"type\":\"LinearAxis\"},{\"attributes\":{\"line_alpha\":0.2,\"line_color\":\"#B22C8E\",\"line_dash\":[6],\"line_width\":4,\"x\":{\"field\":\"x\"},\"y\":{\"field\":\"y\"}},\"id\":\"16173\",\"type\":\"Line\"},{\"attributes\":{},\"id\":\"16393\",\"type\":\"UnionRenderers\"},{\"attributes\":{\"line_alpha\":0.1,\"line_color\":\"#B22C8E\",\"line_dash\":[6],\"line_width\":4,\"x\":{\"field\":\"x\"},\"y\":{\"field\":\"y\"}},\"id\":\"16172\",\"type\":\"Line\"},{\"attributes\":{},\"id\":\"16431\",\"type\":\"UnionRenderers\"},{\"attributes\":{\"line_color\":\"#BD3784\",\"line_dash\":[6],\"line_width\":4,\"x\":{\"field\":\"x\"},\"y\":{\"field\":\"y\"}},\"id\":\"16183\",\"type\":\"Line\"},{\"attributes\":{\"axis\":{\"id\":\"16011\"},\"coordinates\":null,\"dimension\":1,\"grid_line_alpha\":0.15,\"grid_line_color\":\"#E0E0E0\",\"group\":null,\"ticker\":null},\"id\":\"16014\",\"type\":\"Grid\"},{\"attributes\":{\"data\":{\"x\":{\"__ndarray__\":\"fv/G3/Jl77+OFcbf4VrvPw==\",\"dtype\":\"float64\",\"order\":\"little\",\"shape\":[2]},\"y\":{\"__ndarray__\":\"QSvegnaC+b8K5QRTHq8DQA==\",\"dtype\":\"float64\",\"order\":\"little\",\"shape\":[2]}},\"selected\":{\"id\":\"16404\"},\"selection_policy\":{\"id\":\"16403\"}},\"id\":\"16176\",\"type\":\"ColumnDataSource\"},{\"attributes\":{},\"id\":\"16394\",\"type\":\"Selection\"},{\"attributes\":{\"source\":{\"id\":\"16182\"}},\"id\":\"16187\",\"type\":\"CDSView\"},{\"attributes\":{},\"id\":\"16432\",\"type\":\"Selection\"},{\"attributes\":{\"coordinates\":null,\"data_source\":{\"id\":\"16176\"},\"glyph\":{\"id\":\"16177\"},\"group\":null,\"hover_glyph\":null,\"muted_glyph\":{\"id\":\"16179\"},\"nonselection_glyph\":{\"id\":\"16178\"},\"view\":{\"id\":\"16181\"}},\"id\":\"16180\",\"type\":\"GlyphRenderer\"},{\"attributes\":{\"line_alpha\":0.2,\"line_color\":\"#B83289\",\"line_dash\":[6],\"line_width\":4,\"x\":{\"field\":\"x\"},\"y\":{\"field\":\"y\"}},\"id\":\"16179\",\"type\":\"Line\"},{\"attributes\":{\"line_alpha\":0.1,\"line_color\":\"#B83289\",\"line_dash\":[6],\"line_width\":4,\"x\":{\"field\":\"x\"},\"y\":{\"field\":\"y\"}},\"id\":\"16178\",\"type\":\"Line\"},{\"attributes\":{\"line_color\":\"#C23D80\",\"line_dash\":[6],\"line_width\":4,\"x\":{\"field\":\"x\"},\"y\":{\"field\":\"y\"}},\"id\":\"16189\",\"type\":\"Line\"},{\"attributes\":{\"data\":{\"x\":{\"__ndarray__\":\"fv/G3/Jl77+OFcbf4VrvPw==\",\"dtype\":\"float64\",\"order\":\"little\",\"shape\":[2]},\"y\":{\"__ndarray__\":\"/i0VDaVR+b+C5q02iHoDQA==\",\"dtype\":\"float64\",\"order\":\"little\",\"shape\":[2]}},\"selected\":{\"id\":\"16406\"},\"selection_policy\":{\"id\":\"16405\"}},\"id\":\"16182\",\"type\":\"ColumnDataSource\"},{\"attributes\":{\"source\":{\"id\":\"16188\"}},\"id\":\"16193\",\"type\":\"CDSView\"},{\"attributes\":{},\"id\":\"16019\",\"type\":\"ResetTool\"},{\"attributes\":{\"coordinates\":null,\"data_source\":{\"id\":\"16182\"},\"glyph\":{\"id\":\"16183\"},\"group\":null,\"hover_glyph\":null,\"muted_glyph\":{\"id\":\"16185\"},\"nonselection_glyph\":{\"id\":\"16184\"},\"view\":{\"id\":\"16187\"}},\"id\":\"16186\",\"type\":\"GlyphRenderer\"},{\"attributes\":{\"line_alpha\":0.2,\"line_color\":\"#BD3784\",\"line_dash\":[6],\"line_width\":4,\"x\":{\"field\":\"x\"},\"y\":{\"field\":\"y\"}},\"id\":\"16185\",\"type\":\"Line\"},{\"attributes\":{\"line_alpha\":0.1,\"line_color\":\"#BD3784\",\"line_dash\":[6],\"line_width\":4,\"x\":{\"field\":\"x\"},\"y\":{\"field\":\"y\"}},\"id\":\"16184\",\"type\":\"Line\"},{\"attributes\":{\"line_color\":\"#C7427B\",\"line_dash\":[6],\"line_width\":4,\"x\":{\"field\":\"x\"},\"y\":{\"field\":\"y\"}},\"id\":\"16195\",\"type\":\"Line\"},{\"attributes\":{\"data\":{\"x\":{\"__ndarray__\":\"fv/G3/Jl77+OFcbf4VrvPw==\",\"dtype\":\"float64\",\"order\":\"little\",\"shape\":[2]},\"y\":{\"__ndarray__\":\"EXxsPCgm+b/UINuE70sDQA==\",\"dtype\":\"float64\",\"order\":\"little\",\"shape\":[2]}},\"selected\":{\"id\":\"16408\"},\"selection_policy\":{\"id\":\"16407\"}},\"id\":\"16188\",\"type\":\"ColumnDataSource\"},{\"attributes\":{\"source\":{\"id\":\"16194\"}},\"id\":\"16199\",\"type\":\"CDSView\"},{\"attributes\":{},\"id\":\"16395\",\"type\":\"UnionRenderers\"},{\"attributes\":{\"coordinates\":null,\"data_source\":{\"id\":\"16188\"},\"glyph\":{\"id\":\"16189\"},\"group\":null,\"hover_glyph\":null,\"muted_glyph\":{\"id\":\"16191\"},\"nonselection_glyph\":{\"id\":\"16190\"},\"view\":{\"id\":\"16193\"}},\"id\":\"16192\",\"type\":\"GlyphRenderer\"},{\"attributes\":{},\"id\":\"16433\",\"type\":\"UnionRenderers\"},{\"attributes\":{\"line_alpha\":0.2,\"line_color\":\"#C23D80\",\"line_dash\":[6],\"line_width\":4,\"x\":{\"field\":\"x\"},\"y\":{\"field\":\"y\"}},\"id\":\"16191\",\"type\":\"Line\"},{\"attributes\":{},\"id\":\"16396\",\"type\":\"Selection\"},{\"attributes\":{\"line_alpha\":0.1,\"line_color\":\"#C23D80\",\"line_dash\":[6],\"line_width\":4,\"x\":{\"field\":\"x\"},\"y\":{\"field\":\"y\"}},\"id\":\"16190\",\"type\":\"Line\"},{\"attributes\":{},\"id\":\"16434\",\"type\":\"Selection\"},{\"attributes\":{\"line_color\":\"#CD4975\",\"line_dash\":[6],\"line_width\":4,\"x\":{\"field\":\"x\"},\"y\":{\"field\":\"y\"}},\"id\":\"16201\",\"type\":\"Line\"},{\"attributes\":{\"data\":{\"x\":{\"__ndarray__\":\"fv/G3/Jl77+OFcbf4VrvPw==\",\"dtype\":\"float64\",\"order\":\"little\",\"shape\":[2]},\"y\":{\"__ndarray__\":\"agTEd0P/+L95MtRVciIDQA==\",\"dtype\":\"float64\",\"order\":\"little\",\"shape\":[2]}},\"selected\":{\"id\":\"16410\"},\"selection_policy\":{\"id\":\"16409\"}},\"id\":\"16194\",\"type\":\"ColumnDataSource\"},{\"attributes\":{\"source\":{\"id\":\"16200\"}},\"id\":\"16205\",\"type\":\"CDSView\"},{\"attributes\":{\"coordinates\":null,\"data_source\":{\"id\":\"16194\"},\"glyph\":{\"id\":\"16195\"},\"group\":null,\"hover_glyph\":null,\"muted_glyph\":{\"id\":\"16197\"},\"nonselection_glyph\":{\"id\":\"16196\"},\"view\":{\"id\":\"16199\"}},\"id\":\"16198\",\"type\":\"GlyphRenderer\"},{\"attributes\":{},\"id\":\"16041\",\"type\":\"BasicTickFormatter\"},{\"attributes\":{\"line_alpha\":0.2,\"line_color\":\"#C7427B\",\"line_dash\":[6],\"line_width\":4,\"x\":{\"field\":\"x\"},\"y\":{\"field\":\"y\"}},\"id\":\"16197\",\"type\":\"Line\"},{\"attributes\":{\"line_alpha\":0.1,\"line_color\":\"#C7427B\",\"line_dash\":[6],\"line_width\":4,\"x\":{\"field\":\"x\"},\"y\":{\"field\":\"y\"}},\"id\":\"16196\",\"type\":\"Line\"},{\"attributes\":{\"line_color\":\"#D14F71\",\"line_dash\":[6],\"line_width\":4,\"x\":{\"field\":\"x\"},\"y\":{\"field\":\"y\"}},\"id\":\"16207\",\"type\":\"Line\"},{\"attributes\":{\"data\":{\"x\":{\"__ndarray__\":\"fv/G3/Jl77+OFcbf4VrvPw==\",\"dtype\":\"float64\",\"order\":\"little\",\"shape\":[2]},\"y\":{\"__ndarray__\":\"8lp2Ilrc+L9LmsHbV/0CQA==\",\"dtype\":\"float64\",\"order\":\"little\",\"shape\":[2]}},\"selected\":{\"id\":\"16412\"},\"selection_policy\":{\"id\":\"16411\"}},\"id\":\"16200\",\"type\":\"ColumnDataSource\"},{\"attributes\":{\"source\":{\"id\":\"16206\"}},\"id\":\"16211\",\"type\":\"CDSView\"},{\"attributes\":{\"coordinates\":null,\"data_source\":{\"id\":\"16200\"},\"glyph\":{\"id\":\"16201\"},\"group\":null,\"hover_glyph\":null,\"muted_glyph\":{\"id\":\"16203\"},\"nonselection_glyph\":{\"id\":\"16202\"},\"view\":{\"id\":\"16205\"}},\"id\":\"16204\",\"type\":\"GlyphRenderer\"},{\"attributes\":{\"line_alpha\":0.2,\"line_color\":\"#CD4975\",\"line_dash\":[6],\"line_width\":4,\"x\":{\"field\":\"x\"},\"y\":{\"field\":\"y\"}},\"id\":\"16203\",\"type\":\"Line\"},{\"attributes\":{\"line_alpha\":0.1,\"line_color\":\"#CD4975\",\"line_dash\":[6],\"line_width\":4,\"x\":{\"field\":\"x\"},\"y\":{\"field\":\"y\"}},\"id\":\"16202\",\"type\":\"Line\"},{\"attributes\":{},\"id\":\"16397\",\"type\":\"UnionRenderers\"},{\"attributes\":{\"line_color\":\"#D6556D\",\"line_dash\":[6],\"line_width\":4,\"x\":{\"field\":\"x\"},\"y\":{\"field\":\"y\"}},\"id\":\"16213\",\"type\":\"Line\"},{\"attributes\":{},\"id\":\"16435\",\"type\":\"UnionRenderers\"},{\"attributes\":{\"data\":{\"x\":{\"__ndarray__\":\"fv/G3/Jl77+OFcbf4VrvPw==\",\"dtype\":\"float64\",\"order\":\"little\",\"shape\":[2]},\"y\":{\"__ndarray__\":\"dLpY5Oi8+L/PS4g8B9wCQA==\",\"dtype\":\"float64\",\"order\":\"little\",\"shape\":[2]}},\"selected\":{\"id\":\"16414\"},\"selection_policy\":{\"id\":\"16413\"}},\"id\":\"16206\",\"type\":\"ColumnDataSource\"},{\"attributes\":{\"source\":{\"id\":\"16212\"}},\"id\":\"16217\",\"type\":\"CDSView\"},{\"attributes\":{},\"id\":\"16398\",\"type\":\"Selection\"},{\"attributes\":{\"bottom_units\":\"screen\",\"coordinates\":null,\"fill_alpha\":0.5,\"fill_color\":\"lightgrey\",\"group\":null,\"left_units\":\"screen\",\"level\":\"overlay\",\"line_alpha\":1.0,\"line_color\":\"black\",\"line_dash\":[4,4],\"line_width\":2,\"right_units\":\"screen\",\"syncable\":false,\"top_units\":\"screen\"},\"id\":\"16021\",\"type\":\"BoxAnnotation\"},{\"attributes\":{\"coordinates\":null,\"data_source\":{\"id\":\"16206\"},\"glyph\":{\"id\":\"16207\"},\"group\":null,\"hover_glyph\":null,\"muted_glyph\":{\"id\":\"16209\"},\"nonselection_glyph\":{\"id\":\"16208\"},\"view\":{\"id\":\"16211\"}},\"id\":\"16210\",\"type\":\"GlyphRenderer\"},{\"attributes\":{},\"id\":\"16436\",\"type\":\"Selection\"},{\"attributes\":{\"line_alpha\":0.2,\"line_color\":\"#D14F71\",\"line_dash\":[6],\"line_width\":4,\"x\":{\"field\":\"x\"},\"y\":{\"field\":\"y\"}},\"id\":\"16209\",\"type\":\"Line\"},{\"attributes\":{\"line_alpha\":0.1,\"line_color\":\"#D14F71\",\"line_dash\":[6],\"line_width\":4,\"x\":{\"field\":\"x\"},\"y\":{\"field\":\"y\"}},\"id\":\"16208\",\"type\":\"Line\"},{\"attributes\":{\"line_color\":\"#DA5A68\",\"line_dash\":[6],\"line_width\":4,\"x\":{\"field\":\"x\"},\"y\":{\"field\":\"y\"}},\"id\":\"16219\",\"type\":\"Line\"},{\"attributes\":{\"data\":{\"x\":{\"__ndarray__\":\"fv/G3/Jl77+OFcbf4VrvPw==\",\"dtype\":\"float64\",\"order\":\"little\",\"shape\":[2]},\"y\":{\"__ndarray__\":\"74ealYCg+L/QgPsdAb4CQA==\",\"dtype\":\"float64\",\"order\":\"little\",\"shape\":[2]}},\"selected\":{\"id\":\"16416\"},\"selection_policy\":{\"id\":\"16415\"}},\"id\":\"16212\",\"type\":\"ColumnDataSource\"},{\"attributes\":{\"coordinates\":null,\"group\":null,\"text\":\"Observations\",\"text_color\":\"#E0E0E0\",\"text_font\":\"Josefin Sans\",\"text_font_size\":\"2.1em\"},\"id\":\"15997\",\"type\":\"Title\"},{\"attributes\":{\"source\":{\"id\":\"16218\"}},\"id\":\"16223\",\"type\":\"CDSView\"},{\"attributes\":{\"coordinates\":null,\"data_source\":{\"id\":\"16212\"},\"glyph\":{\"id\":\"16213\"},\"group\":null,\"hover_glyph\":null,\"muted_glyph\":{\"id\":\"16215\"},\"nonselection_glyph\":{\"id\":\"16214\"},\"view\":{\"id\":\"16217\"}},\"id\":\"16216\",\"type\":\"GlyphRenderer\"},{\"attributes\":{},\"id\":\"16043\",\"type\":\"UnionRenderers\"},{\"attributes\":{\"line_alpha\":0.2,\"line_color\":\"#D6556D\",\"line_dash\":[6],\"line_width\":4,\"x\":{\"field\":\"x\"},\"y\":{\"field\":\"y\"}},\"id\":\"16215\",\"type\":\"Line\"},{\"attributes\":{},\"id\":\"16361\",\"type\":\"UnionRenderers\"},{\"attributes\":{\"line_alpha\":0.1,\"line_color\":\"#D6556D\",\"line_dash\":[6],\"line_width\":4,\"x\":{\"field\":\"x\"},\"y\":{\"field\":\"y\"}},\"id\":\"16214\",\"type\":\"Line\"},{\"attributes\":{\"line_color\":\"#DE6064\",\"line_dash\":[6],\"line_width\":4,\"x\":{\"field\":\"x\"},\"y\":{\"field\":\"y\"}},\"id\":\"16225\",\"type\":\"Line\"},{\"attributes\":{\"data\":{\"x\":{\"__ndarray__\":\"fv/G3/Jl77+OFcbf4VrvPw==\",\"dtype\":\"float64\",\"order\":\"little\",\"shape\":[2]},\"y\":{\"__ndarray__\":\"5h3n08KG+L9aXNJ72qICQA==\",\"dtype\":\"float64\",\"order\":\"little\",\"shape\":[2]}},\"selected\":{\"id\":\"16418\"},\"selection_policy\":{\"id\":\"16417\"}},\"id\":\"16218\",\"type\":\"ColumnDataSource\"},{\"attributes\":{\"source\":{\"id\":\"16224\"}},\"id\":\"16229\",\"type\":\"CDSView\"},{\"attributes\":{\"coordinates\":null,\"data_source\":{\"id\":\"16218\"},\"glyph\":{\"id\":\"16219\"},\"group\":null,\"hover_glyph\":null,\"muted_glyph\":{\"id\":\"16221\"},\"nonselection_glyph\":{\"id\":\"16220\"},\"view\":{\"id\":\"16223\"}},\"id\":\"16222\",\"type\":\"GlyphRenderer\"},{\"attributes\":{},\"id\":\"16399\",\"type\":\"UnionRenderers\"},{\"attributes\":{},\"id\":\"16362\",\"type\":\"Selection\"},{\"attributes\":{},\"id\":\"16437\",\"type\":\"UnionRenderers\"},{\"attributes\":{\"line_alpha\":0.2,\"line_color\":\"#DA5A68\",\"line_dash\":[6],\"line_width\":4,\"x\":{\"field\":\"x\"},\"y\":{\"field\":\"y\"}},\"id\":\"16221\",\"type\":\"Line\"},{\"attributes\":{},\"id\":\"16038\",\"type\":\"BasicTickFormatter\"},{\"attributes\":{\"line_alpha\":0.1,\"line_color\":\"#DA5A68\",\"line_dash\":[6],\"line_width\":4,\"x\":{\"field\":\"x\"},\"y\":{\"field\":\"y\"}},\"id\":\"16220\",\"type\":\"Line\"},{\"attributes\":{},\"id\":\"16400\",\"type\":\"Selection\"},{\"attributes\":{\"line_color\":\"#E3675F\",\"line_dash\":[6],\"line_width\":4,\"x\":{\"field\":\"x\"},\"y\":{\"field\":\"y\"}},\"id\":\"16231\",\"type\":\"Line\"},{\"attributes\":{},\"id\":\"16438\",\"type\":\"Selection\"},{\"attributes\":{\"data\":{\"x\":{\"__ndarray__\":\"fv/G3/Jl77+OFcbf4VrvPw==\",\"dtype\":\"float64\",\"order\":\"little\",\"shape\":[2]},\"y\":{\"__ndarray__\":\"u5XiBF9v+L9mNQgLOYoCQA==\",\"dtype\":\"float64\",\"order\":\"little\",\"shape\":[2]}},\"selected\":{\"id\":\"16420\"},\"selection_policy\":{\"id\":\"16419\"}},\"id\":\"16224\",\"type\":\"ColumnDataSource\"},{\"attributes\":{\"source\":{\"id\":\"16230\"}},\"id\":\"16235\",\"type\":\"CDSView\"},{\"attributes\":{\"coordinates\":null,\"data_source\":{\"id\":\"16224\"},\"glyph\":{\"id\":\"16225\"},\"group\":null,\"hover_glyph\":null,\"muted_glyph\":{\"id\":\"16227\"},\"nonselection_glyph\":{\"id\":\"16226\"},\"view\":{\"id\":\"16229\"}},\"id\":\"16228\",\"type\":\"GlyphRenderer\"},{\"attributes\":{\"line_alpha\":0.2,\"line_color\":\"#DE6064\",\"line_dash\":[6],\"line_width\":4,\"x\":{\"field\":\"x\"},\"y\":{\"field\":\"y\"}},\"id\":\"16227\",\"type\":\"Line\"},{\"attributes\":{\"line_alpha\":0.1,\"line_color\":\"#DE6064\",\"line_dash\":[6],\"line_width\":4,\"x\":{\"field\":\"x\"},\"y\":{\"field\":\"y\"}},\"id\":\"16226\",\"type\":\"Line\"},{\"attributes\":{\"line_color\":\"#E66D5A\",\"line_dash\":[6],\"line_width\":4,\"x\":{\"field\":\"x\"},\"y\":{\"field\":\"y\"}},\"id\":\"16237\",\"type\":\"Line\"},{\"attributes\":{\"data\":{\"x\":{\"__ndarray__\":\"fv/G3/Jl77+OFcbf4VrvPw==\",\"dtype\":\"float64\",\"order\":\"little\",\"shape\":[2]},\"y\":{\"__ndarray__\":\"DQxCvg9a+L8iNe3mz3MCQA==\",\"dtype\":\"float64\",\"order\":\"little\",\"shape\":[2]}},\"selected\":{\"id\":\"16422\"},\"selection_policy\":{\"id\":\"16421\"}},\"id\":\"16230\",\"type\":\"ColumnDataSource\"},{\"attributes\":{\"source\":{\"id\":\"16236\"}},\"id\":\"16241\",\"type\":\"CDSView\"},{\"attributes\":{\"coordinates\":null,\"data_source\":{\"id\":\"16230\"},\"glyph\":{\"id\":\"16231\"},\"group\":null,\"hover_glyph\":null,\"muted_glyph\":{\"id\":\"16233\"},\"nonselection_glyph\":{\"id\":\"16232\"},\"view\":{\"id\":\"16235\"}},\"id\":\"16234\",\"type\":\"GlyphRenderer\"},{\"attributes\":{\"line_alpha\":0.2,\"line_color\":\"#E3675F\",\"line_dash\":[6],\"line_width\":4,\"x\":{\"field\":\"x\"},\"y\":{\"field\":\"y\"}},\"id\":\"16233\",\"type\":\"Line\"},{\"attributes\":{},\"id\":\"16363\",\"type\":\"UnionRenderers\"},{\"attributes\":{\"line_alpha\":0.1,\"line_color\":\"#E3675F\",\"line_dash\":[6],\"line_width\":4,\"x\":{\"field\":\"x\"},\"y\":{\"field\":\"y\"}},\"id\":\"16232\",\"type\":\"Line\"},{\"attributes\":{\"line_color\":\"#EA7356\",\"line_dash\":[6],\"line_width\":4,\"x\":{\"field\":\"x\"},\"y\":{\"field\":\"y\"}},\"id\":\"16243\",\"type\":\"Line\"},{\"attributes\":{},\"id\":\"16401\",\"type\":\"UnionRenderers\"},{\"attributes\":{\"data\":{\"x\":{\"__ndarray__\":\"fv/G3/Jl77+OFcbf4VrvPw==\",\"dtype\":\"float64\",\"order\":\"little\",\"shape\":[2]},\"y\":{\"__ndarray__\":\"jzM+RplG+L83LWNmXV8CQA==\",\"dtype\":\"float64\",\"order\":\"little\",\"shape\":[2]}},\"selected\":{\"id\":\"16424\"},\"selection_policy\":{\"id\":\"16423\"}},\"id\":\"16236\",\"type\":\"ColumnDataSource\"},{\"attributes\":{},\"id\":\"16364\",\"type\":\"Selection\"},{\"attributes\":{},\"id\":\"16439\",\"type\":\"UnionRenderers\"},{\"attributes\":{\"source\":{\"id\":\"16242\"}},\"id\":\"16247\",\"type\":\"CDSView\"},{\"attributes\":{\"coordinates\":null,\"data_source\":{\"id\":\"16236\"},\"glyph\":{\"id\":\"16237\"},\"group\":null,\"hover_glyph\":null,\"muted_glyph\":{\"id\":\"16239\"},\"nonselection_glyph\":{\"id\":\"16238\"},\"view\":{\"id\":\"16241\"}},\"id\":\"16240\",\"type\":\"GlyphRenderer\"},{\"attributes\":{},\"id\":\"16402\",\"type\":\"Selection\"},{\"attributes\":{},\"id\":\"16440\",\"type\":\"Selection\"},{\"attributes\":{\"line_alpha\":0.2,\"line_color\":\"#E66D5A\",\"line_dash\":[6],\"line_width\":4,\"x\":{\"field\":\"x\"},\"y\":{\"field\":\"y\"}},\"id\":\"16239\",\"type\":\"Line\"},{\"attributes\":{\"line_alpha\":0.1,\"line_color\":\"#E66D5A\",\"line_dash\":[6],\"line_width\":4,\"x\":{\"field\":\"x\"},\"y\":{\"field\":\"y\"}},\"id\":\"16238\",\"type\":\"Line\"},{\"attributes\":{\"line_color\":\"#ED7952\",\"line_dash\":[6],\"line_width\":4,\"x\":{\"field\":\"x\"},\"y\":{\"field\":\"y\"}},\"id\":\"16249\",\"type\":\"Line\"},{\"attributes\":{\"data\":{\"x\":{\"__ndarray__\":\"fv/G3/Jl77+OFcbf4VrvPw==\",\"dtype\":\"float64\",\"order\":\"little\",\"shape\":[2]},\"y\":{\"__ndarray__\":\"g/nD7sc0+L9coYk6qUwCQA==\",\"dtype\":\"float64\",\"order\":\"little\",\"shape\":[2]}},\"selected\":{\"id\":\"16426\"},\"selection_policy\":{\"id\":\"16425\"}},\"id\":\"16242\",\"type\":\"ColumnDataSource\"},{\"attributes\":{\"source\":{\"id\":\"16248\"}},\"id\":\"16253\",\"type\":\"CDSView\"},{\"attributes\":{},\"id\":\"16042\",\"type\":\"AllLabels\"},{\"attributes\":{\"coordinates\":null,\"data_source\":{\"id\":\"16242\"},\"glyph\":{\"id\":\"16243\"},\"group\":null,\"hover_glyph\":null,\"muted_glyph\":{\"id\":\"16245\"},\"nonselection_glyph\":{\"id\":\"16244\"},\"view\":{\"id\":\"16247\"}},\"id\":\"16246\",\"type\":\"GlyphRenderer\"},{\"attributes\":{\"line_alpha\":0.2,\"line_color\":\"#EA7356\",\"line_dash\":[6],\"line_width\":4,\"x\":{\"field\":\"x\"},\"y\":{\"field\":\"y\"}},\"id\":\"16245\",\"type\":\"Line\"},{\"attributes\":{\"line_alpha\":0.1,\"line_color\":\"#EA7356\",\"line_dash\":[6],\"line_width\":4,\"x\":{\"field\":\"x\"},\"y\":{\"field\":\"y\"}},\"id\":\"16244\",\"type\":\"Line\"},{\"attributes\":{\"line_color\":\"#F0804D\",\"line_dash\":[6],\"line_width\":4,\"x\":{\"field\":\"x\"},\"y\":{\"field\":\"y\"}},\"id\":\"16255\",\"type\":\"Line\"},{\"attributes\":{\"data\":{\"x\":{\"__ndarray__\":\"fv/G3/Jl77+OFcbf4VrvPw==\",\"dtype\":\"float64\",\"order\":\"little\",\"shape\":[2]},\"y\":{\"__ndarray__\":\"PHamb24k+L8Ij6h9gjsCQA==\",\"dtype\":\"float64\",\"order\":\"little\",\"shape\":[2]}},\"selected\":{\"id\":\"16428\"},\"selection_policy\":{\"id\":\"16427\"}},\"id\":\"16248\",\"type\":\"ColumnDataSource\"},{\"attributes\":{\"source\":{\"id\":\"16254\"}},\"id\":\"16259\",\"type\":\"CDSView\"},{\"attributes\":{},\"id\":\"16365\",\"type\":\"UnionRenderers\"},{\"attributes\":{\"coordinates\":null,\"data_source\":{\"id\":\"16248\"},\"glyph\":{\"id\":\"16249\"},\"group\":null,\"hover_glyph\":null,\"muted_glyph\":{\"id\":\"16251\"},\"nonselection_glyph\":{\"id\":\"16250\"},\"view\":{\"id\":\"16253\"}},\"id\":\"16252\",\"type\":\"GlyphRenderer\"},{\"attributes\":{},\"id\":\"16403\",\"type\":\"UnionRenderers\"},{\"attributes\":{\"line_alpha\":0.2,\"line_color\":\"#ED7952\",\"line_dash\":[6],\"line_width\":4,\"x\":{\"field\":\"x\"},\"y\":{\"field\":\"y\"}},\"id\":\"16251\",\"type\":\"Line\"},{\"attributes\":{},\"id\":\"16366\",\"type\":\"Selection\"},{\"attributes\":{},\"id\":\"16441\",\"type\":\"UnionRenderers\"},{\"attributes\":{\"line_alpha\":0.1,\"line_color\":\"#ED7952\",\"line_dash\":[6],\"line_width\":4,\"x\":{\"field\":\"x\"},\"y\":{\"field\":\"y\"}},\"id\":\"16250\",\"type\":\"Line\"},{\"attributes\":{\"line_color\":\"#F38748\",\"line_dash\":[6],\"line_width\":4,\"x\":{\"field\":\"x\"},\"y\":{\"field\":\"y\"}},\"id\":\"16261\",\"type\":\"Line\"},{\"attributes\":{},\"id\":\"16404\",\"type\":\"Selection\"},{\"attributes\":{\"data\":{\"x\":{\"__ndarray__\":\"fv/G3/Jl77+OFcbf4VrvPw==\",\"dtype\":\"float64\",\"order\":\"little\",\"shape\":[2]},\"y\":{\"__ndarray__\":\"SNz2IWUV+L/pus6/visCQA==\",\"dtype\":\"float64\",\"order\":\"little\",\"shape\":[2]}},\"selected\":{\"id\":\"16430\"},\"selection_policy\":{\"id\":\"16429\"}},\"id\":\"16254\",\"type\":\"ColumnDataSource\"},{\"attributes\":{},\"id\":\"16442\",\"type\":\"Selection\"},{\"attributes\":{\"source\":{\"id\":\"16260\"}},\"id\":\"16265\",\"type\":\"CDSView\"},{\"attributes\":{\"coordinates\":null,\"data_source\":{\"id\":\"16254\"},\"glyph\":{\"id\":\"16255\"},\"group\":null,\"hover_glyph\":null,\"muted_glyph\":{\"id\":\"16257\"},\"nonselection_glyph\":{\"id\":\"16256\"},\"view\":{\"id\":\"16259\"}},\"id\":\"16258\",\"type\":\"GlyphRenderer\"},{\"attributes\":{\"line_alpha\":0.2,\"line_color\":\"#F0804D\",\"line_dash\":[6],\"line_width\":4,\"x\":{\"field\":\"x\"},\"y\":{\"field\":\"y\"}},\"id\":\"16257\",\"type\":\"Line\"},{\"attributes\":{\"line_alpha\":0.1,\"line_color\":\"#F0804D\",\"line_dash\":[6],\"line_width\":4,\"x\":{\"field\":\"x\"},\"y\":{\"field\":\"y\"}},\"id\":\"16256\",\"type\":\"Line\"},{\"attributes\":{\"line_color\":\"#F68E44\",\"line_dash\":[6],\"line_width\":4,\"x\":{\"field\":\"x\"},\"y\":{\"field\":\"y\"}},\"id\":\"16267\",\"type\":\"Line\"},{\"attributes\":{\"data\":{\"x\":{\"__ndarray__\":\"fv/G3/Jl77+OFcbf4VrvPw==\",\"dtype\":\"float64\",\"order\":\"little\",\"shape\":[2]},\"y\":{\"__ndarray__\":\"fiRJpYkH+L+k37lAOR0CQA==\",\"dtype\":\"float64\",\"order\":\"little\",\"shape\":[2]}},\"selected\":{\"id\":\"16432\"},\"selection_policy\":{\"id\":\"16431\"}},\"id\":\"16260\",\"type\":\"ColumnDataSource\"},{\"attributes\":{\"source\":{\"id\":\"16266\"}},\"id\":\"16271\",\"type\":\"CDSView\"},{\"attributes\":{\"coordinates\":null,\"data_source\":{\"id\":\"16260\"},\"glyph\":{\"id\":\"16261\"},\"group\":null,\"hover_glyph\":null,\"muted_glyph\":{\"id\":\"16263\"},\"nonselection_glyph\":{\"id\":\"16262\"},\"view\":{\"id\":\"16265\"}},\"id\":\"16264\",\"type\":\"GlyphRenderer\"},{\"attributes\":{\"fill_alpha\":{\"value\":0.1},\"fill_color\":{\"field\":\"color\"},\"hatch_alpha\":{\"value\":0.1},\"hatch_color\":{\"field\":\"color\"},\"line_alpha\":{\"value\":0.1},\"line_color\":{\"value\":\"white\"},\"size\":{\"value\":10},\"x\":{\"field\":\"x\"},\"y\":{\"field\":\"y\"}},\"id\":\"16032\",\"type\":\"Circle\"},{\"attributes\":{\"line_alpha\":0.2,\"line_color\":\"#F38748\",\"line_dash\":[6],\"line_width\":4,\"x\":{\"field\":\"x\"},\"y\":{\"field\":\"y\"}},\"id\":\"16263\",\"type\":\"Line\"},{\"attributes\":{\"line_alpha\":0.1,\"line_color\":\"#F38748\",\"line_dash\":[6],\"line_width\":4,\"x\":{\"field\":\"x\"},\"y\":{\"field\":\"y\"}},\"id\":\"16262\",\"type\":\"Line\"},{\"attributes\":{},\"id\":\"16367\",\"type\":\"UnionRenderers\"},{\"attributes\":{\"line_color\":\"#F89540\",\"line_dash\":[6],\"line_width\":4,\"x\":{\"field\":\"x\"},\"y\":{\"field\":\"y\"}},\"id\":\"16273\",\"type\":\"Line\"},{\"attributes\":{\"data\":{\"x\":{\"__ndarray__\":\"fv/G3/Jl77+OFcbf4VrvPw==\",\"dtype\":\"float64\",\"order\":\"little\",\"shape\":[2]},\"y\":{\"__ndarray__\":\"jGukbL3697+qT8qZ0Q8CQA==\",\"dtype\":\"float64\",\"order\":\"little\",\"shape\":[2]}},\"selected\":{\"id\":\"16434\"},\"selection_policy\":{\"id\":\"16433\"}},\"id\":\"16266\",\"type\":\"ColumnDataSource\"},{\"attributes\":{},\"id\":\"16405\",\"type\":\"UnionRenderers\"},{\"attributes\":{\"source\":{\"id\":\"16272\"}},\"id\":\"16277\",\"type\":\"CDSView\"},{\"attributes\":{},\"id\":\"16368\",\"type\":\"Selection\"},{\"attributes\":{},\"id\":\"16443\",\"type\":\"UnionRenderers\"},{\"attributes\":{\"coordinates\":null,\"data_source\":{\"id\":\"16266\"},\"glyph\":{\"id\":\"16267\"},\"group\":null,\"hover_glyph\":null,\"muted_glyph\":{\"id\":\"16269\"},\"nonselection_glyph\":{\"id\":\"16268\"},\"view\":{\"id\":\"16271\"}},\"id\":\"16270\",\"type\":\"GlyphRenderer\"},{\"attributes\":{},\"id\":\"16406\",\"type\":\"Selection\"},{\"attributes\":{\"line_alpha\":0.2,\"line_color\":\"#F68E44\",\"line_dash\":[6],\"line_width\":4,\"x\":{\"field\":\"x\"},\"y\":{\"field\":\"y\"}},\"id\":\"16269\",\"type\":\"Line\"},{\"attributes\":{},\"id\":\"16444\",\"type\":\"Selection\"},{\"attributes\":{\"line_alpha\":0.1,\"line_color\":\"#F68E44\",\"line_dash\":[6],\"line_width\":4,\"x\":{\"field\":\"x\"},\"y\":{\"field\":\"y\"}},\"id\":\"16268\",\"type\":\"Line\"},{\"attributes\":{\"line_color\":\"#FA9C3B\",\"line_dash\":[6],\"line_width\":4,\"x\":{\"field\":\"x\"},\"y\":{\"field\":\"y\"}},\"id\":\"16279\",\"type\":\"Line\"},{\"attributes\":{\"data\":{\"x\":{\"__ndarray__\":\"fv/G3/Jl77+OFcbf4VrvPw==\",\"dtype\":\"float64\",\"order\":\"little\",\"shape\":[2]},\"y\":{\"__ndarray__\":\"dntXtuXu979jtUuIawMCQA==\",\"dtype\":\"float64\",\"order\":\"little\",\"shape\":[2]}},\"selected\":{\"id\":\"16436\"},\"selection_policy\":{\"id\":\"16435\"}},\"id\":\"16272\",\"type\":\"ColumnDataSource\"},{\"attributes\":{\"source\":{\"id\":\"16278\"}},\"id\":\"16283\",\"type\":\"CDSView\"},{\"attributes\":{\"coordinates\":null,\"data_source\":{\"id\":\"16272\"},\"glyph\":{\"id\":\"16273\"},\"group\":null,\"hover_glyph\":null,\"muted_glyph\":{\"id\":\"16275\"},\"nonselection_glyph\":{\"id\":\"16274\"},\"view\":{\"id\":\"16277\"}},\"id\":\"16276\",\"type\":\"GlyphRenderer\"},{\"attributes\":{\"line_alpha\":0.2,\"line_color\":\"#F89540\",\"line_dash\":[6],\"line_width\":4,\"x\":{\"field\":\"x\"},\"y\":{\"field\":\"y\"}},\"id\":\"16275\",\"type\":\"Line\"},{\"attributes\":{\"line_alpha\":0.1,\"line_color\":\"#F89540\",\"line_dash\":[6],\"line_width\":4,\"x\":{\"field\":\"x\"},\"y\":{\"field\":\"y\"}},\"id\":\"16274\",\"type\":\"Line\"},{\"attributes\":{},\"id\":\"16044\",\"type\":\"Selection\"},{\"attributes\":{\"line_color\":\"#FBA337\",\"line_dash\":[6],\"line_width\":4,\"x\":{\"field\":\"x\"},\"y\":{\"field\":\"y\"}},\"id\":\"16285\",\"type\":\"Line\"},{\"attributes\":{\"data\":{\"x\":{\"__ndarray__\":\"fv/G3/Jl77+OFcbf4VrvPw==\",\"dtype\":\"float64\",\"order\":\"little\",\"shape\":[2]},\"y\":{\"__ndarray__\":\"3umlaOrj979Lf5zr7fcBQA==\",\"dtype\":\"float64\",\"order\":\"little\",\"shape\":[2]}},\"selected\":{\"id\":\"16438\"},\"selection_policy\":{\"id\":\"16437\"}},\"id\":\"16278\",\"type\":\"ColumnDataSource\"},{\"attributes\":{\"source\":{\"id\":\"16284\"}},\"id\":\"16289\",\"type\":\"CDSView\"},{\"attributes\":{\"coordinates\":null,\"data_source\":{\"id\":\"16278\"},\"glyph\":{\"id\":\"16279\"},\"group\":null,\"hover_glyph\":null,\"muted_glyph\":{\"id\":\"16281\"},\"nonselection_glyph\":{\"id\":\"16280\"},\"view\":{\"id\":\"16283\"}},\"id\":\"16282\",\"type\":\"GlyphRenderer\"},{\"attributes\":{},\"id\":\"16369\",\"type\":\"UnionRenderers\"},{\"attributes\":{\"source\":{\"id\":\"16056\"}},\"id\":\"16061\",\"type\":\"CDSView\"},{\"attributes\":{\"line_alpha\":0.2,\"line_color\":\"#FA9C3B\",\"line_dash\":[6],\"line_width\":4,\"x\":{\"field\":\"x\"},\"y\":{\"field\":\"y\"}},\"id\":\"16281\",\"type\":\"Line\"},{\"attributes\":{},\"id\":\"16407\",\"type\":\"UnionRenderers\"},{\"attributes\":{\"line_alpha\":0.1,\"line_color\":\"#FA9C3B\",\"line_dash\":[6],\"line_width\":4,\"x\":{\"field\":\"x\"},\"y\":{\"field\":\"y\"}},\"id\":\"16280\",\"type\":\"Line\"},{\"attributes\":{},\"id\":\"16370\",\"type\":\"Selection\"},{\"attributes\":{\"fill_alpha\":{\"value\":0.6},\"fill_color\":{\"field\":\"color\"},\"hatch_alpha\":{\"value\":0.6},\"hatch_color\":{\"field\":\"color\"},\"line_alpha\":{\"value\":0.6},\"line_color\":{\"value\":\"white\"},\"size\":{\"value\":10},\"x\":{\"field\":\"x\"},\"y\":{\"field\":\"y\"}},\"id\":\"16031\",\"type\":\"Circle\"},{\"attributes\":{},\"id\":\"16445\",\"type\":\"UnionRenderers\"},{\"attributes\":{\"line_color\":\"#FCAC32\",\"line_dash\":[6],\"line_width\":4,\"x\":{\"field\":\"x\"},\"y\":{\"field\":\"y\"}},\"id\":\"16291\",\"type\":\"Line\"},{\"attributes\":{\"data\":{\"x\":{\"__ndarray__\":\"fv/G3/Jl77+OFcbf4VrvPw==\",\"dtype\":\"float64\",\"order\":\"little\",\"shape\":[2]},\"y\":{\"__ndarray__\":\"9IHf0rbZ97/ZNmXfQu0BQA==\",\"dtype\":\"float64\",\"order\":\"little\",\"shape\":[2]}},\"selected\":{\"id\":\"16440\"},\"selection_policy\":{\"id\":\"16439\"}},\"id\":\"16284\",\"type\":\"ColumnDataSource\"},{\"attributes\":{},\"id\":\"16408\",\"type\":\"Selection\"},{\"attributes\":{\"source\":{\"id\":\"16290\"}},\"id\":\"16295\",\"type\":\"CDSView\"},{\"attributes\":{},\"id\":\"16446\",\"type\":\"Selection\"},{\"attributes\":{\"coordinates\":null,\"data_source\":{\"id\":\"16284\"},\"glyph\":{\"id\":\"16285\"},\"group\":null,\"hover_glyph\":null,\"muted_glyph\":{\"id\":\"16287\"},\"nonselection_glyph\":{\"id\":\"16286\"},\"view\":{\"id\":\"16289\"}},\"id\":\"16288\",\"type\":\"GlyphRenderer\"},{\"attributes\":{\"line_alpha\":0.2,\"line_color\":\"#FBA337\",\"line_dash\":[6],\"line_width\":4,\"x\":{\"field\":\"x\"},\"y\":{\"field\":\"y\"}},\"id\":\"16287\",\"type\":\"Line\"},{\"attributes\":{\"line_alpha\":0.1,\"line_color\":\"#FBA337\",\"line_dash\":[6],\"line_width\":4,\"x\":{\"field\":\"x\"},\"y\":{\"field\":\"y\"}},\"id\":\"16286\",\"type\":\"Line\"},{\"attributes\":{\"line_color\":\"#FDB32E\",\"line_dash\":[6],\"line_width\":4,\"x\":{\"field\":\"x\"},\"y\":{\"field\":\"y\"}},\"id\":\"16297\",\"type\":\"Line\"},{\"attributes\":{\"data\":{\"x\":{\"__ndarray__\":\"fv/G3/Jl77+OFcbf4VrvPw==\",\"dtype\":\"float64\",\"order\":\"little\",\"shape\":[2]},\"y\":{\"__ndarray__\":\"7mxdATjQ978UAQC6VuMBQA==\",\"dtype\":\"float64\",\"order\":\"little\",\"shape\":[2]}},\"selected\":{\"id\":\"16442\"},\"selection_policy\":{\"id\":\"16441\"}},\"id\":\"16290\",\"type\":\"ColumnDataSource\"},{\"attributes\":{\"axis_label\":\"x\",\"axis_label_standoff\":10,\"axis_label_text_color\":\"#FFFFFF\",\"axis_label_text_font\":\"Josefin Sans\",\"axis_label_text_font_size\":\"1.9em\",\"axis_label_text_font_style\":\"bold\",\"axis_line_alpha\":0.4,\"axis_line_color\":\"#E0E0E0\",\"coordinates\":null,\"formatter\":{\"id\":\"16041\"},\"group\":null,\"major_label_policy\":{\"id\":\"16042\"},\"major_label_text_color\":\"#E0E0E0\",\"major_label_text_font\":\"Josefin Sans\",\"major_label_text_font_size\":\"1.15em\",\"major_tick_line_alpha\":0.4,\"major_tick_line_color\":\"#E0E0E0\",\"minor_tick_line_alpha\":0.4,\"minor_tick_line_color\":\"#E0E0E0\",\"ticker\":{\"id\":\"16008\"}},\"id\":\"16007\",\"type\":\"LinearAxis\"},{\"attributes\":{\"source\":{\"id\":\"16296\"}},\"id\":\"16301\",\"type\":\"CDSView\"},{\"attributes\":{\"coordinates\":null,\"data_source\":{\"id\":\"16290\"},\"glyph\":{\"id\":\"16291\"},\"group\":null,\"hover_glyph\":null,\"muted_glyph\":{\"id\":\"16293\"},\"nonselection_glyph\":{\"id\":\"16292\"},\"view\":{\"id\":\"16295\"}},\"id\":\"16294\",\"type\":\"GlyphRenderer\"},{\"attributes\":{\"background_fill_alpha\":0.2,\"background_fill_color\":\"darkgrey\",\"border_line_alpha\":0.8,\"border_line_color\":\"grey\",\"border_line_width\":3,\"coordinates\":null,\"group\":null,\"items\":[{\"id\":\"16047\"}],\"label_text_color\":\"white\"},\"id\":\"16046\",\"type\":\"Legend\"},{\"attributes\":{\"line_alpha\":0.2,\"line_color\":\"#FCAC32\",\"line_dash\":[6],\"line_width\":4,\"x\":{\"field\":\"x\"},\"y\":{\"field\":\"y\"}},\"id\":\"16293\",\"type\":\"Line\"},{\"attributes\":{\"end\":0.9798440332967162,\"start\":-0.9811949129725546},\"id\":\"16048\",\"type\":\"Range1d\"},{\"attributes\":{\"line_alpha\":0.1,\"line_color\":\"#FCAC32\",\"line_dash\":[6],\"line_width\":4,\"x\":{\"field\":\"x\"},\"y\":{\"field\":\"y\"}},\"id\":\"16292\",\"type\":\"Line\"},{\"attributes\":{\"line_color\":\"#FDBB2B\",\"line_dash\":[6],\"line_width\":4,\"x\":{\"field\":\"x\"},\"y\":{\"field\":\"y\"}},\"id\":\"16303\",\"type\":\"Line\"},{\"attributes\":{},\"id\":\"16371\",\"type\":\"UnionRenderers\"},{\"attributes\":{\"data\":{\"x\":{\"__ndarray__\":\"fv/G3/Jl77+OFcbf4VrvPw==\",\"dtype\":\"float64\",\"order\":\"little\",\"shape\":[2]},\"y\":{\"__ndarray__\":\"CsDbQ13H979POrgVGNoBQA==\",\"dtype\":\"float64\",\"order\":\"little\",\"shape\":[2]}},\"selected\":{\"id\":\"16444\"},\"selection_policy\":{\"id\":\"16443\"}},\"id\":\"16296\",\"type\":\"ColumnDataSource\"},{\"attributes\":{\"source\":{\"id\":\"16302\"}},\"id\":\"16307\",\"type\":\"CDSView\"},{\"attributes\":{},\"id\":\"16409\",\"type\":\"UnionRenderers\"},{\"attributes\":{\"coordinates\":null,\"data_source\":{\"id\":\"16296\"},\"glyph\":{\"id\":\"16297\"},\"group\":null,\"hover_glyph\":null,\"muted_glyph\":{\"id\":\"16299\"},\"nonselection_glyph\":{\"id\":\"16298\"},\"view\":{\"id\":\"16301\"}},\"id\":\"16300\",\"type\":\"GlyphRenderer\"},{\"attributes\":{},\"id\":\"16372\",\"type\":\"Selection\"},{\"attributes\":{},\"id\":\"16447\",\"type\":\"UnionRenderers\"},{\"attributes\":{\"line_alpha\":0.2,\"line_color\":\"#FDB32E\",\"line_dash\":[6],\"line_width\":4,\"x\":{\"field\":\"x\"},\"y\":{\"field\":\"y\"}},\"id\":\"16299\",\"type\":\"Line\"},{\"attributes\":{},\"id\":\"16410\",\"type\":\"Selection\"},{\"attributes\":{\"line_alpha\":0.1,\"line_color\":\"#FDB32E\",\"line_dash\":[6],\"line_width\":4,\"x\":{\"field\":\"x\"},\"y\":{\"field\":\"y\"}},\"id\":\"16298\",\"type\":\"Line\"},{\"attributes\":{},\"id\":\"16448\",\"type\":\"Selection\"},{\"attributes\":{\"line_color\":\"#FDC328\",\"line_dash\":[6],\"line_width\":4,\"x\":{\"field\":\"x\"},\"y\":{\"field\":\"y\"}},\"id\":\"16309\",\"type\":\"Line\"},{\"attributes\":{\"data\":{\"x\":{\"__ndarray__\":\"fv/G3/Jl77+OFcbf4VrvPw==\",\"dtype\":\"float64\",\"order\":\"little\",\"shape\":[2]},\"y\":{\"__ndarray__\":\"TBG5gRe/97/9lIVld9EBQA==\",\"dtype\":\"float64\",\"order\":\"little\",\"shape\":[2]}},\"selected\":{\"id\":\"16446\"},\"selection_policy\":{\"id\":\"16445\"}},\"id\":\"16302\",\"type\":\"ColumnDataSource\"},{\"attributes\":{\"source\":{\"id\":\"16308\"}},\"id\":\"16313\",\"type\":\"CDSView\"},{\"attributes\":{\"coordinates\":null,\"data_source\":{\"id\":\"16302\"},\"glyph\":{\"id\":\"16303\"},\"group\":null,\"hover_glyph\":null,\"muted_glyph\":{\"id\":\"16305\"},\"nonselection_glyph\":{\"id\":\"16304\"},\"view\":{\"id\":\"16307\"}},\"id\":\"16306\",\"type\":\"GlyphRenderer\"},{\"attributes\":{\"line_alpha\":0.2,\"line_color\":\"#FDBB2B\",\"line_dash\":[6],\"line_width\":4,\"x\":{\"field\":\"x\"},\"y\":{\"field\":\"y\"}},\"id\":\"16305\",\"type\":\"Line\"},{\"attributes\":{\"line_alpha\":0.1,\"line_color\":\"#FDBB2B\",\"line_dash\":[6],\"line_width\":4,\"x\":{\"field\":\"x\"},\"y\":{\"field\":\"y\"}},\"id\":\"16304\",\"type\":\"Line\"},{\"attributes\":{\"line_color\":\"#FCCB25\",\"line_dash\":[6],\"line_width\":4,\"x\":{\"field\":\"x\"},\"y\":{\"field\":\"y\"}},\"id\":\"16315\",\"type\":\"Line\"},{\"attributes\":{\"data\":{\"x\":{\"__ndarray__\":\"fv/G3/Jl77+OFcbf4VrvPw==\",\"dtype\":\"float64\",\"order\":\"little\",\"shape\":[2]},\"y\":{\"__ndarray__\":\"AjQFT1m397/SFeOzZskBQA==\",\"dtype\":\"float64\",\"order\":\"little\",\"shape\":[2]}},\"selected\":{\"id\":\"16448\"},\"selection_policy\":{\"id\":\"16447\"}},\"id\":\"16308\",\"type\":\"ColumnDataSource\"},{\"attributes\":{\"source\":{\"id\":\"16314\"}},\"id\":\"16319\",\"type\":\"CDSView\"},{\"attributes\":{\"coordinates\":null,\"data_source\":{\"id\":\"16308\"},\"glyph\":{\"id\":\"16309\"},\"group\":null,\"hover_glyph\":null,\"muted_glyph\":{\"id\":\"16311\"},\"nonselection_glyph\":{\"id\":\"16310\"},\"view\":{\"id\":\"16313\"}},\"id\":\"16312\",\"type\":\"GlyphRenderer\"},{\"attributes\":{},\"id\":\"16373\",\"type\":\"UnionRenderers\"},{\"attributes\":{\"line_alpha\":0.2,\"line_color\":\"#FDC328\",\"line_dash\":[6],\"line_width\":4,\"x\":{\"field\":\"x\"},\"y\":{\"field\":\"y\"}},\"id\":\"16311\",\"type\":\"Line\"},{\"attributes\":{},\"id\":\"16039\",\"type\":\"AllLabels\"},{\"attributes\":{\"line_alpha\":0.1,\"line_color\":\"#FDC328\",\"line_dash\":[6],\"line_width\":4,\"x\":{\"field\":\"x\"},\"y\":{\"field\":\"y\"}},\"id\":\"16310\",\"type\":\"Line\"},{\"attributes\":{},\"id\":\"16411\",\"type\":\"UnionRenderers\"},{\"attributes\":{\"line_color\":\"#FAD524\",\"line_dash\":[6],\"line_width\":4,\"x\":{\"field\":\"x\"},\"y\":{\"field\":\"y\"}},\"id\":\"16321\",\"type\":\"Line\"},{\"attributes\":{},\"id\":\"16374\",\"type\":\"Selection\"},{\"attributes\":{},\"id\":\"16449\",\"type\":\"UnionRenderers\"},{\"attributes\":{\"data\":{\"x\":{\"__ndarray__\":\"fv/G3/Jl77+OFcbf4VrvPw==\",\"dtype\":\"float64\",\"order\":\"little\",\"shape\":[2]},\"y\":{\"__ndarray__\":\"L0yS5haw979AjJa42cEBQA==\",\"dtype\":\"float64\",\"order\":\"little\",\"shape\":[2]}},\"selected\":{\"id\":\"16450\"},\"selection_policy\":{\"id\":\"16449\"}},\"id\":\"16314\",\"type\":\"ColumnDataSource\"},{\"attributes\":{\"source\":{\"id\":\"16320\"}},\"id\":\"16325\",\"type\":\"CDSView\"},{\"attributes\":{},\"id\":\"16412\",\"type\":\"Selection\"},{\"attributes\":{\"coordinates\":null,\"data_source\":{\"id\":\"16314\"},\"glyph\":{\"id\":\"16315\"},\"group\":null,\"hover_glyph\":null,\"muted_glyph\":{\"id\":\"16317\"},\"nonselection_glyph\":{\"id\":\"16316\"},\"view\":{\"id\":\"16319\"}},\"id\":\"16318\",\"type\":\"GlyphRenderer\"},{\"attributes\":{},\"id\":\"16450\",\"type\":\"Selection\"},{\"attributes\":{\"axis\":{\"id\":\"16007\"},\"coordinates\":null,\"grid_line_alpha\":0.15,\"grid_line_color\":\"#E0E0E0\",\"group\":null,\"ticker\":null},\"id\":\"16010\",\"type\":\"Grid\"},{\"attributes\":{\"line_alpha\":0.2,\"line_color\":\"#FCCB25\",\"line_dash\":[6],\"line_width\":4,\"x\":{\"field\":\"x\"},\"y\":{\"field\":\"y\"}},\"id\":\"16317\",\"type\":\"Line\"},{\"attributes\":{\"line_alpha\":0.1,\"line_color\":\"#FCCB25\",\"line_dash\":[6],\"line_width\":4,\"x\":{\"field\":\"x\"},\"y\":{\"field\":\"y\"}},\"id\":\"16316\",\"type\":\"Line\"},{\"attributes\":{\"line_color\":\"#F8DD24\",\"line_dash\":[6],\"line_width\":4,\"x\":{\"field\":\"x\"},\"y\":{\"field\":\"y\"}},\"id\":\"16327\",\"type\":\"Line\"},{\"attributes\":{\"data\":{\"x\":{\"__ndarray__\":\"fv/G3/Jl77+OFcbf4VrvPw==\",\"dtype\":\"float64\",\"order\":\"little\",\"shape\":[2]},\"y\":{\"__ndarray__\":\"h3SbUEWp979qD182xboBQA==\",\"dtype\":\"float64\",\"order\":\"little\",\"shape\":[2]}},\"selected\":{\"id\":\"16452\"},\"selection_policy\":{\"id\":\"16451\"}},\"id\":\"16320\",\"type\":\"ColumnDataSource\"},{\"attributes\":{\"source\":{\"id\":\"16326\"}},\"id\":\"16331\",\"type\":\"CDSView\"},{\"attributes\":{\"coordinates\":null,\"data_source\":{\"id\":\"16320\"},\"glyph\":{\"id\":\"16321\"},\"group\":null,\"hover_glyph\":null,\"muted_glyph\":{\"id\":\"16323\"},\"nonselection_glyph\":{\"id\":\"16322\"},\"view\":{\"id\":\"16325\"}},\"id\":\"16324\",\"type\":\"GlyphRenderer\"},{\"attributes\":{\"line_alpha\":0.2,\"line_color\":\"#FAD524\",\"line_dash\":[6],\"line_width\":4,\"x\":{\"field\":\"x\"},\"y\":{\"field\":\"y\"}},\"id\":\"16323\",\"type\":\"Line\"},{\"attributes\":{\"line_alpha\":0.1,\"line_color\":\"#FAD524\",\"line_dash\":[6],\"line_width\":4,\"x\":{\"field\":\"x\"},\"y\":{\"field\":\"y\"}},\"id\":\"16322\",\"type\":\"Line\"},{\"attributes\":{\"line_color\":\"#F6E525\",\"line_dash\":[6],\"line_width\":4,\"x\":{\"field\":\"x\"},\"y\":{\"field\":\"y\"}},\"id\":\"16333\",\"type\":\"Line\"},{\"attributes\":{\"data\":{\"x\":{\"__ndarray__\":\"fv/G3/Jl77+OFcbf4VrvPw==\",\"dtype\":\"float64\",\"order\":\"little\",\"shape\":[2]},\"y\":{\"__ndarray__\":\"q62s8tqi978u8GIpH7QBQA==\",\"dtype\":\"float64\",\"order\":\"little\",\"shape\":[2]}},\"selected\":{\"id\":\"16454\"},\"selection_policy\":{\"id\":\"16453\"}},\"id\":\"16326\",\"type\":\"ColumnDataSource\"},{\"attributes\":{},\"id\":\"16375\",\"type\":\"UnionRenderers\"},{\"attributes\":{\"data\":{\"color\":[\"firebrick\",\"midnightblue\",\"firebrick\",\"midnightblue\",\"firebrick\",\"firebrick\",\"firebrick\",\"midnightblue\",\"midnightblue\",\"midnightblue\",\"midnightblue\",\"midnightblue\",\"firebrick\",\"midnightblue\",\"firebrick\",\"firebrick\",\"midnightblue\",\"firebrick\",\"firebrick\",\"midnightblue\",\"midnightblue\",\"midnightblue\",\"midnightblue\",\"midnightblue\",\"midnightblue\",\"midnightblue\",\"firebrick\",\"firebrick\",\"firebrick\",\"firebrick\",\"midnightblue\",\"firebrick\",\"midnightblue\",\"midnightblue\",\"midnightblue\",\"firebrick\",\"midnightblue\",\"firebrick\",\"firebrick\",\"midnightblue\",\"firebrick\",\"midnightblue\",\"midnightblue\",\"midnightblue\",\"firebrick\",\"midnightblue\",\"firebrick\",\"midnightblue\",\"midnightblue\",\"midnightblue\",\"midnightblue\",\"midnightblue\",\"firebrick\",\"firebrick\",\"midnightblue\",\"midnightblue\",\"firebrick\",\"midnightblue\",\"midnightblue\",\"midnightblue\",\"firebrick\",\"firebrick\",\"midnightblue\",\"midnightblue\",\"midnightblue\",\"midnightblue\",\"midnightblue\",\"midnightblue\",\"firebrick\",\"midnightblue\",\"midnightblue\",\"midnightblue\",\"firebrick\",\"midnightblue\",\"firebrick\",\"midnightblue\",\"firebrick\",\"midnightblue\",\"midnightblue\",\"midnightblue\",\"midnightblue\",\"midnightblue\",\"midnightblue\",\"firebrick\",\"midnightblue\",\"midnightblue\",\"midnightblue\",\"midnightblue\",\"midnightblue\",\"midnightblue\",\"midnightblue\",\"firebrick\",\"midnightblue\",\"firebrick\",\"firebrick\",\"midnightblue\",\"midnightblue\",\"midnightblue\",\"firebrick\",\"firebrick\"],\"label\":[\"class 2\",\"class 1\",\"class 2\",\"class 1\",\"class 2\",\"class 2\",\"class 2\",\"class 1\",\"class 1\",\"class 1\",\"class 1\",\"class 1\",\"class 2\",\"class 1\",\"class 2\",\"class 2\",\"class 1\",\"class 2\",\"class 2\",\"class 1\",\"class 1\",\"class 1\",\"class 1\",\"class 1\",\"class 1\",\"class 1\",\"class 2\",\"class 2\",\"class 2\",\"class 2\",\"class 1\",\"class 2\",\"class 1\",\"class 1\",\"class 1\",\"class 2\",\"class 1\",\"class 2\",\"class 2\",\"class 1\",\"class 2\",\"class 1\",\"class 1\",\"class 1\",\"class 2\",\"class 1\",\"class 2\",\"class 1\",\"class 1\",\"class 1\",\"class 1\",\"class 1\",\"class 2\",\"class 2\",\"class 1\",\"class 1\",\"class 2\",\"class 1\",\"class 1\",\"class 1\",\"class 2\",\"class 2\",\"class 1\",\"class 1\",\"class 1\",\"class 1\",\"class 1\",\"class 1\",\"class 2\",\"class 1\",\"class 1\",\"class 1\",\"class 2\",\"class 1\",\"class 2\",\"class 1\",\"class 2\",\"class 1\",\"class 1\",\"class 1\",\"class 1\",\"class 1\",\"class 1\",\"class 2\",\"class 1\",\"class 1\",\"class 1\",\"class 1\",\"class 1\",\"class 1\",\"class 1\",\"class 2\",\"class 1\",\"class 2\",\"class 2\",\"class 1\",\"class 1\",\"class 1\",\"class 2\",\"class 2\"],\"x\":{\"__ndarray__\":\"gFpM1PeU3r94DPfP4MXmP8K5b1aZUu6/+HasERmR4j8YbYpoQ33Lvwi3v8RCbuC/ACGvNNiKyL8Q1qVo5mfoP1CYFryAROI/wHKXqfM/uj/0wbq5BlrRPx5ydR8lieU/LJHIBMID2L98KOfIps3TP8BHc2cgXe+/AI5z+Mjs3b8wgmUidUq0P97HiNEMOu6/GKaedSlh3L8AT5LR0KPnP8xNS+mvDOs/5L0FZFGn1D9waWM/LQ/UPwD235TTD9M/AMjIRjzsoL+Ysh6Pqh/FPzYVuruM2+q/WJSrJz2C0L/sb7zuMLjXv8LyMuh30+i/+rUJD69D7z+glDjKHMnev7iR8T44Ctc/KG1qxjLG1j8QNpnWxtSwv9hB9S5wMMG/0CFERxCjt7+eZvSRH27nv6zIC4TRd9y/4DQzpqme0j+EEvYmGlHqv0Ah/cpjPJU/5Fxq0+J/5j8w0vVuSTm1P1gHUyupEO+/NLL+06Pi6j/An//eK0i6vyKaGEcDNOA/DNbDhWiz3T8gPaKbzUrQPw7sILX4ous/ZgNdY8SK6T94QPZg1S3Fv7Qxw6tfztE/hGUznUTn6D/E49HpQgTfP1ybbGtxJdy/gN41pepYkj9wz+pzLz2wv2COAV9hEru/CAaQw8Rs278WsEVNmzDuv94EGH1t0OO/IMCXgP2Wwr/0++Eoe6nlP6Ds4NeWTdE/JiIqU/zj7T9gAhlpT0mhvyQ3PmYv1OK/bHPzowBP1z+gGvFfE2LUPyQKlYjxUuA/wHvsS99MyD+GD5SX7CfvP5BvuF3vHt+//H2V+p7W0j8GWtKORh/tvygCScW0G+U/4COd20m/ob9+6mTuTKztPyD8AgTlPuQ/6OPQkbSL4D+Ejz1QZLzdP8JNuV6/HuW/YK5xxJB7o7/aig67hQDuP2D2sNB7e8w/IJzXFwgA6T8cSLjB/ILbv1CglNvmJ+0/2MV1c/uOyT9+/8bf8mXvvzB5Yd8EP9k/JmDSjaxy7b+YgdoiF+7Ev1SOs1dB/9s/QGcpvmdp7T+OFcbf4VrvPxCZA7Yr9MU/WIMLLZIq4b8=\",\"dtype\":\"float64\",\"order\":\"little\",\"shape\":[100]},\"y\":{\"__ndarray__\":\"DgE4gzp04j8GpAEuD9LiP7YyRWz4aug/iFzPRoKC0D8wpzA/b5LvP6iDP1da0+I/IAbMfGzl6z84WMiwzHTmvzjprVh/5+M/zrdCphMH579kjRCFx33Zv4bE5SYOKOM/KPGwNvJYxz+glAnS58TlP64IA34DoO2/0GJ3LNryt7822HnPuX3iv5zuK7iUttu/BLfniKtF2z+IVbFfLf3nv9QCMTgX192/6IjL6/Az2L9AOC560qmmvz6BAwvxzOe/4BcOE8FTyb8cf6Ts/yPcv2B4NEcxQsS/qPLsuxqd7D+UKMsg9JjWP2hwpZDH0Mo/NDxZbq/z1D+AysI4u+6gPywynvfdk+m/NKl3UA8f27+wT21vN6vMPxhDwpjlO8c/WD3MyYTyxb8sdQH/5PnsP2iAGKh1PcO/RsPZ6Xts47+YKu6qRJHpvxhKIHO4sN2/7IjuRhDs0T/4Ksh/8RvPvyK1VbfxW+C/KLNVOfybxD84nCjsJ4rqP+zR2Wi399+/+KzxzvvJ1L/SkWjV3L/mv9gjRjzA4s4/rvQBR3b05r9EyM+xY6rQP6Ka980itu0/8nfrCdYD778M9dc6nVTTv5TcktHzMN8/0FJ4tyAAzj+wMN1hYMLmv/Ya1qxYJOK/wNKImCgcuD+EXmA3JuDXPzgbtyz42Oy/pMDrmtbF779g1BzibJitP4Qw8X1VzdS/yHXeZwk95L9MkpEWERnbv/jlZtQ4oOo/yk2R0EeM4b+MPmz6tubgPxhDF+m5MNK/ND738Ix46D+udXDr56Htv56GfmizIO0/xNhQskpF5D9AWV60OBfiv8ByNHyeBpy/0Pk7FEzYtb96KKnfy1DiP2AF4RUJCuE/IKXtJARgvz8qciA6Novnv5bM7ZB/JOc/ymi3zpTc6L8ULRdrtsfUP3S0ELSlTuU/mOFrUCiZx7/uBL/L3fbqv0DiB4ZscaQ/7ISOEdlo2r94CzH541rDPzAz7cs9ie2/Ph3mirtr7z8AKQAwQWLpPyK4oGp14ek/MLRCj7jI2L+gwv3i6DG2P/gCB9x88+c/QAN/w2Z/5T8=\",\"dtype\":\"float64\",\"order\":\"little\",\"shape\":[100]}},\"selected\":{\"id\":\"16044\"},\"selection_policy\":{\"id\":\"16043\"}},\"id\":\"16029\",\"type\":\"ColumnDataSource\"},{\"attributes\":{\"source\":{\"id\":\"16332\"}},\"id\":\"16337\",\"type\":\"CDSView\"},{\"attributes\":{\"coordinates\":null,\"data_source\":{\"id\":\"16326\"},\"glyph\":{\"id\":\"16327\"},\"group\":null,\"hover_glyph\":null,\"muted_glyph\":{\"id\":\"16329\"},\"nonselection_glyph\":{\"id\":\"16328\"},\"view\":{\"id\":\"16331\"}},\"id\":\"16330\",\"type\":\"GlyphRenderer\"},{\"attributes\":{},\"id\":\"16413\",\"type\":\"UnionRenderers\"},{\"attributes\":{},\"id\":\"16376\",\"type\":\"Selection\"},{\"attributes\":{},\"id\":\"16451\",\"type\":\"UnionRenderers\"},{\"attributes\":{\"line_alpha\":0.2,\"line_color\":\"#F8DD24\",\"line_dash\":[6],\"line_width\":4,\"x\":{\"field\":\"x\"},\"y\":{\"field\":\"y\"}},\"id\":\"16329\",\"type\":\"Line\"},{\"attributes\":{\"line_alpha\":0.1,\"line_color\":\"#F8DD24\",\"line_dash\":[6],\"line_width\":4,\"x\":{\"field\":\"x\"},\"y\":{\"field\":\"y\"}},\"id\":\"16328\",\"type\":\"Line\"},{\"attributes\":{},\"id\":\"16414\",\"type\":\"Selection\"},{\"attributes\":{\"line_color\":\"#F3EE26\",\"line_dash\":[6],\"line_width\":4,\"x\":{\"field\":\"x\"},\"y\":{\"field\":\"y\"}},\"id\":\"16339\",\"type\":\"Line\"},{\"attributes\":{\"coordinates\":null,\"data_source\":{\"id\":\"16029\"},\"glyph\":{\"id\":\"16031\"},\"group\":null,\"hover_glyph\":null,\"muted_glyph\":{\"id\":\"16033\"},\"nonselection_glyph\":{\"id\":\"16032\"},\"view\":{\"id\":\"16035\"}},\"id\":\"16034\",\"type\":\"GlyphRenderer\"},{\"attributes\":{},\"id\":\"16452\",\"type\":\"Selection\"},{\"attributes\":{\"end\":0.9866253122502027,\"start\":-0.9929001832770337},\"id\":\"16049\",\"type\":\"Range1d\"},{\"attributes\":{\"data\":{\"x\":{\"__ndarray__\":\"fv/G3/Jl77+OFcbf4VrvPw==\",\"dtype\":\"float64\",\"order\":\"little\",\"shape\":[2]},\"y\":{\"__ndarray__\":\"S+AQ1c6c978+ZjBr3q0BQA==\",\"dtype\":\"float64\",\"order\":\"little\",\"shape\":[2]}},\"selected\":{\"id\":\"16456\"},\"selection_policy\":{\"id\":\"16455\"}},\"id\":\"16332\",\"type\":\"ColumnDataSource\"},{\"attributes\":{\"source\":{\"id\":\"16338\"}},\"id\":\"16343\",\"type\":\"CDSView\"},{\"attributes\":{\"source\":{\"id\":\"16029\"}},\"id\":\"16035\",\"type\":\"CDSView\"},{\"attributes\":{\"coordinates\":null,\"data_source\":{\"id\":\"16332\"},\"glyph\":{\"id\":\"16333\"},\"group\":null,\"hover_glyph\":null,\"muted_glyph\":{\"id\":\"16335\"},\"nonselection_glyph\":{\"id\":\"16334\"},\"view\":{\"id\":\"16337\"}},\"id\":\"16336\",\"type\":\"GlyphRenderer\"},{\"attributes\":{\"line_alpha\":0.2,\"line_color\":\"#F6E525\",\"line_dash\":[6],\"line_width\":4,\"x\":{\"field\":\"x\"},\"y\":{\"field\":\"y\"}},\"id\":\"16335\",\"type\":\"Line\"},{\"attributes\":{\"source\":{\"id\":\"16080\"}},\"id\":\"16085\",\"type\":\"CDSView\"},{\"attributes\":{\"line_alpha\":0.1,\"line_color\":\"#F6E525\",\"line_dash\":[6],\"line_width\":4,\"x\":{\"field\":\"x\"},\"y\":{\"field\":\"y\"}},\"id\":\"16334\",\"type\":\"Line\"},{\"attributes\":{\"line_color\":\"#EFF821\",\"line_dash\":[6],\"line_width\":4,\"x\":{\"field\":\"x\"},\"y\":{\"field\":\"y\"}},\"id\":\"16345\",\"type\":\"Line\"},{\"attributes\":{},\"id\":\"16003\",\"type\":\"LinearScale\"},{\"attributes\":{\"source\":{\"id\":\"16050\"}},\"id\":\"16055\",\"type\":\"CDSView\"},{\"attributes\":{\"data\":{\"x\":{\"__ndarray__\":\"fv/G3/Jl77+OFcbf4VrvPw==\",\"dtype\":\"float64\",\"order\":\"little\",\"shape\":[2]},\"y\":{\"__ndarray__\":\"K9+PNBmX97+9P7Pn+qcBQA==\",\"dtype\":\"float64\",\"order\":\"little\",\"shape\":[2]}},\"selected\":{\"id\":\"16458\"},\"selection_policy\":{\"id\":\"16457\"}},\"id\":\"16338\",\"type\":\"ColumnDataSource\"},{\"attributes\":{\"source\":{\"id\":\"16344\"}},\"id\":\"16349\",\"type\":\"CDSView\"},{\"attributes\":{\"label\":{\"field\":\"label\"},\"renderers\":[{\"id\":\"16034\"}]},\"id\":\"16047\",\"type\":\"LegendItem\"},{\"attributes\":{\"coordinates\":null,\"data_source\":{\"id\":\"16338\"},\"glyph\":{\"id\":\"16339\"},\"group\":null,\"hover_glyph\":null,\"muted_glyph\":{\"id\":\"16341\"},\"nonselection_glyph\":{\"id\":\"16340\"},\"view\":{\"id\":\"16343\"}},\"id\":\"16342\",\"type\":\"GlyphRenderer\"},{\"attributes\":{\"line_color\":\"#0C0786\",\"line_dash\":[6],\"line_width\":4,\"x\":{\"field\":\"x\"},\"y\":{\"field\":\"y\"}},\"id\":\"16051\",\"type\":\"Line\"},{\"attributes\":{\"line_color\":\"#1B068C\",\"line_dash\":[6],\"line_width\":4,\"x\":{\"field\":\"x\"},\"y\":{\"field\":\"y\"}},\"id\":\"16057\",\"type\":\"Line\"},{\"attributes\":{},\"id\":\"16008\",\"type\":\"BasicTicker\"},{\"attributes\":{\"fill_alpha\":{\"value\":0.2},\"fill_color\":{\"field\":\"color\"},\"hatch_alpha\":{\"value\":0.2},\"hatch_color\":{\"field\":\"color\"},\"line_alpha\":{\"value\":0.2},\"line_color\":{\"value\":\"white\"},\"size\":{\"value\":10},\"x\":{\"field\":\"x\"},\"y\":{\"field\":\"y\"}},\"id\":\"16033\",\"type\":\"Circle\"},{\"attributes\":{\"line_alpha\":0.2,\"line_color\":\"#F3EE26\",\"line_dash\":[6],\"line_width\":4,\"x\":{\"field\":\"x\"},\"y\":{\"field\":\"y\"}},\"id\":\"16341\",\"type\":\"Line\"},{\"attributes\":{},\"id\":\"16377\",\"type\":\"UnionRenderers\"},{\"attributes\":{\"data\":{\"x\":{\"__ndarray__\":\"fv/G3/Jl77+OFcbf4VrvPw==\",\"dtype\":\"float64\",\"order\":\"little\",\"shape\":[2]},\"y\":{\"__ndarray__\":\"AR7yoqer5T9aHvznHxUVwA==\",\"dtype\":\"float64\",\"order\":\"little\",\"shape\":[2]}},\"selected\":{\"id\":\"16362\"},\"selection_policy\":{\"id\":\"16361\"}},\"id\":\"16050\",\"type\":\"ColumnDataSource\"},{\"attributes\":{\"line_alpha\":0.1,\"line_color\":\"#F3EE26\",\"line_dash\":[6],\"line_width\":4,\"x\":{\"field\":\"x\"},\"y\":{\"field\":\"y\"}},\"id\":\"16340\",\"type\":\"Line\"},{\"attributes\":{},\"id\":\"16415\",\"type\":\"UnionRenderers\"},{\"attributes\":{\"data\":{\"x\":{\"__ndarray__\":\"fv/G3/Jl77+OFcbf4VrvPw==\",\"dtype\":\"float64\",\"order\":\"little\",\"shape\":[2]},\"y\":{\"__ndarray__\":\"oc++qrKR97+QRWMRbaIBQA==\",\"dtype\":\"float64\",\"order\":\"little\",\"shape\":[2]}},\"selected\":{\"id\":\"16460\"},\"selection_policy\":{\"id\":\"16459\"}},\"id\":\"16344\",\"type\":\"ColumnDataSource\"},{\"attributes\":{},\"id\":\"16378\",\"type\":\"Selection\"},{\"attributes\":{},\"id\":\"16453\",\"type\":\"UnionRenderers\"},{\"attributes\":{\"coordinates\":null,\"data_source\":{\"id\":\"16050\"},\"glyph\":{\"id\":\"16051\"},\"group\":null,\"hover_glyph\":null,\"muted_glyph\":{\"id\":\"16053\"},\"nonselection_glyph\":{\"id\":\"16052\"},\"view\":{\"id\":\"16055\"}},\"id\":\"16054\",\"type\":\"GlyphRenderer\"},{\"attributes\":{\"coordinates\":null,\"data_source\":{\"id\":\"16344\"},\"glyph\":{\"id\":\"16345\"},\"group\":null,\"hover_glyph\":null,\"muted_glyph\":{\"id\":\"16347\"},\"nonselection_glyph\":{\"id\":\"16346\"},\"view\":{\"id\":\"16349\"}},\"id\":\"16348\",\"type\":\"GlyphRenderer\"},{\"attributes\":{},\"id\":\"16416\",\"type\":\"Selection\"},{\"attributes\":{\"line_alpha\":0.2,\"line_color\":\"#0C0786\",\"line_dash\":[6],\"line_width\":4,\"x\":{\"field\":\"x\"},\"y\":{\"field\":\"y\"}},\"id\":\"16053\",\"type\":\"Line\"},{\"attributes\":{},\"id\":\"16454\",\"type\":\"Selection\"},{\"attributes\":{\"background_fill_alpha\":0.9,\"background_fill_color\":\"#0f0f0f\",\"below\":[{\"id\":\"16007\"}],\"border_fill_alpha\":0.8,\"border_fill_color\":\"#111111\",\"center\":[{\"id\":\"16010\"},{\"id\":\"16014\"},{\"id\":\"16046\"}],\"height\":450,\"left\":[{\"id\":\"16011\"}],\"outline_line_alpha\":0.25,\"outline_line_color\":\"#E0E0E0\",\"outline_line_width\":3,\"renderers\":[{\"id\":\"16034\"},{\"id\":\"16054\"},{\"id\":\"16060\"},{\"id\":\"16066\"},{\"id\":\"16072\"},{\"id\":\"16078\"},{\"id\":\"16084\"},{\"id\":\"16090\"},{\"id\":\"16096\"},{\"id\":\"16102\"},{\"id\":\"16108\"},{\"id\":\"16114\"},{\"id\":\"16120\"},{\"id\":\"16126\"},{\"id\":\"16132\"},{\"id\":\"16138\"},{\"id\":\"16144\"},{\"id\":\"16150\"},{\"id\":\"16156\"},{\"id\":\"16162\"},{\"id\":\"16168\"},{\"id\":\"16174\"},{\"id\":\"16180\"},{\"id\":\"16186\"},{\"id\":\"16192\"},{\"id\":\"16198\"},{\"id\":\"16204\"},{\"id\":\"16210\"},{\"id\":\"16216\"},{\"id\":\"16222\"},{\"id\":\"16228\"},{\"id\":\"16234\"},{\"id\":\"16240\"},{\"id\":\"16246\"},{\"id\":\"16252\"},{\"id\":\"16258\"},{\"id\":\"16264\"},{\"id\":\"16270\"},{\"id\":\"16276\"},{\"id\":\"16282\"},{\"id\":\"16288\"},{\"id\":\"16294\"},{\"id\":\"16300\"},{\"id\":\"16306\"},{\"id\":\"16312\"},{\"id\":\"16318\"},{\"id\":\"16324\"},{\"id\":\"16330\"},{\"id\":\"16336\"},{\"id\":\"16342\"},{\"id\":\"16348\"}],\"right\":[{\"id\":\"16046\"}],\"title\":{\"id\":\"15997\"},\"toolbar\":{\"id\":\"16022\"},\"width\":700,\"x_range\":{\"id\":\"16048\"},\"x_scale\":{\"id\":\"16003\"},\"y_range\":{\"id\":\"16049\"},\"y_scale\":{\"id\":\"16005\"}},\"id\":\"15996\",\"subtype\":\"Figure\",\"type\":\"Plot\"},{\"attributes\":{\"line_alpha\":0.1,\"line_color\":\"#0C0786\",\"line_dash\":[6],\"line_width\":4,\"x\":{\"field\":\"x\"},\"y\":{\"field\":\"y\"}},\"id\":\"16052\",\"type\":\"Line\"},{\"attributes\":{\"line_alpha\":0.2,\"line_color\":\"#EFF821\",\"line_dash\":[6],\"line_width\":4,\"x\":{\"field\":\"x\"},\"y\":{\"field\":\"y\"}},\"id\":\"16347\",\"type\":\"Line\"},{\"attributes\":{\"line_color\":\"#250591\",\"line_dash\":[6],\"line_width\":4,\"x\":{\"field\":\"x\"},\"y\":{\"field\":\"y\"}},\"id\":\"16063\",\"type\":\"Line\"},{\"attributes\":{\"line_alpha\":0.1,\"line_color\":\"#EFF821\",\"line_dash\":[6],\"line_width\":4,\"x\":{\"field\":\"x\"},\"y\":{\"field\":\"y\"}},\"id\":\"16346\",\"type\":\"Line\"},{\"attributes\":{\"data\":{\"x\":{\"__ndarray__\":\"fv/G3/Jl77+OFcbf4VrvPw==\",\"dtype\":\"float64\",\"order\":\"little\",\"shape\":[2]},\"y\":{\"__ndarray__\":\"KiYkIS3oBEBtIT46ZpUmwA==\",\"dtype\":\"float64\",\"order\":\"little\",\"shape\":[2]}},\"selected\":{\"id\":\"16364\"},\"selection_policy\":{\"id\":\"16363\"}},\"id\":\"16056\",\"type\":\"ColumnDataSource\"},{\"attributes\":{\"coordinates\":null,\"data_source\":{\"id\":\"16062\"},\"glyph\":{\"id\":\"16063\"},\"group\":null,\"hover_glyph\":null,\"muted_glyph\":{\"id\":\"16065\"},\"nonselection_glyph\":{\"id\":\"16064\"},\"view\":{\"id\":\"16067\"}},\"id\":\"16066\",\"type\":\"GlyphRenderer\"},{\"attributes\":{\"coordinates\":null,\"data_source\":{\"id\":\"16056\"},\"glyph\":{\"id\":\"16057\"},\"group\":null,\"hover_glyph\":null,\"muted_glyph\":{\"id\":\"16059\"},\"nonselection_glyph\":{\"id\":\"16058\"},\"view\":{\"id\":\"16061\"}},\"id\":\"16060\",\"type\":\"GlyphRenderer\"},{\"attributes\":{\"line_color\":\"#4A02A0\",\"line_dash\":[6],\"line_width\":4,\"x\":{\"field\":\"x\"},\"y\":{\"field\":\"y\"}},\"id\":\"16087\",\"type\":\"Line\"},{\"attributes\":{\"line_alpha\":0.2,\"line_color\":\"#1B068C\",\"line_dash\":[6],\"line_width\":4,\"x\":{\"field\":\"x\"},\"y\":{\"field\":\"y\"}},\"id\":\"16059\",\"type\":\"Line\"},{\"attributes\":{\"line_alpha\":0.1,\"line_color\":\"#1B068C\",\"line_dash\":[6],\"line_width\":4,\"x\":{\"field\":\"x\"},\"y\":{\"field\":\"y\"}},\"id\":\"16058\",\"type\":\"Line\"},{\"attributes\":{\"line_alpha\":0.1,\"line_color\":\"#250591\",\"line_dash\":[6],\"line_width\":4,\"x\":{\"field\":\"x\"},\"y\":{\"field\":\"y\"}},\"id\":\"16064\",\"type\":\"Line\"},{\"attributes\":{\"data\":{\"x\":{\"__ndarray__\":\"fv/G3/Jl77+OFcbf4VrvPw==\",\"dtype\":\"float64\",\"order\":\"little\",\"shape\":[2]},\"y\":{\"__ndarray__\":\"YTaS7YJfSUBEi2+FZRJkwA==\",\"dtype\":\"float64\",\"order\":\"little\",\"shape\":[2]}},\"selected\":{\"id\":\"16366\"},\"selection_policy\":{\"id\":\"16365\"}},\"id\":\"16062\",\"type\":\"ColumnDataSource\"},{\"attributes\":{\"line_alpha\":0.2,\"line_color\":\"#250591\",\"line_dash\":[6],\"line_width\":4,\"x\":{\"field\":\"x\"},\"y\":{\"field\":\"y\"}},\"id\":\"16065\",\"type\":\"Line\"}],\"root_ids\":[\"16350\",\"16903\"]},\"title\":\"Bokeh Application\",\"version\":\"2.4.3\"}};\n",
       "    var render_items = [{\"docid\":\"f3135506-46dc-4dd1-a835-3a0afaddfc7c\",\"root_ids\":[\"16350\"],\"roots\":{\"16350\":\"8b94df00-2476-4d5c-b88b-4c7d7684f6b8\"}}];\n",
       "    root.Bokeh.embed.embed_items_notebook(docs_json, render_items);\n",
       "    for (const render_item of render_items) {\n",
       "      for (const root_id of render_item.root_ids) {\n",
       "\tconst id_el = document.getElementById(root_id)\n",
       "\tif (id_el.children.length && (id_el.children[0].className === 'bk-root')) {\n",
       "\t  const root_el = id_el.children[0]\n",
       "\t  root_el.id = root_el.id + '-rendered'\n",
       "\t}\n",
       "      }\n",
       "    }\n",
       "  }\n",
       "  if (root.Bokeh !== undefined && root.Bokeh.Panel !== undefined) {\n",
       "    embed_document(root);\n",
       "  } else {\n",
       "    var attempts = 0;\n",
       "    var timer = setInterval(function(root) {\n",
       "      if (root.Bokeh !== undefined && root.Bokeh.Panel !== undefined) {\n",
       "        clearInterval(timer);\n",
       "        embed_document(root);\n",
       "      } else if (document.readyState == \"complete\") {\n",
       "        attempts++;\n",
       "        if (attempts > 200) {\n",
       "          clearInterval(timer);\n",
       "          console.log(\"Bokeh: ERROR: Unable to run BokehJS code because BokehJS library is missing\");\n",
       "        }\n",
       "      }\n",
       "    }, 25, root)\n",
       "  }\n",
       "})(window);</script>"
      ],
      "text/plain": [
       "Row\n",
       "    [0] HSpacer()\n",
       "    [1] Bokeh(Figure)\n",
       "    [2] HSpacer()"
      ]
     },
     "execution_count": 54,
     "metadata": {
      "application/vnd.holoviews_exec.v0+json": {
       "id": "16350"
      }
     },
     "output_type": "execute_result"
    }
   ],
   "source": [
    "# Update loop\n",
    "for i in range(n_epochs):\n",
    "    \n",
    "    ######################\n",
    "    # YOUR CODE GOES HERE\n",
    "    gradients = grad_loss_function(x_jax,  y_jax, weights, bias)\n",
    "    weights -= eta * gradients[0]\n",
    "    bias -= eta * gradients[1]\n",
    "    ######################\n",
    "    \n",
    "    ######################\n",
    "    # Solution \n",
    "    #gradients = grad_loss_function(x_jax, y_jax, weights, bias)\n",
    "    #weights = weights - eta * gradients[0]\n",
    "    #bias = bias - eta * gradients[1]\n",
    "    ######################\n",
    "    weights_history = weights_history.at[i + 1].set(weights[0])\n",
    "    bias_history = bias_history.at[i + 1].set(bias[0])\n",
    "    \n",
    "    if (verbose):\n",
    "        print('%2d. error = %f, weights = %f, %f, %f' % (i, np.sum(np.abs(error)) / n_observations, bias[0, 0], weights[0, 0], weights[0, 1]))\n",
    "plot = center_plot(\n",
    "    scatter_boundary(\n",
    "        np.array(x_inputs), \n",
    "        np.array(y_class), \n",
    "        np.array(weights_history), \n",
    "        np.array(bias_history), \n",
    "        i + 1)\n",
    "    )\n",
    "plot"
   ]
  },
  {
   "cell_type": "markdown",
   "metadata": {
    "tags": []
   },
   "source": [
    "## Multi-layer networks\n",
    "\n",
    "In the following, we define the overall architecture of the exercise to fill. The goal is to define a more advanced problem \n",
    "\n",
    "### 2-layer XOR problem\n",
    "\n",
    "In most cases, classification problems are far from being linear. Therefore, we need more advanced methods to be able to compute non-linear class boundaries. The advantage of neural networks is that the same principle can be applied in a *layer-wise* fashion. This allows to further discriminate the space in sub-regions (as seen in the course). We will try to implement the 2-layer *perceptron* that can provide a solution to the infamous XOR problem. The idea is now to have the output of the first neurons to be connected to a set of other neurons. Therefore, if we take back our previous formulation, we have the same output for the first neuron(s) $y$, that we will now term as $y^{(1)}$. Then, we feed these outputs to a second layer of neurons, which gives\n",
    "\n",
    "\n",
    "$$\n",
    "\\begin{equation}\n",
    "y^{(2)}=\\sigma\\left(\\sum_{i = 1}^{n}w_{i}.y^{(1)}_{i} + b\\right)\n",
    "\\end{equation}\n",
    "$$  \n",
    "\n",
    "Finally, we will rely on the same loss $\\mathcal{L_{D}}$ as in the previous exercise, but the outputs used are $y^{(2)}$ instead of $y$. As in the previous case, we now need to compute the derivatives of the weights and biases for several layers . However, you should see that some form of generalization might be possible for any number of layer.  "
   ]
  },
  {
   "cell_type": "markdown",
   "metadata": {},
   "source": [
    "***\n",
    "\n",
    "<div class=\"alert alert-success\" markdown=\"1\" style=\"color:white; background-color: #192841; border-color: #779ecb\">\n",
    "\n",
    "> ### Exercise (course)\n",
    ">   1. Perform the derivatives for the last layer specifically\n",
    ">   2. Define a generalized derivative for any previous layer\n",
    "\n",
    "</div>\n",
    "\n",
    "***"
   ]
  },
  {
   "cell_type": "markdown",
   "metadata": {},
   "source": [
    "We can construct the prototypical set of XOR values by using the following code (note that this is the most simple case, but still this is typically a problem that cannot be solved by a _linear classifier_"
   ]
  },
  {
   "cell_type": "code",
   "execution_count": 11,
   "metadata": {
    "tags": []
   },
   "outputs": [
    {
     "data": {},
     "metadata": {},
     "output_type": "display_data"
    },
    {
     "data": {
      "application/vnd.holoviews_exec.v0+json": "",
      "text/html": [
       "<div id='4504'>\n",
       "  <div class=\"bk-root\" id=\"f39a11c7-a48b-4c59-882d-1d8d9a9029dd\" data-root-id=\"4504\"></div>\n",
       "</div>\n",
       "<script type=\"application/javascript\">(function(root) {\n",
       "  function embed_document(root) {\n",
       "    var docs_json = {\"6f68e570-d848-453b-ba9c-bdb4cb31723a\":{\"defs\":[{\"extends\":null,\"module\":null,\"name\":\"ReactiveHTML1\",\"overrides\":[],\"properties\":[]},{\"extends\":null,\"module\":null,\"name\":\"FlexBox1\",\"overrides\":[],\"properties\":[{\"default\":\"flex-start\",\"kind\":null,\"name\":\"align_content\"},{\"default\":\"flex-start\",\"kind\":null,\"name\":\"align_items\"},{\"default\":\"row\",\"kind\":null,\"name\":\"flex_direction\"},{\"default\":\"wrap\",\"kind\":null,\"name\":\"flex_wrap\"},{\"default\":\"flex-start\",\"kind\":null,\"name\":\"justify_content\"}]},{\"extends\":null,\"module\":null,\"name\":\"GridStack1\",\"overrides\":[],\"properties\":[{\"default\":\"warn\",\"kind\":null,\"name\":\"mode\"},{\"default\":null,\"kind\":null,\"name\":\"ncols\"},{\"default\":null,\"kind\":null,\"name\":\"nrows\"},{\"default\":true,\"kind\":null,\"name\":\"allow_resize\"},{\"default\":true,\"kind\":null,\"name\":\"allow_drag\"},{\"default\":[],\"kind\":null,\"name\":\"state\"}]},{\"extends\":null,\"module\":null,\"name\":\"click1\",\"overrides\":[],\"properties\":[{\"default\":\"\",\"kind\":null,\"name\":\"terminal_output\"},{\"default\":\"\",\"kind\":null,\"name\":\"debug_name\"},{\"default\":0,\"kind\":null,\"name\":\"clears\"}]},{\"extends\":null,\"module\":null,\"name\":\"NotificationAreaBase1\",\"overrides\":[],\"properties\":[{\"default\":\"bottom-right\",\"kind\":null,\"name\":\"position\"},{\"default\":0,\"kind\":null,\"name\":\"_clear\"}]},{\"extends\":null,\"module\":null,\"name\":\"NotificationArea1\",\"overrides\":[],\"properties\":[{\"default\":[],\"kind\":null,\"name\":\"notifications\"},{\"default\":\"bottom-right\",\"kind\":null,\"name\":\"position\"},{\"default\":0,\"kind\":null,\"name\":\"_clear\"},{\"default\":[{\"background\":\"#ffc107\",\"icon\":{\"className\":\"fas fa-exclamation-triangle\",\"color\":\"white\",\"tagName\":\"i\"},\"type\":\"warning\"},{\"background\":\"#007bff\",\"icon\":{\"className\":\"fas fa-info-circle\",\"color\":\"white\",\"tagName\":\"i\"},\"type\":\"info\"}],\"kind\":null,\"name\":\"types\"}]},{\"extends\":null,\"module\":null,\"name\":\"Notification\",\"overrides\":[],\"properties\":[{\"default\":null,\"kind\":null,\"name\":\"background\"},{\"default\":3000,\"kind\":null,\"name\":\"duration\"},{\"default\":null,\"kind\":null,\"name\":\"icon\"},{\"default\":\"\",\"kind\":null,\"name\":\"message\"},{\"default\":null,\"kind\":null,\"name\":\"notification_type\"},{\"default\":false,\"kind\":null,\"name\":\"_destroyed\"}]},{\"extends\":null,\"module\":null,\"name\":\"TemplateActions1\",\"overrides\":[],\"properties\":[{\"default\":0,\"kind\":null,\"name\":\"open_modal\"},{\"default\":0,\"kind\":null,\"name\":\"close_modal\"}]},{\"extends\":null,\"module\":null,\"name\":\"MaterialTemplateActions1\",\"overrides\":[],\"properties\":[{\"default\":0,\"kind\":null,\"name\":\"open_modal\"},{\"default\":0,\"kind\":null,\"name\":\"close_modal\"}]}],\"roots\":{\"references\":[{\"attributes\":{},\"id\":\"4457\",\"type\":\"DataRange1d\"},{\"attributes\":{},\"id\":\"4476\",\"type\":\"HelpTool\"},{\"attributes\":{\"coordinates\":null,\"group\":null,\"text\":\"XOR classification\",\"text_color\":\"#E0E0E0\",\"text_font\":\"Josefin Sans\",\"text_font_size\":\"2.1em\"},\"id\":\"4453\",\"type\":\"Title\"},{\"attributes\":{\"axis_label\":\"y\",\"axis_label_standoff\":10,\"axis_label_text_color\":\"#FFFFFF\",\"axis_label_text_font\":\"Josefin Sans\",\"axis_label_text_font_size\":\"1.9em\",\"axis_label_text_font_style\":\"bold\",\"axis_line_alpha\":0.4,\"axis_line_color\":\"#E0E0E0\",\"coordinates\":null,\"formatter\":{\"id\":\"4494\"},\"group\":null,\"major_label_policy\":{\"id\":\"4495\"},\"major_label_text_color\":\"#E0E0E0\",\"major_label_text_font\":\"Josefin Sans\",\"major_label_text_font_size\":\"1.15em\",\"major_tick_line_alpha\":0.4,\"major_tick_line_color\":\"#E0E0E0\",\"minor_tick_line_alpha\":0.4,\"minor_tick_line_color\":\"#E0E0E0\",\"ticker\":{\"id\":\"4468\"}},\"id\":\"4467\",\"type\":\"LinearAxis\"},{\"attributes\":{},\"id\":\"4464\",\"type\":\"BasicTicker\"},{\"attributes\":{},\"id\":\"4461\",\"type\":\"LinearScale\"},{\"attributes\":{\"axis\":{\"id\":\"4463\"},\"coordinates\":null,\"grid_line_alpha\":0.15,\"grid_line_color\":\"#E0E0E0\",\"group\":null,\"ticker\":null},\"id\":\"4466\",\"type\":\"Grid\"},{\"attributes\":{\"axis_label\":\"x\",\"axis_label_standoff\":10,\"axis_label_text_color\":\"#FFFFFF\",\"axis_label_text_font\":\"Josefin Sans\",\"axis_label_text_font_size\":\"1.9em\",\"axis_label_text_font_style\":\"bold\",\"axis_line_alpha\":0.4,\"axis_line_color\":\"#E0E0E0\",\"coordinates\":null,\"formatter\":{\"id\":\"4497\"},\"group\":null,\"major_label_policy\":{\"id\":\"4498\"},\"major_label_text_color\":\"#E0E0E0\",\"major_label_text_font\":\"Josefin Sans\",\"major_label_text_font_size\":\"1.15em\",\"major_tick_line_alpha\":0.4,\"major_tick_line_color\":\"#E0E0E0\",\"minor_tick_line_alpha\":0.4,\"minor_tick_line_color\":\"#E0E0E0\",\"ticker\":{\"id\":\"4464\"}},\"id\":\"4463\",\"type\":\"LinearAxis\"},{\"attributes\":{},\"id\":\"4497\",\"type\":\"BasicTickFormatter\"},{\"attributes\":{},\"id\":\"4459\",\"type\":\"LinearScale\"},{\"attributes\":{\"axis\":{\"id\":\"4467\"},\"coordinates\":null,\"dimension\":1,\"grid_line_alpha\":0.15,\"grid_line_color\":\"#E0E0E0\",\"group\":null,\"ticker\":null},\"id\":\"4470\",\"type\":\"Grid\"},{\"attributes\":{\"fill_alpha\":{\"value\":0.2},\"fill_color\":{\"field\":\"color\"},\"hatch_alpha\":{\"value\":0.2},\"hatch_color\":{\"field\":\"color\"},\"line_alpha\":{\"value\":0.2},\"line_color\":{\"value\":\"white\"},\"size\":{\"value\":10},\"x\":{\"field\":\"x\"},\"y\":{\"field\":\"y\"}},\"id\":\"4489\",\"type\":\"Circle\"},{\"attributes\":{},\"id\":\"4468\",\"type\":\"BasicTicker\"},{\"attributes\":{\"fill_alpha\":{\"value\":0.1},\"fill_color\":{\"field\":\"color\"},\"hatch_alpha\":{\"value\":0.1},\"hatch_color\":{\"field\":\"color\"},\"line_alpha\":{\"value\":0.1},\"line_color\":{\"value\":\"white\"},\"size\":{\"value\":10},\"x\":{\"field\":\"x\"},\"y\":{\"field\":\"y\"}},\"id\":\"4488\",\"type\":\"Circle\"},{\"attributes\":{\"source\":{\"id\":\"4485\"}},\"id\":\"4491\",\"type\":\"CDSView\"},{\"attributes\":{\"coordinates\":null,\"data_source\":{\"id\":\"4485\"},\"glyph\":{\"id\":\"4487\"},\"group\":null,\"hover_glyph\":null,\"muted_glyph\":{\"id\":\"4489\"},\"nonselection_glyph\":{\"id\":\"4488\"},\"view\":{\"id\":\"4491\"}},\"id\":\"4490\",\"type\":\"GlyphRenderer\"},{\"attributes\":{},\"id\":\"4498\",\"type\":\"AllLabels\"},{\"attributes\":{\"bottom_units\":\"screen\",\"coordinates\":null,\"fill_alpha\":0.5,\"fill_color\":\"lightgrey\",\"group\":null,\"left_units\":\"screen\",\"level\":\"overlay\",\"line_alpha\":1.0,\"line_color\":\"black\",\"line_dash\":[4,4],\"line_width\":2,\"right_units\":\"screen\",\"syncable\":false,\"top_units\":\"screen\"},\"id\":\"4477\",\"type\":\"BoxAnnotation\"},{\"attributes\":{\"tools\":[{\"id\":\"4471\"},{\"id\":\"4472\"},{\"id\":\"4473\"},{\"id\":\"4474\"},{\"id\":\"4475\"},{\"id\":\"4476\"}]},\"id\":\"4478\",\"type\":\"Toolbar\"},{\"attributes\":{},\"id\":\"4499\",\"type\":\"UnionRenderers\"},{\"attributes\":{\"children\":[{\"id\":\"4505\"},{\"id\":\"4452\"},{\"id\":\"4526\"}],\"margin\":[0,0,0,0],\"name\":\"Row00141\"},\"id\":\"4504\",\"type\":\"Row\"},{\"attributes\":{\"margin\":[5,5,5,5],\"name\":\"HSpacer00138\",\"sizing_mode\":\"stretch_width\"},\"id\":\"4526\",\"type\":\"Spacer\"},{\"attributes\":{\"margin\":[5,5,5,5],\"name\":\"HSpacer00137\",\"sizing_mode\":\"stretch_width\"},\"id\":\"4505\",\"type\":\"Spacer\"},{\"attributes\":{},\"id\":\"4472\",\"type\":\"WheelZoomTool\"},{\"attributes\":{},\"id\":\"4455\",\"type\":\"DataRange1d\"},{\"attributes\":{},\"id\":\"4471\",\"type\":\"PanTool\"},{\"attributes\":{},\"id\":\"4500\",\"type\":\"Selection\"},{\"attributes\":{\"background_fill_alpha\":0.2,\"background_fill_color\":\"darkgrey\",\"border_line_alpha\":0.8,\"border_line_color\":\"grey\",\"border_line_width\":3,\"coordinates\":null,\"group\":null,\"items\":[{\"id\":\"4503\"}],\"label_text_color\":\"white\"},\"id\":\"4502\",\"type\":\"Legend\"},{\"attributes\":{\"client_comm_id\":\"f7e8a31c7a154505954fcddcfb0dc772\",\"comm_id\":\"10c64249c73f41818903425f3d853840\",\"plot_id\":\"4504\"},\"id\":\"4557\",\"type\":\"panel.models.comm_manager.CommManager\"},{\"attributes\":{\"overlay\":{\"id\":\"4477\"}},\"id\":\"4473\",\"type\":\"BoxZoomTool\"},{\"attributes\":{},\"id\":\"4475\",\"type\":\"ResetTool\"},{\"attributes\":{},\"id\":\"4474\",\"type\":\"SaveTool\"},{\"attributes\":{},\"id\":\"4494\",\"type\":\"BasicTickFormatter\"},{\"attributes\":{},\"id\":\"4495\",\"type\":\"AllLabels\"},{\"attributes\":{\"fill_alpha\":{\"value\":0.6},\"fill_color\":{\"field\":\"color\"},\"hatch_alpha\":{\"value\":0.6},\"hatch_color\":{\"field\":\"color\"},\"line_alpha\":{\"value\":0.6},\"line_color\":{\"value\":\"white\"},\"size\":{\"value\":10},\"x\":{\"field\":\"x\"},\"y\":{\"field\":\"y\"}},\"id\":\"4487\",\"type\":\"Circle\"},{\"attributes\":{\"data\":{\"color\":[\"midnightblue\",\"firebrick\",\"firebrick\",\"midnightblue\"],\"label\":[\"class 1\",\"class 2\",\"class 2\",\"class 1\"],\"x\":[-1,-1,1,1],\"y\":[-1,1,-1,1]},\"selected\":{\"id\":\"4500\"},\"selection_policy\":{\"id\":\"4499\"}},\"id\":\"4485\",\"type\":\"ColumnDataSource\"},{\"attributes\":{\"label\":{\"field\":\"label\"},\"renderers\":[{\"id\":\"4490\"}]},\"id\":\"4503\",\"type\":\"LegendItem\"},{\"attributes\":{\"background_fill_alpha\":0.9,\"background_fill_color\":\"#0f0f0f\",\"below\":[{\"id\":\"4463\"}],\"border_fill_alpha\":0.8,\"border_fill_color\":\"#111111\",\"center\":[{\"id\":\"4466\"},{\"id\":\"4470\"},{\"id\":\"4502\"}],\"height\":450,\"left\":[{\"id\":\"4467\"}],\"outline_line_alpha\":0.25,\"outline_line_color\":\"#E0E0E0\",\"outline_line_width\":3,\"renderers\":[{\"id\":\"4490\"}],\"right\":[{\"id\":\"4502\"}],\"title\":{\"id\":\"4453\"},\"toolbar\":{\"id\":\"4478\"},\"width\":700,\"x_range\":{\"id\":\"4455\"},\"x_scale\":{\"id\":\"4459\"},\"y_range\":{\"id\":\"4457\"},\"y_scale\":{\"id\":\"4461\"}},\"id\":\"4452\",\"subtype\":\"Figure\",\"type\":\"Plot\"}],\"root_ids\":[\"4504\",\"4557\"]},\"title\":\"Bokeh Application\",\"version\":\"2.4.3\"}};\n",
       "    var render_items = [{\"docid\":\"6f68e570-d848-453b-ba9c-bdb4cb31723a\",\"root_ids\":[\"4504\"],\"roots\":{\"4504\":\"f39a11c7-a48b-4c59-882d-1d8d9a9029dd\"}}];\n",
       "    root.Bokeh.embed.embed_items_notebook(docs_json, render_items);\n",
       "    for (const render_item of render_items) {\n",
       "      for (const root_id of render_item.root_ids) {\n",
       "\tconst id_el = document.getElementById(root_id)\n",
       "\tif (id_el.children.length && (id_el.children[0].className === 'bk-root')) {\n",
       "\t  const root_el = id_el.children[0]\n",
       "\t  root_el.id = root_el.id + '-rendered'\n",
       "\t}\n",
       "      }\n",
       "    }\n",
       "  }\n",
       "  if (root.Bokeh !== undefined && root.Bokeh.Panel !== undefined) {\n",
       "    embed_document(root);\n",
       "  } else {\n",
       "    var attempts = 0;\n",
       "    var timer = setInterval(function(root) {\n",
       "      if (root.Bokeh !== undefined && root.Bokeh.Panel !== undefined) {\n",
       "        clearInterval(timer);\n",
       "        embed_document(root);\n",
       "      } else if (document.readyState == \"complete\") {\n",
       "        attempts++;\n",
       "        if (attempts > 200) {\n",
       "          clearInterval(timer);\n",
       "          console.log(\"Bokeh: ERROR: Unable to run BokehJS code because BokehJS library is missing\");\n",
       "        }\n",
       "      }\n",
       "    }, 25, root)\n",
       "  }\n",
       "})(window);</script>"
      ],
      "text/plain": [
       "Row\n",
       "    [0] HSpacer()\n",
       "    [1] Bokeh(Figure)\n",
       "    [2] HSpacer()"
      ]
     },
     "execution_count": 11,
     "metadata": {
      "application/vnd.holoviews_exec.v0+json": {
       "id": "4504"
      }
     },
     "output_type": "execute_result"
    }
   ],
   "source": [
    "# Input patterns\n",
    "x_inputs = np.array([[-1, -1],[-1,  1],[1, -1],[1,  1]])\n",
    "# Corresponding classes\n",
    "y_class = np.array([0, 1, 1, 0])                        \n",
    "# Initialize based on their sizes\n",
    "n_inputs = x_inputs.shape[0]\n",
    "n_outputs = 1\n",
    "# Plot the XOR problem\n",
    "plot = center_plot(scatter_classes(x_inputs, y_class, title = \"XOR classification\"))\n",
    "plot"
   ]
  },
  {
   "cell_type": "markdown",
   "metadata": {
    "tags": []
   },
   "source": [
    "## Observing the problem interactively"
   ]
  },
  {
   "cell_type": "code",
   "execution_count": 12,
   "metadata": {
    "tags": []
   },
   "outputs": [
    {
     "name": "stdout",
     "output_type": "stream",
     "text": [
      "Creating the object\n"
     ]
    },
    {
     "data": {},
     "metadata": {},
     "output_type": "display_data"
    },
    {
     "data": {
      "application/vnd.holoviews_exec.v0+json": "",
      "text/html": [
       "<div id='4660'>\n",
       "  <div class=\"bk-root\" id=\"527a4947-ad06-47ca-9ecf-1eec36e38255\" data-root-id=\"4660\"></div>\n",
       "</div>\n",
       "<script type=\"application/javascript\">(function(root) {\n",
       "  function embed_document(root) {\n",
       "    var docs_json = {\"bfd6d826-c88a-491e-9f70-37655ab32da7\":{\"defs\":[{\"extends\":null,\"module\":null,\"name\":\"ReactiveHTML1\",\"overrides\":[],\"properties\":[]},{\"extends\":null,\"module\":null,\"name\":\"FlexBox1\",\"overrides\":[],\"properties\":[{\"default\":\"flex-start\",\"kind\":null,\"name\":\"align_content\"},{\"default\":\"flex-start\",\"kind\":null,\"name\":\"align_items\"},{\"default\":\"row\",\"kind\":null,\"name\":\"flex_direction\"},{\"default\":\"wrap\",\"kind\":null,\"name\":\"flex_wrap\"},{\"default\":\"flex-start\",\"kind\":null,\"name\":\"justify_content\"}]},{\"extends\":null,\"module\":null,\"name\":\"GridStack1\",\"overrides\":[],\"properties\":[{\"default\":\"warn\",\"kind\":null,\"name\":\"mode\"},{\"default\":null,\"kind\":null,\"name\":\"ncols\"},{\"default\":null,\"kind\":null,\"name\":\"nrows\"},{\"default\":true,\"kind\":null,\"name\":\"allow_resize\"},{\"default\":true,\"kind\":null,\"name\":\"allow_drag\"},{\"default\":[],\"kind\":null,\"name\":\"state\"}]},{\"extends\":null,\"module\":null,\"name\":\"click1\",\"overrides\":[],\"properties\":[{\"default\":\"\",\"kind\":null,\"name\":\"terminal_output\"},{\"default\":\"\",\"kind\":null,\"name\":\"debug_name\"},{\"default\":0,\"kind\":null,\"name\":\"clears\"}]},{\"extends\":null,\"module\":null,\"name\":\"NotificationAreaBase1\",\"overrides\":[],\"properties\":[{\"default\":\"bottom-right\",\"kind\":null,\"name\":\"position\"},{\"default\":0,\"kind\":null,\"name\":\"_clear\"}]},{\"extends\":null,\"module\":null,\"name\":\"NotificationArea1\",\"overrides\":[],\"properties\":[{\"default\":[],\"kind\":null,\"name\":\"notifications\"},{\"default\":\"bottom-right\",\"kind\":null,\"name\":\"position\"},{\"default\":0,\"kind\":null,\"name\":\"_clear\"},{\"default\":[{\"background\":\"#ffc107\",\"icon\":{\"className\":\"fas fa-exclamation-triangle\",\"color\":\"white\",\"tagName\":\"i\"},\"type\":\"warning\"},{\"background\":\"#007bff\",\"icon\":{\"className\":\"fas fa-info-circle\",\"color\":\"white\",\"tagName\":\"i\"},\"type\":\"info\"}],\"kind\":null,\"name\":\"types\"}]},{\"extends\":null,\"module\":null,\"name\":\"Notification\",\"overrides\":[],\"properties\":[{\"default\":null,\"kind\":null,\"name\":\"background\"},{\"default\":3000,\"kind\":null,\"name\":\"duration\"},{\"default\":null,\"kind\":null,\"name\":\"icon\"},{\"default\":\"\",\"kind\":null,\"name\":\"message\"},{\"default\":null,\"kind\":null,\"name\":\"notification_type\"},{\"default\":false,\"kind\":null,\"name\":\"_destroyed\"}]},{\"extends\":null,\"module\":null,\"name\":\"TemplateActions1\",\"overrides\":[],\"properties\":[{\"default\":0,\"kind\":null,\"name\":\"open_modal\"},{\"default\":0,\"kind\":null,\"name\":\"close_modal\"}]},{\"extends\":null,\"module\":null,\"name\":\"MaterialTemplateActions1\",\"overrides\":[],\"properties\":[{\"default\":0,\"kind\":null,\"name\":\"open_modal\"},{\"default\":0,\"kind\":null,\"name\":\"close_modal\"}]}],\"roots\":{\"references\":[{\"attributes\":{\"args\":{\"bidirectional\":true,\"properties\":{\"readonly\":\"disabled\"},\"source\":{\"id\":\"4690\"},\"target\":{\"id\":\"4690\"}},\"code\":\"\\n    var value = source['disabled'];\\n    value = value;\\n    value = value;\\n    try {\\n      var property = target.properties['readonly'];\\n      if (property !== undefined) { property.validate(value); }\\n    } catch(err) {\\n      console.log('WARNING: Could not set readonly on target, raised error: ' + err);\\n      return;\\n    }\\n    try {\\n      target['readonly'] = value;\\n    } catch(err) {\\n      console.log(err)\\n    }\\n    \",\"tags\":[[5977818832,[null,\"readonly\"],[null,\"disabled\"]]]},\"id\":\"4702\",\"type\":\"CustomJS\"},{\"attributes\":{\"bottom_units\":\"screen\",\"coordinates\":null,\"fill_alpha\":0.5,\"fill_color\":\"lightgrey\",\"group\":null,\"left_units\":\"screen\",\"level\":\"overlay\",\"line_alpha\":1.0,\"line_color\":\"black\",\"line_dash\":[4,4],\"line_width\":2,\"right_units\":\"screen\",\"syncable\":false,\"top_units\":\"screen\"},\"id\":\"4633\",\"type\":\"BoxAnnotation\"},{\"attributes\":{\"client_comm_id\":\"8cf98a5b6a01441092584d0faa18d765\",\"comm_id\":\"531861c69b0c4244ad45beba44ade06e\",\"plot_id\":\"4660\"},\"id\":\"4723\",\"type\":\"panel.models.comm_manager.CommManager\"},{\"attributes\":{},\"id\":\"4656\",\"type\":\"Selection\"},{\"attributes\":{},\"id\":\"4611\",\"type\":\"DataRange1d\"},{\"attributes\":{},\"id\":\"4617\",\"type\":\"LinearScale\"},{\"attributes\":{\"end\":5.0,\"margin\":[5,10,5,10],\"start\":0.0,\"step\":0.1,\"title\":\"Noise level\",\"value\":0.1},\"id\":\"4665\",\"type\":\"Slider\"},{\"attributes\":{\"background_fill_alpha\":0.2,\"background_fill_color\":\"darkgrey\",\"border_line_alpha\":0.8,\"border_line_color\":\"grey\",\"border_line_width\":3,\"coordinates\":null,\"group\":null,\"items\":[{\"id\":\"4659\"}],\"label_text_color\":\"white\"},\"id\":\"4658\",\"type\":\"Legend\"},{\"attributes\":{},\"id\":\"4613\",\"type\":\"DataRange1d\"},{\"attributes\":{\"coordinates\":null,\"group\":null,\"text\":\"XOR classification\",\"text_color\":\"#E0E0E0\",\"text_font\":\"Josefin Sans\",\"text_font_size\":\"2.1em\"},\"id\":\"4609\",\"type\":\"Title\"},{\"attributes\":{\"code\":\"    def generate_data(self):\\n        self.x, self.y = xor_separation(self.number_observations, self.dense_factor)\\n        super().generate_data()\",\"filename\":\"\",\"height\":60,\"js_property_callbacks\":{\"change:disabled\":[{\"id\":\"4702\"}],\"change:readonly\":[{\"id\":\"4701\"}]},\"language\":\"python\",\"margin\":[5,10,5,10],\"sizing_mode\":\"stretch_both\",\"theme\":\"chaos\"},\"id\":\"4690\",\"type\":\"panel.models.ace.AcePlot\"},{\"attributes\":{\"fill_alpha\":{\"value\":0.1},\"fill_color\":{\"field\":\"color\"},\"hatch_alpha\":{\"value\":0.1},\"hatch_color\":{\"field\":\"color\"},\"line_alpha\":{\"value\":0.1},\"line_color\":{\"value\":\"white\"},\"size\":{\"value\":10},\"x\":{\"field\":\"x\"},\"y\":{\"field\":\"y\"}},\"id\":\"4644\",\"type\":\"Circle\"},{\"attributes\":{\"axis_label\":\"$$\\\\color{white} \\\\mathbf{y}$$\",\"axis_label_standoff\":10,\"axis_label_text_color\":\"#FFFFFF\",\"axis_label_text_font\":\"Josefin Sans\",\"axis_label_text_font_size\":\"1.9em\",\"axis_label_text_font_style\":\"bold\",\"axis_line_alpha\":0.4,\"axis_line_color\":\"#E0E0E0\",\"coordinates\":null,\"formatter\":{\"id\":\"4650\"},\"group\":null,\"major_label_policy\":{\"id\":\"4651\"},\"major_label_text_color\":\"#E0E0E0\",\"major_label_text_font\":\"Josefin Sans\",\"major_label_text_font_size\":\"1.15em\",\"major_tick_line_alpha\":0.4,\"major_tick_line_color\":\"#E0E0E0\",\"minor_tick_line_alpha\":0.4,\"minor_tick_line_color\":\"#E0E0E0\",\"ticker\":{\"id\":\"4624\"}},\"id\":\"4623\",\"type\":\"LinearAxis\"},{\"attributes\":{\"labels\":[\"Error\"],\"margin\":[5,10,5,10]},\"id\":\"4667\",\"type\":\"CheckboxGroup\"},{\"attributes\":{\"label\":{\"field\":\"label\"},\"renderers\":[{\"id\":\"4646\"}]},\"id\":\"4659\",\"type\":\"LegendItem\"},{\"attributes\":{\"labels\":[\"Ground truth\"],\"margin\":[5,10,5,10]},\"id\":\"4666\",\"type\":\"CheckboxGroup\"},{\"attributes\":{\"tools\":[{\"id\":\"4627\"},{\"id\":\"4628\"},{\"id\":\"4629\"},{\"id\":\"4630\"},{\"id\":\"4631\"},{\"id\":\"4632\"}]},\"id\":\"4634\",\"type\":\"Toolbar\"},{\"attributes\":{},\"id\":\"4615\",\"type\":\"LinearScale\"},{\"attributes\":{\"children\":[{\"id\":\"4661\"},{\"id\":\"4690\"}],\"margin\":[0,0,0,0],\"name\":\"Column00169\"},\"id\":\"4660\",\"type\":\"Column\"},{\"attributes\":{\"children\":[{\"id\":\"4663\"},{\"id\":\"4664\"},{\"id\":\"4665\"},{\"id\":\"4666\"},{\"id\":\"4667\"},{\"id\":\"4668\"}],\"margin\":[5,5,5,5],\"min_width\":300,\"name\":\"Problem parameters\",\"width\":300},\"id\":\"4662\",\"type\":\"Column\"},{\"attributes\":{\"coordinates\":null,\"data_source\":{\"id\":\"4641\"},\"glyph\":{\"id\":\"4643\"},\"group\":null,\"hover_glyph\":null,\"muted_glyph\":{\"id\":\"4645\"},\"nonselection_glyph\":{\"id\":\"4644\"},\"view\":{\"id\":\"4647\"}},\"id\":\"4646\",\"type\":\"GlyphRenderer\"},{\"attributes\":{\"axis\":{\"id\":\"4619\"},\"coordinates\":null,\"grid_line_alpha\":0.15,\"grid_line_color\":\"#E0E0E0\",\"group\":null,\"ticker\":null},\"id\":\"4622\",\"type\":\"Grid\"},{\"attributes\":{},\"id\":\"4632\",\"type\":\"HelpTool\"},{\"attributes\":{},\"id\":\"4655\",\"type\":\"UnionRenderers\"},{\"attributes\":{\"margin\":[5,10,5,10],\"name\":\"\",\"text\":\"<b>Problem parameters</b>\"},\"id\":\"4663\",\"type\":\"Div\"},{\"attributes\":{\"axis\":{\"id\":\"4623\"},\"coordinates\":null,\"dimension\":1,\"grid_line_alpha\":0.15,\"grid_line_color\":\"#E0E0E0\",\"group\":null,\"ticker\":null},\"id\":\"4626\",\"type\":\"Grid\"},{\"attributes\":{\"fill_alpha\":{\"value\":0.6},\"fill_color\":{\"field\":\"color\"},\"hatch_alpha\":{\"value\":0.6},\"hatch_color\":{\"field\":\"color\"},\"line_alpha\":{\"value\":0.6},\"line_color\":{\"value\":\"white\"},\"size\":{\"value\":10},\"x\":{\"field\":\"x\"},\"y\":{\"field\":\"y\"}},\"id\":\"4643\",\"type\":\"Circle\"},{\"attributes\":{\"axis_label\":\"$$\\\\color{white} x$$\",\"axis_label_standoff\":10,\"axis_label_text_color\":\"#FFFFFF\",\"axis_label_text_font\":\"Josefin Sans\",\"axis_label_text_font_size\":\"1.9em\",\"axis_label_text_font_style\":\"bold\",\"axis_line_alpha\":0.4,\"axis_line_color\":\"#E0E0E0\",\"coordinates\":null,\"formatter\":{\"id\":\"4653\"},\"group\":null,\"major_label_policy\":{\"id\":\"4654\"},\"major_label_text_color\":\"#E0E0E0\",\"major_label_text_font\":\"Josefin Sans\",\"major_label_text_font_size\":\"1.15em\",\"major_tick_line_alpha\":0.4,\"major_tick_line_color\":\"#E0E0E0\",\"minor_tick_line_alpha\":0.4,\"minor_tick_line_color\":\"#E0E0E0\",\"ticker\":{\"id\":\"4620\"}},\"id\":\"4619\",\"type\":\"LinearAxis\"},{\"attributes\":{},\"id\":\"4627\",\"type\":\"PanTool\"},{\"attributes\":{},\"id\":\"4620\",\"type\":\"BasicTicker\"},{\"attributes\":{},\"id\":\"4651\",\"type\":\"AllLabels\"},{\"attributes\":{},\"id\":\"4628\",\"type\":\"WheelZoomTool\"},{\"attributes\":{},\"id\":\"4654\",\"type\":\"AllLabels\"},{\"attributes\":{\"source\":{\"id\":\"4641\"}},\"id\":\"4647\",\"type\":\"CDSView\"},{\"attributes\":{\"end\":0.9,\"margin\":[5,10,5,10],\"start\":0.01,\"step\":0.1,\"title\":\"Dense factor\",\"value\":0.1},\"id\":\"4668\",\"type\":\"Slider\"},{\"attributes\":{},\"id\":\"4630\",\"type\":\"SaveTool\"},{\"attributes\":{\"background_fill_alpha\":0.9,\"background_fill_color\":\"#0f0f0f\",\"below\":[{\"id\":\"4619\"}],\"border_fill_alpha\":0.8,\"border_fill_color\":\"#111111\",\"center\":[{\"id\":\"4622\"},{\"id\":\"4626\"},{\"id\":\"4658\"}],\"height\":450,\"left\":[{\"id\":\"4623\"}],\"outline_line_alpha\":0.25,\"outline_line_color\":\"#E0E0E0\",\"outline_line_width\":3,\"renderers\":[{\"id\":\"4646\"}],\"right\":[{\"id\":\"4658\"}],\"title\":{\"id\":\"4609\"},\"toolbar\":{\"id\":\"4634\"},\"width\":700,\"x_range\":{\"id\":\"4611\"},\"x_scale\":{\"id\":\"4615\"},\"y_range\":{\"id\":\"4613\"},\"y_scale\":{\"id\":\"4617\"}},\"id\":\"4608\",\"subtype\":\"Figure\",\"type\":\"Plot\"},{\"attributes\":{\"overlay\":{\"id\":\"4633\"}},\"id\":\"4629\",\"type\":\"BoxZoomTool\"},{\"attributes\":{\"args\":{\"bidirectional\":true,\"properties\":{\"readonly\":\"disabled\"},\"source\":{\"id\":\"4690\"},\"target\":{\"id\":\"4690\"}},\"code\":\"\\n    var value = source['readonly'];\\n    value = value;\\n    value = value;\\n    try {\\n      var property = target.properties['disabled'];\\n      if (property !== undefined) { property.validate(value); }\\n    } catch(err) {\\n      console.log('WARNING: Could not set disabled on target, raised error: ' + err);\\n      return;\\n    }\\n    try {\\n      target['disabled'] = value;\\n    } catch(err) {\\n      console.log(err)\\n    }\\n    \",\"tags\":[[5977818832,[null,\"readonly\"],[null,\"disabled\"]]]},\"id\":\"4701\",\"type\":\"CustomJS\"},{\"attributes\":{},\"id\":\"4631\",\"type\":\"ResetTool\"},{\"attributes\":{\"fill_alpha\":{\"value\":0.2},\"fill_color\":{\"field\":\"color\"},\"hatch_alpha\":{\"value\":0.2},\"hatch_color\":{\"field\":\"color\"},\"line_alpha\":{\"value\":0.2},\"line_color\":{\"value\":\"white\"},\"size\":{\"value\":10},\"x\":{\"field\":\"x\"},\"y\":{\"field\":\"y\"}},\"id\":\"4645\",\"type\":\"Circle\"},{\"attributes\":{\"children\":[{\"id\":\"4608\"}],\"margin\":[0,0,0,0],\"name\":\"Row00163\"},\"id\":\"4669\",\"type\":\"Row\"},{\"attributes\":{},\"id\":\"4653\",\"type\":\"BasicTickFormatter\"},{\"attributes\":{\"children\":[{\"id\":\"4662\"},{\"id\":\"4669\"}],\"margin\":[0,0,0,0],\"name\":\"Row00166\"},\"id\":\"4661\",\"type\":\"Row\"},{\"attributes\":{},\"id\":\"4624\",\"type\":\"BasicTicker\"},{\"attributes\":{\"end\":1000,\"margin\":[5,10,5,10],\"start\":10,\"title\":\"Number observations\",\"value\":100},\"id\":\"4664\",\"type\":\"Slider\"},{\"attributes\":{},\"id\":\"4650\",\"type\":\"BasicTickFormatter\"},{\"attributes\":{\"data\":{\"color\":[\"midnightblue\",\"midnightblue\",\"midnightblue\",\"midnightblue\",\"midnightblue\",\"midnightblue\",\"midnightblue\",\"midnightblue\",\"midnightblue\",\"midnightblue\",\"midnightblue\",\"midnightblue\",\"midnightblue\",\"midnightblue\",\"midnightblue\",\"midnightblue\",\"midnightblue\",\"midnightblue\",\"midnightblue\",\"midnightblue\",\"midnightblue\",\"midnightblue\",\"midnightblue\",\"midnightblue\",\"firebrick\",\"firebrick\",\"firebrick\",\"firebrick\",\"firebrick\",\"firebrick\",\"firebrick\",\"firebrick\",\"firebrick\",\"firebrick\",\"firebrick\",\"firebrick\",\"firebrick\",\"firebrick\",\"firebrick\",\"firebrick\",\"firebrick\",\"firebrick\",\"firebrick\",\"firebrick\",\"firebrick\",\"firebrick\",\"firebrick\",\"firebrick\",\"firebrick\",\"firebrick\",\"firebrick\",\"firebrick\",\"firebrick\",\"firebrick\",\"firebrick\",\"firebrick\",\"firebrick\",\"firebrick\",\"firebrick\",\"firebrick\",\"firebrick\",\"firebrick\",\"firebrick\",\"firebrick\",\"firebrick\",\"firebrick\",\"firebrick\",\"firebrick\",\"firebrick\",\"firebrick\",\"firebrick\",\"firebrick\",\"midnightblue\",\"midnightblue\",\"midnightblue\",\"midnightblue\",\"midnightblue\",\"midnightblue\",\"midnightblue\",\"midnightblue\",\"midnightblue\",\"midnightblue\",\"midnightblue\",\"midnightblue\",\"midnightblue\",\"midnightblue\",\"midnightblue\",\"midnightblue\",\"midnightblue\",\"midnightblue\",\"midnightblue\",\"midnightblue\",\"midnightblue\",\"midnightblue\",\"midnightblue\",\"midnightblue\"],\"label\":[\"class 1\",\"class 1\",\"class 1\",\"class 1\",\"class 1\",\"class 1\",\"class 1\",\"class 1\",\"class 1\",\"class 1\",\"class 1\",\"class 1\",\"class 1\",\"class 1\",\"class 1\",\"class 1\",\"class 1\",\"class 1\",\"class 1\",\"class 1\",\"class 1\",\"class 1\",\"class 1\",\"class 1\",\"class 2\",\"class 2\",\"class 2\",\"class 2\",\"class 2\",\"class 2\",\"class 2\",\"class 2\",\"class 2\",\"class 2\",\"class 2\",\"class 2\",\"class 2\",\"class 2\",\"class 2\",\"class 2\",\"class 2\",\"class 2\",\"class 2\",\"class 2\",\"class 2\",\"class 2\",\"class 2\",\"class 2\",\"class 2\",\"class 2\",\"class 2\",\"class 2\",\"class 2\",\"class 2\",\"class 2\",\"class 2\",\"class 2\",\"class 2\",\"class 2\",\"class 2\",\"class 2\",\"class 2\",\"class 2\",\"class 2\",\"class 2\",\"class 2\",\"class 2\",\"class 2\",\"class 2\",\"class 2\",\"class 2\",\"class 2\",\"class 1\",\"class 1\",\"class 1\",\"class 1\",\"class 1\",\"class 1\",\"class 1\",\"class 1\",\"class 1\",\"class 1\",\"class 1\",\"class 1\",\"class 1\",\"class 1\",\"class 1\",\"class 1\",\"class 1\",\"class 1\",\"class 1\",\"class 1\",\"class 1\",\"class 1\",\"class 1\",\"class 1\"],\"x\":{\"__ndarray__\":\"QcSHv/5Dbr/z6YW/yihYv7jDeb82vnO/AMF+v/51bb9fLUm/qmNrv60icr+3vIG/Y8Riv4oZZb/VrHW/Z/aYv2PCi7+6XYC/ks5Yv3YPjr+BPIG/15Rpvx/mf781S3K/daVhvwWxY79Et2W/kG59v5s5Vb97spC/FOlMv0R7mb+m832/k7eEv6zvgL9AZVu/qJOEv3MCgr+ANH2/7Dp0v7pzg7/0Jou/cy2Dv4PqZb90gWa//aN8vyL4ab/TX5K/WPF7Px/XjT/pYXs/pxg+P10JYD+gr5M/O0l/P1dVQT9wOVU/RJGGP7s9Wz+xnGY/3cuEPyyofD8LF1E/7MZnPxoMgD9VXmw/SRF6P8mHcj8YqT8/a9tsPx5+cz+b04A/kNNMPyerlT+m3YU/FP6APzVBjj+3wF8/GjRqP+RVjT9rpZQ/5u2QP38OaT8mKTc/ipyXP9NxZD8up5I/hJeRPyJ/iT/i2m4/ewx3P45Xkz8MRVI/nTKGP2AXeT8mVIU/\",\"dtype\":\"float32\",\"order\":\"little\",\"shape\":[96]},\"y\":{\"__ndarray__\":\"aJ5Sv8OIV7+fDYO/isWUv8+8lL/wPYe/CHOGv542jr+tCnK//5CTv55Zj788G3e/JZ6TvwZya7/eP1a/LkuQvyWKj79HHGS/vw5wvwFEhL9H/Yu/kJiDv587R78TP4y/OvFaP/cZPT9EjH0/ocGJPwg9fD9lDXs//yw7P+XniT/fa3M/1I+RPyLoeD8Yp48/JPuGP2YVbz92l28/JtyGP4WUkD9hnpQ/g8CDP1puYj9b44M/aO+IPwYdXT+kfpU/sBBwv1gdgr9Gn2a/Gsebv3/OSr8Im5W/c85lv3w5br90TZW/TkyMv4sBgb/IQHe/88CNv9Cwgb+bfoK/xNOdv7TaaL8VEZi/xmk2vxoIkL/mR3K/gB2Nv/TzfL8Oaoi/D7uCP+12UD/edYg/rnyHP3dDcj+Ygl4/WwqRP5Nvjj/7vYs/0aFtP0K4ez8acHk/+WltPz/jjj+zQZ8/m7eOP3cHiD+6FnU/b32LPy72Tz/Gem0/yhl3P1rdij8lXXs/\",\"dtype\":\"float32\",\"order\":\"little\",\"shape\":[96]}},\"selected\":{\"id\":\"4656\"},\"selection_policy\":{\"id\":\"4655\"}},\"id\":\"4641\",\"type\":\"ColumnDataSource\"}],\"root_ids\":[\"4660\",\"4723\"]},\"title\":\"Bokeh Application\",\"version\":\"2.4.3\"}};\n",
       "    var render_items = [{\"docid\":\"bfd6d826-c88a-491e-9f70-37655ab32da7\",\"root_ids\":[\"4660\"],\"roots\":{\"4660\":\"527a4947-ad06-47ca-9ecf-1eec36e38255\"}}];\n",
       "    root.Bokeh.embed.embed_items_notebook(docs_json, render_items);\n",
       "    for (const render_item of render_items) {\n",
       "      for (const root_id of render_item.root_ids) {\n",
       "\tconst id_el = document.getElementById(root_id)\n",
       "\tif (id_el.children.length && (id_el.children[0].className === 'bk-root')) {\n",
       "\t  const root_el = id_el.children[0]\n",
       "\t  root_el.id = root_el.id + '-rendered'\n",
       "\t}\n",
       "      }\n",
       "    }\n",
       "  }\n",
       "  if (root.Bokeh !== undefined && root.Bokeh.Panel !== undefined) {\n",
       "    embed_document(root);\n",
       "  } else {\n",
       "    var attempts = 0;\n",
       "    var timer = setInterval(function(root) {\n",
       "      if (root.Bokeh !== undefined && root.Bokeh.Panel !== undefined) {\n",
       "        clearInterval(timer);\n",
       "        embed_document(root);\n",
       "      } else if (document.readyState == \"complete\") {\n",
       "        attempts++;\n",
       "        if (attempts > 200) {\n",
       "          clearInterval(timer);\n",
       "          console.log(\"Bokeh: ERROR: Unable to run BokehJS code because BokehJS library is missing\");\n",
       "        }\n",
       "      }\n",
       "    }, 25, root)\n",
       "  }\n",
       "})(window);</script>"
      ],
      "text/plain": [
       "Column\n",
       "    [0] Row\n",
       "        [0] Param(ClassificationXOR, name='Problem parameters')\n",
       "        [1] ParamMethod(method, _pane=Bokeh)\n",
       "    [1] Ace(height=60, language='python', sizing_mode='stretch_both', theme='chaos', value='    def generate_data(sel...)"
      ]
     },
     "execution_count": 12,
     "metadata": {
      "application/vnd.holoviews_exec.v0+json": {
       "id": "4660"
      }
     },
     "output_type": "execute_result"
    }
   ],
   "source": [
    "from cml.tasks import ClassificationLinear, ClassificationXOR\n",
    "explorer = ClassificationXOR()\n",
    "explorer.render()"
   ]
  },
  {
   "cell_type": "markdown",
   "metadata": {},
   "source": [
    "## Solving the problem with the `scikit-learn` library\n",
    "\n",
    "As a side note, and as discussed in the previous course, there is obviously a lot of libraries that can perform the training of such networks for you directly, without understanding what is exactly going on behind the scene. A quite extensive library is `scikit-learn`, which contains already coded models and learning procedure, that will allow us to _learn_ the parameters of this unknown function.\n",
    "\n",
    "Here we will use a `MLPClassifier` model to perfom classification on standardized features that we rescale through the `LinearRegression` and that this polynomial should be of degree 2. "
   ]
  },
  {
   "cell_type": "code",
   "execution_count": 13,
   "metadata": {
    "tags": []
   },
   "outputs": [],
   "source": [
    "from sklearn.neural_network import MLPClassifier\n",
    "from sklearn.preprocessing import StandardScaler\n",
    "from sklearn.pipeline import make_pipeline\n",
    "# Create the MLP classifier\n",
    "classifier = MLPClassifier(alpha=1, max_iter=1000)\n",
    "# Standardize the input features\n",
    "clf = make_pipeline(StandardScaler(), classifier)"
   ]
  },
  {
   "cell_type": "markdown",
   "metadata": {},
   "source": [
    "Now based on this model definition, training it can be performed with a single line of code"
   ]
  },
  {
   "cell_type": "code",
   "execution_count": 14,
   "metadata": {
    "tags": []
   },
   "outputs": [],
   "source": [
    "from cml.data import xor_separation\n",
    "# Generate a XOR dataset\n",
    "x_inputs, y_classes = xor_separation(500, 0.1)\n",
    "# Train the MLP model\n",
    "clf.fit(x_inputs, y_classes);"
   ]
  },
  {
   "cell_type": "markdown",
   "metadata": {
    "tags": []
   },
   "source": [
    "## Multi-layer implementation\n",
    "\n",
    "In this exercise, we will implement the XOR classification resolution using NumPy and JAX. This classification problem cannot be solved with a simple linear classifier. Hence, we will need to use at least a 2-layer network. The minimal set of variables that will be used by your code should be the following.\n",
    "\n",
    "```Python\n",
    "x_inputs          # 2 x n matrix of random points\n",
    "y_class           # classes of the patterns \n",
    "n_hidden          # Number of hidden units\n",
    "eta               # Learning rate parameter\n",
    "momentum          # Momentum parameter (bonus)\n",
    "weights1          # 1st layer weights\n",
    "weights2          # 2nd layer weights\n",
    "mse_limit         # Sum-squared error limit\n",
    "```"
   ]
  },
  {
   "cell_type": "code",
   "execution_count": 15,
   "metadata": {
    "tags": []
   },
   "outputs": [],
   "source": [
    "# Number of hidden units\n",
    "n_hidden = 2\n",
    "# Learning rate parameter\n",
    "eta = 0.005\n",
    "# Momentum parameter\n",
    "momentum = 0.1\n",
    "# Sum-squared error limit\n",
    "mse_limit = 0.002"
   ]
  },
  {
   "cell_type": "markdown",
   "metadata": {
    "tags": []
   },
   "source": [
    "## Exercise 1 - 2-layers XOR classification\n",
    "\n",
    "<div class=\"alert alert-success\" markdown=\"1\" style=\"color:white; background-color: #013220; border-color: #03C03C\">\n",
    "\n",
    "> To complete this exercise, you will need to have a basic understanding of NumPy and JAX. You can use the resources provided in the previous exercises to learn more about these libraries.\n",
    "\n",
    "We help you out by first defining the XOR classification problem to solve (and outlining some basic properties)\n",
    "\n",
    "</div>"
   ]
  },
  {
   "cell_type": "code",
   "execution_count": 16,
   "metadata": {
    "tags": []
   },
   "outputs": [],
   "source": [
    "from cml.data import xor_separation\n",
    "# Definition of our data properties\n",
    "n_observations = 500\n",
    "noise_factor = 0.1\n",
    "# Properties of our problem\n",
    "n_input = 2\n",
    "n_output = 1\n",
    "# Generate a XOR dataset\n",
    "x_inputs, y_classes = xor_separation(n_observations, noise_factor)"
   ]
  },
  {
   "cell_type": "markdown",
   "metadata": {},
   "source": [
    "We also show some potential implementation of the **initialization scheme**. Note that you can later try to replace this naive implementation by some more refined functions"
   ]
  },
  {
   "cell_type": "code",
   "execution_count": 17,
   "metadata": {
    "tags": []
   },
   "outputs": [],
   "source": [
    "# 1st layer weights\n",
    "weights1 = (np.random.randn(n_hidden, n_input) * 0.01)\n",
    "# 2nd layer weights\n",
    "weights2 = (np.random.randn(n_output, n_hidden) * 0.01)\n",
    "# 1st layer biases\n",
    "bias1 = (np.random.randn(n_hidden, 1) * 0.01)\n",
    "# 2nd layer biases\n",
    "bias2 = (np.random.randn(n_output, 1) * 0.01)"
   ]
  },
  {
   "cell_type": "markdown",
   "metadata": {},
   "source": [
    "***\n",
    "\n",
    "<div class=\"alert alert-success\" markdown=\"1\" style=\"color:white; background-color: #013220; border-color: #03C03C\">\n",
    "\n",
    "> ### Question 1.1 - Implement 2-layer XOR classification with NumPy\n",
    "\n",
    "> 1. Update the forward propagation and error computation\n",
    "> 2. Update the back-propagation part to learn the weights of both layers.\n",
    "> 3. Run the learning and check your network results\n",
    "  \n",
    "*For optional questions, please look at the end of this exercise's code boxes for more information*\n",
    "\n",
    "</div>\n",
    "\n",
    "***"
   ]
  },
  {
   "cell_type": "code",
   "execution_count": null,
   "metadata": {},
   "outputs": [],
   "source": [
    "\n",
    "######################\n",
    "# YOUR CODE GOES HERE\n",
    "######################\n"
   ]
  },
  {
   "cell_type": "markdown",
   "metadata": {},
   "source": [
    "***\n",
    "\n",
    "<div class=\"alert alert-success\" markdown=\"1\" style=\"color:white; background-color: #013220; border-color: #03C03C\">\n",
    "\n",
    "> ### Question 1.2 - Implement XOR classification with JAX\n",
    "\n",
    "> 1. Perform the same implementation as previously with JAX\n",
    "> 2. Implement gradient descent to optimize the weights and bias.\n",
    "\n",
    "</div>\n",
    "\n",
    "***"
   ]
  },
  {
   "cell_type": "code",
   "execution_count": null,
   "metadata": {},
   "outputs": [],
   "source": [
    "\n",
    "######################\n",
    "# YOUR CODE GOES HERE\n",
    "######################\n"
   ]
  },
  {
   "cell_type": "markdown",
   "metadata": {},
   "source": [
    "***\n",
    "\n",
    "<div class=\"alert alert-success\" markdown=\"1\" style=\"color:white; background-color: #013220; border-color: #03C03C\">\n",
    "\n",
    "> ### Question 1.3 - Understanding properties of our implementation\n",
    "\n",
    "> 4. Perform multiple re-runs of the learning procedure (re-launching with different initializations)\n",
    ">     1. What observations can you make on the learning process?\n",
    ">     2. What happens if you initialize all weights to zeros?\n",
    ">     3. Change your initialization and regularization scheme\n",
    "\n",
    "</div>\n",
    "\n",
    "***"
   ]
  },
  {
   "cell_type": "code",
   "execution_count": null,
   "metadata": {},
   "outputs": [],
   "source": [
    "\n",
    "######################\n",
    "# YOUR CODE GOES HERE\n",
    "######################\n"
   ]
  },
  {
   "cell_type": "markdown",
   "metadata": {},
   "source": [
    "***\n",
    "\n",
    "<div class=\"alert alert-success\" markdown=\"1\" style=\"color:white; background-color: #192841; border-color: #779ecb\">\n",
    "\n",
    "> ### Going further\n",
    "\n",
    "> The following set of questions are optionnal addendum to your previous code that allow to understand more in-depth properties about _regularization_ both for neural networks and optimization in general.\n",
    "\n",
    "> 1. (Optional) Implement the *weight decay* constraint in your network.\n",
    "> 2. (Optional) Add the *momentum* to the learning procedure.\n",
    "\n",
    "> *Weight decay* constraint\n",
    "> As nothing constrains the weights in the network, we can note that usually all weights vector given a multiplicative factor might be equivalent, which can stall the learning (and lead to exploding weights). The *weight decay* allows to regularize the learning by penalizing weights with a too wide amplitude. The idea is to add this constraint as a term to the final loss (which leads to an indirect \"pressure\" on the learning process. Therefore, the final loss will be defined as\n",
    "> $$\n",
    "\\begin{equation}\n",
    "\\mathcal{L}_{final}=\\mathcal{L_D} + \\lambda \\sum_{l} \\sum_{i} \\sum_{j} \\left( W_{ij}^{l} \\right)^{2}\n",
    "\\end{equation}\n",
    "$$\n",
    "> where the parameter $\\lambda$ controls the relative importance of the two terms.\n",
    "\n",
    "> *Momentum* in learning\n",
    "> Usually, in complex problems, the gradient can be very noisy and, therefore, the learning might oscillate widely. In order to reduce this problem, we can *smooth* the different gradient updates by retaining the values of the gradient at each iteration and then performing an update based on the latest gradient $\\delta_{i}^{t}$ and the gradient at the previous iteration $\\delta_{i}^{t-1}$. Therefore, a gradient update is applied as\n",
    "> $$\n",
    "\\begin{equation}\n",
    "\\delta_{final}^{t} = \\delta_{i}^{t} + m.\\delta_{i}^{t-1}\n",
    "\\end{equation}\n",
    "$$\n",
    "> with $m$ the momentum parameter, which control the amount of gradient smoothing.\n",
    "\n",
    "</div>\n",
    "\n",
    "***"
   ]
  },
  {
   "cell_type": "code",
   "execution_count": null,
   "metadata": {},
   "outputs": [],
   "source": [
    "\n",
    "######################\n",
    "# YOUR CODE GOES HERE\n",
    "######################\n"
   ]
  },
  {
   "cell_type": "markdown",
   "metadata": {},
   "source": [
    "## (Optional) 3-layer audio classification\n",
    "\n",
    "Once again, note that the following paragraph and subsequent questions are _optional_ but should be a quite simple extension of our previous work on 2-layer networks. If you struggle with the data import mechanisms, you can look down at the PyTorch section (with a **mandatory exercise**) that will provide base code for this aspect. \n",
    "\n",
    "Finally, we will attack a complete audio classification problem and try to perform neural network learning on a set of audio files. The data structure will be the same as the one used for parts 1 and 2. As discussed during the courses, even though a 2-layer neural network can provide non-linear boundaries, it can not perform \"holes\" inside those regions. In order to obtain an improved classification, we will now rely on a 3-layer neural network. The modification to the code of section 3.2 should be minimal, as the back-propagation will be similar for the new layer as one of the two others. We do not develop the math here as it is simply a re-application of the previous rules with an additional layer (which derivatives you should have generalized in the previous exercise).  \n",
    "\n",
    "However, up until now, we only performed *binary classification* problems, but this time we need to obtain a decision rule for multiple classes. Therefore, we cannot rely on simply computing the distance between desired patterns and the obtained binary value. The idea here is to rely on the *softmax regression*, by considering classes as a vector of probabilities. The desired answers will therefore be considered as a set of *probabilities*, where the desired class is $1$ and the others are $0$ (called *one-hot* representation). Then, the cost function will rely on the softmax formulation\n",
    "\n",
    "$$\n",
    "\\begin{equation}\n",
    "\\mathcal{L_D}(\\theta) = - \\frac{1}{m} \\left[ \\sum_{i=1}^{m} \\sum_{j=1}^{k} 1\\left\\{y^{(i)} = j\\right\\} \\log \\frac{e^{\\theta_{j}^{T} x^{(i)}}}{\\sum_{l=1}^{k} e^{ \\theta_{l}^{T} x^{(i)} }}  \\right]\n",
    "\\end{equation}\n",
    "$$\n",
    "\n",
    "Therefore, we compute the output of the softmax by taking \n",
    "\n",
    "$$\n",
    "\\begin{equation}\n",
    "p(y^{(i)} = j | x^{(i)}; \\theta) = \\frac{e^{\\theta_{j}^{T} x^{(i)}}}{\\sum_{l=1}^{k} e^{ \\theta_{l}^{T} x^{(i)}} }\n",
    "\\end{equation}\n",
    "$$\n",
    "\n",
    "By taking derivatives, we can show that the gradient of the softmax layer is\n",
    "\n",
    "$$\n",
    "\\begin{equation}\n",
    "\\nabla_{\\theta_{j}} \\mathcal{L_D}(\\theta) = - \\frac{1}{m} \\sum_{i=1}^{m}{ \\left[ x^{(i)} \\left( 1\\{ y^{(i)} = j\\}  - p(y^{(i)} = j \\mid x^{(i)}, \\theta) \\right) \\right]}\n",
    "\\end{equation}\n",
    "$$"
   ]
  },
  {
   "cell_type": "markdown",
   "metadata": {},
   "source": [
    "### Sweet activation functions\n",
    "\n",
    "As discussed in the course, the interest of stacking layers is that there is an _activation function_, which allows non-linear interactions between the dimensions (and avoids to only compute a single huge affine transform). Although the `sigmoid` function has been historically the most used, there has been some large developments since. Notably the `ReLU` (Rectified Linear Unit) is one of the major difference in modern networks (we will see more about that in a later course)"
   ]
  },
  {
   "cell_type": "code",
   "execution_count": 29,
   "metadata": {},
   "outputs": [],
   "source": [
    "# Function for computing the Sigmoid activation\n",
    "def sigmoid(x):\n",
    "    return 1 / (1 + np.exp(-x))\n",
    "# Derivative\n",
    "def dsigmoid(a):\n",
    "    return a * (1.0 - a)\n",
    "# Function for computing the ReLU activation\n",
    "def relu(x):\n",
    "    return np.maximum(0, x)\n",
    "# Derivative\n",
    "def drelu(x):\n",
    "    if (x < 0):\n",
    "        return 0\n",
    "    return 1\n",
    "# Function for computing the Tanh activation\n",
    "def tanh(x):\n",
    "    return np.tanh(x);\n",
    "# Derivative\n",
    "def dtanh(x): \n",
    "    return np.cosh(x) ^ -2"
   ]
  },
  {
   "cell_type": "markdown",
   "metadata": {},
   "source": [
    "Here, we plot some simple examples of what these activation functions look like. You can try to rely on these functions in your previous training code and witness the differences in training.\n"
   ]
  },
  {
   "cell_type": "code",
   "execution_count": 23,
   "metadata": {},
   "outputs": [
    {
     "data": {},
     "metadata": {},
     "output_type": "display_data"
    },
    {
     "data": {
      "application/vnd.holoviews_exec.v0+json": "",
      "text/html": [
       "<div id='4210'>\n",
       "  <div class=\"bk-root\" id=\"9d0d059d-3d72-4cc5-aadf-97f393bc9b0b\" data-root-id=\"4210\"></div>\n",
       "</div>\n",
       "<script type=\"application/javascript\">(function(root) {\n",
       "  function embed_document(root) {\n",
       "    var docs_json = {\"c6b166bf-d91b-4d39-bc41-f9de9c5a081a\":{\"defs\":[{\"extends\":null,\"module\":null,\"name\":\"ReactiveHTML1\",\"overrides\":[],\"properties\":[]},{\"extends\":null,\"module\":null,\"name\":\"FlexBox1\",\"overrides\":[],\"properties\":[{\"default\":\"flex-start\",\"kind\":null,\"name\":\"align_content\"},{\"default\":\"flex-start\",\"kind\":null,\"name\":\"align_items\"},{\"default\":\"row\",\"kind\":null,\"name\":\"flex_direction\"},{\"default\":\"wrap\",\"kind\":null,\"name\":\"flex_wrap\"},{\"default\":\"flex-start\",\"kind\":null,\"name\":\"justify_content\"}]},{\"extends\":null,\"module\":null,\"name\":\"GridStack1\",\"overrides\":[],\"properties\":[{\"default\":\"warn\",\"kind\":null,\"name\":\"mode\"},{\"default\":null,\"kind\":null,\"name\":\"ncols\"},{\"default\":null,\"kind\":null,\"name\":\"nrows\"},{\"default\":true,\"kind\":null,\"name\":\"allow_resize\"},{\"default\":true,\"kind\":null,\"name\":\"allow_drag\"},{\"default\":[],\"kind\":null,\"name\":\"state\"}]},{\"extends\":null,\"module\":null,\"name\":\"click1\",\"overrides\":[],\"properties\":[{\"default\":\"\",\"kind\":null,\"name\":\"terminal_output\"},{\"default\":\"\",\"kind\":null,\"name\":\"debug_name\"},{\"default\":0,\"kind\":null,\"name\":\"clears\"}]},{\"extends\":null,\"module\":null,\"name\":\"NotificationAreaBase1\",\"overrides\":[],\"properties\":[{\"default\":\"bottom-right\",\"kind\":null,\"name\":\"position\"},{\"default\":0,\"kind\":null,\"name\":\"_clear\"}]},{\"extends\":null,\"module\":null,\"name\":\"NotificationArea1\",\"overrides\":[],\"properties\":[{\"default\":[],\"kind\":null,\"name\":\"notifications\"},{\"default\":\"bottom-right\",\"kind\":null,\"name\":\"position\"},{\"default\":0,\"kind\":null,\"name\":\"_clear\"},{\"default\":[{\"background\":\"#ffc107\",\"icon\":{\"className\":\"fas fa-exclamation-triangle\",\"color\":\"white\",\"tagName\":\"i\"},\"type\":\"warning\"},{\"background\":\"#007bff\",\"icon\":{\"className\":\"fas fa-info-circle\",\"color\":\"white\",\"tagName\":\"i\"},\"type\":\"info\"}],\"kind\":null,\"name\":\"types\"}]},{\"extends\":null,\"module\":null,\"name\":\"Notification\",\"overrides\":[],\"properties\":[{\"default\":null,\"kind\":null,\"name\":\"background\"},{\"default\":3000,\"kind\":null,\"name\":\"duration\"},{\"default\":null,\"kind\":null,\"name\":\"icon\"},{\"default\":\"\",\"kind\":null,\"name\":\"message\"},{\"default\":null,\"kind\":null,\"name\":\"notification_type\"},{\"default\":false,\"kind\":null,\"name\":\"_destroyed\"}]},{\"extends\":null,\"module\":null,\"name\":\"TemplateActions1\",\"overrides\":[],\"properties\":[{\"default\":0,\"kind\":null,\"name\":\"open_modal\"},{\"default\":0,\"kind\":null,\"name\":\"close_modal\"}]},{\"extends\":null,\"module\":null,\"name\":\"MaterialTemplateActions1\",\"overrides\":[],\"properties\":[{\"default\":0,\"kind\":null,\"name\":\"open_modal\"},{\"default\":0,\"kind\":null,\"name\":\"close_modal\"}]}],\"roots\":{\"references\":[{\"attributes\":{},\"id\":\"4153\",\"type\":\"HelpTool\"},{\"attributes\":{},\"id\":\"4095\",\"type\":\"DataRange1d\"},{\"attributes\":{},\"id\":\"4145\",\"type\":\"BasicTicker\"},{\"attributes\":{\"children\":[{\"id\":\"4211\"},{\"id\":\"4209\"},{\"id\":\"4272\"}],\"margin\":[0,0,0,0],\"name\":\"Row00190\"},\"id\":\"4210\",\"type\":\"Row\"},{\"attributes\":{},\"id\":\"4228\",\"type\":\"BasicTickFormatter\"},{\"attributes\":{},\"id\":\"4093\",\"type\":\"DataRange1d\"},{\"attributes\":{\"data\":{\"x\":{\"__ndarray__\":\"AAAAAAAAFMBDYt7OkJgTwIbEvJ0hMRPAyiabbLLJEsANiXk7Q2ISwFDrVwrU+hHAk0022WSTEcDXrxSo9SsRwBoS83aGxBDAXXTRRRddEMBArV8pUOsPwMdxHMdxHA/ATjbZZJNNDsDU+pUCtX4NwFq/UqDWrwzA4YMPPvjgC8BoSMzbGRILwO4MiXk7QwrAdNFFF110CcD7lQK1fqUIwIFav1Kg1gfACB988MEHB8CO4ziO4zgGwBWo9SsFagXAm2yyySabBMAiMW9nSMwDwKj1KwVq/QLAL7rooosuAsC1fqVArV8BwDxDYt7OkADAhA8++OCD/7+SmLczJOb9v54hMW9nSPy/qqqqqqqq+r+4MyTm7Qz5v8S8nSExb/e/0kUXXXTR9b/ezpCYtzP0v+xXCtT6lfK/+OCDDz748L8I1PqVArXuvyjm7QyJeeu/QPjggw8+6L9YCtT6lQLlv3Acx3Ecx+G/IF100UUX3b9QgVq/UqDWv4ClQK1fKdC/YJNNNtlkw78Ab2dIzNupvwBvZ0jM26k/YJNNNtlkwz+ApUCtXynQP1CBWr9SoNY/EF100UUX3T9wHMdxHMfhP1gK1PqVAuU/QPjggw8+6D8g5u0MiXnrPwjU+pUCte4/+OCDDz748D/sVwrU+pXyP9zOkJi3M/Q/0EUXXXTR9T/EvJ0hMW/3P7gzJObtDPk/rKqqqqqq+j+cITFvZ0j8P5CYtzMk5v0/hA8++OCD/z88Q2LezpAAQLR+pUCtXwFALrrooosuAkCo9SsFav0CQCIxb2dIzANAmmyyySabBEAUqPUrBWoFQI7jOI7jOAZACB988MEHB0CAWr9SoNYHQPyVArV+pQhAdNFFF110CUDsDIl5O0MKQGhIzNsZEgtA4IMPPvjgC0Bcv1Kg1q8MQNT6lQK1fg1ATDbZZJNNDkDIcRzHcRwPQECtXylQ6w9AXHTRRRddEEAaEvN2hsQQQNavFKj1KxFAlE022WSTEUBQ61cK1PoRQAyJeTtDYhJAyiabbLLJEkCGxLydITETQERi3s6QmBNAAAAAAAAAFEA=\",\"dtype\":\"float64\",\"order\":\"little\",\"shape\":[100]},\"y\":{\"__ndarray__\":\"jo9jffZpez8zICEkXk5+P3YuqyAfwIA/p+JVusaDgj8N8g/shXaEP/byi48qnYY/0BjB9/n8iD/WZNY4u5uLP6vI/AXCf44/EJSHDf3XkD/6lO+Q+ZmSP06i3332iZQ/VzdyJ3Kslj8nJDSWTwaZPwVPZcvcnJs/Nz7K0Nh1nj/SLj+0vMugP2FCABM4hKI/cEoQV/dnpD/TN0jn1HqmPztu44ftwKg/IjxyKqA+qz9GueiGjPitP6x4HxzIebA/Bir+B2Easj+U/wqnteCzPwKDQzN/z7U/d+J5foXptz/t5tFglzG6PykCu3GBqrw/UGnG7AJXvz+DDaxX4BzBP1E7QSabqsI/LnfnpNJVxD9YIjhZgR/GPxsQCKdxCMg/578cdjMRyj/8P9qtETrMP6bqzeUHg84/wifXXdx10D+UG9WmsrnRP5JJRzBzDNM/B5ki3VNt1D+dUU4YU9vVP7IneGw4Vdc/QWJr05bZ2D+hWanP0GbaPzYfqEoe+9s/yqt2F5SU3T+jHszeLDHfP6/wmZBpZ+A/G6pE9LU14T9l8KvacALiPy9TK5iXzOI/3U5KljST4z8n7MPJY1XkPzLX2HNWEuU/fbNuEVbJ5T81W9xnxnnmPzZylawmI+c/H2wU0RHF5z9XhYwGPl/oPwBwiZR78eg/BtB4IrN76T/6+z2W4/3pP2n3sakfeOo/NSLGVovq6j8ssW82WVXrP5/8FOrHuOs/1jJnoh8V7D+6n8jRr2rsPyHD5RPNuew/scMwUM8C7T+gj5cZEEbtPw2gHkvpg+0/vjoA37O87T/qEHz8xvDtP2t0kTd3IO4/PtxY/RVM7j8byYEn8XPuP4R8i7FSmO4/WPuOioC57j/b+89+vNfuPxMNvDRE8+4/Dq55OVEM7z+I1aQZGSPvP95eToPNN+8/Rm7EbpxK7z/tAhFMsFvvP1iDeDMwa+8/YMOTF0B57z/eDOj3AIbvP22mHBORke8/nfsgGAyc7z800MFVi6XvPzjAT+glru8/dqgW5fC17z9GU32D/7zvP8C9t0Njw+8/4jgFEyzJ7z8=\",\"dtype\":\"float64\",\"order\":\"little\",\"shape\":[100]}},\"selected\":{\"id\":\"4234\"},\"selection_policy\":{\"id\":\"4233\"}},\"id\":\"4123\",\"type\":\"ColumnDataSource\"},{\"attributes\":{\"children\":[{\"id\":\"4090\"},{\"id\":\"4129\"},{\"id\":\"4168\"}]},\"id\":\"4208\",\"type\":\"Row\"},{\"attributes\":{},\"id\":\"4216\",\"type\":\"BasicTickFormatter\"},{\"attributes\":{\"source\":{\"id\":\"4201\"}},\"id\":\"4206\",\"type\":\"CDSView\"},{\"attributes\":{},\"id\":\"4229\",\"type\":\"AllLabels\"},{\"attributes\":{\"coordinates\":null,\"group\":null,\"text\":\"Sigmoid\",\"text_color\":\"#E0E0E0\",\"text_font\":\"Josefin Sans\",\"text_font_size\":\"2.1em\"},\"id\":\"4091\",\"type\":\"Title\"},{\"attributes\":{\"axis_label_standoff\":10,\"axis_label_text_color\":\"#FFFFFF\",\"axis_label_text_font\":\"Josefin Sans\",\"axis_label_text_font_size\":\"1.9em\",\"axis_label_text_font_style\":\"bold\",\"axis_line_alpha\":0.4,\"axis_line_color\":\"#E0E0E0\",\"coordinates\":null,\"formatter\":{\"id\":\"4216\"},\"group\":null,\"major_label_policy\":{\"id\":\"4217\"},\"major_label_text_color\":\"#E0E0E0\",\"major_label_text_font\":\"Josefin Sans\",\"major_label_text_font_size\":\"1.15em\",\"major_tick_line_alpha\":0.4,\"major_tick_line_color\":\"#E0E0E0\",\"minor_tick_line_alpha\":0.4,\"minor_tick_line_color\":\"#E0E0E0\",\"ticker\":{\"id\":\"4106\"}},\"id\":\"4105\",\"type\":\"LinearAxis\"},{\"attributes\":{},\"id\":\"4217\",\"type\":\"AllLabels\"},{\"attributes\":{\"style\":{\"font-size\":\"250%\"},\"text\":\"Different activation functions\"},\"id\":\"4207\",\"type\":\"Div\"},{\"attributes\":{\"axis_label_standoff\":10,\"axis_label_text_color\":\"#FFFFFF\",\"axis_label_text_font\":\"Josefin Sans\",\"axis_label_text_font_size\":\"1.9em\",\"axis_label_text_font_style\":\"bold\",\"axis_line_alpha\":0.4,\"axis_line_color\":\"#E0E0E0\",\"coordinates\":null,\"formatter\":{\"id\":\"4231\"},\"group\":null,\"major_label_policy\":{\"id\":\"4232\"},\"major_label_text_color\":\"#E0E0E0\",\"major_label_text_font\":\"Josefin Sans\",\"major_label_text_font_size\":\"1.15em\",\"major_tick_line_alpha\":0.4,\"major_tick_line_color\":\"#E0E0E0\",\"minor_tick_line_alpha\":0.4,\"minor_tick_line_color\":\"#E0E0E0\",\"ticker\":{\"id\":\"4180\"}},\"id\":\"4179\",\"type\":\"LinearAxis\"},{\"attributes\":{},\"id\":\"4231\",\"type\":\"BasicTickFormatter\"},{\"attributes\":{},\"id\":\"4097\",\"type\":\"LinearScale\"},{\"attributes\":{},\"id\":\"4219\",\"type\":\"BasicTickFormatter\"},{\"attributes\":{\"line_alpha\":0.2,\"line_color\":\"yellow\",\"line_width\":4,\"x\":{\"field\":\"x\"},\"y\":{\"field\":\"y\"}},\"id\":\"4204\",\"type\":\"Line\"},{\"attributes\":{},\"id\":\"4239\",\"type\":\"UnionRenderers\"},{\"attributes\":{\"line_alpha\":0.1,\"line_color\":\"yellow\",\"line_width\":4,\"x\":{\"field\":\"x\"},\"y\":{\"field\":\"y\"}},\"id\":\"4203\",\"type\":\"Line\"},{\"attributes\":{},\"id\":\"4232\",\"type\":\"AllLabels\"},{\"attributes\":{\"line_alpha\":0.1,\"line_color\":\"orange\",\"line_width\":4,\"x\":{\"field\":\"x\"},\"y\":{\"field\":\"y\"}},\"id\":\"4164\",\"type\":\"Line\"},{\"attributes\":{},\"id\":\"4220\",\"type\":\"AllLabels\"},{\"attributes\":{},\"id\":\"4240\",\"type\":\"Selection\"},{\"attributes\":{},\"id\":\"4190\",\"type\":\"SaveTool\"},{\"attributes\":{},\"id\":\"4192\",\"type\":\"HelpTool\"},{\"attributes\":{\"axis\":{\"id\":\"4144\"},\"coordinates\":null,\"dimension\":1,\"grid_line_alpha\":0.15,\"grid_line_color\":\"#E0E0E0\",\"group\":null,\"ticker\":null},\"id\":\"4147\",\"type\":\"Grid\"},{\"attributes\":{\"children\":[{\"id\":\"4207\"},{\"id\":\"4208\"}]},\"id\":\"4209\",\"type\":\"Column\"},{\"attributes\":{},\"id\":\"4191\",\"type\":\"ResetTool\"},{\"attributes\":{\"overlay\":{\"id\":\"4193\"}},\"id\":\"4189\",\"type\":\"BoxZoomTool\"},{\"attributes\":{\"margin\":[5,5,5,5],\"name\":\"HSpacer00187\",\"sizing_mode\":\"stretch_width\"},\"id\":\"4272\",\"type\":\"Spacer\"},{\"attributes\":{\"overlay\":{\"id\":\"4154\"}},\"id\":\"4150\",\"type\":\"BoxZoomTool\"},{\"attributes\":{},\"id\":\"4233\",\"type\":\"UnionRenderers\"},{\"attributes\":{\"bottom_units\":\"screen\",\"coordinates\":null,\"fill_alpha\":0.5,\"fill_color\":\"lightgrey\",\"group\":null,\"left_units\":\"screen\",\"level\":\"overlay\",\"line_alpha\":1.0,\"line_color\":\"black\",\"line_dash\":[4,4],\"line_width\":2,\"right_units\":\"screen\",\"syncable\":false,\"top_units\":\"screen\"},\"id\":\"4193\",\"type\":\"BoxAnnotation\"},{\"attributes\":{},\"id\":\"4187\",\"type\":\"PanTool\"},{\"attributes\":{},\"id\":\"4234\",\"type\":\"Selection\"},{\"attributes\":{\"line_alpha\":0.1,\"line_color\":\"red\",\"line_width\":4,\"x\":{\"field\":\"x\"},\"y\":{\"field\":\"y\"}},\"id\":\"4125\",\"type\":\"Line\"},{\"attributes\":{},\"id\":\"4180\",\"type\":\"BasicTicker\"},{\"attributes\":{},\"id\":\"4171\",\"type\":\"DataRange1d\"},{\"attributes\":{\"data\":{\"x\":{\"__ndarray__\":\"AAAAAAAAFMBDYt7OkJgTwIbEvJ0hMRPAyiabbLLJEsANiXk7Q2ISwFDrVwrU+hHAk0022WSTEcDXrxSo9SsRwBoS83aGxBDAXXTRRRddEMBArV8pUOsPwMdxHMdxHA/ATjbZZJNNDsDU+pUCtX4NwFq/UqDWrwzA4YMPPvjgC8BoSMzbGRILwO4MiXk7QwrAdNFFF110CcD7lQK1fqUIwIFav1Kg1gfACB988MEHB8CO4ziO4zgGwBWo9SsFagXAm2yyySabBMAiMW9nSMwDwKj1KwVq/QLAL7rooosuAsC1fqVArV8BwDxDYt7OkADAhA8++OCD/7+SmLczJOb9v54hMW9nSPy/qqqqqqqq+r+4MyTm7Qz5v8S8nSExb/e/0kUXXXTR9b/ezpCYtzP0v+xXCtT6lfK/+OCDDz748L8I1PqVArXuvyjm7QyJeeu/QPjggw8+6L9YCtT6lQLlv3Acx3Ecx+G/IF100UUX3b9QgVq/UqDWv4ClQK1fKdC/YJNNNtlkw78Ab2dIzNupvwBvZ0jM26k/YJNNNtlkwz+ApUCtXynQP1CBWr9SoNY/EF100UUX3T9wHMdxHMfhP1gK1PqVAuU/QPjggw8+6D8g5u0MiXnrPwjU+pUCte4/+OCDDz748D/sVwrU+pXyP9zOkJi3M/Q/0EUXXXTR9T/EvJ0hMW/3P7gzJObtDPk/rKqqqqqq+j+cITFvZ0j8P5CYtzMk5v0/hA8++OCD/z88Q2LezpAAQLR+pUCtXwFALrrooosuAkCo9SsFav0CQCIxb2dIzANAmmyyySabBEAUqPUrBWoFQI7jOI7jOAZACB988MEHB0CAWr9SoNYHQPyVArV+pQhAdNFFF110CUDsDIl5O0MKQGhIzNsZEgtA4IMPPvjgC0Bcv1Kg1q8MQNT6lQK1fg1ATDbZZJNNDkDIcRzHcRwPQECtXylQ6w9AXHTRRRddEEAaEvN2hsQQQNavFKj1KxFAlE022WSTEUBQ61cK1PoRQAyJeTtDYhJAyiabbLLJEkCGxLydITETQERi3s6QmBNAAAAAAAAAFEA=\",\"dtype\":\"float64\",\"order\":\"little\",\"shape\":[100]},\"y\":{\"__ndarray__\":\"AAAAAAAAAAAAAAAAAAAAAAAAAAAAAAAAAAAAAAAAAAAAAAAAAAAAAAAAAAAAAAAAAAAAAAAAAAAAAAAAAAAAAAAAAAAAAAAAAAAAAAAAAAAAAAAAAAAAAAAAAAAAAAAAAAAAAAAAAAAAAAAAAAAAAAAAAAAAAAAAAAAAAAAAAAAAAAAAAAAAAAAAAAAAAAAAAAAAAAAAAAAAAAAAAAAAAAAAAAAAAAAAAAAAAAAAAAAAAAAAAAAAAAAAAAAAAAAAAAAAAAAAAAAAAAAAAAAAAAAAAAAAAAAAAAAAAAAAAAAAAAAAAAAAAAAAAAAAAAAAAAAAAAAAAAAAAAAAAAAAAAAAAAAAAAAAAAAAAAAAAAAAAAAAAAAAAAAAAAAAAAAAAAAAAAAAAAAAAAAAAAAAAAAAAAAAAAAAAAAAAAAAAAAAAAAAAAAAAAAAAAAAAAAAAAAAAAAAAAAAAAAAAAAAAAAAAAAAAAAAAAAAAAAAAAAAAAAAAAAAAAAAAAAAAAAAAAAAAAAAAAAAAAAAAAAAAABvZ0jM26k/YJNNNtlkwz+ApUCtXynQP1CBWr9SoNY/EF100UUX3T9wHMdxHMfhP1gK1PqVAuU/QPjggw8+6D8g5u0MiXnrPwjU+pUCte4/+OCDDz748D/sVwrU+pXyP9zOkJi3M/Q/0EUXXXTR9T/EvJ0hMW/3P7gzJObtDPk/rKqqqqqq+j+cITFvZ0j8P5CYtzMk5v0/hA8++OCD/z88Q2LezpAAQLR+pUCtXwFALrrooosuAkCo9SsFav0CQCIxb2dIzANAmmyyySabBEAUqPUrBWoFQI7jOI7jOAZACB988MEHB0CAWr9SoNYHQPyVArV+pQhAdNFFF110CUDsDIl5O0MKQGhIzNsZEgtA4IMPPvjgC0Bcv1Kg1q8MQNT6lQK1fg1ATDbZZJNNDkDIcRzHcRwPQECtXylQ6w9AXHTRRRddEEAaEvN2hsQQQNavFKj1KxFAlE022WSTEUBQ61cK1PoRQAyJeTtDYhJAyiabbLLJEkCGxLydITETQERi3s6QmBNAAAAAAAAAFEA=\",\"dtype\":\"float64\",\"order\":\"little\",\"shape\":[100]}},\"selected\":{\"id\":\"4240\"},\"selection_policy\":{\"id\":\"4239\"}},\"id\":\"4201\",\"type\":\"ColumnDataSource\"},{\"attributes\":{\"bottom_units\":\"screen\",\"coordinates\":null,\"fill_alpha\":0.5,\"fill_color\":\"lightgrey\",\"group\":null,\"left_units\":\"screen\",\"level\":\"overlay\",\"line_alpha\":1.0,\"line_color\":\"black\",\"line_dash\":[4,4],\"line_width\":2,\"right_units\":\"screen\",\"syncable\":false,\"top_units\":\"screen\"},\"id\":\"4154\",\"type\":\"BoxAnnotation\"},{\"attributes\":{\"coordinates\":null,\"group\":null,\"text\":\"Tanh\",\"text_color\":\"#E0E0E0\",\"text_font\":\"Josefin Sans\",\"text_font_size\":\"2.1em\"},\"id\":\"4130\",\"type\":\"Title\"},{\"attributes\":{\"line_alpha\":0.2,\"line_color\":\"orange\",\"line_width\":4,\"x\":{\"field\":\"x\"},\"y\":{\"field\":\"y\"}},\"id\":\"4165\",\"type\":\"Line\"},{\"attributes\":{},\"id\":\"4132\",\"type\":\"DataRange1d\"},{\"attributes\":{\"background_fill_alpha\":0.9,\"background_fill_color\":\"#0f0f0f\",\"below\":[{\"id\":\"4101\"}],\"border_fill_alpha\":0.8,\"border_fill_color\":\"#111111\",\"center\":[{\"id\":\"4104\"},{\"id\":\"4108\"}],\"height\":250,\"left\":[{\"id\":\"4105\"}],\"outline_line_alpha\":0.25,\"outline_line_color\":\"#E0E0E0\",\"outline_line_width\":3,\"renderers\":[{\"id\":\"4127\"}],\"title\":{\"id\":\"4091\"},\"toolbar\":{\"id\":\"4116\"},\"width\":400,\"x_range\":{\"id\":\"4093\"},\"x_scale\":{\"id\":\"4097\"},\"y_range\":{\"id\":\"4095\"},\"y_scale\":{\"id\":\"4099\"}},\"id\":\"4090\",\"subtype\":\"Figure\",\"type\":\"Plot\"},{\"attributes\":{\"tools\":[{\"id\":\"4109\"},{\"id\":\"4110\"},{\"id\":\"4111\"},{\"id\":\"4112\"},{\"id\":\"4113\"},{\"id\":\"4114\"}]},\"id\":\"4116\",\"type\":\"Toolbar\"},{\"attributes\":{},\"id\":\"4110\",\"type\":\"WheelZoomTool\"},{\"attributes\":{},\"id\":\"4109\",\"type\":\"PanTool\"},{\"attributes\":{\"axis\":{\"id\":\"4179\"},\"coordinates\":null,\"grid_line_alpha\":0.15,\"grid_line_color\":\"#E0E0E0\",\"group\":null,\"ticker\":null},\"id\":\"4182\",\"type\":\"Grid\"},{\"attributes\":{\"overlay\":{\"id\":\"4115\"}},\"id\":\"4111\",\"type\":\"BoxZoomTool\"},{\"attributes\":{},\"id\":\"4112\",\"type\":\"SaveTool\"},{\"attributes\":{\"axis_label_standoff\":10,\"axis_label_text_color\":\"#FFFFFF\",\"axis_label_text_font\":\"Josefin Sans\",\"axis_label_text_font_size\":\"1.9em\",\"axis_label_text_font_style\":\"bold\",\"axis_line_alpha\":0.4,\"axis_line_color\":\"#E0E0E0\",\"coordinates\":null,\"formatter\":{\"id\":\"4228\"},\"group\":null,\"major_label_policy\":{\"id\":\"4229\"},\"major_label_text_color\":\"#E0E0E0\",\"major_label_text_font\":\"Josefin Sans\",\"major_label_text_font_size\":\"1.15em\",\"major_tick_line_alpha\":0.4,\"major_tick_line_color\":\"#E0E0E0\",\"minor_tick_line_alpha\":0.4,\"minor_tick_line_color\":\"#E0E0E0\",\"ticker\":{\"id\":\"4184\"}},\"id\":\"4183\",\"type\":\"LinearAxis\"},{\"attributes\":{},\"id\":\"4113\",\"type\":\"ResetTool\"},{\"attributes\":{},\"id\":\"4222\",\"type\":\"BasicTickFormatter\"},{\"attributes\":{},\"id\":\"4175\",\"type\":\"LinearScale\"},{\"attributes\":{},\"id\":\"4141\",\"type\":\"BasicTicker\"},{\"attributes\":{},\"id\":\"4102\",\"type\":\"BasicTicker\"},{\"attributes\":{},\"id\":\"4138\",\"type\":\"LinearScale\"},{\"attributes\":{},\"id\":\"4223\",\"type\":\"AllLabels\"},{\"attributes\":{},\"id\":\"4149\",\"type\":\"WheelZoomTool\"},{\"attributes\":{},\"id\":\"4152\",\"type\":\"ResetTool\"},{\"attributes\":{\"line_color\":\"orange\",\"line_width\":4,\"x\":{\"field\":\"x\"},\"y\":{\"field\":\"y\"}},\"id\":\"4163\",\"type\":\"Line\"},{\"attributes\":{},\"id\":\"4225\",\"type\":\"BasicTickFormatter\"},{\"attributes\":{},\"id\":\"4136\",\"type\":\"LinearScale\"},{\"attributes\":{\"coordinates\":null,\"data_source\":{\"id\":\"4162\"},\"glyph\":{\"id\":\"4163\"},\"group\":null,\"hover_glyph\":null,\"muted_glyph\":{\"id\":\"4165\"},\"nonselection_glyph\":{\"id\":\"4164\"},\"view\":{\"id\":\"4167\"}},\"id\":\"4166\",\"type\":\"GlyphRenderer\"},{\"attributes\":{},\"id\":\"4226\",\"type\":\"AllLabels\"},{\"attributes\":{\"axis\":{\"id\":\"4140\"},\"coordinates\":null,\"grid_line_alpha\":0.15,\"grid_line_color\":\"#E0E0E0\",\"group\":null,\"ticker\":null},\"id\":\"4143\",\"type\":\"Grid\"},{\"attributes\":{},\"id\":\"4134\",\"type\":\"DataRange1d\"},{\"attributes\":{\"line_color\":\"red\",\"line_width\":4,\"x\":{\"field\":\"x\"},\"y\":{\"field\":\"y\"}},\"id\":\"4124\",\"type\":\"Line\"},{\"attributes\":{},\"id\":\"4177\",\"type\":\"LinearScale\"},{\"attributes\":{},\"id\":\"4236\",\"type\":\"UnionRenderers\"},{\"attributes\":{\"background_fill_alpha\":0.9,\"background_fill_color\":\"#0f0f0f\",\"below\":[{\"id\":\"4140\"}],\"border_fill_alpha\":0.8,\"border_fill_color\":\"#111111\",\"center\":[{\"id\":\"4143\"},{\"id\":\"4147\"}],\"height\":250,\"left\":[{\"id\":\"4144\"}],\"outline_line_alpha\":0.25,\"outline_line_color\":\"#E0E0E0\",\"outline_line_width\":3,\"renderers\":[{\"id\":\"4166\"}],\"title\":{\"id\":\"4130\"},\"toolbar\":{\"id\":\"4155\"},\"width\":400,\"x_range\":{\"id\":\"4132\"},\"x_scale\":{\"id\":\"4136\"},\"y_range\":{\"id\":\"4134\"},\"y_scale\":{\"id\":\"4138\"}},\"id\":\"4129\",\"subtype\":\"Figure\",\"type\":\"Plot\"},{\"attributes\":{\"source\":{\"id\":\"4123\"}},\"id\":\"4128\",\"type\":\"CDSView\"},{\"attributes\":{},\"id\":\"4237\",\"type\":\"Selection\"},{\"attributes\":{\"line_alpha\":0.2,\"line_color\":\"red\",\"line_width\":4,\"x\":{\"field\":\"x\"},\"y\":{\"field\":\"y\"}},\"id\":\"4126\",\"type\":\"Line\"},{\"attributes\":{\"line_color\":\"yellow\",\"line_width\":4,\"x\":{\"field\":\"x\"},\"y\":{\"field\":\"y\"}},\"id\":\"4202\",\"type\":\"Line\"},{\"attributes\":{\"coordinates\":null,\"group\":null,\"text\":\"ReLU\",\"text_color\":\"#E0E0E0\",\"text_font\":\"Josefin Sans\",\"text_font_size\":\"2.1em\"},\"id\":\"4169\",\"type\":\"Title\"},{\"attributes\":{\"data\":{\"x\":{\"__ndarray__\":\"AAAAAAAAFMBDYt7OkJgTwIbEvJ0hMRPAyiabbLLJEsANiXk7Q2ISwFDrVwrU+hHAk0022WSTEcDXrxSo9SsRwBoS83aGxBDAXXTRRRddEMBArV8pUOsPwMdxHMdxHA/ATjbZZJNNDsDU+pUCtX4NwFq/UqDWrwzA4YMPPvjgC8BoSMzbGRILwO4MiXk7QwrAdNFFF110CcD7lQK1fqUIwIFav1Kg1gfACB988MEHB8CO4ziO4zgGwBWo9SsFagXAm2yyySabBMAiMW9nSMwDwKj1KwVq/QLAL7rooosuAsC1fqVArV8BwDxDYt7OkADAhA8++OCD/7+SmLczJOb9v54hMW9nSPy/qqqqqqqq+r+4MyTm7Qz5v8S8nSExb/e/0kUXXXTR9b/ezpCYtzP0v+xXCtT6lfK/+OCDDz748L8I1PqVArXuvyjm7QyJeeu/QPjggw8+6L9YCtT6lQLlv3Acx3Ecx+G/IF100UUX3b9QgVq/UqDWv4ClQK1fKdC/YJNNNtlkw78Ab2dIzNupvwBvZ0jM26k/YJNNNtlkwz+ApUCtXynQP1CBWr9SoNY/EF100UUX3T9wHMdxHMfhP1gK1PqVAuU/QPjggw8+6D8g5u0MiXnrPwjU+pUCte4/+OCDDz748D/sVwrU+pXyP9zOkJi3M/Q/0EUXXXTR9T/EvJ0hMW/3P7gzJObtDPk/rKqqqqqq+j+cITFvZ0j8P5CYtzMk5v0/hA8++OCD/z88Q2LezpAAQLR+pUCtXwFALrrooosuAkCo9SsFav0CQCIxb2dIzANAmmyyySabBEAUqPUrBWoFQI7jOI7jOAZACB988MEHB0CAWr9SoNYHQPyVArV+pQhAdNFFF110CUDsDIl5O0MKQGhIzNsZEgtA4IMPPvjgC0Bcv1Kg1q8MQNT6lQK1fg1ATDbZZJNNDkDIcRzHcRwPQECtXylQ6w9AXHTRRRddEEAaEvN2hsQQQNavFKj1KxFAlE022WSTEUBQ61cK1PoRQAyJeTtDYhJAyiabbLLJEkCGxLydITETQERi3s6QmBNAAAAAAAAAFEA=\",\"dtype\":\"float64\",\"order\":\"little\",\"shape\":[100]},\"y\":{\"__ndarray__\":\"Ed9olkH/779xHDX2Fv/vv2PTXMvi/u+/tykv86L+779nyqrQVP7vv5RqJTH1/e+/ANXYKoD9778+DPrz8Pzvv+R3srBB/O+/seP1NWv7778B7b6+ZPrvvzRIspAj+e+/GFCDjJr377/6GqylufXvv5SfGjxt8++/g1tUUZ3w7782/jqRLO3vvwpKByX36O+/kLQ0RdHj778FKfN8hd3vv2dPQ4/S1e+/GGkq62jM77+jbX6Z58Dvv1i8zYvYsu+/1CEZMayh779DqukytIzvv2zAbjwdc++/qVLVrudT779zlYUr3y3vv8N/uOiQ/+6/fDIb2kDH7r+tmFja3YLuv0cK+Tj1L+6/zv7GYKbL7b/XD/S8l1LtvzWhkZzuwOy/ljVLlkwS7L8lhcTR1UHrvy50/oZESuq/sMhCwQ4m6b89c/imo8/nv3hPlK3EQea/JYsBmPx35L/eJkVXMW/iv9AYbbpGJuC/sE3YDH49279KKI4ofLrVvzdYpvc6p8+/IIThpDM/w7+rNaLaLNapv6s1otos1qk/IIThpDM/wz83WKb3OqfPP0oojih8utU/o03YDH492z/QGG26RibgP94mRVcxb+I/JYsBmPx35D9zT5StxEHmPz1z+Kajz+c/sMhCwQ4m6T8udP6GRErqPySFxNHVQes/lTVLlkwS7D81oZGc7sDsP9cP9LyXUu0/z/7GYKbL7T9GCvk49S/uP62YWNrdgu4/fDIb2kDH7j/Df7jokP/uP3OVhSvfLe8/qVLVrudT7z9swG48HXPvP0Oq6TK0jO8/1CEZMayh7z9YvM2L2LLvP6NtfpnnwO8/GGkq62jM7z9nT0OP0tXvPwUp83yF3e8/kLQ0RdHj7z8KSgcl9+jvPzb+OpEs7e8/g1tUUZ3w7z+Unxo8bfPvP/oarKW59e8/GFCDjJr37z80SLKQI/nvPwHtvr5k+u8/seP1NWv77z/kd7KwQfzvPz4M+vPw/O8/ANXYKoD97z+UaiUx9f3vP2fKqtBU/u8/tykv86L+7z9j01zL4v7vP3EcNfYW/+8/Ed9olkH/7z8=\",\"dtype\":\"float64\",\"order\":\"little\",\"shape\":[100]}},\"selected\":{\"id\":\"4237\"},\"selection_policy\":{\"id\":\"4236\"}},\"id\":\"4162\",\"type\":\"ColumnDataSource\"},{\"attributes\":{},\"id\":\"4151\",\"type\":\"SaveTool\"},{\"attributes\":{},\"id\":\"4184\",\"type\":\"BasicTicker\"},{\"attributes\":{\"axis\":{\"id\":\"4183\"},\"coordinates\":null,\"dimension\":1,\"grid_line_alpha\":0.15,\"grid_line_color\":\"#E0E0E0\",\"group\":null,\"ticker\":null},\"id\":\"4186\",\"type\":\"Grid\"},{\"attributes\":{},\"id\":\"4106\",\"type\":\"BasicTicker\"},{\"attributes\":{\"bottom_units\":\"screen\",\"coordinates\":null,\"fill_alpha\":0.5,\"fill_color\":\"lightgrey\",\"group\":null,\"left_units\":\"screen\",\"level\":\"overlay\",\"line_alpha\":1.0,\"line_color\":\"black\",\"line_dash\":[4,4],\"line_width\":2,\"right_units\":\"screen\",\"syncable\":false,\"top_units\":\"screen\"},\"id\":\"4115\",\"type\":\"BoxAnnotation\"},{\"attributes\":{\"tools\":[{\"id\":\"4148\"},{\"id\":\"4149\"},{\"id\":\"4150\"},{\"id\":\"4151\"},{\"id\":\"4152\"},{\"id\":\"4153\"}]},\"id\":\"4155\",\"type\":\"Toolbar\"},{\"attributes\":{\"background_fill_alpha\":0.9,\"background_fill_color\":\"#0f0f0f\",\"below\":[{\"id\":\"4179\"}],\"border_fill_alpha\":0.8,\"border_fill_color\":\"#111111\",\"center\":[{\"id\":\"4182\"},{\"id\":\"4186\"}],\"height\":250,\"left\":[{\"id\":\"4183\"}],\"outline_line_alpha\":0.25,\"outline_line_color\":\"#E0E0E0\",\"outline_line_width\":3,\"renderers\":[{\"id\":\"4205\"}],\"title\":{\"id\":\"4169\"},\"toolbar\":{\"id\":\"4194\"},\"width\":400,\"x_range\":{\"id\":\"4171\"},\"x_scale\":{\"id\":\"4175\"},\"y_range\":{\"id\":\"4173\"},\"y_scale\":{\"id\":\"4177\"}},\"id\":\"4168\",\"subtype\":\"Figure\",\"type\":\"Plot\"},{\"attributes\":{\"axis\":{\"id\":\"4105\"},\"coordinates\":null,\"dimension\":1,\"grid_line_alpha\":0.15,\"grid_line_color\":\"#E0E0E0\",\"group\":null,\"ticker\":null},\"id\":\"4108\",\"type\":\"Grid\"},{\"attributes\":{},\"id\":\"4188\",\"type\":\"WheelZoomTool\"},{\"attributes\":{\"source\":{\"id\":\"4162\"}},\"id\":\"4167\",\"type\":\"CDSView\"},{\"attributes\":{\"axis_label_standoff\":10,\"axis_label_text_color\":\"#FFFFFF\",\"axis_label_text_font\":\"Josefin Sans\",\"axis_label_text_font_size\":\"1.9em\",\"axis_label_text_font_style\":\"bold\",\"axis_line_alpha\":0.4,\"axis_line_color\":\"#E0E0E0\",\"coordinates\":null,\"formatter\":{\"id\":\"4225\"},\"group\":null,\"major_label_policy\":{\"id\":\"4226\"},\"major_label_text_color\":\"#E0E0E0\",\"major_label_text_font\":\"Josefin Sans\",\"major_label_text_font_size\":\"1.15em\",\"major_tick_line_alpha\":0.4,\"major_tick_line_color\":\"#E0E0E0\",\"minor_tick_line_alpha\":0.4,\"minor_tick_line_color\":\"#E0E0E0\",\"ticker\":{\"id\":\"4141\"}},\"id\":\"4140\",\"type\":\"LinearAxis\"},{\"attributes\":{\"tools\":[{\"id\":\"4187\"},{\"id\":\"4188\"},{\"id\":\"4189\"},{\"id\":\"4190\"},{\"id\":\"4191\"},{\"id\":\"4192\"}]},\"id\":\"4194\",\"type\":\"Toolbar\"},{\"attributes\":{},\"id\":\"4099\",\"type\":\"LinearScale\"},{\"attributes\":{\"axis_label_standoff\":10,\"axis_label_text_color\":\"#FFFFFF\",\"axis_label_text_font\":\"Josefin Sans\",\"axis_label_text_font_size\":\"1.9em\",\"axis_label_text_font_style\":\"bold\",\"axis_line_alpha\":0.4,\"axis_line_color\":\"#E0E0E0\",\"coordinates\":null,\"formatter\":{\"id\":\"4219\"},\"group\":null,\"major_label_policy\":{\"id\":\"4220\"},\"major_label_text_color\":\"#E0E0E0\",\"major_label_text_font\":\"Josefin Sans\",\"major_label_text_font_size\":\"1.15em\",\"major_tick_line_alpha\":0.4,\"major_tick_line_color\":\"#E0E0E0\",\"minor_tick_line_alpha\":0.4,\"minor_tick_line_color\":\"#E0E0E0\",\"ticker\":{\"id\":\"4102\"}},\"id\":\"4101\",\"type\":\"LinearAxis\"},{\"attributes\":{\"axis_label_standoff\":10,\"axis_label_text_color\":\"#FFFFFF\",\"axis_label_text_font\":\"Josefin Sans\",\"axis_label_text_font_size\":\"1.9em\",\"axis_label_text_font_style\":\"bold\",\"axis_line_alpha\":0.4,\"axis_line_color\":\"#E0E0E0\",\"coordinates\":null,\"formatter\":{\"id\":\"4222\"},\"group\":null,\"major_label_policy\":{\"id\":\"4223\"},\"major_label_text_color\":\"#E0E0E0\",\"major_label_text_font\":\"Josefin Sans\",\"major_label_text_font_size\":\"1.15em\",\"major_tick_line_alpha\":0.4,\"major_tick_line_color\":\"#E0E0E0\",\"minor_tick_line_alpha\":0.4,\"minor_tick_line_color\":\"#E0E0E0\",\"ticker\":{\"id\":\"4145\"}},\"id\":\"4144\",\"type\":\"LinearAxis\"},{\"attributes\":{\"client_comm_id\":\"400ac8e23f2e4acfb1875b46ea760e99\",\"comm_id\":\"b3a2ab33f97f433e8825b36c625b8d7b\",\"plot_id\":\"4210\"},\"id\":\"4363\",\"type\":\"panel.models.comm_manager.CommManager\"},{\"attributes\":{},\"id\":\"4114\",\"type\":\"HelpTool\"},{\"attributes\":{\"coordinates\":null,\"data_source\":{\"id\":\"4201\"},\"glyph\":{\"id\":\"4202\"},\"group\":null,\"hover_glyph\":null,\"muted_glyph\":{\"id\":\"4204\"},\"nonselection_glyph\":{\"id\":\"4203\"},\"view\":{\"id\":\"4206\"}},\"id\":\"4205\",\"type\":\"GlyphRenderer\"},{\"attributes\":{\"coordinates\":null,\"data_source\":{\"id\":\"4123\"},\"glyph\":{\"id\":\"4124\"},\"group\":null,\"hover_glyph\":null,\"muted_glyph\":{\"id\":\"4126\"},\"nonselection_glyph\":{\"id\":\"4125\"},\"view\":{\"id\":\"4128\"}},\"id\":\"4127\",\"type\":\"GlyphRenderer\"},{\"attributes\":{},\"id\":\"4148\",\"type\":\"PanTool\"},{\"attributes\":{\"margin\":[5,5,5,5],\"name\":\"HSpacer00186\",\"sizing_mode\":\"stretch_width\"},\"id\":\"4211\",\"type\":\"Spacer\"},{\"attributes\":{\"axis\":{\"id\":\"4101\"},\"coordinates\":null,\"grid_line_alpha\":0.15,\"grid_line_color\":\"#E0E0E0\",\"group\":null,\"ticker\":null},\"id\":\"4104\",\"type\":\"Grid\"},{\"attributes\":{},\"id\":\"4173\",\"type\":\"DataRange1d\"}],\"root_ids\":[\"4210\",\"4363\"]},\"title\":\"Bokeh Application\",\"version\":\"2.4.3\"}};\n",
       "    var render_items = [{\"docid\":\"c6b166bf-d91b-4d39-bc41-f9de9c5a081a\",\"root_ids\":[\"4210\"],\"roots\":{\"4210\":\"9d0d059d-3d72-4cc5-aadf-97f393bc9b0b\"}}];\n",
       "    root.Bokeh.embed.embed_items_notebook(docs_json, render_items);\n",
       "    for (const render_item of render_items) {\n",
       "      for (const root_id of render_item.root_ids) {\n",
       "\tconst id_el = document.getElementById(root_id)\n",
       "\tif (id_el.children.length && (id_el.children[0].className === 'bk-root')) {\n",
       "\t  const root_el = id_el.children[0]\n",
       "\t  root_el.id = root_el.id + '-rendered'\n",
       "\t}\n",
       "      }\n",
       "    }\n",
       "  }\n",
       "  if (root.Bokeh !== undefined && root.Bokeh.Panel !== undefined) {\n",
       "    embed_document(root);\n",
       "  } else {\n",
       "    var attempts = 0;\n",
       "    var timer = setInterval(function(root) {\n",
       "      if (root.Bokeh !== undefined && root.Bokeh.Panel !== undefined) {\n",
       "        clearInterval(timer);\n",
       "        embed_document(root);\n",
       "      } else if (document.readyState == \"complete\") {\n",
       "        attempts++;\n",
       "        if (attempts > 200) {\n",
       "          clearInterval(timer);\n",
       "          console.log(\"Bokeh: ERROR: Unable to run BokehJS code because BokehJS library is missing\");\n",
       "        }\n",
       "      }\n",
       "    }, 25, root)\n",
       "  }\n",
       "})(window);</script>"
      ],
      "text/plain": [
       "Row\n",
       "    [0] HSpacer()\n",
       "    [1] Bokeh(Column)\n",
       "    [2] HSpacer()"
      ]
     },
     "execution_count": 23,
     "metadata": {
      "application/vnd.holoviews_exec.v0+json": {
       "id": "4210"
      }
     },
     "output_type": "execute_result"
    }
   ],
   "source": [
    "from bokeh.models import Div\n",
    "from bokeh.layouts import column, row\n",
    "from cml.plot import cml_figure\n",
    "# Functions to\n",
    "funcs = [('Sigmoid',sigmoid,'red'), ('Tanh',tanh,'orange'), ('ReLU',relu,'yellow')]\n",
    "# Generating the x axis\n",
    "x = np.linspace(-5, 5, 100)\n",
    "plots = []\n",
    "for (name, func, color) in funcs:\n",
    "    cur_plot = cml_figure(plot_width=400, plot_height=250, title=name)\n",
    "    cur_plot.line(x, func(x), color=color, line_width=4)\n",
    "    plots.append(cur_plot)\n",
    "plot = center_plot(column(Div(text = \"Different activation functions\", style={'font-size': '250%'}), row(*plots)))\n",
    "plot"
   ]
  },
  {
   "cell_type": "markdown",
   "metadata": {},
   "source": [
    "## Coding the whole network from scratch\n",
    "\n",
    "You should now have all the tools necessary to apply neural networks from scratch to a more complex problem. In the following exercise, we simply removed any guideline code, and you need to code all the procedure for training a NN and **apply it to audio data**. You will use the spectral features discussed in the previous exercise as an input.\n",
    "\n",
    "***\n",
    "\n",
    "<div class=\"alert alert-success\" markdown=\"1\" style=\"color:white; background-color: #192841; border-color: #779ecb\">\n",
    "\n",
    "> ### Going further **(optional exercise) **\n",
    "\n",
    ">  1. Based on the previous neural network, upgrade the code to a 3-layer neural network\n",
    ">  2. Implement the *softmax regression* on top of your 3-layer network\n",
    ">  3. Use the provided code to perform classification on a pre-defined set of features\n",
    ">  4. As previously, change the set of features to assess their different accuracies\n",
    ">  5. Evaluate the neural network accuracy for all features combinations\n",
    ">  6. What happens if the learning rate is too large ? What is this phenomenon ?\n",
    ">  7. Perform a more advanced visualization of the learning process.\n",
    "  \n",
    "\n",
    "</div>\n",
    "\n",
    "***"
   ]
  },
  {
   "cell_type": "code",
   "execution_count": null,
   "metadata": {},
   "outputs": [],
   "source": [
    "\n",
    "######################\n",
    "# YOUR CODE GOES HERE\n",
    "######################\n"
   ]
  },
  {
   "cell_type": "markdown",
   "metadata": {},
   "source": [
    "# Using `Pytorch` to enjoy life\n",
    "\n",
    "Up to now, we have been writing every operations by ourselves (in order to better understand the mathematics behind NN). However, there exists of course some simplifying libraries that provide large simplifications to this question.\n",
    "\n",
    "One of the most powerful and complete library of this sort is `Pytorch`, which has been developed for several years (even prior to the recent boom of deep learning). `Pytorch` provides a large set of pre-coded layers, but also **computational graphs** and **autograd**, which are very powerful paradigms allowing to define complex operators and automatically taking derivatives.\n",
    "\n",
    "## An (extremely) fast and dirty introduction to `Pytorch`\n",
    "\n",
    "PyTorch is a popular open-source deep learning framework based on the Torch library. It is primarily developed by Facebook AI research team, and it provides a simple and efficient way to build deep learning models. In this extremely short crash course, we will cover the basics of PyTorch, including:\n",
    "\n",
    "* Tensors\n",
    "* Automatic differentiation\n",
    "* Neural networks\n",
    "* Training a neural network on a dataset\n",
    "\n",
    "For a complete tutorial on PyTorch, please check out the [official PyTorch documentation](https://pytorch.org/tutorials/). This tutorial covers a wide range of topics, including the basics of PyTorch, building and training neural networks, working with data and dataloaders, and deploying models to production."
   ]
  },
  {
   "cell_type": "markdown",
   "metadata": {},
   "source": [
    "### Tensors\n",
    "At its core, PyTorch is all about tensors. A tensor is a generalization of vectors and matrices to an arbitrary number of dimensions. A scalar is a 0-dimensional tensor, a vector is a 1-dimensional tensor, and a matrix is a 2-dimensional tensor.\n",
    "\n",
    "#### Creating Tensors\n",
    "We can create a PyTorch tensor from a Python list or a NumPy array using the `torch.tensor()` function, but also tensors of a specific size and/or with all zeros or all ones using the `torch.zeros()` and `torch.ones()` functions"
   ]
  },
  {
   "cell_type": "code",
   "execution_count": 37,
   "metadata": {},
   "outputs": [
    {
     "name": "stdout",
     "output_type": "stream",
     "text": [
      "tensor([1, 2, 3, 4])\n",
      "tensor([[1, 2],\n",
      "        [3, 4]])\n",
      "tensor([[0., 0., 0.],\n",
      "        [0., 0., 0.]])\n",
      "tensor([[1., 1.],\n",
      "        [1., 1.],\n",
      "        [1., 1.]])\n"
     ]
    }
   ],
   "source": [
    "import torch\n",
    "import numpy as np\n",
    "# create a tensor from a Python list\n",
    "x = torch.tensor([1, 2, 3, 4])\n",
    "print(x)\n",
    "# create a tensor from a NumPy array\n",
    "y = torch.tensor(np.array([[1, 2], [3, 4]]))\n",
    "print(y)\n",
    "# create a 2x3 tensor of zeros\n",
    "z = torch.zeros((2, 3))\n",
    "print(z)\n",
    "# create a 3x2 tensor of ones\n",
    "w = torch.ones((3, 2))\n",
    "print(w)"
   ]
  },
  {
   "cell_type": "markdown",
   "metadata": {},
   "source": [
    "#### Tensor operations\n",
    "\n",
    "PyTorch tensors support a wide range of operations, including arithmetic operations like addition, subtraction, multiplication, and division, as well as more advanced operations like matrix multiplication, element-wise multiplication, and concatenation."
   ]
  },
  {
   "cell_type": "code",
   "execution_count": 39,
   "metadata": {},
   "outputs": [
    {
     "name": "stdout",
     "output_type": "stream",
     "text": [
      "tensor([ 6,  8, 10, 12])\n",
      "tensor([ 5, 12, 21, 32])\n",
      "tensor([[19, 22],\n",
      "        [43, 50]])\n",
      "tensor([[1, 2, 5, 6],\n",
      "        [3, 4, 7, 8]])\n"
     ]
    }
   ],
   "source": [
    "# create two tensors\n",
    "x = torch.tensor([1, 2, 3, 4])\n",
    "y = torch.tensor([5, 6, 7, 8])\n",
    "# add the two tensors\n",
    "z = x + y\n",
    "print(z)\n",
    "# element-wise multiplication\n",
    "w = x * y\n",
    "print(w)\n",
    "# matrix multiplication\n",
    "a = torch.tensor([[1, 2], [3, 4]])\n",
    "b = torch.tensor([[5, 6], [7, 8]])\n",
    "c = torch.matmul(a, b)\n",
    "print(c)\n",
    "# concatenation\n",
    "d = torch.cat((a, b), dim=1)\n",
    "print(d)"
   ]
  },
  {
   "cell_type": "markdown",
   "metadata": {},
   "source": [
    "### Automatic differentiation\n",
    "\n",
    "The core of PyTorch is the autograd package. It provides automatic differentiation for all operations on Tensors.\n",
    "\n",
    "PyTorch's autograd package provides automatic differentiation for all operations on Tensors. It is a define-by-run framework, which means that your backpropagation is defined by how your code is run, and that every single iteration can be different.\n",
    "\n",
    "To compute gradients, the `requires_grad` property of Tensors needs to `True` (which is the case by default). This tells PyTorch to track all operations on the Tensor. You can then call `.backward()` on a Tensor to compute the gradients with respect to that Tensor."
   ]
  },
  {
   "cell_type": "code",
   "execution_count": 40,
   "metadata": {},
   "outputs": [
    {
     "name": "stdout",
     "output_type": "stream",
     "text": [
      "tensor(11.)\n"
     ]
    }
   ],
   "source": [
    "import torch\n",
    "\n",
    "x = torch.tensor(2.0, requires_grad=True)\n",
    "y = 2*x**2 + 3*x - 1\n",
    "y.backward()\n",
    "\n",
    "print(x.grad)"
   ]
  },
  {
   "cell_type": "markdown",
   "metadata": {},
   "source": [
    "## Defining our network\n",
    "\n",
    "When building neural networks we frequently think of arranging the computation into layers, some of which have learnable parameters which will be optimized during learning. In `PyTorch`, the `nn` package provides higher-level abstractions over raw computational graphs that are useful for building neural networks. The `nn` package defines a set of `Modules`, which are roughly equivalent to neural network layers. A `Module` receives input `Tensors` and computes output `Tensors`, but may also hold internal state such as `Tensors` containing learnable parameters. The nn package also defines a set of useful loss functions that are commonly used when training neural networks.\n",
    "\n",
    "In the following example, we use the `nn` package to show how easy it is to instantiate our previous three-layers network"
   ]
  },
  {
   "cell_type": "code",
   "execution_count": 30,
   "metadata": {},
   "outputs": [],
   "source": [
    "import torch\n",
    "# Define the input dimensions\n",
    "in_size = 1000\n",
    "# Number of neurons in a layer\n",
    "hidden_size = 100\n",
    "# Output (target) dimension\n",
    "output_size = 10\n",
    "# Use the nn package to define our model and loss function.\n",
    "model = torch.nn.Sequential(\n",
    "    torch.nn.Linear(in_size, hidden_size),\n",
    "    torch.nn.Sigmoid(),\n",
    "    torch.nn.Linear(hidden_size, hidden_size),\n",
    "    torch.nn.Tanh(),\n",
    "    torch.nn.Linear(hidden_size, output_size),\n",
    "    torch.nn.Softmax(dim=1)\n",
    ")"
   ]
  },
  {
   "cell_type": "markdown",
   "metadata": {},
   "source": [
    "### Optimizing the network\n",
    "\n",
    "Up to this point we have updated the weights of our models by manually performing the gradient descent algorithm (changing the parameters vectors). Although this is not a huge burden for simple optimization algorithms like stochastic gradient descent, in practice we often train neural networks using more sophisticated optimizers like AdaGrad, RMSProp or Adam (that we will see later in this course)\n",
    "\n",
    "The `optim` package in PyTorch abstracts the idea of an optimization algorithm and provides implementations of commonly used optimization algorithms, and greatly simplfies the training loop associated with training a neural network.\n",
    "\n",
    "For the sake of presentation we will use random inputs $\\mathbf{x}$ that should be matched with random outputs $\\mathbf{y}$"
   ]
  },
  {
   "cell_type": "code",
   "execution_count": 31,
   "metadata": {},
   "outputs": [],
   "source": [
    "batch_size = 64\n",
    "# Create random Tensors to hold inputs and outputs\n",
    "x = torch.randn(batch_size, in_size)\n",
    "y = torch.randn(batch_size, output_size)"
   ]
  },
  {
   "cell_type": "markdown",
   "metadata": {},
   "source": [
    "In the following example we optimize the model using the Adam algorithm provided by the `optim` package, based on a `MSE` loss."
   ]
  },
  {
   "cell_type": "code",
   "execution_count": 32,
   "metadata": {},
   "outputs": [
    {
     "name": "stdout",
     "output_type": "stream",
     "text": [
      "tensor(641.4479, grad_fn=<MseLossBackward0>)\n"
     ]
    }
   ],
   "source": [
    "# Learning rate\n",
    "learning_rate = 1e-4\n",
    "# Loss function that we will use\n",
    "loss_fn = torch.nn.MSELoss(reduction='sum')\n",
    "# Optimizer to fit the weights of the network\n",
    "optimizer = torch.optim.SGD(model.parameters(), lr=learning_rate)\n",
    "for t in range(500):\n",
    "    # Forward pass: compute predicted y by passing x to the model.\n",
    "    y_pred = model(x)\n",
    "    # Compute the loss.\n",
    "    loss = loss_fn(y_pred, y)\n",
    "    # Before the backward pass, zero all of the network gradients\n",
    "    optimizer.zero_grad()\n",
    "    # Backward pass: compute gradient of the loss with respect to parameters\n",
    "    loss.backward()\n",
    "    # Calling the step function to update the parameters\n",
    "    optimizer.step()\n",
    "print(loss)\n",
    "    "
   ]
  },
  {
   "cell_type": "markdown",
   "metadata": {},
   "source": [
    "## Exercise 2 - Pytorch to classify audio\n",
    "\n",
    "Now that we know the main components of `Pytorch` to define and optimize networks, your assignement is to define a complete classification problem from audio data, by relying on this toolbox\n",
    "\n",
    "***\n",
    "\n",
    "<div class=\"alert alert-success\" markdown=\"1\" style=\"color:white; background-color: #013220; border-color: #03C03C\">\n",
    "\n",
    "> ### Question 1.1 - Model and definition\n",
    "\n",
    ">   1. Use `Pytorch` to define a model for audio classification\n",
    ">   2. Import the audio features dataset and check that your model produces an output\n",
    "\n",
    "</div>\n",
    "\n",
    "***\n"
   ]
  },
  {
   "cell_type": "code",
   "execution_count": null,
   "metadata": {},
   "outputs": [],
   "source": [
    "\n",
    "######################\n",
    "# YOUR CODE GOES HERE\n",
    "######################\n"
   ]
  },
  {
   "cell_type": "markdown",
   "metadata": {},
   "source": [
    "\n",
    "***\n",
    "\n",
    "<div class=\"alert alert-success\" markdown=\"1\" style=\"color:white; background-color: #013220; border-color: #03C03C\">\n",
    "\n",
    "> ### Question 1.2 - Training the model\n",
    "\n",
    ">   3. Write the optimization loop (think carefully about the _loss function_\n",
    ">   4. As previously, change the set of features to assess their different accuracies\n",
    ">   5. (Optional) Think of how you could use more complex features (time series, audio, STFT) to classify your data\n",
    "\n",
    "</div>\n",
    "\n",
    "***"
   ]
  },
  {
   "cell_type": "code",
   "execution_count": 33,
   "metadata": {},
   "outputs": [],
   "source": [
    "\n",
    "######################\n",
    "# YOUR CODE GOES HERE\n",
    "######################\n"
   ]
  }
 ],
 "metadata": {
  "kernelspec": {
   "display_name": "Python 3 (ipykernel)",
   "language": "python",
   "name": "python3"
  },
  "language_info": {
   "codemirror_mode": {
    "name": "ipython",
    "version": 3
   },
   "file_extension": ".py",
   "mimetype": "text/x-python",
   "name": "python",
   "nbconvert_exporter": "python",
   "pygments_lexer": "ipython3",
   "version": "3.10.0"
  }
 },
 "nbformat": 4,
 "nbformat_minor": 4
}
